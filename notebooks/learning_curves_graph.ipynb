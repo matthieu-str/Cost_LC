{
 "cells": [
  {
   "cell_type": "markdown",
   "id": "6220812c",
   "metadata": {},
   "source": [
    "# Summary graph for learning curves "
   ]
  },
  {
   "cell_type": "code",
   "execution_count": 30,
   "id": "47e032b5",
   "metadata": {},
   "outputs": [],
   "source": [
    "# Import libraries\n",
    "import numpy as np\n",
    "import pandas as pd\n",
    "import matplotlib.pyplot as plt \n",
    "import seaborn as sns \n",
    "import plotly.express as px\n",
    "import plotly.graph_objects as go"
   ]
  },
  {
   "cell_type": "code",
   "execution_count": 31,
   "id": "39a4dfb0",
   "metadata": {},
   "outputs": [],
   "source": [
    "# Loading datasets\n",
    "future_cost_data = pd.read_csv('data/Cost_data_summary.csv', names = ['tech', 'year', 'cost_ratio', 'c_inv','installed_cap','annual_prod'], header=0)\n",
    "hist_cost_data = pd.read_csv('data/Historical_data_summary.csv', names = ['tech', 'year', 'c_inv','installed_cap'], header=0)\n",
    "hist_cost_electrolysis = pd.read_csv('data/Historical_electrolysis.csv', names = ['tech', 'year', 'c_inv','installed_cap','annual_prod'], header=0)\n",
    "hist_cost_carbon_capture = pd.read_csv('data/Historical_carbon_capture.csv', names = ['tech', 'year', 'c_inv','installed_cap'], header=0)\n",
    "hist_cost_gshp = pd.read_csv('data/Historical_gshp.csv', names = ['tech', 'year', 'c_inv','installed_cap'], header=0)"
   ]
  },
  {
   "cell_type": "code",
   "execution_count": 32,
   "id": "3e66c593",
   "metadata": {},
   "outputs": [
    {
     "data": {
      "text/html": [
       "<div>\n",
       "<style scoped>\n",
       "    .dataframe tbody tr th:only-of-type {\n",
       "        vertical-align: middle;\n",
       "    }\n",
       "\n",
       "    .dataframe tbody tr th {\n",
       "        vertical-align: top;\n",
       "    }\n",
       "\n",
       "    .dataframe thead th {\n",
       "        text-align: right;\n",
       "    }\n",
       "</style>\n",
       "<table border=\"1\" class=\"dataframe\">\n",
       "  <thead>\n",
       "    <tr style=\"text-align: right;\">\n",
       "      <th></th>\n",
       "      <th>tech</th>\n",
       "      <th>year</th>\n",
       "      <th>cost_ratio</th>\n",
       "      <th>c_inv</th>\n",
       "      <th>installed_cap</th>\n",
       "      <th>annual_prod</th>\n",
       "    </tr>\n",
       "  </thead>\n",
       "  <tbody>\n",
       "    <tr>\n",
       "      <th>0</th>\n",
       "      <td>PV</td>\n",
       "      <td>2018</td>\n",
       "      <td>1.000</td>\n",
       "      <td>2704.85</td>\n",
       "      <td>58.00</td>\n",
       "      <td>NaN</td>\n",
       "    </tr>\n",
       "    <tr>\n",
       "      <th>1</th>\n",
       "      <td>PV</td>\n",
       "      <td>2019</td>\n",
       "      <td>0.927</td>\n",
       "      <td>2506.80</td>\n",
       "      <td>74.00</td>\n",
       "      <td>NaN</td>\n",
       "    </tr>\n",
       "    <tr>\n",
       "      <th>2</th>\n",
       "      <td>PV</td>\n",
       "      <td>2020</td>\n",
       "      <td>0.903</td>\n",
       "      <td>2442.72</td>\n",
       "      <td>93.00</td>\n",
       "      <td>NaN</td>\n",
       "    </tr>\n",
       "    <tr>\n",
       "      <th>3</th>\n",
       "      <td>PV</td>\n",
       "      <td>2021</td>\n",
       "      <td>0.692</td>\n",
       "      <td>1872.68</td>\n",
       "      <td>150.67</td>\n",
       "      <td>NaN</td>\n",
       "    </tr>\n",
       "    <tr>\n",
       "      <th>4</th>\n",
       "      <td>PV</td>\n",
       "      <td>2022</td>\n",
       "      <td>0.606</td>\n",
       "      <td>1639.53</td>\n",
       "      <td>208.35</td>\n",
       "      <td>NaN</td>\n",
       "    </tr>\n",
       "    <tr>\n",
       "      <th>...</th>\n",
       "      <td>...</td>\n",
       "      <td>...</td>\n",
       "      <td>...</td>\n",
       "      <td>...</td>\n",
       "      <td>...</td>\n",
       "      <td>...</td>\n",
       "    </tr>\n",
       "    <tr>\n",
       "      <th>448</th>\n",
       "      <td>WIND_OFFSHORE</td>\n",
       "      <td>2046</td>\n",
       "      <td>0.270</td>\n",
       "      <td>1213.00</td>\n",
       "      <td>1164.15</td>\n",
       "      <td>NaN</td>\n",
       "    </tr>\n",
       "    <tr>\n",
       "      <th>449</th>\n",
       "      <td>WIND_OFFSHORE</td>\n",
       "      <td>2047</td>\n",
       "      <td>0.266</td>\n",
       "      <td>1198.00</td>\n",
       "      <td>1214.98</td>\n",
       "      <td>NaN</td>\n",
       "    </tr>\n",
       "    <tr>\n",
       "      <th>450</th>\n",
       "      <td>WIND_OFFSHORE</td>\n",
       "      <td>2048</td>\n",
       "      <td>0.263</td>\n",
       "      <td>1183.00</td>\n",
       "      <td>1265.81</td>\n",
       "      <td>NaN</td>\n",
       "    </tr>\n",
       "    <tr>\n",
       "      <th>451</th>\n",
       "      <td>WIND_OFFSHORE</td>\n",
       "      <td>2049</td>\n",
       "      <td>0.260</td>\n",
       "      <td>1170.00</td>\n",
       "      <td>1316.64</td>\n",
       "      <td>NaN</td>\n",
       "    </tr>\n",
       "    <tr>\n",
       "      <th>452</th>\n",
       "      <td>WIND_OFFSHORE</td>\n",
       "      <td>2050</td>\n",
       "      <td>0.257</td>\n",
       "      <td>1157.00</td>\n",
       "      <td>1367.47</td>\n",
       "      <td>NaN</td>\n",
       "    </tr>\n",
       "  </tbody>\n",
       "</table>\n",
       "<p>453 rows × 6 columns</p>\n",
       "</div>"
      ],
      "text/plain": [
       "              tech  year  cost_ratio    c_inv  installed_cap  annual_prod\n",
       "0               PV  2018       1.000  2704.85          58.00          NaN\n",
       "1               PV  2019       0.927  2506.80          74.00          NaN\n",
       "2               PV  2020       0.903  2442.72          93.00          NaN\n",
       "3               PV  2021       0.692  1872.68         150.67          NaN\n",
       "4               PV  2022       0.606  1639.53         208.35          NaN\n",
       "..             ...   ...         ...      ...            ...          ...\n",
       "448  WIND_OFFSHORE  2046       0.270  1213.00        1164.15          NaN\n",
       "449  WIND_OFFSHORE  2047       0.266  1198.00        1214.98          NaN\n",
       "450  WIND_OFFSHORE  2048       0.263  1183.00        1265.81          NaN\n",
       "451  WIND_OFFSHORE  2049       0.260  1170.00        1316.64          NaN\n",
       "452  WIND_OFFSHORE  2050       0.257  1157.00        1367.47          NaN\n",
       "\n",
       "[453 rows x 6 columns]"
      ]
     },
     "execution_count": 32,
     "metadata": {},
     "output_type": "execute_result"
    }
   ],
   "source": [
    "future_cost_data"
   ]
  },
  {
   "cell_type": "code",
   "execution_count": 33,
   "id": "b6c22534",
   "metadata": {},
   "outputs": [
    {
     "data": {
      "text/html": [
       "<div>\n",
       "<style scoped>\n",
       "    .dataframe tbody tr th:only-of-type {\n",
       "        vertical-align: middle;\n",
       "    }\n",
       "\n",
       "    .dataframe tbody tr th {\n",
       "        vertical-align: top;\n",
       "    }\n",
       "\n",
       "    .dataframe thead th {\n",
       "        text-align: right;\n",
       "    }\n",
       "</style>\n",
       "<table border=\"1\" class=\"dataframe\">\n",
       "  <thead>\n",
       "    <tr style=\"text-align: right;\">\n",
       "      <th></th>\n",
       "      <th>tech</th>\n",
       "      <th>year</th>\n",
       "      <th>c_inv</th>\n",
       "      <th>installed_cap</th>\n",
       "    </tr>\n",
       "  </thead>\n",
       "  <tbody>\n",
       "    <tr>\n",
       "      <th>0</th>\n",
       "      <td>ONSHORE_WIND</td>\n",
       "      <td>2010</td>\n",
       "      <td>1914.0</td>\n",
       "      <td>178.0</td>\n",
       "    </tr>\n",
       "    <tr>\n",
       "      <th>1</th>\n",
       "      <td>ONSHORE_WIND</td>\n",
       "      <td>2011</td>\n",
       "      <td>1883.0</td>\n",
       "      <td>216.0</td>\n",
       "    </tr>\n",
       "    <tr>\n",
       "      <th>2</th>\n",
       "      <td>ONSHORE_WIND</td>\n",
       "      <td>2012</td>\n",
       "      <td>1937.0</td>\n",
       "      <td>261.0</td>\n",
       "    </tr>\n",
       "    <tr>\n",
       "      <th>3</th>\n",
       "      <td>ONSHORE_WIND</td>\n",
       "      <td>2013</td>\n",
       "      <td>1797.0</td>\n",
       "      <td>292.0</td>\n",
       "    </tr>\n",
       "    <tr>\n",
       "      <th>4</th>\n",
       "      <td>ONSHORE_WIND</td>\n",
       "      <td>2014</td>\n",
       "      <td>1745.0</td>\n",
       "      <td>340.0</td>\n",
       "    </tr>\n",
       "    <tr>\n",
       "      <th>...</th>\n",
       "      <td>...</td>\n",
       "      <td>...</td>\n",
       "      <td>...</td>\n",
       "      <td>...</td>\n",
       "    </tr>\n",
       "    <tr>\n",
       "      <th>122</th>\n",
       "      <td>HYDRO_TOTAL</td>\n",
       "      <td>2016</td>\n",
       "      <td>1753.0</td>\n",
       "      <td>1245.0</td>\n",
       "    </tr>\n",
       "    <tr>\n",
       "      <th>123</th>\n",
       "      <td>HYDRO_TOTAL</td>\n",
       "      <td>2017</td>\n",
       "      <td>1799.0</td>\n",
       "      <td>1269.0</td>\n",
       "    </tr>\n",
       "    <tr>\n",
       "      <th>124</th>\n",
       "      <td>HYDRO_TOTAL</td>\n",
       "      <td>2018</td>\n",
       "      <td>1410.0</td>\n",
       "      <td>1292.0</td>\n",
       "    </tr>\n",
       "    <tr>\n",
       "      <th>125</th>\n",
       "      <td>HYDRO_TOTAL</td>\n",
       "      <td>2019</td>\n",
       "      <td>1674.0</td>\n",
       "      <td>1305.0</td>\n",
       "    </tr>\n",
       "    <tr>\n",
       "      <th>126</th>\n",
       "      <td>HYDRO_TOTAL</td>\n",
       "      <td>2020</td>\n",
       "      <td>1816.0</td>\n",
       "      <td>1324.0</td>\n",
       "    </tr>\n",
       "  </tbody>\n",
       "</table>\n",
       "<p>127 rows × 4 columns</p>\n",
       "</div>"
      ],
      "text/plain": [
       "             tech  year   c_inv  installed_cap\n",
       "0    ONSHORE_WIND  2010  1914.0          178.0\n",
       "1    ONSHORE_WIND  2011  1883.0          216.0\n",
       "2    ONSHORE_WIND  2012  1937.0          261.0\n",
       "3    ONSHORE_WIND  2013  1797.0          292.0\n",
       "4    ONSHORE_WIND  2014  1745.0          340.0\n",
       "..            ...   ...     ...            ...\n",
       "122   HYDRO_TOTAL  2016  1753.0         1245.0\n",
       "123   HYDRO_TOTAL  2017  1799.0         1269.0\n",
       "124   HYDRO_TOTAL  2018  1410.0         1292.0\n",
       "125   HYDRO_TOTAL  2019  1674.0         1305.0\n",
       "126   HYDRO_TOTAL  2020  1816.0         1324.0\n",
       "\n",
       "[127 rows x 4 columns]"
      ]
     },
     "execution_count": 33,
     "metadata": {},
     "output_type": "execute_result"
    }
   ],
   "source": [
    "hist_cost_data"
   ]
  },
  {
   "cell_type": "code",
   "execution_count": 34,
   "id": "303a6827",
   "metadata": {},
   "outputs": [
    {
     "data": {
      "text/plain": [
       "array(['PV', 'WIND', 'WOOD_GASIFICATION', 'SOEC_ELECTROLYSIS',\n",
       "       'PEM_ELECTROLYSIS', 'ALKALINE_ELECTROLYSIS', 'DEC_HP_ELEC',\n",
       "       'CARBON_CAPTURE', 'CARBON_SEQUSTRATION', 'DEC_SOLAR', 'HYDRO_DAM',\n",
       "       'HYDRO_RIVER', 'DHN_HP_ELEC', 'WIND_OFFSHORE'], dtype=object)"
      ]
     },
     "execution_count": 34,
     "metadata": {},
     "output_type": "execute_result"
    }
   ],
   "source": [
    "future_cost_data.tech.unique()"
   ]
  },
  {
   "cell_type": "code",
   "execution_count": 35,
   "id": "d1b2d6f5",
   "metadata": {},
   "outputs": [
    {
     "data": {
      "text/plain": [
       "array(['ONSHORE_WIND', 'RES_PV', 'DEC_HP_ELEC', 'DEC_SOLAR',\n",
       "       'DHN_HP_ELEC', 'OFFSHORE_WIND', 'UTILITY_PV', 'COMMERCIAL_PV',\n",
       "       'GEOTHERMAL', 'HYDRO_TOTAL'], dtype=object)"
      ]
     },
     "execution_count": 35,
     "metadata": {},
     "output_type": "execute_result"
    }
   ],
   "source": [
    "hist_cost_data.tech.unique()"
   ]
  },
  {
   "cell_type": "markdown",
   "id": "0c1fb4fa",
   "metadata": {},
   "source": [
    "# Parameters for the graph"
   ]
  },
  {
   "cell_type": "code",
   "execution_count": 36,
   "id": "f5690ac0",
   "metadata": {},
   "outputs": [],
   "source": [
    "# graph\n",
    "marker_size = 6\n",
    "line_width = 1.5\n",
    "years_font_size = 10\n",
    "\n",
    "# colours \n",
    "colour_main_axis = \"rgb(10,10,10)\"\n",
    "colour_second_axis = \"rgb(10,10,10)\"\n",
    "colour_carbon_capture = \"rgb(105,105,105)\"\n",
    "colour_onshore_wind = 'rgb(0,0,205)'\n",
    "colour_offshore_wind = 'rgb(30,144,255)'\n",
    "colour_res_pv = 'rgb(255,215,0)'\n",
    "colour_csp_solar = 'rgb(255,140,0)'\n",
    "colour_gshp = 'rgb(50,205,50)'\n",
    "colour_ashp = 'rgb(0,128,128)'\n",
    "colour_soec = 'rgb(139,0,139)'\n",
    "colour_alk = 'rgb(210,105,30)'\n",
    "colour_pem = 'rgb(178,34,34)'"
   ]
  },
  {
   "cell_type": "markdown",
   "id": "30f8784d",
   "metadata": {},
   "source": [
    "## Onshore Wind"
   ]
  },
  {
   "cell_type": "code",
   "execution_count": 37,
   "id": "e1cba484",
   "metadata": {},
   "outputs": [],
   "source": [
    "# Historical data\n",
    "hist_cost = hist_cost_data[hist_cost_data.tech == 'ONSHORE_WIND'][['year','c_inv','installed_cap']]\n",
    "\n",
    "# Prospective data \n",
    "future_cost = future_cost_data[future_cost_data.tech == 'WIND'][['year', 'cost_ratio', 'c_inv', 'installed_cap']]\n",
    "\n",
    "# Learning curve : log(capex)==a+b*log(Q)\n",
    "a = 8.796934102 \n",
    "b = -0.23372041642"
   ]
  },
  {
   "cell_type": "code",
   "execution_count": 38,
   "id": "190bf8f1",
   "metadata": {},
   "outputs": [
    {
     "data": {
      "application/vnd.plotly.v1+json": {
       "config": {
        "plotlyServerURL": "https://plot.ly"
       },
       "data": [
        {
         "legendgroup": "group",
         "legendgrouptitle": {
          "font": {
           "color": "rgb(10,10,10)"
          },
          "text": "Power capacity"
         },
         "marker": {
          "color": "rgb(0,0,205)",
          "size": 6,
          "symbol": "circle-open"
         },
         "mode": "markers",
         "name": "Onshore Wind - Prospective",
         "type": "scatter",
         "x": [
          541,
          595,
          698,
          903.212,
          1108.424,
          1313.635,
          1518.847,
          1724.059,
          1929.271,
          2134.482,
          2339.694,
          2544.906,
          2750.118,
          2957.488,
          3164.859,
          3372.229,
          3579.6,
          3786.97,
          3994.341,
          4201.711,
          4409.082,
          4616.452,
          4823.823,
          5031.193,
          5238.564,
          5445.934,
          5653.305,
          5860.675,
          6068.046,
          6275.417,
          6482.787,
          6690.158,
          6897.528
         ],
         "y": [
          1520.39,
          1447.57,
          1315.53,
          1347.82,
          1284.84,
          1234.83,
          1193.64,
          1158.81,
          1128.75,
          1102.39,
          1078.99,
          1058,
          1038.99,
          1021.49,
          1005.44,
          990.64,
          976.91,
          964.14,
          952.2,
          941,
          930.47,
          920.53,
          911.12,
          902.2,
          893.73,
          885.65,
          877.95,
          870.59,
          863.54,
          856.79,
          850.3,
          844.07,
          838.07
         ]
        },
        {
         "legendgroup": "group",
         "marker": {
          "color": "rgb(0,0,205)",
          "size": 6,
          "symbol": "circle"
         },
         "mode": "markers+text",
         "name": "Onshore Wind - Historical",
         "textfont": {
          "size": 10
         },
         "type": "scatter",
         "x": [
          178,
          216,
          261,
          292,
          340,
          405,
          453,
          495,
          541,
          595,
          698
         ],
         "y": [
          1914,
          1883,
          1937,
          1797,
          1745,
          1611,
          1604,
          1599,
          1520,
          1448,
          1316
         ]
        },
        {
         "legendgroup": "group",
         "line": {
          "color": "rgb(0,0,205)",
          "width": 1.5
         },
         "mode": "lines",
         "name": "Onshore Wind - Learning Curve",
         "type": "scatter",
         "x": [
          178.00000000000003,
          184.69841505847967,
          191.6489018264855,
          198.86094615196652,
          206.3443908499881,
          214.10944913595645,
          222.16671856435596,
          230.52719549202163,
          239.20229008568927,
          248.20384189430047,
          257.5441360073189,
          267.23591982110855,
          277.2924204362567,
          287.7273627095853,
          298.55498798548706,
          309.7900735321514,
          321.4479527092035,
          333.5445358942865,
          346.0963321971399,
          359.1204719908134,
          372.63473029076613,
          386.65755101375584,
          401.2080721496289,
          416.3061518803629,
          431.9723956820102,
          448.22818444652603,
          465.09570366187256,
          482.5979736902033,
          500.7588811854742,
          519.6032116933404,
          539.1566834778407,
          559.4459826210312,
          580.4987994434731,
          602.3438662952794,
          625.0109967692971,
          648.5311263899429,
          672.936354833219,
          698.2599897355406,
          724.5365921511494,
          751.802023720165,
          780.0934956116404,
          809.4496193084215,
          839.910459303119,
          871.5175877771109,
          904.3141413372019,
          938.344879887365,
          973.6562477159322,
          1010.2964368815681,
          1048.3154529845783,
          1087.7651834132794,
          1128.6994681585907,
          1171.1741732934863,
          1215.2472672175961,
          1260.9788997710052,
          1308.431484325224,
          1357.669782963388,
          1408.7609948658865,
          1461.7748480221135,
          1516.7836943934512,
          1573.8626086573922,
          1633.0894906675535,
          1694.545171769421,
          1758.3135251169167,
          1824.4815801403524,
          1893.1396413219884,
          1964.3814114412894,
          2038.304119458122,
          2115.0086532083433,
          2194.599697092981,
          2277.1858749488374,
          2362.8798982955477,
          2451.7987201614,
          2544.063694697862,
          2639.8007428006485,
          2739.1405239633514,
          2842.21861459823,
          2949.175693067418,
          3060.1577316772236,
          3175.31619589739,
          3294.808251077353,
          3418.7969769415076,
          3547.451590156281,
          3680.9476752727473,
          3819.467424359949,
          3963.199885656049,
          4112.341221576513,
          4267.094976431656,
          4427.672354218693,
          4594.2925068676395,
          4767.182833334282,
          4946.579289948507,
          5132.72671244151,
          5325.879150091391,
          5526.300212443166,
          5734.263429076354,
          5950.052622911271,
          6173.9622975632665,
          6406.298039273847,
          6647.376933966996,
          6897.528
         ],
         "y": [
          1970.111645221424,
          1953.1752957557574,
          1936.3845420658017,
          1919.7381325164308,
          1903.2348262323799,
          1886.873393005749,
          1870.6526132042968,
          1854.5712776805262,
          1838.6281876815572,
          1822.8221547597514,
          1807.1520006841426,
          1791.6165573525923,
          1776.2146667047211,
          1760.945180635584,
          1745.8069609100853,
          1730.7988790781326,
          1715.9198163905169,
          1701.1686637155192,
          1686.5443214562313,
          1672.0456994685887,
          1657.671716980108,
          1643.4213025093222,
          1629.293393785909,
          1615.2869376715119,
          1601.4008900812194,
          1587.6342159057583,
          1573.9858889343154,
          1560.4548917780485,
          1547.0402157942458,
          1533.7408610111383,
          1520.5558360533587,
          1507.484158068041,
          1494.524852651557,
          1481.676953776879,
          1468.9395037215706,
          1456.3115529963934,
          1443.792160274536,
          1431.380392321429,
          1419.0753239251994,
          1406.876037827685,
          1394.7816246560678,
          1382.7911828550855,
          1370.9038186198245,
          1359.1186458290956,
          1347.4347859793772,
          1335.8513681193313,
          1324.3675287848782,
          1312.9824119348325,
          1301.6951688870902,
          1290.5049582553654,
          1279.4109458864714,
          1268.4123047981402,
          1257.5082151173758,
          1246.6978640193379,
          1235.980445666756,
          1225.3551611498526,
          1214.8212184267945,
          1204.3778322646513,
          1194.0242241808598,
          1183.7596223851958,
          1173.5832617222406,
          1163.494383614345,
          1153.492236005082,
          1143.5760733031864,
          1133.7451563269758,
          1123.9987522492504,
          1114.336134542665,
          1104.7565829255711,
          1095.259383308328,
          1085.8438277400671,
          1076.5092143559227,
          1067.2548473247116,
          1058.0800367970644,
          1048.984098854001,
          1039.9663554559504,
          1031.0261343922054,
          1022.1627692308168,
          1013.3755992689131,
          1004.6639694834505,
          996.0272304823859,
          987.4647384562676,
          978.9758551302483,
          970.5599477164967,
          962.2163888670405,
          953.944556626988,
          945.7438343881793,
          937.613610843209,
          929.5532799398702,
          921.5622408359676,
          913.639897854534,
          905.7856604394249,
          897.9989431112973,
          890.2791654239659,
          882.6257519211341,
          875.0381320935018,
          867.5157403362288,
          860.0580159067852,
          852.6644028831387,
          845.3343501223277,
          838.0673112193643
         ]
        }
       ],
       "layout": {
        "annotations": [
         {
          "font": {
           "color": "rgb(10,10,10)",
           "family": "Times New Roman",
           "size": 10
          },
          "showarrow": true,
          "text": "2010",
          "x": 2.250420002308894,
          "y": 3.281941933440825
         },
         {
          "font": {
           "color": "rgb(10,10,10)",
           "family": "Times New Roman",
           "size": 10
          },
          "showarrow": true,
          "text": "2020",
          "x": 2.843855422623161,
          "y": 3.1192558892779365
         },
         {
          "font": {
           "color": "rgb(10,10,10)",
           "family": "Times New Roman",
           "size": 10
          },
          "showarrow": true,
          "text": "2050",
          "x": 3.8386934721408297,
          "y": 2.923280294697208
         }
        ],
        "font": {
         "color": "rgb(10,10,10)",
         "family": "Times New Roman",
         "size": 16
        },
        "legend": {
         "x": 1.2
        },
        "template": {
         "data": {
          "bar": [
           {
            "error_x": {
             "color": "#2a3f5f"
            },
            "error_y": {
             "color": "#2a3f5f"
            },
            "marker": {
             "line": {
              "color": "#E5ECF6",
              "width": 0.5
             },
             "pattern": {
              "fillmode": "overlay",
              "size": 10,
              "solidity": 0.2
             }
            },
            "type": "bar"
           }
          ],
          "barpolar": [
           {
            "marker": {
             "line": {
              "color": "#E5ECF6",
              "width": 0.5
             },
             "pattern": {
              "fillmode": "overlay",
              "size": 10,
              "solidity": 0.2
             }
            },
            "type": "barpolar"
           }
          ],
          "carpet": [
           {
            "aaxis": {
             "endlinecolor": "#2a3f5f",
             "gridcolor": "white",
             "linecolor": "white",
             "minorgridcolor": "white",
             "startlinecolor": "#2a3f5f"
            },
            "baxis": {
             "endlinecolor": "#2a3f5f",
             "gridcolor": "white",
             "linecolor": "white",
             "minorgridcolor": "white",
             "startlinecolor": "#2a3f5f"
            },
            "type": "carpet"
           }
          ],
          "choropleth": [
           {
            "colorbar": {
             "outlinewidth": 0,
             "ticks": ""
            },
            "type": "choropleth"
           }
          ],
          "contour": [
           {
            "colorbar": {
             "outlinewidth": 0,
             "ticks": ""
            },
            "colorscale": [
             [
              0,
              "#0d0887"
             ],
             [
              0.1111111111111111,
              "#46039f"
             ],
             [
              0.2222222222222222,
              "#7201a8"
             ],
             [
              0.3333333333333333,
              "#9c179e"
             ],
             [
              0.4444444444444444,
              "#bd3786"
             ],
             [
              0.5555555555555556,
              "#d8576b"
             ],
             [
              0.6666666666666666,
              "#ed7953"
             ],
             [
              0.7777777777777778,
              "#fb9f3a"
             ],
             [
              0.8888888888888888,
              "#fdca26"
             ],
             [
              1,
              "#f0f921"
             ]
            ],
            "type": "contour"
           }
          ],
          "contourcarpet": [
           {
            "colorbar": {
             "outlinewidth": 0,
             "ticks": ""
            },
            "type": "contourcarpet"
           }
          ],
          "heatmap": [
           {
            "colorbar": {
             "outlinewidth": 0,
             "ticks": ""
            },
            "colorscale": [
             [
              0,
              "#0d0887"
             ],
             [
              0.1111111111111111,
              "#46039f"
             ],
             [
              0.2222222222222222,
              "#7201a8"
             ],
             [
              0.3333333333333333,
              "#9c179e"
             ],
             [
              0.4444444444444444,
              "#bd3786"
             ],
             [
              0.5555555555555556,
              "#d8576b"
             ],
             [
              0.6666666666666666,
              "#ed7953"
             ],
             [
              0.7777777777777778,
              "#fb9f3a"
             ],
             [
              0.8888888888888888,
              "#fdca26"
             ],
             [
              1,
              "#f0f921"
             ]
            ],
            "type": "heatmap"
           }
          ],
          "heatmapgl": [
           {
            "colorbar": {
             "outlinewidth": 0,
             "ticks": ""
            },
            "colorscale": [
             [
              0,
              "#0d0887"
             ],
             [
              0.1111111111111111,
              "#46039f"
             ],
             [
              0.2222222222222222,
              "#7201a8"
             ],
             [
              0.3333333333333333,
              "#9c179e"
             ],
             [
              0.4444444444444444,
              "#bd3786"
             ],
             [
              0.5555555555555556,
              "#d8576b"
             ],
             [
              0.6666666666666666,
              "#ed7953"
             ],
             [
              0.7777777777777778,
              "#fb9f3a"
             ],
             [
              0.8888888888888888,
              "#fdca26"
             ],
             [
              1,
              "#f0f921"
             ]
            ],
            "type": "heatmapgl"
           }
          ],
          "histogram": [
           {
            "marker": {
             "pattern": {
              "fillmode": "overlay",
              "size": 10,
              "solidity": 0.2
             }
            },
            "type": "histogram"
           }
          ],
          "histogram2d": [
           {
            "colorbar": {
             "outlinewidth": 0,
             "ticks": ""
            },
            "colorscale": [
             [
              0,
              "#0d0887"
             ],
             [
              0.1111111111111111,
              "#46039f"
             ],
             [
              0.2222222222222222,
              "#7201a8"
             ],
             [
              0.3333333333333333,
              "#9c179e"
             ],
             [
              0.4444444444444444,
              "#bd3786"
             ],
             [
              0.5555555555555556,
              "#d8576b"
             ],
             [
              0.6666666666666666,
              "#ed7953"
             ],
             [
              0.7777777777777778,
              "#fb9f3a"
             ],
             [
              0.8888888888888888,
              "#fdca26"
             ],
             [
              1,
              "#f0f921"
             ]
            ],
            "type": "histogram2d"
           }
          ],
          "histogram2dcontour": [
           {
            "colorbar": {
             "outlinewidth": 0,
             "ticks": ""
            },
            "colorscale": [
             [
              0,
              "#0d0887"
             ],
             [
              0.1111111111111111,
              "#46039f"
             ],
             [
              0.2222222222222222,
              "#7201a8"
             ],
             [
              0.3333333333333333,
              "#9c179e"
             ],
             [
              0.4444444444444444,
              "#bd3786"
             ],
             [
              0.5555555555555556,
              "#d8576b"
             ],
             [
              0.6666666666666666,
              "#ed7953"
             ],
             [
              0.7777777777777778,
              "#fb9f3a"
             ],
             [
              0.8888888888888888,
              "#fdca26"
             ],
             [
              1,
              "#f0f921"
             ]
            ],
            "type": "histogram2dcontour"
           }
          ],
          "mesh3d": [
           {
            "colorbar": {
             "outlinewidth": 0,
             "ticks": ""
            },
            "type": "mesh3d"
           }
          ],
          "parcoords": [
           {
            "line": {
             "colorbar": {
              "outlinewidth": 0,
              "ticks": ""
             }
            },
            "type": "parcoords"
           }
          ],
          "pie": [
           {
            "automargin": true,
            "type": "pie"
           }
          ],
          "scatter": [
           {
            "marker": {
             "colorbar": {
              "outlinewidth": 0,
              "ticks": ""
             }
            },
            "type": "scatter"
           }
          ],
          "scatter3d": [
           {
            "line": {
             "colorbar": {
              "outlinewidth": 0,
              "ticks": ""
             }
            },
            "marker": {
             "colorbar": {
              "outlinewidth": 0,
              "ticks": ""
             }
            },
            "type": "scatter3d"
           }
          ],
          "scattercarpet": [
           {
            "marker": {
             "colorbar": {
              "outlinewidth": 0,
              "ticks": ""
             }
            },
            "type": "scattercarpet"
           }
          ],
          "scattergeo": [
           {
            "marker": {
             "colorbar": {
              "outlinewidth": 0,
              "ticks": ""
             }
            },
            "type": "scattergeo"
           }
          ],
          "scattergl": [
           {
            "marker": {
             "colorbar": {
              "outlinewidth": 0,
              "ticks": ""
             }
            },
            "type": "scattergl"
           }
          ],
          "scattermapbox": [
           {
            "marker": {
             "colorbar": {
              "outlinewidth": 0,
              "ticks": ""
             }
            },
            "type": "scattermapbox"
           }
          ],
          "scatterpolar": [
           {
            "marker": {
             "colorbar": {
              "outlinewidth": 0,
              "ticks": ""
             }
            },
            "type": "scatterpolar"
           }
          ],
          "scatterpolargl": [
           {
            "marker": {
             "colorbar": {
              "outlinewidth": 0,
              "ticks": ""
             }
            },
            "type": "scatterpolargl"
           }
          ],
          "scatterternary": [
           {
            "marker": {
             "colorbar": {
              "outlinewidth": 0,
              "ticks": ""
             }
            },
            "type": "scatterternary"
           }
          ],
          "surface": [
           {
            "colorbar": {
             "outlinewidth": 0,
             "ticks": ""
            },
            "colorscale": [
             [
              0,
              "#0d0887"
             ],
             [
              0.1111111111111111,
              "#46039f"
             ],
             [
              0.2222222222222222,
              "#7201a8"
             ],
             [
              0.3333333333333333,
              "#9c179e"
             ],
             [
              0.4444444444444444,
              "#bd3786"
             ],
             [
              0.5555555555555556,
              "#d8576b"
             ],
             [
              0.6666666666666666,
              "#ed7953"
             ],
             [
              0.7777777777777778,
              "#fb9f3a"
             ],
             [
              0.8888888888888888,
              "#fdca26"
             ],
             [
              1,
              "#f0f921"
             ]
            ],
            "type": "surface"
           }
          ],
          "table": [
           {
            "cells": {
             "fill": {
              "color": "#EBF0F8"
             },
             "line": {
              "color": "white"
             }
            },
            "header": {
             "fill": {
              "color": "#C8D4E3"
             },
             "line": {
              "color": "white"
             }
            },
            "type": "table"
           }
          ]
         },
         "layout": {
          "annotationdefaults": {
           "arrowcolor": "#2a3f5f",
           "arrowhead": 0,
           "arrowwidth": 1
          },
          "autotypenumbers": "strict",
          "coloraxis": {
           "colorbar": {
            "outlinewidth": 0,
            "ticks": ""
           }
          },
          "colorscale": {
           "diverging": [
            [
             0,
             "#8e0152"
            ],
            [
             0.1,
             "#c51b7d"
            ],
            [
             0.2,
             "#de77ae"
            ],
            [
             0.3,
             "#f1b6da"
            ],
            [
             0.4,
             "#fde0ef"
            ],
            [
             0.5,
             "#f7f7f7"
            ],
            [
             0.6,
             "#e6f5d0"
            ],
            [
             0.7,
             "#b8e186"
            ],
            [
             0.8,
             "#7fbc41"
            ],
            [
             0.9,
             "#4d9221"
            ],
            [
             1,
             "#276419"
            ]
           ],
           "sequential": [
            [
             0,
             "#0d0887"
            ],
            [
             0.1111111111111111,
             "#46039f"
            ],
            [
             0.2222222222222222,
             "#7201a8"
            ],
            [
             0.3333333333333333,
             "#9c179e"
            ],
            [
             0.4444444444444444,
             "#bd3786"
            ],
            [
             0.5555555555555556,
             "#d8576b"
            ],
            [
             0.6666666666666666,
             "#ed7953"
            ],
            [
             0.7777777777777778,
             "#fb9f3a"
            ],
            [
             0.8888888888888888,
             "#fdca26"
            ],
            [
             1,
             "#f0f921"
            ]
           ],
           "sequentialminus": [
            [
             0,
             "#0d0887"
            ],
            [
             0.1111111111111111,
             "#46039f"
            ],
            [
             0.2222222222222222,
             "#7201a8"
            ],
            [
             0.3333333333333333,
             "#9c179e"
            ],
            [
             0.4444444444444444,
             "#bd3786"
            ],
            [
             0.5555555555555556,
             "#d8576b"
            ],
            [
             0.6666666666666666,
             "#ed7953"
            ],
            [
             0.7777777777777778,
             "#fb9f3a"
            ],
            [
             0.8888888888888888,
             "#fdca26"
            ],
            [
             1,
             "#f0f921"
            ]
           ]
          },
          "colorway": [
           "#636efa",
           "#EF553B",
           "#00cc96",
           "#ab63fa",
           "#FFA15A",
           "#19d3f3",
           "#FF6692",
           "#B6E880",
           "#FF97FF",
           "#FECB52"
          ],
          "font": {
           "color": "#2a3f5f"
          },
          "geo": {
           "bgcolor": "white",
           "lakecolor": "white",
           "landcolor": "#E5ECF6",
           "showlakes": true,
           "showland": true,
           "subunitcolor": "white"
          },
          "hoverlabel": {
           "align": "left"
          },
          "hovermode": "closest",
          "mapbox": {
           "style": "light"
          },
          "paper_bgcolor": "white",
          "plot_bgcolor": "#E5ECF6",
          "polar": {
           "angularaxis": {
            "gridcolor": "white",
            "linecolor": "white",
            "ticks": ""
           },
           "bgcolor": "#E5ECF6",
           "radialaxis": {
            "gridcolor": "white",
            "linecolor": "white",
            "ticks": ""
           }
          },
          "scene": {
           "xaxis": {
            "backgroundcolor": "#E5ECF6",
            "gridcolor": "white",
            "gridwidth": 2,
            "linecolor": "white",
            "showbackground": true,
            "ticks": "",
            "zerolinecolor": "white"
           },
           "yaxis": {
            "backgroundcolor": "#E5ECF6",
            "gridcolor": "white",
            "gridwidth": 2,
            "linecolor": "white",
            "showbackground": true,
            "ticks": "",
            "zerolinecolor": "white"
           },
           "zaxis": {
            "backgroundcolor": "#E5ECF6",
            "gridcolor": "white",
            "gridwidth": 2,
            "linecolor": "white",
            "showbackground": true,
            "ticks": "",
            "zerolinecolor": "white"
           }
          },
          "shapedefaults": {
           "line": {
            "color": "#2a3f5f"
           }
          },
          "ternary": {
           "aaxis": {
            "gridcolor": "white",
            "linecolor": "white",
            "ticks": ""
           },
           "baxis": {
            "gridcolor": "white",
            "linecolor": "white",
            "ticks": ""
           },
           "bgcolor": "#E5ECF6",
           "caxis": {
            "gridcolor": "white",
            "linecolor": "white",
            "ticks": ""
           }
          },
          "title": {
           "x": 0.05
          },
          "xaxis": {
           "automargin": true,
           "gridcolor": "white",
           "linecolor": "white",
           "ticks": "",
           "title": {
            "standoff": 15
           },
           "zerolinecolor": "white",
           "zerolinewidth": 2
          },
          "yaxis": {
           "automargin": true,
           "gridcolor": "white",
           "linecolor": "white",
           "ticks": "",
           "title": {
            "standoff": 15
           },
           "zerolinecolor": "white",
           "zerolinewidth": 2
          }
         }
        },
        "title": {
         "text": "",
         "y": 1
        },
        "xaxis": {
         "showgrid": true,
         "title": {
          "font": {
           "family": "Times New Roman"
          },
          "text": "Cumulative Capacity [GW]"
         },
         "type": "log"
        },
        "xaxis2": {
         "anchor": "y",
         "automargin": true,
         "color": "rgb(105,105,105)",
         "overlaying": "x",
         "showgrid": true,
         "side": "top",
         "title": {
          "font": {
           "color": "rgb(10,10,10)",
           "family": "Times New Roman"
          },
          "text": "CO<sub>2</sub> capture capacity [Mtpa]"
         },
         "type": "log"
        },
        "yaxis": {
         "showgrid": true,
         "title": {
          "font": {
           "family": "Times New Roman"
          },
          "text": "Investment Cost [USD<sub>2018</sub>/kW]"
         },
         "type": "log"
        },
        "yaxis2": {
         "anchor": "x",
         "automargin": true,
         "color": "rgb(105,105,105)",
         "overlaying": "y",
         "showgrid": true,
         "side": "right",
         "title": {
          "font": {
           "color": "rgb(10,10,10)",
           "family": "Times New Roman"
          },
          "text": "Cost of CO<sub>2</sub> capture [USD<sub>2018</sub>/tCO<sub>2</sub>]"
         },
         "type": "log"
        }
       }
      },
      "text/html": [
       "<div>                            <div id=\"7723369b-e32d-4320-9567-4015bded57c0\" class=\"plotly-graph-div\" style=\"height:525px; width:100%;\"></div>            <script type=\"text/javascript\">                require([\"plotly\"], function(Plotly) {                    window.PLOTLYENV=window.PLOTLYENV || {};                                    if (document.getElementById(\"7723369b-e32d-4320-9567-4015bded57c0\")) {                    Plotly.newPlot(                        \"7723369b-e32d-4320-9567-4015bded57c0\",                        [{\"legendgroup\":\"group\",\"legendgrouptitle\":{\"font\":{\"color\":\"rgb(10,10,10)\"},\"text\":\"Power capacity\"},\"marker\":{\"color\":\"rgb(0,0,205)\",\"size\":6,\"symbol\":\"circle-open\"},\"mode\":\"markers\",\"name\":\"Onshore Wind - Prospective\",\"type\":\"scatter\",\"x\":[541.0,595.0,698.0,903.212,1108.424,1313.635,1518.847,1724.059,1929.271,2134.482,2339.694,2544.906,2750.118,2957.488,3164.859,3372.229,3579.6,3786.97,3994.341,4201.711,4409.082,4616.452,4823.823,5031.193,5238.564,5445.934,5653.305,5860.675,6068.046,6275.417,6482.787,6690.158,6897.528],\"y\":[1520.39,1447.57,1315.53,1347.82,1284.84,1234.83,1193.64,1158.81,1128.75,1102.39,1078.99,1058.0,1038.99,1021.49,1005.44,990.64,976.91,964.14,952.2,941.0,930.47,920.53,911.12,902.2,893.73,885.65,877.95,870.59,863.54,856.79,850.3,844.07,838.07]},{\"legendgroup\":\"group\",\"marker\":{\"color\":\"rgb(0,0,205)\",\"size\":6,\"symbol\":\"circle\"},\"mode\":\"markers+text\",\"name\":\"Onshore Wind - Historical\",\"textfont\":{\"size\":10},\"type\":\"scatter\",\"x\":[178.0,216.0,261.0,292.0,340.0,405.0,453.0,495.0,541.0,595.0,698.0],\"y\":[1914.0,1883.0,1937.0,1797.0,1745.0,1611.0,1604.0,1599.0,1520.0,1448.0,1316.0]},{\"legendgroup\":\"group\",\"line\":{\"color\":\"rgb(0,0,205)\",\"width\":1.5},\"mode\":\"lines\",\"name\":\"Onshore Wind - Learning Curve\",\"type\":\"scatter\",\"x\":[178.00000000000003,184.69841505847967,191.6489018264855,198.86094615196652,206.3443908499881,214.10944913595645,222.16671856435596,230.52719549202163,239.20229008568927,248.20384189430047,257.5441360073189,267.23591982110855,277.2924204362567,287.7273627095853,298.55498798548706,309.7900735321514,321.4479527092035,333.5445358942865,346.0963321971399,359.1204719908134,372.63473029076613,386.65755101375584,401.2080721496289,416.3061518803629,431.9723956820102,448.22818444652603,465.09570366187256,482.5979736902033,500.7588811854742,519.6032116933404,539.1566834778407,559.4459826210312,580.4987994434731,602.3438662952794,625.0109967692971,648.5311263899429,672.936354833219,698.2599897355406,724.5365921511494,751.802023720165,780.0934956116404,809.4496193084215,839.910459303119,871.5175877771109,904.3141413372019,938.344879887365,973.6562477159322,1010.2964368815681,1048.3154529845783,1087.7651834132794,1128.6994681585907,1171.1741732934863,1215.2472672175961,1260.9788997710052,1308.431484325224,1357.669782963388,1408.7609948658865,1461.7748480221135,1516.7836943934512,1573.8626086573922,1633.0894906675535,1694.545171769421,1758.3135251169167,1824.4815801403524,1893.1396413219884,1964.3814114412894,2038.304119458122,2115.0086532083433,2194.599697092981,2277.1858749488374,2362.8798982955477,2451.7987201614,2544.063694697862,2639.8007428006485,2739.1405239633514,2842.21861459823,2949.175693067418,3060.1577316772236,3175.31619589739,3294.808251077353,3418.7969769415076,3547.451590156281,3680.9476752727473,3819.467424359949,3963.199885656049,4112.341221576513,4267.094976431656,4427.672354218693,4594.2925068676395,4767.182833334282,4946.579289948507,5132.72671244151,5325.879150091391,5526.300212443166,5734.263429076354,5950.052622911271,6173.9622975632665,6406.298039273847,6647.376933966996,6897.528],\"y\":[1970.111645221424,1953.1752957557574,1936.3845420658017,1919.7381325164308,1903.2348262323799,1886.873393005749,1870.6526132042968,1854.5712776805262,1838.6281876815572,1822.8221547597514,1807.1520006841426,1791.6165573525923,1776.2146667047211,1760.945180635584,1745.8069609100853,1730.7988790781326,1715.9198163905169,1701.1686637155192,1686.5443214562313,1672.0456994685887,1657.671716980108,1643.4213025093222,1629.293393785909,1615.2869376715119,1601.4008900812194,1587.6342159057583,1573.9858889343154,1560.4548917780485,1547.0402157942458,1533.7408610111383,1520.5558360533587,1507.484158068041,1494.524852651557,1481.676953776879,1468.9395037215706,1456.3115529963934,1443.792160274536,1431.380392321429,1419.0753239251994,1406.876037827685,1394.7816246560678,1382.7911828550855,1370.9038186198245,1359.1186458290956,1347.4347859793772,1335.8513681193313,1324.3675287848782,1312.9824119348325,1301.6951688870902,1290.5049582553654,1279.4109458864714,1268.4123047981402,1257.5082151173758,1246.6978640193379,1235.980445666756,1225.3551611498526,1214.8212184267945,1204.3778322646513,1194.0242241808598,1183.7596223851958,1173.5832617222406,1163.494383614345,1153.492236005082,1143.5760733031864,1133.7451563269758,1123.9987522492504,1114.336134542665,1104.7565829255711,1095.259383308328,1085.8438277400671,1076.5092143559227,1067.2548473247116,1058.0800367970644,1048.984098854001,1039.9663554559504,1031.0261343922054,1022.1627692308168,1013.3755992689131,1004.6639694834505,996.0272304823859,987.4647384562676,978.9758551302483,970.5599477164967,962.2163888670405,953.944556626988,945.7438343881793,937.613610843209,929.5532799398702,921.5622408359676,913.639897854534,905.7856604394249,897.9989431112973,890.2791654239659,882.6257519211341,875.0381320935018,867.5157403362288,860.0580159067852,852.6644028831387,845.3343501223277,838.0673112193643]}],                        {\"annotations\":[{\"font\":{\"color\":\"rgb(10,10,10)\",\"family\":\"Times New Roman\",\"size\":10},\"showarrow\":true,\"text\":\"2010\",\"x\":2.250420002308894,\"y\":3.281941933440825},{\"font\":{\"color\":\"rgb(10,10,10)\",\"family\":\"Times New Roman\",\"size\":10},\"showarrow\":true,\"text\":\"2020\",\"x\":2.843855422623161,\"y\":3.1192558892779365},{\"font\":{\"color\":\"rgb(10,10,10)\",\"family\":\"Times New Roman\",\"size\":10},\"showarrow\":true,\"text\":\"2050\",\"x\":3.8386934721408297,\"y\":2.923280294697208}],\"font\":{\"color\":\"rgb(10,10,10)\",\"family\":\"Times New Roman\",\"size\":16},\"legend\":{\"x\":1.2},\"template\":{\"data\":{\"bar\":[{\"error_x\":{\"color\":\"#2a3f5f\"},\"error_y\":{\"color\":\"#2a3f5f\"},\"marker\":{\"line\":{\"color\":\"#E5ECF6\",\"width\":0.5},\"pattern\":{\"fillmode\":\"overlay\",\"size\":10,\"solidity\":0.2}},\"type\":\"bar\"}],\"barpolar\":[{\"marker\":{\"line\":{\"color\":\"#E5ECF6\",\"width\":0.5},\"pattern\":{\"fillmode\":\"overlay\",\"size\":10,\"solidity\":0.2}},\"type\":\"barpolar\"}],\"carpet\":[{\"aaxis\":{\"endlinecolor\":\"#2a3f5f\",\"gridcolor\":\"white\",\"linecolor\":\"white\",\"minorgridcolor\":\"white\",\"startlinecolor\":\"#2a3f5f\"},\"baxis\":{\"endlinecolor\":\"#2a3f5f\",\"gridcolor\":\"white\",\"linecolor\":\"white\",\"minorgridcolor\":\"white\",\"startlinecolor\":\"#2a3f5f\"},\"type\":\"carpet\"}],\"choropleth\":[{\"colorbar\":{\"outlinewidth\":0,\"ticks\":\"\"},\"type\":\"choropleth\"}],\"contour\":[{\"colorbar\":{\"outlinewidth\":0,\"ticks\":\"\"},\"colorscale\":[[0.0,\"#0d0887\"],[0.1111111111111111,\"#46039f\"],[0.2222222222222222,\"#7201a8\"],[0.3333333333333333,\"#9c179e\"],[0.4444444444444444,\"#bd3786\"],[0.5555555555555556,\"#d8576b\"],[0.6666666666666666,\"#ed7953\"],[0.7777777777777778,\"#fb9f3a\"],[0.8888888888888888,\"#fdca26\"],[1.0,\"#f0f921\"]],\"type\":\"contour\"}],\"contourcarpet\":[{\"colorbar\":{\"outlinewidth\":0,\"ticks\":\"\"},\"type\":\"contourcarpet\"}],\"heatmap\":[{\"colorbar\":{\"outlinewidth\":0,\"ticks\":\"\"},\"colorscale\":[[0.0,\"#0d0887\"],[0.1111111111111111,\"#46039f\"],[0.2222222222222222,\"#7201a8\"],[0.3333333333333333,\"#9c179e\"],[0.4444444444444444,\"#bd3786\"],[0.5555555555555556,\"#d8576b\"],[0.6666666666666666,\"#ed7953\"],[0.7777777777777778,\"#fb9f3a\"],[0.8888888888888888,\"#fdca26\"],[1.0,\"#f0f921\"]],\"type\":\"heatmap\"}],\"heatmapgl\":[{\"colorbar\":{\"outlinewidth\":0,\"ticks\":\"\"},\"colorscale\":[[0.0,\"#0d0887\"],[0.1111111111111111,\"#46039f\"],[0.2222222222222222,\"#7201a8\"],[0.3333333333333333,\"#9c179e\"],[0.4444444444444444,\"#bd3786\"],[0.5555555555555556,\"#d8576b\"],[0.6666666666666666,\"#ed7953\"],[0.7777777777777778,\"#fb9f3a\"],[0.8888888888888888,\"#fdca26\"],[1.0,\"#f0f921\"]],\"type\":\"heatmapgl\"}],\"histogram\":[{\"marker\":{\"pattern\":{\"fillmode\":\"overlay\",\"size\":10,\"solidity\":0.2}},\"type\":\"histogram\"}],\"histogram2d\":[{\"colorbar\":{\"outlinewidth\":0,\"ticks\":\"\"},\"colorscale\":[[0.0,\"#0d0887\"],[0.1111111111111111,\"#46039f\"],[0.2222222222222222,\"#7201a8\"],[0.3333333333333333,\"#9c179e\"],[0.4444444444444444,\"#bd3786\"],[0.5555555555555556,\"#d8576b\"],[0.6666666666666666,\"#ed7953\"],[0.7777777777777778,\"#fb9f3a\"],[0.8888888888888888,\"#fdca26\"],[1.0,\"#f0f921\"]],\"type\":\"histogram2d\"}],\"histogram2dcontour\":[{\"colorbar\":{\"outlinewidth\":0,\"ticks\":\"\"},\"colorscale\":[[0.0,\"#0d0887\"],[0.1111111111111111,\"#46039f\"],[0.2222222222222222,\"#7201a8\"],[0.3333333333333333,\"#9c179e\"],[0.4444444444444444,\"#bd3786\"],[0.5555555555555556,\"#d8576b\"],[0.6666666666666666,\"#ed7953\"],[0.7777777777777778,\"#fb9f3a\"],[0.8888888888888888,\"#fdca26\"],[1.0,\"#f0f921\"]],\"type\":\"histogram2dcontour\"}],\"mesh3d\":[{\"colorbar\":{\"outlinewidth\":0,\"ticks\":\"\"},\"type\":\"mesh3d\"}],\"parcoords\":[{\"line\":{\"colorbar\":{\"outlinewidth\":0,\"ticks\":\"\"}},\"type\":\"parcoords\"}],\"pie\":[{\"automargin\":true,\"type\":\"pie\"}],\"scatter\":[{\"marker\":{\"colorbar\":{\"outlinewidth\":0,\"ticks\":\"\"}},\"type\":\"scatter\"}],\"scatter3d\":[{\"line\":{\"colorbar\":{\"outlinewidth\":0,\"ticks\":\"\"}},\"marker\":{\"colorbar\":{\"outlinewidth\":0,\"ticks\":\"\"}},\"type\":\"scatter3d\"}],\"scattercarpet\":[{\"marker\":{\"colorbar\":{\"outlinewidth\":0,\"ticks\":\"\"}},\"type\":\"scattercarpet\"}],\"scattergeo\":[{\"marker\":{\"colorbar\":{\"outlinewidth\":0,\"ticks\":\"\"}},\"type\":\"scattergeo\"}],\"scattergl\":[{\"marker\":{\"colorbar\":{\"outlinewidth\":0,\"ticks\":\"\"}},\"type\":\"scattergl\"}],\"scattermapbox\":[{\"marker\":{\"colorbar\":{\"outlinewidth\":0,\"ticks\":\"\"}},\"type\":\"scattermapbox\"}],\"scatterpolar\":[{\"marker\":{\"colorbar\":{\"outlinewidth\":0,\"ticks\":\"\"}},\"type\":\"scatterpolar\"}],\"scatterpolargl\":[{\"marker\":{\"colorbar\":{\"outlinewidth\":0,\"ticks\":\"\"}},\"type\":\"scatterpolargl\"}],\"scatterternary\":[{\"marker\":{\"colorbar\":{\"outlinewidth\":0,\"ticks\":\"\"}},\"type\":\"scatterternary\"}],\"surface\":[{\"colorbar\":{\"outlinewidth\":0,\"ticks\":\"\"},\"colorscale\":[[0.0,\"#0d0887\"],[0.1111111111111111,\"#46039f\"],[0.2222222222222222,\"#7201a8\"],[0.3333333333333333,\"#9c179e\"],[0.4444444444444444,\"#bd3786\"],[0.5555555555555556,\"#d8576b\"],[0.6666666666666666,\"#ed7953\"],[0.7777777777777778,\"#fb9f3a\"],[0.8888888888888888,\"#fdca26\"],[1.0,\"#f0f921\"]],\"type\":\"surface\"}],\"table\":[{\"cells\":{\"fill\":{\"color\":\"#EBF0F8\"},\"line\":{\"color\":\"white\"}},\"header\":{\"fill\":{\"color\":\"#C8D4E3\"},\"line\":{\"color\":\"white\"}},\"type\":\"table\"}]},\"layout\":{\"annotationdefaults\":{\"arrowcolor\":\"#2a3f5f\",\"arrowhead\":0,\"arrowwidth\":1},\"autotypenumbers\":\"strict\",\"coloraxis\":{\"colorbar\":{\"outlinewidth\":0,\"ticks\":\"\"}},\"colorscale\":{\"diverging\":[[0,\"#8e0152\"],[0.1,\"#c51b7d\"],[0.2,\"#de77ae\"],[0.3,\"#f1b6da\"],[0.4,\"#fde0ef\"],[0.5,\"#f7f7f7\"],[0.6,\"#e6f5d0\"],[0.7,\"#b8e186\"],[0.8,\"#7fbc41\"],[0.9,\"#4d9221\"],[1,\"#276419\"]],\"sequential\":[[0.0,\"#0d0887\"],[0.1111111111111111,\"#46039f\"],[0.2222222222222222,\"#7201a8\"],[0.3333333333333333,\"#9c179e\"],[0.4444444444444444,\"#bd3786\"],[0.5555555555555556,\"#d8576b\"],[0.6666666666666666,\"#ed7953\"],[0.7777777777777778,\"#fb9f3a\"],[0.8888888888888888,\"#fdca26\"],[1.0,\"#f0f921\"]],\"sequentialminus\":[[0.0,\"#0d0887\"],[0.1111111111111111,\"#46039f\"],[0.2222222222222222,\"#7201a8\"],[0.3333333333333333,\"#9c179e\"],[0.4444444444444444,\"#bd3786\"],[0.5555555555555556,\"#d8576b\"],[0.6666666666666666,\"#ed7953\"],[0.7777777777777778,\"#fb9f3a\"],[0.8888888888888888,\"#fdca26\"],[1.0,\"#f0f921\"]]},\"colorway\":[\"#636efa\",\"#EF553B\",\"#00cc96\",\"#ab63fa\",\"#FFA15A\",\"#19d3f3\",\"#FF6692\",\"#B6E880\",\"#FF97FF\",\"#FECB52\"],\"font\":{\"color\":\"#2a3f5f\"},\"geo\":{\"bgcolor\":\"white\",\"lakecolor\":\"white\",\"landcolor\":\"#E5ECF6\",\"showlakes\":true,\"showland\":true,\"subunitcolor\":\"white\"},\"hoverlabel\":{\"align\":\"left\"},\"hovermode\":\"closest\",\"mapbox\":{\"style\":\"light\"},\"paper_bgcolor\":\"white\",\"plot_bgcolor\":\"#E5ECF6\",\"polar\":{\"angularaxis\":{\"gridcolor\":\"white\",\"linecolor\":\"white\",\"ticks\":\"\"},\"bgcolor\":\"#E5ECF6\",\"radialaxis\":{\"gridcolor\":\"white\",\"linecolor\":\"white\",\"ticks\":\"\"}},\"scene\":{\"xaxis\":{\"backgroundcolor\":\"#E5ECF6\",\"gridcolor\":\"white\",\"gridwidth\":2,\"linecolor\":\"white\",\"showbackground\":true,\"ticks\":\"\",\"zerolinecolor\":\"white\"},\"yaxis\":{\"backgroundcolor\":\"#E5ECF6\",\"gridcolor\":\"white\",\"gridwidth\":2,\"linecolor\":\"white\",\"showbackground\":true,\"ticks\":\"\",\"zerolinecolor\":\"white\"},\"zaxis\":{\"backgroundcolor\":\"#E5ECF6\",\"gridcolor\":\"white\",\"gridwidth\":2,\"linecolor\":\"white\",\"showbackground\":true,\"ticks\":\"\",\"zerolinecolor\":\"white\"}},\"shapedefaults\":{\"line\":{\"color\":\"#2a3f5f\"}},\"ternary\":{\"aaxis\":{\"gridcolor\":\"white\",\"linecolor\":\"white\",\"ticks\":\"\"},\"baxis\":{\"gridcolor\":\"white\",\"linecolor\":\"white\",\"ticks\":\"\"},\"bgcolor\":\"#E5ECF6\",\"caxis\":{\"gridcolor\":\"white\",\"linecolor\":\"white\",\"ticks\":\"\"}},\"title\":{\"x\":0.05},\"xaxis\":{\"automargin\":true,\"gridcolor\":\"white\",\"linecolor\":\"white\",\"ticks\":\"\",\"title\":{\"standoff\":15},\"zerolinecolor\":\"white\",\"zerolinewidth\":2},\"yaxis\":{\"automargin\":true,\"gridcolor\":\"white\",\"linecolor\":\"white\",\"ticks\":\"\",\"title\":{\"standoff\":15},\"zerolinecolor\":\"white\",\"zerolinewidth\":2}}},\"title\":{\"text\":\"\",\"y\":1},\"xaxis\":{\"showgrid\":true,\"title\":{\"font\":{\"family\":\"Times New Roman\"},\"text\":\"Cumulative Capacity [GW]\"},\"type\":\"log\"},\"xaxis2\":{\"anchor\":\"y\",\"automargin\":true,\"color\":\"rgb(105,105,105)\",\"overlaying\":\"x\",\"showgrid\":true,\"side\":\"top\",\"title\":{\"font\":{\"color\":\"rgb(10,10,10)\",\"family\":\"Times New Roman\"},\"text\":\"CO<sub>2</sub> capture capacity [Mtpa]\"},\"type\":\"log\"},\"yaxis\":{\"showgrid\":true,\"title\":{\"font\":{\"family\":\"Times New Roman\"},\"text\":\"Investment Cost [USD<sub>2018</sub>/kW]\"},\"type\":\"log\"},\"yaxis2\":{\"anchor\":\"x\",\"automargin\":true,\"color\":\"rgb(105,105,105)\",\"overlaying\":\"y\",\"showgrid\":true,\"side\":\"right\",\"title\":{\"font\":{\"color\":\"rgb(10,10,10)\",\"family\":\"Times New Roman\"},\"text\":\"Cost of CO<sub>2</sub> capture [USD<sub>2018</sub>/tCO<sub>2</sub>]\"},\"type\":\"log\"}},                        {\"responsive\": true}                    ).then(function(){\n",
       "                            \n",
       "var gd = document.getElementById('7723369b-e32d-4320-9567-4015bded57c0');\n",
       "var x = new MutationObserver(function (mutations, observer) {{\n",
       "        var display = window.getComputedStyle(gd).display;\n",
       "        if (!display || display === 'none') {{\n",
       "            console.log([gd, 'removed!']);\n",
       "            Plotly.purge(gd);\n",
       "            observer.disconnect();\n",
       "        }}\n",
       "}});\n",
       "\n",
       "// Listen for the removal of the full notebook cells\n",
       "var notebookContainer = gd.closest('#notebook-container');\n",
       "if (notebookContainer) {{\n",
       "    x.observe(notebookContainer, {childList: true});\n",
       "}}\n",
       "\n",
       "// Listen for the clearing of the current output cell\n",
       "var outputEl = gd.closest('.output');\n",
       "if (outputEl) {{\n",
       "    x.observe(outputEl, {childList: true});\n",
       "}}\n",
       "\n",
       "                        })                };                });            </script>        </div>"
      ]
     },
     "metadata": {},
     "output_type": "display_data"
    }
   ],
   "source": [
    "hist_installed_cap = hist_cost['installed_cap']\n",
    "hist_c_inv = hist_cost['c_inv']\n",
    "hist_year = hist_cost['year']\n",
    "\n",
    "future_installed_cap = future_cost['installed_cap']\n",
    "future_c_inv = future_cost['c_inv']\n",
    "\n",
    "first_point_year = hist_cost[(hist_cost.c_inv >= 0)].year.min()\n",
    "last_hist_point_year = hist_cost[(hist_cost.c_inv >= 0)].year.max()\n",
    "log_first_point = np.log10(hist_cost[(hist_cost.year == first_point_year)].installed_cap)\n",
    "log_last_point = np.log10(future_cost[(future_cost.year == 2050)].installed_cap)\n",
    "\n",
    "x_reg = np.logspace(float(log_first_point), float(log_last_point), 100)\n",
    "y_reg = np.exp(a+b*np.log(x_reg))\n",
    "\n",
    "first_x = float(hist_cost[(hist_cost.c_inv >= 0) & (hist_cost.year == first_point_year)].installed_cap)\n",
    "first_y = float(hist_cost[(hist_cost.c_inv >= 0) & (hist_cost.year == first_point_year)].c_inv)\n",
    "first_year = int(hist_cost[(hist_cost.c_inv >= 0) & (hist_cost.year == first_point_year)].year)\n",
    "\n",
    "last_x = float(hist_cost[(hist_cost.c_inv >= 0) & (hist_cost.year == last_hist_point_year)].installed_cap)\n",
    "last_y = float(hist_cost[(hist_cost.c_inv >= 0) & (hist_cost.year == last_hist_point_year)].c_inv)\n",
    "last_year = int(hist_cost[(hist_cost.c_inv >= 0) & (hist_cost.year == last_hist_point_year)].year)\n",
    "\n",
    "prosp_x = float(future_cost[(future_cost.c_inv >= 0) & (future_cost.year == 2050)].installed_cap)\n",
    "prosp_y = float(future_cost[(future_cost.c_inv >= 0) & (future_cost.year == 2050)].c_inv)\n",
    "prosp_year = 2050\n",
    "\n",
    "fig = go.Figure()\n",
    "\n",
    "fig.update_layout(\n",
    "    title=dict(text=\"\",y=1),\n",
    "    xaxis1=dict(title=\"Cumulative Capacity [GW]\"),\n",
    "    xaxis2=dict(title=\"CO<sub>2</sub> capture capacity [Mtpa]\",\n",
    "                title_font_color = colour_second_axis,\n",
    "                anchor=\"y\",\n",
    "                overlaying=\"x\",\n",
    "                side=\"top\",\n",
    "                #matches='x',\n",
    "                color=colour_carbon_capture,automargin=True),\n",
    "    yaxis1=dict(title=\"Investment Cost [USD<sub>2018</sub>/kW]\"),\n",
    "    yaxis2=dict(title=\"Cost of CO<sub>2</sub> capture [USD<sub>2018</sub>/tCO<sub>2</sub>]\",\n",
    "                title_font_color = colour_second_axis,\n",
    "                anchor=\"x\",\n",
    "                overlaying=\"y\",\n",
    "                side=\"right\",\n",
    "                #matches='y',\n",
    "                color=colour_carbon_capture,automargin=True),\n",
    "    font=dict(\n",
    "        family=\"Times New Roman\",\n",
    "        size=16,\n",
    "        color=colour_main_axis),\n",
    "    legend=dict(x=1.20)\n",
    ")\n",
    "\n",
    "fig.update_xaxes(type=\"log\",title_font_family=\"Times New Roman\",showgrid=True)\n",
    "fig.update_yaxes(type=\"log\",title_font_family=\"Times New Roman\",showgrid=True)\n",
    "\n",
    "# Add traces\n",
    "\n",
    "fig.add_trace(go.Scatter(x=future_installed_cap, y=future_c_inv,\n",
    "                         mode='markers',\n",
    "                         marker_symbol='circle-open',\n",
    "                         legendgroup=\"group\",\n",
    "                         legendgrouptitle_text=\"Power capacity\",\n",
    "                         legendgrouptitle_font_color=colour_main_axis,\n",
    "                         name='Onshore Wind - Prospective',\n",
    "                         marker = dict(color=colour_onshore_wind, size=marker_size)))\n",
    "\n",
    "fig.add_trace(go.Scatter(x=hist_installed_cap, y=hist_c_inv,\n",
    "                         #text = hist_year,\n",
    "                         #textposition='top right',\n",
    "                         mode='markers+text',\n",
    "                         marker_symbol='circle',\n",
    "                         textfont_size=years_font_size,\n",
    "                         legendgroup=\"group\",\n",
    "                         name='Onshore Wind - Historical',\n",
    "                         marker = dict(color=colour_onshore_wind, size=marker_size)))\n",
    "\n",
    "fig.add_trace(go.Scatter(x=x_reg, y=y_reg,\n",
    "                         mode='lines',\n",
    "                         legendgroup=\"group\",\n",
    "                         name='Onshore Wind - Learning Curve',\n",
    "                         line=dict(color=colour_onshore_wind, width=line_width)))\n",
    "\n",
    "fig.add_annotation(x=np.log10(first_x), y=np.log10(first_y),\n",
    "            text=str(first_year),\n",
    "            showarrow=True,\n",
    "            font=dict(\n",
    "                family=\"Times New Roman\",\n",
    "                size=years_font_size,\n",
    "                color=colour_main_axis))\n",
    "\n",
    "fig.add_annotation(x=np.log10(last_x), y=np.log10(last_y),\n",
    "            text=str(last_year),\n",
    "            showarrow=True,\n",
    "            font=dict(\n",
    "                family=\"Times New Roman\",\n",
    "                size=years_font_size,\n",
    "                color=colour_main_axis))\n",
    "\n",
    "fig.add_annotation(x=np.log10(prosp_x), y=np.log10(prosp_y),\n",
    "            text=str(prosp_year),\n",
    "            showarrow=True,\n",
    "            font=dict(\n",
    "                family=\"Times New Roman\",\n",
    "                size=years_font_size,\n",
    "                color=colour_main_axis))"
   ]
  },
  {
   "cell_type": "markdown",
   "id": "a26b290d",
   "metadata": {},
   "source": [
    "# Offshore Wind"
   ]
  },
  {
   "cell_type": "code",
   "execution_count": 39,
   "id": "0c6fa68d",
   "metadata": {},
   "outputs": [],
   "source": [
    "# Historical data\n",
    "hist_cost = hist_cost_data[hist_cost_data.tech == 'OFFSHORE_WIND'][['year','c_inv','installed_cap']]\n",
    "\n",
    "# Prospective data \n",
    "future_cost = future_cost_data[future_cost_data.tech == 'WIND_OFFSHORE'][['year', 'cost_ratio', 'c_inv', 'installed_cap']]\n",
    "\n",
    "# Learning curve : log(capex)==a+b*log(Q)\n",
    "a = 9.176268277\n",
    "b = -0.29401459277"
   ]
  },
  {
   "cell_type": "code",
   "execution_count": 40,
   "id": "c4a7907f",
   "metadata": {},
   "outputs": [
    {
     "data": {
      "application/vnd.plotly.v1+json": {
       "config": {
        "plotlyServerURL": "https://plot.ly"
       },
       "data": [
        {
         "legendgroup": "group",
         "legendgrouptitle": {
          "font": {
           "color": "rgb(10,10,10)"
          },
          "text": "Power capacity"
         },
         "marker": {
          "color": "rgb(0,0,205)",
          "size": 6,
          "symbol": "circle-open"
         },
         "mode": "markers",
         "name": "Onshore Wind - Prospective",
         "type": "scatter",
         "x": [
          541,
          595,
          698,
          903.212,
          1108.424,
          1313.635,
          1518.847,
          1724.059,
          1929.271,
          2134.482,
          2339.694,
          2544.906,
          2750.118,
          2957.488,
          3164.859,
          3372.229,
          3579.6,
          3786.97,
          3994.341,
          4201.711,
          4409.082,
          4616.452,
          4823.823,
          5031.193,
          5238.564,
          5445.934,
          5653.305,
          5860.675,
          6068.046,
          6275.417,
          6482.787,
          6690.158,
          6897.528
         ],
         "y": [
          1520.39,
          1447.57,
          1315.53,
          1347.82,
          1284.84,
          1234.83,
          1193.64,
          1158.81,
          1128.75,
          1102.39,
          1078.99,
          1058,
          1038.99,
          1021.49,
          1005.44,
          990.64,
          976.91,
          964.14,
          952.2,
          941,
          930.47,
          920.53,
          911.12,
          902.2,
          893.73,
          885.65,
          877.95,
          870.59,
          863.54,
          856.79,
          850.3,
          844.07,
          838.07
         ]
        },
        {
         "legendgroup": "group",
         "marker": {
          "color": "rgb(0,0,205)",
          "size": 6,
          "symbol": "circle"
         },
         "mode": "markers+text",
         "name": "Onshore Wind - Historical",
         "textfont": {
          "size": 10
         },
         "type": "scatter",
         "x": [
          178,
          216,
          261,
          292,
          340,
          405,
          453,
          495,
          541,
          595,
          698
         ],
         "y": [
          1914,
          1883,
          1937,
          1797,
          1745,
          1611,
          1604,
          1599,
          1520,
          1448,
          1316
         ]
        },
        {
         "legendgroup": "group",
         "line": {
          "color": "rgb(0,0,205)",
          "width": 1.5
         },
         "mode": "lines",
         "name": "Onshore Wind - Learning Curve",
         "type": "scatter",
         "x": [
          178.00000000000003,
          184.69841505847967,
          191.6489018264855,
          198.86094615196652,
          206.3443908499881,
          214.10944913595645,
          222.16671856435596,
          230.52719549202163,
          239.20229008568927,
          248.20384189430047,
          257.5441360073189,
          267.23591982110855,
          277.2924204362567,
          287.7273627095853,
          298.55498798548706,
          309.7900735321514,
          321.4479527092035,
          333.5445358942865,
          346.0963321971399,
          359.1204719908134,
          372.63473029076613,
          386.65755101375584,
          401.2080721496289,
          416.3061518803629,
          431.9723956820102,
          448.22818444652603,
          465.09570366187256,
          482.5979736902033,
          500.7588811854742,
          519.6032116933404,
          539.1566834778407,
          559.4459826210312,
          580.4987994434731,
          602.3438662952794,
          625.0109967692971,
          648.5311263899429,
          672.936354833219,
          698.2599897355406,
          724.5365921511494,
          751.802023720165,
          780.0934956116404,
          809.4496193084215,
          839.910459303119,
          871.5175877771109,
          904.3141413372019,
          938.344879887365,
          973.6562477159322,
          1010.2964368815681,
          1048.3154529845783,
          1087.7651834132794,
          1128.6994681585907,
          1171.1741732934863,
          1215.2472672175961,
          1260.9788997710052,
          1308.431484325224,
          1357.669782963388,
          1408.7609948658865,
          1461.7748480221135,
          1516.7836943934512,
          1573.8626086573922,
          1633.0894906675535,
          1694.545171769421,
          1758.3135251169167,
          1824.4815801403524,
          1893.1396413219884,
          1964.3814114412894,
          2038.304119458122,
          2115.0086532083433,
          2194.599697092981,
          2277.1858749488374,
          2362.8798982955477,
          2451.7987201614,
          2544.063694697862,
          2639.8007428006485,
          2739.1405239633514,
          2842.21861459823,
          2949.175693067418,
          3060.1577316772236,
          3175.31619589739,
          3294.808251077353,
          3418.7969769415076,
          3547.451590156281,
          3680.9476752727473,
          3819.467424359949,
          3963.199885656049,
          4112.341221576513,
          4267.094976431656,
          4427.672354218693,
          4594.2925068676395,
          4767.182833334282,
          4946.579289948507,
          5132.72671244151,
          5325.879150091391,
          5526.300212443166,
          5734.263429076354,
          5950.052622911271,
          6173.9622975632665,
          6406.298039273847,
          6647.376933966996,
          6897.528
         ],
         "y": [
          1970.111645221424,
          1953.1752957557574,
          1936.3845420658017,
          1919.7381325164308,
          1903.2348262323799,
          1886.873393005749,
          1870.6526132042968,
          1854.5712776805262,
          1838.6281876815572,
          1822.8221547597514,
          1807.1520006841426,
          1791.6165573525923,
          1776.2146667047211,
          1760.945180635584,
          1745.8069609100853,
          1730.7988790781326,
          1715.9198163905169,
          1701.1686637155192,
          1686.5443214562313,
          1672.0456994685887,
          1657.671716980108,
          1643.4213025093222,
          1629.293393785909,
          1615.2869376715119,
          1601.4008900812194,
          1587.6342159057583,
          1573.9858889343154,
          1560.4548917780485,
          1547.0402157942458,
          1533.7408610111383,
          1520.5558360533587,
          1507.484158068041,
          1494.524852651557,
          1481.676953776879,
          1468.9395037215706,
          1456.3115529963934,
          1443.792160274536,
          1431.380392321429,
          1419.0753239251994,
          1406.876037827685,
          1394.7816246560678,
          1382.7911828550855,
          1370.9038186198245,
          1359.1186458290956,
          1347.4347859793772,
          1335.8513681193313,
          1324.3675287848782,
          1312.9824119348325,
          1301.6951688870902,
          1290.5049582553654,
          1279.4109458864714,
          1268.4123047981402,
          1257.5082151173758,
          1246.6978640193379,
          1235.980445666756,
          1225.3551611498526,
          1214.8212184267945,
          1204.3778322646513,
          1194.0242241808598,
          1183.7596223851958,
          1173.5832617222406,
          1163.494383614345,
          1153.492236005082,
          1143.5760733031864,
          1133.7451563269758,
          1123.9987522492504,
          1114.336134542665,
          1104.7565829255711,
          1095.259383308328,
          1085.8438277400671,
          1076.5092143559227,
          1067.2548473247116,
          1058.0800367970644,
          1048.984098854001,
          1039.9663554559504,
          1031.0261343922054,
          1022.1627692308168,
          1013.3755992689131,
          1004.6639694834505,
          996.0272304823859,
          987.4647384562676,
          978.9758551302483,
          970.5599477164967,
          962.2163888670405,
          953.944556626988,
          945.7438343881793,
          937.613610843209,
          929.5532799398702,
          921.5622408359676,
          913.639897854534,
          905.7856604394249,
          897.9989431112973,
          890.2791654239659,
          882.6257519211341,
          875.0381320935018,
          867.5157403362288,
          860.0580159067852,
          852.6644028831387,
          845.3343501223277,
          838.0673112193643
         ]
        },
        {
         "marker": {
          "color": "rgb(30,144,255)",
          "size": 6,
          "symbol": "circle-open"
         },
         "mode": "markers",
         "name": "Offshore Wind - Prospective",
         "type": "scatter",
         "x": [
          23.626,
          28.355,
          34.367,
          66.02,
          97.67,
          129.32,
          160.97,
          192.62,
          224.28,
          255.93,
          287.58,
          319.23,
          350.88,
          401.71,
          452.54,
          503.37,
          554.2,
          605.03,
          655.86,
          706.69,
          757.52,
          808.35,
          859.18,
          910.01,
          960.84,
          1011.67,
          1062.5,
          1113.32,
          1164.15,
          1214.98,
          1265.81,
          1316.64,
          1367.47
         ],
         "y": [
          4496,
          3615,
          3092,
          2820,
          2513,
          2314,
          2170,
          2058,
          1968,
          1893,
          1829,
          1774,
          1725,
          1658,
          1601,
          1552,
          1508,
          1470,
          1436,
          1404,
          1376,
          1350,
          1326,
          1304,
          1283,
          1264,
          1246,
          1229,
          1213,
          1198,
          1183,
          1170,
          1157
         ]
        },
        {
         "marker": {
          "color": "rgb(30,144,255)",
          "size": 6,
          "symbol": "circle"
         },
         "mode": "markers+text",
         "name": "Offshore Wind - Historical",
         "textfont": {
          "size": 10
         },
         "type": "scatter",
         "x": [
          3.056,
          3.776,
          5.334,
          7.171,
          8.492,
          11.717,
          14.342,
          18.837,
          23.626,
          28.355,
          34.367
         ],
         "y": [
          4569,
          5233,
          4631,
          5554,
          5153,
          5168,
          4069,
          4597,
          4496,
          3615,
          3092
         ]
        },
        {
         "line": {
          "color": "rgb(30,144,255)",
          "width": 1.5
         },
         "mode": "lines",
         "name": "Offshore Wind - Learning Curve",
         "type": "scatter",
         "x": [
          3.056,
          3.2503396705285033,
          3.4570379495455956,
          3.676880755867331,
          3.910703987106811,
          4.1593966979670345,
          4.423904480650365,
          4.705233060237787,
          5.004452118708478,
          5.3226993621395895,
          5.66118484655074,
          6.021195578841196,
          6.404100410313601,
          6.811355241390762,
          7.244508557315,
          7.705207315878327,
          8.19520320956995,
          8.716359325951483,
          9.270657231584156,
          9.860204506443042,
          10.487242757465882,
          11.154156141706178,
          11.863480431497628,
          12.617912656097957,
          13.420321356472138,
          14.273757492206242,
          15.181466042022711,
          16.14689834200516,
          17.17372520844577,
          18.265850895211603,
          19.42742793869924,
          20.662872946821967,
          21.976883392063357,
          23.374455472448474,
          24.860903108344687,
          26.441878147322686,
          28.123391853901712,
          29.91183776588837,
          31.814016004214537,
          33.837159128706574,
          35.98895963809576,
          38.27759921883237,
          40.711779853914166,
          43.30075691001323,
          46.05437432870654,
          48.9831020556166,
          52.09807584977646,
          55.41113962458492,
          58.93489048134234,
          62.682726606596745,
          66.66889821541683,
          70.90856173429204,
          75.41783742967564,
          80.2138707012906,
          85.31489727324895,
          90.74031253085906,
          96.51074526675582,
          102.64813611675633,
          109.17582098367234,
          116.11861976627901,
          123.50293073080883,
          131.35683088379633,
          139.71018272791454,
          148.59474780671698,
          158.04430747000995,
          168.0947913190371,
          178.78441381985488,
          190.15381960433854,
          202.24623801129013,
          215.1076474552506,
          228.786950247991,
          243.33615853739397,
          258.8105920707151,
          275.26908853416717,
          292.77422726859487,
          311.39256721185916,
          331.19489997265015,
          352.25651899797947,
          374.65750585779114,
          398.4830347352236,
          423.8236962802632,
          450.77584205816896,
          479.441950902342,
          509.93101856461413,
          542.3589721444934,
          576.8491108731386,
          613.532574928029,
          652.548844060888,
          694.0462679347585,
          738.1826301867152,
          785.1257483609135,
          835.0541119930809,
          888.1575612725987,
          944.6380088626242,
          1004.7102076227889,
          1068.60256715356,
          1136.5580222669548,
          1208.8349566857657,
          1285.7081854834269,
          1367.47
         ],
         "y": [
          6959.219144504205,
          6834.207404939681,
          6711.4413102822255,
          6590.880520951991,
          6472.48542200805,
          6356.217110131399,
          6242.037380841691,
          6129.908715943699,
          6019.794271199283,
          5911.657864220721,
          5805.463962581605,
          5701.1776721413125,
          5598.7647255791135,
          5498.1914711343425,
          5399.42486154883,
          5302.432443207881,
          5207.182345476404,
          5113.643270226606,
          5021.784481553709,
          4931.575795676511,
          4842.987571019349,
          4755.990698472153,
          4670.5565918255425,
          4586.657178377742,
          4504.264889710145,
          4423.352652628669,
          4343.893880267821,
          4265.8624633545005,
          4189.232761628835,
          4113.979595419025,
          4040.0782373676066,
          3967.504404306335,
          3896.2342492769617,
          3826.244353695409,
          3757.5117196567044,
          3690.01376237808,
          3623.728302777888,
          3558.633560187813,
          3494.708145195953,
          3431.9310526185095,
          3370.2816545977385,
          3309.7396938238276,
          3250.285276878584,
          3191.8988676986987,
          3134.561281156374,
          3078.253676755324,
          3022.9575524400066,
          2968.6547385160247,
          2915.3273916797907,
          2862.957989155403,
          2811.529322936853,
          2761.0244941336746,
          2711.426907418151,
          2662.720265572267,
          2614.888564132637,
          2567.916086131607,
          2521.787396932829,
          2476.4873391596216,
          2432.0010277144183,
          2388.3138448876825,
          2345.411435554702,
          2303.2797024586494,
          2261.90480157837,
          2221.273137579407,
          2181.371359346711,
          2142.186355597621,
          2103.70525057363,
          2065.9153998095694,
          2028.8043859787613,
          1992.3600148128353,
          1956.5703110948207,
          1921.4235147242246,
          1886.908076852788,
          1853.0126560896715,
          1819.7261147747938,
          1787.0375153191167,
          1754.9361166106842,
          1723.4113704851989,
          1692.4529182600297,
          1662.0505873304432,
          1632.1943878270145,
          1602.8745093330551,
          1574.0813176610284,
          1545.8053516868567,
          1518.0373202410983,
          1490.7680990559795,
          1463.9887277672549,
          1437.690406969935,
          1411.8644953268931,
          1386.5025067294252,
          1361.5961075088055,
          1337.1371136979303,
          1313.1174883421654,
          1289.5293388584878,
          1266.364914442066,
          1243.6166035194396,
          1221.2769312474363,
          1199.3385570570179,
          1177.7942722412565,
          1156.6369975866319
         ]
        }
       ],
       "layout": {
        "annotations": [
         {
          "font": {
           "color": "rgb(10,10,10)",
           "family": "Times New Roman",
           "size": 10
          },
          "showarrow": true,
          "text": "2010",
          "x": 2.250420002308894,
          "y": 3.281941933440825
         },
         {
          "font": {
           "color": "rgb(10,10,10)",
           "family": "Times New Roman",
           "size": 10
          },
          "showarrow": true,
          "text": "2020",
          "x": 2.843855422623161,
          "y": 3.1192558892779365
         },
         {
          "font": {
           "color": "rgb(10,10,10)",
           "family": "Times New Roman",
           "size": 10
          },
          "showarrow": true,
          "text": "2050",
          "x": 3.8386934721408297,
          "y": 2.923280294697208
         },
         {
          "font": {
           "color": "rgb(10,10,10)",
           "family": "Times New Roman",
           "size": 10
          },
          "showarrow": true,
          "text": "2010",
          "x": 0.48515334990365233,
          "y": 3.659821158055705
         },
         {
          "font": {
           "color": "rgb(10,10,10)",
           "family": "Times New Roman",
           "size": 10
          },
          "showarrow": true,
          "text": "2020",
          "x": 1.5361416229050349,
          "y": 3.4902394852462875
         },
         {
          "font": {
           "color": "rgb(10,10,10)",
           "family": "Times New Roman",
           "size": 10
          },
          "showarrow": true,
          "text": "2050",
          "x": 3.135917807416897,
          "y": 3.0633333589517497
         }
        ],
        "font": {
         "color": "rgb(10,10,10)",
         "family": "Times New Roman",
         "size": 16
        },
        "legend": {
         "x": 1.2
        },
        "template": {
         "data": {
          "bar": [
           {
            "error_x": {
             "color": "#2a3f5f"
            },
            "error_y": {
             "color": "#2a3f5f"
            },
            "marker": {
             "line": {
              "color": "#E5ECF6",
              "width": 0.5
             },
             "pattern": {
              "fillmode": "overlay",
              "size": 10,
              "solidity": 0.2
             }
            },
            "type": "bar"
           }
          ],
          "barpolar": [
           {
            "marker": {
             "line": {
              "color": "#E5ECF6",
              "width": 0.5
             },
             "pattern": {
              "fillmode": "overlay",
              "size": 10,
              "solidity": 0.2
             }
            },
            "type": "barpolar"
           }
          ],
          "carpet": [
           {
            "aaxis": {
             "endlinecolor": "#2a3f5f",
             "gridcolor": "white",
             "linecolor": "white",
             "minorgridcolor": "white",
             "startlinecolor": "#2a3f5f"
            },
            "baxis": {
             "endlinecolor": "#2a3f5f",
             "gridcolor": "white",
             "linecolor": "white",
             "minorgridcolor": "white",
             "startlinecolor": "#2a3f5f"
            },
            "type": "carpet"
           }
          ],
          "choropleth": [
           {
            "colorbar": {
             "outlinewidth": 0,
             "ticks": ""
            },
            "type": "choropleth"
           }
          ],
          "contour": [
           {
            "colorbar": {
             "outlinewidth": 0,
             "ticks": ""
            },
            "colorscale": [
             [
              0,
              "#0d0887"
             ],
             [
              0.1111111111111111,
              "#46039f"
             ],
             [
              0.2222222222222222,
              "#7201a8"
             ],
             [
              0.3333333333333333,
              "#9c179e"
             ],
             [
              0.4444444444444444,
              "#bd3786"
             ],
             [
              0.5555555555555556,
              "#d8576b"
             ],
             [
              0.6666666666666666,
              "#ed7953"
             ],
             [
              0.7777777777777778,
              "#fb9f3a"
             ],
             [
              0.8888888888888888,
              "#fdca26"
             ],
             [
              1,
              "#f0f921"
             ]
            ],
            "type": "contour"
           }
          ],
          "contourcarpet": [
           {
            "colorbar": {
             "outlinewidth": 0,
             "ticks": ""
            },
            "type": "contourcarpet"
           }
          ],
          "heatmap": [
           {
            "colorbar": {
             "outlinewidth": 0,
             "ticks": ""
            },
            "colorscale": [
             [
              0,
              "#0d0887"
             ],
             [
              0.1111111111111111,
              "#46039f"
             ],
             [
              0.2222222222222222,
              "#7201a8"
             ],
             [
              0.3333333333333333,
              "#9c179e"
             ],
             [
              0.4444444444444444,
              "#bd3786"
             ],
             [
              0.5555555555555556,
              "#d8576b"
             ],
             [
              0.6666666666666666,
              "#ed7953"
             ],
             [
              0.7777777777777778,
              "#fb9f3a"
             ],
             [
              0.8888888888888888,
              "#fdca26"
             ],
             [
              1,
              "#f0f921"
             ]
            ],
            "type": "heatmap"
           }
          ],
          "heatmapgl": [
           {
            "colorbar": {
             "outlinewidth": 0,
             "ticks": ""
            },
            "colorscale": [
             [
              0,
              "#0d0887"
             ],
             [
              0.1111111111111111,
              "#46039f"
             ],
             [
              0.2222222222222222,
              "#7201a8"
             ],
             [
              0.3333333333333333,
              "#9c179e"
             ],
             [
              0.4444444444444444,
              "#bd3786"
             ],
             [
              0.5555555555555556,
              "#d8576b"
             ],
             [
              0.6666666666666666,
              "#ed7953"
             ],
             [
              0.7777777777777778,
              "#fb9f3a"
             ],
             [
              0.8888888888888888,
              "#fdca26"
             ],
             [
              1,
              "#f0f921"
             ]
            ],
            "type": "heatmapgl"
           }
          ],
          "histogram": [
           {
            "marker": {
             "pattern": {
              "fillmode": "overlay",
              "size": 10,
              "solidity": 0.2
             }
            },
            "type": "histogram"
           }
          ],
          "histogram2d": [
           {
            "colorbar": {
             "outlinewidth": 0,
             "ticks": ""
            },
            "colorscale": [
             [
              0,
              "#0d0887"
             ],
             [
              0.1111111111111111,
              "#46039f"
             ],
             [
              0.2222222222222222,
              "#7201a8"
             ],
             [
              0.3333333333333333,
              "#9c179e"
             ],
             [
              0.4444444444444444,
              "#bd3786"
             ],
             [
              0.5555555555555556,
              "#d8576b"
             ],
             [
              0.6666666666666666,
              "#ed7953"
             ],
             [
              0.7777777777777778,
              "#fb9f3a"
             ],
             [
              0.8888888888888888,
              "#fdca26"
             ],
             [
              1,
              "#f0f921"
             ]
            ],
            "type": "histogram2d"
           }
          ],
          "histogram2dcontour": [
           {
            "colorbar": {
             "outlinewidth": 0,
             "ticks": ""
            },
            "colorscale": [
             [
              0,
              "#0d0887"
             ],
             [
              0.1111111111111111,
              "#46039f"
             ],
             [
              0.2222222222222222,
              "#7201a8"
             ],
             [
              0.3333333333333333,
              "#9c179e"
             ],
             [
              0.4444444444444444,
              "#bd3786"
             ],
             [
              0.5555555555555556,
              "#d8576b"
             ],
             [
              0.6666666666666666,
              "#ed7953"
             ],
             [
              0.7777777777777778,
              "#fb9f3a"
             ],
             [
              0.8888888888888888,
              "#fdca26"
             ],
             [
              1,
              "#f0f921"
             ]
            ],
            "type": "histogram2dcontour"
           }
          ],
          "mesh3d": [
           {
            "colorbar": {
             "outlinewidth": 0,
             "ticks": ""
            },
            "type": "mesh3d"
           }
          ],
          "parcoords": [
           {
            "line": {
             "colorbar": {
              "outlinewidth": 0,
              "ticks": ""
             }
            },
            "type": "parcoords"
           }
          ],
          "pie": [
           {
            "automargin": true,
            "type": "pie"
           }
          ],
          "scatter": [
           {
            "marker": {
             "colorbar": {
              "outlinewidth": 0,
              "ticks": ""
             }
            },
            "type": "scatter"
           }
          ],
          "scatter3d": [
           {
            "line": {
             "colorbar": {
              "outlinewidth": 0,
              "ticks": ""
             }
            },
            "marker": {
             "colorbar": {
              "outlinewidth": 0,
              "ticks": ""
             }
            },
            "type": "scatter3d"
           }
          ],
          "scattercarpet": [
           {
            "marker": {
             "colorbar": {
              "outlinewidth": 0,
              "ticks": ""
             }
            },
            "type": "scattercarpet"
           }
          ],
          "scattergeo": [
           {
            "marker": {
             "colorbar": {
              "outlinewidth": 0,
              "ticks": ""
             }
            },
            "type": "scattergeo"
           }
          ],
          "scattergl": [
           {
            "marker": {
             "colorbar": {
              "outlinewidth": 0,
              "ticks": ""
             }
            },
            "type": "scattergl"
           }
          ],
          "scattermapbox": [
           {
            "marker": {
             "colorbar": {
              "outlinewidth": 0,
              "ticks": ""
             }
            },
            "type": "scattermapbox"
           }
          ],
          "scatterpolar": [
           {
            "marker": {
             "colorbar": {
              "outlinewidth": 0,
              "ticks": ""
             }
            },
            "type": "scatterpolar"
           }
          ],
          "scatterpolargl": [
           {
            "marker": {
             "colorbar": {
              "outlinewidth": 0,
              "ticks": ""
             }
            },
            "type": "scatterpolargl"
           }
          ],
          "scatterternary": [
           {
            "marker": {
             "colorbar": {
              "outlinewidth": 0,
              "ticks": ""
             }
            },
            "type": "scatterternary"
           }
          ],
          "surface": [
           {
            "colorbar": {
             "outlinewidth": 0,
             "ticks": ""
            },
            "colorscale": [
             [
              0,
              "#0d0887"
             ],
             [
              0.1111111111111111,
              "#46039f"
             ],
             [
              0.2222222222222222,
              "#7201a8"
             ],
             [
              0.3333333333333333,
              "#9c179e"
             ],
             [
              0.4444444444444444,
              "#bd3786"
             ],
             [
              0.5555555555555556,
              "#d8576b"
             ],
             [
              0.6666666666666666,
              "#ed7953"
             ],
             [
              0.7777777777777778,
              "#fb9f3a"
             ],
             [
              0.8888888888888888,
              "#fdca26"
             ],
             [
              1,
              "#f0f921"
             ]
            ],
            "type": "surface"
           }
          ],
          "table": [
           {
            "cells": {
             "fill": {
              "color": "#EBF0F8"
             },
             "line": {
              "color": "white"
             }
            },
            "header": {
             "fill": {
              "color": "#C8D4E3"
             },
             "line": {
              "color": "white"
             }
            },
            "type": "table"
           }
          ]
         },
         "layout": {
          "annotationdefaults": {
           "arrowcolor": "#2a3f5f",
           "arrowhead": 0,
           "arrowwidth": 1
          },
          "autotypenumbers": "strict",
          "coloraxis": {
           "colorbar": {
            "outlinewidth": 0,
            "ticks": ""
           }
          },
          "colorscale": {
           "diverging": [
            [
             0,
             "#8e0152"
            ],
            [
             0.1,
             "#c51b7d"
            ],
            [
             0.2,
             "#de77ae"
            ],
            [
             0.3,
             "#f1b6da"
            ],
            [
             0.4,
             "#fde0ef"
            ],
            [
             0.5,
             "#f7f7f7"
            ],
            [
             0.6,
             "#e6f5d0"
            ],
            [
             0.7,
             "#b8e186"
            ],
            [
             0.8,
             "#7fbc41"
            ],
            [
             0.9,
             "#4d9221"
            ],
            [
             1,
             "#276419"
            ]
           ],
           "sequential": [
            [
             0,
             "#0d0887"
            ],
            [
             0.1111111111111111,
             "#46039f"
            ],
            [
             0.2222222222222222,
             "#7201a8"
            ],
            [
             0.3333333333333333,
             "#9c179e"
            ],
            [
             0.4444444444444444,
             "#bd3786"
            ],
            [
             0.5555555555555556,
             "#d8576b"
            ],
            [
             0.6666666666666666,
             "#ed7953"
            ],
            [
             0.7777777777777778,
             "#fb9f3a"
            ],
            [
             0.8888888888888888,
             "#fdca26"
            ],
            [
             1,
             "#f0f921"
            ]
           ],
           "sequentialminus": [
            [
             0,
             "#0d0887"
            ],
            [
             0.1111111111111111,
             "#46039f"
            ],
            [
             0.2222222222222222,
             "#7201a8"
            ],
            [
             0.3333333333333333,
             "#9c179e"
            ],
            [
             0.4444444444444444,
             "#bd3786"
            ],
            [
             0.5555555555555556,
             "#d8576b"
            ],
            [
             0.6666666666666666,
             "#ed7953"
            ],
            [
             0.7777777777777778,
             "#fb9f3a"
            ],
            [
             0.8888888888888888,
             "#fdca26"
            ],
            [
             1,
             "#f0f921"
            ]
           ]
          },
          "colorway": [
           "#636efa",
           "#EF553B",
           "#00cc96",
           "#ab63fa",
           "#FFA15A",
           "#19d3f3",
           "#FF6692",
           "#B6E880",
           "#FF97FF",
           "#FECB52"
          ],
          "font": {
           "color": "#2a3f5f"
          },
          "geo": {
           "bgcolor": "white",
           "lakecolor": "white",
           "landcolor": "#E5ECF6",
           "showlakes": true,
           "showland": true,
           "subunitcolor": "white"
          },
          "hoverlabel": {
           "align": "left"
          },
          "hovermode": "closest",
          "mapbox": {
           "style": "light"
          },
          "paper_bgcolor": "white",
          "plot_bgcolor": "#E5ECF6",
          "polar": {
           "angularaxis": {
            "gridcolor": "white",
            "linecolor": "white",
            "ticks": ""
           },
           "bgcolor": "#E5ECF6",
           "radialaxis": {
            "gridcolor": "white",
            "linecolor": "white",
            "ticks": ""
           }
          },
          "scene": {
           "xaxis": {
            "backgroundcolor": "#E5ECF6",
            "gridcolor": "white",
            "gridwidth": 2,
            "linecolor": "white",
            "showbackground": true,
            "ticks": "",
            "zerolinecolor": "white"
           },
           "yaxis": {
            "backgroundcolor": "#E5ECF6",
            "gridcolor": "white",
            "gridwidth": 2,
            "linecolor": "white",
            "showbackground": true,
            "ticks": "",
            "zerolinecolor": "white"
           },
           "zaxis": {
            "backgroundcolor": "#E5ECF6",
            "gridcolor": "white",
            "gridwidth": 2,
            "linecolor": "white",
            "showbackground": true,
            "ticks": "",
            "zerolinecolor": "white"
           }
          },
          "shapedefaults": {
           "line": {
            "color": "#2a3f5f"
           }
          },
          "ternary": {
           "aaxis": {
            "gridcolor": "white",
            "linecolor": "white",
            "ticks": ""
           },
           "baxis": {
            "gridcolor": "white",
            "linecolor": "white",
            "ticks": ""
           },
           "bgcolor": "#E5ECF6",
           "caxis": {
            "gridcolor": "white",
            "linecolor": "white",
            "ticks": ""
           }
          },
          "title": {
           "x": 0.05
          },
          "xaxis": {
           "automargin": true,
           "gridcolor": "white",
           "linecolor": "white",
           "ticks": "",
           "title": {
            "standoff": 15
           },
           "zerolinecolor": "white",
           "zerolinewidth": 2
          },
          "yaxis": {
           "automargin": true,
           "gridcolor": "white",
           "linecolor": "white",
           "ticks": "",
           "title": {
            "standoff": 15
           },
           "zerolinecolor": "white",
           "zerolinewidth": 2
          }
         }
        },
        "title": {
         "text": "",
         "y": 1
        },
        "xaxis": {
         "showgrid": true,
         "title": {
          "font": {
           "family": "Times New Roman"
          },
          "text": "Cumulative Capacity [GW]"
         },
         "type": "log"
        },
        "xaxis2": {
         "anchor": "y",
         "automargin": true,
         "color": "rgb(105,105,105)",
         "overlaying": "x",
         "showgrid": true,
         "side": "top",
         "title": {
          "font": {
           "color": "rgb(10,10,10)",
           "family": "Times New Roman"
          },
          "text": "CO<sub>2</sub> capture capacity [Mtpa]"
         },
         "type": "log"
        },
        "yaxis": {
         "showgrid": true,
         "title": {
          "font": {
           "family": "Times New Roman"
          },
          "text": "Investment Cost [USD<sub>2018</sub>/kW]"
         },
         "type": "log"
        },
        "yaxis2": {
         "anchor": "x",
         "automargin": true,
         "color": "rgb(105,105,105)",
         "overlaying": "y",
         "showgrid": true,
         "side": "right",
         "title": {
          "font": {
           "color": "rgb(10,10,10)",
           "family": "Times New Roman"
          },
          "text": "Cost of CO<sub>2</sub> capture [USD<sub>2018</sub>/tCO<sub>2</sub>]"
         },
         "type": "log"
        }
       }
      },
      "text/html": [
       "<div>                            <div id=\"d2c2effb-bce5-49e8-a49d-542badde2bec\" class=\"plotly-graph-div\" style=\"height:525px; width:100%;\"></div>            <script type=\"text/javascript\">                require([\"plotly\"], function(Plotly) {                    window.PLOTLYENV=window.PLOTLYENV || {};                                    if (document.getElementById(\"d2c2effb-bce5-49e8-a49d-542badde2bec\")) {                    Plotly.newPlot(                        \"d2c2effb-bce5-49e8-a49d-542badde2bec\",                        [{\"legendgroup\":\"group\",\"legendgrouptitle\":{\"font\":{\"color\":\"rgb(10,10,10)\"},\"text\":\"Power capacity\"},\"marker\":{\"color\":\"rgb(0,0,205)\",\"size\":6,\"symbol\":\"circle-open\"},\"mode\":\"markers\",\"name\":\"Onshore Wind - Prospective\",\"type\":\"scatter\",\"x\":[541.0,595.0,698.0,903.212,1108.424,1313.635,1518.847,1724.059,1929.271,2134.482,2339.694,2544.906,2750.118,2957.488,3164.859,3372.229,3579.6,3786.97,3994.341,4201.711,4409.082,4616.452,4823.823,5031.193,5238.564,5445.934,5653.305,5860.675,6068.046,6275.417,6482.787,6690.158,6897.528],\"y\":[1520.39,1447.57,1315.53,1347.82,1284.84,1234.83,1193.64,1158.81,1128.75,1102.39,1078.99,1058.0,1038.99,1021.49,1005.44,990.64,976.91,964.14,952.2,941.0,930.47,920.53,911.12,902.2,893.73,885.65,877.95,870.59,863.54,856.79,850.3,844.07,838.07]},{\"legendgroup\":\"group\",\"marker\":{\"color\":\"rgb(0,0,205)\",\"size\":6,\"symbol\":\"circle\"},\"mode\":\"markers+text\",\"name\":\"Onshore Wind - Historical\",\"textfont\":{\"size\":10},\"type\":\"scatter\",\"x\":[178.0,216.0,261.0,292.0,340.0,405.0,453.0,495.0,541.0,595.0,698.0],\"y\":[1914.0,1883.0,1937.0,1797.0,1745.0,1611.0,1604.0,1599.0,1520.0,1448.0,1316.0]},{\"legendgroup\":\"group\",\"line\":{\"color\":\"rgb(0,0,205)\",\"width\":1.5},\"mode\":\"lines\",\"name\":\"Onshore Wind - Learning Curve\",\"type\":\"scatter\",\"x\":[178.00000000000003,184.69841505847967,191.6489018264855,198.86094615196652,206.3443908499881,214.10944913595645,222.16671856435596,230.52719549202163,239.20229008568927,248.20384189430047,257.5441360073189,267.23591982110855,277.2924204362567,287.7273627095853,298.55498798548706,309.7900735321514,321.4479527092035,333.5445358942865,346.0963321971399,359.1204719908134,372.63473029076613,386.65755101375584,401.2080721496289,416.3061518803629,431.9723956820102,448.22818444652603,465.09570366187256,482.5979736902033,500.7588811854742,519.6032116933404,539.1566834778407,559.4459826210312,580.4987994434731,602.3438662952794,625.0109967692971,648.5311263899429,672.936354833219,698.2599897355406,724.5365921511494,751.802023720165,780.0934956116404,809.4496193084215,839.910459303119,871.5175877771109,904.3141413372019,938.344879887365,973.6562477159322,1010.2964368815681,1048.3154529845783,1087.7651834132794,1128.6994681585907,1171.1741732934863,1215.2472672175961,1260.9788997710052,1308.431484325224,1357.669782963388,1408.7609948658865,1461.7748480221135,1516.7836943934512,1573.8626086573922,1633.0894906675535,1694.545171769421,1758.3135251169167,1824.4815801403524,1893.1396413219884,1964.3814114412894,2038.304119458122,2115.0086532083433,2194.599697092981,2277.1858749488374,2362.8798982955477,2451.7987201614,2544.063694697862,2639.8007428006485,2739.1405239633514,2842.21861459823,2949.175693067418,3060.1577316772236,3175.31619589739,3294.808251077353,3418.7969769415076,3547.451590156281,3680.9476752727473,3819.467424359949,3963.199885656049,4112.341221576513,4267.094976431656,4427.672354218693,4594.2925068676395,4767.182833334282,4946.579289948507,5132.72671244151,5325.879150091391,5526.300212443166,5734.263429076354,5950.052622911271,6173.9622975632665,6406.298039273847,6647.376933966996,6897.528],\"y\":[1970.111645221424,1953.1752957557574,1936.3845420658017,1919.7381325164308,1903.2348262323799,1886.873393005749,1870.6526132042968,1854.5712776805262,1838.6281876815572,1822.8221547597514,1807.1520006841426,1791.6165573525923,1776.2146667047211,1760.945180635584,1745.8069609100853,1730.7988790781326,1715.9198163905169,1701.1686637155192,1686.5443214562313,1672.0456994685887,1657.671716980108,1643.4213025093222,1629.293393785909,1615.2869376715119,1601.4008900812194,1587.6342159057583,1573.9858889343154,1560.4548917780485,1547.0402157942458,1533.7408610111383,1520.5558360533587,1507.484158068041,1494.524852651557,1481.676953776879,1468.9395037215706,1456.3115529963934,1443.792160274536,1431.380392321429,1419.0753239251994,1406.876037827685,1394.7816246560678,1382.7911828550855,1370.9038186198245,1359.1186458290956,1347.4347859793772,1335.8513681193313,1324.3675287848782,1312.9824119348325,1301.6951688870902,1290.5049582553654,1279.4109458864714,1268.4123047981402,1257.5082151173758,1246.6978640193379,1235.980445666756,1225.3551611498526,1214.8212184267945,1204.3778322646513,1194.0242241808598,1183.7596223851958,1173.5832617222406,1163.494383614345,1153.492236005082,1143.5760733031864,1133.7451563269758,1123.9987522492504,1114.336134542665,1104.7565829255711,1095.259383308328,1085.8438277400671,1076.5092143559227,1067.2548473247116,1058.0800367970644,1048.984098854001,1039.9663554559504,1031.0261343922054,1022.1627692308168,1013.3755992689131,1004.6639694834505,996.0272304823859,987.4647384562676,978.9758551302483,970.5599477164967,962.2163888670405,953.944556626988,945.7438343881793,937.613610843209,929.5532799398702,921.5622408359676,913.639897854534,905.7856604394249,897.9989431112973,890.2791654239659,882.6257519211341,875.0381320935018,867.5157403362288,860.0580159067852,852.6644028831387,845.3343501223277,838.0673112193643]},{\"marker\":{\"color\":\"rgb(30,144,255)\",\"size\":6,\"symbol\":\"circle-open\"},\"mode\":\"markers\",\"name\":\"Offshore Wind - Prospective\",\"type\":\"scatter\",\"x\":[23.626,28.355,34.367,66.02,97.67,129.32,160.97,192.62,224.28,255.93,287.58,319.23,350.88,401.71,452.54,503.37,554.2,605.03,655.86,706.69,757.52,808.35,859.18,910.01,960.84,1011.67,1062.5,1113.32,1164.15,1214.98,1265.81,1316.64,1367.47],\"y\":[4496.0,3615.0,3092.0,2820.0,2513.0,2314.0,2170.0,2058.0,1968.0,1893.0,1829.0,1774.0,1725.0,1658.0,1601.0,1552.0,1508.0,1470.0,1436.0,1404.0,1376.0,1350.0,1326.0,1304.0,1283.0,1264.0,1246.0,1229.0,1213.0,1198.0,1183.0,1170.0,1157.0]},{\"marker\":{\"color\":\"rgb(30,144,255)\",\"size\":6,\"symbol\":\"circle\"},\"mode\":\"markers+text\",\"name\":\"Offshore Wind - Historical\",\"textfont\":{\"size\":10},\"type\":\"scatter\",\"x\":[3.056,3.776,5.334,7.171,8.492,11.717,14.342,18.837,23.626,28.355,34.367],\"y\":[4569.0,5233.0,4631.0,5554.0,5153.0,5168.0,4069.0,4597.0,4496.0,3615.0,3092.0]},{\"line\":{\"color\":\"rgb(30,144,255)\",\"width\":1.5},\"mode\":\"lines\",\"name\":\"Offshore Wind - Learning Curve\",\"type\":\"scatter\",\"x\":[3.056,3.2503396705285033,3.4570379495455956,3.676880755867331,3.910703987106811,4.1593966979670345,4.423904480650365,4.705233060237787,5.004452118708478,5.3226993621395895,5.66118484655074,6.021195578841196,6.404100410313601,6.811355241390762,7.244508557315,7.705207315878327,8.19520320956995,8.716359325951483,9.270657231584156,9.860204506443042,10.487242757465882,11.154156141706178,11.863480431497628,12.617912656097957,13.420321356472138,14.273757492206242,15.181466042022711,16.14689834200516,17.17372520844577,18.265850895211603,19.42742793869924,20.662872946821967,21.976883392063357,23.374455472448474,24.860903108344687,26.441878147322686,28.123391853901712,29.91183776588837,31.814016004214537,33.837159128706574,35.98895963809576,38.27759921883237,40.711779853914166,43.30075691001323,46.05437432870654,48.9831020556166,52.09807584977646,55.41113962458492,58.93489048134234,62.682726606596745,66.66889821541683,70.90856173429204,75.41783742967564,80.2138707012906,85.31489727324895,90.74031253085906,96.51074526675582,102.64813611675633,109.17582098367234,116.11861976627901,123.50293073080883,131.35683088379633,139.71018272791454,148.59474780671698,158.04430747000995,168.0947913190371,178.78441381985488,190.15381960433854,202.24623801129013,215.1076474552506,228.786950247991,243.33615853739397,258.8105920707151,275.26908853416717,292.77422726859487,311.39256721185916,331.19489997265015,352.25651899797947,374.65750585779114,398.4830347352236,423.8236962802632,450.77584205816896,479.441950902342,509.93101856461413,542.3589721444934,576.8491108731386,613.532574928029,652.548844060888,694.0462679347585,738.1826301867152,785.1257483609135,835.0541119930809,888.1575612725987,944.6380088626242,1004.7102076227889,1068.60256715356,1136.5580222669548,1208.8349566857657,1285.7081854834269,1367.47],\"y\":[6959.219144504205,6834.207404939681,6711.4413102822255,6590.880520951991,6472.48542200805,6356.217110131399,6242.037380841691,6129.908715943699,6019.794271199283,5911.657864220721,5805.463962581605,5701.1776721413125,5598.7647255791135,5498.1914711343425,5399.42486154883,5302.432443207881,5207.182345476404,5113.643270226606,5021.784481553709,4931.575795676511,4842.987571019349,4755.990698472153,4670.5565918255425,4586.657178377742,4504.264889710145,4423.352652628669,4343.893880267821,4265.8624633545005,4189.232761628835,4113.979595419025,4040.0782373676066,3967.504404306335,3896.2342492769617,3826.244353695409,3757.5117196567044,3690.01376237808,3623.728302777888,3558.633560187813,3494.708145195953,3431.9310526185095,3370.2816545977385,3309.7396938238276,3250.285276878584,3191.8988676986987,3134.561281156374,3078.253676755324,3022.9575524400066,2968.6547385160247,2915.3273916797907,2862.957989155403,2811.529322936853,2761.0244941336746,2711.426907418151,2662.720265572267,2614.888564132637,2567.916086131607,2521.787396932829,2476.4873391596216,2432.0010277144183,2388.3138448876825,2345.411435554702,2303.2797024586494,2261.90480157837,2221.273137579407,2181.371359346711,2142.186355597621,2103.70525057363,2065.9153998095694,2028.8043859787613,1992.3600148128353,1956.5703110948207,1921.4235147242246,1886.908076852788,1853.0126560896715,1819.7261147747938,1787.0375153191167,1754.9361166106842,1723.4113704851989,1692.4529182600297,1662.0505873304432,1632.1943878270145,1602.8745093330551,1574.0813176610284,1545.8053516868567,1518.0373202410983,1490.7680990559795,1463.9887277672549,1437.690406969935,1411.8644953268931,1386.5025067294252,1361.5961075088055,1337.1371136979303,1313.1174883421654,1289.5293388584878,1266.364914442066,1243.6166035194396,1221.2769312474363,1199.3385570570179,1177.7942722412565,1156.6369975866319]}],                        {\"annotations\":[{\"font\":{\"color\":\"rgb(10,10,10)\",\"family\":\"Times New Roman\",\"size\":10},\"showarrow\":true,\"text\":\"2010\",\"x\":2.250420002308894,\"y\":3.281941933440825},{\"font\":{\"color\":\"rgb(10,10,10)\",\"family\":\"Times New Roman\",\"size\":10},\"showarrow\":true,\"text\":\"2020\",\"x\":2.843855422623161,\"y\":3.1192558892779365},{\"font\":{\"color\":\"rgb(10,10,10)\",\"family\":\"Times New Roman\",\"size\":10},\"showarrow\":true,\"text\":\"2050\",\"x\":3.8386934721408297,\"y\":2.923280294697208},{\"font\":{\"color\":\"rgb(10,10,10)\",\"family\":\"Times New Roman\",\"size\":10},\"showarrow\":true,\"text\":\"2010\",\"x\":0.48515334990365233,\"y\":3.659821158055705},{\"font\":{\"color\":\"rgb(10,10,10)\",\"family\":\"Times New Roman\",\"size\":10},\"showarrow\":true,\"text\":\"2020\",\"x\":1.5361416229050349,\"y\":3.4902394852462875},{\"font\":{\"color\":\"rgb(10,10,10)\",\"family\":\"Times New Roman\",\"size\":10},\"showarrow\":true,\"text\":\"2050\",\"x\":3.135917807416897,\"y\":3.0633333589517497}],\"font\":{\"color\":\"rgb(10,10,10)\",\"family\":\"Times New Roman\",\"size\":16},\"legend\":{\"x\":1.2},\"template\":{\"data\":{\"bar\":[{\"error_x\":{\"color\":\"#2a3f5f\"},\"error_y\":{\"color\":\"#2a3f5f\"},\"marker\":{\"line\":{\"color\":\"#E5ECF6\",\"width\":0.5},\"pattern\":{\"fillmode\":\"overlay\",\"size\":10,\"solidity\":0.2}},\"type\":\"bar\"}],\"barpolar\":[{\"marker\":{\"line\":{\"color\":\"#E5ECF6\",\"width\":0.5},\"pattern\":{\"fillmode\":\"overlay\",\"size\":10,\"solidity\":0.2}},\"type\":\"barpolar\"}],\"carpet\":[{\"aaxis\":{\"endlinecolor\":\"#2a3f5f\",\"gridcolor\":\"white\",\"linecolor\":\"white\",\"minorgridcolor\":\"white\",\"startlinecolor\":\"#2a3f5f\"},\"baxis\":{\"endlinecolor\":\"#2a3f5f\",\"gridcolor\":\"white\",\"linecolor\":\"white\",\"minorgridcolor\":\"white\",\"startlinecolor\":\"#2a3f5f\"},\"type\":\"carpet\"}],\"choropleth\":[{\"colorbar\":{\"outlinewidth\":0,\"ticks\":\"\"},\"type\":\"choropleth\"}],\"contour\":[{\"colorbar\":{\"outlinewidth\":0,\"ticks\":\"\"},\"colorscale\":[[0.0,\"#0d0887\"],[0.1111111111111111,\"#46039f\"],[0.2222222222222222,\"#7201a8\"],[0.3333333333333333,\"#9c179e\"],[0.4444444444444444,\"#bd3786\"],[0.5555555555555556,\"#d8576b\"],[0.6666666666666666,\"#ed7953\"],[0.7777777777777778,\"#fb9f3a\"],[0.8888888888888888,\"#fdca26\"],[1.0,\"#f0f921\"]],\"type\":\"contour\"}],\"contourcarpet\":[{\"colorbar\":{\"outlinewidth\":0,\"ticks\":\"\"},\"type\":\"contourcarpet\"}],\"heatmap\":[{\"colorbar\":{\"outlinewidth\":0,\"ticks\":\"\"},\"colorscale\":[[0.0,\"#0d0887\"],[0.1111111111111111,\"#46039f\"],[0.2222222222222222,\"#7201a8\"],[0.3333333333333333,\"#9c179e\"],[0.4444444444444444,\"#bd3786\"],[0.5555555555555556,\"#d8576b\"],[0.6666666666666666,\"#ed7953\"],[0.7777777777777778,\"#fb9f3a\"],[0.8888888888888888,\"#fdca26\"],[1.0,\"#f0f921\"]],\"type\":\"heatmap\"}],\"heatmapgl\":[{\"colorbar\":{\"outlinewidth\":0,\"ticks\":\"\"},\"colorscale\":[[0.0,\"#0d0887\"],[0.1111111111111111,\"#46039f\"],[0.2222222222222222,\"#7201a8\"],[0.3333333333333333,\"#9c179e\"],[0.4444444444444444,\"#bd3786\"],[0.5555555555555556,\"#d8576b\"],[0.6666666666666666,\"#ed7953\"],[0.7777777777777778,\"#fb9f3a\"],[0.8888888888888888,\"#fdca26\"],[1.0,\"#f0f921\"]],\"type\":\"heatmapgl\"}],\"histogram\":[{\"marker\":{\"pattern\":{\"fillmode\":\"overlay\",\"size\":10,\"solidity\":0.2}},\"type\":\"histogram\"}],\"histogram2d\":[{\"colorbar\":{\"outlinewidth\":0,\"ticks\":\"\"},\"colorscale\":[[0.0,\"#0d0887\"],[0.1111111111111111,\"#46039f\"],[0.2222222222222222,\"#7201a8\"],[0.3333333333333333,\"#9c179e\"],[0.4444444444444444,\"#bd3786\"],[0.5555555555555556,\"#d8576b\"],[0.6666666666666666,\"#ed7953\"],[0.7777777777777778,\"#fb9f3a\"],[0.8888888888888888,\"#fdca26\"],[1.0,\"#f0f921\"]],\"type\":\"histogram2d\"}],\"histogram2dcontour\":[{\"colorbar\":{\"outlinewidth\":0,\"ticks\":\"\"},\"colorscale\":[[0.0,\"#0d0887\"],[0.1111111111111111,\"#46039f\"],[0.2222222222222222,\"#7201a8\"],[0.3333333333333333,\"#9c179e\"],[0.4444444444444444,\"#bd3786\"],[0.5555555555555556,\"#d8576b\"],[0.6666666666666666,\"#ed7953\"],[0.7777777777777778,\"#fb9f3a\"],[0.8888888888888888,\"#fdca26\"],[1.0,\"#f0f921\"]],\"type\":\"histogram2dcontour\"}],\"mesh3d\":[{\"colorbar\":{\"outlinewidth\":0,\"ticks\":\"\"},\"type\":\"mesh3d\"}],\"parcoords\":[{\"line\":{\"colorbar\":{\"outlinewidth\":0,\"ticks\":\"\"}},\"type\":\"parcoords\"}],\"pie\":[{\"automargin\":true,\"type\":\"pie\"}],\"scatter\":[{\"marker\":{\"colorbar\":{\"outlinewidth\":0,\"ticks\":\"\"}},\"type\":\"scatter\"}],\"scatter3d\":[{\"line\":{\"colorbar\":{\"outlinewidth\":0,\"ticks\":\"\"}},\"marker\":{\"colorbar\":{\"outlinewidth\":0,\"ticks\":\"\"}},\"type\":\"scatter3d\"}],\"scattercarpet\":[{\"marker\":{\"colorbar\":{\"outlinewidth\":0,\"ticks\":\"\"}},\"type\":\"scattercarpet\"}],\"scattergeo\":[{\"marker\":{\"colorbar\":{\"outlinewidth\":0,\"ticks\":\"\"}},\"type\":\"scattergeo\"}],\"scattergl\":[{\"marker\":{\"colorbar\":{\"outlinewidth\":0,\"ticks\":\"\"}},\"type\":\"scattergl\"}],\"scattermapbox\":[{\"marker\":{\"colorbar\":{\"outlinewidth\":0,\"ticks\":\"\"}},\"type\":\"scattermapbox\"}],\"scatterpolar\":[{\"marker\":{\"colorbar\":{\"outlinewidth\":0,\"ticks\":\"\"}},\"type\":\"scatterpolar\"}],\"scatterpolargl\":[{\"marker\":{\"colorbar\":{\"outlinewidth\":0,\"ticks\":\"\"}},\"type\":\"scatterpolargl\"}],\"scatterternary\":[{\"marker\":{\"colorbar\":{\"outlinewidth\":0,\"ticks\":\"\"}},\"type\":\"scatterternary\"}],\"surface\":[{\"colorbar\":{\"outlinewidth\":0,\"ticks\":\"\"},\"colorscale\":[[0.0,\"#0d0887\"],[0.1111111111111111,\"#46039f\"],[0.2222222222222222,\"#7201a8\"],[0.3333333333333333,\"#9c179e\"],[0.4444444444444444,\"#bd3786\"],[0.5555555555555556,\"#d8576b\"],[0.6666666666666666,\"#ed7953\"],[0.7777777777777778,\"#fb9f3a\"],[0.8888888888888888,\"#fdca26\"],[1.0,\"#f0f921\"]],\"type\":\"surface\"}],\"table\":[{\"cells\":{\"fill\":{\"color\":\"#EBF0F8\"},\"line\":{\"color\":\"white\"}},\"header\":{\"fill\":{\"color\":\"#C8D4E3\"},\"line\":{\"color\":\"white\"}},\"type\":\"table\"}]},\"layout\":{\"annotationdefaults\":{\"arrowcolor\":\"#2a3f5f\",\"arrowhead\":0,\"arrowwidth\":1},\"autotypenumbers\":\"strict\",\"coloraxis\":{\"colorbar\":{\"outlinewidth\":0,\"ticks\":\"\"}},\"colorscale\":{\"diverging\":[[0,\"#8e0152\"],[0.1,\"#c51b7d\"],[0.2,\"#de77ae\"],[0.3,\"#f1b6da\"],[0.4,\"#fde0ef\"],[0.5,\"#f7f7f7\"],[0.6,\"#e6f5d0\"],[0.7,\"#b8e186\"],[0.8,\"#7fbc41\"],[0.9,\"#4d9221\"],[1,\"#276419\"]],\"sequential\":[[0.0,\"#0d0887\"],[0.1111111111111111,\"#46039f\"],[0.2222222222222222,\"#7201a8\"],[0.3333333333333333,\"#9c179e\"],[0.4444444444444444,\"#bd3786\"],[0.5555555555555556,\"#d8576b\"],[0.6666666666666666,\"#ed7953\"],[0.7777777777777778,\"#fb9f3a\"],[0.8888888888888888,\"#fdca26\"],[1.0,\"#f0f921\"]],\"sequentialminus\":[[0.0,\"#0d0887\"],[0.1111111111111111,\"#46039f\"],[0.2222222222222222,\"#7201a8\"],[0.3333333333333333,\"#9c179e\"],[0.4444444444444444,\"#bd3786\"],[0.5555555555555556,\"#d8576b\"],[0.6666666666666666,\"#ed7953\"],[0.7777777777777778,\"#fb9f3a\"],[0.8888888888888888,\"#fdca26\"],[1.0,\"#f0f921\"]]},\"colorway\":[\"#636efa\",\"#EF553B\",\"#00cc96\",\"#ab63fa\",\"#FFA15A\",\"#19d3f3\",\"#FF6692\",\"#B6E880\",\"#FF97FF\",\"#FECB52\"],\"font\":{\"color\":\"#2a3f5f\"},\"geo\":{\"bgcolor\":\"white\",\"lakecolor\":\"white\",\"landcolor\":\"#E5ECF6\",\"showlakes\":true,\"showland\":true,\"subunitcolor\":\"white\"},\"hoverlabel\":{\"align\":\"left\"},\"hovermode\":\"closest\",\"mapbox\":{\"style\":\"light\"},\"paper_bgcolor\":\"white\",\"plot_bgcolor\":\"#E5ECF6\",\"polar\":{\"angularaxis\":{\"gridcolor\":\"white\",\"linecolor\":\"white\",\"ticks\":\"\"},\"bgcolor\":\"#E5ECF6\",\"radialaxis\":{\"gridcolor\":\"white\",\"linecolor\":\"white\",\"ticks\":\"\"}},\"scene\":{\"xaxis\":{\"backgroundcolor\":\"#E5ECF6\",\"gridcolor\":\"white\",\"gridwidth\":2,\"linecolor\":\"white\",\"showbackground\":true,\"ticks\":\"\",\"zerolinecolor\":\"white\"},\"yaxis\":{\"backgroundcolor\":\"#E5ECF6\",\"gridcolor\":\"white\",\"gridwidth\":2,\"linecolor\":\"white\",\"showbackground\":true,\"ticks\":\"\",\"zerolinecolor\":\"white\"},\"zaxis\":{\"backgroundcolor\":\"#E5ECF6\",\"gridcolor\":\"white\",\"gridwidth\":2,\"linecolor\":\"white\",\"showbackground\":true,\"ticks\":\"\",\"zerolinecolor\":\"white\"}},\"shapedefaults\":{\"line\":{\"color\":\"#2a3f5f\"}},\"ternary\":{\"aaxis\":{\"gridcolor\":\"white\",\"linecolor\":\"white\",\"ticks\":\"\"},\"baxis\":{\"gridcolor\":\"white\",\"linecolor\":\"white\",\"ticks\":\"\"},\"bgcolor\":\"#E5ECF6\",\"caxis\":{\"gridcolor\":\"white\",\"linecolor\":\"white\",\"ticks\":\"\"}},\"title\":{\"x\":0.05},\"xaxis\":{\"automargin\":true,\"gridcolor\":\"white\",\"linecolor\":\"white\",\"ticks\":\"\",\"title\":{\"standoff\":15},\"zerolinecolor\":\"white\",\"zerolinewidth\":2},\"yaxis\":{\"automargin\":true,\"gridcolor\":\"white\",\"linecolor\":\"white\",\"ticks\":\"\",\"title\":{\"standoff\":15},\"zerolinecolor\":\"white\",\"zerolinewidth\":2}}},\"title\":{\"text\":\"\",\"y\":1},\"xaxis\":{\"showgrid\":true,\"title\":{\"font\":{\"family\":\"Times New Roman\"},\"text\":\"Cumulative Capacity [GW]\"},\"type\":\"log\"},\"xaxis2\":{\"anchor\":\"y\",\"automargin\":true,\"color\":\"rgb(105,105,105)\",\"overlaying\":\"x\",\"showgrid\":true,\"side\":\"top\",\"title\":{\"font\":{\"color\":\"rgb(10,10,10)\",\"family\":\"Times New Roman\"},\"text\":\"CO<sub>2</sub> capture capacity [Mtpa]\"},\"type\":\"log\"},\"yaxis\":{\"showgrid\":true,\"title\":{\"font\":{\"family\":\"Times New Roman\"},\"text\":\"Investment Cost [USD<sub>2018</sub>/kW]\"},\"type\":\"log\"},\"yaxis2\":{\"anchor\":\"x\",\"automargin\":true,\"color\":\"rgb(105,105,105)\",\"overlaying\":\"y\",\"showgrid\":true,\"side\":\"right\",\"title\":{\"font\":{\"color\":\"rgb(10,10,10)\",\"family\":\"Times New Roman\"},\"text\":\"Cost of CO<sub>2</sub> capture [USD<sub>2018</sub>/tCO<sub>2</sub>]\"},\"type\":\"log\"}},                        {\"responsive\": true}                    ).then(function(){\n",
       "                            \n",
       "var gd = document.getElementById('d2c2effb-bce5-49e8-a49d-542badde2bec');\n",
       "var x = new MutationObserver(function (mutations, observer) {{\n",
       "        var display = window.getComputedStyle(gd).display;\n",
       "        if (!display || display === 'none') {{\n",
       "            console.log([gd, 'removed!']);\n",
       "            Plotly.purge(gd);\n",
       "            observer.disconnect();\n",
       "        }}\n",
       "}});\n",
       "\n",
       "// Listen for the removal of the full notebook cells\n",
       "var notebookContainer = gd.closest('#notebook-container');\n",
       "if (notebookContainer) {{\n",
       "    x.observe(notebookContainer, {childList: true});\n",
       "}}\n",
       "\n",
       "// Listen for the clearing of the current output cell\n",
       "var outputEl = gd.closest('.output');\n",
       "if (outputEl) {{\n",
       "    x.observe(outputEl, {childList: true});\n",
       "}}\n",
       "\n",
       "                        })                };                });            </script>        </div>"
      ]
     },
     "metadata": {},
     "output_type": "display_data"
    }
   ],
   "source": [
    "hist_installed_cap = hist_cost['installed_cap']\n",
    "hist_c_inv = hist_cost['c_inv']\n",
    "hist_year = hist_cost['year']\n",
    "\n",
    "future_installed_cap = future_cost['installed_cap']\n",
    "future_c_inv = future_cost['c_inv']\n",
    "\n",
    "first_point_year = hist_cost[(hist_cost.c_inv >= 0)].year.min()\n",
    "last_hist_point_year = hist_cost[(hist_cost.c_inv >= 0)].year.max()\n",
    "log_first_point = np.log10(hist_cost[(hist_cost.year == first_point_year)].installed_cap)\n",
    "log_last_point = np.log10(future_cost[(future_cost.year == 2050)].installed_cap)\n",
    "\n",
    "x_reg = np.logspace(float(log_first_point), float(log_last_point), 100)\n",
    "y_reg = np.exp(a+b*np.log(x_reg))\n",
    "\n",
    "first_x = float(hist_cost[(hist_cost.c_inv >= 0) & (hist_cost.year == first_point_year)].installed_cap)\n",
    "first_y = float(hist_cost[(hist_cost.c_inv >= 0) & (hist_cost.year == first_point_year)].c_inv)\n",
    "first_year = int(hist_cost[(hist_cost.c_inv >= 0) & (hist_cost.year == first_point_year)].year)\n",
    "\n",
    "last_x = float(hist_cost[(hist_cost.c_inv >= 0) & (hist_cost.year == last_hist_point_year)].installed_cap)\n",
    "last_y = float(hist_cost[(hist_cost.c_inv >= 0) & (hist_cost.year == last_hist_point_year)].c_inv)\n",
    "last_year = int(hist_cost[(hist_cost.c_inv >= 0) & (hist_cost.year == last_hist_point_year)].year)\n",
    "\n",
    "prosp_x = float(future_cost[(future_cost.c_inv >= 0) & (future_cost.year == 2050)].installed_cap)\n",
    "prosp_y = float(future_cost[(future_cost.c_inv >= 0) & (future_cost.year == 2050)].c_inv)\n",
    "prosp_year = 2050\n",
    "\n",
    "# Add traces\n",
    "\n",
    "fig.add_trace(go.Scatter(x=future_installed_cap, y=future_c_inv,\n",
    "                         mode='markers',\n",
    "                         marker_symbol='circle-open',\n",
    "                         name='Offshore Wind - Prospective',\n",
    "                         marker = dict(color=colour_offshore_wind, size=marker_size)))\n",
    "\n",
    "fig.add_trace(go.Scatter(x=hist_installed_cap, y=hist_c_inv,\n",
    "                         #text = hist_year,\n",
    "                         #textposition='top right',\n",
    "                         mode='markers+text',\n",
    "                         marker_symbol='circle',\n",
    "                         textfont_size=years_font_size,\n",
    "                         name='Offshore Wind - Historical',\n",
    "                         marker = dict(color=colour_offshore_wind, size=marker_size)))\n",
    "\n",
    "fig.add_trace(go.Scatter(x=x_reg, y=y_reg,\n",
    "                         mode='lines',\n",
    "                         name='Offshore Wind - Learning Curve',\n",
    "                         line=dict(color=colour_offshore_wind, width=line_width)))\n",
    "\n",
    "fig.add_annotation(x=np.log10(first_x), y=np.log10(first_y),\n",
    "            text=str(first_year),\n",
    "            showarrow=True,\n",
    "            font=dict(\n",
    "                family=\"Times New Roman\",\n",
    "                size=years_font_size,\n",
    "                color=colour_main_axis))\n",
    "\n",
    "fig.add_annotation(x=np.log10(last_x), y=np.log10(last_y),\n",
    "            text=str(last_year),\n",
    "            showarrow=True,\n",
    "            font=dict(\n",
    "                family=\"Times New Roman\",\n",
    "                size=years_font_size,\n",
    "                color=colour_main_axis))\n",
    "\n",
    "fig.add_annotation(x=np.log10(prosp_x), y=np.log10(prosp_y),\n",
    "            text=str(prosp_year),\n",
    "            showarrow=True,\n",
    "            font=dict(\n",
    "                family=\"Times New Roman\",\n",
    "                size=years_font_size,\n",
    "                color=colour_main_axis))"
   ]
  },
  {
   "cell_type": "markdown",
   "id": "3fbbf389",
   "metadata": {},
   "source": [
    "## Residential PV"
   ]
  },
  {
   "cell_type": "code",
   "execution_count": 41,
   "id": "885415c6",
   "metadata": {},
   "outputs": [],
   "source": [
    "# Historical data\n",
    "hist_cost = hist_cost_data[hist_cost_data.tech == 'RES_PV'][['year','c_inv','installed_cap']]\n",
    "\n",
    "# Prospective data \n",
    "future_cost = future_cost_data[future_cost_data.tech == 'PV'][['year', 'cost_ratio', 'c_inv', 'installed_cap']]\n",
    "\n",
    "# Learning curve : log(capex)==a+b*log(Q)\n",
    "a = 9.5926123108  \n",
    "b = -0.41025634487"
   ]
  },
  {
   "cell_type": "code",
   "execution_count": 42,
   "id": "a9dd648a",
   "metadata": {},
   "outputs": [
    {
     "data": {
      "application/vnd.plotly.v1+json": {
       "config": {
        "plotlyServerURL": "https://plot.ly"
       },
       "data": [
        {
         "legendgroup": "group",
         "legendgrouptitle": {
          "font": {
           "color": "rgb(10,10,10)"
          },
          "text": "Power capacity"
         },
         "marker": {
          "color": "rgb(0,0,205)",
          "size": 6,
          "symbol": "circle-open"
         },
         "mode": "markers",
         "name": "Onshore Wind - Prospective",
         "type": "scatter",
         "x": [
          541,
          595,
          698,
          903.212,
          1108.424,
          1313.635,
          1518.847,
          1724.059,
          1929.271,
          2134.482,
          2339.694,
          2544.906,
          2750.118,
          2957.488,
          3164.859,
          3372.229,
          3579.6,
          3786.97,
          3994.341,
          4201.711,
          4409.082,
          4616.452,
          4823.823,
          5031.193,
          5238.564,
          5445.934,
          5653.305,
          5860.675,
          6068.046,
          6275.417,
          6482.787,
          6690.158,
          6897.528
         ],
         "y": [
          1520.39,
          1447.57,
          1315.53,
          1347.82,
          1284.84,
          1234.83,
          1193.64,
          1158.81,
          1128.75,
          1102.39,
          1078.99,
          1058,
          1038.99,
          1021.49,
          1005.44,
          990.64,
          976.91,
          964.14,
          952.2,
          941,
          930.47,
          920.53,
          911.12,
          902.2,
          893.73,
          885.65,
          877.95,
          870.59,
          863.54,
          856.79,
          850.3,
          844.07,
          838.07
         ]
        },
        {
         "legendgroup": "group",
         "marker": {
          "color": "rgb(0,0,205)",
          "size": 6,
          "symbol": "circle"
         },
         "mode": "markers+text",
         "name": "Onshore Wind - Historical",
         "textfont": {
          "size": 10
         },
         "type": "scatter",
         "x": [
          178,
          216,
          261,
          292,
          340,
          405,
          453,
          495,
          541,
          595,
          698
         ],
         "y": [
          1914,
          1883,
          1937,
          1797,
          1745,
          1611,
          1604,
          1599,
          1520,
          1448,
          1316
         ]
        },
        {
         "legendgroup": "group",
         "line": {
          "color": "rgb(0,0,205)",
          "width": 1.5
         },
         "mode": "lines",
         "name": "Onshore Wind - Learning Curve",
         "type": "scatter",
         "x": [
          178.00000000000003,
          184.69841505847967,
          191.6489018264855,
          198.86094615196652,
          206.3443908499881,
          214.10944913595645,
          222.16671856435596,
          230.52719549202163,
          239.20229008568927,
          248.20384189430047,
          257.5441360073189,
          267.23591982110855,
          277.2924204362567,
          287.7273627095853,
          298.55498798548706,
          309.7900735321514,
          321.4479527092035,
          333.5445358942865,
          346.0963321971399,
          359.1204719908134,
          372.63473029076613,
          386.65755101375584,
          401.2080721496289,
          416.3061518803629,
          431.9723956820102,
          448.22818444652603,
          465.09570366187256,
          482.5979736902033,
          500.7588811854742,
          519.6032116933404,
          539.1566834778407,
          559.4459826210312,
          580.4987994434731,
          602.3438662952794,
          625.0109967692971,
          648.5311263899429,
          672.936354833219,
          698.2599897355406,
          724.5365921511494,
          751.802023720165,
          780.0934956116404,
          809.4496193084215,
          839.910459303119,
          871.5175877771109,
          904.3141413372019,
          938.344879887365,
          973.6562477159322,
          1010.2964368815681,
          1048.3154529845783,
          1087.7651834132794,
          1128.6994681585907,
          1171.1741732934863,
          1215.2472672175961,
          1260.9788997710052,
          1308.431484325224,
          1357.669782963388,
          1408.7609948658865,
          1461.7748480221135,
          1516.7836943934512,
          1573.8626086573922,
          1633.0894906675535,
          1694.545171769421,
          1758.3135251169167,
          1824.4815801403524,
          1893.1396413219884,
          1964.3814114412894,
          2038.304119458122,
          2115.0086532083433,
          2194.599697092981,
          2277.1858749488374,
          2362.8798982955477,
          2451.7987201614,
          2544.063694697862,
          2639.8007428006485,
          2739.1405239633514,
          2842.21861459823,
          2949.175693067418,
          3060.1577316772236,
          3175.31619589739,
          3294.808251077353,
          3418.7969769415076,
          3547.451590156281,
          3680.9476752727473,
          3819.467424359949,
          3963.199885656049,
          4112.341221576513,
          4267.094976431656,
          4427.672354218693,
          4594.2925068676395,
          4767.182833334282,
          4946.579289948507,
          5132.72671244151,
          5325.879150091391,
          5526.300212443166,
          5734.263429076354,
          5950.052622911271,
          6173.9622975632665,
          6406.298039273847,
          6647.376933966996,
          6897.528
         ],
         "y": [
          1970.111645221424,
          1953.1752957557574,
          1936.3845420658017,
          1919.7381325164308,
          1903.2348262323799,
          1886.873393005749,
          1870.6526132042968,
          1854.5712776805262,
          1838.6281876815572,
          1822.8221547597514,
          1807.1520006841426,
          1791.6165573525923,
          1776.2146667047211,
          1760.945180635584,
          1745.8069609100853,
          1730.7988790781326,
          1715.9198163905169,
          1701.1686637155192,
          1686.5443214562313,
          1672.0456994685887,
          1657.671716980108,
          1643.4213025093222,
          1629.293393785909,
          1615.2869376715119,
          1601.4008900812194,
          1587.6342159057583,
          1573.9858889343154,
          1560.4548917780485,
          1547.0402157942458,
          1533.7408610111383,
          1520.5558360533587,
          1507.484158068041,
          1494.524852651557,
          1481.676953776879,
          1468.9395037215706,
          1456.3115529963934,
          1443.792160274536,
          1431.380392321429,
          1419.0753239251994,
          1406.876037827685,
          1394.7816246560678,
          1382.7911828550855,
          1370.9038186198245,
          1359.1186458290956,
          1347.4347859793772,
          1335.8513681193313,
          1324.3675287848782,
          1312.9824119348325,
          1301.6951688870902,
          1290.5049582553654,
          1279.4109458864714,
          1268.4123047981402,
          1257.5082151173758,
          1246.6978640193379,
          1235.980445666756,
          1225.3551611498526,
          1214.8212184267945,
          1204.3778322646513,
          1194.0242241808598,
          1183.7596223851958,
          1173.5832617222406,
          1163.494383614345,
          1153.492236005082,
          1143.5760733031864,
          1133.7451563269758,
          1123.9987522492504,
          1114.336134542665,
          1104.7565829255711,
          1095.259383308328,
          1085.8438277400671,
          1076.5092143559227,
          1067.2548473247116,
          1058.0800367970644,
          1048.984098854001,
          1039.9663554559504,
          1031.0261343922054,
          1022.1627692308168,
          1013.3755992689131,
          1004.6639694834505,
          996.0272304823859,
          987.4647384562676,
          978.9758551302483,
          970.5599477164967,
          962.2163888670405,
          953.944556626988,
          945.7438343881793,
          937.613610843209,
          929.5532799398702,
          921.5622408359676,
          913.639897854534,
          905.7856604394249,
          897.9989431112973,
          890.2791654239659,
          882.6257519211341,
          875.0381320935018,
          867.5157403362288,
          860.0580159067852,
          852.6644028831387,
          845.3343501223277,
          838.0673112193643
         ]
        },
        {
         "marker": {
          "color": "rgb(30,144,255)",
          "size": 6,
          "symbol": "circle-open"
         },
         "mode": "markers",
         "name": "Offshore Wind - Prospective",
         "type": "scatter",
         "x": [
          23.626,
          28.355,
          34.367,
          66.02,
          97.67,
          129.32,
          160.97,
          192.62,
          224.28,
          255.93,
          287.58,
          319.23,
          350.88,
          401.71,
          452.54,
          503.37,
          554.2,
          605.03,
          655.86,
          706.69,
          757.52,
          808.35,
          859.18,
          910.01,
          960.84,
          1011.67,
          1062.5,
          1113.32,
          1164.15,
          1214.98,
          1265.81,
          1316.64,
          1367.47
         ],
         "y": [
          4496,
          3615,
          3092,
          2820,
          2513,
          2314,
          2170,
          2058,
          1968,
          1893,
          1829,
          1774,
          1725,
          1658,
          1601,
          1552,
          1508,
          1470,
          1436,
          1404,
          1376,
          1350,
          1326,
          1304,
          1283,
          1264,
          1246,
          1229,
          1213,
          1198,
          1183,
          1170,
          1157
         ]
        },
        {
         "marker": {
          "color": "rgb(30,144,255)",
          "size": 6,
          "symbol": "circle"
         },
         "mode": "markers+text",
         "name": "Offshore Wind - Historical",
         "textfont": {
          "size": 10
         },
         "type": "scatter",
         "x": [
          3.056,
          3.776,
          5.334,
          7.171,
          8.492,
          11.717,
          14.342,
          18.837,
          23.626,
          28.355,
          34.367
         ],
         "y": [
          4569,
          5233,
          4631,
          5554,
          5153,
          5168,
          4069,
          4597,
          4496,
          3615,
          3092
         ]
        },
        {
         "line": {
          "color": "rgb(30,144,255)",
          "width": 1.5
         },
         "mode": "lines",
         "name": "Offshore Wind - Learning Curve",
         "type": "scatter",
         "x": [
          3.056,
          3.2503396705285033,
          3.4570379495455956,
          3.676880755867331,
          3.910703987106811,
          4.1593966979670345,
          4.423904480650365,
          4.705233060237787,
          5.004452118708478,
          5.3226993621395895,
          5.66118484655074,
          6.021195578841196,
          6.404100410313601,
          6.811355241390762,
          7.244508557315,
          7.705207315878327,
          8.19520320956995,
          8.716359325951483,
          9.270657231584156,
          9.860204506443042,
          10.487242757465882,
          11.154156141706178,
          11.863480431497628,
          12.617912656097957,
          13.420321356472138,
          14.273757492206242,
          15.181466042022711,
          16.14689834200516,
          17.17372520844577,
          18.265850895211603,
          19.42742793869924,
          20.662872946821967,
          21.976883392063357,
          23.374455472448474,
          24.860903108344687,
          26.441878147322686,
          28.123391853901712,
          29.91183776588837,
          31.814016004214537,
          33.837159128706574,
          35.98895963809576,
          38.27759921883237,
          40.711779853914166,
          43.30075691001323,
          46.05437432870654,
          48.9831020556166,
          52.09807584977646,
          55.41113962458492,
          58.93489048134234,
          62.682726606596745,
          66.66889821541683,
          70.90856173429204,
          75.41783742967564,
          80.2138707012906,
          85.31489727324895,
          90.74031253085906,
          96.51074526675582,
          102.64813611675633,
          109.17582098367234,
          116.11861976627901,
          123.50293073080883,
          131.35683088379633,
          139.71018272791454,
          148.59474780671698,
          158.04430747000995,
          168.0947913190371,
          178.78441381985488,
          190.15381960433854,
          202.24623801129013,
          215.1076474552506,
          228.786950247991,
          243.33615853739397,
          258.8105920707151,
          275.26908853416717,
          292.77422726859487,
          311.39256721185916,
          331.19489997265015,
          352.25651899797947,
          374.65750585779114,
          398.4830347352236,
          423.8236962802632,
          450.77584205816896,
          479.441950902342,
          509.93101856461413,
          542.3589721444934,
          576.8491108731386,
          613.532574928029,
          652.548844060888,
          694.0462679347585,
          738.1826301867152,
          785.1257483609135,
          835.0541119930809,
          888.1575612725987,
          944.6380088626242,
          1004.7102076227889,
          1068.60256715356,
          1136.5580222669548,
          1208.8349566857657,
          1285.7081854834269,
          1367.47
         ],
         "y": [
          6959.219144504205,
          6834.207404939681,
          6711.4413102822255,
          6590.880520951991,
          6472.48542200805,
          6356.217110131399,
          6242.037380841691,
          6129.908715943699,
          6019.794271199283,
          5911.657864220721,
          5805.463962581605,
          5701.1776721413125,
          5598.7647255791135,
          5498.1914711343425,
          5399.42486154883,
          5302.432443207881,
          5207.182345476404,
          5113.643270226606,
          5021.784481553709,
          4931.575795676511,
          4842.987571019349,
          4755.990698472153,
          4670.5565918255425,
          4586.657178377742,
          4504.264889710145,
          4423.352652628669,
          4343.893880267821,
          4265.8624633545005,
          4189.232761628835,
          4113.979595419025,
          4040.0782373676066,
          3967.504404306335,
          3896.2342492769617,
          3826.244353695409,
          3757.5117196567044,
          3690.01376237808,
          3623.728302777888,
          3558.633560187813,
          3494.708145195953,
          3431.9310526185095,
          3370.2816545977385,
          3309.7396938238276,
          3250.285276878584,
          3191.8988676986987,
          3134.561281156374,
          3078.253676755324,
          3022.9575524400066,
          2968.6547385160247,
          2915.3273916797907,
          2862.957989155403,
          2811.529322936853,
          2761.0244941336746,
          2711.426907418151,
          2662.720265572267,
          2614.888564132637,
          2567.916086131607,
          2521.787396932829,
          2476.4873391596216,
          2432.0010277144183,
          2388.3138448876825,
          2345.411435554702,
          2303.2797024586494,
          2261.90480157837,
          2221.273137579407,
          2181.371359346711,
          2142.186355597621,
          2103.70525057363,
          2065.9153998095694,
          2028.8043859787613,
          1992.3600148128353,
          1956.5703110948207,
          1921.4235147242246,
          1886.908076852788,
          1853.0126560896715,
          1819.7261147747938,
          1787.0375153191167,
          1754.9361166106842,
          1723.4113704851989,
          1692.4529182600297,
          1662.0505873304432,
          1632.1943878270145,
          1602.8745093330551,
          1574.0813176610284,
          1545.8053516868567,
          1518.0373202410983,
          1490.7680990559795,
          1463.9887277672549,
          1437.690406969935,
          1411.8644953268931,
          1386.5025067294252,
          1361.5961075088055,
          1337.1371136979303,
          1313.1174883421654,
          1289.5293388584878,
          1266.364914442066,
          1243.6166035194396,
          1221.2769312474363,
          1199.3385570570179,
          1177.7942722412565,
          1156.6369975866319
         ]
        },
        {
         "marker": {
          "color": "rgb(255,215,0)",
          "size": 6,
          "symbol": "circle-open"
         },
         "mode": "markers",
         "name": "Residential PV - Prospective",
         "type": "scatter",
         "x": [
          58,
          74,
          93,
          150.67,
          208.35,
          266.02,
          323.7,
          381.37,
          439.05,
          496.72,
          554.39,
          612.07,
          669.74,
          751.15,
          832.56,
          913.96,
          995.37,
          1076.78,
          1158.18,
          1239.59,
          1321,
          1402.41,
          1483.81,
          1530.81,
          1577.81,
          1624.82,
          1671.82,
          1718.82,
          1765.82,
          1812.82,
          1859.82,
          1906.82,
          1953.82
         ],
         "y": [
          2704.85,
          2506.8,
          2442.72,
          1872.68,
          1639.53,
          1483.13,
          1368.42,
          1279.39,
          1207.57,
          1147.95,
          1097.36,
          1053.7,
          1015.48,
          968.8,
          928.75,
          893.88,
          863.13,
          835.74,
          811.12,
          788.83,
          768.51,
          749.88,
          732.72,
          723.41,
          714.49,
          705.94,
          697.73,
          689.83,
          682.24,
          674.93,
          667.88,
          661.07,
          654.5
         ]
        },
        {
         "marker": {
          "color": "rgb(255,215,0)",
          "size": 6,
          "symbol": "circle"
         },
         "mode": "markers+text",
         "name": "Residential PV - Historical",
         "textfont": {
          "size": 10
         },
         "type": "scatter",
         "x": [
          27,
          32,
          38,
          44,
          50,
          58,
          74,
          93
         ],
         "y": [
          3794,
          3379,
          3158,
          3103,
          3027,
          2705,
          2507,
          2443
         ]
        },
        {
         "line": {
          "color": "rgb(255,215,0)",
          "width": 1.5
         },
         "mode": "lines",
         "name": "Residential PV - Learning Curve",
         "type": "scatter",
         "x": [
          27.000000000000004,
          28.193357762954378,
          29.439460072219994,
          30.740638154233665,
          32.099326271993874,
          33.5180662791157,
          34.999512375167626,
          36.54643607118703,
          38.16173137466358,
          39.84842020369078,
          41.60965804041457,
          43.4487398343555,
          45.36910616664858,
          47.3743496867327,
          49.46822183353187,
          51.65463985370204,
          53.93769413007343,
          56.32165583399868,
          58.810984915922646,
          61.41033844912294,
          64.12457934223096,
          66.95878543683226,
          69.91825900716708,
          73.00853667970254,
          76.23539979113444,
          79.60488520419668,
          83.12329660151224,
          86.79721627861497,
          90.63351745820441,
          94.63937714867141,
          98.82228957095045,
          103.19008017881782,
          107.7509202988651,
          112.51334241753653,
          117.48625614382942,
          122.67896487752158,
          128.10118321410656,
          133.7630551190028,
          139.67517290503062,
          145.84859704866815,
          152.29487688215085,
          159.02607220013215,
          166.05477582132366,
          173.39413714732459,
          181.0578867627148,
          189.0603621224333,
          197.4165343744989,
          206.1420363682529,
          215.25319190052244,
          224.76704625441835,
          234.7013980879014,
          245.07483273176936,
          255.90675695936943,
          267.217435293071,
          279.0280279154319,
          291.3606302559775,
          304.2383143276534,
          317.68517189028523,
          331.72635952179513,
          346.38814568149616,
          361.6979598535104,
          377.68444386224917,
          394.37750545595696,
          411.8083742585665,
          430.00966019453205,
          449.01541449595913,
          468.8611934061412,
          489.5841246987073,
          511.2229771367966,
          533.8182330022353,
          557.4121638303761,
          582.0489094923086,
          607.7745607723743,
          634.6372455954817,
          662.6872190655317,
          691.9769574834013,
          722.5612565203786,
          754.4973337306986,
          787.8449355949923,
          822.6664492948645,
          859.0270194277595,
          896.9946698804132,
          936.6404310889498,
          978.0384729236509,
          1021.2662434470391,
          1066.4046138048457,
          1113.5380295209336,
          1162.7546684792196,
          1214.14660588815,
          1267.8099865363474,
          1323.845204661688,
          1382.357091770317,
          1443.4551127569505,
          1507.253570693422,
          1573.8718206685203,
          1643.4344930792595,
          1716.0717267912253,
          1791.919412604293,
          1871.119447479107,
          1953.8199999999993
         ],
         "y": [
          3791.3382077272263,
          3724.660274126696,
          3659.1549995150685,
          3594.8017604412125,
          3531.5802961568556,
          3469.470702237708,
          3408.4534243168737,
          3348.5092519283758,
          3289.6193124590445,
          3231.7650652066854,
          3174.9282955428307,
          3119.0911091780895,
          3064.235926528364,
          3010.3454771801644,
          2957.402794453267,
          2905.391210058959,
          2854.2943488522674,
          2804.0961236764606,
          2754.7807302982274,
          2706.3326424319253,
          2658.7366068513406,
          2611.9776385874156,
          2566.0410162104326,
          2520.912277195172,
          2476.5772133675805,
          2433.02186643152,
          2390.2325235741837,
          2348.1957131488134,
          2306.8982004333106,
          2266.326983463491,
          2226.4692889395706,
          2187.312568204672,
          2148.8444932940515,
          2111.052953053802,
          2073.926049327822,
          2037.4520932118414,
          2001.6196013733268,
          1966.4172924361092,
          1931.8340834286025,
          1897.8590862944611,
          1864.4816044646477,
          1831.6911294897366,
          1799.4773377314964,
          1767.8300871126055,
          1736.7394139235812,
          1706.1955296858218,
          1676.1888180698445,
          1646.7098318677124,
          1617.7492900187074,
          1589.2980746873206,
          1561.3472283926087,
          1533.8879511880746,
          1506.9115978911002,
          1480.4096753611448,
          1454.3738398257847,
          1428.7958942537975,
          1403.6677857744237,
          1378.981603142047,
          1354.7295742454276,
          1330.9040636607751,
          1307.497570247821,
          1284.5027247882024,
          1261.9122876653516,
          1239.7191465852052,
          1217.9163143369942,
          1196.4969265934126,
          1175.4542397494838,
          1154.7816287994146,
          1134.4725852508175,
          1114.5207150755841,
          1094.9197366968267,
          1075.6634790111939,
          1056.7458794459965,
          1038.160982050474,
          1019.9029356206589,
          1001.9659918571884,
          984.3445035555449,
          967.0329228280988,
          950.0257993574368,
          933.3177786804008,
          916.9036005023087,
          900.7780970408207,
          884.9361913989334,
          869.3728959665871,
          854.083310850384,
          839.0626223309235,
          824.3061013472663,
          809.8091020080574,
          795.5670601288215,
          781.5754917950027,
          767.8299919502534,
          754.3262330095698,
          741.0599634968054,
          728.0270067061556,
          715.223259387173,
          702.6446904529183,
          690.2873397108257,
          678.14731661589,
          666.2207990457789,
          654.5040320974949
         ]
        }
       ],
       "layout": {
        "annotations": [
         {
          "font": {
           "color": "rgb(10,10,10)",
           "family": "Times New Roman",
           "size": 10
          },
          "showarrow": true,
          "text": "2010",
          "x": 2.250420002308894,
          "y": 3.281941933440825
         },
         {
          "font": {
           "color": "rgb(10,10,10)",
           "family": "Times New Roman",
           "size": 10
          },
          "showarrow": true,
          "text": "2020",
          "x": 2.843855422623161,
          "y": 3.1192558892779365
         },
         {
          "font": {
           "color": "rgb(10,10,10)",
           "family": "Times New Roman",
           "size": 10
          },
          "showarrow": true,
          "text": "2050",
          "x": 3.8386934721408297,
          "y": 2.923280294697208
         },
         {
          "font": {
           "color": "rgb(10,10,10)",
           "family": "Times New Roman",
           "size": 10
          },
          "showarrow": true,
          "text": "2010",
          "x": 0.48515334990365233,
          "y": 3.659821158055705
         },
         {
          "font": {
           "color": "rgb(10,10,10)",
           "family": "Times New Roman",
           "size": 10
          },
          "showarrow": true,
          "text": "2020",
          "x": 1.5361416229050349,
          "y": 3.4902394852462875
         },
         {
          "font": {
           "color": "rgb(10,10,10)",
           "family": "Times New Roman",
           "size": 10
          },
          "showarrow": true,
          "text": "2050",
          "x": 3.135917807416897,
          "y": 3.0633333589517497
         },
         {
          "font": {
           "color": "rgb(10,10,10)",
           "family": "Times New Roman",
           "size": 10
          },
          "showarrow": true,
          "text": "2013",
          "x": 1.4313637641589874,
          "y": 3.5790973265526436
         },
         {
          "font": {
           "color": "rgb(10,10,10)",
           "family": "Times New Roman",
           "size": 10
          },
          "showarrow": true,
          "text": "2020",
          "x": 1.968482948553935,
          "y": 3.3879234669734366
         },
         {
          "font": {
           "color": "rgb(10,10,10)",
           "family": "Times New Roman",
           "size": 10
          },
          "showarrow": true,
          "text": "2050",
          "x": 3.2908845508834896,
          "y": 2.8159096508867747
         }
        ],
        "font": {
         "color": "rgb(10,10,10)",
         "family": "Times New Roman",
         "size": 16
        },
        "legend": {
         "x": 1.2
        },
        "template": {
         "data": {
          "bar": [
           {
            "error_x": {
             "color": "#2a3f5f"
            },
            "error_y": {
             "color": "#2a3f5f"
            },
            "marker": {
             "line": {
              "color": "#E5ECF6",
              "width": 0.5
             },
             "pattern": {
              "fillmode": "overlay",
              "size": 10,
              "solidity": 0.2
             }
            },
            "type": "bar"
           }
          ],
          "barpolar": [
           {
            "marker": {
             "line": {
              "color": "#E5ECF6",
              "width": 0.5
             },
             "pattern": {
              "fillmode": "overlay",
              "size": 10,
              "solidity": 0.2
             }
            },
            "type": "barpolar"
           }
          ],
          "carpet": [
           {
            "aaxis": {
             "endlinecolor": "#2a3f5f",
             "gridcolor": "white",
             "linecolor": "white",
             "minorgridcolor": "white",
             "startlinecolor": "#2a3f5f"
            },
            "baxis": {
             "endlinecolor": "#2a3f5f",
             "gridcolor": "white",
             "linecolor": "white",
             "minorgridcolor": "white",
             "startlinecolor": "#2a3f5f"
            },
            "type": "carpet"
           }
          ],
          "choropleth": [
           {
            "colorbar": {
             "outlinewidth": 0,
             "ticks": ""
            },
            "type": "choropleth"
           }
          ],
          "contour": [
           {
            "colorbar": {
             "outlinewidth": 0,
             "ticks": ""
            },
            "colorscale": [
             [
              0,
              "#0d0887"
             ],
             [
              0.1111111111111111,
              "#46039f"
             ],
             [
              0.2222222222222222,
              "#7201a8"
             ],
             [
              0.3333333333333333,
              "#9c179e"
             ],
             [
              0.4444444444444444,
              "#bd3786"
             ],
             [
              0.5555555555555556,
              "#d8576b"
             ],
             [
              0.6666666666666666,
              "#ed7953"
             ],
             [
              0.7777777777777778,
              "#fb9f3a"
             ],
             [
              0.8888888888888888,
              "#fdca26"
             ],
             [
              1,
              "#f0f921"
             ]
            ],
            "type": "contour"
           }
          ],
          "contourcarpet": [
           {
            "colorbar": {
             "outlinewidth": 0,
             "ticks": ""
            },
            "type": "contourcarpet"
           }
          ],
          "heatmap": [
           {
            "colorbar": {
             "outlinewidth": 0,
             "ticks": ""
            },
            "colorscale": [
             [
              0,
              "#0d0887"
             ],
             [
              0.1111111111111111,
              "#46039f"
             ],
             [
              0.2222222222222222,
              "#7201a8"
             ],
             [
              0.3333333333333333,
              "#9c179e"
             ],
             [
              0.4444444444444444,
              "#bd3786"
             ],
             [
              0.5555555555555556,
              "#d8576b"
             ],
             [
              0.6666666666666666,
              "#ed7953"
             ],
             [
              0.7777777777777778,
              "#fb9f3a"
             ],
             [
              0.8888888888888888,
              "#fdca26"
             ],
             [
              1,
              "#f0f921"
             ]
            ],
            "type": "heatmap"
           }
          ],
          "heatmapgl": [
           {
            "colorbar": {
             "outlinewidth": 0,
             "ticks": ""
            },
            "colorscale": [
             [
              0,
              "#0d0887"
             ],
             [
              0.1111111111111111,
              "#46039f"
             ],
             [
              0.2222222222222222,
              "#7201a8"
             ],
             [
              0.3333333333333333,
              "#9c179e"
             ],
             [
              0.4444444444444444,
              "#bd3786"
             ],
             [
              0.5555555555555556,
              "#d8576b"
             ],
             [
              0.6666666666666666,
              "#ed7953"
             ],
             [
              0.7777777777777778,
              "#fb9f3a"
             ],
             [
              0.8888888888888888,
              "#fdca26"
             ],
             [
              1,
              "#f0f921"
             ]
            ],
            "type": "heatmapgl"
           }
          ],
          "histogram": [
           {
            "marker": {
             "pattern": {
              "fillmode": "overlay",
              "size": 10,
              "solidity": 0.2
             }
            },
            "type": "histogram"
           }
          ],
          "histogram2d": [
           {
            "colorbar": {
             "outlinewidth": 0,
             "ticks": ""
            },
            "colorscale": [
             [
              0,
              "#0d0887"
             ],
             [
              0.1111111111111111,
              "#46039f"
             ],
             [
              0.2222222222222222,
              "#7201a8"
             ],
             [
              0.3333333333333333,
              "#9c179e"
             ],
             [
              0.4444444444444444,
              "#bd3786"
             ],
             [
              0.5555555555555556,
              "#d8576b"
             ],
             [
              0.6666666666666666,
              "#ed7953"
             ],
             [
              0.7777777777777778,
              "#fb9f3a"
             ],
             [
              0.8888888888888888,
              "#fdca26"
             ],
             [
              1,
              "#f0f921"
             ]
            ],
            "type": "histogram2d"
           }
          ],
          "histogram2dcontour": [
           {
            "colorbar": {
             "outlinewidth": 0,
             "ticks": ""
            },
            "colorscale": [
             [
              0,
              "#0d0887"
             ],
             [
              0.1111111111111111,
              "#46039f"
             ],
             [
              0.2222222222222222,
              "#7201a8"
             ],
             [
              0.3333333333333333,
              "#9c179e"
             ],
             [
              0.4444444444444444,
              "#bd3786"
             ],
             [
              0.5555555555555556,
              "#d8576b"
             ],
             [
              0.6666666666666666,
              "#ed7953"
             ],
             [
              0.7777777777777778,
              "#fb9f3a"
             ],
             [
              0.8888888888888888,
              "#fdca26"
             ],
             [
              1,
              "#f0f921"
             ]
            ],
            "type": "histogram2dcontour"
           }
          ],
          "mesh3d": [
           {
            "colorbar": {
             "outlinewidth": 0,
             "ticks": ""
            },
            "type": "mesh3d"
           }
          ],
          "parcoords": [
           {
            "line": {
             "colorbar": {
              "outlinewidth": 0,
              "ticks": ""
             }
            },
            "type": "parcoords"
           }
          ],
          "pie": [
           {
            "automargin": true,
            "type": "pie"
           }
          ],
          "scatter": [
           {
            "marker": {
             "colorbar": {
              "outlinewidth": 0,
              "ticks": ""
             }
            },
            "type": "scatter"
           }
          ],
          "scatter3d": [
           {
            "line": {
             "colorbar": {
              "outlinewidth": 0,
              "ticks": ""
             }
            },
            "marker": {
             "colorbar": {
              "outlinewidth": 0,
              "ticks": ""
             }
            },
            "type": "scatter3d"
           }
          ],
          "scattercarpet": [
           {
            "marker": {
             "colorbar": {
              "outlinewidth": 0,
              "ticks": ""
             }
            },
            "type": "scattercarpet"
           }
          ],
          "scattergeo": [
           {
            "marker": {
             "colorbar": {
              "outlinewidth": 0,
              "ticks": ""
             }
            },
            "type": "scattergeo"
           }
          ],
          "scattergl": [
           {
            "marker": {
             "colorbar": {
              "outlinewidth": 0,
              "ticks": ""
             }
            },
            "type": "scattergl"
           }
          ],
          "scattermapbox": [
           {
            "marker": {
             "colorbar": {
              "outlinewidth": 0,
              "ticks": ""
             }
            },
            "type": "scattermapbox"
           }
          ],
          "scatterpolar": [
           {
            "marker": {
             "colorbar": {
              "outlinewidth": 0,
              "ticks": ""
             }
            },
            "type": "scatterpolar"
           }
          ],
          "scatterpolargl": [
           {
            "marker": {
             "colorbar": {
              "outlinewidth": 0,
              "ticks": ""
             }
            },
            "type": "scatterpolargl"
           }
          ],
          "scatterternary": [
           {
            "marker": {
             "colorbar": {
              "outlinewidth": 0,
              "ticks": ""
             }
            },
            "type": "scatterternary"
           }
          ],
          "surface": [
           {
            "colorbar": {
             "outlinewidth": 0,
             "ticks": ""
            },
            "colorscale": [
             [
              0,
              "#0d0887"
             ],
             [
              0.1111111111111111,
              "#46039f"
             ],
             [
              0.2222222222222222,
              "#7201a8"
             ],
             [
              0.3333333333333333,
              "#9c179e"
             ],
             [
              0.4444444444444444,
              "#bd3786"
             ],
             [
              0.5555555555555556,
              "#d8576b"
             ],
             [
              0.6666666666666666,
              "#ed7953"
             ],
             [
              0.7777777777777778,
              "#fb9f3a"
             ],
             [
              0.8888888888888888,
              "#fdca26"
             ],
             [
              1,
              "#f0f921"
             ]
            ],
            "type": "surface"
           }
          ],
          "table": [
           {
            "cells": {
             "fill": {
              "color": "#EBF0F8"
             },
             "line": {
              "color": "white"
             }
            },
            "header": {
             "fill": {
              "color": "#C8D4E3"
             },
             "line": {
              "color": "white"
             }
            },
            "type": "table"
           }
          ]
         },
         "layout": {
          "annotationdefaults": {
           "arrowcolor": "#2a3f5f",
           "arrowhead": 0,
           "arrowwidth": 1
          },
          "autotypenumbers": "strict",
          "coloraxis": {
           "colorbar": {
            "outlinewidth": 0,
            "ticks": ""
           }
          },
          "colorscale": {
           "diverging": [
            [
             0,
             "#8e0152"
            ],
            [
             0.1,
             "#c51b7d"
            ],
            [
             0.2,
             "#de77ae"
            ],
            [
             0.3,
             "#f1b6da"
            ],
            [
             0.4,
             "#fde0ef"
            ],
            [
             0.5,
             "#f7f7f7"
            ],
            [
             0.6,
             "#e6f5d0"
            ],
            [
             0.7,
             "#b8e186"
            ],
            [
             0.8,
             "#7fbc41"
            ],
            [
             0.9,
             "#4d9221"
            ],
            [
             1,
             "#276419"
            ]
           ],
           "sequential": [
            [
             0,
             "#0d0887"
            ],
            [
             0.1111111111111111,
             "#46039f"
            ],
            [
             0.2222222222222222,
             "#7201a8"
            ],
            [
             0.3333333333333333,
             "#9c179e"
            ],
            [
             0.4444444444444444,
             "#bd3786"
            ],
            [
             0.5555555555555556,
             "#d8576b"
            ],
            [
             0.6666666666666666,
             "#ed7953"
            ],
            [
             0.7777777777777778,
             "#fb9f3a"
            ],
            [
             0.8888888888888888,
             "#fdca26"
            ],
            [
             1,
             "#f0f921"
            ]
           ],
           "sequentialminus": [
            [
             0,
             "#0d0887"
            ],
            [
             0.1111111111111111,
             "#46039f"
            ],
            [
             0.2222222222222222,
             "#7201a8"
            ],
            [
             0.3333333333333333,
             "#9c179e"
            ],
            [
             0.4444444444444444,
             "#bd3786"
            ],
            [
             0.5555555555555556,
             "#d8576b"
            ],
            [
             0.6666666666666666,
             "#ed7953"
            ],
            [
             0.7777777777777778,
             "#fb9f3a"
            ],
            [
             0.8888888888888888,
             "#fdca26"
            ],
            [
             1,
             "#f0f921"
            ]
           ]
          },
          "colorway": [
           "#636efa",
           "#EF553B",
           "#00cc96",
           "#ab63fa",
           "#FFA15A",
           "#19d3f3",
           "#FF6692",
           "#B6E880",
           "#FF97FF",
           "#FECB52"
          ],
          "font": {
           "color": "#2a3f5f"
          },
          "geo": {
           "bgcolor": "white",
           "lakecolor": "white",
           "landcolor": "#E5ECF6",
           "showlakes": true,
           "showland": true,
           "subunitcolor": "white"
          },
          "hoverlabel": {
           "align": "left"
          },
          "hovermode": "closest",
          "mapbox": {
           "style": "light"
          },
          "paper_bgcolor": "white",
          "plot_bgcolor": "#E5ECF6",
          "polar": {
           "angularaxis": {
            "gridcolor": "white",
            "linecolor": "white",
            "ticks": ""
           },
           "bgcolor": "#E5ECF6",
           "radialaxis": {
            "gridcolor": "white",
            "linecolor": "white",
            "ticks": ""
           }
          },
          "scene": {
           "xaxis": {
            "backgroundcolor": "#E5ECF6",
            "gridcolor": "white",
            "gridwidth": 2,
            "linecolor": "white",
            "showbackground": true,
            "ticks": "",
            "zerolinecolor": "white"
           },
           "yaxis": {
            "backgroundcolor": "#E5ECF6",
            "gridcolor": "white",
            "gridwidth": 2,
            "linecolor": "white",
            "showbackground": true,
            "ticks": "",
            "zerolinecolor": "white"
           },
           "zaxis": {
            "backgroundcolor": "#E5ECF6",
            "gridcolor": "white",
            "gridwidth": 2,
            "linecolor": "white",
            "showbackground": true,
            "ticks": "",
            "zerolinecolor": "white"
           }
          },
          "shapedefaults": {
           "line": {
            "color": "#2a3f5f"
           }
          },
          "ternary": {
           "aaxis": {
            "gridcolor": "white",
            "linecolor": "white",
            "ticks": ""
           },
           "baxis": {
            "gridcolor": "white",
            "linecolor": "white",
            "ticks": ""
           },
           "bgcolor": "#E5ECF6",
           "caxis": {
            "gridcolor": "white",
            "linecolor": "white",
            "ticks": ""
           }
          },
          "title": {
           "x": 0.05
          },
          "xaxis": {
           "automargin": true,
           "gridcolor": "white",
           "linecolor": "white",
           "ticks": "",
           "title": {
            "standoff": 15
           },
           "zerolinecolor": "white",
           "zerolinewidth": 2
          },
          "yaxis": {
           "automargin": true,
           "gridcolor": "white",
           "linecolor": "white",
           "ticks": "",
           "title": {
            "standoff": 15
           },
           "zerolinecolor": "white",
           "zerolinewidth": 2
          }
         }
        },
        "title": {
         "text": "",
         "y": 1
        },
        "xaxis": {
         "showgrid": true,
         "title": {
          "font": {
           "family": "Times New Roman"
          },
          "text": "Cumulative Capacity [GW]"
         },
         "type": "log"
        },
        "xaxis2": {
         "anchor": "y",
         "automargin": true,
         "color": "rgb(105,105,105)",
         "overlaying": "x",
         "showgrid": true,
         "side": "top",
         "title": {
          "font": {
           "color": "rgb(10,10,10)",
           "family": "Times New Roman"
          },
          "text": "CO<sub>2</sub> capture capacity [Mtpa]"
         },
         "type": "log"
        },
        "yaxis": {
         "showgrid": true,
         "title": {
          "font": {
           "family": "Times New Roman"
          },
          "text": "Investment Cost [USD<sub>2018</sub>/kW]"
         },
         "type": "log"
        },
        "yaxis2": {
         "anchor": "x",
         "automargin": true,
         "color": "rgb(105,105,105)",
         "overlaying": "y",
         "showgrid": true,
         "side": "right",
         "title": {
          "font": {
           "color": "rgb(10,10,10)",
           "family": "Times New Roman"
          },
          "text": "Cost of CO<sub>2</sub> capture [USD<sub>2018</sub>/tCO<sub>2</sub>]"
         },
         "type": "log"
        }
       }
      },
      "text/html": [
       "<div>                            <div id=\"2a354558-c416-4e01-972a-c47e8de33847\" class=\"plotly-graph-div\" style=\"height:525px; width:100%;\"></div>            <script type=\"text/javascript\">                require([\"plotly\"], function(Plotly) {                    window.PLOTLYENV=window.PLOTLYENV || {};                                    if (document.getElementById(\"2a354558-c416-4e01-972a-c47e8de33847\")) {                    Plotly.newPlot(                        \"2a354558-c416-4e01-972a-c47e8de33847\",                        [{\"legendgroup\":\"group\",\"legendgrouptitle\":{\"font\":{\"color\":\"rgb(10,10,10)\"},\"text\":\"Power capacity\"},\"marker\":{\"color\":\"rgb(0,0,205)\",\"size\":6,\"symbol\":\"circle-open\"},\"mode\":\"markers\",\"name\":\"Onshore Wind - Prospective\",\"type\":\"scatter\",\"x\":[541.0,595.0,698.0,903.212,1108.424,1313.635,1518.847,1724.059,1929.271,2134.482,2339.694,2544.906,2750.118,2957.488,3164.859,3372.229,3579.6,3786.97,3994.341,4201.711,4409.082,4616.452,4823.823,5031.193,5238.564,5445.934,5653.305,5860.675,6068.046,6275.417,6482.787,6690.158,6897.528],\"y\":[1520.39,1447.57,1315.53,1347.82,1284.84,1234.83,1193.64,1158.81,1128.75,1102.39,1078.99,1058.0,1038.99,1021.49,1005.44,990.64,976.91,964.14,952.2,941.0,930.47,920.53,911.12,902.2,893.73,885.65,877.95,870.59,863.54,856.79,850.3,844.07,838.07]},{\"legendgroup\":\"group\",\"marker\":{\"color\":\"rgb(0,0,205)\",\"size\":6,\"symbol\":\"circle\"},\"mode\":\"markers+text\",\"name\":\"Onshore Wind - Historical\",\"textfont\":{\"size\":10},\"type\":\"scatter\",\"x\":[178.0,216.0,261.0,292.0,340.0,405.0,453.0,495.0,541.0,595.0,698.0],\"y\":[1914.0,1883.0,1937.0,1797.0,1745.0,1611.0,1604.0,1599.0,1520.0,1448.0,1316.0]},{\"legendgroup\":\"group\",\"line\":{\"color\":\"rgb(0,0,205)\",\"width\":1.5},\"mode\":\"lines\",\"name\":\"Onshore Wind - Learning Curve\",\"type\":\"scatter\",\"x\":[178.00000000000003,184.69841505847967,191.6489018264855,198.86094615196652,206.3443908499881,214.10944913595645,222.16671856435596,230.52719549202163,239.20229008568927,248.20384189430047,257.5441360073189,267.23591982110855,277.2924204362567,287.7273627095853,298.55498798548706,309.7900735321514,321.4479527092035,333.5445358942865,346.0963321971399,359.1204719908134,372.63473029076613,386.65755101375584,401.2080721496289,416.3061518803629,431.9723956820102,448.22818444652603,465.09570366187256,482.5979736902033,500.7588811854742,519.6032116933404,539.1566834778407,559.4459826210312,580.4987994434731,602.3438662952794,625.0109967692971,648.5311263899429,672.936354833219,698.2599897355406,724.5365921511494,751.802023720165,780.0934956116404,809.4496193084215,839.910459303119,871.5175877771109,904.3141413372019,938.344879887365,973.6562477159322,1010.2964368815681,1048.3154529845783,1087.7651834132794,1128.6994681585907,1171.1741732934863,1215.2472672175961,1260.9788997710052,1308.431484325224,1357.669782963388,1408.7609948658865,1461.7748480221135,1516.7836943934512,1573.8626086573922,1633.0894906675535,1694.545171769421,1758.3135251169167,1824.4815801403524,1893.1396413219884,1964.3814114412894,2038.304119458122,2115.0086532083433,2194.599697092981,2277.1858749488374,2362.8798982955477,2451.7987201614,2544.063694697862,2639.8007428006485,2739.1405239633514,2842.21861459823,2949.175693067418,3060.1577316772236,3175.31619589739,3294.808251077353,3418.7969769415076,3547.451590156281,3680.9476752727473,3819.467424359949,3963.199885656049,4112.341221576513,4267.094976431656,4427.672354218693,4594.2925068676395,4767.182833334282,4946.579289948507,5132.72671244151,5325.879150091391,5526.300212443166,5734.263429076354,5950.052622911271,6173.9622975632665,6406.298039273847,6647.376933966996,6897.528],\"y\":[1970.111645221424,1953.1752957557574,1936.3845420658017,1919.7381325164308,1903.2348262323799,1886.873393005749,1870.6526132042968,1854.5712776805262,1838.6281876815572,1822.8221547597514,1807.1520006841426,1791.6165573525923,1776.2146667047211,1760.945180635584,1745.8069609100853,1730.7988790781326,1715.9198163905169,1701.1686637155192,1686.5443214562313,1672.0456994685887,1657.671716980108,1643.4213025093222,1629.293393785909,1615.2869376715119,1601.4008900812194,1587.6342159057583,1573.9858889343154,1560.4548917780485,1547.0402157942458,1533.7408610111383,1520.5558360533587,1507.484158068041,1494.524852651557,1481.676953776879,1468.9395037215706,1456.3115529963934,1443.792160274536,1431.380392321429,1419.0753239251994,1406.876037827685,1394.7816246560678,1382.7911828550855,1370.9038186198245,1359.1186458290956,1347.4347859793772,1335.8513681193313,1324.3675287848782,1312.9824119348325,1301.6951688870902,1290.5049582553654,1279.4109458864714,1268.4123047981402,1257.5082151173758,1246.6978640193379,1235.980445666756,1225.3551611498526,1214.8212184267945,1204.3778322646513,1194.0242241808598,1183.7596223851958,1173.5832617222406,1163.494383614345,1153.492236005082,1143.5760733031864,1133.7451563269758,1123.9987522492504,1114.336134542665,1104.7565829255711,1095.259383308328,1085.8438277400671,1076.5092143559227,1067.2548473247116,1058.0800367970644,1048.984098854001,1039.9663554559504,1031.0261343922054,1022.1627692308168,1013.3755992689131,1004.6639694834505,996.0272304823859,987.4647384562676,978.9758551302483,970.5599477164967,962.2163888670405,953.944556626988,945.7438343881793,937.613610843209,929.5532799398702,921.5622408359676,913.639897854534,905.7856604394249,897.9989431112973,890.2791654239659,882.6257519211341,875.0381320935018,867.5157403362288,860.0580159067852,852.6644028831387,845.3343501223277,838.0673112193643]},{\"marker\":{\"color\":\"rgb(30,144,255)\",\"size\":6,\"symbol\":\"circle-open\"},\"mode\":\"markers\",\"name\":\"Offshore Wind - Prospective\",\"type\":\"scatter\",\"x\":[23.626,28.355,34.367,66.02,97.67,129.32,160.97,192.62,224.28,255.93,287.58,319.23,350.88,401.71,452.54,503.37,554.2,605.03,655.86,706.69,757.52,808.35,859.18,910.01,960.84,1011.67,1062.5,1113.32,1164.15,1214.98,1265.81,1316.64,1367.47],\"y\":[4496.0,3615.0,3092.0,2820.0,2513.0,2314.0,2170.0,2058.0,1968.0,1893.0,1829.0,1774.0,1725.0,1658.0,1601.0,1552.0,1508.0,1470.0,1436.0,1404.0,1376.0,1350.0,1326.0,1304.0,1283.0,1264.0,1246.0,1229.0,1213.0,1198.0,1183.0,1170.0,1157.0]},{\"marker\":{\"color\":\"rgb(30,144,255)\",\"size\":6,\"symbol\":\"circle\"},\"mode\":\"markers+text\",\"name\":\"Offshore Wind - Historical\",\"textfont\":{\"size\":10},\"type\":\"scatter\",\"x\":[3.056,3.776,5.334,7.171,8.492,11.717,14.342,18.837,23.626,28.355,34.367],\"y\":[4569.0,5233.0,4631.0,5554.0,5153.0,5168.0,4069.0,4597.0,4496.0,3615.0,3092.0]},{\"line\":{\"color\":\"rgb(30,144,255)\",\"width\":1.5},\"mode\":\"lines\",\"name\":\"Offshore Wind - Learning Curve\",\"type\":\"scatter\",\"x\":[3.056,3.2503396705285033,3.4570379495455956,3.676880755867331,3.910703987106811,4.1593966979670345,4.423904480650365,4.705233060237787,5.004452118708478,5.3226993621395895,5.66118484655074,6.021195578841196,6.404100410313601,6.811355241390762,7.244508557315,7.705207315878327,8.19520320956995,8.716359325951483,9.270657231584156,9.860204506443042,10.487242757465882,11.154156141706178,11.863480431497628,12.617912656097957,13.420321356472138,14.273757492206242,15.181466042022711,16.14689834200516,17.17372520844577,18.265850895211603,19.42742793869924,20.662872946821967,21.976883392063357,23.374455472448474,24.860903108344687,26.441878147322686,28.123391853901712,29.91183776588837,31.814016004214537,33.837159128706574,35.98895963809576,38.27759921883237,40.711779853914166,43.30075691001323,46.05437432870654,48.9831020556166,52.09807584977646,55.41113962458492,58.93489048134234,62.682726606596745,66.66889821541683,70.90856173429204,75.41783742967564,80.2138707012906,85.31489727324895,90.74031253085906,96.51074526675582,102.64813611675633,109.17582098367234,116.11861976627901,123.50293073080883,131.35683088379633,139.71018272791454,148.59474780671698,158.04430747000995,168.0947913190371,178.78441381985488,190.15381960433854,202.24623801129013,215.1076474552506,228.786950247991,243.33615853739397,258.8105920707151,275.26908853416717,292.77422726859487,311.39256721185916,331.19489997265015,352.25651899797947,374.65750585779114,398.4830347352236,423.8236962802632,450.77584205816896,479.441950902342,509.93101856461413,542.3589721444934,576.8491108731386,613.532574928029,652.548844060888,694.0462679347585,738.1826301867152,785.1257483609135,835.0541119930809,888.1575612725987,944.6380088626242,1004.7102076227889,1068.60256715356,1136.5580222669548,1208.8349566857657,1285.7081854834269,1367.47],\"y\":[6959.219144504205,6834.207404939681,6711.4413102822255,6590.880520951991,6472.48542200805,6356.217110131399,6242.037380841691,6129.908715943699,6019.794271199283,5911.657864220721,5805.463962581605,5701.1776721413125,5598.7647255791135,5498.1914711343425,5399.42486154883,5302.432443207881,5207.182345476404,5113.643270226606,5021.784481553709,4931.575795676511,4842.987571019349,4755.990698472153,4670.5565918255425,4586.657178377742,4504.264889710145,4423.352652628669,4343.893880267821,4265.8624633545005,4189.232761628835,4113.979595419025,4040.0782373676066,3967.504404306335,3896.2342492769617,3826.244353695409,3757.5117196567044,3690.01376237808,3623.728302777888,3558.633560187813,3494.708145195953,3431.9310526185095,3370.2816545977385,3309.7396938238276,3250.285276878584,3191.8988676986987,3134.561281156374,3078.253676755324,3022.9575524400066,2968.6547385160247,2915.3273916797907,2862.957989155403,2811.529322936853,2761.0244941336746,2711.426907418151,2662.720265572267,2614.888564132637,2567.916086131607,2521.787396932829,2476.4873391596216,2432.0010277144183,2388.3138448876825,2345.411435554702,2303.2797024586494,2261.90480157837,2221.273137579407,2181.371359346711,2142.186355597621,2103.70525057363,2065.9153998095694,2028.8043859787613,1992.3600148128353,1956.5703110948207,1921.4235147242246,1886.908076852788,1853.0126560896715,1819.7261147747938,1787.0375153191167,1754.9361166106842,1723.4113704851989,1692.4529182600297,1662.0505873304432,1632.1943878270145,1602.8745093330551,1574.0813176610284,1545.8053516868567,1518.0373202410983,1490.7680990559795,1463.9887277672549,1437.690406969935,1411.8644953268931,1386.5025067294252,1361.5961075088055,1337.1371136979303,1313.1174883421654,1289.5293388584878,1266.364914442066,1243.6166035194396,1221.2769312474363,1199.3385570570179,1177.7942722412565,1156.6369975866319]},{\"marker\":{\"color\":\"rgb(255,215,0)\",\"size\":6,\"symbol\":\"circle-open\"},\"mode\":\"markers\",\"name\":\"Residential PV - Prospective\",\"type\":\"scatter\",\"x\":[58.0,74.0,93.0,150.67,208.35,266.02,323.7,381.37,439.05,496.72,554.39,612.07,669.74,751.15,832.56,913.96,995.37,1076.78,1158.18,1239.59,1321.0,1402.41,1483.81,1530.81,1577.81,1624.82,1671.82,1718.82,1765.82,1812.82,1859.82,1906.82,1953.82],\"y\":[2704.85,2506.8,2442.72,1872.68,1639.53,1483.13,1368.42,1279.39,1207.57,1147.95,1097.36,1053.7,1015.48,968.8,928.75,893.88,863.13,835.74,811.12,788.83,768.51,749.88,732.72,723.41,714.49,705.94,697.73,689.83,682.24,674.93,667.88,661.07,654.5]},{\"marker\":{\"color\":\"rgb(255,215,0)\",\"size\":6,\"symbol\":\"circle\"},\"mode\":\"markers+text\",\"name\":\"Residential PV - Historical\",\"textfont\":{\"size\":10},\"type\":\"scatter\",\"x\":[27.0,32.0,38.0,44.0,50.0,58.0,74.0,93.0],\"y\":[3794.0,3379.0,3158.0,3103.0,3027.0,2705.0,2507.0,2443.0]},{\"line\":{\"color\":\"rgb(255,215,0)\",\"width\":1.5},\"mode\":\"lines\",\"name\":\"Residential PV - Learning Curve\",\"type\":\"scatter\",\"x\":[27.000000000000004,28.193357762954378,29.439460072219994,30.740638154233665,32.099326271993874,33.5180662791157,34.999512375167626,36.54643607118703,38.16173137466358,39.84842020369078,41.60965804041457,43.4487398343555,45.36910616664858,47.3743496867327,49.46822183353187,51.65463985370204,53.93769413007343,56.32165583399868,58.810984915922646,61.41033844912294,64.12457934223096,66.95878543683226,69.91825900716708,73.00853667970254,76.23539979113444,79.60488520419668,83.12329660151224,86.79721627861497,90.63351745820441,94.63937714867141,98.82228957095045,103.19008017881782,107.7509202988651,112.51334241753653,117.48625614382942,122.67896487752158,128.10118321410656,133.7630551190028,139.67517290503062,145.84859704866815,152.29487688215085,159.02607220013215,166.05477582132366,173.39413714732459,181.0578867627148,189.0603621224333,197.4165343744989,206.1420363682529,215.25319190052244,224.76704625441835,234.7013980879014,245.07483273176936,255.90675695936943,267.217435293071,279.0280279154319,291.3606302559775,304.2383143276534,317.68517189028523,331.72635952179513,346.38814568149616,361.6979598535104,377.68444386224917,394.37750545595696,411.8083742585665,430.00966019453205,449.01541449595913,468.8611934061412,489.5841246987073,511.2229771367966,533.8182330022353,557.4121638303761,582.0489094923086,607.7745607723743,634.6372455954817,662.6872190655317,691.9769574834013,722.5612565203786,754.4973337306986,787.8449355949923,822.6664492948645,859.0270194277595,896.9946698804132,936.6404310889498,978.0384729236509,1021.2662434470391,1066.4046138048457,1113.5380295209336,1162.7546684792196,1214.14660588815,1267.8099865363474,1323.845204661688,1382.357091770317,1443.4551127569505,1507.253570693422,1573.8718206685203,1643.4344930792595,1716.0717267912253,1791.919412604293,1871.119447479107,1953.8199999999993],\"y\":[3791.3382077272263,3724.660274126696,3659.1549995150685,3594.8017604412125,3531.5802961568556,3469.470702237708,3408.4534243168737,3348.5092519283758,3289.6193124590445,3231.7650652066854,3174.9282955428307,3119.0911091780895,3064.235926528364,3010.3454771801644,2957.402794453267,2905.391210058959,2854.2943488522674,2804.0961236764606,2754.7807302982274,2706.3326424319253,2658.7366068513406,2611.9776385874156,2566.0410162104326,2520.912277195172,2476.5772133675805,2433.02186643152,2390.2325235741837,2348.1957131488134,2306.8982004333106,2266.326983463491,2226.4692889395706,2187.312568204672,2148.8444932940515,2111.052953053802,2073.926049327822,2037.4520932118414,2001.6196013733268,1966.4172924361092,1931.8340834286025,1897.8590862944611,1864.4816044646477,1831.6911294897366,1799.4773377314964,1767.8300871126055,1736.7394139235812,1706.1955296858218,1676.1888180698445,1646.7098318677124,1617.7492900187074,1589.2980746873206,1561.3472283926087,1533.8879511880746,1506.9115978911002,1480.4096753611448,1454.3738398257847,1428.7958942537975,1403.6677857744237,1378.981603142047,1354.7295742454276,1330.9040636607751,1307.497570247821,1284.5027247882024,1261.9122876653516,1239.7191465852052,1217.9163143369942,1196.4969265934126,1175.4542397494838,1154.7816287994146,1134.4725852508175,1114.5207150755841,1094.9197366968267,1075.6634790111939,1056.7458794459965,1038.160982050474,1019.9029356206589,1001.9659918571884,984.3445035555449,967.0329228280988,950.0257993574368,933.3177786804008,916.9036005023087,900.7780970408207,884.9361913989334,869.3728959665871,854.083310850384,839.0626223309235,824.3061013472663,809.8091020080574,795.5670601288215,781.5754917950027,767.8299919502534,754.3262330095698,741.0599634968054,728.0270067061556,715.223259387173,702.6446904529183,690.2873397108257,678.14731661589,666.2207990457789,654.5040320974949]}],                        {\"annotations\":[{\"font\":{\"color\":\"rgb(10,10,10)\",\"family\":\"Times New Roman\",\"size\":10},\"showarrow\":true,\"text\":\"2010\",\"x\":2.250420002308894,\"y\":3.281941933440825},{\"font\":{\"color\":\"rgb(10,10,10)\",\"family\":\"Times New Roman\",\"size\":10},\"showarrow\":true,\"text\":\"2020\",\"x\":2.843855422623161,\"y\":3.1192558892779365},{\"font\":{\"color\":\"rgb(10,10,10)\",\"family\":\"Times New Roman\",\"size\":10},\"showarrow\":true,\"text\":\"2050\",\"x\":3.8386934721408297,\"y\":2.923280294697208},{\"font\":{\"color\":\"rgb(10,10,10)\",\"family\":\"Times New Roman\",\"size\":10},\"showarrow\":true,\"text\":\"2010\",\"x\":0.48515334990365233,\"y\":3.659821158055705},{\"font\":{\"color\":\"rgb(10,10,10)\",\"family\":\"Times New Roman\",\"size\":10},\"showarrow\":true,\"text\":\"2020\",\"x\":1.5361416229050349,\"y\":3.4902394852462875},{\"font\":{\"color\":\"rgb(10,10,10)\",\"family\":\"Times New Roman\",\"size\":10},\"showarrow\":true,\"text\":\"2050\",\"x\":3.135917807416897,\"y\":3.0633333589517497},{\"font\":{\"color\":\"rgb(10,10,10)\",\"family\":\"Times New Roman\",\"size\":10},\"showarrow\":true,\"text\":\"2013\",\"x\":1.4313637641589874,\"y\":3.5790973265526436},{\"font\":{\"color\":\"rgb(10,10,10)\",\"family\":\"Times New Roman\",\"size\":10},\"showarrow\":true,\"text\":\"2020\",\"x\":1.968482948553935,\"y\":3.3879234669734366},{\"font\":{\"color\":\"rgb(10,10,10)\",\"family\":\"Times New Roman\",\"size\":10},\"showarrow\":true,\"text\":\"2050\",\"x\":3.2908845508834896,\"y\":2.8159096508867747}],\"font\":{\"color\":\"rgb(10,10,10)\",\"family\":\"Times New Roman\",\"size\":16},\"legend\":{\"x\":1.2},\"template\":{\"data\":{\"bar\":[{\"error_x\":{\"color\":\"#2a3f5f\"},\"error_y\":{\"color\":\"#2a3f5f\"},\"marker\":{\"line\":{\"color\":\"#E5ECF6\",\"width\":0.5},\"pattern\":{\"fillmode\":\"overlay\",\"size\":10,\"solidity\":0.2}},\"type\":\"bar\"}],\"barpolar\":[{\"marker\":{\"line\":{\"color\":\"#E5ECF6\",\"width\":0.5},\"pattern\":{\"fillmode\":\"overlay\",\"size\":10,\"solidity\":0.2}},\"type\":\"barpolar\"}],\"carpet\":[{\"aaxis\":{\"endlinecolor\":\"#2a3f5f\",\"gridcolor\":\"white\",\"linecolor\":\"white\",\"minorgridcolor\":\"white\",\"startlinecolor\":\"#2a3f5f\"},\"baxis\":{\"endlinecolor\":\"#2a3f5f\",\"gridcolor\":\"white\",\"linecolor\":\"white\",\"minorgridcolor\":\"white\",\"startlinecolor\":\"#2a3f5f\"},\"type\":\"carpet\"}],\"choropleth\":[{\"colorbar\":{\"outlinewidth\":0,\"ticks\":\"\"},\"type\":\"choropleth\"}],\"contour\":[{\"colorbar\":{\"outlinewidth\":0,\"ticks\":\"\"},\"colorscale\":[[0.0,\"#0d0887\"],[0.1111111111111111,\"#46039f\"],[0.2222222222222222,\"#7201a8\"],[0.3333333333333333,\"#9c179e\"],[0.4444444444444444,\"#bd3786\"],[0.5555555555555556,\"#d8576b\"],[0.6666666666666666,\"#ed7953\"],[0.7777777777777778,\"#fb9f3a\"],[0.8888888888888888,\"#fdca26\"],[1.0,\"#f0f921\"]],\"type\":\"contour\"}],\"contourcarpet\":[{\"colorbar\":{\"outlinewidth\":0,\"ticks\":\"\"},\"type\":\"contourcarpet\"}],\"heatmap\":[{\"colorbar\":{\"outlinewidth\":0,\"ticks\":\"\"},\"colorscale\":[[0.0,\"#0d0887\"],[0.1111111111111111,\"#46039f\"],[0.2222222222222222,\"#7201a8\"],[0.3333333333333333,\"#9c179e\"],[0.4444444444444444,\"#bd3786\"],[0.5555555555555556,\"#d8576b\"],[0.6666666666666666,\"#ed7953\"],[0.7777777777777778,\"#fb9f3a\"],[0.8888888888888888,\"#fdca26\"],[1.0,\"#f0f921\"]],\"type\":\"heatmap\"}],\"heatmapgl\":[{\"colorbar\":{\"outlinewidth\":0,\"ticks\":\"\"},\"colorscale\":[[0.0,\"#0d0887\"],[0.1111111111111111,\"#46039f\"],[0.2222222222222222,\"#7201a8\"],[0.3333333333333333,\"#9c179e\"],[0.4444444444444444,\"#bd3786\"],[0.5555555555555556,\"#d8576b\"],[0.6666666666666666,\"#ed7953\"],[0.7777777777777778,\"#fb9f3a\"],[0.8888888888888888,\"#fdca26\"],[1.0,\"#f0f921\"]],\"type\":\"heatmapgl\"}],\"histogram\":[{\"marker\":{\"pattern\":{\"fillmode\":\"overlay\",\"size\":10,\"solidity\":0.2}},\"type\":\"histogram\"}],\"histogram2d\":[{\"colorbar\":{\"outlinewidth\":0,\"ticks\":\"\"},\"colorscale\":[[0.0,\"#0d0887\"],[0.1111111111111111,\"#46039f\"],[0.2222222222222222,\"#7201a8\"],[0.3333333333333333,\"#9c179e\"],[0.4444444444444444,\"#bd3786\"],[0.5555555555555556,\"#d8576b\"],[0.6666666666666666,\"#ed7953\"],[0.7777777777777778,\"#fb9f3a\"],[0.8888888888888888,\"#fdca26\"],[1.0,\"#f0f921\"]],\"type\":\"histogram2d\"}],\"histogram2dcontour\":[{\"colorbar\":{\"outlinewidth\":0,\"ticks\":\"\"},\"colorscale\":[[0.0,\"#0d0887\"],[0.1111111111111111,\"#46039f\"],[0.2222222222222222,\"#7201a8\"],[0.3333333333333333,\"#9c179e\"],[0.4444444444444444,\"#bd3786\"],[0.5555555555555556,\"#d8576b\"],[0.6666666666666666,\"#ed7953\"],[0.7777777777777778,\"#fb9f3a\"],[0.8888888888888888,\"#fdca26\"],[1.0,\"#f0f921\"]],\"type\":\"histogram2dcontour\"}],\"mesh3d\":[{\"colorbar\":{\"outlinewidth\":0,\"ticks\":\"\"},\"type\":\"mesh3d\"}],\"parcoords\":[{\"line\":{\"colorbar\":{\"outlinewidth\":0,\"ticks\":\"\"}},\"type\":\"parcoords\"}],\"pie\":[{\"automargin\":true,\"type\":\"pie\"}],\"scatter\":[{\"marker\":{\"colorbar\":{\"outlinewidth\":0,\"ticks\":\"\"}},\"type\":\"scatter\"}],\"scatter3d\":[{\"line\":{\"colorbar\":{\"outlinewidth\":0,\"ticks\":\"\"}},\"marker\":{\"colorbar\":{\"outlinewidth\":0,\"ticks\":\"\"}},\"type\":\"scatter3d\"}],\"scattercarpet\":[{\"marker\":{\"colorbar\":{\"outlinewidth\":0,\"ticks\":\"\"}},\"type\":\"scattercarpet\"}],\"scattergeo\":[{\"marker\":{\"colorbar\":{\"outlinewidth\":0,\"ticks\":\"\"}},\"type\":\"scattergeo\"}],\"scattergl\":[{\"marker\":{\"colorbar\":{\"outlinewidth\":0,\"ticks\":\"\"}},\"type\":\"scattergl\"}],\"scattermapbox\":[{\"marker\":{\"colorbar\":{\"outlinewidth\":0,\"ticks\":\"\"}},\"type\":\"scattermapbox\"}],\"scatterpolar\":[{\"marker\":{\"colorbar\":{\"outlinewidth\":0,\"ticks\":\"\"}},\"type\":\"scatterpolar\"}],\"scatterpolargl\":[{\"marker\":{\"colorbar\":{\"outlinewidth\":0,\"ticks\":\"\"}},\"type\":\"scatterpolargl\"}],\"scatterternary\":[{\"marker\":{\"colorbar\":{\"outlinewidth\":0,\"ticks\":\"\"}},\"type\":\"scatterternary\"}],\"surface\":[{\"colorbar\":{\"outlinewidth\":0,\"ticks\":\"\"},\"colorscale\":[[0.0,\"#0d0887\"],[0.1111111111111111,\"#46039f\"],[0.2222222222222222,\"#7201a8\"],[0.3333333333333333,\"#9c179e\"],[0.4444444444444444,\"#bd3786\"],[0.5555555555555556,\"#d8576b\"],[0.6666666666666666,\"#ed7953\"],[0.7777777777777778,\"#fb9f3a\"],[0.8888888888888888,\"#fdca26\"],[1.0,\"#f0f921\"]],\"type\":\"surface\"}],\"table\":[{\"cells\":{\"fill\":{\"color\":\"#EBF0F8\"},\"line\":{\"color\":\"white\"}},\"header\":{\"fill\":{\"color\":\"#C8D4E3\"},\"line\":{\"color\":\"white\"}},\"type\":\"table\"}]},\"layout\":{\"annotationdefaults\":{\"arrowcolor\":\"#2a3f5f\",\"arrowhead\":0,\"arrowwidth\":1},\"autotypenumbers\":\"strict\",\"coloraxis\":{\"colorbar\":{\"outlinewidth\":0,\"ticks\":\"\"}},\"colorscale\":{\"diverging\":[[0,\"#8e0152\"],[0.1,\"#c51b7d\"],[0.2,\"#de77ae\"],[0.3,\"#f1b6da\"],[0.4,\"#fde0ef\"],[0.5,\"#f7f7f7\"],[0.6,\"#e6f5d0\"],[0.7,\"#b8e186\"],[0.8,\"#7fbc41\"],[0.9,\"#4d9221\"],[1,\"#276419\"]],\"sequential\":[[0.0,\"#0d0887\"],[0.1111111111111111,\"#46039f\"],[0.2222222222222222,\"#7201a8\"],[0.3333333333333333,\"#9c179e\"],[0.4444444444444444,\"#bd3786\"],[0.5555555555555556,\"#d8576b\"],[0.6666666666666666,\"#ed7953\"],[0.7777777777777778,\"#fb9f3a\"],[0.8888888888888888,\"#fdca26\"],[1.0,\"#f0f921\"]],\"sequentialminus\":[[0.0,\"#0d0887\"],[0.1111111111111111,\"#46039f\"],[0.2222222222222222,\"#7201a8\"],[0.3333333333333333,\"#9c179e\"],[0.4444444444444444,\"#bd3786\"],[0.5555555555555556,\"#d8576b\"],[0.6666666666666666,\"#ed7953\"],[0.7777777777777778,\"#fb9f3a\"],[0.8888888888888888,\"#fdca26\"],[1.0,\"#f0f921\"]]},\"colorway\":[\"#636efa\",\"#EF553B\",\"#00cc96\",\"#ab63fa\",\"#FFA15A\",\"#19d3f3\",\"#FF6692\",\"#B6E880\",\"#FF97FF\",\"#FECB52\"],\"font\":{\"color\":\"#2a3f5f\"},\"geo\":{\"bgcolor\":\"white\",\"lakecolor\":\"white\",\"landcolor\":\"#E5ECF6\",\"showlakes\":true,\"showland\":true,\"subunitcolor\":\"white\"},\"hoverlabel\":{\"align\":\"left\"},\"hovermode\":\"closest\",\"mapbox\":{\"style\":\"light\"},\"paper_bgcolor\":\"white\",\"plot_bgcolor\":\"#E5ECF6\",\"polar\":{\"angularaxis\":{\"gridcolor\":\"white\",\"linecolor\":\"white\",\"ticks\":\"\"},\"bgcolor\":\"#E5ECF6\",\"radialaxis\":{\"gridcolor\":\"white\",\"linecolor\":\"white\",\"ticks\":\"\"}},\"scene\":{\"xaxis\":{\"backgroundcolor\":\"#E5ECF6\",\"gridcolor\":\"white\",\"gridwidth\":2,\"linecolor\":\"white\",\"showbackground\":true,\"ticks\":\"\",\"zerolinecolor\":\"white\"},\"yaxis\":{\"backgroundcolor\":\"#E5ECF6\",\"gridcolor\":\"white\",\"gridwidth\":2,\"linecolor\":\"white\",\"showbackground\":true,\"ticks\":\"\",\"zerolinecolor\":\"white\"},\"zaxis\":{\"backgroundcolor\":\"#E5ECF6\",\"gridcolor\":\"white\",\"gridwidth\":2,\"linecolor\":\"white\",\"showbackground\":true,\"ticks\":\"\",\"zerolinecolor\":\"white\"}},\"shapedefaults\":{\"line\":{\"color\":\"#2a3f5f\"}},\"ternary\":{\"aaxis\":{\"gridcolor\":\"white\",\"linecolor\":\"white\",\"ticks\":\"\"},\"baxis\":{\"gridcolor\":\"white\",\"linecolor\":\"white\",\"ticks\":\"\"},\"bgcolor\":\"#E5ECF6\",\"caxis\":{\"gridcolor\":\"white\",\"linecolor\":\"white\",\"ticks\":\"\"}},\"title\":{\"x\":0.05},\"xaxis\":{\"automargin\":true,\"gridcolor\":\"white\",\"linecolor\":\"white\",\"ticks\":\"\",\"title\":{\"standoff\":15},\"zerolinecolor\":\"white\",\"zerolinewidth\":2},\"yaxis\":{\"automargin\":true,\"gridcolor\":\"white\",\"linecolor\":\"white\",\"ticks\":\"\",\"title\":{\"standoff\":15},\"zerolinecolor\":\"white\",\"zerolinewidth\":2}}},\"title\":{\"text\":\"\",\"y\":1},\"xaxis\":{\"showgrid\":true,\"title\":{\"font\":{\"family\":\"Times New Roman\"},\"text\":\"Cumulative Capacity [GW]\"},\"type\":\"log\"},\"xaxis2\":{\"anchor\":\"y\",\"automargin\":true,\"color\":\"rgb(105,105,105)\",\"overlaying\":\"x\",\"showgrid\":true,\"side\":\"top\",\"title\":{\"font\":{\"color\":\"rgb(10,10,10)\",\"family\":\"Times New Roman\"},\"text\":\"CO<sub>2</sub> capture capacity [Mtpa]\"},\"type\":\"log\"},\"yaxis\":{\"showgrid\":true,\"title\":{\"font\":{\"family\":\"Times New Roman\"},\"text\":\"Investment Cost [USD<sub>2018</sub>/kW]\"},\"type\":\"log\"},\"yaxis2\":{\"anchor\":\"x\",\"automargin\":true,\"color\":\"rgb(105,105,105)\",\"overlaying\":\"y\",\"showgrid\":true,\"side\":\"right\",\"title\":{\"font\":{\"color\":\"rgb(10,10,10)\",\"family\":\"Times New Roman\"},\"text\":\"Cost of CO<sub>2</sub> capture [USD<sub>2018</sub>/tCO<sub>2</sub>]\"},\"type\":\"log\"}},                        {\"responsive\": true}                    ).then(function(){\n",
       "                            \n",
       "var gd = document.getElementById('2a354558-c416-4e01-972a-c47e8de33847');\n",
       "var x = new MutationObserver(function (mutations, observer) {{\n",
       "        var display = window.getComputedStyle(gd).display;\n",
       "        if (!display || display === 'none') {{\n",
       "            console.log([gd, 'removed!']);\n",
       "            Plotly.purge(gd);\n",
       "            observer.disconnect();\n",
       "        }}\n",
       "}});\n",
       "\n",
       "// Listen for the removal of the full notebook cells\n",
       "var notebookContainer = gd.closest('#notebook-container');\n",
       "if (notebookContainer) {{\n",
       "    x.observe(notebookContainer, {childList: true});\n",
       "}}\n",
       "\n",
       "// Listen for the clearing of the current output cell\n",
       "var outputEl = gd.closest('.output');\n",
       "if (outputEl) {{\n",
       "    x.observe(outputEl, {childList: true});\n",
       "}}\n",
       "\n",
       "                        })                };                });            </script>        </div>"
      ]
     },
     "metadata": {},
     "output_type": "display_data"
    }
   ],
   "source": [
    "hist_installed_cap = hist_cost['installed_cap']\n",
    "hist_c_inv = hist_cost['c_inv']\n",
    "hist_year = hist_cost['year']\n",
    "\n",
    "future_installed_cap = future_cost['installed_cap']\n",
    "future_c_inv = future_cost['c_inv']\n",
    "\n",
    "first_point_year = hist_cost[(hist_cost.c_inv >= 0)].year.min()\n",
    "last_hist_point_year = hist_cost[(hist_cost.c_inv >= 0)].year.max()\n",
    "log_first_point = np.log10(hist_cost[(hist_cost.year == first_point_year)].installed_cap)\n",
    "log_last_point = np.log10(future_cost[(future_cost.year == 2050)].installed_cap)\n",
    "\n",
    "x_reg = np.logspace(float(log_first_point), float(log_last_point), 100)\n",
    "y_reg = np.exp(a+b*np.log(x_reg))\n",
    "\n",
    "first_x = float(hist_cost[(hist_cost.c_inv >= 0) & (hist_cost.year == first_point_year)].installed_cap)\n",
    "first_y = float(hist_cost[(hist_cost.c_inv >= 0) & (hist_cost.year == first_point_year)].c_inv)\n",
    "first_year = int(hist_cost[(hist_cost.c_inv >= 0) & (hist_cost.year == first_point_year)].year)\n",
    "\n",
    "last_x = float(hist_cost[(hist_cost.c_inv >= 0) & (hist_cost.year == last_hist_point_year)].installed_cap)\n",
    "last_y = float(hist_cost[(hist_cost.c_inv >= 0) & (hist_cost.year == last_hist_point_year)].c_inv)\n",
    "last_year = int(hist_cost[(hist_cost.c_inv >= 0) & (hist_cost.year == last_hist_point_year)].year)\n",
    "\n",
    "prosp_x = float(future_cost[(future_cost.c_inv >= 0) & (future_cost.year == 2050)].installed_cap)\n",
    "prosp_y = float(future_cost[(future_cost.c_inv >= 0) & (future_cost.year == 2050)].c_inv)\n",
    "prosp_year = 2050\n",
    "\n",
    "# Add traces\n",
    "\n",
    "fig.add_trace(go.Scatter(x=future_installed_cap, y=future_c_inv,\n",
    "                         mode='markers',\n",
    "                         marker_symbol='circle-open',\n",
    "                         name='Residential PV - Prospective',\n",
    "                         marker = dict(color=colour_res_pv, size=marker_size)))\n",
    "\n",
    "fig.add_trace(go.Scatter(x=hist_installed_cap, y=hist_c_inv,\n",
    "                         #text = hist_year,\n",
    "                         #textposition='top right',\n",
    "                         textfont_size=years_font_size,\n",
    "                         mode='markers+text',\n",
    "                         marker_symbol='circle',\n",
    "                         name='Residential PV - Historical',\n",
    "                         marker = dict(color=colour_res_pv, size=marker_size)))\n",
    "\n",
    "fig.add_trace(go.Scatter(x=x_reg, y=y_reg,\n",
    "                         mode='lines',\n",
    "                         name='Residential PV - Learning Curve',\n",
    "                         line=dict(color=colour_res_pv, width=line_width)))\n",
    "\n",
    "fig.add_annotation(x=np.log10(first_x), y=np.log10(first_y),\n",
    "            text=str(first_year),\n",
    "            showarrow=True,\n",
    "            font=dict(\n",
    "                family=\"Times New Roman\",\n",
    "                size=years_font_size,\n",
    "                color=colour_main_axis))\n",
    "\n",
    "fig.add_annotation(x=np.log10(last_x), y=np.log10(last_y),\n",
    "            text=str(last_year),\n",
    "            showarrow=True,\n",
    "            font=dict(\n",
    "                family=\"Times New Roman\",\n",
    "                size=years_font_size,\n",
    "                color=colour_main_axis))\n",
    "\n",
    "fig.add_annotation(x=np.log10(prosp_x), y=np.log10(prosp_y),\n",
    "            text=str(prosp_year),\n",
    "            showarrow=True,\n",
    "            font=dict(\n",
    "                family=\"Times New Roman\",\n",
    "                size=years_font_size,\n",
    "                color=colour_main_axis))"
   ]
  },
  {
   "cell_type": "markdown",
   "id": "111ef1c1",
   "metadata": {},
   "source": [
    "## CSP Solar (i.e. decentralised solar)"
   ]
  },
  {
   "cell_type": "code",
   "execution_count": 43,
   "id": "ceb5852f",
   "metadata": {},
   "outputs": [],
   "source": [
    "# Historical data\n",
    "hist_cost = hist_cost_data[hist_cost_data.tech == 'DEC_SOLAR'][['year','c_inv','installed_cap']]\n",
    "\n",
    "# Prospective data \n",
    "future_cost = future_cost_data[future_cost_data.tech == 'DEC_SOLAR'][['year', 'cost_ratio', 'c_inv', 'installed_cap']]\n",
    "\n",
    "# Learning curve : log(capex)==a*log(Q) + b*log(Q)^2 + c\n",
    "a = -0.054974571233  \n",
    "b = -0.065855458185\n",
    "c = 9.1025403877"
   ]
  },
  {
   "cell_type": "code",
   "execution_count": 44,
   "id": "e483bc9e",
   "metadata": {},
   "outputs": [
    {
     "data": {
      "application/vnd.plotly.v1+json": {
       "config": {
        "plotlyServerURL": "https://plot.ly"
       },
       "data": [
        {
         "legendgroup": "group",
         "legendgrouptitle": {
          "font": {
           "color": "rgb(10,10,10)"
          },
          "text": "Power capacity"
         },
         "marker": {
          "color": "rgb(0,0,205)",
          "size": 6,
          "symbol": "circle-open"
         },
         "mode": "markers",
         "name": "Onshore Wind - Prospective",
         "type": "scatter",
         "x": [
          541,
          595,
          698,
          903.212,
          1108.424,
          1313.635,
          1518.847,
          1724.059,
          1929.271,
          2134.482,
          2339.694,
          2544.906,
          2750.118,
          2957.488,
          3164.859,
          3372.229,
          3579.6,
          3786.97,
          3994.341,
          4201.711,
          4409.082,
          4616.452,
          4823.823,
          5031.193,
          5238.564,
          5445.934,
          5653.305,
          5860.675,
          6068.046,
          6275.417,
          6482.787,
          6690.158,
          6897.528
         ],
         "y": [
          1520.39,
          1447.57,
          1315.53,
          1347.82,
          1284.84,
          1234.83,
          1193.64,
          1158.81,
          1128.75,
          1102.39,
          1078.99,
          1058,
          1038.99,
          1021.49,
          1005.44,
          990.64,
          976.91,
          964.14,
          952.2,
          941,
          930.47,
          920.53,
          911.12,
          902.2,
          893.73,
          885.65,
          877.95,
          870.59,
          863.54,
          856.79,
          850.3,
          844.07,
          838.07
         ]
        },
        {
         "legendgroup": "group",
         "marker": {
          "color": "rgb(0,0,205)",
          "size": 6,
          "symbol": "circle"
         },
         "mode": "markers+text",
         "name": "Onshore Wind - Historical",
         "textfont": {
          "size": 10
         },
         "type": "scatter",
         "x": [
          178,
          216,
          261,
          292,
          340,
          405,
          453,
          495,
          541,
          595,
          698
         ],
         "y": [
          1914,
          1883,
          1937,
          1797,
          1745,
          1611,
          1604,
          1599,
          1520,
          1448,
          1316
         ]
        },
        {
         "legendgroup": "group",
         "line": {
          "color": "rgb(0,0,205)",
          "width": 1.5
         },
         "mode": "lines",
         "name": "Onshore Wind - Learning Curve",
         "type": "scatter",
         "x": [
          178.00000000000003,
          184.69841505847967,
          191.6489018264855,
          198.86094615196652,
          206.3443908499881,
          214.10944913595645,
          222.16671856435596,
          230.52719549202163,
          239.20229008568927,
          248.20384189430047,
          257.5441360073189,
          267.23591982110855,
          277.2924204362567,
          287.7273627095853,
          298.55498798548706,
          309.7900735321514,
          321.4479527092035,
          333.5445358942865,
          346.0963321971399,
          359.1204719908134,
          372.63473029076613,
          386.65755101375584,
          401.2080721496289,
          416.3061518803629,
          431.9723956820102,
          448.22818444652603,
          465.09570366187256,
          482.5979736902033,
          500.7588811854742,
          519.6032116933404,
          539.1566834778407,
          559.4459826210312,
          580.4987994434731,
          602.3438662952794,
          625.0109967692971,
          648.5311263899429,
          672.936354833219,
          698.2599897355406,
          724.5365921511494,
          751.802023720165,
          780.0934956116404,
          809.4496193084215,
          839.910459303119,
          871.5175877771109,
          904.3141413372019,
          938.344879887365,
          973.6562477159322,
          1010.2964368815681,
          1048.3154529845783,
          1087.7651834132794,
          1128.6994681585907,
          1171.1741732934863,
          1215.2472672175961,
          1260.9788997710052,
          1308.431484325224,
          1357.669782963388,
          1408.7609948658865,
          1461.7748480221135,
          1516.7836943934512,
          1573.8626086573922,
          1633.0894906675535,
          1694.545171769421,
          1758.3135251169167,
          1824.4815801403524,
          1893.1396413219884,
          1964.3814114412894,
          2038.304119458122,
          2115.0086532083433,
          2194.599697092981,
          2277.1858749488374,
          2362.8798982955477,
          2451.7987201614,
          2544.063694697862,
          2639.8007428006485,
          2739.1405239633514,
          2842.21861459823,
          2949.175693067418,
          3060.1577316772236,
          3175.31619589739,
          3294.808251077353,
          3418.7969769415076,
          3547.451590156281,
          3680.9476752727473,
          3819.467424359949,
          3963.199885656049,
          4112.341221576513,
          4267.094976431656,
          4427.672354218693,
          4594.2925068676395,
          4767.182833334282,
          4946.579289948507,
          5132.72671244151,
          5325.879150091391,
          5526.300212443166,
          5734.263429076354,
          5950.052622911271,
          6173.9622975632665,
          6406.298039273847,
          6647.376933966996,
          6897.528
         ],
         "y": [
          1970.111645221424,
          1953.1752957557574,
          1936.3845420658017,
          1919.7381325164308,
          1903.2348262323799,
          1886.873393005749,
          1870.6526132042968,
          1854.5712776805262,
          1838.6281876815572,
          1822.8221547597514,
          1807.1520006841426,
          1791.6165573525923,
          1776.2146667047211,
          1760.945180635584,
          1745.8069609100853,
          1730.7988790781326,
          1715.9198163905169,
          1701.1686637155192,
          1686.5443214562313,
          1672.0456994685887,
          1657.671716980108,
          1643.4213025093222,
          1629.293393785909,
          1615.2869376715119,
          1601.4008900812194,
          1587.6342159057583,
          1573.9858889343154,
          1560.4548917780485,
          1547.0402157942458,
          1533.7408610111383,
          1520.5558360533587,
          1507.484158068041,
          1494.524852651557,
          1481.676953776879,
          1468.9395037215706,
          1456.3115529963934,
          1443.792160274536,
          1431.380392321429,
          1419.0753239251994,
          1406.876037827685,
          1394.7816246560678,
          1382.7911828550855,
          1370.9038186198245,
          1359.1186458290956,
          1347.4347859793772,
          1335.8513681193313,
          1324.3675287848782,
          1312.9824119348325,
          1301.6951688870902,
          1290.5049582553654,
          1279.4109458864714,
          1268.4123047981402,
          1257.5082151173758,
          1246.6978640193379,
          1235.980445666756,
          1225.3551611498526,
          1214.8212184267945,
          1204.3778322646513,
          1194.0242241808598,
          1183.7596223851958,
          1173.5832617222406,
          1163.494383614345,
          1153.492236005082,
          1143.5760733031864,
          1133.7451563269758,
          1123.9987522492504,
          1114.336134542665,
          1104.7565829255711,
          1095.259383308328,
          1085.8438277400671,
          1076.5092143559227,
          1067.2548473247116,
          1058.0800367970644,
          1048.984098854001,
          1039.9663554559504,
          1031.0261343922054,
          1022.1627692308168,
          1013.3755992689131,
          1004.6639694834505,
          996.0272304823859,
          987.4647384562676,
          978.9758551302483,
          970.5599477164967,
          962.2163888670405,
          953.944556626988,
          945.7438343881793,
          937.613610843209,
          929.5532799398702,
          921.5622408359676,
          913.639897854534,
          905.7856604394249,
          897.9989431112973,
          890.2791654239659,
          882.6257519211341,
          875.0381320935018,
          867.5157403362288,
          860.0580159067852,
          852.6644028831387,
          845.3343501223277,
          838.0673112193643
         ]
        },
        {
         "marker": {
          "color": "rgb(30,144,255)",
          "size": 6,
          "symbol": "circle-open"
         },
         "mode": "markers",
         "name": "Offshore Wind - Prospective",
         "type": "scatter",
         "x": [
          23.626,
          28.355,
          34.367,
          66.02,
          97.67,
          129.32,
          160.97,
          192.62,
          224.28,
          255.93,
          287.58,
          319.23,
          350.88,
          401.71,
          452.54,
          503.37,
          554.2,
          605.03,
          655.86,
          706.69,
          757.52,
          808.35,
          859.18,
          910.01,
          960.84,
          1011.67,
          1062.5,
          1113.32,
          1164.15,
          1214.98,
          1265.81,
          1316.64,
          1367.47
         ],
         "y": [
          4496,
          3615,
          3092,
          2820,
          2513,
          2314,
          2170,
          2058,
          1968,
          1893,
          1829,
          1774,
          1725,
          1658,
          1601,
          1552,
          1508,
          1470,
          1436,
          1404,
          1376,
          1350,
          1326,
          1304,
          1283,
          1264,
          1246,
          1229,
          1213,
          1198,
          1183,
          1170,
          1157
         ]
        },
        {
         "marker": {
          "color": "rgb(30,144,255)",
          "size": 6,
          "symbol": "circle"
         },
         "mode": "markers+text",
         "name": "Offshore Wind - Historical",
         "textfont": {
          "size": 10
         },
         "type": "scatter",
         "x": [
          3.056,
          3.776,
          5.334,
          7.171,
          8.492,
          11.717,
          14.342,
          18.837,
          23.626,
          28.355,
          34.367
         ],
         "y": [
          4569,
          5233,
          4631,
          5554,
          5153,
          5168,
          4069,
          4597,
          4496,
          3615,
          3092
         ]
        },
        {
         "line": {
          "color": "rgb(30,144,255)",
          "width": 1.5
         },
         "mode": "lines",
         "name": "Offshore Wind - Learning Curve",
         "type": "scatter",
         "x": [
          3.056,
          3.2503396705285033,
          3.4570379495455956,
          3.676880755867331,
          3.910703987106811,
          4.1593966979670345,
          4.423904480650365,
          4.705233060237787,
          5.004452118708478,
          5.3226993621395895,
          5.66118484655074,
          6.021195578841196,
          6.404100410313601,
          6.811355241390762,
          7.244508557315,
          7.705207315878327,
          8.19520320956995,
          8.716359325951483,
          9.270657231584156,
          9.860204506443042,
          10.487242757465882,
          11.154156141706178,
          11.863480431497628,
          12.617912656097957,
          13.420321356472138,
          14.273757492206242,
          15.181466042022711,
          16.14689834200516,
          17.17372520844577,
          18.265850895211603,
          19.42742793869924,
          20.662872946821967,
          21.976883392063357,
          23.374455472448474,
          24.860903108344687,
          26.441878147322686,
          28.123391853901712,
          29.91183776588837,
          31.814016004214537,
          33.837159128706574,
          35.98895963809576,
          38.27759921883237,
          40.711779853914166,
          43.30075691001323,
          46.05437432870654,
          48.9831020556166,
          52.09807584977646,
          55.41113962458492,
          58.93489048134234,
          62.682726606596745,
          66.66889821541683,
          70.90856173429204,
          75.41783742967564,
          80.2138707012906,
          85.31489727324895,
          90.74031253085906,
          96.51074526675582,
          102.64813611675633,
          109.17582098367234,
          116.11861976627901,
          123.50293073080883,
          131.35683088379633,
          139.71018272791454,
          148.59474780671698,
          158.04430747000995,
          168.0947913190371,
          178.78441381985488,
          190.15381960433854,
          202.24623801129013,
          215.1076474552506,
          228.786950247991,
          243.33615853739397,
          258.8105920707151,
          275.26908853416717,
          292.77422726859487,
          311.39256721185916,
          331.19489997265015,
          352.25651899797947,
          374.65750585779114,
          398.4830347352236,
          423.8236962802632,
          450.77584205816896,
          479.441950902342,
          509.93101856461413,
          542.3589721444934,
          576.8491108731386,
          613.532574928029,
          652.548844060888,
          694.0462679347585,
          738.1826301867152,
          785.1257483609135,
          835.0541119930809,
          888.1575612725987,
          944.6380088626242,
          1004.7102076227889,
          1068.60256715356,
          1136.5580222669548,
          1208.8349566857657,
          1285.7081854834269,
          1367.47
         ],
         "y": [
          6959.219144504205,
          6834.207404939681,
          6711.4413102822255,
          6590.880520951991,
          6472.48542200805,
          6356.217110131399,
          6242.037380841691,
          6129.908715943699,
          6019.794271199283,
          5911.657864220721,
          5805.463962581605,
          5701.1776721413125,
          5598.7647255791135,
          5498.1914711343425,
          5399.42486154883,
          5302.432443207881,
          5207.182345476404,
          5113.643270226606,
          5021.784481553709,
          4931.575795676511,
          4842.987571019349,
          4755.990698472153,
          4670.5565918255425,
          4586.657178377742,
          4504.264889710145,
          4423.352652628669,
          4343.893880267821,
          4265.8624633545005,
          4189.232761628835,
          4113.979595419025,
          4040.0782373676066,
          3967.504404306335,
          3896.2342492769617,
          3826.244353695409,
          3757.5117196567044,
          3690.01376237808,
          3623.728302777888,
          3558.633560187813,
          3494.708145195953,
          3431.9310526185095,
          3370.2816545977385,
          3309.7396938238276,
          3250.285276878584,
          3191.8988676986987,
          3134.561281156374,
          3078.253676755324,
          3022.9575524400066,
          2968.6547385160247,
          2915.3273916797907,
          2862.957989155403,
          2811.529322936853,
          2761.0244941336746,
          2711.426907418151,
          2662.720265572267,
          2614.888564132637,
          2567.916086131607,
          2521.787396932829,
          2476.4873391596216,
          2432.0010277144183,
          2388.3138448876825,
          2345.411435554702,
          2303.2797024586494,
          2261.90480157837,
          2221.273137579407,
          2181.371359346711,
          2142.186355597621,
          2103.70525057363,
          2065.9153998095694,
          2028.8043859787613,
          1992.3600148128353,
          1956.5703110948207,
          1921.4235147242246,
          1886.908076852788,
          1853.0126560896715,
          1819.7261147747938,
          1787.0375153191167,
          1754.9361166106842,
          1723.4113704851989,
          1692.4529182600297,
          1662.0505873304432,
          1632.1943878270145,
          1602.8745093330551,
          1574.0813176610284,
          1545.8053516868567,
          1518.0373202410983,
          1490.7680990559795,
          1463.9887277672549,
          1437.690406969935,
          1411.8644953268931,
          1386.5025067294252,
          1361.5961075088055,
          1337.1371136979303,
          1313.1174883421654,
          1289.5293388584878,
          1266.364914442066,
          1243.6166035194396,
          1221.2769312474363,
          1199.3385570570179,
          1177.7942722412565,
          1156.6369975866319
         ]
        },
        {
         "marker": {
          "color": "rgb(255,215,0)",
          "size": 6,
          "symbol": "circle-open"
         },
         "mode": "markers",
         "name": "Residential PV - Prospective",
         "type": "scatter",
         "x": [
          58,
          74,
          93,
          150.67,
          208.35,
          266.02,
          323.7,
          381.37,
          439.05,
          496.72,
          554.39,
          612.07,
          669.74,
          751.15,
          832.56,
          913.96,
          995.37,
          1076.78,
          1158.18,
          1239.59,
          1321,
          1402.41,
          1483.81,
          1530.81,
          1577.81,
          1624.82,
          1671.82,
          1718.82,
          1765.82,
          1812.82,
          1859.82,
          1906.82,
          1953.82
         ],
         "y": [
          2704.85,
          2506.8,
          2442.72,
          1872.68,
          1639.53,
          1483.13,
          1368.42,
          1279.39,
          1207.57,
          1147.95,
          1097.36,
          1053.7,
          1015.48,
          968.8,
          928.75,
          893.88,
          863.13,
          835.74,
          811.12,
          788.83,
          768.51,
          749.88,
          732.72,
          723.41,
          714.49,
          705.94,
          697.73,
          689.83,
          682.24,
          674.93,
          667.88,
          661.07,
          654.5
         ]
        },
        {
         "marker": {
          "color": "rgb(255,215,0)",
          "size": 6,
          "symbol": "circle"
         },
         "mode": "markers+text",
         "name": "Residential PV - Historical",
         "textfont": {
          "size": 10
         },
         "type": "scatter",
         "x": [
          27,
          32,
          38,
          44,
          50,
          58,
          74,
          93
         ],
         "y": [
          3794,
          3379,
          3158,
          3103,
          3027,
          2705,
          2507,
          2443
         ]
        },
        {
         "line": {
          "color": "rgb(255,215,0)",
          "width": 1.5
         },
         "mode": "lines",
         "name": "Residential PV - Learning Curve",
         "type": "scatter",
         "x": [
          27.000000000000004,
          28.193357762954378,
          29.439460072219994,
          30.740638154233665,
          32.099326271993874,
          33.5180662791157,
          34.999512375167626,
          36.54643607118703,
          38.16173137466358,
          39.84842020369078,
          41.60965804041457,
          43.4487398343555,
          45.36910616664858,
          47.3743496867327,
          49.46822183353187,
          51.65463985370204,
          53.93769413007343,
          56.32165583399868,
          58.810984915922646,
          61.41033844912294,
          64.12457934223096,
          66.95878543683226,
          69.91825900716708,
          73.00853667970254,
          76.23539979113444,
          79.60488520419668,
          83.12329660151224,
          86.79721627861497,
          90.63351745820441,
          94.63937714867141,
          98.82228957095045,
          103.19008017881782,
          107.7509202988651,
          112.51334241753653,
          117.48625614382942,
          122.67896487752158,
          128.10118321410656,
          133.7630551190028,
          139.67517290503062,
          145.84859704866815,
          152.29487688215085,
          159.02607220013215,
          166.05477582132366,
          173.39413714732459,
          181.0578867627148,
          189.0603621224333,
          197.4165343744989,
          206.1420363682529,
          215.25319190052244,
          224.76704625441835,
          234.7013980879014,
          245.07483273176936,
          255.90675695936943,
          267.217435293071,
          279.0280279154319,
          291.3606302559775,
          304.2383143276534,
          317.68517189028523,
          331.72635952179513,
          346.38814568149616,
          361.6979598535104,
          377.68444386224917,
          394.37750545595696,
          411.8083742585665,
          430.00966019453205,
          449.01541449595913,
          468.8611934061412,
          489.5841246987073,
          511.2229771367966,
          533.8182330022353,
          557.4121638303761,
          582.0489094923086,
          607.7745607723743,
          634.6372455954817,
          662.6872190655317,
          691.9769574834013,
          722.5612565203786,
          754.4973337306986,
          787.8449355949923,
          822.6664492948645,
          859.0270194277595,
          896.9946698804132,
          936.6404310889498,
          978.0384729236509,
          1021.2662434470391,
          1066.4046138048457,
          1113.5380295209336,
          1162.7546684792196,
          1214.14660588815,
          1267.8099865363474,
          1323.845204661688,
          1382.357091770317,
          1443.4551127569505,
          1507.253570693422,
          1573.8718206685203,
          1643.4344930792595,
          1716.0717267912253,
          1791.919412604293,
          1871.119447479107,
          1953.8199999999993
         ],
         "y": [
          3791.3382077272263,
          3724.660274126696,
          3659.1549995150685,
          3594.8017604412125,
          3531.5802961568556,
          3469.470702237708,
          3408.4534243168737,
          3348.5092519283758,
          3289.6193124590445,
          3231.7650652066854,
          3174.9282955428307,
          3119.0911091780895,
          3064.235926528364,
          3010.3454771801644,
          2957.402794453267,
          2905.391210058959,
          2854.2943488522674,
          2804.0961236764606,
          2754.7807302982274,
          2706.3326424319253,
          2658.7366068513406,
          2611.9776385874156,
          2566.0410162104326,
          2520.912277195172,
          2476.5772133675805,
          2433.02186643152,
          2390.2325235741837,
          2348.1957131488134,
          2306.8982004333106,
          2266.326983463491,
          2226.4692889395706,
          2187.312568204672,
          2148.8444932940515,
          2111.052953053802,
          2073.926049327822,
          2037.4520932118414,
          2001.6196013733268,
          1966.4172924361092,
          1931.8340834286025,
          1897.8590862944611,
          1864.4816044646477,
          1831.6911294897366,
          1799.4773377314964,
          1767.8300871126055,
          1736.7394139235812,
          1706.1955296858218,
          1676.1888180698445,
          1646.7098318677124,
          1617.7492900187074,
          1589.2980746873206,
          1561.3472283926087,
          1533.8879511880746,
          1506.9115978911002,
          1480.4096753611448,
          1454.3738398257847,
          1428.7958942537975,
          1403.6677857744237,
          1378.981603142047,
          1354.7295742454276,
          1330.9040636607751,
          1307.497570247821,
          1284.5027247882024,
          1261.9122876653516,
          1239.7191465852052,
          1217.9163143369942,
          1196.4969265934126,
          1175.4542397494838,
          1154.7816287994146,
          1134.4725852508175,
          1114.5207150755841,
          1094.9197366968267,
          1075.6634790111939,
          1056.7458794459965,
          1038.160982050474,
          1019.9029356206589,
          1001.9659918571884,
          984.3445035555449,
          967.0329228280988,
          950.0257993574368,
          933.3177786804008,
          916.9036005023087,
          900.7780970408207,
          884.9361913989334,
          869.3728959665871,
          854.083310850384,
          839.0626223309235,
          824.3061013472663,
          809.8091020080574,
          795.5670601288215,
          781.5754917950027,
          767.8299919502534,
          754.3262330095698,
          741.0599634968054,
          728.0270067061556,
          715.223259387173,
          702.6446904529183,
          690.2873397108257,
          678.14731661589,
          666.2207990457789,
          654.5040320974949
         ]
        },
        {
         "marker": {
          "color": "rgb(255,140,0)",
          "size": 6,
          "symbol": "circle-open"
         },
         "mode": "markers",
         "name": "CSP - Prospective",
         "type": "scatter",
         "x": [
          5.83,
          6.38,
          6.48,
          13.13,
          19.78,
          26.44,
          33.09,
          39.74,
          46.39,
          53.04,
          59.7,
          66.35,
          73,
          93.8,
          114.6,
          135.4,
          156.2,
          177,
          197.8,
          218.6,
          239.4,
          260.2,
          281,
          295.5,
          310,
          324.5,
          339,
          353.5,
          368,
          382.5,
          397,
          411.5,
          426
         ],
         "y": [
          5161,
          6466,
          4448,
          5036,
          4238,
          3701,
          3307,
          3002,
          2757,
          2555,
          2384,
          2237,
          2110,
          1799,
          1574,
          1403,
          1267,
          1157,
          1065,
          987,
          921,
          863,
          812,
          780,
          750,
          723,
          697,
          673,
          651,
          631,
          611,
          593,
          576
         ]
        },
        {
         "marker": {
          "color": "rgb(255,140,0)",
          "size": 6,
          "symbol": "circle"
         },
         "mode": "markers+text",
         "name": "CSP - Historical",
         "textfont": {
          "size": 10
         },
         "type": "scatter",
         "x": [
          1.266,
          1.705,
          2.567,
          3.842,
          4.499,
          4.75,
          4.86,
          4.959,
          5.833,
          6.384,
          6.479
         ],
         "y": [
          8830,
          10403,
          8040,
          6307,
          5414,
          7232,
          7602,
          7196,
          5161,
          6466,
          4448
         ]
        },
        {
         "line": {
          "color": "rgb(255,140,0)",
          "width": 1.5
         },
         "mode": "lines",
         "name": "CSP - Learning Curve",
         "type": "scatter",
         "x": [
          1.266,
          1.3426373200696768,
          1.4239138809193395,
          1.5101105190265045,
          1.6015250713070892,
          1.698473404237084,
          1.8012905052721162,
          1.9103316403361044,
          2.025973581378497,
          2.1486159082416982,
          2.2786823893370527,
          2.4166224459000536,
          2.562912704884262,
          2.718058645859662,
          2.8825963476060275,
          3.0570943404363313,
          3.2421555706505623,
          3.438419483907777,
          3.6465642347150853,
          3.8673090296680837,
          4.101416612539351,
          4.349695899801805,
          4.61300477569349,
          4.892253056481617,
          5.188405634168377,
          5.502485810500979,
          5.835578832806051,
          6.1888356438657555,
          6.56347685879274,
          6.960796982645204,
          7.3821688833553285,
          7.829048535426509,
          8.302980050790262,
          8.805601014206186,
          9.338648141640299,
          9.90396328117346,
          10.503499777174737,
          11.13932921973012,
          11.813648602647945,
          12.528787914774181,
          13.287218190848156,
          14.091560049716765,
          14.944592749409663,
          15.849263790363443,
          16.808699099977044,
          17.826213833689394,
          18.905323829900254,
          20.049757758314914,
          21.263470003688894,
          22.550654329490374,
          23.91575836869243,
          25.363498991765518,
          26.898878604971575,
          28.52720243527535,
          30.254096861598153,
          32.08552885575399,
          34.02782660024314,
          36.08770135414386,
          38.27227064265604,
          40.58908285042424,
          43.04614330361743,
          45.651941930887986,
          48.415482598786674,
          51.346314222997655,
          54.45456376289186,
          57.75097121340635,
          61.246926715157166,
          64.95450991101303,
          68.88653168511992,
          73.05657842859736,
          77.47905898485952,
          82.16925443677107,
          87.14337090766962,
          92.41859555869776,
          98.01315597593465,
          103.94638315252783,
          110.23877828344838,
          116.91208360366862,
          123.9893575145274,
          131.49505425787214,
          139.4551084132751,
          147.8970245102889,
          156.84997206538205,
          166.34488637193388,
          176.41457539155454,
          187.09383311607172,
          198.41955979188464,
          210.43088942210193,
          223.16932498702153,
          236.67888185018438,
          251.00623984551288,
          266.20090457104715,
          282.3153784465992,
          299.40534212638124,
          317.5298468934513,
          336.75151870075666,
          357.1367745638055,
          378.75605205266686,
          401.6840526762743,
          425.99999999999994
         ],
         "y": [
          8830.000500101507,
          8783.462570577089,
          8733.195649968666,
          8679.266677793423,
          8621.747177579036,
          8560.713098842496,
          8496.244650048156,
          8428.426123059307,
          8357.345709620193,
          8283.095310427958,
          8205.770337372027,
          8125.469509536107,
          8042.294643572226,
          7956.3504390687385,
          7867.744259543848,
          7776.5859097040775,
          7682.9874096119975,
          7587.062766410445,
          7488.927744250638,
          7388.699633069892,
          7286.497016860243,
          7182.439542062544,
          7076.647686712386,
          6969.242530952617,
          6860.345529514916,
          6750.078286757328,
          6638.562334828462,
          6525.918915509698,
          6412.268766267041,
          6297.731911021723,
          6182.427456125848,
          6066.473392003965,
          5949.986400896013,
          5833.081671109456,
          5715.872718160888,
          5598.4712131578835,
          5480.986818742734,
          5363.52703288906,
          5246.197040812107,
          5129.099575222044,
          5012.334785118874,
          4896.0001132961825,
          4780.190182689804,
          4664.99669167671,
          4550.508318398773,
          4436.810634155942,
          4323.986025883684,
          4212.113627700865,
          4101.269261485803,
          3991.5253864109986,
          3882.9510573408893,
          3775.6118919712626,
          3669.570046565033,
          3564.884200115897,
          3461.6095467494897,
          3359.7977961512433,
          3259.497181790823,
          3160.752476695253,
          3063.605016506263,
          2968.0927295426336,
          2874.2501735744518,
          2782.1085790043176,
          2691.6958981398216,
          2603.0368602324193,
          2516.153031950153,
          2431.062882945371,
          2347.7818561736976,
          2266.3224426171064,
          2186.6942600617076,
          2108.9041355802165,
          2032.9561913694067,
          1958.8519335946528,
          1886.59034389653,
          1816.1679732184812,
          1747.579037619631,
          1680.8155157429783,
          1615.8672476162355,
          1552.7220344705202,
          1491.365739270948,
          1431.7823876626314,
          1373.9542690458254,
          1317.862037504867,
          1263.4848123268562,
          1210.8002778579853,
          1159.7847824576752,
          1110.413436323369,
          1062.6602079717195,
          1016.4980191751514,
          971.898838166021,
          928.8337709340586,
          887.2731504562788,
          847.1866237119442,
          808.543236348578,
          771.3115148783369,
          735.4595462970867,
          700.9550550315031,
          667.7654771320965,
          635.858031642494,
          605.1997890872526,
          575.7577370322424
         ]
        }
       ],
       "layout": {
        "annotations": [
         {
          "font": {
           "color": "rgb(10,10,10)",
           "family": "Times New Roman",
           "size": 10
          },
          "showarrow": true,
          "text": "2010",
          "x": 2.250420002308894,
          "y": 3.281941933440825
         },
         {
          "font": {
           "color": "rgb(10,10,10)",
           "family": "Times New Roman",
           "size": 10
          },
          "showarrow": true,
          "text": "2020",
          "x": 2.843855422623161,
          "y": 3.1192558892779365
         },
         {
          "font": {
           "color": "rgb(10,10,10)",
           "family": "Times New Roman",
           "size": 10
          },
          "showarrow": true,
          "text": "2050",
          "x": 3.8386934721408297,
          "y": 2.923280294697208
         },
         {
          "font": {
           "color": "rgb(10,10,10)",
           "family": "Times New Roman",
           "size": 10
          },
          "showarrow": true,
          "text": "2010",
          "x": 0.48515334990365233,
          "y": 3.659821158055705
         },
         {
          "font": {
           "color": "rgb(10,10,10)",
           "family": "Times New Roman",
           "size": 10
          },
          "showarrow": true,
          "text": "2020",
          "x": 1.5361416229050349,
          "y": 3.4902394852462875
         },
         {
          "font": {
           "color": "rgb(10,10,10)",
           "family": "Times New Roman",
           "size": 10
          },
          "showarrow": true,
          "text": "2050",
          "x": 3.135917807416897,
          "y": 3.0633333589517497
         },
         {
          "font": {
           "color": "rgb(10,10,10)",
           "family": "Times New Roman",
           "size": 10
          },
          "showarrow": true,
          "text": "2013",
          "x": 1.4313637641589874,
          "y": 3.5790973265526436
         },
         {
          "font": {
           "color": "rgb(10,10,10)",
           "family": "Times New Roman",
           "size": 10
          },
          "showarrow": true,
          "text": "2020",
          "x": 1.968482948553935,
          "y": 3.3879234669734366
         },
         {
          "font": {
           "color": "rgb(10,10,10)",
           "family": "Times New Roman",
           "size": 10
          },
          "showarrow": true,
          "text": "2050",
          "x": 3.2908845508834896,
          "y": 2.8159096508867747
         },
         {
          "font": {
           "color": "rgb(10,10,10)",
           "family": "Times New Roman",
           "size": 10
          },
          "showarrow": true,
          "text": "2010",
          "x": 0.1024337056813363,
          "y": 3.9459607035775686
         },
         {
          "font": {
           "color": "rgb(10,10,10)",
           "family": "Times New Roman",
           "size": 10
          },
          "showarrow": true,
          "text": "2020",
          "x": 0.8115079799453266,
          "y": 3.6481647785740012
         },
         {
          "font": {
           "color": "rgb(10,10,10)",
           "family": "Times New Roman",
           "size": 10
          },
          "showarrow": true,
          "text": "2050",
          "x": 2.629409599102719,
          "y": 2.760422483423212
         }
        ],
        "font": {
         "color": "rgb(10,10,10)",
         "family": "Times New Roman",
         "size": 16
        },
        "legend": {
         "x": 1.2
        },
        "template": {
         "data": {
          "bar": [
           {
            "error_x": {
             "color": "#2a3f5f"
            },
            "error_y": {
             "color": "#2a3f5f"
            },
            "marker": {
             "line": {
              "color": "#E5ECF6",
              "width": 0.5
             },
             "pattern": {
              "fillmode": "overlay",
              "size": 10,
              "solidity": 0.2
             }
            },
            "type": "bar"
           }
          ],
          "barpolar": [
           {
            "marker": {
             "line": {
              "color": "#E5ECF6",
              "width": 0.5
             },
             "pattern": {
              "fillmode": "overlay",
              "size": 10,
              "solidity": 0.2
             }
            },
            "type": "barpolar"
           }
          ],
          "carpet": [
           {
            "aaxis": {
             "endlinecolor": "#2a3f5f",
             "gridcolor": "white",
             "linecolor": "white",
             "minorgridcolor": "white",
             "startlinecolor": "#2a3f5f"
            },
            "baxis": {
             "endlinecolor": "#2a3f5f",
             "gridcolor": "white",
             "linecolor": "white",
             "minorgridcolor": "white",
             "startlinecolor": "#2a3f5f"
            },
            "type": "carpet"
           }
          ],
          "choropleth": [
           {
            "colorbar": {
             "outlinewidth": 0,
             "ticks": ""
            },
            "type": "choropleth"
           }
          ],
          "contour": [
           {
            "colorbar": {
             "outlinewidth": 0,
             "ticks": ""
            },
            "colorscale": [
             [
              0,
              "#0d0887"
             ],
             [
              0.1111111111111111,
              "#46039f"
             ],
             [
              0.2222222222222222,
              "#7201a8"
             ],
             [
              0.3333333333333333,
              "#9c179e"
             ],
             [
              0.4444444444444444,
              "#bd3786"
             ],
             [
              0.5555555555555556,
              "#d8576b"
             ],
             [
              0.6666666666666666,
              "#ed7953"
             ],
             [
              0.7777777777777778,
              "#fb9f3a"
             ],
             [
              0.8888888888888888,
              "#fdca26"
             ],
             [
              1,
              "#f0f921"
             ]
            ],
            "type": "contour"
           }
          ],
          "contourcarpet": [
           {
            "colorbar": {
             "outlinewidth": 0,
             "ticks": ""
            },
            "type": "contourcarpet"
           }
          ],
          "heatmap": [
           {
            "colorbar": {
             "outlinewidth": 0,
             "ticks": ""
            },
            "colorscale": [
             [
              0,
              "#0d0887"
             ],
             [
              0.1111111111111111,
              "#46039f"
             ],
             [
              0.2222222222222222,
              "#7201a8"
             ],
             [
              0.3333333333333333,
              "#9c179e"
             ],
             [
              0.4444444444444444,
              "#bd3786"
             ],
             [
              0.5555555555555556,
              "#d8576b"
             ],
             [
              0.6666666666666666,
              "#ed7953"
             ],
             [
              0.7777777777777778,
              "#fb9f3a"
             ],
             [
              0.8888888888888888,
              "#fdca26"
             ],
             [
              1,
              "#f0f921"
             ]
            ],
            "type": "heatmap"
           }
          ],
          "heatmapgl": [
           {
            "colorbar": {
             "outlinewidth": 0,
             "ticks": ""
            },
            "colorscale": [
             [
              0,
              "#0d0887"
             ],
             [
              0.1111111111111111,
              "#46039f"
             ],
             [
              0.2222222222222222,
              "#7201a8"
             ],
             [
              0.3333333333333333,
              "#9c179e"
             ],
             [
              0.4444444444444444,
              "#bd3786"
             ],
             [
              0.5555555555555556,
              "#d8576b"
             ],
             [
              0.6666666666666666,
              "#ed7953"
             ],
             [
              0.7777777777777778,
              "#fb9f3a"
             ],
             [
              0.8888888888888888,
              "#fdca26"
             ],
             [
              1,
              "#f0f921"
             ]
            ],
            "type": "heatmapgl"
           }
          ],
          "histogram": [
           {
            "marker": {
             "pattern": {
              "fillmode": "overlay",
              "size": 10,
              "solidity": 0.2
             }
            },
            "type": "histogram"
           }
          ],
          "histogram2d": [
           {
            "colorbar": {
             "outlinewidth": 0,
             "ticks": ""
            },
            "colorscale": [
             [
              0,
              "#0d0887"
             ],
             [
              0.1111111111111111,
              "#46039f"
             ],
             [
              0.2222222222222222,
              "#7201a8"
             ],
             [
              0.3333333333333333,
              "#9c179e"
             ],
             [
              0.4444444444444444,
              "#bd3786"
             ],
             [
              0.5555555555555556,
              "#d8576b"
             ],
             [
              0.6666666666666666,
              "#ed7953"
             ],
             [
              0.7777777777777778,
              "#fb9f3a"
             ],
             [
              0.8888888888888888,
              "#fdca26"
             ],
             [
              1,
              "#f0f921"
             ]
            ],
            "type": "histogram2d"
           }
          ],
          "histogram2dcontour": [
           {
            "colorbar": {
             "outlinewidth": 0,
             "ticks": ""
            },
            "colorscale": [
             [
              0,
              "#0d0887"
             ],
             [
              0.1111111111111111,
              "#46039f"
             ],
             [
              0.2222222222222222,
              "#7201a8"
             ],
             [
              0.3333333333333333,
              "#9c179e"
             ],
             [
              0.4444444444444444,
              "#bd3786"
             ],
             [
              0.5555555555555556,
              "#d8576b"
             ],
             [
              0.6666666666666666,
              "#ed7953"
             ],
             [
              0.7777777777777778,
              "#fb9f3a"
             ],
             [
              0.8888888888888888,
              "#fdca26"
             ],
             [
              1,
              "#f0f921"
             ]
            ],
            "type": "histogram2dcontour"
           }
          ],
          "mesh3d": [
           {
            "colorbar": {
             "outlinewidth": 0,
             "ticks": ""
            },
            "type": "mesh3d"
           }
          ],
          "parcoords": [
           {
            "line": {
             "colorbar": {
              "outlinewidth": 0,
              "ticks": ""
             }
            },
            "type": "parcoords"
           }
          ],
          "pie": [
           {
            "automargin": true,
            "type": "pie"
           }
          ],
          "scatter": [
           {
            "marker": {
             "colorbar": {
              "outlinewidth": 0,
              "ticks": ""
             }
            },
            "type": "scatter"
           }
          ],
          "scatter3d": [
           {
            "line": {
             "colorbar": {
              "outlinewidth": 0,
              "ticks": ""
             }
            },
            "marker": {
             "colorbar": {
              "outlinewidth": 0,
              "ticks": ""
             }
            },
            "type": "scatter3d"
           }
          ],
          "scattercarpet": [
           {
            "marker": {
             "colorbar": {
              "outlinewidth": 0,
              "ticks": ""
             }
            },
            "type": "scattercarpet"
           }
          ],
          "scattergeo": [
           {
            "marker": {
             "colorbar": {
              "outlinewidth": 0,
              "ticks": ""
             }
            },
            "type": "scattergeo"
           }
          ],
          "scattergl": [
           {
            "marker": {
             "colorbar": {
              "outlinewidth": 0,
              "ticks": ""
             }
            },
            "type": "scattergl"
           }
          ],
          "scattermapbox": [
           {
            "marker": {
             "colorbar": {
              "outlinewidth": 0,
              "ticks": ""
             }
            },
            "type": "scattermapbox"
           }
          ],
          "scatterpolar": [
           {
            "marker": {
             "colorbar": {
              "outlinewidth": 0,
              "ticks": ""
             }
            },
            "type": "scatterpolar"
           }
          ],
          "scatterpolargl": [
           {
            "marker": {
             "colorbar": {
              "outlinewidth": 0,
              "ticks": ""
             }
            },
            "type": "scatterpolargl"
           }
          ],
          "scatterternary": [
           {
            "marker": {
             "colorbar": {
              "outlinewidth": 0,
              "ticks": ""
             }
            },
            "type": "scatterternary"
           }
          ],
          "surface": [
           {
            "colorbar": {
             "outlinewidth": 0,
             "ticks": ""
            },
            "colorscale": [
             [
              0,
              "#0d0887"
             ],
             [
              0.1111111111111111,
              "#46039f"
             ],
             [
              0.2222222222222222,
              "#7201a8"
             ],
             [
              0.3333333333333333,
              "#9c179e"
             ],
             [
              0.4444444444444444,
              "#bd3786"
             ],
             [
              0.5555555555555556,
              "#d8576b"
             ],
             [
              0.6666666666666666,
              "#ed7953"
             ],
             [
              0.7777777777777778,
              "#fb9f3a"
             ],
             [
              0.8888888888888888,
              "#fdca26"
             ],
             [
              1,
              "#f0f921"
             ]
            ],
            "type": "surface"
           }
          ],
          "table": [
           {
            "cells": {
             "fill": {
              "color": "#EBF0F8"
             },
             "line": {
              "color": "white"
             }
            },
            "header": {
             "fill": {
              "color": "#C8D4E3"
             },
             "line": {
              "color": "white"
             }
            },
            "type": "table"
           }
          ]
         },
         "layout": {
          "annotationdefaults": {
           "arrowcolor": "#2a3f5f",
           "arrowhead": 0,
           "arrowwidth": 1
          },
          "autotypenumbers": "strict",
          "coloraxis": {
           "colorbar": {
            "outlinewidth": 0,
            "ticks": ""
           }
          },
          "colorscale": {
           "diverging": [
            [
             0,
             "#8e0152"
            ],
            [
             0.1,
             "#c51b7d"
            ],
            [
             0.2,
             "#de77ae"
            ],
            [
             0.3,
             "#f1b6da"
            ],
            [
             0.4,
             "#fde0ef"
            ],
            [
             0.5,
             "#f7f7f7"
            ],
            [
             0.6,
             "#e6f5d0"
            ],
            [
             0.7,
             "#b8e186"
            ],
            [
             0.8,
             "#7fbc41"
            ],
            [
             0.9,
             "#4d9221"
            ],
            [
             1,
             "#276419"
            ]
           ],
           "sequential": [
            [
             0,
             "#0d0887"
            ],
            [
             0.1111111111111111,
             "#46039f"
            ],
            [
             0.2222222222222222,
             "#7201a8"
            ],
            [
             0.3333333333333333,
             "#9c179e"
            ],
            [
             0.4444444444444444,
             "#bd3786"
            ],
            [
             0.5555555555555556,
             "#d8576b"
            ],
            [
             0.6666666666666666,
             "#ed7953"
            ],
            [
             0.7777777777777778,
             "#fb9f3a"
            ],
            [
             0.8888888888888888,
             "#fdca26"
            ],
            [
             1,
             "#f0f921"
            ]
           ],
           "sequentialminus": [
            [
             0,
             "#0d0887"
            ],
            [
             0.1111111111111111,
             "#46039f"
            ],
            [
             0.2222222222222222,
             "#7201a8"
            ],
            [
             0.3333333333333333,
             "#9c179e"
            ],
            [
             0.4444444444444444,
             "#bd3786"
            ],
            [
             0.5555555555555556,
             "#d8576b"
            ],
            [
             0.6666666666666666,
             "#ed7953"
            ],
            [
             0.7777777777777778,
             "#fb9f3a"
            ],
            [
             0.8888888888888888,
             "#fdca26"
            ],
            [
             1,
             "#f0f921"
            ]
           ]
          },
          "colorway": [
           "#636efa",
           "#EF553B",
           "#00cc96",
           "#ab63fa",
           "#FFA15A",
           "#19d3f3",
           "#FF6692",
           "#B6E880",
           "#FF97FF",
           "#FECB52"
          ],
          "font": {
           "color": "#2a3f5f"
          },
          "geo": {
           "bgcolor": "white",
           "lakecolor": "white",
           "landcolor": "#E5ECF6",
           "showlakes": true,
           "showland": true,
           "subunitcolor": "white"
          },
          "hoverlabel": {
           "align": "left"
          },
          "hovermode": "closest",
          "mapbox": {
           "style": "light"
          },
          "paper_bgcolor": "white",
          "plot_bgcolor": "#E5ECF6",
          "polar": {
           "angularaxis": {
            "gridcolor": "white",
            "linecolor": "white",
            "ticks": ""
           },
           "bgcolor": "#E5ECF6",
           "radialaxis": {
            "gridcolor": "white",
            "linecolor": "white",
            "ticks": ""
           }
          },
          "scene": {
           "xaxis": {
            "backgroundcolor": "#E5ECF6",
            "gridcolor": "white",
            "gridwidth": 2,
            "linecolor": "white",
            "showbackground": true,
            "ticks": "",
            "zerolinecolor": "white"
           },
           "yaxis": {
            "backgroundcolor": "#E5ECF6",
            "gridcolor": "white",
            "gridwidth": 2,
            "linecolor": "white",
            "showbackground": true,
            "ticks": "",
            "zerolinecolor": "white"
           },
           "zaxis": {
            "backgroundcolor": "#E5ECF6",
            "gridcolor": "white",
            "gridwidth": 2,
            "linecolor": "white",
            "showbackground": true,
            "ticks": "",
            "zerolinecolor": "white"
           }
          },
          "shapedefaults": {
           "line": {
            "color": "#2a3f5f"
           }
          },
          "ternary": {
           "aaxis": {
            "gridcolor": "white",
            "linecolor": "white",
            "ticks": ""
           },
           "baxis": {
            "gridcolor": "white",
            "linecolor": "white",
            "ticks": ""
           },
           "bgcolor": "#E5ECF6",
           "caxis": {
            "gridcolor": "white",
            "linecolor": "white",
            "ticks": ""
           }
          },
          "title": {
           "x": 0.05
          },
          "xaxis": {
           "automargin": true,
           "gridcolor": "white",
           "linecolor": "white",
           "ticks": "",
           "title": {
            "standoff": 15
           },
           "zerolinecolor": "white",
           "zerolinewidth": 2
          },
          "yaxis": {
           "automargin": true,
           "gridcolor": "white",
           "linecolor": "white",
           "ticks": "",
           "title": {
            "standoff": 15
           },
           "zerolinecolor": "white",
           "zerolinewidth": 2
          }
         }
        },
        "title": {
         "text": "",
         "y": 1
        },
        "xaxis": {
         "showgrid": true,
         "title": {
          "font": {
           "family": "Times New Roman"
          },
          "text": "Cumulative Capacity [GW]"
         },
         "type": "log"
        },
        "xaxis2": {
         "anchor": "y",
         "automargin": true,
         "color": "rgb(105,105,105)",
         "overlaying": "x",
         "showgrid": true,
         "side": "top",
         "title": {
          "font": {
           "color": "rgb(10,10,10)",
           "family": "Times New Roman"
          },
          "text": "CO<sub>2</sub> capture capacity [Mtpa]"
         },
         "type": "log"
        },
        "yaxis": {
         "showgrid": true,
         "title": {
          "font": {
           "family": "Times New Roman"
          },
          "text": "Investment Cost [USD<sub>2018</sub>/kW]"
         },
         "type": "log"
        },
        "yaxis2": {
         "anchor": "x",
         "automargin": true,
         "color": "rgb(105,105,105)",
         "overlaying": "y",
         "showgrid": true,
         "side": "right",
         "title": {
          "font": {
           "color": "rgb(10,10,10)",
           "family": "Times New Roman"
          },
          "text": "Cost of CO<sub>2</sub> capture [USD<sub>2018</sub>/tCO<sub>2</sub>]"
         },
         "type": "log"
        }
       }
      },
      "text/html": [
       "<div>                            <div id=\"182aa65d-1e85-4eeb-82c8-bdb0d32ed043\" class=\"plotly-graph-div\" style=\"height:525px; width:100%;\"></div>            <script type=\"text/javascript\">                require([\"plotly\"], function(Plotly) {                    window.PLOTLYENV=window.PLOTLYENV || {};                                    if (document.getElementById(\"182aa65d-1e85-4eeb-82c8-bdb0d32ed043\")) {                    Plotly.newPlot(                        \"182aa65d-1e85-4eeb-82c8-bdb0d32ed043\",                        [{\"legendgroup\":\"group\",\"legendgrouptitle\":{\"font\":{\"color\":\"rgb(10,10,10)\"},\"text\":\"Power capacity\"},\"marker\":{\"color\":\"rgb(0,0,205)\",\"size\":6,\"symbol\":\"circle-open\"},\"mode\":\"markers\",\"name\":\"Onshore Wind - Prospective\",\"type\":\"scatter\",\"x\":[541.0,595.0,698.0,903.212,1108.424,1313.635,1518.847,1724.059,1929.271,2134.482,2339.694,2544.906,2750.118,2957.488,3164.859,3372.229,3579.6,3786.97,3994.341,4201.711,4409.082,4616.452,4823.823,5031.193,5238.564,5445.934,5653.305,5860.675,6068.046,6275.417,6482.787,6690.158,6897.528],\"y\":[1520.39,1447.57,1315.53,1347.82,1284.84,1234.83,1193.64,1158.81,1128.75,1102.39,1078.99,1058.0,1038.99,1021.49,1005.44,990.64,976.91,964.14,952.2,941.0,930.47,920.53,911.12,902.2,893.73,885.65,877.95,870.59,863.54,856.79,850.3,844.07,838.07]},{\"legendgroup\":\"group\",\"marker\":{\"color\":\"rgb(0,0,205)\",\"size\":6,\"symbol\":\"circle\"},\"mode\":\"markers+text\",\"name\":\"Onshore Wind - Historical\",\"textfont\":{\"size\":10},\"type\":\"scatter\",\"x\":[178.0,216.0,261.0,292.0,340.0,405.0,453.0,495.0,541.0,595.0,698.0],\"y\":[1914.0,1883.0,1937.0,1797.0,1745.0,1611.0,1604.0,1599.0,1520.0,1448.0,1316.0]},{\"legendgroup\":\"group\",\"line\":{\"color\":\"rgb(0,0,205)\",\"width\":1.5},\"mode\":\"lines\",\"name\":\"Onshore Wind - Learning Curve\",\"type\":\"scatter\",\"x\":[178.00000000000003,184.69841505847967,191.6489018264855,198.86094615196652,206.3443908499881,214.10944913595645,222.16671856435596,230.52719549202163,239.20229008568927,248.20384189430047,257.5441360073189,267.23591982110855,277.2924204362567,287.7273627095853,298.55498798548706,309.7900735321514,321.4479527092035,333.5445358942865,346.0963321971399,359.1204719908134,372.63473029076613,386.65755101375584,401.2080721496289,416.3061518803629,431.9723956820102,448.22818444652603,465.09570366187256,482.5979736902033,500.7588811854742,519.6032116933404,539.1566834778407,559.4459826210312,580.4987994434731,602.3438662952794,625.0109967692971,648.5311263899429,672.936354833219,698.2599897355406,724.5365921511494,751.802023720165,780.0934956116404,809.4496193084215,839.910459303119,871.5175877771109,904.3141413372019,938.344879887365,973.6562477159322,1010.2964368815681,1048.3154529845783,1087.7651834132794,1128.6994681585907,1171.1741732934863,1215.2472672175961,1260.9788997710052,1308.431484325224,1357.669782963388,1408.7609948658865,1461.7748480221135,1516.7836943934512,1573.8626086573922,1633.0894906675535,1694.545171769421,1758.3135251169167,1824.4815801403524,1893.1396413219884,1964.3814114412894,2038.304119458122,2115.0086532083433,2194.599697092981,2277.1858749488374,2362.8798982955477,2451.7987201614,2544.063694697862,2639.8007428006485,2739.1405239633514,2842.21861459823,2949.175693067418,3060.1577316772236,3175.31619589739,3294.808251077353,3418.7969769415076,3547.451590156281,3680.9476752727473,3819.467424359949,3963.199885656049,4112.341221576513,4267.094976431656,4427.672354218693,4594.2925068676395,4767.182833334282,4946.579289948507,5132.72671244151,5325.879150091391,5526.300212443166,5734.263429076354,5950.052622911271,6173.9622975632665,6406.298039273847,6647.376933966996,6897.528],\"y\":[1970.111645221424,1953.1752957557574,1936.3845420658017,1919.7381325164308,1903.2348262323799,1886.873393005749,1870.6526132042968,1854.5712776805262,1838.6281876815572,1822.8221547597514,1807.1520006841426,1791.6165573525923,1776.2146667047211,1760.945180635584,1745.8069609100853,1730.7988790781326,1715.9198163905169,1701.1686637155192,1686.5443214562313,1672.0456994685887,1657.671716980108,1643.4213025093222,1629.293393785909,1615.2869376715119,1601.4008900812194,1587.6342159057583,1573.9858889343154,1560.4548917780485,1547.0402157942458,1533.7408610111383,1520.5558360533587,1507.484158068041,1494.524852651557,1481.676953776879,1468.9395037215706,1456.3115529963934,1443.792160274536,1431.380392321429,1419.0753239251994,1406.876037827685,1394.7816246560678,1382.7911828550855,1370.9038186198245,1359.1186458290956,1347.4347859793772,1335.8513681193313,1324.3675287848782,1312.9824119348325,1301.6951688870902,1290.5049582553654,1279.4109458864714,1268.4123047981402,1257.5082151173758,1246.6978640193379,1235.980445666756,1225.3551611498526,1214.8212184267945,1204.3778322646513,1194.0242241808598,1183.7596223851958,1173.5832617222406,1163.494383614345,1153.492236005082,1143.5760733031864,1133.7451563269758,1123.9987522492504,1114.336134542665,1104.7565829255711,1095.259383308328,1085.8438277400671,1076.5092143559227,1067.2548473247116,1058.0800367970644,1048.984098854001,1039.9663554559504,1031.0261343922054,1022.1627692308168,1013.3755992689131,1004.6639694834505,996.0272304823859,987.4647384562676,978.9758551302483,970.5599477164967,962.2163888670405,953.944556626988,945.7438343881793,937.613610843209,929.5532799398702,921.5622408359676,913.639897854534,905.7856604394249,897.9989431112973,890.2791654239659,882.6257519211341,875.0381320935018,867.5157403362288,860.0580159067852,852.6644028831387,845.3343501223277,838.0673112193643]},{\"marker\":{\"color\":\"rgb(30,144,255)\",\"size\":6,\"symbol\":\"circle-open\"},\"mode\":\"markers\",\"name\":\"Offshore Wind - Prospective\",\"type\":\"scatter\",\"x\":[23.626,28.355,34.367,66.02,97.67,129.32,160.97,192.62,224.28,255.93,287.58,319.23,350.88,401.71,452.54,503.37,554.2,605.03,655.86,706.69,757.52,808.35,859.18,910.01,960.84,1011.67,1062.5,1113.32,1164.15,1214.98,1265.81,1316.64,1367.47],\"y\":[4496.0,3615.0,3092.0,2820.0,2513.0,2314.0,2170.0,2058.0,1968.0,1893.0,1829.0,1774.0,1725.0,1658.0,1601.0,1552.0,1508.0,1470.0,1436.0,1404.0,1376.0,1350.0,1326.0,1304.0,1283.0,1264.0,1246.0,1229.0,1213.0,1198.0,1183.0,1170.0,1157.0]},{\"marker\":{\"color\":\"rgb(30,144,255)\",\"size\":6,\"symbol\":\"circle\"},\"mode\":\"markers+text\",\"name\":\"Offshore Wind - Historical\",\"textfont\":{\"size\":10},\"type\":\"scatter\",\"x\":[3.056,3.776,5.334,7.171,8.492,11.717,14.342,18.837,23.626,28.355,34.367],\"y\":[4569.0,5233.0,4631.0,5554.0,5153.0,5168.0,4069.0,4597.0,4496.0,3615.0,3092.0]},{\"line\":{\"color\":\"rgb(30,144,255)\",\"width\":1.5},\"mode\":\"lines\",\"name\":\"Offshore Wind - Learning Curve\",\"type\":\"scatter\",\"x\":[3.056,3.2503396705285033,3.4570379495455956,3.676880755867331,3.910703987106811,4.1593966979670345,4.423904480650365,4.705233060237787,5.004452118708478,5.3226993621395895,5.66118484655074,6.021195578841196,6.404100410313601,6.811355241390762,7.244508557315,7.705207315878327,8.19520320956995,8.716359325951483,9.270657231584156,9.860204506443042,10.487242757465882,11.154156141706178,11.863480431497628,12.617912656097957,13.420321356472138,14.273757492206242,15.181466042022711,16.14689834200516,17.17372520844577,18.265850895211603,19.42742793869924,20.662872946821967,21.976883392063357,23.374455472448474,24.860903108344687,26.441878147322686,28.123391853901712,29.91183776588837,31.814016004214537,33.837159128706574,35.98895963809576,38.27759921883237,40.711779853914166,43.30075691001323,46.05437432870654,48.9831020556166,52.09807584977646,55.41113962458492,58.93489048134234,62.682726606596745,66.66889821541683,70.90856173429204,75.41783742967564,80.2138707012906,85.31489727324895,90.74031253085906,96.51074526675582,102.64813611675633,109.17582098367234,116.11861976627901,123.50293073080883,131.35683088379633,139.71018272791454,148.59474780671698,158.04430747000995,168.0947913190371,178.78441381985488,190.15381960433854,202.24623801129013,215.1076474552506,228.786950247991,243.33615853739397,258.8105920707151,275.26908853416717,292.77422726859487,311.39256721185916,331.19489997265015,352.25651899797947,374.65750585779114,398.4830347352236,423.8236962802632,450.77584205816896,479.441950902342,509.93101856461413,542.3589721444934,576.8491108731386,613.532574928029,652.548844060888,694.0462679347585,738.1826301867152,785.1257483609135,835.0541119930809,888.1575612725987,944.6380088626242,1004.7102076227889,1068.60256715356,1136.5580222669548,1208.8349566857657,1285.7081854834269,1367.47],\"y\":[6959.219144504205,6834.207404939681,6711.4413102822255,6590.880520951991,6472.48542200805,6356.217110131399,6242.037380841691,6129.908715943699,6019.794271199283,5911.657864220721,5805.463962581605,5701.1776721413125,5598.7647255791135,5498.1914711343425,5399.42486154883,5302.432443207881,5207.182345476404,5113.643270226606,5021.784481553709,4931.575795676511,4842.987571019349,4755.990698472153,4670.5565918255425,4586.657178377742,4504.264889710145,4423.352652628669,4343.893880267821,4265.8624633545005,4189.232761628835,4113.979595419025,4040.0782373676066,3967.504404306335,3896.2342492769617,3826.244353695409,3757.5117196567044,3690.01376237808,3623.728302777888,3558.633560187813,3494.708145195953,3431.9310526185095,3370.2816545977385,3309.7396938238276,3250.285276878584,3191.8988676986987,3134.561281156374,3078.253676755324,3022.9575524400066,2968.6547385160247,2915.3273916797907,2862.957989155403,2811.529322936853,2761.0244941336746,2711.426907418151,2662.720265572267,2614.888564132637,2567.916086131607,2521.787396932829,2476.4873391596216,2432.0010277144183,2388.3138448876825,2345.411435554702,2303.2797024586494,2261.90480157837,2221.273137579407,2181.371359346711,2142.186355597621,2103.70525057363,2065.9153998095694,2028.8043859787613,1992.3600148128353,1956.5703110948207,1921.4235147242246,1886.908076852788,1853.0126560896715,1819.7261147747938,1787.0375153191167,1754.9361166106842,1723.4113704851989,1692.4529182600297,1662.0505873304432,1632.1943878270145,1602.8745093330551,1574.0813176610284,1545.8053516868567,1518.0373202410983,1490.7680990559795,1463.9887277672549,1437.690406969935,1411.8644953268931,1386.5025067294252,1361.5961075088055,1337.1371136979303,1313.1174883421654,1289.5293388584878,1266.364914442066,1243.6166035194396,1221.2769312474363,1199.3385570570179,1177.7942722412565,1156.6369975866319]},{\"marker\":{\"color\":\"rgb(255,215,0)\",\"size\":6,\"symbol\":\"circle-open\"},\"mode\":\"markers\",\"name\":\"Residential PV - Prospective\",\"type\":\"scatter\",\"x\":[58.0,74.0,93.0,150.67,208.35,266.02,323.7,381.37,439.05,496.72,554.39,612.07,669.74,751.15,832.56,913.96,995.37,1076.78,1158.18,1239.59,1321.0,1402.41,1483.81,1530.81,1577.81,1624.82,1671.82,1718.82,1765.82,1812.82,1859.82,1906.82,1953.82],\"y\":[2704.85,2506.8,2442.72,1872.68,1639.53,1483.13,1368.42,1279.39,1207.57,1147.95,1097.36,1053.7,1015.48,968.8,928.75,893.88,863.13,835.74,811.12,788.83,768.51,749.88,732.72,723.41,714.49,705.94,697.73,689.83,682.24,674.93,667.88,661.07,654.5]},{\"marker\":{\"color\":\"rgb(255,215,0)\",\"size\":6,\"symbol\":\"circle\"},\"mode\":\"markers+text\",\"name\":\"Residential PV - Historical\",\"textfont\":{\"size\":10},\"type\":\"scatter\",\"x\":[27.0,32.0,38.0,44.0,50.0,58.0,74.0,93.0],\"y\":[3794.0,3379.0,3158.0,3103.0,3027.0,2705.0,2507.0,2443.0]},{\"line\":{\"color\":\"rgb(255,215,0)\",\"width\":1.5},\"mode\":\"lines\",\"name\":\"Residential PV - Learning Curve\",\"type\":\"scatter\",\"x\":[27.000000000000004,28.193357762954378,29.439460072219994,30.740638154233665,32.099326271993874,33.5180662791157,34.999512375167626,36.54643607118703,38.16173137466358,39.84842020369078,41.60965804041457,43.4487398343555,45.36910616664858,47.3743496867327,49.46822183353187,51.65463985370204,53.93769413007343,56.32165583399868,58.810984915922646,61.41033844912294,64.12457934223096,66.95878543683226,69.91825900716708,73.00853667970254,76.23539979113444,79.60488520419668,83.12329660151224,86.79721627861497,90.63351745820441,94.63937714867141,98.82228957095045,103.19008017881782,107.7509202988651,112.51334241753653,117.48625614382942,122.67896487752158,128.10118321410656,133.7630551190028,139.67517290503062,145.84859704866815,152.29487688215085,159.02607220013215,166.05477582132366,173.39413714732459,181.0578867627148,189.0603621224333,197.4165343744989,206.1420363682529,215.25319190052244,224.76704625441835,234.7013980879014,245.07483273176936,255.90675695936943,267.217435293071,279.0280279154319,291.3606302559775,304.2383143276534,317.68517189028523,331.72635952179513,346.38814568149616,361.6979598535104,377.68444386224917,394.37750545595696,411.8083742585665,430.00966019453205,449.01541449595913,468.8611934061412,489.5841246987073,511.2229771367966,533.8182330022353,557.4121638303761,582.0489094923086,607.7745607723743,634.6372455954817,662.6872190655317,691.9769574834013,722.5612565203786,754.4973337306986,787.8449355949923,822.6664492948645,859.0270194277595,896.9946698804132,936.6404310889498,978.0384729236509,1021.2662434470391,1066.4046138048457,1113.5380295209336,1162.7546684792196,1214.14660588815,1267.8099865363474,1323.845204661688,1382.357091770317,1443.4551127569505,1507.253570693422,1573.8718206685203,1643.4344930792595,1716.0717267912253,1791.919412604293,1871.119447479107,1953.8199999999993],\"y\":[3791.3382077272263,3724.660274126696,3659.1549995150685,3594.8017604412125,3531.5802961568556,3469.470702237708,3408.4534243168737,3348.5092519283758,3289.6193124590445,3231.7650652066854,3174.9282955428307,3119.0911091780895,3064.235926528364,3010.3454771801644,2957.402794453267,2905.391210058959,2854.2943488522674,2804.0961236764606,2754.7807302982274,2706.3326424319253,2658.7366068513406,2611.9776385874156,2566.0410162104326,2520.912277195172,2476.5772133675805,2433.02186643152,2390.2325235741837,2348.1957131488134,2306.8982004333106,2266.326983463491,2226.4692889395706,2187.312568204672,2148.8444932940515,2111.052953053802,2073.926049327822,2037.4520932118414,2001.6196013733268,1966.4172924361092,1931.8340834286025,1897.8590862944611,1864.4816044646477,1831.6911294897366,1799.4773377314964,1767.8300871126055,1736.7394139235812,1706.1955296858218,1676.1888180698445,1646.7098318677124,1617.7492900187074,1589.2980746873206,1561.3472283926087,1533.8879511880746,1506.9115978911002,1480.4096753611448,1454.3738398257847,1428.7958942537975,1403.6677857744237,1378.981603142047,1354.7295742454276,1330.9040636607751,1307.497570247821,1284.5027247882024,1261.9122876653516,1239.7191465852052,1217.9163143369942,1196.4969265934126,1175.4542397494838,1154.7816287994146,1134.4725852508175,1114.5207150755841,1094.9197366968267,1075.6634790111939,1056.7458794459965,1038.160982050474,1019.9029356206589,1001.9659918571884,984.3445035555449,967.0329228280988,950.0257993574368,933.3177786804008,916.9036005023087,900.7780970408207,884.9361913989334,869.3728959665871,854.083310850384,839.0626223309235,824.3061013472663,809.8091020080574,795.5670601288215,781.5754917950027,767.8299919502534,754.3262330095698,741.0599634968054,728.0270067061556,715.223259387173,702.6446904529183,690.2873397108257,678.14731661589,666.2207990457789,654.5040320974949]},{\"marker\":{\"color\":\"rgb(255,140,0)\",\"size\":6,\"symbol\":\"circle-open\"},\"mode\":\"markers\",\"name\":\"CSP - Prospective\",\"type\":\"scatter\",\"x\":[5.83,6.38,6.48,13.13,19.78,26.44,33.09,39.74,46.39,53.04,59.7,66.35,73.0,93.8,114.6,135.4,156.2,177.0,197.8,218.6,239.4,260.2,281.0,295.5,310.0,324.5,339.0,353.5,368.0,382.5,397.0,411.5,426.0],\"y\":[5161.0,6466.0,4448.0,5036.0,4238.0,3701.0,3307.0,3002.0,2757.0,2555.0,2384.0,2237.0,2110.0,1799.0,1574.0,1403.0,1267.0,1157.0,1065.0,987.0,921.0,863.0,812.0,780.0,750.0,723.0,697.0,673.0,651.0,631.0,611.0,593.0,576.0]},{\"marker\":{\"color\":\"rgb(255,140,0)\",\"size\":6,\"symbol\":\"circle\"},\"mode\":\"markers+text\",\"name\":\"CSP - Historical\",\"textfont\":{\"size\":10},\"type\":\"scatter\",\"x\":[1.266,1.705,2.567,3.842,4.499,4.75,4.86,4.959,5.833,6.384,6.479],\"y\":[8830.0,10403.0,8040.0,6307.0,5414.0,7232.0,7602.0,7196.0,5161.0,6466.0,4448.0]},{\"line\":{\"color\":\"rgb(255,140,0)\",\"width\":1.5},\"mode\":\"lines\",\"name\":\"CSP - Learning Curve\",\"type\":\"scatter\",\"x\":[1.266,1.3426373200696768,1.4239138809193395,1.5101105190265045,1.6015250713070892,1.698473404237084,1.8012905052721162,1.9103316403361044,2.025973581378497,2.1486159082416982,2.2786823893370527,2.4166224459000536,2.562912704884262,2.718058645859662,2.8825963476060275,3.0570943404363313,3.2421555706505623,3.438419483907777,3.6465642347150853,3.8673090296680837,4.101416612539351,4.349695899801805,4.61300477569349,4.892253056481617,5.188405634168377,5.502485810500979,5.835578832806051,6.1888356438657555,6.56347685879274,6.960796982645204,7.3821688833553285,7.829048535426509,8.302980050790262,8.805601014206186,9.338648141640299,9.90396328117346,10.503499777174737,11.13932921973012,11.813648602647945,12.528787914774181,13.287218190848156,14.091560049716765,14.944592749409663,15.849263790363443,16.808699099977044,17.826213833689394,18.905323829900254,20.049757758314914,21.263470003688894,22.550654329490374,23.91575836869243,25.363498991765518,26.898878604971575,28.52720243527535,30.254096861598153,32.08552885575399,34.02782660024314,36.08770135414386,38.27227064265604,40.58908285042424,43.04614330361743,45.651941930887986,48.415482598786674,51.346314222997655,54.45456376289186,57.75097121340635,61.246926715157166,64.95450991101303,68.88653168511992,73.05657842859736,77.47905898485952,82.16925443677107,87.14337090766962,92.41859555869776,98.01315597593465,103.94638315252783,110.23877828344838,116.91208360366862,123.9893575145274,131.49505425787214,139.4551084132751,147.8970245102889,156.84997206538205,166.34488637193388,176.41457539155454,187.09383311607172,198.41955979188464,210.43088942210193,223.16932498702153,236.67888185018438,251.00623984551288,266.20090457104715,282.3153784465992,299.40534212638124,317.5298468934513,336.75151870075666,357.1367745638055,378.75605205266686,401.6840526762743,425.99999999999994],\"y\":[8830.000500101507,8783.462570577089,8733.195649968666,8679.266677793423,8621.747177579036,8560.713098842496,8496.244650048156,8428.426123059307,8357.345709620193,8283.095310427958,8205.770337372027,8125.469509536107,8042.294643572226,7956.3504390687385,7867.744259543848,7776.5859097040775,7682.9874096119975,7587.062766410445,7488.927744250638,7388.699633069892,7286.497016860243,7182.439542062544,7076.647686712386,6969.242530952617,6860.345529514916,6750.078286757328,6638.562334828462,6525.918915509698,6412.268766267041,6297.731911021723,6182.427456125848,6066.473392003965,5949.986400896013,5833.081671109456,5715.872718160888,5598.4712131578835,5480.986818742734,5363.52703288906,5246.197040812107,5129.099575222044,5012.334785118874,4896.0001132961825,4780.190182689804,4664.99669167671,4550.508318398773,4436.810634155942,4323.986025883684,4212.113627700865,4101.269261485803,3991.5253864109986,3882.9510573408893,3775.6118919712626,3669.570046565033,3564.884200115897,3461.6095467494897,3359.7977961512433,3259.497181790823,3160.752476695253,3063.605016506263,2968.0927295426336,2874.2501735744518,2782.1085790043176,2691.6958981398216,2603.0368602324193,2516.153031950153,2431.062882945371,2347.7818561736976,2266.3224426171064,2186.6942600617076,2108.9041355802165,2032.9561913694067,1958.8519335946528,1886.59034389653,1816.1679732184812,1747.579037619631,1680.8155157429783,1615.8672476162355,1552.7220344705202,1491.365739270948,1431.7823876626314,1373.9542690458254,1317.862037504867,1263.4848123268562,1210.8002778579853,1159.7847824576752,1110.413436323369,1062.6602079717195,1016.4980191751514,971.898838166021,928.8337709340586,887.2731504562788,847.1866237119442,808.543236348578,771.3115148783369,735.4595462970867,700.9550550315031,667.7654771320965,635.858031642494,605.1997890872526,575.7577370322424]}],                        {\"annotations\":[{\"font\":{\"color\":\"rgb(10,10,10)\",\"family\":\"Times New Roman\",\"size\":10},\"showarrow\":true,\"text\":\"2010\",\"x\":2.250420002308894,\"y\":3.281941933440825},{\"font\":{\"color\":\"rgb(10,10,10)\",\"family\":\"Times New Roman\",\"size\":10},\"showarrow\":true,\"text\":\"2020\",\"x\":2.843855422623161,\"y\":3.1192558892779365},{\"font\":{\"color\":\"rgb(10,10,10)\",\"family\":\"Times New Roman\",\"size\":10},\"showarrow\":true,\"text\":\"2050\",\"x\":3.8386934721408297,\"y\":2.923280294697208},{\"font\":{\"color\":\"rgb(10,10,10)\",\"family\":\"Times New Roman\",\"size\":10},\"showarrow\":true,\"text\":\"2010\",\"x\":0.48515334990365233,\"y\":3.659821158055705},{\"font\":{\"color\":\"rgb(10,10,10)\",\"family\":\"Times New Roman\",\"size\":10},\"showarrow\":true,\"text\":\"2020\",\"x\":1.5361416229050349,\"y\":3.4902394852462875},{\"font\":{\"color\":\"rgb(10,10,10)\",\"family\":\"Times New Roman\",\"size\":10},\"showarrow\":true,\"text\":\"2050\",\"x\":3.135917807416897,\"y\":3.0633333589517497},{\"font\":{\"color\":\"rgb(10,10,10)\",\"family\":\"Times New Roman\",\"size\":10},\"showarrow\":true,\"text\":\"2013\",\"x\":1.4313637641589874,\"y\":3.5790973265526436},{\"font\":{\"color\":\"rgb(10,10,10)\",\"family\":\"Times New Roman\",\"size\":10},\"showarrow\":true,\"text\":\"2020\",\"x\":1.968482948553935,\"y\":3.3879234669734366},{\"font\":{\"color\":\"rgb(10,10,10)\",\"family\":\"Times New Roman\",\"size\":10},\"showarrow\":true,\"text\":\"2050\",\"x\":3.2908845508834896,\"y\":2.8159096508867747},{\"font\":{\"color\":\"rgb(10,10,10)\",\"family\":\"Times New Roman\",\"size\":10},\"showarrow\":true,\"text\":\"2010\",\"x\":0.1024337056813363,\"y\":3.9459607035775686},{\"font\":{\"color\":\"rgb(10,10,10)\",\"family\":\"Times New Roman\",\"size\":10},\"showarrow\":true,\"text\":\"2020\",\"x\":0.8115079799453266,\"y\":3.6481647785740012},{\"font\":{\"color\":\"rgb(10,10,10)\",\"family\":\"Times New Roman\",\"size\":10},\"showarrow\":true,\"text\":\"2050\",\"x\":2.629409599102719,\"y\":2.760422483423212}],\"font\":{\"color\":\"rgb(10,10,10)\",\"family\":\"Times New Roman\",\"size\":16},\"legend\":{\"x\":1.2},\"template\":{\"data\":{\"bar\":[{\"error_x\":{\"color\":\"#2a3f5f\"},\"error_y\":{\"color\":\"#2a3f5f\"},\"marker\":{\"line\":{\"color\":\"#E5ECF6\",\"width\":0.5},\"pattern\":{\"fillmode\":\"overlay\",\"size\":10,\"solidity\":0.2}},\"type\":\"bar\"}],\"barpolar\":[{\"marker\":{\"line\":{\"color\":\"#E5ECF6\",\"width\":0.5},\"pattern\":{\"fillmode\":\"overlay\",\"size\":10,\"solidity\":0.2}},\"type\":\"barpolar\"}],\"carpet\":[{\"aaxis\":{\"endlinecolor\":\"#2a3f5f\",\"gridcolor\":\"white\",\"linecolor\":\"white\",\"minorgridcolor\":\"white\",\"startlinecolor\":\"#2a3f5f\"},\"baxis\":{\"endlinecolor\":\"#2a3f5f\",\"gridcolor\":\"white\",\"linecolor\":\"white\",\"minorgridcolor\":\"white\",\"startlinecolor\":\"#2a3f5f\"},\"type\":\"carpet\"}],\"choropleth\":[{\"colorbar\":{\"outlinewidth\":0,\"ticks\":\"\"},\"type\":\"choropleth\"}],\"contour\":[{\"colorbar\":{\"outlinewidth\":0,\"ticks\":\"\"},\"colorscale\":[[0.0,\"#0d0887\"],[0.1111111111111111,\"#46039f\"],[0.2222222222222222,\"#7201a8\"],[0.3333333333333333,\"#9c179e\"],[0.4444444444444444,\"#bd3786\"],[0.5555555555555556,\"#d8576b\"],[0.6666666666666666,\"#ed7953\"],[0.7777777777777778,\"#fb9f3a\"],[0.8888888888888888,\"#fdca26\"],[1.0,\"#f0f921\"]],\"type\":\"contour\"}],\"contourcarpet\":[{\"colorbar\":{\"outlinewidth\":0,\"ticks\":\"\"},\"type\":\"contourcarpet\"}],\"heatmap\":[{\"colorbar\":{\"outlinewidth\":0,\"ticks\":\"\"},\"colorscale\":[[0.0,\"#0d0887\"],[0.1111111111111111,\"#46039f\"],[0.2222222222222222,\"#7201a8\"],[0.3333333333333333,\"#9c179e\"],[0.4444444444444444,\"#bd3786\"],[0.5555555555555556,\"#d8576b\"],[0.6666666666666666,\"#ed7953\"],[0.7777777777777778,\"#fb9f3a\"],[0.8888888888888888,\"#fdca26\"],[1.0,\"#f0f921\"]],\"type\":\"heatmap\"}],\"heatmapgl\":[{\"colorbar\":{\"outlinewidth\":0,\"ticks\":\"\"},\"colorscale\":[[0.0,\"#0d0887\"],[0.1111111111111111,\"#46039f\"],[0.2222222222222222,\"#7201a8\"],[0.3333333333333333,\"#9c179e\"],[0.4444444444444444,\"#bd3786\"],[0.5555555555555556,\"#d8576b\"],[0.6666666666666666,\"#ed7953\"],[0.7777777777777778,\"#fb9f3a\"],[0.8888888888888888,\"#fdca26\"],[1.0,\"#f0f921\"]],\"type\":\"heatmapgl\"}],\"histogram\":[{\"marker\":{\"pattern\":{\"fillmode\":\"overlay\",\"size\":10,\"solidity\":0.2}},\"type\":\"histogram\"}],\"histogram2d\":[{\"colorbar\":{\"outlinewidth\":0,\"ticks\":\"\"},\"colorscale\":[[0.0,\"#0d0887\"],[0.1111111111111111,\"#46039f\"],[0.2222222222222222,\"#7201a8\"],[0.3333333333333333,\"#9c179e\"],[0.4444444444444444,\"#bd3786\"],[0.5555555555555556,\"#d8576b\"],[0.6666666666666666,\"#ed7953\"],[0.7777777777777778,\"#fb9f3a\"],[0.8888888888888888,\"#fdca26\"],[1.0,\"#f0f921\"]],\"type\":\"histogram2d\"}],\"histogram2dcontour\":[{\"colorbar\":{\"outlinewidth\":0,\"ticks\":\"\"},\"colorscale\":[[0.0,\"#0d0887\"],[0.1111111111111111,\"#46039f\"],[0.2222222222222222,\"#7201a8\"],[0.3333333333333333,\"#9c179e\"],[0.4444444444444444,\"#bd3786\"],[0.5555555555555556,\"#d8576b\"],[0.6666666666666666,\"#ed7953\"],[0.7777777777777778,\"#fb9f3a\"],[0.8888888888888888,\"#fdca26\"],[1.0,\"#f0f921\"]],\"type\":\"histogram2dcontour\"}],\"mesh3d\":[{\"colorbar\":{\"outlinewidth\":0,\"ticks\":\"\"},\"type\":\"mesh3d\"}],\"parcoords\":[{\"line\":{\"colorbar\":{\"outlinewidth\":0,\"ticks\":\"\"}},\"type\":\"parcoords\"}],\"pie\":[{\"automargin\":true,\"type\":\"pie\"}],\"scatter\":[{\"marker\":{\"colorbar\":{\"outlinewidth\":0,\"ticks\":\"\"}},\"type\":\"scatter\"}],\"scatter3d\":[{\"line\":{\"colorbar\":{\"outlinewidth\":0,\"ticks\":\"\"}},\"marker\":{\"colorbar\":{\"outlinewidth\":0,\"ticks\":\"\"}},\"type\":\"scatter3d\"}],\"scattercarpet\":[{\"marker\":{\"colorbar\":{\"outlinewidth\":0,\"ticks\":\"\"}},\"type\":\"scattercarpet\"}],\"scattergeo\":[{\"marker\":{\"colorbar\":{\"outlinewidth\":0,\"ticks\":\"\"}},\"type\":\"scattergeo\"}],\"scattergl\":[{\"marker\":{\"colorbar\":{\"outlinewidth\":0,\"ticks\":\"\"}},\"type\":\"scattergl\"}],\"scattermapbox\":[{\"marker\":{\"colorbar\":{\"outlinewidth\":0,\"ticks\":\"\"}},\"type\":\"scattermapbox\"}],\"scatterpolar\":[{\"marker\":{\"colorbar\":{\"outlinewidth\":0,\"ticks\":\"\"}},\"type\":\"scatterpolar\"}],\"scatterpolargl\":[{\"marker\":{\"colorbar\":{\"outlinewidth\":0,\"ticks\":\"\"}},\"type\":\"scatterpolargl\"}],\"scatterternary\":[{\"marker\":{\"colorbar\":{\"outlinewidth\":0,\"ticks\":\"\"}},\"type\":\"scatterternary\"}],\"surface\":[{\"colorbar\":{\"outlinewidth\":0,\"ticks\":\"\"},\"colorscale\":[[0.0,\"#0d0887\"],[0.1111111111111111,\"#46039f\"],[0.2222222222222222,\"#7201a8\"],[0.3333333333333333,\"#9c179e\"],[0.4444444444444444,\"#bd3786\"],[0.5555555555555556,\"#d8576b\"],[0.6666666666666666,\"#ed7953\"],[0.7777777777777778,\"#fb9f3a\"],[0.8888888888888888,\"#fdca26\"],[1.0,\"#f0f921\"]],\"type\":\"surface\"}],\"table\":[{\"cells\":{\"fill\":{\"color\":\"#EBF0F8\"},\"line\":{\"color\":\"white\"}},\"header\":{\"fill\":{\"color\":\"#C8D4E3\"},\"line\":{\"color\":\"white\"}},\"type\":\"table\"}]},\"layout\":{\"annotationdefaults\":{\"arrowcolor\":\"#2a3f5f\",\"arrowhead\":0,\"arrowwidth\":1},\"autotypenumbers\":\"strict\",\"coloraxis\":{\"colorbar\":{\"outlinewidth\":0,\"ticks\":\"\"}},\"colorscale\":{\"diverging\":[[0,\"#8e0152\"],[0.1,\"#c51b7d\"],[0.2,\"#de77ae\"],[0.3,\"#f1b6da\"],[0.4,\"#fde0ef\"],[0.5,\"#f7f7f7\"],[0.6,\"#e6f5d0\"],[0.7,\"#b8e186\"],[0.8,\"#7fbc41\"],[0.9,\"#4d9221\"],[1,\"#276419\"]],\"sequential\":[[0.0,\"#0d0887\"],[0.1111111111111111,\"#46039f\"],[0.2222222222222222,\"#7201a8\"],[0.3333333333333333,\"#9c179e\"],[0.4444444444444444,\"#bd3786\"],[0.5555555555555556,\"#d8576b\"],[0.6666666666666666,\"#ed7953\"],[0.7777777777777778,\"#fb9f3a\"],[0.8888888888888888,\"#fdca26\"],[1.0,\"#f0f921\"]],\"sequentialminus\":[[0.0,\"#0d0887\"],[0.1111111111111111,\"#46039f\"],[0.2222222222222222,\"#7201a8\"],[0.3333333333333333,\"#9c179e\"],[0.4444444444444444,\"#bd3786\"],[0.5555555555555556,\"#d8576b\"],[0.6666666666666666,\"#ed7953\"],[0.7777777777777778,\"#fb9f3a\"],[0.8888888888888888,\"#fdca26\"],[1.0,\"#f0f921\"]]},\"colorway\":[\"#636efa\",\"#EF553B\",\"#00cc96\",\"#ab63fa\",\"#FFA15A\",\"#19d3f3\",\"#FF6692\",\"#B6E880\",\"#FF97FF\",\"#FECB52\"],\"font\":{\"color\":\"#2a3f5f\"},\"geo\":{\"bgcolor\":\"white\",\"lakecolor\":\"white\",\"landcolor\":\"#E5ECF6\",\"showlakes\":true,\"showland\":true,\"subunitcolor\":\"white\"},\"hoverlabel\":{\"align\":\"left\"},\"hovermode\":\"closest\",\"mapbox\":{\"style\":\"light\"},\"paper_bgcolor\":\"white\",\"plot_bgcolor\":\"#E5ECF6\",\"polar\":{\"angularaxis\":{\"gridcolor\":\"white\",\"linecolor\":\"white\",\"ticks\":\"\"},\"bgcolor\":\"#E5ECF6\",\"radialaxis\":{\"gridcolor\":\"white\",\"linecolor\":\"white\",\"ticks\":\"\"}},\"scene\":{\"xaxis\":{\"backgroundcolor\":\"#E5ECF6\",\"gridcolor\":\"white\",\"gridwidth\":2,\"linecolor\":\"white\",\"showbackground\":true,\"ticks\":\"\",\"zerolinecolor\":\"white\"},\"yaxis\":{\"backgroundcolor\":\"#E5ECF6\",\"gridcolor\":\"white\",\"gridwidth\":2,\"linecolor\":\"white\",\"showbackground\":true,\"ticks\":\"\",\"zerolinecolor\":\"white\"},\"zaxis\":{\"backgroundcolor\":\"#E5ECF6\",\"gridcolor\":\"white\",\"gridwidth\":2,\"linecolor\":\"white\",\"showbackground\":true,\"ticks\":\"\",\"zerolinecolor\":\"white\"}},\"shapedefaults\":{\"line\":{\"color\":\"#2a3f5f\"}},\"ternary\":{\"aaxis\":{\"gridcolor\":\"white\",\"linecolor\":\"white\",\"ticks\":\"\"},\"baxis\":{\"gridcolor\":\"white\",\"linecolor\":\"white\",\"ticks\":\"\"},\"bgcolor\":\"#E5ECF6\",\"caxis\":{\"gridcolor\":\"white\",\"linecolor\":\"white\",\"ticks\":\"\"}},\"title\":{\"x\":0.05},\"xaxis\":{\"automargin\":true,\"gridcolor\":\"white\",\"linecolor\":\"white\",\"ticks\":\"\",\"title\":{\"standoff\":15},\"zerolinecolor\":\"white\",\"zerolinewidth\":2},\"yaxis\":{\"automargin\":true,\"gridcolor\":\"white\",\"linecolor\":\"white\",\"ticks\":\"\",\"title\":{\"standoff\":15},\"zerolinecolor\":\"white\",\"zerolinewidth\":2}}},\"title\":{\"text\":\"\",\"y\":1},\"xaxis\":{\"showgrid\":true,\"title\":{\"font\":{\"family\":\"Times New Roman\"},\"text\":\"Cumulative Capacity [GW]\"},\"type\":\"log\"},\"xaxis2\":{\"anchor\":\"y\",\"automargin\":true,\"color\":\"rgb(105,105,105)\",\"overlaying\":\"x\",\"showgrid\":true,\"side\":\"top\",\"title\":{\"font\":{\"color\":\"rgb(10,10,10)\",\"family\":\"Times New Roman\"},\"text\":\"CO<sub>2</sub> capture capacity [Mtpa]\"},\"type\":\"log\"},\"yaxis\":{\"showgrid\":true,\"title\":{\"font\":{\"family\":\"Times New Roman\"},\"text\":\"Investment Cost [USD<sub>2018</sub>/kW]\"},\"type\":\"log\"},\"yaxis2\":{\"anchor\":\"x\",\"automargin\":true,\"color\":\"rgb(105,105,105)\",\"overlaying\":\"y\",\"showgrid\":true,\"side\":\"right\",\"title\":{\"font\":{\"color\":\"rgb(10,10,10)\",\"family\":\"Times New Roman\"},\"text\":\"Cost of CO<sub>2</sub> capture [USD<sub>2018</sub>/tCO<sub>2</sub>]\"},\"type\":\"log\"}},                        {\"responsive\": true}                    ).then(function(){\n",
       "                            \n",
       "var gd = document.getElementById('182aa65d-1e85-4eeb-82c8-bdb0d32ed043');\n",
       "var x = new MutationObserver(function (mutations, observer) {{\n",
       "        var display = window.getComputedStyle(gd).display;\n",
       "        if (!display || display === 'none') {{\n",
       "            console.log([gd, 'removed!']);\n",
       "            Plotly.purge(gd);\n",
       "            observer.disconnect();\n",
       "        }}\n",
       "}});\n",
       "\n",
       "// Listen for the removal of the full notebook cells\n",
       "var notebookContainer = gd.closest('#notebook-container');\n",
       "if (notebookContainer) {{\n",
       "    x.observe(notebookContainer, {childList: true});\n",
       "}}\n",
       "\n",
       "// Listen for the clearing of the current output cell\n",
       "var outputEl = gd.closest('.output');\n",
       "if (outputEl) {{\n",
       "    x.observe(outputEl, {childList: true});\n",
       "}}\n",
       "\n",
       "                        })                };                });            </script>        </div>"
      ]
     },
     "metadata": {},
     "output_type": "display_data"
    }
   ],
   "source": [
    "hist_installed_cap = hist_cost['installed_cap']\n",
    "hist_c_inv = hist_cost['c_inv']\n",
    "hist_year = hist_cost['year']\n",
    "\n",
    "future_installed_cap = future_cost['installed_cap']\n",
    "future_c_inv = future_cost['c_inv']\n",
    "\n",
    "first_point_year = hist_cost[(hist_cost.c_inv >= 0)].year.min()\n",
    "last_hist_point_year = hist_cost[(hist_cost.c_inv >= 0)].year.max()\n",
    "log_first_point = np.log10(hist_cost[(hist_cost.year == first_point_year)].installed_cap)\n",
    "log_last_point = np.log10(future_cost[(future_cost.year == 2050)].installed_cap)\n",
    "\n",
    "x_reg = np.logspace(float(log_first_point), float(log_last_point), 100)\n",
    "y_reg = np.exp(a*np.log(x_reg)+b*(np.log(x_reg))**2+c)\n",
    "\n",
    "first_x = float(hist_cost[(hist_cost.c_inv >= 0) & (hist_cost.year == first_point_year)].installed_cap)\n",
    "first_y = float(hist_cost[(hist_cost.c_inv >= 0) & (hist_cost.year == first_point_year)].c_inv)\n",
    "first_year = int(hist_cost[(hist_cost.c_inv >= 0) & (hist_cost.year == first_point_year)].year)\n",
    "\n",
    "last_x = float(hist_cost[(hist_cost.c_inv >= 0) & (hist_cost.year == last_hist_point_year)].installed_cap)\n",
    "last_y = float(hist_cost[(hist_cost.c_inv >= 0) & (hist_cost.year == last_hist_point_year)].c_inv)\n",
    "last_year = int(hist_cost[(hist_cost.c_inv >= 0) & (hist_cost.year == last_hist_point_year)].year)\n",
    "\n",
    "prosp_x = float(future_cost[(future_cost.c_inv >= 0) & (future_cost.year == 2050)].installed_cap)\n",
    "prosp_y = float(future_cost[(future_cost.c_inv >= 0) & (future_cost.year == 2050)].c_inv)\n",
    "prosp_year = 2050\n",
    "\n",
    "# Add traces\n",
    "\n",
    "fig.add_trace(go.Scatter(x=future_installed_cap, y=future_c_inv,\n",
    "                         mode='markers',\n",
    "                         marker_symbol='circle-open',\n",
    "                         name='CSP - Prospective',\n",
    "                         marker = dict(color=colour_csp_solar, size=marker_size)))\n",
    "\n",
    "fig.add_trace(go.Scatter(x=hist_installed_cap, y=hist_c_inv,\n",
    "                         #text = hist_year,\n",
    "                         #textposition='top right',\n",
    "                         mode='markers+text',\n",
    "                         marker_symbol='circle',\n",
    "                         textfont_size=years_font_size,\n",
    "                         name='CSP - Historical',\n",
    "                         marker = dict(color=colour_csp_solar, size=marker_size)))\n",
    "\n",
    "fig.add_trace(go.Scatter(x=x_reg, y=y_reg,\n",
    "                         mode='lines',\n",
    "                         name='CSP - Learning Curve',\n",
    "                         line=dict(color=colour_csp_solar, width=line_width)))\n",
    "\n",
    "fig.add_annotation(x=np.log10(first_x), y=np.log10(first_y),\n",
    "            text=str(first_year),\n",
    "            showarrow=True,\n",
    "            font=dict(\n",
    "                family=\"Times New Roman\",\n",
    "                size=years_font_size,\n",
    "                color=colour_main_axis))\n",
    "\n",
    "fig.add_annotation(x=np.log10(last_x), y=np.log10(last_y),\n",
    "            text=str(last_year),\n",
    "            showarrow=True,\n",
    "            font=dict(\n",
    "                family=\"Times New Roman\",\n",
    "                size=years_font_size,\n",
    "                color=colour_main_axis))\n",
    "\n",
    "fig.add_annotation(x=np.log10(prosp_x), y=np.log10(prosp_y),\n",
    "            text=str(prosp_year),\n",
    "            showarrow=True,\n",
    "            font=dict(\n",
    "                family=\"Times New Roman\",\n",
    "                size=years_font_size,\n",
    "                color=colour_main_axis))"
   ]
  },
  {
   "cell_type": "markdown",
   "id": "e1d91988",
   "metadata": {},
   "source": [
    "## DHN heat pumps"
   ]
  },
  {
   "cell_type": "code",
   "execution_count": 45,
   "id": "060f6cae",
   "metadata": {},
   "outputs": [],
   "source": [
    "# Historical data\n",
    "hist_cost = hist_cost_gshp[hist_cost_gshp.tech == 'DHN_HP_ELEC'][['year','c_inv','installed_cap']]\n",
    "\n",
    "# Prospective data \n",
    "future_cost = future_cost_data[future_cost_data.tech == 'DHN_HP_ELEC'][['year', 'cost_ratio', 'c_inv', 'installed_cap']]\n",
    "\n",
    "# Learning curve : log(capex)==a+b*log(Q)\n",
    "a = 8.3955561938  \n",
    "b = -0.59713477411"
   ]
  },
  {
   "cell_type": "code",
   "execution_count": 46,
   "id": "0601be9a",
   "metadata": {},
   "outputs": [
    {
     "data": {
      "application/vnd.plotly.v1+json": {
       "config": {
        "plotlyServerURL": "https://plot.ly"
       },
       "data": [
        {
         "legendgroup": "group",
         "legendgrouptitle": {
          "font": {
           "color": "rgb(10,10,10)"
          },
          "text": "Power capacity"
         },
         "marker": {
          "color": "rgb(0,0,205)",
          "size": 6,
          "symbol": "circle-open"
         },
         "mode": "markers",
         "name": "Onshore Wind - Prospective",
         "type": "scatter",
         "x": [
          541,
          595,
          698,
          903.212,
          1108.424,
          1313.635,
          1518.847,
          1724.059,
          1929.271,
          2134.482,
          2339.694,
          2544.906,
          2750.118,
          2957.488,
          3164.859,
          3372.229,
          3579.6,
          3786.97,
          3994.341,
          4201.711,
          4409.082,
          4616.452,
          4823.823,
          5031.193,
          5238.564,
          5445.934,
          5653.305,
          5860.675,
          6068.046,
          6275.417,
          6482.787,
          6690.158,
          6897.528
         ],
         "y": [
          1520.39,
          1447.57,
          1315.53,
          1347.82,
          1284.84,
          1234.83,
          1193.64,
          1158.81,
          1128.75,
          1102.39,
          1078.99,
          1058,
          1038.99,
          1021.49,
          1005.44,
          990.64,
          976.91,
          964.14,
          952.2,
          941,
          930.47,
          920.53,
          911.12,
          902.2,
          893.73,
          885.65,
          877.95,
          870.59,
          863.54,
          856.79,
          850.3,
          844.07,
          838.07
         ]
        },
        {
         "legendgroup": "group",
         "marker": {
          "color": "rgb(0,0,205)",
          "size": 6,
          "symbol": "circle"
         },
         "mode": "markers+text",
         "name": "Onshore Wind - Historical",
         "textfont": {
          "size": 10
         },
         "type": "scatter",
         "x": [
          178,
          216,
          261,
          292,
          340,
          405,
          453,
          495,
          541,
          595,
          698
         ],
         "y": [
          1914,
          1883,
          1937,
          1797,
          1745,
          1611,
          1604,
          1599,
          1520,
          1448,
          1316
         ]
        },
        {
         "legendgroup": "group",
         "line": {
          "color": "rgb(0,0,205)",
          "width": 1.5
         },
         "mode": "lines",
         "name": "Onshore Wind - Learning Curve",
         "type": "scatter",
         "x": [
          178.00000000000003,
          184.69841505847967,
          191.6489018264855,
          198.86094615196652,
          206.3443908499881,
          214.10944913595645,
          222.16671856435596,
          230.52719549202163,
          239.20229008568927,
          248.20384189430047,
          257.5441360073189,
          267.23591982110855,
          277.2924204362567,
          287.7273627095853,
          298.55498798548706,
          309.7900735321514,
          321.4479527092035,
          333.5445358942865,
          346.0963321971399,
          359.1204719908134,
          372.63473029076613,
          386.65755101375584,
          401.2080721496289,
          416.3061518803629,
          431.9723956820102,
          448.22818444652603,
          465.09570366187256,
          482.5979736902033,
          500.7588811854742,
          519.6032116933404,
          539.1566834778407,
          559.4459826210312,
          580.4987994434731,
          602.3438662952794,
          625.0109967692971,
          648.5311263899429,
          672.936354833219,
          698.2599897355406,
          724.5365921511494,
          751.802023720165,
          780.0934956116404,
          809.4496193084215,
          839.910459303119,
          871.5175877771109,
          904.3141413372019,
          938.344879887365,
          973.6562477159322,
          1010.2964368815681,
          1048.3154529845783,
          1087.7651834132794,
          1128.6994681585907,
          1171.1741732934863,
          1215.2472672175961,
          1260.9788997710052,
          1308.431484325224,
          1357.669782963388,
          1408.7609948658865,
          1461.7748480221135,
          1516.7836943934512,
          1573.8626086573922,
          1633.0894906675535,
          1694.545171769421,
          1758.3135251169167,
          1824.4815801403524,
          1893.1396413219884,
          1964.3814114412894,
          2038.304119458122,
          2115.0086532083433,
          2194.599697092981,
          2277.1858749488374,
          2362.8798982955477,
          2451.7987201614,
          2544.063694697862,
          2639.8007428006485,
          2739.1405239633514,
          2842.21861459823,
          2949.175693067418,
          3060.1577316772236,
          3175.31619589739,
          3294.808251077353,
          3418.7969769415076,
          3547.451590156281,
          3680.9476752727473,
          3819.467424359949,
          3963.199885656049,
          4112.341221576513,
          4267.094976431656,
          4427.672354218693,
          4594.2925068676395,
          4767.182833334282,
          4946.579289948507,
          5132.72671244151,
          5325.879150091391,
          5526.300212443166,
          5734.263429076354,
          5950.052622911271,
          6173.9622975632665,
          6406.298039273847,
          6647.376933966996,
          6897.528
         ],
         "y": [
          1970.111645221424,
          1953.1752957557574,
          1936.3845420658017,
          1919.7381325164308,
          1903.2348262323799,
          1886.873393005749,
          1870.6526132042968,
          1854.5712776805262,
          1838.6281876815572,
          1822.8221547597514,
          1807.1520006841426,
          1791.6165573525923,
          1776.2146667047211,
          1760.945180635584,
          1745.8069609100853,
          1730.7988790781326,
          1715.9198163905169,
          1701.1686637155192,
          1686.5443214562313,
          1672.0456994685887,
          1657.671716980108,
          1643.4213025093222,
          1629.293393785909,
          1615.2869376715119,
          1601.4008900812194,
          1587.6342159057583,
          1573.9858889343154,
          1560.4548917780485,
          1547.0402157942458,
          1533.7408610111383,
          1520.5558360533587,
          1507.484158068041,
          1494.524852651557,
          1481.676953776879,
          1468.9395037215706,
          1456.3115529963934,
          1443.792160274536,
          1431.380392321429,
          1419.0753239251994,
          1406.876037827685,
          1394.7816246560678,
          1382.7911828550855,
          1370.9038186198245,
          1359.1186458290956,
          1347.4347859793772,
          1335.8513681193313,
          1324.3675287848782,
          1312.9824119348325,
          1301.6951688870902,
          1290.5049582553654,
          1279.4109458864714,
          1268.4123047981402,
          1257.5082151173758,
          1246.6978640193379,
          1235.980445666756,
          1225.3551611498526,
          1214.8212184267945,
          1204.3778322646513,
          1194.0242241808598,
          1183.7596223851958,
          1173.5832617222406,
          1163.494383614345,
          1153.492236005082,
          1143.5760733031864,
          1133.7451563269758,
          1123.9987522492504,
          1114.336134542665,
          1104.7565829255711,
          1095.259383308328,
          1085.8438277400671,
          1076.5092143559227,
          1067.2548473247116,
          1058.0800367970644,
          1048.984098854001,
          1039.9663554559504,
          1031.0261343922054,
          1022.1627692308168,
          1013.3755992689131,
          1004.6639694834505,
          996.0272304823859,
          987.4647384562676,
          978.9758551302483,
          970.5599477164967,
          962.2163888670405,
          953.944556626988,
          945.7438343881793,
          937.613610843209,
          929.5532799398702,
          921.5622408359676,
          913.639897854534,
          905.7856604394249,
          897.9989431112973,
          890.2791654239659,
          882.6257519211341,
          875.0381320935018,
          867.5157403362288,
          860.0580159067852,
          852.6644028831387,
          845.3343501223277,
          838.0673112193643
         ]
        },
        {
         "marker": {
          "color": "rgb(30,144,255)",
          "size": 6,
          "symbol": "circle-open"
         },
         "mode": "markers",
         "name": "Offshore Wind - Prospective",
         "type": "scatter",
         "x": [
          23.626,
          28.355,
          34.367,
          66.02,
          97.67,
          129.32,
          160.97,
          192.62,
          224.28,
          255.93,
          287.58,
          319.23,
          350.88,
          401.71,
          452.54,
          503.37,
          554.2,
          605.03,
          655.86,
          706.69,
          757.52,
          808.35,
          859.18,
          910.01,
          960.84,
          1011.67,
          1062.5,
          1113.32,
          1164.15,
          1214.98,
          1265.81,
          1316.64,
          1367.47
         ],
         "y": [
          4496,
          3615,
          3092,
          2820,
          2513,
          2314,
          2170,
          2058,
          1968,
          1893,
          1829,
          1774,
          1725,
          1658,
          1601,
          1552,
          1508,
          1470,
          1436,
          1404,
          1376,
          1350,
          1326,
          1304,
          1283,
          1264,
          1246,
          1229,
          1213,
          1198,
          1183,
          1170,
          1157
         ]
        },
        {
         "marker": {
          "color": "rgb(30,144,255)",
          "size": 6,
          "symbol": "circle"
         },
         "mode": "markers+text",
         "name": "Offshore Wind - Historical",
         "textfont": {
          "size": 10
         },
         "type": "scatter",
         "x": [
          3.056,
          3.776,
          5.334,
          7.171,
          8.492,
          11.717,
          14.342,
          18.837,
          23.626,
          28.355,
          34.367
         ],
         "y": [
          4569,
          5233,
          4631,
          5554,
          5153,
          5168,
          4069,
          4597,
          4496,
          3615,
          3092
         ]
        },
        {
         "line": {
          "color": "rgb(30,144,255)",
          "width": 1.5
         },
         "mode": "lines",
         "name": "Offshore Wind - Learning Curve",
         "type": "scatter",
         "x": [
          3.056,
          3.2503396705285033,
          3.4570379495455956,
          3.676880755867331,
          3.910703987106811,
          4.1593966979670345,
          4.423904480650365,
          4.705233060237787,
          5.004452118708478,
          5.3226993621395895,
          5.66118484655074,
          6.021195578841196,
          6.404100410313601,
          6.811355241390762,
          7.244508557315,
          7.705207315878327,
          8.19520320956995,
          8.716359325951483,
          9.270657231584156,
          9.860204506443042,
          10.487242757465882,
          11.154156141706178,
          11.863480431497628,
          12.617912656097957,
          13.420321356472138,
          14.273757492206242,
          15.181466042022711,
          16.14689834200516,
          17.17372520844577,
          18.265850895211603,
          19.42742793869924,
          20.662872946821967,
          21.976883392063357,
          23.374455472448474,
          24.860903108344687,
          26.441878147322686,
          28.123391853901712,
          29.91183776588837,
          31.814016004214537,
          33.837159128706574,
          35.98895963809576,
          38.27759921883237,
          40.711779853914166,
          43.30075691001323,
          46.05437432870654,
          48.9831020556166,
          52.09807584977646,
          55.41113962458492,
          58.93489048134234,
          62.682726606596745,
          66.66889821541683,
          70.90856173429204,
          75.41783742967564,
          80.2138707012906,
          85.31489727324895,
          90.74031253085906,
          96.51074526675582,
          102.64813611675633,
          109.17582098367234,
          116.11861976627901,
          123.50293073080883,
          131.35683088379633,
          139.71018272791454,
          148.59474780671698,
          158.04430747000995,
          168.0947913190371,
          178.78441381985488,
          190.15381960433854,
          202.24623801129013,
          215.1076474552506,
          228.786950247991,
          243.33615853739397,
          258.8105920707151,
          275.26908853416717,
          292.77422726859487,
          311.39256721185916,
          331.19489997265015,
          352.25651899797947,
          374.65750585779114,
          398.4830347352236,
          423.8236962802632,
          450.77584205816896,
          479.441950902342,
          509.93101856461413,
          542.3589721444934,
          576.8491108731386,
          613.532574928029,
          652.548844060888,
          694.0462679347585,
          738.1826301867152,
          785.1257483609135,
          835.0541119930809,
          888.1575612725987,
          944.6380088626242,
          1004.7102076227889,
          1068.60256715356,
          1136.5580222669548,
          1208.8349566857657,
          1285.7081854834269,
          1367.47
         ],
         "y": [
          6959.219144504205,
          6834.207404939681,
          6711.4413102822255,
          6590.880520951991,
          6472.48542200805,
          6356.217110131399,
          6242.037380841691,
          6129.908715943699,
          6019.794271199283,
          5911.657864220721,
          5805.463962581605,
          5701.1776721413125,
          5598.7647255791135,
          5498.1914711343425,
          5399.42486154883,
          5302.432443207881,
          5207.182345476404,
          5113.643270226606,
          5021.784481553709,
          4931.575795676511,
          4842.987571019349,
          4755.990698472153,
          4670.5565918255425,
          4586.657178377742,
          4504.264889710145,
          4423.352652628669,
          4343.893880267821,
          4265.8624633545005,
          4189.232761628835,
          4113.979595419025,
          4040.0782373676066,
          3967.504404306335,
          3896.2342492769617,
          3826.244353695409,
          3757.5117196567044,
          3690.01376237808,
          3623.728302777888,
          3558.633560187813,
          3494.708145195953,
          3431.9310526185095,
          3370.2816545977385,
          3309.7396938238276,
          3250.285276878584,
          3191.8988676986987,
          3134.561281156374,
          3078.253676755324,
          3022.9575524400066,
          2968.6547385160247,
          2915.3273916797907,
          2862.957989155403,
          2811.529322936853,
          2761.0244941336746,
          2711.426907418151,
          2662.720265572267,
          2614.888564132637,
          2567.916086131607,
          2521.787396932829,
          2476.4873391596216,
          2432.0010277144183,
          2388.3138448876825,
          2345.411435554702,
          2303.2797024586494,
          2261.90480157837,
          2221.273137579407,
          2181.371359346711,
          2142.186355597621,
          2103.70525057363,
          2065.9153998095694,
          2028.8043859787613,
          1992.3600148128353,
          1956.5703110948207,
          1921.4235147242246,
          1886.908076852788,
          1853.0126560896715,
          1819.7261147747938,
          1787.0375153191167,
          1754.9361166106842,
          1723.4113704851989,
          1692.4529182600297,
          1662.0505873304432,
          1632.1943878270145,
          1602.8745093330551,
          1574.0813176610284,
          1545.8053516868567,
          1518.0373202410983,
          1490.7680990559795,
          1463.9887277672549,
          1437.690406969935,
          1411.8644953268931,
          1386.5025067294252,
          1361.5961075088055,
          1337.1371136979303,
          1313.1174883421654,
          1289.5293388584878,
          1266.364914442066,
          1243.6166035194396,
          1221.2769312474363,
          1199.3385570570179,
          1177.7942722412565,
          1156.6369975866319
         ]
        },
        {
         "marker": {
          "color": "rgb(255,215,0)",
          "size": 6,
          "symbol": "circle-open"
         },
         "mode": "markers",
         "name": "Residential PV - Prospective",
         "type": "scatter",
         "x": [
          58,
          74,
          93,
          150.67,
          208.35,
          266.02,
          323.7,
          381.37,
          439.05,
          496.72,
          554.39,
          612.07,
          669.74,
          751.15,
          832.56,
          913.96,
          995.37,
          1076.78,
          1158.18,
          1239.59,
          1321,
          1402.41,
          1483.81,
          1530.81,
          1577.81,
          1624.82,
          1671.82,
          1718.82,
          1765.82,
          1812.82,
          1859.82,
          1906.82,
          1953.82
         ],
         "y": [
          2704.85,
          2506.8,
          2442.72,
          1872.68,
          1639.53,
          1483.13,
          1368.42,
          1279.39,
          1207.57,
          1147.95,
          1097.36,
          1053.7,
          1015.48,
          968.8,
          928.75,
          893.88,
          863.13,
          835.74,
          811.12,
          788.83,
          768.51,
          749.88,
          732.72,
          723.41,
          714.49,
          705.94,
          697.73,
          689.83,
          682.24,
          674.93,
          667.88,
          661.07,
          654.5
         ]
        },
        {
         "marker": {
          "color": "rgb(255,215,0)",
          "size": 6,
          "symbol": "circle"
         },
         "mode": "markers+text",
         "name": "Residential PV - Historical",
         "textfont": {
          "size": 10
         },
         "type": "scatter",
         "x": [
          27,
          32,
          38,
          44,
          50,
          58,
          74,
          93
         ],
         "y": [
          3794,
          3379,
          3158,
          3103,
          3027,
          2705,
          2507,
          2443
         ]
        },
        {
         "line": {
          "color": "rgb(255,215,0)",
          "width": 1.5
         },
         "mode": "lines",
         "name": "Residential PV - Learning Curve",
         "type": "scatter",
         "x": [
          27.000000000000004,
          28.193357762954378,
          29.439460072219994,
          30.740638154233665,
          32.099326271993874,
          33.5180662791157,
          34.999512375167626,
          36.54643607118703,
          38.16173137466358,
          39.84842020369078,
          41.60965804041457,
          43.4487398343555,
          45.36910616664858,
          47.3743496867327,
          49.46822183353187,
          51.65463985370204,
          53.93769413007343,
          56.32165583399868,
          58.810984915922646,
          61.41033844912294,
          64.12457934223096,
          66.95878543683226,
          69.91825900716708,
          73.00853667970254,
          76.23539979113444,
          79.60488520419668,
          83.12329660151224,
          86.79721627861497,
          90.63351745820441,
          94.63937714867141,
          98.82228957095045,
          103.19008017881782,
          107.7509202988651,
          112.51334241753653,
          117.48625614382942,
          122.67896487752158,
          128.10118321410656,
          133.7630551190028,
          139.67517290503062,
          145.84859704866815,
          152.29487688215085,
          159.02607220013215,
          166.05477582132366,
          173.39413714732459,
          181.0578867627148,
          189.0603621224333,
          197.4165343744989,
          206.1420363682529,
          215.25319190052244,
          224.76704625441835,
          234.7013980879014,
          245.07483273176936,
          255.90675695936943,
          267.217435293071,
          279.0280279154319,
          291.3606302559775,
          304.2383143276534,
          317.68517189028523,
          331.72635952179513,
          346.38814568149616,
          361.6979598535104,
          377.68444386224917,
          394.37750545595696,
          411.8083742585665,
          430.00966019453205,
          449.01541449595913,
          468.8611934061412,
          489.5841246987073,
          511.2229771367966,
          533.8182330022353,
          557.4121638303761,
          582.0489094923086,
          607.7745607723743,
          634.6372455954817,
          662.6872190655317,
          691.9769574834013,
          722.5612565203786,
          754.4973337306986,
          787.8449355949923,
          822.6664492948645,
          859.0270194277595,
          896.9946698804132,
          936.6404310889498,
          978.0384729236509,
          1021.2662434470391,
          1066.4046138048457,
          1113.5380295209336,
          1162.7546684792196,
          1214.14660588815,
          1267.8099865363474,
          1323.845204661688,
          1382.357091770317,
          1443.4551127569505,
          1507.253570693422,
          1573.8718206685203,
          1643.4344930792595,
          1716.0717267912253,
          1791.919412604293,
          1871.119447479107,
          1953.8199999999993
         ],
         "y": [
          3791.3382077272263,
          3724.660274126696,
          3659.1549995150685,
          3594.8017604412125,
          3531.5802961568556,
          3469.470702237708,
          3408.4534243168737,
          3348.5092519283758,
          3289.6193124590445,
          3231.7650652066854,
          3174.9282955428307,
          3119.0911091780895,
          3064.235926528364,
          3010.3454771801644,
          2957.402794453267,
          2905.391210058959,
          2854.2943488522674,
          2804.0961236764606,
          2754.7807302982274,
          2706.3326424319253,
          2658.7366068513406,
          2611.9776385874156,
          2566.0410162104326,
          2520.912277195172,
          2476.5772133675805,
          2433.02186643152,
          2390.2325235741837,
          2348.1957131488134,
          2306.8982004333106,
          2266.326983463491,
          2226.4692889395706,
          2187.312568204672,
          2148.8444932940515,
          2111.052953053802,
          2073.926049327822,
          2037.4520932118414,
          2001.6196013733268,
          1966.4172924361092,
          1931.8340834286025,
          1897.8590862944611,
          1864.4816044646477,
          1831.6911294897366,
          1799.4773377314964,
          1767.8300871126055,
          1736.7394139235812,
          1706.1955296858218,
          1676.1888180698445,
          1646.7098318677124,
          1617.7492900187074,
          1589.2980746873206,
          1561.3472283926087,
          1533.8879511880746,
          1506.9115978911002,
          1480.4096753611448,
          1454.3738398257847,
          1428.7958942537975,
          1403.6677857744237,
          1378.981603142047,
          1354.7295742454276,
          1330.9040636607751,
          1307.497570247821,
          1284.5027247882024,
          1261.9122876653516,
          1239.7191465852052,
          1217.9163143369942,
          1196.4969265934126,
          1175.4542397494838,
          1154.7816287994146,
          1134.4725852508175,
          1114.5207150755841,
          1094.9197366968267,
          1075.6634790111939,
          1056.7458794459965,
          1038.160982050474,
          1019.9029356206589,
          1001.9659918571884,
          984.3445035555449,
          967.0329228280988,
          950.0257993574368,
          933.3177786804008,
          916.9036005023087,
          900.7780970408207,
          884.9361913989334,
          869.3728959665871,
          854.083310850384,
          839.0626223309235,
          824.3061013472663,
          809.8091020080574,
          795.5670601288215,
          781.5754917950027,
          767.8299919502534,
          754.3262330095698,
          741.0599634968054,
          728.0270067061556,
          715.223259387173,
          702.6446904529183,
          690.2873397108257,
          678.14731661589,
          666.2207990457789,
          654.5040320974949
         ]
        },
        {
         "marker": {
          "color": "rgb(255,140,0)",
          "size": 6,
          "symbol": "circle-open"
         },
         "mode": "markers",
         "name": "CSP - Prospective",
         "type": "scatter",
         "x": [
          5.83,
          6.38,
          6.48,
          13.13,
          19.78,
          26.44,
          33.09,
          39.74,
          46.39,
          53.04,
          59.7,
          66.35,
          73,
          93.8,
          114.6,
          135.4,
          156.2,
          177,
          197.8,
          218.6,
          239.4,
          260.2,
          281,
          295.5,
          310,
          324.5,
          339,
          353.5,
          368,
          382.5,
          397,
          411.5,
          426
         ],
         "y": [
          5161,
          6466,
          4448,
          5036,
          4238,
          3701,
          3307,
          3002,
          2757,
          2555,
          2384,
          2237,
          2110,
          1799,
          1574,
          1403,
          1267,
          1157,
          1065,
          987,
          921,
          863,
          812,
          780,
          750,
          723,
          697,
          673,
          651,
          631,
          611,
          593,
          576
         ]
        },
        {
         "marker": {
          "color": "rgb(255,140,0)",
          "size": 6,
          "symbol": "circle"
         },
         "mode": "markers+text",
         "name": "CSP - Historical",
         "textfont": {
          "size": 10
         },
         "type": "scatter",
         "x": [
          1.266,
          1.705,
          2.567,
          3.842,
          4.499,
          4.75,
          4.86,
          4.959,
          5.833,
          6.384,
          6.479
         ],
         "y": [
          8830,
          10403,
          8040,
          6307,
          5414,
          7232,
          7602,
          7196,
          5161,
          6466,
          4448
         ]
        },
        {
         "line": {
          "color": "rgb(255,140,0)",
          "width": 1.5
         },
         "mode": "lines",
         "name": "CSP - Learning Curve",
         "type": "scatter",
         "x": [
          1.266,
          1.3426373200696768,
          1.4239138809193395,
          1.5101105190265045,
          1.6015250713070892,
          1.698473404237084,
          1.8012905052721162,
          1.9103316403361044,
          2.025973581378497,
          2.1486159082416982,
          2.2786823893370527,
          2.4166224459000536,
          2.562912704884262,
          2.718058645859662,
          2.8825963476060275,
          3.0570943404363313,
          3.2421555706505623,
          3.438419483907777,
          3.6465642347150853,
          3.8673090296680837,
          4.101416612539351,
          4.349695899801805,
          4.61300477569349,
          4.892253056481617,
          5.188405634168377,
          5.502485810500979,
          5.835578832806051,
          6.1888356438657555,
          6.56347685879274,
          6.960796982645204,
          7.3821688833553285,
          7.829048535426509,
          8.302980050790262,
          8.805601014206186,
          9.338648141640299,
          9.90396328117346,
          10.503499777174737,
          11.13932921973012,
          11.813648602647945,
          12.528787914774181,
          13.287218190848156,
          14.091560049716765,
          14.944592749409663,
          15.849263790363443,
          16.808699099977044,
          17.826213833689394,
          18.905323829900254,
          20.049757758314914,
          21.263470003688894,
          22.550654329490374,
          23.91575836869243,
          25.363498991765518,
          26.898878604971575,
          28.52720243527535,
          30.254096861598153,
          32.08552885575399,
          34.02782660024314,
          36.08770135414386,
          38.27227064265604,
          40.58908285042424,
          43.04614330361743,
          45.651941930887986,
          48.415482598786674,
          51.346314222997655,
          54.45456376289186,
          57.75097121340635,
          61.246926715157166,
          64.95450991101303,
          68.88653168511992,
          73.05657842859736,
          77.47905898485952,
          82.16925443677107,
          87.14337090766962,
          92.41859555869776,
          98.01315597593465,
          103.94638315252783,
          110.23877828344838,
          116.91208360366862,
          123.9893575145274,
          131.49505425787214,
          139.4551084132751,
          147.8970245102889,
          156.84997206538205,
          166.34488637193388,
          176.41457539155454,
          187.09383311607172,
          198.41955979188464,
          210.43088942210193,
          223.16932498702153,
          236.67888185018438,
          251.00623984551288,
          266.20090457104715,
          282.3153784465992,
          299.40534212638124,
          317.5298468934513,
          336.75151870075666,
          357.1367745638055,
          378.75605205266686,
          401.6840526762743,
          425.99999999999994
         ],
         "y": [
          8830.000500101507,
          8783.462570577089,
          8733.195649968666,
          8679.266677793423,
          8621.747177579036,
          8560.713098842496,
          8496.244650048156,
          8428.426123059307,
          8357.345709620193,
          8283.095310427958,
          8205.770337372027,
          8125.469509536107,
          8042.294643572226,
          7956.3504390687385,
          7867.744259543848,
          7776.5859097040775,
          7682.9874096119975,
          7587.062766410445,
          7488.927744250638,
          7388.699633069892,
          7286.497016860243,
          7182.439542062544,
          7076.647686712386,
          6969.242530952617,
          6860.345529514916,
          6750.078286757328,
          6638.562334828462,
          6525.918915509698,
          6412.268766267041,
          6297.731911021723,
          6182.427456125848,
          6066.473392003965,
          5949.986400896013,
          5833.081671109456,
          5715.872718160888,
          5598.4712131578835,
          5480.986818742734,
          5363.52703288906,
          5246.197040812107,
          5129.099575222044,
          5012.334785118874,
          4896.0001132961825,
          4780.190182689804,
          4664.99669167671,
          4550.508318398773,
          4436.810634155942,
          4323.986025883684,
          4212.113627700865,
          4101.269261485803,
          3991.5253864109986,
          3882.9510573408893,
          3775.6118919712626,
          3669.570046565033,
          3564.884200115897,
          3461.6095467494897,
          3359.7977961512433,
          3259.497181790823,
          3160.752476695253,
          3063.605016506263,
          2968.0927295426336,
          2874.2501735744518,
          2782.1085790043176,
          2691.6958981398216,
          2603.0368602324193,
          2516.153031950153,
          2431.062882945371,
          2347.7818561736976,
          2266.3224426171064,
          2186.6942600617076,
          2108.9041355802165,
          2032.9561913694067,
          1958.8519335946528,
          1886.59034389653,
          1816.1679732184812,
          1747.579037619631,
          1680.8155157429783,
          1615.8672476162355,
          1552.7220344705202,
          1491.365739270948,
          1431.7823876626314,
          1373.9542690458254,
          1317.862037504867,
          1263.4848123268562,
          1210.8002778579853,
          1159.7847824576752,
          1110.413436323369,
          1062.6602079717195,
          1016.4980191751514,
          971.898838166021,
          928.8337709340586,
          887.2731504562788,
          847.1866237119442,
          808.543236348578,
          771.3115148783369,
          735.4595462970867,
          700.9550550315031,
          667.7654771320965,
          635.858031642494,
          605.1997890872526,
          575.7577370322424
         ]
        },
        {
         "marker": {
          "color": "rgb(50,205,50)",
          "size": 6,
          "symbol": "circle-open"
         },
         "mode": "markers",
         "name": "Ground Source Heat Pumps - Prospective",
         "type": "scatter",
         "x": [
          2.174,
          2.859,
          3.544,
          4.23,
          4.915,
          5.6,
          6.286,
          6.971,
          7.657,
          8.342,
          9.027,
          9.713,
          10.398,
          11.084,
          11.769,
          12.454,
          13.14,
          13.825,
          14.511,
          15.196,
          15.881,
          16.567,
          17.252,
          17.937,
          18.623,
          19.308,
          19.994,
          20.679,
          21.364,
          22.05,
          22.735,
          23.421,
          24.106
         ],
         "y": [
          2784.93,
          2364.46,
          2079.7,
          1871.35,
          1710.83,
          1582.54,
          1477.11,
          1388.59,
          1312.97,
          1247.44,
          1189.99,
          1139.11,
          1093.66,
          1052.76,
          1015.71,
          981.95,
          951.03,
          922.59,
          896.32,
          871.95,
          849.28,
          828.12,
          808.32,
          789.73,
          772.24,
          755.76,
          740.18,
          725.43,
          711.44,
          698.15,
          685.51,
          673.46,
          661.96
         ]
        },
        {
         "marker": {
          "color": "rgb(50,205,50)",
          "size": 6,
          "symbol": "circle"
         },
         "mode": "markers+text",
         "name": "Ground Source Heat Pumps - Historical",
         "textfont": {
          "size": 10
         },
         "type": "scatter",
         "x": [
          0.02,
          0.039,
          0.061,
          0.084,
          0.106,
          0.126,
          0.142,
          0.157,
          0.172,
          0.198,
          0.224,
          0.252,
          0.285,
          0.325,
          0.367,
          0.417,
          0.467,
          0.522,
          0.587,
          0.661,
          0.75,
          0.867,
          0.992,
          1.143
         ],
         "y": [
          34647,
          30597,
          27279,
          25591,
          23285,
          20361,
          17605,
          15805,
          14286,
          13611,
          12655,
          8662,
          8549,
          8212,
          7762,
          7256,
          6806,
          6524,
          5231,
          4893,
          4781,
          4612,
          4443,
          4218
         ]
        },
        {
         "line": {
          "color": "rgb(50,205,50)",
          "width": 1.5
         },
         "mode": "lines",
         "name": "Ground Source Heat Pumps - Learning Curve",
         "type": "scatter",
         "x": [
          0.020000000000000004,
          0.02148583167092517,
          0.023082048129566553,
          0.024796850036603015,
          0.02663904729278135,
          0.028618104300325745,
          0.030744188586888946,
          0.03302822304185373,
          0.03548194203335206,
          0.03811795169430634,
          0.040949794687216136,
          0.0439920197804236,
          0.047260256593309596,
          0.05077129589442907,
          0.054543175865121876,
          0.05859527477178384,
          0.06294841052290778,
          0.06762494762237456,
          0.07264891206847356,
          0.07804611478895337,
          0.08384428424625777,
          0.09007320889421487,
          0.09676489021805908,
          0.10395370714403852,
          0.11167659266327315,
          0.11997322357727817,
          0.1288862243399835,
          0.13846138604349922,
          0.14874790167268057,
          0.15979861883712715,
          0.17167031127904234,
          0.18442397055184154,
          0.19812511936802638,
          0.2128441482261685,
          0.22865667704644513,
          0.24564394367265105,
          0.2638932212366402,
          0.28349826652943333,
          0.3045598016825243,
          0.3271860316340534,
          0.35149320003836343,
          0.37760618647495525,
          0.4056591480250434,
          0.43579620851185014,
          0.4681721989456509,
          0.5029534529776573,
          0.5403186614494263,
          0.5804597904280988,
          0.6235830674439315,
          0.6699100409969745,
          0.7196787187761786,
          0.7731447904386036,
          0.8305829412308277,
          0.8922882632013747,
          0.958577771254346,
          1.0297920318330742,
          1.1062969126012723,
          1.1884854621107575,
          1.2767799291126722,
          1.371633931886533,
          1.4735347887321644,
          1.583006021597578,
          1.7006100457053255,
          1.826951058995449,
          1.9626781462297347,
          2.1084886137047767,
          2.2651315717061595,
          2.433411783108835,
          2.6141937978961147,
          2.8084063948386273,
          3.017047353152628,
          3.241188578652384,
          3.481981610732516,
          3.740663538472786,
          4.01856335625968,
          4.317108791577178,
          4.637833640044925,
          4.9823856453879705,
          5.35253496482199,
          5.750183263345332,
          6.177373483660448,
          6.63630034191825,
          7.1293216032079325,
          7.6589701947207995,
          8.227967218820202,
          8.839235932873068,
          9.495916767665197,
          10.201383461558512,
          10.959260393280305,
          11.773441202392888,
          12.648108793107422,
          13.587756824212727,
          14.597212795524984,
          15.68166284946624,
          16.84667841519162,
          18.098244832150773,
          19.442792100139144,
          20.887227913819164,
          22.4389731514284,
          24.106000000000005
         ],
         "y": [
          45778.1035548452,
          43860.508794594294,
          42023.23998450286,
          40262.932358248654,
          38576.36209589574,
          36960.440419804334,
          35412.20793785651,
          33928.82922363797,
          32507.58762365016,
          31145.880282042493,
          29841.21337375321,
          28591.197537328684,
          27393.543499056992,
          26246.057880401713,
          25146.639181057766,
          24093.27393027265,
          23084.032999384624,
          22117.068068824672,
          21190.608243111732,
          20302.956807642393,
          19452.48812133498,
          18637.644639437032,
          17856.934061044765,
          17108.926596109497,
          16392.252346925914,
          15705.598799307541,
          15047.708418853643,
          14417.376347906089,
          13813.44819897813,
          13234.81794061405,
          12680.425871807825,
          12149.256681271205,
          11640.337587996903,
          11152.736559711579,
          10685.560605955887,
          10237.95414266552,
          9809.097425258173,
          9398.2050473568,
          9004.524502399678,
          8627.334805503093,
          8265.945173052667,
          7919.693757605175,
          7587.946435783931,
          7270.095646947927,
          6965.559280507848,
          6673.7796098511935,
          6394.222270924132,
          6126.375283599425,
          5869.748114038192,
          5623.870776328318,
          5388.2929717542465,
          5162.583264121775,
          4946.328289627736,
          4739.131999827149,
          4540.614936311868,
          4350.4135357720525,
          4168.179464167788,
          3993.5789787916824,
          3826.292317053845,
          3666.013110870037,
          3512.447825580462,
          3365.315222371632,
          3224.345843216793,
          3089.281517391638,
          2959.874888661532,
          2835.888962274356,
          2717.0966709293134,
          2603.280458926845,
          2494.2318837380344,
          2389.751234263848,
          2289.6471650850694,
          2193.7363460331135,
          2101.843126439926,
          2013.7992134520978,
          1929.443363820045,
          1848.6210885977987,
          1771.1843702126102,
          1696.9913913861967,
          1625.9062754111676,
          1557.7988373070073,
          1492.5443453998453,
          1430.0232928894047,
          1370.121178984749,
          1312.7282992080186,
          1257.7395444821163,
          1205.0542086343835,
          1154.575803963751,
          1106.2118845335624,
          1059.8738768664816,
          1015.4769177314013,
          972.9396987252773,
          932.1843173652685,
          893.1361344184556,
          855.7236372078701,
          819.8783086444726,
          785.5345017452545,
          752.6293194076263,
          721.1024992199317,
          690.8963030971214,
          661.9554115394689
         ]
        }
       ],
       "layout": {
        "annotations": [
         {
          "font": {
           "color": "rgb(10,10,10)",
           "family": "Times New Roman",
           "size": 10
          },
          "showarrow": true,
          "text": "2010",
          "x": 2.250420002308894,
          "y": 3.281941933440825
         },
         {
          "font": {
           "color": "rgb(10,10,10)",
           "family": "Times New Roman",
           "size": 10
          },
          "showarrow": true,
          "text": "2020",
          "x": 2.843855422623161,
          "y": 3.1192558892779365
         },
         {
          "font": {
           "color": "rgb(10,10,10)",
           "family": "Times New Roman",
           "size": 10
          },
          "showarrow": true,
          "text": "2050",
          "x": 3.8386934721408297,
          "y": 2.923280294697208
         },
         {
          "font": {
           "color": "rgb(10,10,10)",
           "family": "Times New Roman",
           "size": 10
          },
          "showarrow": true,
          "text": "2010",
          "x": 0.48515334990365233,
          "y": 3.659821158055705
         },
         {
          "font": {
           "color": "rgb(10,10,10)",
           "family": "Times New Roman",
           "size": 10
          },
          "showarrow": true,
          "text": "2020",
          "x": 1.5361416229050349,
          "y": 3.4902394852462875
         },
         {
          "font": {
           "color": "rgb(10,10,10)",
           "family": "Times New Roman",
           "size": 10
          },
          "showarrow": true,
          "text": "2050",
          "x": 3.135917807416897,
          "y": 3.0633333589517497
         },
         {
          "font": {
           "color": "rgb(10,10,10)",
           "family": "Times New Roman",
           "size": 10
          },
          "showarrow": true,
          "text": "2013",
          "x": 1.4313637641589874,
          "y": 3.5790973265526436
         },
         {
          "font": {
           "color": "rgb(10,10,10)",
           "family": "Times New Roman",
           "size": 10
          },
          "showarrow": true,
          "text": "2020",
          "x": 1.968482948553935,
          "y": 3.3879234669734366
         },
         {
          "font": {
           "color": "rgb(10,10,10)",
           "family": "Times New Roman",
           "size": 10
          },
          "showarrow": true,
          "text": "2050",
          "x": 3.2908845508834896,
          "y": 2.8159096508867747
         },
         {
          "font": {
           "color": "rgb(10,10,10)",
           "family": "Times New Roman",
           "size": 10
          },
          "showarrow": true,
          "text": "2010",
          "x": 0.1024337056813363,
          "y": 3.9459607035775686
         },
         {
          "font": {
           "color": "rgb(10,10,10)",
           "family": "Times New Roman",
           "size": 10
          },
          "showarrow": true,
          "text": "2020",
          "x": 0.8115079799453266,
          "y": 3.6481647785740012
         },
         {
          "font": {
           "color": "rgb(10,10,10)",
           "family": "Times New Roman",
           "size": 10
          },
          "showarrow": true,
          "text": "2050",
          "x": 2.629409599102719,
          "y": 2.760422483423212
         },
         {
          "font": {
           "color": "rgb(10,10,10)",
           "family": "Times New Roman",
           "size": 10
          },
          "showarrow": true,
          "text": "1985",
          "x": -1.6989700043360187,
          "y": 4.539665636066127
         },
         {
          "font": {
           "color": "rgb(10,10,10)",
           "family": "Times New Roman",
           "size": 10
          },
          "showarrow": true,
          "text": "2008",
          "x": 0.05804623039528174,
          "y": 3.6251065754034677
         },
         {
          "font": {
           "color": "rgb(10,10,10)",
           "family": "Times New Roman",
           "size": 10
          },
          "showarrow": true,
          "text": "2050",
          "x": 1.3821251522253217,
          "y": 2.8208317472884548
         },
         {
          "font": {
           "color": "rgb(10,10,10)",
           "family": "Times New Roman",
           "size": 10
          },
          "showarrow": true,
          "text": "2018",
          "x": 0.3372595397502757,
          "y": 3.4448142835328017
         }
        ],
        "font": {
         "color": "rgb(10,10,10)",
         "family": "Times New Roman",
         "size": 16
        },
        "legend": {
         "x": 1.2
        },
        "template": {
         "data": {
          "bar": [
           {
            "error_x": {
             "color": "#2a3f5f"
            },
            "error_y": {
             "color": "#2a3f5f"
            },
            "marker": {
             "line": {
              "color": "#E5ECF6",
              "width": 0.5
             },
             "pattern": {
              "fillmode": "overlay",
              "size": 10,
              "solidity": 0.2
             }
            },
            "type": "bar"
           }
          ],
          "barpolar": [
           {
            "marker": {
             "line": {
              "color": "#E5ECF6",
              "width": 0.5
             },
             "pattern": {
              "fillmode": "overlay",
              "size": 10,
              "solidity": 0.2
             }
            },
            "type": "barpolar"
           }
          ],
          "carpet": [
           {
            "aaxis": {
             "endlinecolor": "#2a3f5f",
             "gridcolor": "white",
             "linecolor": "white",
             "minorgridcolor": "white",
             "startlinecolor": "#2a3f5f"
            },
            "baxis": {
             "endlinecolor": "#2a3f5f",
             "gridcolor": "white",
             "linecolor": "white",
             "minorgridcolor": "white",
             "startlinecolor": "#2a3f5f"
            },
            "type": "carpet"
           }
          ],
          "choropleth": [
           {
            "colorbar": {
             "outlinewidth": 0,
             "ticks": ""
            },
            "type": "choropleth"
           }
          ],
          "contour": [
           {
            "colorbar": {
             "outlinewidth": 0,
             "ticks": ""
            },
            "colorscale": [
             [
              0,
              "#0d0887"
             ],
             [
              0.1111111111111111,
              "#46039f"
             ],
             [
              0.2222222222222222,
              "#7201a8"
             ],
             [
              0.3333333333333333,
              "#9c179e"
             ],
             [
              0.4444444444444444,
              "#bd3786"
             ],
             [
              0.5555555555555556,
              "#d8576b"
             ],
             [
              0.6666666666666666,
              "#ed7953"
             ],
             [
              0.7777777777777778,
              "#fb9f3a"
             ],
             [
              0.8888888888888888,
              "#fdca26"
             ],
             [
              1,
              "#f0f921"
             ]
            ],
            "type": "contour"
           }
          ],
          "contourcarpet": [
           {
            "colorbar": {
             "outlinewidth": 0,
             "ticks": ""
            },
            "type": "contourcarpet"
           }
          ],
          "heatmap": [
           {
            "colorbar": {
             "outlinewidth": 0,
             "ticks": ""
            },
            "colorscale": [
             [
              0,
              "#0d0887"
             ],
             [
              0.1111111111111111,
              "#46039f"
             ],
             [
              0.2222222222222222,
              "#7201a8"
             ],
             [
              0.3333333333333333,
              "#9c179e"
             ],
             [
              0.4444444444444444,
              "#bd3786"
             ],
             [
              0.5555555555555556,
              "#d8576b"
             ],
             [
              0.6666666666666666,
              "#ed7953"
             ],
             [
              0.7777777777777778,
              "#fb9f3a"
             ],
             [
              0.8888888888888888,
              "#fdca26"
             ],
             [
              1,
              "#f0f921"
             ]
            ],
            "type": "heatmap"
           }
          ],
          "heatmapgl": [
           {
            "colorbar": {
             "outlinewidth": 0,
             "ticks": ""
            },
            "colorscale": [
             [
              0,
              "#0d0887"
             ],
             [
              0.1111111111111111,
              "#46039f"
             ],
             [
              0.2222222222222222,
              "#7201a8"
             ],
             [
              0.3333333333333333,
              "#9c179e"
             ],
             [
              0.4444444444444444,
              "#bd3786"
             ],
             [
              0.5555555555555556,
              "#d8576b"
             ],
             [
              0.6666666666666666,
              "#ed7953"
             ],
             [
              0.7777777777777778,
              "#fb9f3a"
             ],
             [
              0.8888888888888888,
              "#fdca26"
             ],
             [
              1,
              "#f0f921"
             ]
            ],
            "type": "heatmapgl"
           }
          ],
          "histogram": [
           {
            "marker": {
             "pattern": {
              "fillmode": "overlay",
              "size": 10,
              "solidity": 0.2
             }
            },
            "type": "histogram"
           }
          ],
          "histogram2d": [
           {
            "colorbar": {
             "outlinewidth": 0,
             "ticks": ""
            },
            "colorscale": [
             [
              0,
              "#0d0887"
             ],
             [
              0.1111111111111111,
              "#46039f"
             ],
             [
              0.2222222222222222,
              "#7201a8"
             ],
             [
              0.3333333333333333,
              "#9c179e"
             ],
             [
              0.4444444444444444,
              "#bd3786"
             ],
             [
              0.5555555555555556,
              "#d8576b"
             ],
             [
              0.6666666666666666,
              "#ed7953"
             ],
             [
              0.7777777777777778,
              "#fb9f3a"
             ],
             [
              0.8888888888888888,
              "#fdca26"
             ],
             [
              1,
              "#f0f921"
             ]
            ],
            "type": "histogram2d"
           }
          ],
          "histogram2dcontour": [
           {
            "colorbar": {
             "outlinewidth": 0,
             "ticks": ""
            },
            "colorscale": [
             [
              0,
              "#0d0887"
             ],
             [
              0.1111111111111111,
              "#46039f"
             ],
             [
              0.2222222222222222,
              "#7201a8"
             ],
             [
              0.3333333333333333,
              "#9c179e"
             ],
             [
              0.4444444444444444,
              "#bd3786"
             ],
             [
              0.5555555555555556,
              "#d8576b"
             ],
             [
              0.6666666666666666,
              "#ed7953"
             ],
             [
              0.7777777777777778,
              "#fb9f3a"
             ],
             [
              0.8888888888888888,
              "#fdca26"
             ],
             [
              1,
              "#f0f921"
             ]
            ],
            "type": "histogram2dcontour"
           }
          ],
          "mesh3d": [
           {
            "colorbar": {
             "outlinewidth": 0,
             "ticks": ""
            },
            "type": "mesh3d"
           }
          ],
          "parcoords": [
           {
            "line": {
             "colorbar": {
              "outlinewidth": 0,
              "ticks": ""
             }
            },
            "type": "parcoords"
           }
          ],
          "pie": [
           {
            "automargin": true,
            "type": "pie"
           }
          ],
          "scatter": [
           {
            "marker": {
             "colorbar": {
              "outlinewidth": 0,
              "ticks": ""
             }
            },
            "type": "scatter"
           }
          ],
          "scatter3d": [
           {
            "line": {
             "colorbar": {
              "outlinewidth": 0,
              "ticks": ""
             }
            },
            "marker": {
             "colorbar": {
              "outlinewidth": 0,
              "ticks": ""
             }
            },
            "type": "scatter3d"
           }
          ],
          "scattercarpet": [
           {
            "marker": {
             "colorbar": {
              "outlinewidth": 0,
              "ticks": ""
             }
            },
            "type": "scattercarpet"
           }
          ],
          "scattergeo": [
           {
            "marker": {
             "colorbar": {
              "outlinewidth": 0,
              "ticks": ""
             }
            },
            "type": "scattergeo"
           }
          ],
          "scattergl": [
           {
            "marker": {
             "colorbar": {
              "outlinewidth": 0,
              "ticks": ""
             }
            },
            "type": "scattergl"
           }
          ],
          "scattermapbox": [
           {
            "marker": {
             "colorbar": {
              "outlinewidth": 0,
              "ticks": ""
             }
            },
            "type": "scattermapbox"
           }
          ],
          "scatterpolar": [
           {
            "marker": {
             "colorbar": {
              "outlinewidth": 0,
              "ticks": ""
             }
            },
            "type": "scatterpolar"
           }
          ],
          "scatterpolargl": [
           {
            "marker": {
             "colorbar": {
              "outlinewidth": 0,
              "ticks": ""
             }
            },
            "type": "scatterpolargl"
           }
          ],
          "scatterternary": [
           {
            "marker": {
             "colorbar": {
              "outlinewidth": 0,
              "ticks": ""
             }
            },
            "type": "scatterternary"
           }
          ],
          "surface": [
           {
            "colorbar": {
             "outlinewidth": 0,
             "ticks": ""
            },
            "colorscale": [
             [
              0,
              "#0d0887"
             ],
             [
              0.1111111111111111,
              "#46039f"
             ],
             [
              0.2222222222222222,
              "#7201a8"
             ],
             [
              0.3333333333333333,
              "#9c179e"
             ],
             [
              0.4444444444444444,
              "#bd3786"
             ],
             [
              0.5555555555555556,
              "#d8576b"
             ],
             [
              0.6666666666666666,
              "#ed7953"
             ],
             [
              0.7777777777777778,
              "#fb9f3a"
             ],
             [
              0.8888888888888888,
              "#fdca26"
             ],
             [
              1,
              "#f0f921"
             ]
            ],
            "type": "surface"
           }
          ],
          "table": [
           {
            "cells": {
             "fill": {
              "color": "#EBF0F8"
             },
             "line": {
              "color": "white"
             }
            },
            "header": {
             "fill": {
              "color": "#C8D4E3"
             },
             "line": {
              "color": "white"
             }
            },
            "type": "table"
           }
          ]
         },
         "layout": {
          "annotationdefaults": {
           "arrowcolor": "#2a3f5f",
           "arrowhead": 0,
           "arrowwidth": 1
          },
          "autotypenumbers": "strict",
          "coloraxis": {
           "colorbar": {
            "outlinewidth": 0,
            "ticks": ""
           }
          },
          "colorscale": {
           "diverging": [
            [
             0,
             "#8e0152"
            ],
            [
             0.1,
             "#c51b7d"
            ],
            [
             0.2,
             "#de77ae"
            ],
            [
             0.3,
             "#f1b6da"
            ],
            [
             0.4,
             "#fde0ef"
            ],
            [
             0.5,
             "#f7f7f7"
            ],
            [
             0.6,
             "#e6f5d0"
            ],
            [
             0.7,
             "#b8e186"
            ],
            [
             0.8,
             "#7fbc41"
            ],
            [
             0.9,
             "#4d9221"
            ],
            [
             1,
             "#276419"
            ]
           ],
           "sequential": [
            [
             0,
             "#0d0887"
            ],
            [
             0.1111111111111111,
             "#46039f"
            ],
            [
             0.2222222222222222,
             "#7201a8"
            ],
            [
             0.3333333333333333,
             "#9c179e"
            ],
            [
             0.4444444444444444,
             "#bd3786"
            ],
            [
             0.5555555555555556,
             "#d8576b"
            ],
            [
             0.6666666666666666,
             "#ed7953"
            ],
            [
             0.7777777777777778,
             "#fb9f3a"
            ],
            [
             0.8888888888888888,
             "#fdca26"
            ],
            [
             1,
             "#f0f921"
            ]
           ],
           "sequentialminus": [
            [
             0,
             "#0d0887"
            ],
            [
             0.1111111111111111,
             "#46039f"
            ],
            [
             0.2222222222222222,
             "#7201a8"
            ],
            [
             0.3333333333333333,
             "#9c179e"
            ],
            [
             0.4444444444444444,
             "#bd3786"
            ],
            [
             0.5555555555555556,
             "#d8576b"
            ],
            [
             0.6666666666666666,
             "#ed7953"
            ],
            [
             0.7777777777777778,
             "#fb9f3a"
            ],
            [
             0.8888888888888888,
             "#fdca26"
            ],
            [
             1,
             "#f0f921"
            ]
           ]
          },
          "colorway": [
           "#636efa",
           "#EF553B",
           "#00cc96",
           "#ab63fa",
           "#FFA15A",
           "#19d3f3",
           "#FF6692",
           "#B6E880",
           "#FF97FF",
           "#FECB52"
          ],
          "font": {
           "color": "#2a3f5f"
          },
          "geo": {
           "bgcolor": "white",
           "lakecolor": "white",
           "landcolor": "#E5ECF6",
           "showlakes": true,
           "showland": true,
           "subunitcolor": "white"
          },
          "hoverlabel": {
           "align": "left"
          },
          "hovermode": "closest",
          "mapbox": {
           "style": "light"
          },
          "paper_bgcolor": "white",
          "plot_bgcolor": "#E5ECF6",
          "polar": {
           "angularaxis": {
            "gridcolor": "white",
            "linecolor": "white",
            "ticks": ""
           },
           "bgcolor": "#E5ECF6",
           "radialaxis": {
            "gridcolor": "white",
            "linecolor": "white",
            "ticks": ""
           }
          },
          "scene": {
           "xaxis": {
            "backgroundcolor": "#E5ECF6",
            "gridcolor": "white",
            "gridwidth": 2,
            "linecolor": "white",
            "showbackground": true,
            "ticks": "",
            "zerolinecolor": "white"
           },
           "yaxis": {
            "backgroundcolor": "#E5ECF6",
            "gridcolor": "white",
            "gridwidth": 2,
            "linecolor": "white",
            "showbackground": true,
            "ticks": "",
            "zerolinecolor": "white"
           },
           "zaxis": {
            "backgroundcolor": "#E5ECF6",
            "gridcolor": "white",
            "gridwidth": 2,
            "linecolor": "white",
            "showbackground": true,
            "ticks": "",
            "zerolinecolor": "white"
           }
          },
          "shapedefaults": {
           "line": {
            "color": "#2a3f5f"
           }
          },
          "ternary": {
           "aaxis": {
            "gridcolor": "white",
            "linecolor": "white",
            "ticks": ""
           },
           "baxis": {
            "gridcolor": "white",
            "linecolor": "white",
            "ticks": ""
           },
           "bgcolor": "#E5ECF6",
           "caxis": {
            "gridcolor": "white",
            "linecolor": "white",
            "ticks": ""
           }
          },
          "title": {
           "x": 0.05
          },
          "xaxis": {
           "automargin": true,
           "gridcolor": "white",
           "linecolor": "white",
           "ticks": "",
           "title": {
            "standoff": 15
           },
           "zerolinecolor": "white",
           "zerolinewidth": 2
          },
          "yaxis": {
           "automargin": true,
           "gridcolor": "white",
           "linecolor": "white",
           "ticks": "",
           "title": {
            "standoff": 15
           },
           "zerolinecolor": "white",
           "zerolinewidth": 2
          }
         }
        },
        "title": {
         "text": "",
         "y": 1
        },
        "xaxis": {
         "showgrid": true,
         "title": {
          "font": {
           "family": "Times New Roman"
          },
          "text": "Cumulative Capacity [GW]"
         },
         "type": "log"
        },
        "xaxis2": {
         "anchor": "y",
         "automargin": true,
         "color": "rgb(105,105,105)",
         "overlaying": "x",
         "showgrid": true,
         "side": "top",
         "title": {
          "font": {
           "color": "rgb(10,10,10)",
           "family": "Times New Roman"
          },
          "text": "CO<sub>2</sub> capture capacity [Mtpa]"
         },
         "type": "log"
        },
        "yaxis": {
         "showgrid": true,
         "title": {
          "font": {
           "family": "Times New Roman"
          },
          "text": "Investment Cost [USD<sub>2018</sub>/kW]"
         },
         "type": "log"
        },
        "yaxis2": {
         "anchor": "x",
         "automargin": true,
         "color": "rgb(105,105,105)",
         "overlaying": "y",
         "showgrid": true,
         "side": "right",
         "title": {
          "font": {
           "color": "rgb(10,10,10)",
           "family": "Times New Roman"
          },
          "text": "Cost of CO<sub>2</sub> capture [USD<sub>2018</sub>/tCO<sub>2</sub>]"
         },
         "type": "log"
        }
       }
      },
      "text/html": [
       "<div>                            <div id=\"613fa32e-9a18-4918-aba3-15cb306574ca\" class=\"plotly-graph-div\" style=\"height:525px; width:100%;\"></div>            <script type=\"text/javascript\">                require([\"plotly\"], function(Plotly) {                    window.PLOTLYENV=window.PLOTLYENV || {};                                    if (document.getElementById(\"613fa32e-9a18-4918-aba3-15cb306574ca\")) {                    Plotly.newPlot(                        \"613fa32e-9a18-4918-aba3-15cb306574ca\",                        [{\"legendgroup\":\"group\",\"legendgrouptitle\":{\"font\":{\"color\":\"rgb(10,10,10)\"},\"text\":\"Power capacity\"},\"marker\":{\"color\":\"rgb(0,0,205)\",\"size\":6,\"symbol\":\"circle-open\"},\"mode\":\"markers\",\"name\":\"Onshore Wind - Prospective\",\"type\":\"scatter\",\"x\":[541.0,595.0,698.0,903.212,1108.424,1313.635,1518.847,1724.059,1929.271,2134.482,2339.694,2544.906,2750.118,2957.488,3164.859,3372.229,3579.6,3786.97,3994.341,4201.711,4409.082,4616.452,4823.823,5031.193,5238.564,5445.934,5653.305,5860.675,6068.046,6275.417,6482.787,6690.158,6897.528],\"y\":[1520.39,1447.57,1315.53,1347.82,1284.84,1234.83,1193.64,1158.81,1128.75,1102.39,1078.99,1058.0,1038.99,1021.49,1005.44,990.64,976.91,964.14,952.2,941.0,930.47,920.53,911.12,902.2,893.73,885.65,877.95,870.59,863.54,856.79,850.3,844.07,838.07]},{\"legendgroup\":\"group\",\"marker\":{\"color\":\"rgb(0,0,205)\",\"size\":6,\"symbol\":\"circle\"},\"mode\":\"markers+text\",\"name\":\"Onshore Wind - Historical\",\"textfont\":{\"size\":10},\"type\":\"scatter\",\"x\":[178.0,216.0,261.0,292.0,340.0,405.0,453.0,495.0,541.0,595.0,698.0],\"y\":[1914.0,1883.0,1937.0,1797.0,1745.0,1611.0,1604.0,1599.0,1520.0,1448.0,1316.0]},{\"legendgroup\":\"group\",\"line\":{\"color\":\"rgb(0,0,205)\",\"width\":1.5},\"mode\":\"lines\",\"name\":\"Onshore Wind - Learning Curve\",\"type\":\"scatter\",\"x\":[178.00000000000003,184.69841505847967,191.6489018264855,198.86094615196652,206.3443908499881,214.10944913595645,222.16671856435596,230.52719549202163,239.20229008568927,248.20384189430047,257.5441360073189,267.23591982110855,277.2924204362567,287.7273627095853,298.55498798548706,309.7900735321514,321.4479527092035,333.5445358942865,346.0963321971399,359.1204719908134,372.63473029076613,386.65755101375584,401.2080721496289,416.3061518803629,431.9723956820102,448.22818444652603,465.09570366187256,482.5979736902033,500.7588811854742,519.6032116933404,539.1566834778407,559.4459826210312,580.4987994434731,602.3438662952794,625.0109967692971,648.5311263899429,672.936354833219,698.2599897355406,724.5365921511494,751.802023720165,780.0934956116404,809.4496193084215,839.910459303119,871.5175877771109,904.3141413372019,938.344879887365,973.6562477159322,1010.2964368815681,1048.3154529845783,1087.7651834132794,1128.6994681585907,1171.1741732934863,1215.2472672175961,1260.9788997710052,1308.431484325224,1357.669782963388,1408.7609948658865,1461.7748480221135,1516.7836943934512,1573.8626086573922,1633.0894906675535,1694.545171769421,1758.3135251169167,1824.4815801403524,1893.1396413219884,1964.3814114412894,2038.304119458122,2115.0086532083433,2194.599697092981,2277.1858749488374,2362.8798982955477,2451.7987201614,2544.063694697862,2639.8007428006485,2739.1405239633514,2842.21861459823,2949.175693067418,3060.1577316772236,3175.31619589739,3294.808251077353,3418.7969769415076,3547.451590156281,3680.9476752727473,3819.467424359949,3963.199885656049,4112.341221576513,4267.094976431656,4427.672354218693,4594.2925068676395,4767.182833334282,4946.579289948507,5132.72671244151,5325.879150091391,5526.300212443166,5734.263429076354,5950.052622911271,6173.9622975632665,6406.298039273847,6647.376933966996,6897.528],\"y\":[1970.111645221424,1953.1752957557574,1936.3845420658017,1919.7381325164308,1903.2348262323799,1886.873393005749,1870.6526132042968,1854.5712776805262,1838.6281876815572,1822.8221547597514,1807.1520006841426,1791.6165573525923,1776.2146667047211,1760.945180635584,1745.8069609100853,1730.7988790781326,1715.9198163905169,1701.1686637155192,1686.5443214562313,1672.0456994685887,1657.671716980108,1643.4213025093222,1629.293393785909,1615.2869376715119,1601.4008900812194,1587.6342159057583,1573.9858889343154,1560.4548917780485,1547.0402157942458,1533.7408610111383,1520.5558360533587,1507.484158068041,1494.524852651557,1481.676953776879,1468.9395037215706,1456.3115529963934,1443.792160274536,1431.380392321429,1419.0753239251994,1406.876037827685,1394.7816246560678,1382.7911828550855,1370.9038186198245,1359.1186458290956,1347.4347859793772,1335.8513681193313,1324.3675287848782,1312.9824119348325,1301.6951688870902,1290.5049582553654,1279.4109458864714,1268.4123047981402,1257.5082151173758,1246.6978640193379,1235.980445666756,1225.3551611498526,1214.8212184267945,1204.3778322646513,1194.0242241808598,1183.7596223851958,1173.5832617222406,1163.494383614345,1153.492236005082,1143.5760733031864,1133.7451563269758,1123.9987522492504,1114.336134542665,1104.7565829255711,1095.259383308328,1085.8438277400671,1076.5092143559227,1067.2548473247116,1058.0800367970644,1048.984098854001,1039.9663554559504,1031.0261343922054,1022.1627692308168,1013.3755992689131,1004.6639694834505,996.0272304823859,987.4647384562676,978.9758551302483,970.5599477164967,962.2163888670405,953.944556626988,945.7438343881793,937.613610843209,929.5532799398702,921.5622408359676,913.639897854534,905.7856604394249,897.9989431112973,890.2791654239659,882.6257519211341,875.0381320935018,867.5157403362288,860.0580159067852,852.6644028831387,845.3343501223277,838.0673112193643]},{\"marker\":{\"color\":\"rgb(30,144,255)\",\"size\":6,\"symbol\":\"circle-open\"},\"mode\":\"markers\",\"name\":\"Offshore Wind - Prospective\",\"type\":\"scatter\",\"x\":[23.626,28.355,34.367,66.02,97.67,129.32,160.97,192.62,224.28,255.93,287.58,319.23,350.88,401.71,452.54,503.37,554.2,605.03,655.86,706.69,757.52,808.35,859.18,910.01,960.84,1011.67,1062.5,1113.32,1164.15,1214.98,1265.81,1316.64,1367.47],\"y\":[4496.0,3615.0,3092.0,2820.0,2513.0,2314.0,2170.0,2058.0,1968.0,1893.0,1829.0,1774.0,1725.0,1658.0,1601.0,1552.0,1508.0,1470.0,1436.0,1404.0,1376.0,1350.0,1326.0,1304.0,1283.0,1264.0,1246.0,1229.0,1213.0,1198.0,1183.0,1170.0,1157.0]},{\"marker\":{\"color\":\"rgb(30,144,255)\",\"size\":6,\"symbol\":\"circle\"},\"mode\":\"markers+text\",\"name\":\"Offshore Wind - Historical\",\"textfont\":{\"size\":10},\"type\":\"scatter\",\"x\":[3.056,3.776,5.334,7.171,8.492,11.717,14.342,18.837,23.626,28.355,34.367],\"y\":[4569.0,5233.0,4631.0,5554.0,5153.0,5168.0,4069.0,4597.0,4496.0,3615.0,3092.0]},{\"line\":{\"color\":\"rgb(30,144,255)\",\"width\":1.5},\"mode\":\"lines\",\"name\":\"Offshore Wind - Learning Curve\",\"type\":\"scatter\",\"x\":[3.056,3.2503396705285033,3.4570379495455956,3.676880755867331,3.910703987106811,4.1593966979670345,4.423904480650365,4.705233060237787,5.004452118708478,5.3226993621395895,5.66118484655074,6.021195578841196,6.404100410313601,6.811355241390762,7.244508557315,7.705207315878327,8.19520320956995,8.716359325951483,9.270657231584156,9.860204506443042,10.487242757465882,11.154156141706178,11.863480431497628,12.617912656097957,13.420321356472138,14.273757492206242,15.181466042022711,16.14689834200516,17.17372520844577,18.265850895211603,19.42742793869924,20.662872946821967,21.976883392063357,23.374455472448474,24.860903108344687,26.441878147322686,28.123391853901712,29.91183776588837,31.814016004214537,33.837159128706574,35.98895963809576,38.27759921883237,40.711779853914166,43.30075691001323,46.05437432870654,48.9831020556166,52.09807584977646,55.41113962458492,58.93489048134234,62.682726606596745,66.66889821541683,70.90856173429204,75.41783742967564,80.2138707012906,85.31489727324895,90.74031253085906,96.51074526675582,102.64813611675633,109.17582098367234,116.11861976627901,123.50293073080883,131.35683088379633,139.71018272791454,148.59474780671698,158.04430747000995,168.0947913190371,178.78441381985488,190.15381960433854,202.24623801129013,215.1076474552506,228.786950247991,243.33615853739397,258.8105920707151,275.26908853416717,292.77422726859487,311.39256721185916,331.19489997265015,352.25651899797947,374.65750585779114,398.4830347352236,423.8236962802632,450.77584205816896,479.441950902342,509.93101856461413,542.3589721444934,576.8491108731386,613.532574928029,652.548844060888,694.0462679347585,738.1826301867152,785.1257483609135,835.0541119930809,888.1575612725987,944.6380088626242,1004.7102076227889,1068.60256715356,1136.5580222669548,1208.8349566857657,1285.7081854834269,1367.47],\"y\":[6959.219144504205,6834.207404939681,6711.4413102822255,6590.880520951991,6472.48542200805,6356.217110131399,6242.037380841691,6129.908715943699,6019.794271199283,5911.657864220721,5805.463962581605,5701.1776721413125,5598.7647255791135,5498.1914711343425,5399.42486154883,5302.432443207881,5207.182345476404,5113.643270226606,5021.784481553709,4931.575795676511,4842.987571019349,4755.990698472153,4670.5565918255425,4586.657178377742,4504.264889710145,4423.352652628669,4343.893880267821,4265.8624633545005,4189.232761628835,4113.979595419025,4040.0782373676066,3967.504404306335,3896.2342492769617,3826.244353695409,3757.5117196567044,3690.01376237808,3623.728302777888,3558.633560187813,3494.708145195953,3431.9310526185095,3370.2816545977385,3309.7396938238276,3250.285276878584,3191.8988676986987,3134.561281156374,3078.253676755324,3022.9575524400066,2968.6547385160247,2915.3273916797907,2862.957989155403,2811.529322936853,2761.0244941336746,2711.426907418151,2662.720265572267,2614.888564132637,2567.916086131607,2521.787396932829,2476.4873391596216,2432.0010277144183,2388.3138448876825,2345.411435554702,2303.2797024586494,2261.90480157837,2221.273137579407,2181.371359346711,2142.186355597621,2103.70525057363,2065.9153998095694,2028.8043859787613,1992.3600148128353,1956.5703110948207,1921.4235147242246,1886.908076852788,1853.0126560896715,1819.7261147747938,1787.0375153191167,1754.9361166106842,1723.4113704851989,1692.4529182600297,1662.0505873304432,1632.1943878270145,1602.8745093330551,1574.0813176610284,1545.8053516868567,1518.0373202410983,1490.7680990559795,1463.9887277672549,1437.690406969935,1411.8644953268931,1386.5025067294252,1361.5961075088055,1337.1371136979303,1313.1174883421654,1289.5293388584878,1266.364914442066,1243.6166035194396,1221.2769312474363,1199.3385570570179,1177.7942722412565,1156.6369975866319]},{\"marker\":{\"color\":\"rgb(255,215,0)\",\"size\":6,\"symbol\":\"circle-open\"},\"mode\":\"markers\",\"name\":\"Residential PV - Prospective\",\"type\":\"scatter\",\"x\":[58.0,74.0,93.0,150.67,208.35,266.02,323.7,381.37,439.05,496.72,554.39,612.07,669.74,751.15,832.56,913.96,995.37,1076.78,1158.18,1239.59,1321.0,1402.41,1483.81,1530.81,1577.81,1624.82,1671.82,1718.82,1765.82,1812.82,1859.82,1906.82,1953.82],\"y\":[2704.85,2506.8,2442.72,1872.68,1639.53,1483.13,1368.42,1279.39,1207.57,1147.95,1097.36,1053.7,1015.48,968.8,928.75,893.88,863.13,835.74,811.12,788.83,768.51,749.88,732.72,723.41,714.49,705.94,697.73,689.83,682.24,674.93,667.88,661.07,654.5]},{\"marker\":{\"color\":\"rgb(255,215,0)\",\"size\":6,\"symbol\":\"circle\"},\"mode\":\"markers+text\",\"name\":\"Residential PV - Historical\",\"textfont\":{\"size\":10},\"type\":\"scatter\",\"x\":[27.0,32.0,38.0,44.0,50.0,58.0,74.0,93.0],\"y\":[3794.0,3379.0,3158.0,3103.0,3027.0,2705.0,2507.0,2443.0]},{\"line\":{\"color\":\"rgb(255,215,0)\",\"width\":1.5},\"mode\":\"lines\",\"name\":\"Residential PV - Learning Curve\",\"type\":\"scatter\",\"x\":[27.000000000000004,28.193357762954378,29.439460072219994,30.740638154233665,32.099326271993874,33.5180662791157,34.999512375167626,36.54643607118703,38.16173137466358,39.84842020369078,41.60965804041457,43.4487398343555,45.36910616664858,47.3743496867327,49.46822183353187,51.65463985370204,53.93769413007343,56.32165583399868,58.810984915922646,61.41033844912294,64.12457934223096,66.95878543683226,69.91825900716708,73.00853667970254,76.23539979113444,79.60488520419668,83.12329660151224,86.79721627861497,90.63351745820441,94.63937714867141,98.82228957095045,103.19008017881782,107.7509202988651,112.51334241753653,117.48625614382942,122.67896487752158,128.10118321410656,133.7630551190028,139.67517290503062,145.84859704866815,152.29487688215085,159.02607220013215,166.05477582132366,173.39413714732459,181.0578867627148,189.0603621224333,197.4165343744989,206.1420363682529,215.25319190052244,224.76704625441835,234.7013980879014,245.07483273176936,255.90675695936943,267.217435293071,279.0280279154319,291.3606302559775,304.2383143276534,317.68517189028523,331.72635952179513,346.38814568149616,361.6979598535104,377.68444386224917,394.37750545595696,411.8083742585665,430.00966019453205,449.01541449595913,468.8611934061412,489.5841246987073,511.2229771367966,533.8182330022353,557.4121638303761,582.0489094923086,607.7745607723743,634.6372455954817,662.6872190655317,691.9769574834013,722.5612565203786,754.4973337306986,787.8449355949923,822.6664492948645,859.0270194277595,896.9946698804132,936.6404310889498,978.0384729236509,1021.2662434470391,1066.4046138048457,1113.5380295209336,1162.7546684792196,1214.14660588815,1267.8099865363474,1323.845204661688,1382.357091770317,1443.4551127569505,1507.253570693422,1573.8718206685203,1643.4344930792595,1716.0717267912253,1791.919412604293,1871.119447479107,1953.8199999999993],\"y\":[3791.3382077272263,3724.660274126696,3659.1549995150685,3594.8017604412125,3531.5802961568556,3469.470702237708,3408.4534243168737,3348.5092519283758,3289.6193124590445,3231.7650652066854,3174.9282955428307,3119.0911091780895,3064.235926528364,3010.3454771801644,2957.402794453267,2905.391210058959,2854.2943488522674,2804.0961236764606,2754.7807302982274,2706.3326424319253,2658.7366068513406,2611.9776385874156,2566.0410162104326,2520.912277195172,2476.5772133675805,2433.02186643152,2390.2325235741837,2348.1957131488134,2306.8982004333106,2266.326983463491,2226.4692889395706,2187.312568204672,2148.8444932940515,2111.052953053802,2073.926049327822,2037.4520932118414,2001.6196013733268,1966.4172924361092,1931.8340834286025,1897.8590862944611,1864.4816044646477,1831.6911294897366,1799.4773377314964,1767.8300871126055,1736.7394139235812,1706.1955296858218,1676.1888180698445,1646.7098318677124,1617.7492900187074,1589.2980746873206,1561.3472283926087,1533.8879511880746,1506.9115978911002,1480.4096753611448,1454.3738398257847,1428.7958942537975,1403.6677857744237,1378.981603142047,1354.7295742454276,1330.9040636607751,1307.497570247821,1284.5027247882024,1261.9122876653516,1239.7191465852052,1217.9163143369942,1196.4969265934126,1175.4542397494838,1154.7816287994146,1134.4725852508175,1114.5207150755841,1094.9197366968267,1075.6634790111939,1056.7458794459965,1038.160982050474,1019.9029356206589,1001.9659918571884,984.3445035555449,967.0329228280988,950.0257993574368,933.3177786804008,916.9036005023087,900.7780970408207,884.9361913989334,869.3728959665871,854.083310850384,839.0626223309235,824.3061013472663,809.8091020080574,795.5670601288215,781.5754917950027,767.8299919502534,754.3262330095698,741.0599634968054,728.0270067061556,715.223259387173,702.6446904529183,690.2873397108257,678.14731661589,666.2207990457789,654.5040320974949]},{\"marker\":{\"color\":\"rgb(255,140,0)\",\"size\":6,\"symbol\":\"circle-open\"},\"mode\":\"markers\",\"name\":\"CSP - Prospective\",\"type\":\"scatter\",\"x\":[5.83,6.38,6.48,13.13,19.78,26.44,33.09,39.74,46.39,53.04,59.7,66.35,73.0,93.8,114.6,135.4,156.2,177.0,197.8,218.6,239.4,260.2,281.0,295.5,310.0,324.5,339.0,353.5,368.0,382.5,397.0,411.5,426.0],\"y\":[5161.0,6466.0,4448.0,5036.0,4238.0,3701.0,3307.0,3002.0,2757.0,2555.0,2384.0,2237.0,2110.0,1799.0,1574.0,1403.0,1267.0,1157.0,1065.0,987.0,921.0,863.0,812.0,780.0,750.0,723.0,697.0,673.0,651.0,631.0,611.0,593.0,576.0]},{\"marker\":{\"color\":\"rgb(255,140,0)\",\"size\":6,\"symbol\":\"circle\"},\"mode\":\"markers+text\",\"name\":\"CSP - Historical\",\"textfont\":{\"size\":10},\"type\":\"scatter\",\"x\":[1.266,1.705,2.567,3.842,4.499,4.75,4.86,4.959,5.833,6.384,6.479],\"y\":[8830.0,10403.0,8040.0,6307.0,5414.0,7232.0,7602.0,7196.0,5161.0,6466.0,4448.0]},{\"line\":{\"color\":\"rgb(255,140,0)\",\"width\":1.5},\"mode\":\"lines\",\"name\":\"CSP - Learning Curve\",\"type\":\"scatter\",\"x\":[1.266,1.3426373200696768,1.4239138809193395,1.5101105190265045,1.6015250713070892,1.698473404237084,1.8012905052721162,1.9103316403361044,2.025973581378497,2.1486159082416982,2.2786823893370527,2.4166224459000536,2.562912704884262,2.718058645859662,2.8825963476060275,3.0570943404363313,3.2421555706505623,3.438419483907777,3.6465642347150853,3.8673090296680837,4.101416612539351,4.349695899801805,4.61300477569349,4.892253056481617,5.188405634168377,5.502485810500979,5.835578832806051,6.1888356438657555,6.56347685879274,6.960796982645204,7.3821688833553285,7.829048535426509,8.302980050790262,8.805601014206186,9.338648141640299,9.90396328117346,10.503499777174737,11.13932921973012,11.813648602647945,12.528787914774181,13.287218190848156,14.091560049716765,14.944592749409663,15.849263790363443,16.808699099977044,17.826213833689394,18.905323829900254,20.049757758314914,21.263470003688894,22.550654329490374,23.91575836869243,25.363498991765518,26.898878604971575,28.52720243527535,30.254096861598153,32.08552885575399,34.02782660024314,36.08770135414386,38.27227064265604,40.58908285042424,43.04614330361743,45.651941930887986,48.415482598786674,51.346314222997655,54.45456376289186,57.75097121340635,61.246926715157166,64.95450991101303,68.88653168511992,73.05657842859736,77.47905898485952,82.16925443677107,87.14337090766962,92.41859555869776,98.01315597593465,103.94638315252783,110.23877828344838,116.91208360366862,123.9893575145274,131.49505425787214,139.4551084132751,147.8970245102889,156.84997206538205,166.34488637193388,176.41457539155454,187.09383311607172,198.41955979188464,210.43088942210193,223.16932498702153,236.67888185018438,251.00623984551288,266.20090457104715,282.3153784465992,299.40534212638124,317.5298468934513,336.75151870075666,357.1367745638055,378.75605205266686,401.6840526762743,425.99999999999994],\"y\":[8830.000500101507,8783.462570577089,8733.195649968666,8679.266677793423,8621.747177579036,8560.713098842496,8496.244650048156,8428.426123059307,8357.345709620193,8283.095310427958,8205.770337372027,8125.469509536107,8042.294643572226,7956.3504390687385,7867.744259543848,7776.5859097040775,7682.9874096119975,7587.062766410445,7488.927744250638,7388.699633069892,7286.497016860243,7182.439542062544,7076.647686712386,6969.242530952617,6860.345529514916,6750.078286757328,6638.562334828462,6525.918915509698,6412.268766267041,6297.731911021723,6182.427456125848,6066.473392003965,5949.986400896013,5833.081671109456,5715.872718160888,5598.4712131578835,5480.986818742734,5363.52703288906,5246.197040812107,5129.099575222044,5012.334785118874,4896.0001132961825,4780.190182689804,4664.99669167671,4550.508318398773,4436.810634155942,4323.986025883684,4212.113627700865,4101.269261485803,3991.5253864109986,3882.9510573408893,3775.6118919712626,3669.570046565033,3564.884200115897,3461.6095467494897,3359.7977961512433,3259.497181790823,3160.752476695253,3063.605016506263,2968.0927295426336,2874.2501735744518,2782.1085790043176,2691.6958981398216,2603.0368602324193,2516.153031950153,2431.062882945371,2347.7818561736976,2266.3224426171064,2186.6942600617076,2108.9041355802165,2032.9561913694067,1958.8519335946528,1886.59034389653,1816.1679732184812,1747.579037619631,1680.8155157429783,1615.8672476162355,1552.7220344705202,1491.365739270948,1431.7823876626314,1373.9542690458254,1317.862037504867,1263.4848123268562,1210.8002778579853,1159.7847824576752,1110.413436323369,1062.6602079717195,1016.4980191751514,971.898838166021,928.8337709340586,887.2731504562788,847.1866237119442,808.543236348578,771.3115148783369,735.4595462970867,700.9550550315031,667.7654771320965,635.858031642494,605.1997890872526,575.7577370322424]},{\"marker\":{\"color\":\"rgb(50,205,50)\",\"size\":6,\"symbol\":\"circle-open\"},\"mode\":\"markers\",\"name\":\"Ground Source Heat Pumps - Prospective\",\"type\":\"scatter\",\"x\":[2.174,2.859,3.544,4.23,4.915,5.6,6.286,6.971,7.657,8.342,9.027,9.713,10.398,11.084,11.769,12.454,13.14,13.825,14.511,15.196,15.881,16.567,17.252,17.937,18.623,19.308,19.994,20.679,21.364,22.05,22.735,23.421,24.106],\"y\":[2784.93,2364.46,2079.7,1871.35,1710.83,1582.54,1477.11,1388.59,1312.97,1247.44,1189.99,1139.11,1093.66,1052.76,1015.71,981.95,951.03,922.59,896.32,871.95,849.28,828.12,808.32,789.73,772.24,755.76,740.18,725.43,711.44,698.15,685.51,673.46,661.96]},{\"marker\":{\"color\":\"rgb(50,205,50)\",\"size\":6,\"symbol\":\"circle\"},\"mode\":\"markers+text\",\"name\":\"Ground Source Heat Pumps - Historical\",\"textfont\":{\"size\":10},\"type\":\"scatter\",\"x\":[0.02,0.039,0.061,0.084,0.106,0.126,0.142,0.157,0.172,0.198,0.224,0.252,0.285,0.325,0.367,0.417,0.467,0.522,0.587,0.661,0.75,0.867,0.992,1.143],\"y\":[34647,30597,27279,25591,23285,20361,17605,15805,14286,13611,12655,8662,8549,8212,7762,7256,6806,6524,5231,4893,4781,4612,4443,4218]},{\"line\":{\"color\":\"rgb(50,205,50)\",\"width\":1.5},\"mode\":\"lines\",\"name\":\"Ground Source Heat Pumps - Learning Curve\",\"type\":\"scatter\",\"x\":[0.020000000000000004,0.02148583167092517,0.023082048129566553,0.024796850036603015,0.02663904729278135,0.028618104300325745,0.030744188586888946,0.03302822304185373,0.03548194203335206,0.03811795169430634,0.040949794687216136,0.0439920197804236,0.047260256593309596,0.05077129589442907,0.054543175865121876,0.05859527477178384,0.06294841052290778,0.06762494762237456,0.07264891206847356,0.07804611478895337,0.08384428424625777,0.09007320889421487,0.09676489021805908,0.10395370714403852,0.11167659266327315,0.11997322357727817,0.1288862243399835,0.13846138604349922,0.14874790167268057,0.15979861883712715,0.17167031127904234,0.18442397055184154,0.19812511936802638,0.2128441482261685,0.22865667704644513,0.24564394367265105,0.2638932212366402,0.28349826652943333,0.3045598016825243,0.3271860316340534,0.35149320003836343,0.37760618647495525,0.4056591480250434,0.43579620851185014,0.4681721989456509,0.5029534529776573,0.5403186614494263,0.5804597904280988,0.6235830674439315,0.6699100409969745,0.7196787187761786,0.7731447904386036,0.8305829412308277,0.8922882632013747,0.958577771254346,1.0297920318330742,1.1062969126012723,1.1884854621107575,1.2767799291126722,1.371633931886533,1.4735347887321644,1.583006021597578,1.7006100457053255,1.826951058995449,1.9626781462297347,2.1084886137047767,2.2651315717061595,2.433411783108835,2.6141937978961147,2.8084063948386273,3.017047353152628,3.241188578652384,3.481981610732516,3.740663538472786,4.01856335625968,4.317108791577178,4.637833640044925,4.9823856453879705,5.35253496482199,5.750183263345332,6.177373483660448,6.63630034191825,7.1293216032079325,7.6589701947207995,8.227967218820202,8.839235932873068,9.495916767665197,10.201383461558512,10.959260393280305,11.773441202392888,12.648108793107422,13.587756824212727,14.597212795524984,15.68166284946624,16.84667841519162,18.098244832150773,19.442792100139144,20.887227913819164,22.4389731514284,24.106000000000005],\"y\":[45778.1035548452,43860.508794594294,42023.23998450286,40262.932358248654,38576.36209589574,36960.440419804334,35412.20793785651,33928.82922363797,32507.58762365016,31145.880282042493,29841.21337375321,28591.197537328684,27393.543499056992,26246.057880401713,25146.639181057766,24093.27393027265,23084.032999384624,22117.068068824672,21190.608243111732,20302.956807642393,19452.48812133498,18637.644639437032,17856.934061044765,17108.926596109497,16392.252346925914,15705.598799307541,15047.708418853643,14417.376347906089,13813.44819897813,13234.81794061405,12680.425871807825,12149.256681271205,11640.337587996903,11152.736559711579,10685.560605955887,10237.95414266552,9809.097425258173,9398.2050473568,9004.524502399678,8627.334805503093,8265.945173052667,7919.693757605175,7587.946435783931,7270.095646947927,6965.559280507848,6673.7796098511935,6394.222270924132,6126.375283599425,5869.748114038192,5623.870776328318,5388.2929717542465,5162.583264121775,4946.328289627736,4739.131999827149,4540.614936311868,4350.4135357720525,4168.179464167788,3993.5789787916824,3826.292317053845,3666.013110870037,3512.447825580462,3365.315222371632,3224.345843216793,3089.281517391638,2959.874888661532,2835.888962274356,2717.0966709293134,2603.280458926845,2494.2318837380344,2389.751234263848,2289.6471650850694,2193.7363460331135,2101.843126439926,2013.7992134520978,1929.443363820045,1848.6210885977987,1771.1843702126102,1696.9913913861967,1625.9062754111676,1557.7988373070073,1492.5443453998453,1430.0232928894047,1370.121178984749,1312.7282992080186,1257.7395444821163,1205.0542086343835,1154.575803963751,1106.2118845335624,1059.8738768664816,1015.4769177314013,972.9396987252773,932.1843173652685,893.1361344184556,855.7236372078701,819.8783086444726,785.5345017452545,752.6293194076263,721.1024992199317,690.8963030971214,661.9554115394689]}],                        {\"annotations\":[{\"font\":{\"color\":\"rgb(10,10,10)\",\"family\":\"Times New Roman\",\"size\":10},\"showarrow\":true,\"text\":\"2010\",\"x\":2.250420002308894,\"y\":3.281941933440825},{\"font\":{\"color\":\"rgb(10,10,10)\",\"family\":\"Times New Roman\",\"size\":10},\"showarrow\":true,\"text\":\"2020\",\"x\":2.843855422623161,\"y\":3.1192558892779365},{\"font\":{\"color\":\"rgb(10,10,10)\",\"family\":\"Times New Roman\",\"size\":10},\"showarrow\":true,\"text\":\"2050\",\"x\":3.8386934721408297,\"y\":2.923280294697208},{\"font\":{\"color\":\"rgb(10,10,10)\",\"family\":\"Times New Roman\",\"size\":10},\"showarrow\":true,\"text\":\"2010\",\"x\":0.48515334990365233,\"y\":3.659821158055705},{\"font\":{\"color\":\"rgb(10,10,10)\",\"family\":\"Times New Roman\",\"size\":10},\"showarrow\":true,\"text\":\"2020\",\"x\":1.5361416229050349,\"y\":3.4902394852462875},{\"font\":{\"color\":\"rgb(10,10,10)\",\"family\":\"Times New Roman\",\"size\":10},\"showarrow\":true,\"text\":\"2050\",\"x\":3.135917807416897,\"y\":3.0633333589517497},{\"font\":{\"color\":\"rgb(10,10,10)\",\"family\":\"Times New Roman\",\"size\":10},\"showarrow\":true,\"text\":\"2013\",\"x\":1.4313637641589874,\"y\":3.5790973265526436},{\"font\":{\"color\":\"rgb(10,10,10)\",\"family\":\"Times New Roman\",\"size\":10},\"showarrow\":true,\"text\":\"2020\",\"x\":1.968482948553935,\"y\":3.3879234669734366},{\"font\":{\"color\":\"rgb(10,10,10)\",\"family\":\"Times New Roman\",\"size\":10},\"showarrow\":true,\"text\":\"2050\",\"x\":3.2908845508834896,\"y\":2.8159096508867747},{\"font\":{\"color\":\"rgb(10,10,10)\",\"family\":\"Times New Roman\",\"size\":10},\"showarrow\":true,\"text\":\"2010\",\"x\":0.1024337056813363,\"y\":3.9459607035775686},{\"font\":{\"color\":\"rgb(10,10,10)\",\"family\":\"Times New Roman\",\"size\":10},\"showarrow\":true,\"text\":\"2020\",\"x\":0.8115079799453266,\"y\":3.6481647785740012},{\"font\":{\"color\":\"rgb(10,10,10)\",\"family\":\"Times New Roman\",\"size\":10},\"showarrow\":true,\"text\":\"2050\",\"x\":2.629409599102719,\"y\":2.760422483423212},{\"font\":{\"color\":\"rgb(10,10,10)\",\"family\":\"Times New Roman\",\"size\":10},\"showarrow\":true,\"text\":\"1985\",\"x\":-1.6989700043360187,\"y\":4.539665636066127},{\"font\":{\"color\":\"rgb(10,10,10)\",\"family\":\"Times New Roman\",\"size\":10},\"showarrow\":true,\"text\":\"2008\",\"x\":0.05804623039528174,\"y\":3.6251065754034677},{\"font\":{\"color\":\"rgb(10,10,10)\",\"family\":\"Times New Roman\",\"size\":10},\"showarrow\":true,\"text\":\"2050\",\"x\":1.3821251522253217,\"y\":2.8208317472884548},{\"font\":{\"color\":\"rgb(10,10,10)\",\"family\":\"Times New Roman\",\"size\":10},\"showarrow\":true,\"text\":\"2018\",\"x\":0.3372595397502757,\"y\":3.4448142835328017}],\"font\":{\"color\":\"rgb(10,10,10)\",\"family\":\"Times New Roman\",\"size\":16},\"legend\":{\"x\":1.2},\"template\":{\"data\":{\"bar\":[{\"error_x\":{\"color\":\"#2a3f5f\"},\"error_y\":{\"color\":\"#2a3f5f\"},\"marker\":{\"line\":{\"color\":\"#E5ECF6\",\"width\":0.5},\"pattern\":{\"fillmode\":\"overlay\",\"size\":10,\"solidity\":0.2}},\"type\":\"bar\"}],\"barpolar\":[{\"marker\":{\"line\":{\"color\":\"#E5ECF6\",\"width\":0.5},\"pattern\":{\"fillmode\":\"overlay\",\"size\":10,\"solidity\":0.2}},\"type\":\"barpolar\"}],\"carpet\":[{\"aaxis\":{\"endlinecolor\":\"#2a3f5f\",\"gridcolor\":\"white\",\"linecolor\":\"white\",\"minorgridcolor\":\"white\",\"startlinecolor\":\"#2a3f5f\"},\"baxis\":{\"endlinecolor\":\"#2a3f5f\",\"gridcolor\":\"white\",\"linecolor\":\"white\",\"minorgridcolor\":\"white\",\"startlinecolor\":\"#2a3f5f\"},\"type\":\"carpet\"}],\"choropleth\":[{\"colorbar\":{\"outlinewidth\":0,\"ticks\":\"\"},\"type\":\"choropleth\"}],\"contour\":[{\"colorbar\":{\"outlinewidth\":0,\"ticks\":\"\"},\"colorscale\":[[0.0,\"#0d0887\"],[0.1111111111111111,\"#46039f\"],[0.2222222222222222,\"#7201a8\"],[0.3333333333333333,\"#9c179e\"],[0.4444444444444444,\"#bd3786\"],[0.5555555555555556,\"#d8576b\"],[0.6666666666666666,\"#ed7953\"],[0.7777777777777778,\"#fb9f3a\"],[0.8888888888888888,\"#fdca26\"],[1.0,\"#f0f921\"]],\"type\":\"contour\"}],\"contourcarpet\":[{\"colorbar\":{\"outlinewidth\":0,\"ticks\":\"\"},\"type\":\"contourcarpet\"}],\"heatmap\":[{\"colorbar\":{\"outlinewidth\":0,\"ticks\":\"\"},\"colorscale\":[[0.0,\"#0d0887\"],[0.1111111111111111,\"#46039f\"],[0.2222222222222222,\"#7201a8\"],[0.3333333333333333,\"#9c179e\"],[0.4444444444444444,\"#bd3786\"],[0.5555555555555556,\"#d8576b\"],[0.6666666666666666,\"#ed7953\"],[0.7777777777777778,\"#fb9f3a\"],[0.8888888888888888,\"#fdca26\"],[1.0,\"#f0f921\"]],\"type\":\"heatmap\"}],\"heatmapgl\":[{\"colorbar\":{\"outlinewidth\":0,\"ticks\":\"\"},\"colorscale\":[[0.0,\"#0d0887\"],[0.1111111111111111,\"#46039f\"],[0.2222222222222222,\"#7201a8\"],[0.3333333333333333,\"#9c179e\"],[0.4444444444444444,\"#bd3786\"],[0.5555555555555556,\"#d8576b\"],[0.6666666666666666,\"#ed7953\"],[0.7777777777777778,\"#fb9f3a\"],[0.8888888888888888,\"#fdca26\"],[1.0,\"#f0f921\"]],\"type\":\"heatmapgl\"}],\"histogram\":[{\"marker\":{\"pattern\":{\"fillmode\":\"overlay\",\"size\":10,\"solidity\":0.2}},\"type\":\"histogram\"}],\"histogram2d\":[{\"colorbar\":{\"outlinewidth\":0,\"ticks\":\"\"},\"colorscale\":[[0.0,\"#0d0887\"],[0.1111111111111111,\"#46039f\"],[0.2222222222222222,\"#7201a8\"],[0.3333333333333333,\"#9c179e\"],[0.4444444444444444,\"#bd3786\"],[0.5555555555555556,\"#d8576b\"],[0.6666666666666666,\"#ed7953\"],[0.7777777777777778,\"#fb9f3a\"],[0.8888888888888888,\"#fdca26\"],[1.0,\"#f0f921\"]],\"type\":\"histogram2d\"}],\"histogram2dcontour\":[{\"colorbar\":{\"outlinewidth\":0,\"ticks\":\"\"},\"colorscale\":[[0.0,\"#0d0887\"],[0.1111111111111111,\"#46039f\"],[0.2222222222222222,\"#7201a8\"],[0.3333333333333333,\"#9c179e\"],[0.4444444444444444,\"#bd3786\"],[0.5555555555555556,\"#d8576b\"],[0.6666666666666666,\"#ed7953\"],[0.7777777777777778,\"#fb9f3a\"],[0.8888888888888888,\"#fdca26\"],[1.0,\"#f0f921\"]],\"type\":\"histogram2dcontour\"}],\"mesh3d\":[{\"colorbar\":{\"outlinewidth\":0,\"ticks\":\"\"},\"type\":\"mesh3d\"}],\"parcoords\":[{\"line\":{\"colorbar\":{\"outlinewidth\":0,\"ticks\":\"\"}},\"type\":\"parcoords\"}],\"pie\":[{\"automargin\":true,\"type\":\"pie\"}],\"scatter\":[{\"marker\":{\"colorbar\":{\"outlinewidth\":0,\"ticks\":\"\"}},\"type\":\"scatter\"}],\"scatter3d\":[{\"line\":{\"colorbar\":{\"outlinewidth\":0,\"ticks\":\"\"}},\"marker\":{\"colorbar\":{\"outlinewidth\":0,\"ticks\":\"\"}},\"type\":\"scatter3d\"}],\"scattercarpet\":[{\"marker\":{\"colorbar\":{\"outlinewidth\":0,\"ticks\":\"\"}},\"type\":\"scattercarpet\"}],\"scattergeo\":[{\"marker\":{\"colorbar\":{\"outlinewidth\":0,\"ticks\":\"\"}},\"type\":\"scattergeo\"}],\"scattergl\":[{\"marker\":{\"colorbar\":{\"outlinewidth\":0,\"ticks\":\"\"}},\"type\":\"scattergl\"}],\"scattermapbox\":[{\"marker\":{\"colorbar\":{\"outlinewidth\":0,\"ticks\":\"\"}},\"type\":\"scattermapbox\"}],\"scatterpolar\":[{\"marker\":{\"colorbar\":{\"outlinewidth\":0,\"ticks\":\"\"}},\"type\":\"scatterpolar\"}],\"scatterpolargl\":[{\"marker\":{\"colorbar\":{\"outlinewidth\":0,\"ticks\":\"\"}},\"type\":\"scatterpolargl\"}],\"scatterternary\":[{\"marker\":{\"colorbar\":{\"outlinewidth\":0,\"ticks\":\"\"}},\"type\":\"scatterternary\"}],\"surface\":[{\"colorbar\":{\"outlinewidth\":0,\"ticks\":\"\"},\"colorscale\":[[0.0,\"#0d0887\"],[0.1111111111111111,\"#46039f\"],[0.2222222222222222,\"#7201a8\"],[0.3333333333333333,\"#9c179e\"],[0.4444444444444444,\"#bd3786\"],[0.5555555555555556,\"#d8576b\"],[0.6666666666666666,\"#ed7953\"],[0.7777777777777778,\"#fb9f3a\"],[0.8888888888888888,\"#fdca26\"],[1.0,\"#f0f921\"]],\"type\":\"surface\"}],\"table\":[{\"cells\":{\"fill\":{\"color\":\"#EBF0F8\"},\"line\":{\"color\":\"white\"}},\"header\":{\"fill\":{\"color\":\"#C8D4E3\"},\"line\":{\"color\":\"white\"}},\"type\":\"table\"}]},\"layout\":{\"annotationdefaults\":{\"arrowcolor\":\"#2a3f5f\",\"arrowhead\":0,\"arrowwidth\":1},\"autotypenumbers\":\"strict\",\"coloraxis\":{\"colorbar\":{\"outlinewidth\":0,\"ticks\":\"\"}},\"colorscale\":{\"diverging\":[[0,\"#8e0152\"],[0.1,\"#c51b7d\"],[0.2,\"#de77ae\"],[0.3,\"#f1b6da\"],[0.4,\"#fde0ef\"],[0.5,\"#f7f7f7\"],[0.6,\"#e6f5d0\"],[0.7,\"#b8e186\"],[0.8,\"#7fbc41\"],[0.9,\"#4d9221\"],[1,\"#276419\"]],\"sequential\":[[0.0,\"#0d0887\"],[0.1111111111111111,\"#46039f\"],[0.2222222222222222,\"#7201a8\"],[0.3333333333333333,\"#9c179e\"],[0.4444444444444444,\"#bd3786\"],[0.5555555555555556,\"#d8576b\"],[0.6666666666666666,\"#ed7953\"],[0.7777777777777778,\"#fb9f3a\"],[0.8888888888888888,\"#fdca26\"],[1.0,\"#f0f921\"]],\"sequentialminus\":[[0.0,\"#0d0887\"],[0.1111111111111111,\"#46039f\"],[0.2222222222222222,\"#7201a8\"],[0.3333333333333333,\"#9c179e\"],[0.4444444444444444,\"#bd3786\"],[0.5555555555555556,\"#d8576b\"],[0.6666666666666666,\"#ed7953\"],[0.7777777777777778,\"#fb9f3a\"],[0.8888888888888888,\"#fdca26\"],[1.0,\"#f0f921\"]]},\"colorway\":[\"#636efa\",\"#EF553B\",\"#00cc96\",\"#ab63fa\",\"#FFA15A\",\"#19d3f3\",\"#FF6692\",\"#B6E880\",\"#FF97FF\",\"#FECB52\"],\"font\":{\"color\":\"#2a3f5f\"},\"geo\":{\"bgcolor\":\"white\",\"lakecolor\":\"white\",\"landcolor\":\"#E5ECF6\",\"showlakes\":true,\"showland\":true,\"subunitcolor\":\"white\"},\"hoverlabel\":{\"align\":\"left\"},\"hovermode\":\"closest\",\"mapbox\":{\"style\":\"light\"},\"paper_bgcolor\":\"white\",\"plot_bgcolor\":\"#E5ECF6\",\"polar\":{\"angularaxis\":{\"gridcolor\":\"white\",\"linecolor\":\"white\",\"ticks\":\"\"},\"bgcolor\":\"#E5ECF6\",\"radialaxis\":{\"gridcolor\":\"white\",\"linecolor\":\"white\",\"ticks\":\"\"}},\"scene\":{\"xaxis\":{\"backgroundcolor\":\"#E5ECF6\",\"gridcolor\":\"white\",\"gridwidth\":2,\"linecolor\":\"white\",\"showbackground\":true,\"ticks\":\"\",\"zerolinecolor\":\"white\"},\"yaxis\":{\"backgroundcolor\":\"#E5ECF6\",\"gridcolor\":\"white\",\"gridwidth\":2,\"linecolor\":\"white\",\"showbackground\":true,\"ticks\":\"\",\"zerolinecolor\":\"white\"},\"zaxis\":{\"backgroundcolor\":\"#E5ECF6\",\"gridcolor\":\"white\",\"gridwidth\":2,\"linecolor\":\"white\",\"showbackground\":true,\"ticks\":\"\",\"zerolinecolor\":\"white\"}},\"shapedefaults\":{\"line\":{\"color\":\"#2a3f5f\"}},\"ternary\":{\"aaxis\":{\"gridcolor\":\"white\",\"linecolor\":\"white\",\"ticks\":\"\"},\"baxis\":{\"gridcolor\":\"white\",\"linecolor\":\"white\",\"ticks\":\"\"},\"bgcolor\":\"#E5ECF6\",\"caxis\":{\"gridcolor\":\"white\",\"linecolor\":\"white\",\"ticks\":\"\"}},\"title\":{\"x\":0.05},\"xaxis\":{\"automargin\":true,\"gridcolor\":\"white\",\"linecolor\":\"white\",\"ticks\":\"\",\"title\":{\"standoff\":15},\"zerolinecolor\":\"white\",\"zerolinewidth\":2},\"yaxis\":{\"automargin\":true,\"gridcolor\":\"white\",\"linecolor\":\"white\",\"ticks\":\"\",\"title\":{\"standoff\":15},\"zerolinecolor\":\"white\",\"zerolinewidth\":2}}},\"title\":{\"text\":\"\",\"y\":1},\"xaxis\":{\"showgrid\":true,\"title\":{\"font\":{\"family\":\"Times New Roman\"},\"text\":\"Cumulative Capacity [GW]\"},\"type\":\"log\"},\"xaxis2\":{\"anchor\":\"y\",\"automargin\":true,\"color\":\"rgb(105,105,105)\",\"overlaying\":\"x\",\"showgrid\":true,\"side\":\"top\",\"title\":{\"font\":{\"color\":\"rgb(10,10,10)\",\"family\":\"Times New Roman\"},\"text\":\"CO<sub>2</sub> capture capacity [Mtpa]\"},\"type\":\"log\"},\"yaxis\":{\"showgrid\":true,\"title\":{\"font\":{\"family\":\"Times New Roman\"},\"text\":\"Investment Cost [USD<sub>2018</sub>/kW]\"},\"type\":\"log\"},\"yaxis2\":{\"anchor\":\"x\",\"automargin\":true,\"color\":\"rgb(105,105,105)\",\"overlaying\":\"y\",\"showgrid\":true,\"side\":\"right\",\"title\":{\"font\":{\"color\":\"rgb(10,10,10)\",\"family\":\"Times New Roman\"},\"text\":\"Cost of CO<sub>2</sub> capture [USD<sub>2018</sub>/tCO<sub>2</sub>]\"},\"type\":\"log\"}},                        {\"responsive\": true}                    ).then(function(){\n",
       "                            \n",
       "var gd = document.getElementById('613fa32e-9a18-4918-aba3-15cb306574ca');\n",
       "var x = new MutationObserver(function (mutations, observer) {{\n",
       "        var display = window.getComputedStyle(gd).display;\n",
       "        if (!display || display === 'none') {{\n",
       "            console.log([gd, 'removed!']);\n",
       "            Plotly.purge(gd);\n",
       "            observer.disconnect();\n",
       "        }}\n",
       "}});\n",
       "\n",
       "// Listen for the removal of the full notebook cells\n",
       "var notebookContainer = gd.closest('#notebook-container');\n",
       "if (notebookContainer) {{\n",
       "    x.observe(notebookContainer, {childList: true});\n",
       "}}\n",
       "\n",
       "// Listen for the clearing of the current output cell\n",
       "var outputEl = gd.closest('.output');\n",
       "if (outputEl) {{\n",
       "    x.observe(outputEl, {childList: true});\n",
       "}}\n",
       "\n",
       "                        })                };                });            </script>        </div>"
      ]
     },
     "metadata": {},
     "output_type": "display_data"
    }
   ],
   "source": [
    "hist_installed_cap = hist_cost['installed_cap']\n",
    "hist_c_inv = hist_cost['c_inv']\n",
    "hist_year = hist_cost['year']\n",
    "\n",
    "future_installed_cap = future_cost['installed_cap']\n",
    "future_c_inv = future_cost['c_inv']\n",
    "\n",
    "first_point_year = hist_cost[(hist_cost.c_inv >= 0)].year.min()\n",
    "last_hist_point_year = hist_cost[(hist_cost.c_inv >= 0)].year.max()\n",
    "log_first_point = np.log10(hist_cost[(hist_cost.year == first_point_year)].installed_cap)\n",
    "log_last_point = np.log10(future_cost[(future_cost.year == 2050)].installed_cap)\n",
    "\n",
    "x_reg = np.logspace(float(log_first_point), float(log_last_point), 100)\n",
    "y_reg = np.exp(a+b*np.log(x_reg))\n",
    "\n",
    "first_x = float(hist_cost[(hist_cost.c_inv >= 0) & (hist_cost.year == first_point_year)].installed_cap)\n",
    "first_y = float(hist_cost[(hist_cost.c_inv >= 0) & (hist_cost.year == first_point_year)].c_inv)\n",
    "first_year = int(hist_cost[(hist_cost.c_inv >= 0) & (hist_cost.year == first_point_year)].year)\n",
    "\n",
    "last_x = float(hist_cost[(hist_cost.c_inv >= 0) & (hist_cost.year == last_hist_point_year)].installed_cap)\n",
    "last_y = float(hist_cost[(hist_cost.c_inv >= 0) & (hist_cost.year == last_hist_point_year)].c_inv)\n",
    "last_year = int(hist_cost[(hist_cost.c_inv >= 0) & (hist_cost.year == last_hist_point_year)].year)\n",
    "\n",
    "prosp_x = float(future_cost[(future_cost.c_inv >= 0) & (future_cost.year == 2050)].installed_cap)\n",
    "prosp_y = float(future_cost[(future_cost.c_inv >= 0) & (future_cost.year == 2050)].c_inv)\n",
    "prosp_year = 2050\n",
    "\n",
    "first_prosp_x = float(future_cost[(future_cost.c_inv >= 0) & (future_cost.year == 2018)].installed_cap)\n",
    "first_prosp_y = float(future_cost[(future_cost.c_inv >= 0) & (future_cost.year == 2018)].c_inv)\n",
    "first_prosp_year = 2018\n",
    "\n",
    "# Add traces\n",
    "\n",
    "fig.add_trace(go.Scatter(x=future_installed_cap, y=future_c_inv,\n",
    "                         mode='markers',\n",
    "                         marker_symbol='circle-open',\n",
    "                         name='Ground Source Heat Pumps - Prospective',\n",
    "                         marker = dict(color=colour_gshp, size=marker_size)))\n",
    "\n",
    "fig.add_trace(go.Scatter(x=hist_installed_cap, y=hist_c_inv,\n",
    "                         #text = hist_year,\n",
    "                         #textposition='top right',\n",
    "                         mode='markers+text',\n",
    "                         marker_symbol='circle',\n",
    "                         textfont_size=years_font_size,\n",
    "                         name='Ground Source Heat Pumps - Historical',\n",
    "                         marker = dict(color=colour_gshp, size=marker_size)))\n",
    "\n",
    "fig.add_trace(go.Scatter(x=x_reg, y=y_reg,\n",
    "                         mode='lines',\n",
    "                         name='Ground Source Heat Pumps - Learning Curve',\n",
    "                         line=dict(color=colour_gshp, width=line_width)))\n",
    "\n",
    "fig.add_annotation(x=np.log10(first_x), y=np.log10(first_y),\n",
    "            text=str(first_year),\n",
    "            showarrow=True,\n",
    "            font=dict(\n",
    "                family=\"Times New Roman\",\n",
    "                size=years_font_size,\n",
    "                color=colour_main_axis))\n",
    "\n",
    "fig.add_annotation(x=np.log10(last_x), y=np.log10(last_y),\n",
    "            text=str(last_year),\n",
    "            showarrow=True,\n",
    "            font=dict(\n",
    "                family=\"Times New Roman\",\n",
    "                size=years_font_size,\n",
    "                color=colour_main_axis))\n",
    "\n",
    "fig.add_annotation(x=np.log10(prosp_x), y=np.log10(prosp_y),\n",
    "            text=str(prosp_year),\n",
    "            showarrow=True,\n",
    "            font=dict(\n",
    "                family=\"Times New Roman\",\n",
    "                size=years_font_size,\n",
    "                color=colour_main_axis))\n",
    "\n",
    "fig.add_annotation(x=np.log10(first_prosp_x), y=np.log10(first_prosp_y),\n",
    "            text=str(first_prosp_year),\n",
    "            showarrow=True,\n",
    "            font=dict(\n",
    "                family=\"Times New Roman\",\n",
    "                size=years_font_size,\n",
    "                color=colour_main_axis))"
   ]
  },
  {
   "cell_type": "markdown",
   "id": "281e2f09",
   "metadata": {},
   "source": [
    "## Decentralised Heat Pumps"
   ]
  },
  {
   "cell_type": "code",
   "execution_count": 47,
   "id": "56c05dc5",
   "metadata": {},
   "outputs": [],
   "source": [
    "# Historical data\n",
    "hist_cost = hist_cost_data[hist_cost_data.tech == 'DEC_HP_ELEC'][['year','c_inv','installed_cap']]\n",
    "\n",
    "# Prospective data \n",
    "future_cost = future_cost_data[future_cost_data.tech == 'DEC_HP_ELEC'][['year', 'cost_ratio', 'c_inv', 'installed_cap']]\n",
    "\n",
    "# Learning curve : log(capex)==a+b*log(Q)\n",
    "a = 7.89738474154832\n",
    "b = -0.59713477411"
   ]
  },
  {
   "cell_type": "code",
   "execution_count": 48,
   "id": "90271b9d",
   "metadata": {},
   "outputs": [
    {
     "data": {
      "application/vnd.plotly.v1+json": {
       "config": {
        "plotlyServerURL": "https://plot.ly"
       },
       "data": [
        {
         "legendgroup": "group",
         "legendgrouptitle": {
          "font": {
           "color": "rgb(10,10,10)"
          },
          "text": "Power capacity"
         },
         "marker": {
          "color": "rgb(0,0,205)",
          "size": 6,
          "symbol": "circle-open"
         },
         "mode": "markers",
         "name": "Onshore Wind - Prospective",
         "type": "scatter",
         "x": [
          541,
          595,
          698,
          903.212,
          1108.424,
          1313.635,
          1518.847,
          1724.059,
          1929.271,
          2134.482,
          2339.694,
          2544.906,
          2750.118,
          2957.488,
          3164.859,
          3372.229,
          3579.6,
          3786.97,
          3994.341,
          4201.711,
          4409.082,
          4616.452,
          4823.823,
          5031.193,
          5238.564,
          5445.934,
          5653.305,
          5860.675,
          6068.046,
          6275.417,
          6482.787,
          6690.158,
          6897.528
         ],
         "y": [
          1520.39,
          1447.57,
          1315.53,
          1347.82,
          1284.84,
          1234.83,
          1193.64,
          1158.81,
          1128.75,
          1102.39,
          1078.99,
          1058,
          1038.99,
          1021.49,
          1005.44,
          990.64,
          976.91,
          964.14,
          952.2,
          941,
          930.47,
          920.53,
          911.12,
          902.2,
          893.73,
          885.65,
          877.95,
          870.59,
          863.54,
          856.79,
          850.3,
          844.07,
          838.07
         ]
        },
        {
         "legendgroup": "group",
         "marker": {
          "color": "rgb(0,0,205)",
          "size": 6,
          "symbol": "circle"
         },
         "mode": "markers+text",
         "name": "Onshore Wind - Historical",
         "textfont": {
          "size": 10
         },
         "type": "scatter",
         "x": [
          178,
          216,
          261,
          292,
          340,
          405,
          453,
          495,
          541,
          595,
          698
         ],
         "y": [
          1914,
          1883,
          1937,
          1797,
          1745,
          1611,
          1604,
          1599,
          1520,
          1448,
          1316
         ]
        },
        {
         "legendgroup": "group",
         "line": {
          "color": "rgb(0,0,205)",
          "width": 1.5
         },
         "mode": "lines",
         "name": "Onshore Wind - Learning Curve",
         "type": "scatter",
         "x": [
          178.00000000000003,
          184.69841505847967,
          191.6489018264855,
          198.86094615196652,
          206.3443908499881,
          214.10944913595645,
          222.16671856435596,
          230.52719549202163,
          239.20229008568927,
          248.20384189430047,
          257.5441360073189,
          267.23591982110855,
          277.2924204362567,
          287.7273627095853,
          298.55498798548706,
          309.7900735321514,
          321.4479527092035,
          333.5445358942865,
          346.0963321971399,
          359.1204719908134,
          372.63473029076613,
          386.65755101375584,
          401.2080721496289,
          416.3061518803629,
          431.9723956820102,
          448.22818444652603,
          465.09570366187256,
          482.5979736902033,
          500.7588811854742,
          519.6032116933404,
          539.1566834778407,
          559.4459826210312,
          580.4987994434731,
          602.3438662952794,
          625.0109967692971,
          648.5311263899429,
          672.936354833219,
          698.2599897355406,
          724.5365921511494,
          751.802023720165,
          780.0934956116404,
          809.4496193084215,
          839.910459303119,
          871.5175877771109,
          904.3141413372019,
          938.344879887365,
          973.6562477159322,
          1010.2964368815681,
          1048.3154529845783,
          1087.7651834132794,
          1128.6994681585907,
          1171.1741732934863,
          1215.2472672175961,
          1260.9788997710052,
          1308.431484325224,
          1357.669782963388,
          1408.7609948658865,
          1461.7748480221135,
          1516.7836943934512,
          1573.8626086573922,
          1633.0894906675535,
          1694.545171769421,
          1758.3135251169167,
          1824.4815801403524,
          1893.1396413219884,
          1964.3814114412894,
          2038.304119458122,
          2115.0086532083433,
          2194.599697092981,
          2277.1858749488374,
          2362.8798982955477,
          2451.7987201614,
          2544.063694697862,
          2639.8007428006485,
          2739.1405239633514,
          2842.21861459823,
          2949.175693067418,
          3060.1577316772236,
          3175.31619589739,
          3294.808251077353,
          3418.7969769415076,
          3547.451590156281,
          3680.9476752727473,
          3819.467424359949,
          3963.199885656049,
          4112.341221576513,
          4267.094976431656,
          4427.672354218693,
          4594.2925068676395,
          4767.182833334282,
          4946.579289948507,
          5132.72671244151,
          5325.879150091391,
          5526.300212443166,
          5734.263429076354,
          5950.052622911271,
          6173.9622975632665,
          6406.298039273847,
          6647.376933966996,
          6897.528
         ],
         "y": [
          1970.111645221424,
          1953.1752957557574,
          1936.3845420658017,
          1919.7381325164308,
          1903.2348262323799,
          1886.873393005749,
          1870.6526132042968,
          1854.5712776805262,
          1838.6281876815572,
          1822.8221547597514,
          1807.1520006841426,
          1791.6165573525923,
          1776.2146667047211,
          1760.945180635584,
          1745.8069609100853,
          1730.7988790781326,
          1715.9198163905169,
          1701.1686637155192,
          1686.5443214562313,
          1672.0456994685887,
          1657.671716980108,
          1643.4213025093222,
          1629.293393785909,
          1615.2869376715119,
          1601.4008900812194,
          1587.6342159057583,
          1573.9858889343154,
          1560.4548917780485,
          1547.0402157942458,
          1533.7408610111383,
          1520.5558360533587,
          1507.484158068041,
          1494.524852651557,
          1481.676953776879,
          1468.9395037215706,
          1456.3115529963934,
          1443.792160274536,
          1431.380392321429,
          1419.0753239251994,
          1406.876037827685,
          1394.7816246560678,
          1382.7911828550855,
          1370.9038186198245,
          1359.1186458290956,
          1347.4347859793772,
          1335.8513681193313,
          1324.3675287848782,
          1312.9824119348325,
          1301.6951688870902,
          1290.5049582553654,
          1279.4109458864714,
          1268.4123047981402,
          1257.5082151173758,
          1246.6978640193379,
          1235.980445666756,
          1225.3551611498526,
          1214.8212184267945,
          1204.3778322646513,
          1194.0242241808598,
          1183.7596223851958,
          1173.5832617222406,
          1163.494383614345,
          1153.492236005082,
          1143.5760733031864,
          1133.7451563269758,
          1123.9987522492504,
          1114.336134542665,
          1104.7565829255711,
          1095.259383308328,
          1085.8438277400671,
          1076.5092143559227,
          1067.2548473247116,
          1058.0800367970644,
          1048.984098854001,
          1039.9663554559504,
          1031.0261343922054,
          1022.1627692308168,
          1013.3755992689131,
          1004.6639694834505,
          996.0272304823859,
          987.4647384562676,
          978.9758551302483,
          970.5599477164967,
          962.2163888670405,
          953.944556626988,
          945.7438343881793,
          937.613610843209,
          929.5532799398702,
          921.5622408359676,
          913.639897854534,
          905.7856604394249,
          897.9989431112973,
          890.2791654239659,
          882.6257519211341,
          875.0381320935018,
          867.5157403362288,
          860.0580159067852,
          852.6644028831387,
          845.3343501223277,
          838.0673112193643
         ]
        },
        {
         "marker": {
          "color": "rgb(30,144,255)",
          "size": 6,
          "symbol": "circle-open"
         },
         "mode": "markers",
         "name": "Offshore Wind - Prospective",
         "type": "scatter",
         "x": [
          23.626,
          28.355,
          34.367,
          66.02,
          97.67,
          129.32,
          160.97,
          192.62,
          224.28,
          255.93,
          287.58,
          319.23,
          350.88,
          401.71,
          452.54,
          503.37,
          554.2,
          605.03,
          655.86,
          706.69,
          757.52,
          808.35,
          859.18,
          910.01,
          960.84,
          1011.67,
          1062.5,
          1113.32,
          1164.15,
          1214.98,
          1265.81,
          1316.64,
          1367.47
         ],
         "y": [
          4496,
          3615,
          3092,
          2820,
          2513,
          2314,
          2170,
          2058,
          1968,
          1893,
          1829,
          1774,
          1725,
          1658,
          1601,
          1552,
          1508,
          1470,
          1436,
          1404,
          1376,
          1350,
          1326,
          1304,
          1283,
          1264,
          1246,
          1229,
          1213,
          1198,
          1183,
          1170,
          1157
         ]
        },
        {
         "marker": {
          "color": "rgb(30,144,255)",
          "size": 6,
          "symbol": "circle"
         },
         "mode": "markers+text",
         "name": "Offshore Wind - Historical",
         "textfont": {
          "size": 10
         },
         "type": "scatter",
         "x": [
          3.056,
          3.776,
          5.334,
          7.171,
          8.492,
          11.717,
          14.342,
          18.837,
          23.626,
          28.355,
          34.367
         ],
         "y": [
          4569,
          5233,
          4631,
          5554,
          5153,
          5168,
          4069,
          4597,
          4496,
          3615,
          3092
         ]
        },
        {
         "line": {
          "color": "rgb(30,144,255)",
          "width": 1.5
         },
         "mode": "lines",
         "name": "Offshore Wind - Learning Curve",
         "type": "scatter",
         "x": [
          3.056,
          3.2503396705285033,
          3.4570379495455956,
          3.676880755867331,
          3.910703987106811,
          4.1593966979670345,
          4.423904480650365,
          4.705233060237787,
          5.004452118708478,
          5.3226993621395895,
          5.66118484655074,
          6.021195578841196,
          6.404100410313601,
          6.811355241390762,
          7.244508557315,
          7.705207315878327,
          8.19520320956995,
          8.716359325951483,
          9.270657231584156,
          9.860204506443042,
          10.487242757465882,
          11.154156141706178,
          11.863480431497628,
          12.617912656097957,
          13.420321356472138,
          14.273757492206242,
          15.181466042022711,
          16.14689834200516,
          17.17372520844577,
          18.265850895211603,
          19.42742793869924,
          20.662872946821967,
          21.976883392063357,
          23.374455472448474,
          24.860903108344687,
          26.441878147322686,
          28.123391853901712,
          29.91183776588837,
          31.814016004214537,
          33.837159128706574,
          35.98895963809576,
          38.27759921883237,
          40.711779853914166,
          43.30075691001323,
          46.05437432870654,
          48.9831020556166,
          52.09807584977646,
          55.41113962458492,
          58.93489048134234,
          62.682726606596745,
          66.66889821541683,
          70.90856173429204,
          75.41783742967564,
          80.2138707012906,
          85.31489727324895,
          90.74031253085906,
          96.51074526675582,
          102.64813611675633,
          109.17582098367234,
          116.11861976627901,
          123.50293073080883,
          131.35683088379633,
          139.71018272791454,
          148.59474780671698,
          158.04430747000995,
          168.0947913190371,
          178.78441381985488,
          190.15381960433854,
          202.24623801129013,
          215.1076474552506,
          228.786950247991,
          243.33615853739397,
          258.8105920707151,
          275.26908853416717,
          292.77422726859487,
          311.39256721185916,
          331.19489997265015,
          352.25651899797947,
          374.65750585779114,
          398.4830347352236,
          423.8236962802632,
          450.77584205816896,
          479.441950902342,
          509.93101856461413,
          542.3589721444934,
          576.8491108731386,
          613.532574928029,
          652.548844060888,
          694.0462679347585,
          738.1826301867152,
          785.1257483609135,
          835.0541119930809,
          888.1575612725987,
          944.6380088626242,
          1004.7102076227889,
          1068.60256715356,
          1136.5580222669548,
          1208.8349566857657,
          1285.7081854834269,
          1367.47
         ],
         "y": [
          6959.219144504205,
          6834.207404939681,
          6711.4413102822255,
          6590.880520951991,
          6472.48542200805,
          6356.217110131399,
          6242.037380841691,
          6129.908715943699,
          6019.794271199283,
          5911.657864220721,
          5805.463962581605,
          5701.1776721413125,
          5598.7647255791135,
          5498.1914711343425,
          5399.42486154883,
          5302.432443207881,
          5207.182345476404,
          5113.643270226606,
          5021.784481553709,
          4931.575795676511,
          4842.987571019349,
          4755.990698472153,
          4670.5565918255425,
          4586.657178377742,
          4504.264889710145,
          4423.352652628669,
          4343.893880267821,
          4265.8624633545005,
          4189.232761628835,
          4113.979595419025,
          4040.0782373676066,
          3967.504404306335,
          3896.2342492769617,
          3826.244353695409,
          3757.5117196567044,
          3690.01376237808,
          3623.728302777888,
          3558.633560187813,
          3494.708145195953,
          3431.9310526185095,
          3370.2816545977385,
          3309.7396938238276,
          3250.285276878584,
          3191.8988676986987,
          3134.561281156374,
          3078.253676755324,
          3022.9575524400066,
          2968.6547385160247,
          2915.3273916797907,
          2862.957989155403,
          2811.529322936853,
          2761.0244941336746,
          2711.426907418151,
          2662.720265572267,
          2614.888564132637,
          2567.916086131607,
          2521.787396932829,
          2476.4873391596216,
          2432.0010277144183,
          2388.3138448876825,
          2345.411435554702,
          2303.2797024586494,
          2261.90480157837,
          2221.273137579407,
          2181.371359346711,
          2142.186355597621,
          2103.70525057363,
          2065.9153998095694,
          2028.8043859787613,
          1992.3600148128353,
          1956.5703110948207,
          1921.4235147242246,
          1886.908076852788,
          1853.0126560896715,
          1819.7261147747938,
          1787.0375153191167,
          1754.9361166106842,
          1723.4113704851989,
          1692.4529182600297,
          1662.0505873304432,
          1632.1943878270145,
          1602.8745093330551,
          1574.0813176610284,
          1545.8053516868567,
          1518.0373202410983,
          1490.7680990559795,
          1463.9887277672549,
          1437.690406969935,
          1411.8644953268931,
          1386.5025067294252,
          1361.5961075088055,
          1337.1371136979303,
          1313.1174883421654,
          1289.5293388584878,
          1266.364914442066,
          1243.6166035194396,
          1221.2769312474363,
          1199.3385570570179,
          1177.7942722412565,
          1156.6369975866319
         ]
        },
        {
         "marker": {
          "color": "rgb(255,215,0)",
          "size": 6,
          "symbol": "circle-open"
         },
         "mode": "markers",
         "name": "Residential PV - Prospective",
         "type": "scatter",
         "x": [
          58,
          74,
          93,
          150.67,
          208.35,
          266.02,
          323.7,
          381.37,
          439.05,
          496.72,
          554.39,
          612.07,
          669.74,
          751.15,
          832.56,
          913.96,
          995.37,
          1076.78,
          1158.18,
          1239.59,
          1321,
          1402.41,
          1483.81,
          1530.81,
          1577.81,
          1624.82,
          1671.82,
          1718.82,
          1765.82,
          1812.82,
          1859.82,
          1906.82,
          1953.82
         ],
         "y": [
          2704.85,
          2506.8,
          2442.72,
          1872.68,
          1639.53,
          1483.13,
          1368.42,
          1279.39,
          1207.57,
          1147.95,
          1097.36,
          1053.7,
          1015.48,
          968.8,
          928.75,
          893.88,
          863.13,
          835.74,
          811.12,
          788.83,
          768.51,
          749.88,
          732.72,
          723.41,
          714.49,
          705.94,
          697.73,
          689.83,
          682.24,
          674.93,
          667.88,
          661.07,
          654.5
         ]
        },
        {
         "marker": {
          "color": "rgb(255,215,0)",
          "size": 6,
          "symbol": "circle"
         },
         "mode": "markers+text",
         "name": "Residential PV - Historical",
         "textfont": {
          "size": 10
         },
         "type": "scatter",
         "x": [
          27,
          32,
          38,
          44,
          50,
          58,
          74,
          93
         ],
         "y": [
          3794,
          3379,
          3158,
          3103,
          3027,
          2705,
          2507,
          2443
         ]
        },
        {
         "line": {
          "color": "rgb(255,215,0)",
          "width": 1.5
         },
         "mode": "lines",
         "name": "Residential PV - Learning Curve",
         "type": "scatter",
         "x": [
          27.000000000000004,
          28.193357762954378,
          29.439460072219994,
          30.740638154233665,
          32.099326271993874,
          33.5180662791157,
          34.999512375167626,
          36.54643607118703,
          38.16173137466358,
          39.84842020369078,
          41.60965804041457,
          43.4487398343555,
          45.36910616664858,
          47.3743496867327,
          49.46822183353187,
          51.65463985370204,
          53.93769413007343,
          56.32165583399868,
          58.810984915922646,
          61.41033844912294,
          64.12457934223096,
          66.95878543683226,
          69.91825900716708,
          73.00853667970254,
          76.23539979113444,
          79.60488520419668,
          83.12329660151224,
          86.79721627861497,
          90.63351745820441,
          94.63937714867141,
          98.82228957095045,
          103.19008017881782,
          107.7509202988651,
          112.51334241753653,
          117.48625614382942,
          122.67896487752158,
          128.10118321410656,
          133.7630551190028,
          139.67517290503062,
          145.84859704866815,
          152.29487688215085,
          159.02607220013215,
          166.05477582132366,
          173.39413714732459,
          181.0578867627148,
          189.0603621224333,
          197.4165343744989,
          206.1420363682529,
          215.25319190052244,
          224.76704625441835,
          234.7013980879014,
          245.07483273176936,
          255.90675695936943,
          267.217435293071,
          279.0280279154319,
          291.3606302559775,
          304.2383143276534,
          317.68517189028523,
          331.72635952179513,
          346.38814568149616,
          361.6979598535104,
          377.68444386224917,
          394.37750545595696,
          411.8083742585665,
          430.00966019453205,
          449.01541449595913,
          468.8611934061412,
          489.5841246987073,
          511.2229771367966,
          533.8182330022353,
          557.4121638303761,
          582.0489094923086,
          607.7745607723743,
          634.6372455954817,
          662.6872190655317,
          691.9769574834013,
          722.5612565203786,
          754.4973337306986,
          787.8449355949923,
          822.6664492948645,
          859.0270194277595,
          896.9946698804132,
          936.6404310889498,
          978.0384729236509,
          1021.2662434470391,
          1066.4046138048457,
          1113.5380295209336,
          1162.7546684792196,
          1214.14660588815,
          1267.8099865363474,
          1323.845204661688,
          1382.357091770317,
          1443.4551127569505,
          1507.253570693422,
          1573.8718206685203,
          1643.4344930792595,
          1716.0717267912253,
          1791.919412604293,
          1871.119447479107,
          1953.8199999999993
         ],
         "y": [
          3791.3382077272263,
          3724.660274126696,
          3659.1549995150685,
          3594.8017604412125,
          3531.5802961568556,
          3469.470702237708,
          3408.4534243168737,
          3348.5092519283758,
          3289.6193124590445,
          3231.7650652066854,
          3174.9282955428307,
          3119.0911091780895,
          3064.235926528364,
          3010.3454771801644,
          2957.402794453267,
          2905.391210058959,
          2854.2943488522674,
          2804.0961236764606,
          2754.7807302982274,
          2706.3326424319253,
          2658.7366068513406,
          2611.9776385874156,
          2566.0410162104326,
          2520.912277195172,
          2476.5772133675805,
          2433.02186643152,
          2390.2325235741837,
          2348.1957131488134,
          2306.8982004333106,
          2266.326983463491,
          2226.4692889395706,
          2187.312568204672,
          2148.8444932940515,
          2111.052953053802,
          2073.926049327822,
          2037.4520932118414,
          2001.6196013733268,
          1966.4172924361092,
          1931.8340834286025,
          1897.8590862944611,
          1864.4816044646477,
          1831.6911294897366,
          1799.4773377314964,
          1767.8300871126055,
          1736.7394139235812,
          1706.1955296858218,
          1676.1888180698445,
          1646.7098318677124,
          1617.7492900187074,
          1589.2980746873206,
          1561.3472283926087,
          1533.8879511880746,
          1506.9115978911002,
          1480.4096753611448,
          1454.3738398257847,
          1428.7958942537975,
          1403.6677857744237,
          1378.981603142047,
          1354.7295742454276,
          1330.9040636607751,
          1307.497570247821,
          1284.5027247882024,
          1261.9122876653516,
          1239.7191465852052,
          1217.9163143369942,
          1196.4969265934126,
          1175.4542397494838,
          1154.7816287994146,
          1134.4725852508175,
          1114.5207150755841,
          1094.9197366968267,
          1075.6634790111939,
          1056.7458794459965,
          1038.160982050474,
          1019.9029356206589,
          1001.9659918571884,
          984.3445035555449,
          967.0329228280988,
          950.0257993574368,
          933.3177786804008,
          916.9036005023087,
          900.7780970408207,
          884.9361913989334,
          869.3728959665871,
          854.083310850384,
          839.0626223309235,
          824.3061013472663,
          809.8091020080574,
          795.5670601288215,
          781.5754917950027,
          767.8299919502534,
          754.3262330095698,
          741.0599634968054,
          728.0270067061556,
          715.223259387173,
          702.6446904529183,
          690.2873397108257,
          678.14731661589,
          666.2207990457789,
          654.5040320974949
         ]
        },
        {
         "marker": {
          "color": "rgb(255,140,0)",
          "size": 6,
          "symbol": "circle-open"
         },
         "mode": "markers",
         "name": "CSP - Prospective",
         "type": "scatter",
         "x": [
          5.83,
          6.38,
          6.48,
          13.13,
          19.78,
          26.44,
          33.09,
          39.74,
          46.39,
          53.04,
          59.7,
          66.35,
          73,
          93.8,
          114.6,
          135.4,
          156.2,
          177,
          197.8,
          218.6,
          239.4,
          260.2,
          281,
          295.5,
          310,
          324.5,
          339,
          353.5,
          368,
          382.5,
          397,
          411.5,
          426
         ],
         "y": [
          5161,
          6466,
          4448,
          5036,
          4238,
          3701,
          3307,
          3002,
          2757,
          2555,
          2384,
          2237,
          2110,
          1799,
          1574,
          1403,
          1267,
          1157,
          1065,
          987,
          921,
          863,
          812,
          780,
          750,
          723,
          697,
          673,
          651,
          631,
          611,
          593,
          576
         ]
        },
        {
         "marker": {
          "color": "rgb(255,140,0)",
          "size": 6,
          "symbol": "circle"
         },
         "mode": "markers+text",
         "name": "CSP - Historical",
         "textfont": {
          "size": 10
         },
         "type": "scatter",
         "x": [
          1.266,
          1.705,
          2.567,
          3.842,
          4.499,
          4.75,
          4.86,
          4.959,
          5.833,
          6.384,
          6.479
         ],
         "y": [
          8830,
          10403,
          8040,
          6307,
          5414,
          7232,
          7602,
          7196,
          5161,
          6466,
          4448
         ]
        },
        {
         "line": {
          "color": "rgb(255,140,0)",
          "width": 1.5
         },
         "mode": "lines",
         "name": "CSP - Learning Curve",
         "type": "scatter",
         "x": [
          1.266,
          1.3426373200696768,
          1.4239138809193395,
          1.5101105190265045,
          1.6015250713070892,
          1.698473404237084,
          1.8012905052721162,
          1.9103316403361044,
          2.025973581378497,
          2.1486159082416982,
          2.2786823893370527,
          2.4166224459000536,
          2.562912704884262,
          2.718058645859662,
          2.8825963476060275,
          3.0570943404363313,
          3.2421555706505623,
          3.438419483907777,
          3.6465642347150853,
          3.8673090296680837,
          4.101416612539351,
          4.349695899801805,
          4.61300477569349,
          4.892253056481617,
          5.188405634168377,
          5.502485810500979,
          5.835578832806051,
          6.1888356438657555,
          6.56347685879274,
          6.960796982645204,
          7.3821688833553285,
          7.829048535426509,
          8.302980050790262,
          8.805601014206186,
          9.338648141640299,
          9.90396328117346,
          10.503499777174737,
          11.13932921973012,
          11.813648602647945,
          12.528787914774181,
          13.287218190848156,
          14.091560049716765,
          14.944592749409663,
          15.849263790363443,
          16.808699099977044,
          17.826213833689394,
          18.905323829900254,
          20.049757758314914,
          21.263470003688894,
          22.550654329490374,
          23.91575836869243,
          25.363498991765518,
          26.898878604971575,
          28.52720243527535,
          30.254096861598153,
          32.08552885575399,
          34.02782660024314,
          36.08770135414386,
          38.27227064265604,
          40.58908285042424,
          43.04614330361743,
          45.651941930887986,
          48.415482598786674,
          51.346314222997655,
          54.45456376289186,
          57.75097121340635,
          61.246926715157166,
          64.95450991101303,
          68.88653168511992,
          73.05657842859736,
          77.47905898485952,
          82.16925443677107,
          87.14337090766962,
          92.41859555869776,
          98.01315597593465,
          103.94638315252783,
          110.23877828344838,
          116.91208360366862,
          123.9893575145274,
          131.49505425787214,
          139.4551084132751,
          147.8970245102889,
          156.84997206538205,
          166.34488637193388,
          176.41457539155454,
          187.09383311607172,
          198.41955979188464,
          210.43088942210193,
          223.16932498702153,
          236.67888185018438,
          251.00623984551288,
          266.20090457104715,
          282.3153784465992,
          299.40534212638124,
          317.5298468934513,
          336.75151870075666,
          357.1367745638055,
          378.75605205266686,
          401.6840526762743,
          425.99999999999994
         ],
         "y": [
          8830.000500101507,
          8783.462570577089,
          8733.195649968666,
          8679.266677793423,
          8621.747177579036,
          8560.713098842496,
          8496.244650048156,
          8428.426123059307,
          8357.345709620193,
          8283.095310427958,
          8205.770337372027,
          8125.469509536107,
          8042.294643572226,
          7956.3504390687385,
          7867.744259543848,
          7776.5859097040775,
          7682.9874096119975,
          7587.062766410445,
          7488.927744250638,
          7388.699633069892,
          7286.497016860243,
          7182.439542062544,
          7076.647686712386,
          6969.242530952617,
          6860.345529514916,
          6750.078286757328,
          6638.562334828462,
          6525.918915509698,
          6412.268766267041,
          6297.731911021723,
          6182.427456125848,
          6066.473392003965,
          5949.986400896013,
          5833.081671109456,
          5715.872718160888,
          5598.4712131578835,
          5480.986818742734,
          5363.52703288906,
          5246.197040812107,
          5129.099575222044,
          5012.334785118874,
          4896.0001132961825,
          4780.190182689804,
          4664.99669167671,
          4550.508318398773,
          4436.810634155942,
          4323.986025883684,
          4212.113627700865,
          4101.269261485803,
          3991.5253864109986,
          3882.9510573408893,
          3775.6118919712626,
          3669.570046565033,
          3564.884200115897,
          3461.6095467494897,
          3359.7977961512433,
          3259.497181790823,
          3160.752476695253,
          3063.605016506263,
          2968.0927295426336,
          2874.2501735744518,
          2782.1085790043176,
          2691.6958981398216,
          2603.0368602324193,
          2516.153031950153,
          2431.062882945371,
          2347.7818561736976,
          2266.3224426171064,
          2186.6942600617076,
          2108.9041355802165,
          2032.9561913694067,
          1958.8519335946528,
          1886.59034389653,
          1816.1679732184812,
          1747.579037619631,
          1680.8155157429783,
          1615.8672476162355,
          1552.7220344705202,
          1491.365739270948,
          1431.7823876626314,
          1373.9542690458254,
          1317.862037504867,
          1263.4848123268562,
          1210.8002778579853,
          1159.7847824576752,
          1110.413436323369,
          1062.6602079717195,
          1016.4980191751514,
          971.898838166021,
          928.8337709340586,
          887.2731504562788,
          847.1866237119442,
          808.543236348578,
          771.3115148783369,
          735.4595462970867,
          700.9550550315031,
          667.7654771320965,
          635.858031642494,
          605.1997890872526,
          575.7577370322424
         ]
        },
        {
         "marker": {
          "color": "rgb(50,205,50)",
          "size": 6,
          "symbol": "circle-open"
         },
         "mode": "markers",
         "name": "Ground Source Heat Pumps - Prospective",
         "type": "scatter",
         "x": [
          2.174,
          2.859,
          3.544,
          4.23,
          4.915,
          5.6,
          6.286,
          6.971,
          7.657,
          8.342,
          9.027,
          9.713,
          10.398,
          11.084,
          11.769,
          12.454,
          13.14,
          13.825,
          14.511,
          15.196,
          15.881,
          16.567,
          17.252,
          17.937,
          18.623,
          19.308,
          19.994,
          20.679,
          21.364,
          22.05,
          22.735,
          23.421,
          24.106
         ],
         "y": [
          2784.93,
          2364.46,
          2079.7,
          1871.35,
          1710.83,
          1582.54,
          1477.11,
          1388.59,
          1312.97,
          1247.44,
          1189.99,
          1139.11,
          1093.66,
          1052.76,
          1015.71,
          981.95,
          951.03,
          922.59,
          896.32,
          871.95,
          849.28,
          828.12,
          808.32,
          789.73,
          772.24,
          755.76,
          740.18,
          725.43,
          711.44,
          698.15,
          685.51,
          673.46,
          661.96
         ]
        },
        {
         "marker": {
          "color": "rgb(50,205,50)",
          "size": 6,
          "symbol": "circle"
         },
         "mode": "markers+text",
         "name": "Ground Source Heat Pumps - Historical",
         "textfont": {
          "size": 10
         },
         "type": "scatter",
         "x": [
          0.02,
          0.039,
          0.061,
          0.084,
          0.106,
          0.126,
          0.142,
          0.157,
          0.172,
          0.198,
          0.224,
          0.252,
          0.285,
          0.325,
          0.367,
          0.417,
          0.467,
          0.522,
          0.587,
          0.661,
          0.75,
          0.867,
          0.992,
          1.143
         ],
         "y": [
          34647,
          30597,
          27279,
          25591,
          23285,
          20361,
          17605,
          15805,
          14286,
          13611,
          12655,
          8662,
          8549,
          8212,
          7762,
          7256,
          6806,
          6524,
          5231,
          4893,
          4781,
          4612,
          4443,
          4218
         ]
        },
        {
         "line": {
          "color": "rgb(50,205,50)",
          "width": 1.5
         },
         "mode": "lines",
         "name": "Ground Source Heat Pumps - Learning Curve",
         "type": "scatter",
         "x": [
          0.020000000000000004,
          0.02148583167092517,
          0.023082048129566553,
          0.024796850036603015,
          0.02663904729278135,
          0.028618104300325745,
          0.030744188586888946,
          0.03302822304185373,
          0.03548194203335206,
          0.03811795169430634,
          0.040949794687216136,
          0.0439920197804236,
          0.047260256593309596,
          0.05077129589442907,
          0.054543175865121876,
          0.05859527477178384,
          0.06294841052290778,
          0.06762494762237456,
          0.07264891206847356,
          0.07804611478895337,
          0.08384428424625777,
          0.09007320889421487,
          0.09676489021805908,
          0.10395370714403852,
          0.11167659266327315,
          0.11997322357727817,
          0.1288862243399835,
          0.13846138604349922,
          0.14874790167268057,
          0.15979861883712715,
          0.17167031127904234,
          0.18442397055184154,
          0.19812511936802638,
          0.2128441482261685,
          0.22865667704644513,
          0.24564394367265105,
          0.2638932212366402,
          0.28349826652943333,
          0.3045598016825243,
          0.3271860316340534,
          0.35149320003836343,
          0.37760618647495525,
          0.4056591480250434,
          0.43579620851185014,
          0.4681721989456509,
          0.5029534529776573,
          0.5403186614494263,
          0.5804597904280988,
          0.6235830674439315,
          0.6699100409969745,
          0.7196787187761786,
          0.7731447904386036,
          0.8305829412308277,
          0.8922882632013747,
          0.958577771254346,
          1.0297920318330742,
          1.1062969126012723,
          1.1884854621107575,
          1.2767799291126722,
          1.371633931886533,
          1.4735347887321644,
          1.583006021597578,
          1.7006100457053255,
          1.826951058995449,
          1.9626781462297347,
          2.1084886137047767,
          2.2651315717061595,
          2.433411783108835,
          2.6141937978961147,
          2.8084063948386273,
          3.017047353152628,
          3.241188578652384,
          3.481981610732516,
          3.740663538472786,
          4.01856335625968,
          4.317108791577178,
          4.637833640044925,
          4.9823856453879705,
          5.35253496482199,
          5.750183263345332,
          6.177373483660448,
          6.63630034191825,
          7.1293216032079325,
          7.6589701947207995,
          8.227967218820202,
          8.839235932873068,
          9.495916767665197,
          10.201383461558512,
          10.959260393280305,
          11.773441202392888,
          12.648108793107422,
          13.587756824212727,
          14.597212795524984,
          15.68166284946624,
          16.84667841519162,
          18.098244832150773,
          19.442792100139144,
          20.887227913819164,
          22.4389731514284,
          24.106000000000005
         ],
         "y": [
          45778.1035548452,
          43860.508794594294,
          42023.23998450286,
          40262.932358248654,
          38576.36209589574,
          36960.440419804334,
          35412.20793785651,
          33928.82922363797,
          32507.58762365016,
          31145.880282042493,
          29841.21337375321,
          28591.197537328684,
          27393.543499056992,
          26246.057880401713,
          25146.639181057766,
          24093.27393027265,
          23084.032999384624,
          22117.068068824672,
          21190.608243111732,
          20302.956807642393,
          19452.48812133498,
          18637.644639437032,
          17856.934061044765,
          17108.926596109497,
          16392.252346925914,
          15705.598799307541,
          15047.708418853643,
          14417.376347906089,
          13813.44819897813,
          13234.81794061405,
          12680.425871807825,
          12149.256681271205,
          11640.337587996903,
          11152.736559711579,
          10685.560605955887,
          10237.95414266552,
          9809.097425258173,
          9398.2050473568,
          9004.524502399678,
          8627.334805503093,
          8265.945173052667,
          7919.693757605175,
          7587.946435783931,
          7270.095646947927,
          6965.559280507848,
          6673.7796098511935,
          6394.222270924132,
          6126.375283599425,
          5869.748114038192,
          5623.870776328318,
          5388.2929717542465,
          5162.583264121775,
          4946.328289627736,
          4739.131999827149,
          4540.614936311868,
          4350.4135357720525,
          4168.179464167788,
          3993.5789787916824,
          3826.292317053845,
          3666.013110870037,
          3512.447825580462,
          3365.315222371632,
          3224.345843216793,
          3089.281517391638,
          2959.874888661532,
          2835.888962274356,
          2717.0966709293134,
          2603.280458926845,
          2494.2318837380344,
          2389.751234263848,
          2289.6471650850694,
          2193.7363460331135,
          2101.843126439926,
          2013.7992134520978,
          1929.443363820045,
          1848.6210885977987,
          1771.1843702126102,
          1696.9913913861967,
          1625.9062754111676,
          1557.7988373070073,
          1492.5443453998453,
          1430.0232928894047,
          1370.121178984749,
          1312.7282992080186,
          1257.7395444821163,
          1205.0542086343835,
          1154.575803963751,
          1106.2118845335624,
          1059.8738768664816,
          1015.4769177314013,
          972.9396987252773,
          932.1843173652685,
          893.1361344184556,
          855.7236372078701,
          819.8783086444726,
          785.5345017452545,
          752.6293194076263,
          721.1024992199317,
          690.8963030971214,
          661.9554115394689
         ]
        },
        {
         "marker": {
          "color": "rgb(0,128,128)",
          "size": 6,
          "symbol": "circle-open"
         },
         "mode": "markers",
         "name": "Decentralized Heat Pumps - Prospective",
         "type": "scatter",
         "x": [
          6.22,
          6.487,
          7.069,
          7.651,
          8.233,
          8.816,
          9.398,
          9.98,
          10.563,
          11.145,
          11.727,
          12.309,
          12.892,
          13.474,
          14.056,
          14.638,
          15.221,
          15.803,
          16.385,
          16.967,
          17.55,
          18.132,
          18.714,
          19.296,
          19.879,
          20.461,
          21.043,
          21.625,
          22.208,
          22.79,
          23.372,
          23.954,
          24.537
         ],
         "y": [
          903,
          881,
          837,
          798,
          764,
          733,
          706,
          681,
          658,
          638,
          619,
          601,
          585,
          569,
          555,
          542,
          529,
          518,
          507,
          496,
          486,
          477,
          468,
          459,
          451,
          444,
          436,
          429,
          422,
          416,
          410,
          404,
          398
         ]
        },
        {
         "marker": {
          "color": "rgb(0,128,128)",
          "size": 6,
          "symbol": "circle"
         },
         "mode": "markers+text",
         "name": "Decentralized Heat Pumps - Historical",
         "textfont": {
          "size": 10
         },
         "type": "scatter",
         "x": [
          null,
          null,
          null,
          null,
          null,
          null,
          null,
          null,
          null,
          null,
          null,
          null,
          null,
          null,
          null,
          null,
          null,
          null,
          6.22,
          null,
          null
         ],
         "y": [
          null,
          null,
          null,
          null,
          null,
          null,
          null,
          null,
          null,
          null,
          null,
          null,
          null,
          null,
          null,
          null,
          null,
          null,
          903,
          null,
          null
         ]
        },
        {
         "line": {
          "color": "rgb(0,128,128)",
          "width": 1.5
         },
         "mode": "lines",
         "name": "Decentralized Heat Pumps - Learning Curve",
         "type": "scatter",
         "x": [
          6.219999999999999,
          6.306826744856881,
          6.394865528881359,
          6.484133271272075,
          6.574647127407569,
          6.666424492143172,
          6.759483003153942,
          6.853840544324244,
          6.949515249184661,
          7.046525504396876,
          7.144889953287194,
          7.244627499429409,
          7.345757310277658,
          7.448298820850016,
          7.552271737463482,
          7.657696041521133,
          7.7645919933521155,
          7.872980136105262,
          7.98288129969705,
          8.094316604814667,
          8.207307466974967,
          8.321875600640084,
          8.438043023390483,
          8.555832060156291,
          8.675265347507665,
          8.796365838005059,
          8.919156804610244,
          9.043661845158868,
          9.169904886895447,
          9.297910191071711,
          9.427702357609071,
          9.559306329826233,
          9.692747399232763,
          9.82805121038958,
          9.965243765837307,
          10.104351431093415,
          10.24540093971911,
          10.388419398456968,
          10.533434292440266,
          10.680473490475062,
          10.82956525039599,
          10.980738224496813,
          11.134021465036781,
          11.289444429823886,
          11.447036987876018,
          11.606829425161163,
          11.76885245041773,
          11.933137201056109,
          12.099715249142646,
          12.268618607467122,
          12.439879735694925,
          12.613531546605138,
          12.789607412415638,
          12.968141171196587,
          13.149167133373357,
          13.332720088320286,
          13.518835311046468,
          13.707548568974834,
          13.898896128815943,
          14.092914763537655,
          14.289641759432095,
          14.489114923281372,
          14.691372589623139,
          14.89645362811777,
          15.104397451018253,
          15.315244020744377,
          15.529033857562714,
          15.745808047373725,
          15.965608249607607,
          16.188476705230382,
          16.41445624486167,
          16.643590297005893,
          16.875922896398272,
          17.1114986924674,
          17.35036295791592,
          17.592561597420946,
          17.838141156456036,
          18.087148830236202,
          18.33963247278787,
          18.595640606145395,
          18.85522242967595,
          19.118427829534667,
          19.385307388251675,
          19.655912394452955,
          19.930294852717005,
          20.208507493568977,
          20.490603783614397,
          20.776637935814303,
          21.0666649199038,
          21.36074047295621,
          21.658921110094383,
          21.96126413535186,
          22.267827652685437,
          22.578670577141505,
          22.89385264617833,
          23.21343443114631,
          23.53747734892847,
          23.866043673743604,
          24.199196549113914,
          24.537
         ],
         "y": [
          903.2142330267694,
          895.7683493810441,
          888.3838478318793,
          881.0602223598461,
          873.7969711170226,
          866.5935963925992,
          859.4496045787789,
          852.364506136948,
          845.3378155641327,
          838.3690513597321,
          831.4577359925219,
          824.6033958679301,
          817.8055612955861,
          811.0637664571374,
          804.377549374325,
          797.7464518773292,
          791.1700195733746,
          784.6478018155924,
          778.1793516721376,
          771.7642258955657,
          765.4019848924607,
          759.0921926933075,
          752.8344169226232,
          746.6282287693225,
          740.47320295734,
          734.3689177164831,
          728.3149547535322,
          722.3108992235794,
          716.3563397015995,
          710.4508681542561,
          704.5940799119429,
          698.7855736410556,
          693.0249513164865,
          687.3118181943544,
          681.6457827849507,
          676.0264568259175,
          670.4534552556379,
          664.9263961868511,
          659.4449008804856,
          654.008593719705,
          648.6171021841676,
          643.2700568245008,
          637.9670912369862,
          632.7078420384507,
          627.4919488413647,
          622.3190542291478,
          617.1888037316774,
          612.1008458009986,
          607.0548317872351,
          602.0504159146952,
          597.0872552581825,
          592.1650097194924,
          587.2833420041095,
          582.4419175980958,
          577.640404745165,
          572.878474423951,
          568.155800325463,
          563.4720588307234,
          558.8269289885922,
          554.2200924937739,
          549.651233665008,
          545.1200394234336,
          540.6261992711391,
          536.1694052698822,
          531.7493520199922,
          527.3657366394391,
          523.0182587430819,
          518.706620422082,
          514.4305262234919,
          510.1896831300064,
          505.98380053988734,
          501.8125902470462,
          497.67576642129904,
          493.5730455887766,
          489.5041466125009,
          485.46879067312176,
          481.46670124980784,
          477.4976041013016,
          473.56122724712384,
          469.65730094893803,
          465.7855576920676,
          461.9457321671618,
          458.1375612520185,
          454.3607839935523,
          450.6151415899124,
          446.90037737274906,
          443.2162367896265,
          439.5624673865773,
          435.9388187908061,
          432.34504269352993,
          428.7808928329659,
          425.24612497745375,
          421.7404969087209,
          418.2637684052859,
          414.81570122599464,
          411.39605909369794,
          408.0046076790584,
          404.6411145844937,
          401.3053493282531,
          397.9970833286224
         ]
        }
       ],
       "layout": {
        "annotations": [
         {
          "font": {
           "color": "rgb(10,10,10)",
           "family": "Times New Roman",
           "size": 10
          },
          "showarrow": true,
          "text": "2010",
          "x": 2.250420002308894,
          "y": 3.281941933440825
         },
         {
          "font": {
           "color": "rgb(10,10,10)",
           "family": "Times New Roman",
           "size": 10
          },
          "showarrow": true,
          "text": "2020",
          "x": 2.843855422623161,
          "y": 3.1192558892779365
         },
         {
          "font": {
           "color": "rgb(10,10,10)",
           "family": "Times New Roman",
           "size": 10
          },
          "showarrow": true,
          "text": "2050",
          "x": 3.8386934721408297,
          "y": 2.923280294697208
         },
         {
          "font": {
           "color": "rgb(10,10,10)",
           "family": "Times New Roman",
           "size": 10
          },
          "showarrow": true,
          "text": "2010",
          "x": 0.48515334990365233,
          "y": 3.659821158055705
         },
         {
          "font": {
           "color": "rgb(10,10,10)",
           "family": "Times New Roman",
           "size": 10
          },
          "showarrow": true,
          "text": "2020",
          "x": 1.5361416229050349,
          "y": 3.4902394852462875
         },
         {
          "font": {
           "color": "rgb(10,10,10)",
           "family": "Times New Roman",
           "size": 10
          },
          "showarrow": true,
          "text": "2050",
          "x": 3.135917807416897,
          "y": 3.0633333589517497
         },
         {
          "font": {
           "color": "rgb(10,10,10)",
           "family": "Times New Roman",
           "size": 10
          },
          "showarrow": true,
          "text": "2013",
          "x": 1.4313637641589874,
          "y": 3.5790973265526436
         },
         {
          "font": {
           "color": "rgb(10,10,10)",
           "family": "Times New Roman",
           "size": 10
          },
          "showarrow": true,
          "text": "2020",
          "x": 1.968482948553935,
          "y": 3.3879234669734366
         },
         {
          "font": {
           "color": "rgb(10,10,10)",
           "family": "Times New Roman",
           "size": 10
          },
          "showarrow": true,
          "text": "2050",
          "x": 3.2908845508834896,
          "y": 2.8159096508867747
         },
         {
          "font": {
           "color": "rgb(10,10,10)",
           "family": "Times New Roman",
           "size": 10
          },
          "showarrow": true,
          "text": "2010",
          "x": 0.1024337056813363,
          "y": 3.9459607035775686
         },
         {
          "font": {
           "color": "rgb(10,10,10)",
           "family": "Times New Roman",
           "size": 10
          },
          "showarrow": true,
          "text": "2020",
          "x": 0.8115079799453266,
          "y": 3.6481647785740012
         },
         {
          "font": {
           "color": "rgb(10,10,10)",
           "family": "Times New Roman",
           "size": 10
          },
          "showarrow": true,
          "text": "2050",
          "x": 2.629409599102719,
          "y": 2.760422483423212
         },
         {
          "font": {
           "color": "rgb(10,10,10)",
           "family": "Times New Roman",
           "size": 10
          },
          "showarrow": true,
          "text": "1985",
          "x": -1.6989700043360187,
          "y": 4.539665636066127
         },
         {
          "font": {
           "color": "rgb(10,10,10)",
           "family": "Times New Roman",
           "size": 10
          },
          "showarrow": true,
          "text": "2008",
          "x": 0.05804623039528174,
          "y": 3.6251065754034677
         },
         {
          "font": {
           "color": "rgb(10,10,10)",
           "family": "Times New Roman",
           "size": 10
          },
          "showarrow": true,
          "text": "2050",
          "x": 1.3821251522253217,
          "y": 2.8208317472884548
         },
         {
          "font": {
           "color": "rgb(10,10,10)",
           "family": "Times New Roman",
           "size": 10
          },
          "showarrow": true,
          "text": "2018",
          "x": 0.3372595397502757,
          "y": 3.4448142835328017
         },
         {
          "font": {
           "color": "rgb(10,10,10)",
           "family": "Times New Roman",
           "size": 10
          },
          "showarrow": true,
          "text": "2018",
          "x": 0.7937903846908186,
          "y": 2.9556877503135057
         },
         {
          "font": {
           "color": "rgb(10,10,10)",
           "family": "Times New Roman",
           "size": 10
          },
          "showarrow": true,
          "text": "2018",
          "x": 0.7937903846908186,
          "y": 2.9556877503135057
         },
         {
          "font": {
           "color": "rgb(10,10,10)",
           "family": "Times New Roman",
           "size": 10
          },
          "showarrow": true,
          "text": "2050",
          "x": 1.3898214629105228,
          "y": 2.5998830720736876
         }
        ],
        "font": {
         "color": "rgb(10,10,10)",
         "family": "Times New Roman",
         "size": 16
        },
        "legend": {
         "x": 1.2
        },
        "template": {
         "data": {
          "bar": [
           {
            "error_x": {
             "color": "#2a3f5f"
            },
            "error_y": {
             "color": "#2a3f5f"
            },
            "marker": {
             "line": {
              "color": "#E5ECF6",
              "width": 0.5
             },
             "pattern": {
              "fillmode": "overlay",
              "size": 10,
              "solidity": 0.2
             }
            },
            "type": "bar"
           }
          ],
          "barpolar": [
           {
            "marker": {
             "line": {
              "color": "#E5ECF6",
              "width": 0.5
             },
             "pattern": {
              "fillmode": "overlay",
              "size": 10,
              "solidity": 0.2
             }
            },
            "type": "barpolar"
           }
          ],
          "carpet": [
           {
            "aaxis": {
             "endlinecolor": "#2a3f5f",
             "gridcolor": "white",
             "linecolor": "white",
             "minorgridcolor": "white",
             "startlinecolor": "#2a3f5f"
            },
            "baxis": {
             "endlinecolor": "#2a3f5f",
             "gridcolor": "white",
             "linecolor": "white",
             "minorgridcolor": "white",
             "startlinecolor": "#2a3f5f"
            },
            "type": "carpet"
           }
          ],
          "choropleth": [
           {
            "colorbar": {
             "outlinewidth": 0,
             "ticks": ""
            },
            "type": "choropleth"
           }
          ],
          "contour": [
           {
            "colorbar": {
             "outlinewidth": 0,
             "ticks": ""
            },
            "colorscale": [
             [
              0,
              "#0d0887"
             ],
             [
              0.1111111111111111,
              "#46039f"
             ],
             [
              0.2222222222222222,
              "#7201a8"
             ],
             [
              0.3333333333333333,
              "#9c179e"
             ],
             [
              0.4444444444444444,
              "#bd3786"
             ],
             [
              0.5555555555555556,
              "#d8576b"
             ],
             [
              0.6666666666666666,
              "#ed7953"
             ],
             [
              0.7777777777777778,
              "#fb9f3a"
             ],
             [
              0.8888888888888888,
              "#fdca26"
             ],
             [
              1,
              "#f0f921"
             ]
            ],
            "type": "contour"
           }
          ],
          "contourcarpet": [
           {
            "colorbar": {
             "outlinewidth": 0,
             "ticks": ""
            },
            "type": "contourcarpet"
           }
          ],
          "heatmap": [
           {
            "colorbar": {
             "outlinewidth": 0,
             "ticks": ""
            },
            "colorscale": [
             [
              0,
              "#0d0887"
             ],
             [
              0.1111111111111111,
              "#46039f"
             ],
             [
              0.2222222222222222,
              "#7201a8"
             ],
             [
              0.3333333333333333,
              "#9c179e"
             ],
             [
              0.4444444444444444,
              "#bd3786"
             ],
             [
              0.5555555555555556,
              "#d8576b"
             ],
             [
              0.6666666666666666,
              "#ed7953"
             ],
             [
              0.7777777777777778,
              "#fb9f3a"
             ],
             [
              0.8888888888888888,
              "#fdca26"
             ],
             [
              1,
              "#f0f921"
             ]
            ],
            "type": "heatmap"
           }
          ],
          "heatmapgl": [
           {
            "colorbar": {
             "outlinewidth": 0,
             "ticks": ""
            },
            "colorscale": [
             [
              0,
              "#0d0887"
             ],
             [
              0.1111111111111111,
              "#46039f"
             ],
             [
              0.2222222222222222,
              "#7201a8"
             ],
             [
              0.3333333333333333,
              "#9c179e"
             ],
             [
              0.4444444444444444,
              "#bd3786"
             ],
             [
              0.5555555555555556,
              "#d8576b"
             ],
             [
              0.6666666666666666,
              "#ed7953"
             ],
             [
              0.7777777777777778,
              "#fb9f3a"
             ],
             [
              0.8888888888888888,
              "#fdca26"
             ],
             [
              1,
              "#f0f921"
             ]
            ],
            "type": "heatmapgl"
           }
          ],
          "histogram": [
           {
            "marker": {
             "pattern": {
              "fillmode": "overlay",
              "size": 10,
              "solidity": 0.2
             }
            },
            "type": "histogram"
           }
          ],
          "histogram2d": [
           {
            "colorbar": {
             "outlinewidth": 0,
             "ticks": ""
            },
            "colorscale": [
             [
              0,
              "#0d0887"
             ],
             [
              0.1111111111111111,
              "#46039f"
             ],
             [
              0.2222222222222222,
              "#7201a8"
             ],
             [
              0.3333333333333333,
              "#9c179e"
             ],
             [
              0.4444444444444444,
              "#bd3786"
             ],
             [
              0.5555555555555556,
              "#d8576b"
             ],
             [
              0.6666666666666666,
              "#ed7953"
             ],
             [
              0.7777777777777778,
              "#fb9f3a"
             ],
             [
              0.8888888888888888,
              "#fdca26"
             ],
             [
              1,
              "#f0f921"
             ]
            ],
            "type": "histogram2d"
           }
          ],
          "histogram2dcontour": [
           {
            "colorbar": {
             "outlinewidth": 0,
             "ticks": ""
            },
            "colorscale": [
             [
              0,
              "#0d0887"
             ],
             [
              0.1111111111111111,
              "#46039f"
             ],
             [
              0.2222222222222222,
              "#7201a8"
             ],
             [
              0.3333333333333333,
              "#9c179e"
             ],
             [
              0.4444444444444444,
              "#bd3786"
             ],
             [
              0.5555555555555556,
              "#d8576b"
             ],
             [
              0.6666666666666666,
              "#ed7953"
             ],
             [
              0.7777777777777778,
              "#fb9f3a"
             ],
             [
              0.8888888888888888,
              "#fdca26"
             ],
             [
              1,
              "#f0f921"
             ]
            ],
            "type": "histogram2dcontour"
           }
          ],
          "mesh3d": [
           {
            "colorbar": {
             "outlinewidth": 0,
             "ticks": ""
            },
            "type": "mesh3d"
           }
          ],
          "parcoords": [
           {
            "line": {
             "colorbar": {
              "outlinewidth": 0,
              "ticks": ""
             }
            },
            "type": "parcoords"
           }
          ],
          "pie": [
           {
            "automargin": true,
            "type": "pie"
           }
          ],
          "scatter": [
           {
            "marker": {
             "colorbar": {
              "outlinewidth": 0,
              "ticks": ""
             }
            },
            "type": "scatter"
           }
          ],
          "scatter3d": [
           {
            "line": {
             "colorbar": {
              "outlinewidth": 0,
              "ticks": ""
             }
            },
            "marker": {
             "colorbar": {
              "outlinewidth": 0,
              "ticks": ""
             }
            },
            "type": "scatter3d"
           }
          ],
          "scattercarpet": [
           {
            "marker": {
             "colorbar": {
              "outlinewidth": 0,
              "ticks": ""
             }
            },
            "type": "scattercarpet"
           }
          ],
          "scattergeo": [
           {
            "marker": {
             "colorbar": {
              "outlinewidth": 0,
              "ticks": ""
             }
            },
            "type": "scattergeo"
           }
          ],
          "scattergl": [
           {
            "marker": {
             "colorbar": {
              "outlinewidth": 0,
              "ticks": ""
             }
            },
            "type": "scattergl"
           }
          ],
          "scattermapbox": [
           {
            "marker": {
             "colorbar": {
              "outlinewidth": 0,
              "ticks": ""
             }
            },
            "type": "scattermapbox"
           }
          ],
          "scatterpolar": [
           {
            "marker": {
             "colorbar": {
              "outlinewidth": 0,
              "ticks": ""
             }
            },
            "type": "scatterpolar"
           }
          ],
          "scatterpolargl": [
           {
            "marker": {
             "colorbar": {
              "outlinewidth": 0,
              "ticks": ""
             }
            },
            "type": "scatterpolargl"
           }
          ],
          "scatterternary": [
           {
            "marker": {
             "colorbar": {
              "outlinewidth": 0,
              "ticks": ""
             }
            },
            "type": "scatterternary"
           }
          ],
          "surface": [
           {
            "colorbar": {
             "outlinewidth": 0,
             "ticks": ""
            },
            "colorscale": [
             [
              0,
              "#0d0887"
             ],
             [
              0.1111111111111111,
              "#46039f"
             ],
             [
              0.2222222222222222,
              "#7201a8"
             ],
             [
              0.3333333333333333,
              "#9c179e"
             ],
             [
              0.4444444444444444,
              "#bd3786"
             ],
             [
              0.5555555555555556,
              "#d8576b"
             ],
             [
              0.6666666666666666,
              "#ed7953"
             ],
             [
              0.7777777777777778,
              "#fb9f3a"
             ],
             [
              0.8888888888888888,
              "#fdca26"
             ],
             [
              1,
              "#f0f921"
             ]
            ],
            "type": "surface"
           }
          ],
          "table": [
           {
            "cells": {
             "fill": {
              "color": "#EBF0F8"
             },
             "line": {
              "color": "white"
             }
            },
            "header": {
             "fill": {
              "color": "#C8D4E3"
             },
             "line": {
              "color": "white"
             }
            },
            "type": "table"
           }
          ]
         },
         "layout": {
          "annotationdefaults": {
           "arrowcolor": "#2a3f5f",
           "arrowhead": 0,
           "arrowwidth": 1
          },
          "autotypenumbers": "strict",
          "coloraxis": {
           "colorbar": {
            "outlinewidth": 0,
            "ticks": ""
           }
          },
          "colorscale": {
           "diverging": [
            [
             0,
             "#8e0152"
            ],
            [
             0.1,
             "#c51b7d"
            ],
            [
             0.2,
             "#de77ae"
            ],
            [
             0.3,
             "#f1b6da"
            ],
            [
             0.4,
             "#fde0ef"
            ],
            [
             0.5,
             "#f7f7f7"
            ],
            [
             0.6,
             "#e6f5d0"
            ],
            [
             0.7,
             "#b8e186"
            ],
            [
             0.8,
             "#7fbc41"
            ],
            [
             0.9,
             "#4d9221"
            ],
            [
             1,
             "#276419"
            ]
           ],
           "sequential": [
            [
             0,
             "#0d0887"
            ],
            [
             0.1111111111111111,
             "#46039f"
            ],
            [
             0.2222222222222222,
             "#7201a8"
            ],
            [
             0.3333333333333333,
             "#9c179e"
            ],
            [
             0.4444444444444444,
             "#bd3786"
            ],
            [
             0.5555555555555556,
             "#d8576b"
            ],
            [
             0.6666666666666666,
             "#ed7953"
            ],
            [
             0.7777777777777778,
             "#fb9f3a"
            ],
            [
             0.8888888888888888,
             "#fdca26"
            ],
            [
             1,
             "#f0f921"
            ]
           ],
           "sequentialminus": [
            [
             0,
             "#0d0887"
            ],
            [
             0.1111111111111111,
             "#46039f"
            ],
            [
             0.2222222222222222,
             "#7201a8"
            ],
            [
             0.3333333333333333,
             "#9c179e"
            ],
            [
             0.4444444444444444,
             "#bd3786"
            ],
            [
             0.5555555555555556,
             "#d8576b"
            ],
            [
             0.6666666666666666,
             "#ed7953"
            ],
            [
             0.7777777777777778,
             "#fb9f3a"
            ],
            [
             0.8888888888888888,
             "#fdca26"
            ],
            [
             1,
             "#f0f921"
            ]
           ]
          },
          "colorway": [
           "#636efa",
           "#EF553B",
           "#00cc96",
           "#ab63fa",
           "#FFA15A",
           "#19d3f3",
           "#FF6692",
           "#B6E880",
           "#FF97FF",
           "#FECB52"
          ],
          "font": {
           "color": "#2a3f5f"
          },
          "geo": {
           "bgcolor": "white",
           "lakecolor": "white",
           "landcolor": "#E5ECF6",
           "showlakes": true,
           "showland": true,
           "subunitcolor": "white"
          },
          "hoverlabel": {
           "align": "left"
          },
          "hovermode": "closest",
          "mapbox": {
           "style": "light"
          },
          "paper_bgcolor": "white",
          "plot_bgcolor": "#E5ECF6",
          "polar": {
           "angularaxis": {
            "gridcolor": "white",
            "linecolor": "white",
            "ticks": ""
           },
           "bgcolor": "#E5ECF6",
           "radialaxis": {
            "gridcolor": "white",
            "linecolor": "white",
            "ticks": ""
           }
          },
          "scene": {
           "xaxis": {
            "backgroundcolor": "#E5ECF6",
            "gridcolor": "white",
            "gridwidth": 2,
            "linecolor": "white",
            "showbackground": true,
            "ticks": "",
            "zerolinecolor": "white"
           },
           "yaxis": {
            "backgroundcolor": "#E5ECF6",
            "gridcolor": "white",
            "gridwidth": 2,
            "linecolor": "white",
            "showbackground": true,
            "ticks": "",
            "zerolinecolor": "white"
           },
           "zaxis": {
            "backgroundcolor": "#E5ECF6",
            "gridcolor": "white",
            "gridwidth": 2,
            "linecolor": "white",
            "showbackground": true,
            "ticks": "",
            "zerolinecolor": "white"
           }
          },
          "shapedefaults": {
           "line": {
            "color": "#2a3f5f"
           }
          },
          "ternary": {
           "aaxis": {
            "gridcolor": "white",
            "linecolor": "white",
            "ticks": ""
           },
           "baxis": {
            "gridcolor": "white",
            "linecolor": "white",
            "ticks": ""
           },
           "bgcolor": "#E5ECF6",
           "caxis": {
            "gridcolor": "white",
            "linecolor": "white",
            "ticks": ""
           }
          },
          "title": {
           "x": 0.05
          },
          "xaxis": {
           "automargin": true,
           "gridcolor": "white",
           "linecolor": "white",
           "ticks": "",
           "title": {
            "standoff": 15
           },
           "zerolinecolor": "white",
           "zerolinewidth": 2
          },
          "yaxis": {
           "automargin": true,
           "gridcolor": "white",
           "linecolor": "white",
           "ticks": "",
           "title": {
            "standoff": 15
           },
           "zerolinecolor": "white",
           "zerolinewidth": 2
          }
         }
        },
        "title": {
         "text": "",
         "y": 1
        },
        "xaxis": {
         "showgrid": true,
         "title": {
          "font": {
           "family": "Times New Roman"
          },
          "text": "Cumulative Capacity [GW]"
         },
         "type": "log"
        },
        "xaxis2": {
         "anchor": "y",
         "automargin": true,
         "color": "rgb(105,105,105)",
         "overlaying": "x",
         "showgrid": true,
         "side": "top",
         "title": {
          "font": {
           "color": "rgb(10,10,10)",
           "family": "Times New Roman"
          },
          "text": "CO<sub>2</sub> capture capacity [Mtpa]"
         },
         "type": "log"
        },
        "yaxis": {
         "showgrid": true,
         "title": {
          "font": {
           "family": "Times New Roman"
          },
          "text": "Investment Cost [USD<sub>2018</sub>/kW]"
         },
         "type": "log"
        },
        "yaxis2": {
         "anchor": "x",
         "automargin": true,
         "color": "rgb(105,105,105)",
         "overlaying": "y",
         "showgrid": true,
         "side": "right",
         "title": {
          "font": {
           "color": "rgb(10,10,10)",
           "family": "Times New Roman"
          },
          "text": "Cost of CO<sub>2</sub> capture [USD<sub>2018</sub>/tCO<sub>2</sub>]"
         },
         "type": "log"
        }
       }
      },
      "text/html": [
       "<div>                            <div id=\"8aeacb2f-d440-42f3-aee9-fbd419a93301\" class=\"plotly-graph-div\" style=\"height:525px; width:100%;\"></div>            <script type=\"text/javascript\">                require([\"plotly\"], function(Plotly) {                    window.PLOTLYENV=window.PLOTLYENV || {};                                    if (document.getElementById(\"8aeacb2f-d440-42f3-aee9-fbd419a93301\")) {                    Plotly.newPlot(                        \"8aeacb2f-d440-42f3-aee9-fbd419a93301\",                        [{\"legendgroup\":\"group\",\"legendgrouptitle\":{\"font\":{\"color\":\"rgb(10,10,10)\"},\"text\":\"Power capacity\"},\"marker\":{\"color\":\"rgb(0,0,205)\",\"size\":6,\"symbol\":\"circle-open\"},\"mode\":\"markers\",\"name\":\"Onshore Wind - Prospective\",\"type\":\"scatter\",\"x\":[541.0,595.0,698.0,903.212,1108.424,1313.635,1518.847,1724.059,1929.271,2134.482,2339.694,2544.906,2750.118,2957.488,3164.859,3372.229,3579.6,3786.97,3994.341,4201.711,4409.082,4616.452,4823.823,5031.193,5238.564,5445.934,5653.305,5860.675,6068.046,6275.417,6482.787,6690.158,6897.528],\"y\":[1520.39,1447.57,1315.53,1347.82,1284.84,1234.83,1193.64,1158.81,1128.75,1102.39,1078.99,1058.0,1038.99,1021.49,1005.44,990.64,976.91,964.14,952.2,941.0,930.47,920.53,911.12,902.2,893.73,885.65,877.95,870.59,863.54,856.79,850.3,844.07,838.07]},{\"legendgroup\":\"group\",\"marker\":{\"color\":\"rgb(0,0,205)\",\"size\":6,\"symbol\":\"circle\"},\"mode\":\"markers+text\",\"name\":\"Onshore Wind - Historical\",\"textfont\":{\"size\":10},\"type\":\"scatter\",\"x\":[178.0,216.0,261.0,292.0,340.0,405.0,453.0,495.0,541.0,595.0,698.0],\"y\":[1914.0,1883.0,1937.0,1797.0,1745.0,1611.0,1604.0,1599.0,1520.0,1448.0,1316.0]},{\"legendgroup\":\"group\",\"line\":{\"color\":\"rgb(0,0,205)\",\"width\":1.5},\"mode\":\"lines\",\"name\":\"Onshore Wind - Learning Curve\",\"type\":\"scatter\",\"x\":[178.00000000000003,184.69841505847967,191.6489018264855,198.86094615196652,206.3443908499881,214.10944913595645,222.16671856435596,230.52719549202163,239.20229008568927,248.20384189430047,257.5441360073189,267.23591982110855,277.2924204362567,287.7273627095853,298.55498798548706,309.7900735321514,321.4479527092035,333.5445358942865,346.0963321971399,359.1204719908134,372.63473029076613,386.65755101375584,401.2080721496289,416.3061518803629,431.9723956820102,448.22818444652603,465.09570366187256,482.5979736902033,500.7588811854742,519.6032116933404,539.1566834778407,559.4459826210312,580.4987994434731,602.3438662952794,625.0109967692971,648.5311263899429,672.936354833219,698.2599897355406,724.5365921511494,751.802023720165,780.0934956116404,809.4496193084215,839.910459303119,871.5175877771109,904.3141413372019,938.344879887365,973.6562477159322,1010.2964368815681,1048.3154529845783,1087.7651834132794,1128.6994681585907,1171.1741732934863,1215.2472672175961,1260.9788997710052,1308.431484325224,1357.669782963388,1408.7609948658865,1461.7748480221135,1516.7836943934512,1573.8626086573922,1633.0894906675535,1694.545171769421,1758.3135251169167,1824.4815801403524,1893.1396413219884,1964.3814114412894,2038.304119458122,2115.0086532083433,2194.599697092981,2277.1858749488374,2362.8798982955477,2451.7987201614,2544.063694697862,2639.8007428006485,2739.1405239633514,2842.21861459823,2949.175693067418,3060.1577316772236,3175.31619589739,3294.808251077353,3418.7969769415076,3547.451590156281,3680.9476752727473,3819.467424359949,3963.199885656049,4112.341221576513,4267.094976431656,4427.672354218693,4594.2925068676395,4767.182833334282,4946.579289948507,5132.72671244151,5325.879150091391,5526.300212443166,5734.263429076354,5950.052622911271,6173.9622975632665,6406.298039273847,6647.376933966996,6897.528],\"y\":[1970.111645221424,1953.1752957557574,1936.3845420658017,1919.7381325164308,1903.2348262323799,1886.873393005749,1870.6526132042968,1854.5712776805262,1838.6281876815572,1822.8221547597514,1807.1520006841426,1791.6165573525923,1776.2146667047211,1760.945180635584,1745.8069609100853,1730.7988790781326,1715.9198163905169,1701.1686637155192,1686.5443214562313,1672.0456994685887,1657.671716980108,1643.4213025093222,1629.293393785909,1615.2869376715119,1601.4008900812194,1587.6342159057583,1573.9858889343154,1560.4548917780485,1547.0402157942458,1533.7408610111383,1520.5558360533587,1507.484158068041,1494.524852651557,1481.676953776879,1468.9395037215706,1456.3115529963934,1443.792160274536,1431.380392321429,1419.0753239251994,1406.876037827685,1394.7816246560678,1382.7911828550855,1370.9038186198245,1359.1186458290956,1347.4347859793772,1335.8513681193313,1324.3675287848782,1312.9824119348325,1301.6951688870902,1290.5049582553654,1279.4109458864714,1268.4123047981402,1257.5082151173758,1246.6978640193379,1235.980445666756,1225.3551611498526,1214.8212184267945,1204.3778322646513,1194.0242241808598,1183.7596223851958,1173.5832617222406,1163.494383614345,1153.492236005082,1143.5760733031864,1133.7451563269758,1123.9987522492504,1114.336134542665,1104.7565829255711,1095.259383308328,1085.8438277400671,1076.5092143559227,1067.2548473247116,1058.0800367970644,1048.984098854001,1039.9663554559504,1031.0261343922054,1022.1627692308168,1013.3755992689131,1004.6639694834505,996.0272304823859,987.4647384562676,978.9758551302483,970.5599477164967,962.2163888670405,953.944556626988,945.7438343881793,937.613610843209,929.5532799398702,921.5622408359676,913.639897854534,905.7856604394249,897.9989431112973,890.2791654239659,882.6257519211341,875.0381320935018,867.5157403362288,860.0580159067852,852.6644028831387,845.3343501223277,838.0673112193643]},{\"marker\":{\"color\":\"rgb(30,144,255)\",\"size\":6,\"symbol\":\"circle-open\"},\"mode\":\"markers\",\"name\":\"Offshore Wind - Prospective\",\"type\":\"scatter\",\"x\":[23.626,28.355,34.367,66.02,97.67,129.32,160.97,192.62,224.28,255.93,287.58,319.23,350.88,401.71,452.54,503.37,554.2,605.03,655.86,706.69,757.52,808.35,859.18,910.01,960.84,1011.67,1062.5,1113.32,1164.15,1214.98,1265.81,1316.64,1367.47],\"y\":[4496.0,3615.0,3092.0,2820.0,2513.0,2314.0,2170.0,2058.0,1968.0,1893.0,1829.0,1774.0,1725.0,1658.0,1601.0,1552.0,1508.0,1470.0,1436.0,1404.0,1376.0,1350.0,1326.0,1304.0,1283.0,1264.0,1246.0,1229.0,1213.0,1198.0,1183.0,1170.0,1157.0]},{\"marker\":{\"color\":\"rgb(30,144,255)\",\"size\":6,\"symbol\":\"circle\"},\"mode\":\"markers+text\",\"name\":\"Offshore Wind - Historical\",\"textfont\":{\"size\":10},\"type\":\"scatter\",\"x\":[3.056,3.776,5.334,7.171,8.492,11.717,14.342,18.837,23.626,28.355,34.367],\"y\":[4569.0,5233.0,4631.0,5554.0,5153.0,5168.0,4069.0,4597.0,4496.0,3615.0,3092.0]},{\"line\":{\"color\":\"rgb(30,144,255)\",\"width\":1.5},\"mode\":\"lines\",\"name\":\"Offshore Wind - Learning Curve\",\"type\":\"scatter\",\"x\":[3.056,3.2503396705285033,3.4570379495455956,3.676880755867331,3.910703987106811,4.1593966979670345,4.423904480650365,4.705233060237787,5.004452118708478,5.3226993621395895,5.66118484655074,6.021195578841196,6.404100410313601,6.811355241390762,7.244508557315,7.705207315878327,8.19520320956995,8.716359325951483,9.270657231584156,9.860204506443042,10.487242757465882,11.154156141706178,11.863480431497628,12.617912656097957,13.420321356472138,14.273757492206242,15.181466042022711,16.14689834200516,17.17372520844577,18.265850895211603,19.42742793869924,20.662872946821967,21.976883392063357,23.374455472448474,24.860903108344687,26.441878147322686,28.123391853901712,29.91183776588837,31.814016004214537,33.837159128706574,35.98895963809576,38.27759921883237,40.711779853914166,43.30075691001323,46.05437432870654,48.9831020556166,52.09807584977646,55.41113962458492,58.93489048134234,62.682726606596745,66.66889821541683,70.90856173429204,75.41783742967564,80.2138707012906,85.31489727324895,90.74031253085906,96.51074526675582,102.64813611675633,109.17582098367234,116.11861976627901,123.50293073080883,131.35683088379633,139.71018272791454,148.59474780671698,158.04430747000995,168.0947913190371,178.78441381985488,190.15381960433854,202.24623801129013,215.1076474552506,228.786950247991,243.33615853739397,258.8105920707151,275.26908853416717,292.77422726859487,311.39256721185916,331.19489997265015,352.25651899797947,374.65750585779114,398.4830347352236,423.8236962802632,450.77584205816896,479.441950902342,509.93101856461413,542.3589721444934,576.8491108731386,613.532574928029,652.548844060888,694.0462679347585,738.1826301867152,785.1257483609135,835.0541119930809,888.1575612725987,944.6380088626242,1004.7102076227889,1068.60256715356,1136.5580222669548,1208.8349566857657,1285.7081854834269,1367.47],\"y\":[6959.219144504205,6834.207404939681,6711.4413102822255,6590.880520951991,6472.48542200805,6356.217110131399,6242.037380841691,6129.908715943699,6019.794271199283,5911.657864220721,5805.463962581605,5701.1776721413125,5598.7647255791135,5498.1914711343425,5399.42486154883,5302.432443207881,5207.182345476404,5113.643270226606,5021.784481553709,4931.575795676511,4842.987571019349,4755.990698472153,4670.5565918255425,4586.657178377742,4504.264889710145,4423.352652628669,4343.893880267821,4265.8624633545005,4189.232761628835,4113.979595419025,4040.0782373676066,3967.504404306335,3896.2342492769617,3826.244353695409,3757.5117196567044,3690.01376237808,3623.728302777888,3558.633560187813,3494.708145195953,3431.9310526185095,3370.2816545977385,3309.7396938238276,3250.285276878584,3191.8988676986987,3134.561281156374,3078.253676755324,3022.9575524400066,2968.6547385160247,2915.3273916797907,2862.957989155403,2811.529322936853,2761.0244941336746,2711.426907418151,2662.720265572267,2614.888564132637,2567.916086131607,2521.787396932829,2476.4873391596216,2432.0010277144183,2388.3138448876825,2345.411435554702,2303.2797024586494,2261.90480157837,2221.273137579407,2181.371359346711,2142.186355597621,2103.70525057363,2065.9153998095694,2028.8043859787613,1992.3600148128353,1956.5703110948207,1921.4235147242246,1886.908076852788,1853.0126560896715,1819.7261147747938,1787.0375153191167,1754.9361166106842,1723.4113704851989,1692.4529182600297,1662.0505873304432,1632.1943878270145,1602.8745093330551,1574.0813176610284,1545.8053516868567,1518.0373202410983,1490.7680990559795,1463.9887277672549,1437.690406969935,1411.8644953268931,1386.5025067294252,1361.5961075088055,1337.1371136979303,1313.1174883421654,1289.5293388584878,1266.364914442066,1243.6166035194396,1221.2769312474363,1199.3385570570179,1177.7942722412565,1156.6369975866319]},{\"marker\":{\"color\":\"rgb(255,215,0)\",\"size\":6,\"symbol\":\"circle-open\"},\"mode\":\"markers\",\"name\":\"Residential PV - Prospective\",\"type\":\"scatter\",\"x\":[58.0,74.0,93.0,150.67,208.35,266.02,323.7,381.37,439.05,496.72,554.39,612.07,669.74,751.15,832.56,913.96,995.37,1076.78,1158.18,1239.59,1321.0,1402.41,1483.81,1530.81,1577.81,1624.82,1671.82,1718.82,1765.82,1812.82,1859.82,1906.82,1953.82],\"y\":[2704.85,2506.8,2442.72,1872.68,1639.53,1483.13,1368.42,1279.39,1207.57,1147.95,1097.36,1053.7,1015.48,968.8,928.75,893.88,863.13,835.74,811.12,788.83,768.51,749.88,732.72,723.41,714.49,705.94,697.73,689.83,682.24,674.93,667.88,661.07,654.5]},{\"marker\":{\"color\":\"rgb(255,215,0)\",\"size\":6,\"symbol\":\"circle\"},\"mode\":\"markers+text\",\"name\":\"Residential PV - Historical\",\"textfont\":{\"size\":10},\"type\":\"scatter\",\"x\":[27.0,32.0,38.0,44.0,50.0,58.0,74.0,93.0],\"y\":[3794.0,3379.0,3158.0,3103.0,3027.0,2705.0,2507.0,2443.0]},{\"line\":{\"color\":\"rgb(255,215,0)\",\"width\":1.5},\"mode\":\"lines\",\"name\":\"Residential PV - Learning Curve\",\"type\":\"scatter\",\"x\":[27.000000000000004,28.193357762954378,29.439460072219994,30.740638154233665,32.099326271993874,33.5180662791157,34.999512375167626,36.54643607118703,38.16173137466358,39.84842020369078,41.60965804041457,43.4487398343555,45.36910616664858,47.3743496867327,49.46822183353187,51.65463985370204,53.93769413007343,56.32165583399868,58.810984915922646,61.41033844912294,64.12457934223096,66.95878543683226,69.91825900716708,73.00853667970254,76.23539979113444,79.60488520419668,83.12329660151224,86.79721627861497,90.63351745820441,94.63937714867141,98.82228957095045,103.19008017881782,107.7509202988651,112.51334241753653,117.48625614382942,122.67896487752158,128.10118321410656,133.7630551190028,139.67517290503062,145.84859704866815,152.29487688215085,159.02607220013215,166.05477582132366,173.39413714732459,181.0578867627148,189.0603621224333,197.4165343744989,206.1420363682529,215.25319190052244,224.76704625441835,234.7013980879014,245.07483273176936,255.90675695936943,267.217435293071,279.0280279154319,291.3606302559775,304.2383143276534,317.68517189028523,331.72635952179513,346.38814568149616,361.6979598535104,377.68444386224917,394.37750545595696,411.8083742585665,430.00966019453205,449.01541449595913,468.8611934061412,489.5841246987073,511.2229771367966,533.8182330022353,557.4121638303761,582.0489094923086,607.7745607723743,634.6372455954817,662.6872190655317,691.9769574834013,722.5612565203786,754.4973337306986,787.8449355949923,822.6664492948645,859.0270194277595,896.9946698804132,936.6404310889498,978.0384729236509,1021.2662434470391,1066.4046138048457,1113.5380295209336,1162.7546684792196,1214.14660588815,1267.8099865363474,1323.845204661688,1382.357091770317,1443.4551127569505,1507.253570693422,1573.8718206685203,1643.4344930792595,1716.0717267912253,1791.919412604293,1871.119447479107,1953.8199999999993],\"y\":[3791.3382077272263,3724.660274126696,3659.1549995150685,3594.8017604412125,3531.5802961568556,3469.470702237708,3408.4534243168737,3348.5092519283758,3289.6193124590445,3231.7650652066854,3174.9282955428307,3119.0911091780895,3064.235926528364,3010.3454771801644,2957.402794453267,2905.391210058959,2854.2943488522674,2804.0961236764606,2754.7807302982274,2706.3326424319253,2658.7366068513406,2611.9776385874156,2566.0410162104326,2520.912277195172,2476.5772133675805,2433.02186643152,2390.2325235741837,2348.1957131488134,2306.8982004333106,2266.326983463491,2226.4692889395706,2187.312568204672,2148.8444932940515,2111.052953053802,2073.926049327822,2037.4520932118414,2001.6196013733268,1966.4172924361092,1931.8340834286025,1897.8590862944611,1864.4816044646477,1831.6911294897366,1799.4773377314964,1767.8300871126055,1736.7394139235812,1706.1955296858218,1676.1888180698445,1646.7098318677124,1617.7492900187074,1589.2980746873206,1561.3472283926087,1533.8879511880746,1506.9115978911002,1480.4096753611448,1454.3738398257847,1428.7958942537975,1403.6677857744237,1378.981603142047,1354.7295742454276,1330.9040636607751,1307.497570247821,1284.5027247882024,1261.9122876653516,1239.7191465852052,1217.9163143369942,1196.4969265934126,1175.4542397494838,1154.7816287994146,1134.4725852508175,1114.5207150755841,1094.9197366968267,1075.6634790111939,1056.7458794459965,1038.160982050474,1019.9029356206589,1001.9659918571884,984.3445035555449,967.0329228280988,950.0257993574368,933.3177786804008,916.9036005023087,900.7780970408207,884.9361913989334,869.3728959665871,854.083310850384,839.0626223309235,824.3061013472663,809.8091020080574,795.5670601288215,781.5754917950027,767.8299919502534,754.3262330095698,741.0599634968054,728.0270067061556,715.223259387173,702.6446904529183,690.2873397108257,678.14731661589,666.2207990457789,654.5040320974949]},{\"marker\":{\"color\":\"rgb(255,140,0)\",\"size\":6,\"symbol\":\"circle-open\"},\"mode\":\"markers\",\"name\":\"CSP - Prospective\",\"type\":\"scatter\",\"x\":[5.83,6.38,6.48,13.13,19.78,26.44,33.09,39.74,46.39,53.04,59.7,66.35,73.0,93.8,114.6,135.4,156.2,177.0,197.8,218.6,239.4,260.2,281.0,295.5,310.0,324.5,339.0,353.5,368.0,382.5,397.0,411.5,426.0],\"y\":[5161.0,6466.0,4448.0,5036.0,4238.0,3701.0,3307.0,3002.0,2757.0,2555.0,2384.0,2237.0,2110.0,1799.0,1574.0,1403.0,1267.0,1157.0,1065.0,987.0,921.0,863.0,812.0,780.0,750.0,723.0,697.0,673.0,651.0,631.0,611.0,593.0,576.0]},{\"marker\":{\"color\":\"rgb(255,140,0)\",\"size\":6,\"symbol\":\"circle\"},\"mode\":\"markers+text\",\"name\":\"CSP - Historical\",\"textfont\":{\"size\":10},\"type\":\"scatter\",\"x\":[1.266,1.705,2.567,3.842,4.499,4.75,4.86,4.959,5.833,6.384,6.479],\"y\":[8830.0,10403.0,8040.0,6307.0,5414.0,7232.0,7602.0,7196.0,5161.0,6466.0,4448.0]},{\"line\":{\"color\":\"rgb(255,140,0)\",\"width\":1.5},\"mode\":\"lines\",\"name\":\"CSP - Learning Curve\",\"type\":\"scatter\",\"x\":[1.266,1.3426373200696768,1.4239138809193395,1.5101105190265045,1.6015250713070892,1.698473404237084,1.8012905052721162,1.9103316403361044,2.025973581378497,2.1486159082416982,2.2786823893370527,2.4166224459000536,2.562912704884262,2.718058645859662,2.8825963476060275,3.0570943404363313,3.2421555706505623,3.438419483907777,3.6465642347150853,3.8673090296680837,4.101416612539351,4.349695899801805,4.61300477569349,4.892253056481617,5.188405634168377,5.502485810500979,5.835578832806051,6.1888356438657555,6.56347685879274,6.960796982645204,7.3821688833553285,7.829048535426509,8.302980050790262,8.805601014206186,9.338648141640299,9.90396328117346,10.503499777174737,11.13932921973012,11.813648602647945,12.528787914774181,13.287218190848156,14.091560049716765,14.944592749409663,15.849263790363443,16.808699099977044,17.826213833689394,18.905323829900254,20.049757758314914,21.263470003688894,22.550654329490374,23.91575836869243,25.363498991765518,26.898878604971575,28.52720243527535,30.254096861598153,32.08552885575399,34.02782660024314,36.08770135414386,38.27227064265604,40.58908285042424,43.04614330361743,45.651941930887986,48.415482598786674,51.346314222997655,54.45456376289186,57.75097121340635,61.246926715157166,64.95450991101303,68.88653168511992,73.05657842859736,77.47905898485952,82.16925443677107,87.14337090766962,92.41859555869776,98.01315597593465,103.94638315252783,110.23877828344838,116.91208360366862,123.9893575145274,131.49505425787214,139.4551084132751,147.8970245102889,156.84997206538205,166.34488637193388,176.41457539155454,187.09383311607172,198.41955979188464,210.43088942210193,223.16932498702153,236.67888185018438,251.00623984551288,266.20090457104715,282.3153784465992,299.40534212638124,317.5298468934513,336.75151870075666,357.1367745638055,378.75605205266686,401.6840526762743,425.99999999999994],\"y\":[8830.000500101507,8783.462570577089,8733.195649968666,8679.266677793423,8621.747177579036,8560.713098842496,8496.244650048156,8428.426123059307,8357.345709620193,8283.095310427958,8205.770337372027,8125.469509536107,8042.294643572226,7956.3504390687385,7867.744259543848,7776.5859097040775,7682.9874096119975,7587.062766410445,7488.927744250638,7388.699633069892,7286.497016860243,7182.439542062544,7076.647686712386,6969.242530952617,6860.345529514916,6750.078286757328,6638.562334828462,6525.918915509698,6412.268766267041,6297.731911021723,6182.427456125848,6066.473392003965,5949.986400896013,5833.081671109456,5715.872718160888,5598.4712131578835,5480.986818742734,5363.52703288906,5246.197040812107,5129.099575222044,5012.334785118874,4896.0001132961825,4780.190182689804,4664.99669167671,4550.508318398773,4436.810634155942,4323.986025883684,4212.113627700865,4101.269261485803,3991.5253864109986,3882.9510573408893,3775.6118919712626,3669.570046565033,3564.884200115897,3461.6095467494897,3359.7977961512433,3259.497181790823,3160.752476695253,3063.605016506263,2968.0927295426336,2874.2501735744518,2782.1085790043176,2691.6958981398216,2603.0368602324193,2516.153031950153,2431.062882945371,2347.7818561736976,2266.3224426171064,2186.6942600617076,2108.9041355802165,2032.9561913694067,1958.8519335946528,1886.59034389653,1816.1679732184812,1747.579037619631,1680.8155157429783,1615.8672476162355,1552.7220344705202,1491.365739270948,1431.7823876626314,1373.9542690458254,1317.862037504867,1263.4848123268562,1210.8002778579853,1159.7847824576752,1110.413436323369,1062.6602079717195,1016.4980191751514,971.898838166021,928.8337709340586,887.2731504562788,847.1866237119442,808.543236348578,771.3115148783369,735.4595462970867,700.9550550315031,667.7654771320965,635.858031642494,605.1997890872526,575.7577370322424]},{\"marker\":{\"color\":\"rgb(50,205,50)\",\"size\":6,\"symbol\":\"circle-open\"},\"mode\":\"markers\",\"name\":\"Ground Source Heat Pumps - Prospective\",\"type\":\"scatter\",\"x\":[2.174,2.859,3.544,4.23,4.915,5.6,6.286,6.971,7.657,8.342,9.027,9.713,10.398,11.084,11.769,12.454,13.14,13.825,14.511,15.196,15.881,16.567,17.252,17.937,18.623,19.308,19.994,20.679,21.364,22.05,22.735,23.421,24.106],\"y\":[2784.93,2364.46,2079.7,1871.35,1710.83,1582.54,1477.11,1388.59,1312.97,1247.44,1189.99,1139.11,1093.66,1052.76,1015.71,981.95,951.03,922.59,896.32,871.95,849.28,828.12,808.32,789.73,772.24,755.76,740.18,725.43,711.44,698.15,685.51,673.46,661.96]},{\"marker\":{\"color\":\"rgb(50,205,50)\",\"size\":6,\"symbol\":\"circle\"},\"mode\":\"markers+text\",\"name\":\"Ground Source Heat Pumps - Historical\",\"textfont\":{\"size\":10},\"type\":\"scatter\",\"x\":[0.02,0.039,0.061,0.084,0.106,0.126,0.142,0.157,0.172,0.198,0.224,0.252,0.285,0.325,0.367,0.417,0.467,0.522,0.587,0.661,0.75,0.867,0.992,1.143],\"y\":[34647,30597,27279,25591,23285,20361,17605,15805,14286,13611,12655,8662,8549,8212,7762,7256,6806,6524,5231,4893,4781,4612,4443,4218]},{\"line\":{\"color\":\"rgb(50,205,50)\",\"width\":1.5},\"mode\":\"lines\",\"name\":\"Ground Source Heat Pumps - Learning Curve\",\"type\":\"scatter\",\"x\":[0.020000000000000004,0.02148583167092517,0.023082048129566553,0.024796850036603015,0.02663904729278135,0.028618104300325745,0.030744188586888946,0.03302822304185373,0.03548194203335206,0.03811795169430634,0.040949794687216136,0.0439920197804236,0.047260256593309596,0.05077129589442907,0.054543175865121876,0.05859527477178384,0.06294841052290778,0.06762494762237456,0.07264891206847356,0.07804611478895337,0.08384428424625777,0.09007320889421487,0.09676489021805908,0.10395370714403852,0.11167659266327315,0.11997322357727817,0.1288862243399835,0.13846138604349922,0.14874790167268057,0.15979861883712715,0.17167031127904234,0.18442397055184154,0.19812511936802638,0.2128441482261685,0.22865667704644513,0.24564394367265105,0.2638932212366402,0.28349826652943333,0.3045598016825243,0.3271860316340534,0.35149320003836343,0.37760618647495525,0.4056591480250434,0.43579620851185014,0.4681721989456509,0.5029534529776573,0.5403186614494263,0.5804597904280988,0.6235830674439315,0.6699100409969745,0.7196787187761786,0.7731447904386036,0.8305829412308277,0.8922882632013747,0.958577771254346,1.0297920318330742,1.1062969126012723,1.1884854621107575,1.2767799291126722,1.371633931886533,1.4735347887321644,1.583006021597578,1.7006100457053255,1.826951058995449,1.9626781462297347,2.1084886137047767,2.2651315717061595,2.433411783108835,2.6141937978961147,2.8084063948386273,3.017047353152628,3.241188578652384,3.481981610732516,3.740663538472786,4.01856335625968,4.317108791577178,4.637833640044925,4.9823856453879705,5.35253496482199,5.750183263345332,6.177373483660448,6.63630034191825,7.1293216032079325,7.6589701947207995,8.227967218820202,8.839235932873068,9.495916767665197,10.201383461558512,10.959260393280305,11.773441202392888,12.648108793107422,13.587756824212727,14.597212795524984,15.68166284946624,16.84667841519162,18.098244832150773,19.442792100139144,20.887227913819164,22.4389731514284,24.106000000000005],\"y\":[45778.1035548452,43860.508794594294,42023.23998450286,40262.932358248654,38576.36209589574,36960.440419804334,35412.20793785651,33928.82922363797,32507.58762365016,31145.880282042493,29841.21337375321,28591.197537328684,27393.543499056992,26246.057880401713,25146.639181057766,24093.27393027265,23084.032999384624,22117.068068824672,21190.608243111732,20302.956807642393,19452.48812133498,18637.644639437032,17856.934061044765,17108.926596109497,16392.252346925914,15705.598799307541,15047.708418853643,14417.376347906089,13813.44819897813,13234.81794061405,12680.425871807825,12149.256681271205,11640.337587996903,11152.736559711579,10685.560605955887,10237.95414266552,9809.097425258173,9398.2050473568,9004.524502399678,8627.334805503093,8265.945173052667,7919.693757605175,7587.946435783931,7270.095646947927,6965.559280507848,6673.7796098511935,6394.222270924132,6126.375283599425,5869.748114038192,5623.870776328318,5388.2929717542465,5162.583264121775,4946.328289627736,4739.131999827149,4540.614936311868,4350.4135357720525,4168.179464167788,3993.5789787916824,3826.292317053845,3666.013110870037,3512.447825580462,3365.315222371632,3224.345843216793,3089.281517391638,2959.874888661532,2835.888962274356,2717.0966709293134,2603.280458926845,2494.2318837380344,2389.751234263848,2289.6471650850694,2193.7363460331135,2101.843126439926,2013.7992134520978,1929.443363820045,1848.6210885977987,1771.1843702126102,1696.9913913861967,1625.9062754111676,1557.7988373070073,1492.5443453998453,1430.0232928894047,1370.121178984749,1312.7282992080186,1257.7395444821163,1205.0542086343835,1154.575803963751,1106.2118845335624,1059.8738768664816,1015.4769177314013,972.9396987252773,932.1843173652685,893.1361344184556,855.7236372078701,819.8783086444726,785.5345017452545,752.6293194076263,721.1024992199317,690.8963030971214,661.9554115394689]},{\"marker\":{\"color\":\"rgb(0,128,128)\",\"size\":6,\"symbol\":\"circle-open\"},\"mode\":\"markers\",\"name\":\"Decentralized Heat Pumps - Prospective\",\"type\":\"scatter\",\"x\":[6.22,6.487,7.069,7.651,8.233,8.816,9.398,9.98,10.563,11.145,11.727,12.309,12.892,13.474,14.056,14.638,15.221,15.803,16.385,16.967,17.55,18.132,18.714,19.296,19.879,20.461,21.043,21.625,22.208,22.79,23.372,23.954,24.537],\"y\":[903.0,881.0,837.0,798.0,764.0,733.0,706.0,681.0,658.0,638.0,619.0,601.0,585.0,569.0,555.0,542.0,529.0,518.0,507.0,496.0,486.0,477.0,468.0,459.0,451.0,444.0,436.0,429.0,422.0,416.0,410.0,404.0,398.0]},{\"marker\":{\"color\":\"rgb(0,128,128)\",\"size\":6,\"symbol\":\"circle\"},\"mode\":\"markers+text\",\"name\":\"Decentralized Heat Pumps - Historical\",\"textfont\":{\"size\":10},\"type\":\"scatter\",\"x\":[null,null,null,null,null,null,null,null,null,null,null,null,null,null,null,null,null,null,6.22,null,null],\"y\":[null,null,null,null,null,null,null,null,null,null,null,null,null,null,null,null,null,null,903.0,null,null]},{\"line\":{\"color\":\"rgb(0,128,128)\",\"width\":1.5},\"mode\":\"lines\",\"name\":\"Decentralized Heat Pumps - Learning Curve\",\"type\":\"scatter\",\"x\":[6.219999999999999,6.306826744856881,6.394865528881359,6.484133271272075,6.574647127407569,6.666424492143172,6.759483003153942,6.853840544324244,6.949515249184661,7.046525504396876,7.144889953287194,7.244627499429409,7.345757310277658,7.448298820850016,7.552271737463482,7.657696041521133,7.7645919933521155,7.872980136105262,7.98288129969705,8.094316604814667,8.207307466974967,8.321875600640084,8.438043023390483,8.555832060156291,8.675265347507665,8.796365838005059,8.919156804610244,9.043661845158868,9.169904886895447,9.297910191071711,9.427702357609071,9.559306329826233,9.692747399232763,9.82805121038958,9.965243765837307,10.104351431093415,10.24540093971911,10.388419398456968,10.533434292440266,10.680473490475062,10.82956525039599,10.980738224496813,11.134021465036781,11.289444429823886,11.447036987876018,11.606829425161163,11.76885245041773,11.933137201056109,12.099715249142646,12.268618607467122,12.439879735694925,12.613531546605138,12.789607412415638,12.968141171196587,13.149167133373357,13.332720088320286,13.518835311046468,13.707548568974834,13.898896128815943,14.092914763537655,14.289641759432095,14.489114923281372,14.691372589623139,14.89645362811777,15.104397451018253,15.315244020744377,15.529033857562714,15.745808047373725,15.965608249607607,16.188476705230382,16.41445624486167,16.643590297005893,16.875922896398272,17.1114986924674,17.35036295791592,17.592561597420946,17.838141156456036,18.087148830236202,18.33963247278787,18.595640606145395,18.85522242967595,19.118427829534667,19.385307388251675,19.655912394452955,19.930294852717005,20.208507493568977,20.490603783614397,20.776637935814303,21.0666649199038,21.36074047295621,21.658921110094383,21.96126413535186,22.267827652685437,22.578670577141505,22.89385264617833,23.21343443114631,23.53747734892847,23.866043673743604,24.199196549113914,24.537],\"y\":[903.2142330267694,895.7683493810441,888.3838478318793,881.0602223598461,873.7969711170226,866.5935963925992,859.4496045787789,852.364506136948,845.3378155641327,838.3690513597321,831.4577359925219,824.6033958679301,817.8055612955861,811.0637664571374,804.377549374325,797.7464518773292,791.1700195733746,784.6478018155924,778.1793516721376,771.7642258955657,765.4019848924607,759.0921926933075,752.8344169226232,746.6282287693225,740.47320295734,734.3689177164831,728.3149547535322,722.3108992235794,716.3563397015995,710.4508681542561,704.5940799119429,698.7855736410556,693.0249513164865,687.3118181943544,681.6457827849507,676.0264568259175,670.4534552556379,664.9263961868511,659.4449008804856,654.008593719705,648.6171021841676,643.2700568245008,637.9670912369862,632.7078420384507,627.4919488413647,622.3190542291478,617.1888037316774,612.1008458009986,607.0548317872351,602.0504159146952,597.0872552581825,592.1650097194924,587.2833420041095,582.4419175980958,577.640404745165,572.878474423951,568.155800325463,563.4720588307234,558.8269289885922,554.2200924937739,549.651233665008,545.1200394234336,540.6261992711391,536.1694052698822,531.7493520199922,527.3657366394391,523.0182587430819,518.706620422082,514.4305262234919,510.1896831300064,505.98380053988734,501.8125902470462,497.67576642129904,493.5730455887766,489.5041466125009,485.46879067312176,481.46670124980784,477.4976041013016,473.56122724712384,469.65730094893803,465.7855576920676,461.9457321671618,458.1375612520185,454.3607839935523,450.6151415899124,446.90037737274906,443.2162367896265,439.5624673865773,435.9388187908061,432.34504269352993,428.7808928329659,425.24612497745375,421.7404969087209,418.2637684052859,414.81570122599464,411.39605909369794,408.0046076790584,404.6411145844937,401.3053493282531,397.9970833286224]}],                        {\"annotations\":[{\"font\":{\"color\":\"rgb(10,10,10)\",\"family\":\"Times New Roman\",\"size\":10},\"showarrow\":true,\"text\":\"2010\",\"x\":2.250420002308894,\"y\":3.281941933440825},{\"font\":{\"color\":\"rgb(10,10,10)\",\"family\":\"Times New Roman\",\"size\":10},\"showarrow\":true,\"text\":\"2020\",\"x\":2.843855422623161,\"y\":3.1192558892779365},{\"font\":{\"color\":\"rgb(10,10,10)\",\"family\":\"Times New Roman\",\"size\":10},\"showarrow\":true,\"text\":\"2050\",\"x\":3.8386934721408297,\"y\":2.923280294697208},{\"font\":{\"color\":\"rgb(10,10,10)\",\"family\":\"Times New Roman\",\"size\":10},\"showarrow\":true,\"text\":\"2010\",\"x\":0.48515334990365233,\"y\":3.659821158055705},{\"font\":{\"color\":\"rgb(10,10,10)\",\"family\":\"Times New Roman\",\"size\":10},\"showarrow\":true,\"text\":\"2020\",\"x\":1.5361416229050349,\"y\":3.4902394852462875},{\"font\":{\"color\":\"rgb(10,10,10)\",\"family\":\"Times New Roman\",\"size\":10},\"showarrow\":true,\"text\":\"2050\",\"x\":3.135917807416897,\"y\":3.0633333589517497},{\"font\":{\"color\":\"rgb(10,10,10)\",\"family\":\"Times New Roman\",\"size\":10},\"showarrow\":true,\"text\":\"2013\",\"x\":1.4313637641589874,\"y\":3.5790973265526436},{\"font\":{\"color\":\"rgb(10,10,10)\",\"family\":\"Times New Roman\",\"size\":10},\"showarrow\":true,\"text\":\"2020\",\"x\":1.968482948553935,\"y\":3.3879234669734366},{\"font\":{\"color\":\"rgb(10,10,10)\",\"family\":\"Times New Roman\",\"size\":10},\"showarrow\":true,\"text\":\"2050\",\"x\":3.2908845508834896,\"y\":2.8159096508867747},{\"font\":{\"color\":\"rgb(10,10,10)\",\"family\":\"Times New Roman\",\"size\":10},\"showarrow\":true,\"text\":\"2010\",\"x\":0.1024337056813363,\"y\":3.9459607035775686},{\"font\":{\"color\":\"rgb(10,10,10)\",\"family\":\"Times New Roman\",\"size\":10},\"showarrow\":true,\"text\":\"2020\",\"x\":0.8115079799453266,\"y\":3.6481647785740012},{\"font\":{\"color\":\"rgb(10,10,10)\",\"family\":\"Times New Roman\",\"size\":10},\"showarrow\":true,\"text\":\"2050\",\"x\":2.629409599102719,\"y\":2.760422483423212},{\"font\":{\"color\":\"rgb(10,10,10)\",\"family\":\"Times New Roman\",\"size\":10},\"showarrow\":true,\"text\":\"1985\",\"x\":-1.6989700043360187,\"y\":4.539665636066127},{\"font\":{\"color\":\"rgb(10,10,10)\",\"family\":\"Times New Roman\",\"size\":10},\"showarrow\":true,\"text\":\"2008\",\"x\":0.05804623039528174,\"y\":3.6251065754034677},{\"font\":{\"color\":\"rgb(10,10,10)\",\"family\":\"Times New Roman\",\"size\":10},\"showarrow\":true,\"text\":\"2050\",\"x\":1.3821251522253217,\"y\":2.8208317472884548},{\"font\":{\"color\":\"rgb(10,10,10)\",\"family\":\"Times New Roman\",\"size\":10},\"showarrow\":true,\"text\":\"2018\",\"x\":0.3372595397502757,\"y\":3.4448142835328017},{\"font\":{\"color\":\"rgb(10,10,10)\",\"family\":\"Times New Roman\",\"size\":10},\"showarrow\":true,\"text\":\"2018\",\"x\":0.7937903846908186,\"y\":2.9556877503135057},{\"font\":{\"color\":\"rgb(10,10,10)\",\"family\":\"Times New Roman\",\"size\":10},\"showarrow\":true,\"text\":\"2018\",\"x\":0.7937903846908186,\"y\":2.9556877503135057},{\"font\":{\"color\":\"rgb(10,10,10)\",\"family\":\"Times New Roman\",\"size\":10},\"showarrow\":true,\"text\":\"2050\",\"x\":1.3898214629105228,\"y\":2.5998830720736876}],\"font\":{\"color\":\"rgb(10,10,10)\",\"family\":\"Times New Roman\",\"size\":16},\"legend\":{\"x\":1.2},\"template\":{\"data\":{\"bar\":[{\"error_x\":{\"color\":\"#2a3f5f\"},\"error_y\":{\"color\":\"#2a3f5f\"},\"marker\":{\"line\":{\"color\":\"#E5ECF6\",\"width\":0.5},\"pattern\":{\"fillmode\":\"overlay\",\"size\":10,\"solidity\":0.2}},\"type\":\"bar\"}],\"barpolar\":[{\"marker\":{\"line\":{\"color\":\"#E5ECF6\",\"width\":0.5},\"pattern\":{\"fillmode\":\"overlay\",\"size\":10,\"solidity\":0.2}},\"type\":\"barpolar\"}],\"carpet\":[{\"aaxis\":{\"endlinecolor\":\"#2a3f5f\",\"gridcolor\":\"white\",\"linecolor\":\"white\",\"minorgridcolor\":\"white\",\"startlinecolor\":\"#2a3f5f\"},\"baxis\":{\"endlinecolor\":\"#2a3f5f\",\"gridcolor\":\"white\",\"linecolor\":\"white\",\"minorgridcolor\":\"white\",\"startlinecolor\":\"#2a3f5f\"},\"type\":\"carpet\"}],\"choropleth\":[{\"colorbar\":{\"outlinewidth\":0,\"ticks\":\"\"},\"type\":\"choropleth\"}],\"contour\":[{\"colorbar\":{\"outlinewidth\":0,\"ticks\":\"\"},\"colorscale\":[[0.0,\"#0d0887\"],[0.1111111111111111,\"#46039f\"],[0.2222222222222222,\"#7201a8\"],[0.3333333333333333,\"#9c179e\"],[0.4444444444444444,\"#bd3786\"],[0.5555555555555556,\"#d8576b\"],[0.6666666666666666,\"#ed7953\"],[0.7777777777777778,\"#fb9f3a\"],[0.8888888888888888,\"#fdca26\"],[1.0,\"#f0f921\"]],\"type\":\"contour\"}],\"contourcarpet\":[{\"colorbar\":{\"outlinewidth\":0,\"ticks\":\"\"},\"type\":\"contourcarpet\"}],\"heatmap\":[{\"colorbar\":{\"outlinewidth\":0,\"ticks\":\"\"},\"colorscale\":[[0.0,\"#0d0887\"],[0.1111111111111111,\"#46039f\"],[0.2222222222222222,\"#7201a8\"],[0.3333333333333333,\"#9c179e\"],[0.4444444444444444,\"#bd3786\"],[0.5555555555555556,\"#d8576b\"],[0.6666666666666666,\"#ed7953\"],[0.7777777777777778,\"#fb9f3a\"],[0.8888888888888888,\"#fdca26\"],[1.0,\"#f0f921\"]],\"type\":\"heatmap\"}],\"heatmapgl\":[{\"colorbar\":{\"outlinewidth\":0,\"ticks\":\"\"},\"colorscale\":[[0.0,\"#0d0887\"],[0.1111111111111111,\"#46039f\"],[0.2222222222222222,\"#7201a8\"],[0.3333333333333333,\"#9c179e\"],[0.4444444444444444,\"#bd3786\"],[0.5555555555555556,\"#d8576b\"],[0.6666666666666666,\"#ed7953\"],[0.7777777777777778,\"#fb9f3a\"],[0.8888888888888888,\"#fdca26\"],[1.0,\"#f0f921\"]],\"type\":\"heatmapgl\"}],\"histogram\":[{\"marker\":{\"pattern\":{\"fillmode\":\"overlay\",\"size\":10,\"solidity\":0.2}},\"type\":\"histogram\"}],\"histogram2d\":[{\"colorbar\":{\"outlinewidth\":0,\"ticks\":\"\"},\"colorscale\":[[0.0,\"#0d0887\"],[0.1111111111111111,\"#46039f\"],[0.2222222222222222,\"#7201a8\"],[0.3333333333333333,\"#9c179e\"],[0.4444444444444444,\"#bd3786\"],[0.5555555555555556,\"#d8576b\"],[0.6666666666666666,\"#ed7953\"],[0.7777777777777778,\"#fb9f3a\"],[0.8888888888888888,\"#fdca26\"],[1.0,\"#f0f921\"]],\"type\":\"histogram2d\"}],\"histogram2dcontour\":[{\"colorbar\":{\"outlinewidth\":0,\"ticks\":\"\"},\"colorscale\":[[0.0,\"#0d0887\"],[0.1111111111111111,\"#46039f\"],[0.2222222222222222,\"#7201a8\"],[0.3333333333333333,\"#9c179e\"],[0.4444444444444444,\"#bd3786\"],[0.5555555555555556,\"#d8576b\"],[0.6666666666666666,\"#ed7953\"],[0.7777777777777778,\"#fb9f3a\"],[0.8888888888888888,\"#fdca26\"],[1.0,\"#f0f921\"]],\"type\":\"histogram2dcontour\"}],\"mesh3d\":[{\"colorbar\":{\"outlinewidth\":0,\"ticks\":\"\"},\"type\":\"mesh3d\"}],\"parcoords\":[{\"line\":{\"colorbar\":{\"outlinewidth\":0,\"ticks\":\"\"}},\"type\":\"parcoords\"}],\"pie\":[{\"automargin\":true,\"type\":\"pie\"}],\"scatter\":[{\"marker\":{\"colorbar\":{\"outlinewidth\":0,\"ticks\":\"\"}},\"type\":\"scatter\"}],\"scatter3d\":[{\"line\":{\"colorbar\":{\"outlinewidth\":0,\"ticks\":\"\"}},\"marker\":{\"colorbar\":{\"outlinewidth\":0,\"ticks\":\"\"}},\"type\":\"scatter3d\"}],\"scattercarpet\":[{\"marker\":{\"colorbar\":{\"outlinewidth\":0,\"ticks\":\"\"}},\"type\":\"scattercarpet\"}],\"scattergeo\":[{\"marker\":{\"colorbar\":{\"outlinewidth\":0,\"ticks\":\"\"}},\"type\":\"scattergeo\"}],\"scattergl\":[{\"marker\":{\"colorbar\":{\"outlinewidth\":0,\"ticks\":\"\"}},\"type\":\"scattergl\"}],\"scattermapbox\":[{\"marker\":{\"colorbar\":{\"outlinewidth\":0,\"ticks\":\"\"}},\"type\":\"scattermapbox\"}],\"scatterpolar\":[{\"marker\":{\"colorbar\":{\"outlinewidth\":0,\"ticks\":\"\"}},\"type\":\"scatterpolar\"}],\"scatterpolargl\":[{\"marker\":{\"colorbar\":{\"outlinewidth\":0,\"ticks\":\"\"}},\"type\":\"scatterpolargl\"}],\"scatterternary\":[{\"marker\":{\"colorbar\":{\"outlinewidth\":0,\"ticks\":\"\"}},\"type\":\"scatterternary\"}],\"surface\":[{\"colorbar\":{\"outlinewidth\":0,\"ticks\":\"\"},\"colorscale\":[[0.0,\"#0d0887\"],[0.1111111111111111,\"#46039f\"],[0.2222222222222222,\"#7201a8\"],[0.3333333333333333,\"#9c179e\"],[0.4444444444444444,\"#bd3786\"],[0.5555555555555556,\"#d8576b\"],[0.6666666666666666,\"#ed7953\"],[0.7777777777777778,\"#fb9f3a\"],[0.8888888888888888,\"#fdca26\"],[1.0,\"#f0f921\"]],\"type\":\"surface\"}],\"table\":[{\"cells\":{\"fill\":{\"color\":\"#EBF0F8\"},\"line\":{\"color\":\"white\"}},\"header\":{\"fill\":{\"color\":\"#C8D4E3\"},\"line\":{\"color\":\"white\"}},\"type\":\"table\"}]},\"layout\":{\"annotationdefaults\":{\"arrowcolor\":\"#2a3f5f\",\"arrowhead\":0,\"arrowwidth\":1},\"autotypenumbers\":\"strict\",\"coloraxis\":{\"colorbar\":{\"outlinewidth\":0,\"ticks\":\"\"}},\"colorscale\":{\"diverging\":[[0,\"#8e0152\"],[0.1,\"#c51b7d\"],[0.2,\"#de77ae\"],[0.3,\"#f1b6da\"],[0.4,\"#fde0ef\"],[0.5,\"#f7f7f7\"],[0.6,\"#e6f5d0\"],[0.7,\"#b8e186\"],[0.8,\"#7fbc41\"],[0.9,\"#4d9221\"],[1,\"#276419\"]],\"sequential\":[[0.0,\"#0d0887\"],[0.1111111111111111,\"#46039f\"],[0.2222222222222222,\"#7201a8\"],[0.3333333333333333,\"#9c179e\"],[0.4444444444444444,\"#bd3786\"],[0.5555555555555556,\"#d8576b\"],[0.6666666666666666,\"#ed7953\"],[0.7777777777777778,\"#fb9f3a\"],[0.8888888888888888,\"#fdca26\"],[1.0,\"#f0f921\"]],\"sequentialminus\":[[0.0,\"#0d0887\"],[0.1111111111111111,\"#46039f\"],[0.2222222222222222,\"#7201a8\"],[0.3333333333333333,\"#9c179e\"],[0.4444444444444444,\"#bd3786\"],[0.5555555555555556,\"#d8576b\"],[0.6666666666666666,\"#ed7953\"],[0.7777777777777778,\"#fb9f3a\"],[0.8888888888888888,\"#fdca26\"],[1.0,\"#f0f921\"]]},\"colorway\":[\"#636efa\",\"#EF553B\",\"#00cc96\",\"#ab63fa\",\"#FFA15A\",\"#19d3f3\",\"#FF6692\",\"#B6E880\",\"#FF97FF\",\"#FECB52\"],\"font\":{\"color\":\"#2a3f5f\"},\"geo\":{\"bgcolor\":\"white\",\"lakecolor\":\"white\",\"landcolor\":\"#E5ECF6\",\"showlakes\":true,\"showland\":true,\"subunitcolor\":\"white\"},\"hoverlabel\":{\"align\":\"left\"},\"hovermode\":\"closest\",\"mapbox\":{\"style\":\"light\"},\"paper_bgcolor\":\"white\",\"plot_bgcolor\":\"#E5ECF6\",\"polar\":{\"angularaxis\":{\"gridcolor\":\"white\",\"linecolor\":\"white\",\"ticks\":\"\"},\"bgcolor\":\"#E5ECF6\",\"radialaxis\":{\"gridcolor\":\"white\",\"linecolor\":\"white\",\"ticks\":\"\"}},\"scene\":{\"xaxis\":{\"backgroundcolor\":\"#E5ECF6\",\"gridcolor\":\"white\",\"gridwidth\":2,\"linecolor\":\"white\",\"showbackground\":true,\"ticks\":\"\",\"zerolinecolor\":\"white\"},\"yaxis\":{\"backgroundcolor\":\"#E5ECF6\",\"gridcolor\":\"white\",\"gridwidth\":2,\"linecolor\":\"white\",\"showbackground\":true,\"ticks\":\"\",\"zerolinecolor\":\"white\"},\"zaxis\":{\"backgroundcolor\":\"#E5ECF6\",\"gridcolor\":\"white\",\"gridwidth\":2,\"linecolor\":\"white\",\"showbackground\":true,\"ticks\":\"\",\"zerolinecolor\":\"white\"}},\"shapedefaults\":{\"line\":{\"color\":\"#2a3f5f\"}},\"ternary\":{\"aaxis\":{\"gridcolor\":\"white\",\"linecolor\":\"white\",\"ticks\":\"\"},\"baxis\":{\"gridcolor\":\"white\",\"linecolor\":\"white\",\"ticks\":\"\"},\"bgcolor\":\"#E5ECF6\",\"caxis\":{\"gridcolor\":\"white\",\"linecolor\":\"white\",\"ticks\":\"\"}},\"title\":{\"x\":0.05},\"xaxis\":{\"automargin\":true,\"gridcolor\":\"white\",\"linecolor\":\"white\",\"ticks\":\"\",\"title\":{\"standoff\":15},\"zerolinecolor\":\"white\",\"zerolinewidth\":2},\"yaxis\":{\"automargin\":true,\"gridcolor\":\"white\",\"linecolor\":\"white\",\"ticks\":\"\",\"title\":{\"standoff\":15},\"zerolinecolor\":\"white\",\"zerolinewidth\":2}}},\"title\":{\"text\":\"\",\"y\":1},\"xaxis\":{\"showgrid\":true,\"title\":{\"font\":{\"family\":\"Times New Roman\"},\"text\":\"Cumulative Capacity [GW]\"},\"type\":\"log\"},\"xaxis2\":{\"anchor\":\"y\",\"automargin\":true,\"color\":\"rgb(105,105,105)\",\"overlaying\":\"x\",\"showgrid\":true,\"side\":\"top\",\"title\":{\"font\":{\"color\":\"rgb(10,10,10)\",\"family\":\"Times New Roman\"},\"text\":\"CO<sub>2</sub> capture capacity [Mtpa]\"},\"type\":\"log\"},\"yaxis\":{\"showgrid\":true,\"title\":{\"font\":{\"family\":\"Times New Roman\"},\"text\":\"Investment Cost [USD<sub>2018</sub>/kW]\"},\"type\":\"log\"},\"yaxis2\":{\"anchor\":\"x\",\"automargin\":true,\"color\":\"rgb(105,105,105)\",\"overlaying\":\"y\",\"showgrid\":true,\"side\":\"right\",\"title\":{\"font\":{\"color\":\"rgb(10,10,10)\",\"family\":\"Times New Roman\"},\"text\":\"Cost of CO<sub>2</sub> capture [USD<sub>2018</sub>/tCO<sub>2</sub>]\"},\"type\":\"log\"}},                        {\"responsive\": true}                    ).then(function(){\n",
       "                            \n",
       "var gd = document.getElementById('8aeacb2f-d440-42f3-aee9-fbd419a93301');\n",
       "var x = new MutationObserver(function (mutations, observer) {{\n",
       "        var display = window.getComputedStyle(gd).display;\n",
       "        if (!display || display === 'none') {{\n",
       "            console.log([gd, 'removed!']);\n",
       "            Plotly.purge(gd);\n",
       "            observer.disconnect();\n",
       "        }}\n",
       "}});\n",
       "\n",
       "// Listen for the removal of the full notebook cells\n",
       "var notebookContainer = gd.closest('#notebook-container');\n",
       "if (notebookContainer) {{\n",
       "    x.observe(notebookContainer, {childList: true});\n",
       "}}\n",
       "\n",
       "// Listen for the clearing of the current output cell\n",
       "var outputEl = gd.closest('.output');\n",
       "if (outputEl) {{\n",
       "    x.observe(outputEl, {childList: true});\n",
       "}}\n",
       "\n",
       "                        })                };                });            </script>        </div>"
      ]
     },
     "metadata": {},
     "output_type": "display_data"
    }
   ],
   "source": [
    "hist_installed_cap = hist_cost['installed_cap']\n",
    "hist_c_inv = hist_cost['c_inv']\n",
    "hist_year = hist_cost['year']\n",
    "\n",
    "future_installed_cap = future_cost['installed_cap']\n",
    "future_c_inv = future_cost['c_inv']\n",
    "\n",
    "first_point_year = hist_cost[(hist_cost.c_inv >= 0)].year.min()\n",
    "last_hist_point_year = hist_cost[(hist_cost.c_inv >= 0)].year.max()\n",
    "log_first_point = np.log10(hist_cost[(hist_cost.year == first_point_year)].installed_cap)\n",
    "log_last_point = np.log10(future_cost[(future_cost.year == 2050)].installed_cap)\n",
    "\n",
    "x_reg = np.logspace(float(log_first_point), float(log_last_point), 100)\n",
    "y_reg = np.exp(a+b*np.log(x_reg))\n",
    "\n",
    "first_x = float(hist_cost[(hist_cost.c_inv >= 0) & (hist_cost.year == first_point_year)].installed_cap)\n",
    "first_y = float(hist_cost[(hist_cost.c_inv >= 0) & (hist_cost.year == first_point_year)].c_inv)\n",
    "first_year = int(hist_cost[(hist_cost.c_inv >= 0) & (hist_cost.year == first_point_year)].year)\n",
    "\n",
    "last_x = float(hist_cost[(hist_cost.c_inv >= 0) & (hist_cost.year == last_hist_point_year)].installed_cap)\n",
    "last_y = float(hist_cost[(hist_cost.c_inv >= 0) & (hist_cost.year == last_hist_point_year)].c_inv)\n",
    "last_year = int(hist_cost[(hist_cost.c_inv >= 0) & (hist_cost.year == last_hist_point_year)].year)\n",
    "\n",
    "prosp_x = float(future_cost[(future_cost.c_inv >= 0) & (future_cost.year == 2050)].installed_cap)\n",
    "prosp_y = float(future_cost[(future_cost.c_inv >= 0) & (future_cost.year == 2050)].c_inv)\n",
    "prosp_year = 2050\n",
    "\n",
    "# Add traces\n",
    "\n",
    "fig.add_trace(go.Scatter(x=future_installed_cap, y=future_c_inv,\n",
    "                         mode='markers',\n",
    "                         marker_symbol='circle-open',\n",
    "                         name='Decentralized Heat Pumps - Prospective',\n",
    "                         marker = dict(color=colour_ashp, size=marker_size)))\n",
    "\n",
    "fig.add_trace(go.Scatter(x=hist_installed_cap, y=hist_c_inv,\n",
    "                         #text = hist_year,\n",
    "                         #textposition='top right',\n",
    "                         mode='markers+text',\n",
    "                         marker_symbol='circle',\n",
    "                         textfont_size=years_font_size,\n",
    "                         name='Decentralized Heat Pumps - Historical',\n",
    "                         marker = dict(color=colour_ashp, size=marker_size)))\n",
    "\n",
    "fig.add_trace(go.Scatter(x=x_reg, y=y_reg,\n",
    "                         mode='lines',\n",
    "                         name='Decentralized Heat Pumps - Learning Curve',\n",
    "                         line=dict(color=colour_ashp, width=line_width)))\n",
    "\n",
    "fig.add_annotation(x=np.log10(first_x), y=np.log10(first_y),\n",
    "            text=str(first_year),\n",
    "            showarrow=True,\n",
    "            font=dict(\n",
    "                family=\"Times New Roman\",\n",
    "                size=years_font_size,\n",
    "                color=colour_main_axis))\n",
    "\n",
    "fig.add_annotation(x=np.log10(last_x), y=np.log10(last_y),\n",
    "            text=str(last_year),\n",
    "            showarrow=True,\n",
    "            font=dict(\n",
    "                family=\"Times New Roman\",\n",
    "                size=years_font_size,\n",
    "                color=colour_main_axis))\n",
    "\n",
    "fig.add_annotation(x=np.log10(prosp_x), y=np.log10(prosp_y),\n",
    "            text=str(prosp_year),\n",
    "            showarrow=True,\n",
    "            font=dict(\n",
    "                family=\"Times New Roman\",\n",
    "                size=years_font_size,\n",
    "                color=colour_main_axis))"
   ]
  },
  {
   "cell_type": "markdown",
   "id": "ed16431e",
   "metadata": {},
   "source": [
    "## SOEC Electrolysis"
   ]
  },
  {
   "cell_type": "code",
   "execution_count": 49,
   "id": "62c3d065",
   "metadata": {},
   "outputs": [],
   "source": [
    "# Historical data\n",
    "hist_cost = hist_cost_electrolysis[hist_cost_electrolysis.tech == 'SOEC_ELECTROLYSIS'][['year','c_inv','installed_cap']]\n",
    "\n",
    "# Prospective data \n",
    "future_cost = future_cost_data[future_cost_data.tech == 'SOEC_ELECTROLYSIS'][['year', 'cost_ratio', 'c_inv', 'installed_cap']]\n",
    "\n",
    "# Learning curve : log(capex) = a.log(Q) + b.log(Q)/Q^{0.2}+ c with prospective point and 2050\n",
    "a = -0.069436354904   \n",
    "b = -0.31259701454 \n",
    "c = 7.8457420461"
   ]
  },
  {
   "cell_type": "code",
   "execution_count": 50,
   "id": "818f7151",
   "metadata": {},
   "outputs": [],
   "source": [
    "hist_installed_cap = hist_cost['installed_cap']\n",
    "hist_c_inv = hist_cost['c_inv']\n",
    "hist_year = hist_cost['year']\n",
    "\n",
    "future_installed_cap = future_cost['installed_cap']\n",
    "future_c_inv = future_cost['c_inv']\n",
    "\n",
    "first_point_year = hist_cost[(hist_cost.c_inv >= 0)].year.min()\n",
    "last_hist_point_year = hist_cost[(hist_cost.c_inv >= 0)].year.max()\n",
    "log_first_point = np.log10(hist_cost[(hist_cost.year == first_point_year)].installed_cap.head(1))\n",
    "log_last_point = np.log10(future_cost[(future_cost.year == 2050)].installed_cap)\n",
    "\n",
    "x_reg = np.logspace(float(log_first_point), float(log_last_point), 100)\n",
    "y_reg = np.exp(a*np.log(1000*x_reg)+b*np.log(1000*x_reg)/((1000*x_reg)**0.2)+c)\n",
    "\n",
    "# Add traces\n",
    "\n",
    "fig.add_trace(go.Scatter(x=future_installed_cap, y=future_c_inv,\n",
    "                         mode='markers',\n",
    "                         marker_symbol='circle-open',\n",
    "                         name='SOEC Electrolysis - Prospective',\n",
    "                         marker = dict(color=colour_soec, size=marker_size)))\n",
    "\n",
    "fig.add_trace(go.Scatter(x=hist_installed_cap, y=hist_c_inv,\n",
    "                         #text = hist_year,\n",
    "                         #textposition='top right',\n",
    "                         mode='markers+text',\n",
    "                         marker_symbol='circle',\n",
    "                         textfont_size=years_font_size,\n",
    "                         name='SOEC Electrolysis - Historical',\n",
    "                         marker = dict(color=colour_soec, size=marker_size)))\n",
    "\n",
    "fig.add_trace(go.Scatter(x=x_reg, y=y_reg,\n",
    "                         mode='lines',\n",
    "                         name='SOEC Electrolysis - Learning Curve',\n",
    "                         line=dict(color=colour_soec, width=line_width)))\n",
    "\n",
    "years = hist_cost.year.unique()\n",
    "for i in range(len(years)):\n",
    "    x = float(hist_cost[(hist_cost.c_inv >= 0) & (hist_cost.year == years[i])].installed_cap.head(1))\n",
    "    y = float(hist_cost[(hist_cost.c_inv >= 0) & (hist_cost.year == years[i])].c_inv.head(1))\n",
    "    year = years[i]\n",
    "    fig.add_annotation(x=np.log10(x), y=np.log10(y),\n",
    "            text=str(year),\n",
    "            showarrow=True,\n",
    "            font=dict(\n",
    "                family=\"Times New Roman\",\n",
    "                size=years_font_size,\n",
    "                color=colour_main_axis))\n"
   ]
  },
  {
   "cell_type": "markdown",
   "id": "c2378548",
   "metadata": {},
   "source": [
    "## PEM Electrolysis"
   ]
  },
  {
   "cell_type": "code",
   "execution_count": 51,
   "id": "00f8f0ac",
   "metadata": {},
   "outputs": [],
   "source": [
    "# Historical data\n",
    "hist_cost = hist_cost_electrolysis[hist_cost_electrolysis.tech == 'PEM_ELECTROLYSIS'][['year','c_inv','installed_cap']]\n",
    "\n",
    "# Prospective data \n",
    "future_cost = future_cost_data[future_cost_data.tech == 'PEM_ELECTROLYSIS'][['year', 'cost_ratio', 'c_inv', 'installed_cap']]\n",
    "\n",
    "# Learning curve : log(capex) = a*log(x) + b*(log(x))**c + d with prospective point and 2050\n",
    "a = -0.031032067186 \n",
    "b = 2.5252099604 \n",
    "c = -0.73468149012\n",
    "d = 6.351207017"
   ]
  },
  {
   "cell_type": "code",
   "execution_count": 52,
   "id": "bcea5be7",
   "metadata": {},
   "outputs": [],
   "source": [
    "hist_installed_cap = hist_cost['installed_cap']\n",
    "hist_c_inv = hist_cost['c_inv']\n",
    "hist_year = hist_cost['year']\n",
    "\n",
    "future_installed_cap = future_cost['installed_cap']\n",
    "future_c_inv = future_cost['c_inv']\n",
    "\n",
    "first_point_year = hist_cost[(hist_cost.c_inv >= 0)].year.min()\n",
    "last_hist_point_year = hist_cost[(hist_cost.c_inv >= 0)].year.max()\n",
    "log_first_point = np.log10(hist_cost[(hist_cost.year == first_point_year)].installed_cap)\n",
    "log_last_point = np.log10(future_cost[(future_cost.year == 2050)].installed_cap)\n",
    "\n",
    "x_reg = np.logspace(float(log_first_point), float(log_last_point), 100)\n",
    "y_reg = np.exp(a*np.log(1000*x_reg)+b*(np.log(1000*x_reg))**c+d)\n",
    "\n",
    "# Add traces\n",
    "\n",
    "fig.add_trace(go.Scatter(x=future_installed_cap, y=future_c_inv,\n",
    "                         mode='markers',\n",
    "                         marker_symbol='circle-open',\n",
    "                         name='PEM Electrolysis - Prospective',\n",
    "                         marker = dict(color=colour_pem, size=marker_size)))\n",
    "\n",
    "fig.add_trace(go.Scatter(x=hist_installed_cap, y=hist_c_inv,\n",
    "                         #text = hist_year,\n",
    "                         #textposition='top right',\n",
    "                         mode='markers+text',\n",
    "                         marker_symbol='circle',\n",
    "                         textfont_size=years_font_size,\n",
    "                         name='PEM Electrolysis - Historical',\n",
    "                         marker = dict(color=colour_pem, size=marker_size)))\n",
    "\n",
    "fig.add_trace(go.Scatter(x=x_reg, y=y_reg,\n",
    "                         mode='lines',\n",
    "                         name='PEM Electrolysis - Learning Curve',\n",
    "                         line=dict(color=colour_pem, width=line_width)))\n",
    "\n",
    "years = hist_cost.year.unique()\n",
    "for i in range(len(years)):\n",
    "    x = float(hist_cost[(hist_cost.c_inv >= 0) & (hist_cost.year == years[i])].installed_cap.sample(1))\n",
    "    y = float(hist_cost[(hist_cost.c_inv >= 0) & (hist_cost.year == years[i])].c_inv.sample(1))\n",
    "    year = years[i]\n",
    "    fig.add_annotation(x=np.log10(x), y=np.log10(y),\n",
    "            text=str(year),\n",
    "            showarrow=True,\n",
    "            font=dict(\n",
    "                family=\"Times New Roman\",\n",
    "                size=years_font_size,\n",
    "                color=colour_main_axis))\n",
    "\n"
   ]
  },
  {
   "cell_type": "markdown",
   "id": "eec63f06",
   "metadata": {},
   "source": [
    "## ALK Electrolysis"
   ]
  },
  {
   "cell_type": "code",
   "execution_count": 53,
   "id": "1fa2f361",
   "metadata": {},
   "outputs": [],
   "source": [
    "# Historical data\n",
    "hist_cost = hist_cost_electrolysis[hist_cost_electrolysis.tech == 'ALKALINE_ELECTROLYSIS'][['year','c_inv','installed_cap']]\n",
    "\n",
    "# Prospective data \n",
    "future_cost = future_cost_data[future_cost_data.tech == 'ALKALINE_ELECTROLYSIS'][['year', 'cost_ratio', 'c_inv', 'installed_cap']]\n",
    "\n",
    "# Learning curve : log(capex) = a + b.log(Q) with prospective points in 2030 and 2050\n",
    "a = 6.8261573831\n",
    "b = -0.10563795844"
   ]
  },
  {
   "cell_type": "code",
   "execution_count": 54,
   "id": "3a0b1b51",
   "metadata": {},
   "outputs": [
    {
     "data": {
      "application/vnd.plotly.v1+json": {
       "config": {
        "plotlyServerURL": "https://plot.ly"
       },
       "data": [
        {
         "legendgroup": "group",
         "legendgrouptitle": {
          "font": {
           "color": "rgb(10,10,10)"
          },
          "text": "Power capacity"
         },
         "marker": {
          "color": "rgb(0,0,205)",
          "size": 6,
          "symbol": "circle-open"
         },
         "mode": "markers",
         "name": "Onshore Wind - Prospective",
         "type": "scatter",
         "x": [
          541,
          595,
          698,
          903.212,
          1108.424,
          1313.635,
          1518.847,
          1724.059,
          1929.271,
          2134.482,
          2339.694,
          2544.906,
          2750.118,
          2957.488,
          3164.859,
          3372.229,
          3579.6,
          3786.97,
          3994.341,
          4201.711,
          4409.082,
          4616.452,
          4823.823,
          5031.193,
          5238.564,
          5445.934,
          5653.305,
          5860.675,
          6068.046,
          6275.417,
          6482.787,
          6690.158,
          6897.528
         ],
         "y": [
          1520.39,
          1447.57,
          1315.53,
          1347.82,
          1284.84,
          1234.83,
          1193.64,
          1158.81,
          1128.75,
          1102.39,
          1078.99,
          1058,
          1038.99,
          1021.49,
          1005.44,
          990.64,
          976.91,
          964.14,
          952.2,
          941,
          930.47,
          920.53,
          911.12,
          902.2,
          893.73,
          885.65,
          877.95,
          870.59,
          863.54,
          856.79,
          850.3,
          844.07,
          838.07
         ]
        },
        {
         "legendgroup": "group",
         "marker": {
          "color": "rgb(0,0,205)",
          "size": 6,
          "symbol": "circle"
         },
         "mode": "markers+text",
         "name": "Onshore Wind - Historical",
         "textfont": {
          "size": 10
         },
         "type": "scatter",
         "x": [
          178,
          216,
          261,
          292,
          340,
          405,
          453,
          495,
          541,
          595,
          698
         ],
         "y": [
          1914,
          1883,
          1937,
          1797,
          1745,
          1611,
          1604,
          1599,
          1520,
          1448,
          1316
         ]
        },
        {
         "legendgroup": "group",
         "line": {
          "color": "rgb(0,0,205)",
          "width": 1.5
         },
         "mode": "lines",
         "name": "Onshore Wind - Learning Curve",
         "type": "scatter",
         "x": [
          178.00000000000003,
          184.69841505847967,
          191.6489018264855,
          198.86094615196652,
          206.3443908499881,
          214.10944913595645,
          222.16671856435596,
          230.52719549202163,
          239.20229008568927,
          248.20384189430047,
          257.5441360073189,
          267.23591982110855,
          277.2924204362567,
          287.7273627095853,
          298.55498798548706,
          309.7900735321514,
          321.4479527092035,
          333.5445358942865,
          346.0963321971399,
          359.1204719908134,
          372.63473029076613,
          386.65755101375584,
          401.2080721496289,
          416.3061518803629,
          431.9723956820102,
          448.22818444652603,
          465.09570366187256,
          482.5979736902033,
          500.7588811854742,
          519.6032116933404,
          539.1566834778407,
          559.4459826210312,
          580.4987994434731,
          602.3438662952794,
          625.0109967692971,
          648.5311263899429,
          672.936354833219,
          698.2599897355406,
          724.5365921511494,
          751.802023720165,
          780.0934956116404,
          809.4496193084215,
          839.910459303119,
          871.5175877771109,
          904.3141413372019,
          938.344879887365,
          973.6562477159322,
          1010.2964368815681,
          1048.3154529845783,
          1087.7651834132794,
          1128.6994681585907,
          1171.1741732934863,
          1215.2472672175961,
          1260.9788997710052,
          1308.431484325224,
          1357.669782963388,
          1408.7609948658865,
          1461.7748480221135,
          1516.7836943934512,
          1573.8626086573922,
          1633.0894906675535,
          1694.545171769421,
          1758.3135251169167,
          1824.4815801403524,
          1893.1396413219884,
          1964.3814114412894,
          2038.304119458122,
          2115.0086532083433,
          2194.599697092981,
          2277.1858749488374,
          2362.8798982955477,
          2451.7987201614,
          2544.063694697862,
          2639.8007428006485,
          2739.1405239633514,
          2842.21861459823,
          2949.175693067418,
          3060.1577316772236,
          3175.31619589739,
          3294.808251077353,
          3418.7969769415076,
          3547.451590156281,
          3680.9476752727473,
          3819.467424359949,
          3963.199885656049,
          4112.341221576513,
          4267.094976431656,
          4427.672354218693,
          4594.2925068676395,
          4767.182833334282,
          4946.579289948507,
          5132.72671244151,
          5325.879150091391,
          5526.300212443166,
          5734.263429076354,
          5950.052622911271,
          6173.9622975632665,
          6406.298039273847,
          6647.376933966996,
          6897.528
         ],
         "y": [
          1970.111645221424,
          1953.1752957557574,
          1936.3845420658017,
          1919.7381325164308,
          1903.2348262323799,
          1886.873393005749,
          1870.6526132042968,
          1854.5712776805262,
          1838.6281876815572,
          1822.8221547597514,
          1807.1520006841426,
          1791.6165573525923,
          1776.2146667047211,
          1760.945180635584,
          1745.8069609100853,
          1730.7988790781326,
          1715.9198163905169,
          1701.1686637155192,
          1686.5443214562313,
          1672.0456994685887,
          1657.671716980108,
          1643.4213025093222,
          1629.293393785909,
          1615.2869376715119,
          1601.4008900812194,
          1587.6342159057583,
          1573.9858889343154,
          1560.4548917780485,
          1547.0402157942458,
          1533.7408610111383,
          1520.5558360533587,
          1507.484158068041,
          1494.524852651557,
          1481.676953776879,
          1468.9395037215706,
          1456.3115529963934,
          1443.792160274536,
          1431.380392321429,
          1419.0753239251994,
          1406.876037827685,
          1394.7816246560678,
          1382.7911828550855,
          1370.9038186198245,
          1359.1186458290956,
          1347.4347859793772,
          1335.8513681193313,
          1324.3675287848782,
          1312.9824119348325,
          1301.6951688870902,
          1290.5049582553654,
          1279.4109458864714,
          1268.4123047981402,
          1257.5082151173758,
          1246.6978640193379,
          1235.980445666756,
          1225.3551611498526,
          1214.8212184267945,
          1204.3778322646513,
          1194.0242241808598,
          1183.7596223851958,
          1173.5832617222406,
          1163.494383614345,
          1153.492236005082,
          1143.5760733031864,
          1133.7451563269758,
          1123.9987522492504,
          1114.336134542665,
          1104.7565829255711,
          1095.259383308328,
          1085.8438277400671,
          1076.5092143559227,
          1067.2548473247116,
          1058.0800367970644,
          1048.984098854001,
          1039.9663554559504,
          1031.0261343922054,
          1022.1627692308168,
          1013.3755992689131,
          1004.6639694834505,
          996.0272304823859,
          987.4647384562676,
          978.9758551302483,
          970.5599477164967,
          962.2163888670405,
          953.944556626988,
          945.7438343881793,
          937.613610843209,
          929.5532799398702,
          921.5622408359676,
          913.639897854534,
          905.7856604394249,
          897.9989431112973,
          890.2791654239659,
          882.6257519211341,
          875.0381320935018,
          867.5157403362288,
          860.0580159067852,
          852.6644028831387,
          845.3343501223277,
          838.0673112193643
         ]
        },
        {
         "marker": {
          "color": "rgb(30,144,255)",
          "size": 6,
          "symbol": "circle-open"
         },
         "mode": "markers",
         "name": "Offshore Wind - Prospective",
         "type": "scatter",
         "x": [
          23.626,
          28.355,
          34.367,
          66.02,
          97.67,
          129.32,
          160.97,
          192.62,
          224.28,
          255.93,
          287.58,
          319.23,
          350.88,
          401.71,
          452.54,
          503.37,
          554.2,
          605.03,
          655.86,
          706.69,
          757.52,
          808.35,
          859.18,
          910.01,
          960.84,
          1011.67,
          1062.5,
          1113.32,
          1164.15,
          1214.98,
          1265.81,
          1316.64,
          1367.47
         ],
         "y": [
          4496,
          3615,
          3092,
          2820,
          2513,
          2314,
          2170,
          2058,
          1968,
          1893,
          1829,
          1774,
          1725,
          1658,
          1601,
          1552,
          1508,
          1470,
          1436,
          1404,
          1376,
          1350,
          1326,
          1304,
          1283,
          1264,
          1246,
          1229,
          1213,
          1198,
          1183,
          1170,
          1157
         ]
        },
        {
         "marker": {
          "color": "rgb(30,144,255)",
          "size": 6,
          "symbol": "circle"
         },
         "mode": "markers+text",
         "name": "Offshore Wind - Historical",
         "textfont": {
          "size": 10
         },
         "type": "scatter",
         "x": [
          3.056,
          3.776,
          5.334,
          7.171,
          8.492,
          11.717,
          14.342,
          18.837,
          23.626,
          28.355,
          34.367
         ],
         "y": [
          4569,
          5233,
          4631,
          5554,
          5153,
          5168,
          4069,
          4597,
          4496,
          3615,
          3092
         ]
        },
        {
         "line": {
          "color": "rgb(30,144,255)",
          "width": 1.5
         },
         "mode": "lines",
         "name": "Offshore Wind - Learning Curve",
         "type": "scatter",
         "x": [
          3.056,
          3.2503396705285033,
          3.4570379495455956,
          3.676880755867331,
          3.910703987106811,
          4.1593966979670345,
          4.423904480650365,
          4.705233060237787,
          5.004452118708478,
          5.3226993621395895,
          5.66118484655074,
          6.021195578841196,
          6.404100410313601,
          6.811355241390762,
          7.244508557315,
          7.705207315878327,
          8.19520320956995,
          8.716359325951483,
          9.270657231584156,
          9.860204506443042,
          10.487242757465882,
          11.154156141706178,
          11.863480431497628,
          12.617912656097957,
          13.420321356472138,
          14.273757492206242,
          15.181466042022711,
          16.14689834200516,
          17.17372520844577,
          18.265850895211603,
          19.42742793869924,
          20.662872946821967,
          21.976883392063357,
          23.374455472448474,
          24.860903108344687,
          26.441878147322686,
          28.123391853901712,
          29.91183776588837,
          31.814016004214537,
          33.837159128706574,
          35.98895963809576,
          38.27759921883237,
          40.711779853914166,
          43.30075691001323,
          46.05437432870654,
          48.9831020556166,
          52.09807584977646,
          55.41113962458492,
          58.93489048134234,
          62.682726606596745,
          66.66889821541683,
          70.90856173429204,
          75.41783742967564,
          80.2138707012906,
          85.31489727324895,
          90.74031253085906,
          96.51074526675582,
          102.64813611675633,
          109.17582098367234,
          116.11861976627901,
          123.50293073080883,
          131.35683088379633,
          139.71018272791454,
          148.59474780671698,
          158.04430747000995,
          168.0947913190371,
          178.78441381985488,
          190.15381960433854,
          202.24623801129013,
          215.1076474552506,
          228.786950247991,
          243.33615853739397,
          258.8105920707151,
          275.26908853416717,
          292.77422726859487,
          311.39256721185916,
          331.19489997265015,
          352.25651899797947,
          374.65750585779114,
          398.4830347352236,
          423.8236962802632,
          450.77584205816896,
          479.441950902342,
          509.93101856461413,
          542.3589721444934,
          576.8491108731386,
          613.532574928029,
          652.548844060888,
          694.0462679347585,
          738.1826301867152,
          785.1257483609135,
          835.0541119930809,
          888.1575612725987,
          944.6380088626242,
          1004.7102076227889,
          1068.60256715356,
          1136.5580222669548,
          1208.8349566857657,
          1285.7081854834269,
          1367.47
         ],
         "y": [
          6959.219144504205,
          6834.207404939681,
          6711.4413102822255,
          6590.880520951991,
          6472.48542200805,
          6356.217110131399,
          6242.037380841691,
          6129.908715943699,
          6019.794271199283,
          5911.657864220721,
          5805.463962581605,
          5701.1776721413125,
          5598.7647255791135,
          5498.1914711343425,
          5399.42486154883,
          5302.432443207881,
          5207.182345476404,
          5113.643270226606,
          5021.784481553709,
          4931.575795676511,
          4842.987571019349,
          4755.990698472153,
          4670.5565918255425,
          4586.657178377742,
          4504.264889710145,
          4423.352652628669,
          4343.893880267821,
          4265.8624633545005,
          4189.232761628835,
          4113.979595419025,
          4040.0782373676066,
          3967.504404306335,
          3896.2342492769617,
          3826.244353695409,
          3757.5117196567044,
          3690.01376237808,
          3623.728302777888,
          3558.633560187813,
          3494.708145195953,
          3431.9310526185095,
          3370.2816545977385,
          3309.7396938238276,
          3250.285276878584,
          3191.8988676986987,
          3134.561281156374,
          3078.253676755324,
          3022.9575524400066,
          2968.6547385160247,
          2915.3273916797907,
          2862.957989155403,
          2811.529322936853,
          2761.0244941336746,
          2711.426907418151,
          2662.720265572267,
          2614.888564132637,
          2567.916086131607,
          2521.787396932829,
          2476.4873391596216,
          2432.0010277144183,
          2388.3138448876825,
          2345.411435554702,
          2303.2797024586494,
          2261.90480157837,
          2221.273137579407,
          2181.371359346711,
          2142.186355597621,
          2103.70525057363,
          2065.9153998095694,
          2028.8043859787613,
          1992.3600148128353,
          1956.5703110948207,
          1921.4235147242246,
          1886.908076852788,
          1853.0126560896715,
          1819.7261147747938,
          1787.0375153191167,
          1754.9361166106842,
          1723.4113704851989,
          1692.4529182600297,
          1662.0505873304432,
          1632.1943878270145,
          1602.8745093330551,
          1574.0813176610284,
          1545.8053516868567,
          1518.0373202410983,
          1490.7680990559795,
          1463.9887277672549,
          1437.690406969935,
          1411.8644953268931,
          1386.5025067294252,
          1361.5961075088055,
          1337.1371136979303,
          1313.1174883421654,
          1289.5293388584878,
          1266.364914442066,
          1243.6166035194396,
          1221.2769312474363,
          1199.3385570570179,
          1177.7942722412565,
          1156.6369975866319
         ]
        },
        {
         "marker": {
          "color": "rgb(255,215,0)",
          "size": 6,
          "symbol": "circle-open"
         },
         "mode": "markers",
         "name": "Residential PV - Prospective",
         "type": "scatter",
         "x": [
          58,
          74,
          93,
          150.67,
          208.35,
          266.02,
          323.7,
          381.37,
          439.05,
          496.72,
          554.39,
          612.07,
          669.74,
          751.15,
          832.56,
          913.96,
          995.37,
          1076.78,
          1158.18,
          1239.59,
          1321,
          1402.41,
          1483.81,
          1530.81,
          1577.81,
          1624.82,
          1671.82,
          1718.82,
          1765.82,
          1812.82,
          1859.82,
          1906.82,
          1953.82
         ],
         "y": [
          2704.85,
          2506.8,
          2442.72,
          1872.68,
          1639.53,
          1483.13,
          1368.42,
          1279.39,
          1207.57,
          1147.95,
          1097.36,
          1053.7,
          1015.48,
          968.8,
          928.75,
          893.88,
          863.13,
          835.74,
          811.12,
          788.83,
          768.51,
          749.88,
          732.72,
          723.41,
          714.49,
          705.94,
          697.73,
          689.83,
          682.24,
          674.93,
          667.88,
          661.07,
          654.5
         ]
        },
        {
         "marker": {
          "color": "rgb(255,215,0)",
          "size": 6,
          "symbol": "circle"
         },
         "mode": "markers+text",
         "name": "Residential PV - Historical",
         "textfont": {
          "size": 10
         },
         "type": "scatter",
         "x": [
          27,
          32,
          38,
          44,
          50,
          58,
          74,
          93
         ],
         "y": [
          3794,
          3379,
          3158,
          3103,
          3027,
          2705,
          2507,
          2443
         ]
        },
        {
         "line": {
          "color": "rgb(255,215,0)",
          "width": 1.5
         },
         "mode": "lines",
         "name": "Residential PV - Learning Curve",
         "type": "scatter",
         "x": [
          27.000000000000004,
          28.193357762954378,
          29.439460072219994,
          30.740638154233665,
          32.099326271993874,
          33.5180662791157,
          34.999512375167626,
          36.54643607118703,
          38.16173137466358,
          39.84842020369078,
          41.60965804041457,
          43.4487398343555,
          45.36910616664858,
          47.3743496867327,
          49.46822183353187,
          51.65463985370204,
          53.93769413007343,
          56.32165583399868,
          58.810984915922646,
          61.41033844912294,
          64.12457934223096,
          66.95878543683226,
          69.91825900716708,
          73.00853667970254,
          76.23539979113444,
          79.60488520419668,
          83.12329660151224,
          86.79721627861497,
          90.63351745820441,
          94.63937714867141,
          98.82228957095045,
          103.19008017881782,
          107.7509202988651,
          112.51334241753653,
          117.48625614382942,
          122.67896487752158,
          128.10118321410656,
          133.7630551190028,
          139.67517290503062,
          145.84859704866815,
          152.29487688215085,
          159.02607220013215,
          166.05477582132366,
          173.39413714732459,
          181.0578867627148,
          189.0603621224333,
          197.4165343744989,
          206.1420363682529,
          215.25319190052244,
          224.76704625441835,
          234.7013980879014,
          245.07483273176936,
          255.90675695936943,
          267.217435293071,
          279.0280279154319,
          291.3606302559775,
          304.2383143276534,
          317.68517189028523,
          331.72635952179513,
          346.38814568149616,
          361.6979598535104,
          377.68444386224917,
          394.37750545595696,
          411.8083742585665,
          430.00966019453205,
          449.01541449595913,
          468.8611934061412,
          489.5841246987073,
          511.2229771367966,
          533.8182330022353,
          557.4121638303761,
          582.0489094923086,
          607.7745607723743,
          634.6372455954817,
          662.6872190655317,
          691.9769574834013,
          722.5612565203786,
          754.4973337306986,
          787.8449355949923,
          822.6664492948645,
          859.0270194277595,
          896.9946698804132,
          936.6404310889498,
          978.0384729236509,
          1021.2662434470391,
          1066.4046138048457,
          1113.5380295209336,
          1162.7546684792196,
          1214.14660588815,
          1267.8099865363474,
          1323.845204661688,
          1382.357091770317,
          1443.4551127569505,
          1507.253570693422,
          1573.8718206685203,
          1643.4344930792595,
          1716.0717267912253,
          1791.919412604293,
          1871.119447479107,
          1953.8199999999993
         ],
         "y": [
          3791.3382077272263,
          3724.660274126696,
          3659.1549995150685,
          3594.8017604412125,
          3531.5802961568556,
          3469.470702237708,
          3408.4534243168737,
          3348.5092519283758,
          3289.6193124590445,
          3231.7650652066854,
          3174.9282955428307,
          3119.0911091780895,
          3064.235926528364,
          3010.3454771801644,
          2957.402794453267,
          2905.391210058959,
          2854.2943488522674,
          2804.0961236764606,
          2754.7807302982274,
          2706.3326424319253,
          2658.7366068513406,
          2611.9776385874156,
          2566.0410162104326,
          2520.912277195172,
          2476.5772133675805,
          2433.02186643152,
          2390.2325235741837,
          2348.1957131488134,
          2306.8982004333106,
          2266.326983463491,
          2226.4692889395706,
          2187.312568204672,
          2148.8444932940515,
          2111.052953053802,
          2073.926049327822,
          2037.4520932118414,
          2001.6196013733268,
          1966.4172924361092,
          1931.8340834286025,
          1897.8590862944611,
          1864.4816044646477,
          1831.6911294897366,
          1799.4773377314964,
          1767.8300871126055,
          1736.7394139235812,
          1706.1955296858218,
          1676.1888180698445,
          1646.7098318677124,
          1617.7492900187074,
          1589.2980746873206,
          1561.3472283926087,
          1533.8879511880746,
          1506.9115978911002,
          1480.4096753611448,
          1454.3738398257847,
          1428.7958942537975,
          1403.6677857744237,
          1378.981603142047,
          1354.7295742454276,
          1330.9040636607751,
          1307.497570247821,
          1284.5027247882024,
          1261.9122876653516,
          1239.7191465852052,
          1217.9163143369942,
          1196.4969265934126,
          1175.4542397494838,
          1154.7816287994146,
          1134.4725852508175,
          1114.5207150755841,
          1094.9197366968267,
          1075.6634790111939,
          1056.7458794459965,
          1038.160982050474,
          1019.9029356206589,
          1001.9659918571884,
          984.3445035555449,
          967.0329228280988,
          950.0257993574368,
          933.3177786804008,
          916.9036005023087,
          900.7780970408207,
          884.9361913989334,
          869.3728959665871,
          854.083310850384,
          839.0626223309235,
          824.3061013472663,
          809.8091020080574,
          795.5670601288215,
          781.5754917950027,
          767.8299919502534,
          754.3262330095698,
          741.0599634968054,
          728.0270067061556,
          715.223259387173,
          702.6446904529183,
          690.2873397108257,
          678.14731661589,
          666.2207990457789,
          654.5040320974949
         ]
        },
        {
         "marker": {
          "color": "rgb(255,140,0)",
          "size": 6,
          "symbol": "circle-open"
         },
         "mode": "markers",
         "name": "CSP - Prospective",
         "type": "scatter",
         "x": [
          5.83,
          6.38,
          6.48,
          13.13,
          19.78,
          26.44,
          33.09,
          39.74,
          46.39,
          53.04,
          59.7,
          66.35,
          73,
          93.8,
          114.6,
          135.4,
          156.2,
          177,
          197.8,
          218.6,
          239.4,
          260.2,
          281,
          295.5,
          310,
          324.5,
          339,
          353.5,
          368,
          382.5,
          397,
          411.5,
          426
         ],
         "y": [
          5161,
          6466,
          4448,
          5036,
          4238,
          3701,
          3307,
          3002,
          2757,
          2555,
          2384,
          2237,
          2110,
          1799,
          1574,
          1403,
          1267,
          1157,
          1065,
          987,
          921,
          863,
          812,
          780,
          750,
          723,
          697,
          673,
          651,
          631,
          611,
          593,
          576
         ]
        },
        {
         "marker": {
          "color": "rgb(255,140,0)",
          "size": 6,
          "symbol": "circle"
         },
         "mode": "markers+text",
         "name": "CSP - Historical",
         "textfont": {
          "size": 10
         },
         "type": "scatter",
         "x": [
          1.266,
          1.705,
          2.567,
          3.842,
          4.499,
          4.75,
          4.86,
          4.959,
          5.833,
          6.384,
          6.479
         ],
         "y": [
          8830,
          10403,
          8040,
          6307,
          5414,
          7232,
          7602,
          7196,
          5161,
          6466,
          4448
         ]
        },
        {
         "line": {
          "color": "rgb(255,140,0)",
          "width": 1.5
         },
         "mode": "lines",
         "name": "CSP - Learning Curve",
         "type": "scatter",
         "x": [
          1.266,
          1.3426373200696768,
          1.4239138809193395,
          1.5101105190265045,
          1.6015250713070892,
          1.698473404237084,
          1.8012905052721162,
          1.9103316403361044,
          2.025973581378497,
          2.1486159082416982,
          2.2786823893370527,
          2.4166224459000536,
          2.562912704884262,
          2.718058645859662,
          2.8825963476060275,
          3.0570943404363313,
          3.2421555706505623,
          3.438419483907777,
          3.6465642347150853,
          3.8673090296680837,
          4.101416612539351,
          4.349695899801805,
          4.61300477569349,
          4.892253056481617,
          5.188405634168377,
          5.502485810500979,
          5.835578832806051,
          6.1888356438657555,
          6.56347685879274,
          6.960796982645204,
          7.3821688833553285,
          7.829048535426509,
          8.302980050790262,
          8.805601014206186,
          9.338648141640299,
          9.90396328117346,
          10.503499777174737,
          11.13932921973012,
          11.813648602647945,
          12.528787914774181,
          13.287218190848156,
          14.091560049716765,
          14.944592749409663,
          15.849263790363443,
          16.808699099977044,
          17.826213833689394,
          18.905323829900254,
          20.049757758314914,
          21.263470003688894,
          22.550654329490374,
          23.91575836869243,
          25.363498991765518,
          26.898878604971575,
          28.52720243527535,
          30.254096861598153,
          32.08552885575399,
          34.02782660024314,
          36.08770135414386,
          38.27227064265604,
          40.58908285042424,
          43.04614330361743,
          45.651941930887986,
          48.415482598786674,
          51.346314222997655,
          54.45456376289186,
          57.75097121340635,
          61.246926715157166,
          64.95450991101303,
          68.88653168511992,
          73.05657842859736,
          77.47905898485952,
          82.16925443677107,
          87.14337090766962,
          92.41859555869776,
          98.01315597593465,
          103.94638315252783,
          110.23877828344838,
          116.91208360366862,
          123.9893575145274,
          131.49505425787214,
          139.4551084132751,
          147.8970245102889,
          156.84997206538205,
          166.34488637193388,
          176.41457539155454,
          187.09383311607172,
          198.41955979188464,
          210.43088942210193,
          223.16932498702153,
          236.67888185018438,
          251.00623984551288,
          266.20090457104715,
          282.3153784465992,
          299.40534212638124,
          317.5298468934513,
          336.75151870075666,
          357.1367745638055,
          378.75605205266686,
          401.6840526762743,
          425.99999999999994
         ],
         "y": [
          8830.000500101507,
          8783.462570577089,
          8733.195649968666,
          8679.266677793423,
          8621.747177579036,
          8560.713098842496,
          8496.244650048156,
          8428.426123059307,
          8357.345709620193,
          8283.095310427958,
          8205.770337372027,
          8125.469509536107,
          8042.294643572226,
          7956.3504390687385,
          7867.744259543848,
          7776.5859097040775,
          7682.9874096119975,
          7587.062766410445,
          7488.927744250638,
          7388.699633069892,
          7286.497016860243,
          7182.439542062544,
          7076.647686712386,
          6969.242530952617,
          6860.345529514916,
          6750.078286757328,
          6638.562334828462,
          6525.918915509698,
          6412.268766267041,
          6297.731911021723,
          6182.427456125848,
          6066.473392003965,
          5949.986400896013,
          5833.081671109456,
          5715.872718160888,
          5598.4712131578835,
          5480.986818742734,
          5363.52703288906,
          5246.197040812107,
          5129.099575222044,
          5012.334785118874,
          4896.0001132961825,
          4780.190182689804,
          4664.99669167671,
          4550.508318398773,
          4436.810634155942,
          4323.986025883684,
          4212.113627700865,
          4101.269261485803,
          3991.5253864109986,
          3882.9510573408893,
          3775.6118919712626,
          3669.570046565033,
          3564.884200115897,
          3461.6095467494897,
          3359.7977961512433,
          3259.497181790823,
          3160.752476695253,
          3063.605016506263,
          2968.0927295426336,
          2874.2501735744518,
          2782.1085790043176,
          2691.6958981398216,
          2603.0368602324193,
          2516.153031950153,
          2431.062882945371,
          2347.7818561736976,
          2266.3224426171064,
          2186.6942600617076,
          2108.9041355802165,
          2032.9561913694067,
          1958.8519335946528,
          1886.59034389653,
          1816.1679732184812,
          1747.579037619631,
          1680.8155157429783,
          1615.8672476162355,
          1552.7220344705202,
          1491.365739270948,
          1431.7823876626314,
          1373.9542690458254,
          1317.862037504867,
          1263.4848123268562,
          1210.8002778579853,
          1159.7847824576752,
          1110.413436323369,
          1062.6602079717195,
          1016.4980191751514,
          971.898838166021,
          928.8337709340586,
          887.2731504562788,
          847.1866237119442,
          808.543236348578,
          771.3115148783369,
          735.4595462970867,
          700.9550550315031,
          667.7654771320965,
          635.858031642494,
          605.1997890872526,
          575.7577370322424
         ]
        },
        {
         "marker": {
          "color": "rgb(50,205,50)",
          "size": 6,
          "symbol": "circle-open"
         },
         "mode": "markers",
         "name": "Ground Source Heat Pumps - Prospective",
         "type": "scatter",
         "x": [
          2.174,
          2.859,
          3.544,
          4.23,
          4.915,
          5.6,
          6.286,
          6.971,
          7.657,
          8.342,
          9.027,
          9.713,
          10.398,
          11.084,
          11.769,
          12.454,
          13.14,
          13.825,
          14.511,
          15.196,
          15.881,
          16.567,
          17.252,
          17.937,
          18.623,
          19.308,
          19.994,
          20.679,
          21.364,
          22.05,
          22.735,
          23.421,
          24.106
         ],
         "y": [
          2784.93,
          2364.46,
          2079.7,
          1871.35,
          1710.83,
          1582.54,
          1477.11,
          1388.59,
          1312.97,
          1247.44,
          1189.99,
          1139.11,
          1093.66,
          1052.76,
          1015.71,
          981.95,
          951.03,
          922.59,
          896.32,
          871.95,
          849.28,
          828.12,
          808.32,
          789.73,
          772.24,
          755.76,
          740.18,
          725.43,
          711.44,
          698.15,
          685.51,
          673.46,
          661.96
         ]
        },
        {
         "marker": {
          "color": "rgb(50,205,50)",
          "size": 6,
          "symbol": "circle"
         },
         "mode": "markers+text",
         "name": "Ground Source Heat Pumps - Historical",
         "textfont": {
          "size": 10
         },
         "type": "scatter",
         "x": [
          0.02,
          0.039,
          0.061,
          0.084,
          0.106,
          0.126,
          0.142,
          0.157,
          0.172,
          0.198,
          0.224,
          0.252,
          0.285,
          0.325,
          0.367,
          0.417,
          0.467,
          0.522,
          0.587,
          0.661,
          0.75,
          0.867,
          0.992,
          1.143
         ],
         "y": [
          34647,
          30597,
          27279,
          25591,
          23285,
          20361,
          17605,
          15805,
          14286,
          13611,
          12655,
          8662,
          8549,
          8212,
          7762,
          7256,
          6806,
          6524,
          5231,
          4893,
          4781,
          4612,
          4443,
          4218
         ]
        },
        {
         "line": {
          "color": "rgb(50,205,50)",
          "width": 1.5
         },
         "mode": "lines",
         "name": "Ground Source Heat Pumps - Learning Curve",
         "type": "scatter",
         "x": [
          0.020000000000000004,
          0.02148583167092517,
          0.023082048129566553,
          0.024796850036603015,
          0.02663904729278135,
          0.028618104300325745,
          0.030744188586888946,
          0.03302822304185373,
          0.03548194203335206,
          0.03811795169430634,
          0.040949794687216136,
          0.0439920197804236,
          0.047260256593309596,
          0.05077129589442907,
          0.054543175865121876,
          0.05859527477178384,
          0.06294841052290778,
          0.06762494762237456,
          0.07264891206847356,
          0.07804611478895337,
          0.08384428424625777,
          0.09007320889421487,
          0.09676489021805908,
          0.10395370714403852,
          0.11167659266327315,
          0.11997322357727817,
          0.1288862243399835,
          0.13846138604349922,
          0.14874790167268057,
          0.15979861883712715,
          0.17167031127904234,
          0.18442397055184154,
          0.19812511936802638,
          0.2128441482261685,
          0.22865667704644513,
          0.24564394367265105,
          0.2638932212366402,
          0.28349826652943333,
          0.3045598016825243,
          0.3271860316340534,
          0.35149320003836343,
          0.37760618647495525,
          0.4056591480250434,
          0.43579620851185014,
          0.4681721989456509,
          0.5029534529776573,
          0.5403186614494263,
          0.5804597904280988,
          0.6235830674439315,
          0.6699100409969745,
          0.7196787187761786,
          0.7731447904386036,
          0.8305829412308277,
          0.8922882632013747,
          0.958577771254346,
          1.0297920318330742,
          1.1062969126012723,
          1.1884854621107575,
          1.2767799291126722,
          1.371633931886533,
          1.4735347887321644,
          1.583006021597578,
          1.7006100457053255,
          1.826951058995449,
          1.9626781462297347,
          2.1084886137047767,
          2.2651315717061595,
          2.433411783108835,
          2.6141937978961147,
          2.8084063948386273,
          3.017047353152628,
          3.241188578652384,
          3.481981610732516,
          3.740663538472786,
          4.01856335625968,
          4.317108791577178,
          4.637833640044925,
          4.9823856453879705,
          5.35253496482199,
          5.750183263345332,
          6.177373483660448,
          6.63630034191825,
          7.1293216032079325,
          7.6589701947207995,
          8.227967218820202,
          8.839235932873068,
          9.495916767665197,
          10.201383461558512,
          10.959260393280305,
          11.773441202392888,
          12.648108793107422,
          13.587756824212727,
          14.597212795524984,
          15.68166284946624,
          16.84667841519162,
          18.098244832150773,
          19.442792100139144,
          20.887227913819164,
          22.4389731514284,
          24.106000000000005
         ],
         "y": [
          45778.1035548452,
          43860.508794594294,
          42023.23998450286,
          40262.932358248654,
          38576.36209589574,
          36960.440419804334,
          35412.20793785651,
          33928.82922363797,
          32507.58762365016,
          31145.880282042493,
          29841.21337375321,
          28591.197537328684,
          27393.543499056992,
          26246.057880401713,
          25146.639181057766,
          24093.27393027265,
          23084.032999384624,
          22117.068068824672,
          21190.608243111732,
          20302.956807642393,
          19452.48812133498,
          18637.644639437032,
          17856.934061044765,
          17108.926596109497,
          16392.252346925914,
          15705.598799307541,
          15047.708418853643,
          14417.376347906089,
          13813.44819897813,
          13234.81794061405,
          12680.425871807825,
          12149.256681271205,
          11640.337587996903,
          11152.736559711579,
          10685.560605955887,
          10237.95414266552,
          9809.097425258173,
          9398.2050473568,
          9004.524502399678,
          8627.334805503093,
          8265.945173052667,
          7919.693757605175,
          7587.946435783931,
          7270.095646947927,
          6965.559280507848,
          6673.7796098511935,
          6394.222270924132,
          6126.375283599425,
          5869.748114038192,
          5623.870776328318,
          5388.2929717542465,
          5162.583264121775,
          4946.328289627736,
          4739.131999827149,
          4540.614936311868,
          4350.4135357720525,
          4168.179464167788,
          3993.5789787916824,
          3826.292317053845,
          3666.013110870037,
          3512.447825580462,
          3365.315222371632,
          3224.345843216793,
          3089.281517391638,
          2959.874888661532,
          2835.888962274356,
          2717.0966709293134,
          2603.280458926845,
          2494.2318837380344,
          2389.751234263848,
          2289.6471650850694,
          2193.7363460331135,
          2101.843126439926,
          2013.7992134520978,
          1929.443363820045,
          1848.6210885977987,
          1771.1843702126102,
          1696.9913913861967,
          1625.9062754111676,
          1557.7988373070073,
          1492.5443453998453,
          1430.0232928894047,
          1370.121178984749,
          1312.7282992080186,
          1257.7395444821163,
          1205.0542086343835,
          1154.575803963751,
          1106.2118845335624,
          1059.8738768664816,
          1015.4769177314013,
          972.9396987252773,
          932.1843173652685,
          893.1361344184556,
          855.7236372078701,
          819.8783086444726,
          785.5345017452545,
          752.6293194076263,
          721.1024992199317,
          690.8963030971214,
          661.9554115394689
         ]
        },
        {
         "marker": {
          "color": "rgb(0,128,128)",
          "size": 6,
          "symbol": "circle-open"
         },
         "mode": "markers",
         "name": "Decentralized Heat Pumps - Prospective",
         "type": "scatter",
         "x": [
          6.22,
          6.487,
          7.069,
          7.651,
          8.233,
          8.816,
          9.398,
          9.98,
          10.563,
          11.145,
          11.727,
          12.309,
          12.892,
          13.474,
          14.056,
          14.638,
          15.221,
          15.803,
          16.385,
          16.967,
          17.55,
          18.132,
          18.714,
          19.296,
          19.879,
          20.461,
          21.043,
          21.625,
          22.208,
          22.79,
          23.372,
          23.954,
          24.537
         ],
         "y": [
          903,
          881,
          837,
          798,
          764,
          733,
          706,
          681,
          658,
          638,
          619,
          601,
          585,
          569,
          555,
          542,
          529,
          518,
          507,
          496,
          486,
          477,
          468,
          459,
          451,
          444,
          436,
          429,
          422,
          416,
          410,
          404,
          398
         ]
        },
        {
         "marker": {
          "color": "rgb(0,128,128)",
          "size": 6,
          "symbol": "circle"
         },
         "mode": "markers+text",
         "name": "Decentralized Heat Pumps - Historical",
         "textfont": {
          "size": 10
         },
         "type": "scatter",
         "x": [
          null,
          null,
          null,
          null,
          null,
          null,
          null,
          null,
          null,
          null,
          null,
          null,
          null,
          null,
          null,
          null,
          null,
          null,
          6.22,
          null,
          null
         ],
         "y": [
          null,
          null,
          null,
          null,
          null,
          null,
          null,
          null,
          null,
          null,
          null,
          null,
          null,
          null,
          null,
          null,
          null,
          null,
          903,
          null,
          null
         ]
        },
        {
         "line": {
          "color": "rgb(0,128,128)",
          "width": 1.5
         },
         "mode": "lines",
         "name": "Decentralized Heat Pumps - Learning Curve",
         "type": "scatter",
         "x": [
          6.219999999999999,
          6.306826744856881,
          6.394865528881359,
          6.484133271272075,
          6.574647127407569,
          6.666424492143172,
          6.759483003153942,
          6.853840544324244,
          6.949515249184661,
          7.046525504396876,
          7.144889953287194,
          7.244627499429409,
          7.345757310277658,
          7.448298820850016,
          7.552271737463482,
          7.657696041521133,
          7.7645919933521155,
          7.872980136105262,
          7.98288129969705,
          8.094316604814667,
          8.207307466974967,
          8.321875600640084,
          8.438043023390483,
          8.555832060156291,
          8.675265347507665,
          8.796365838005059,
          8.919156804610244,
          9.043661845158868,
          9.169904886895447,
          9.297910191071711,
          9.427702357609071,
          9.559306329826233,
          9.692747399232763,
          9.82805121038958,
          9.965243765837307,
          10.104351431093415,
          10.24540093971911,
          10.388419398456968,
          10.533434292440266,
          10.680473490475062,
          10.82956525039599,
          10.980738224496813,
          11.134021465036781,
          11.289444429823886,
          11.447036987876018,
          11.606829425161163,
          11.76885245041773,
          11.933137201056109,
          12.099715249142646,
          12.268618607467122,
          12.439879735694925,
          12.613531546605138,
          12.789607412415638,
          12.968141171196587,
          13.149167133373357,
          13.332720088320286,
          13.518835311046468,
          13.707548568974834,
          13.898896128815943,
          14.092914763537655,
          14.289641759432095,
          14.489114923281372,
          14.691372589623139,
          14.89645362811777,
          15.104397451018253,
          15.315244020744377,
          15.529033857562714,
          15.745808047373725,
          15.965608249607607,
          16.188476705230382,
          16.41445624486167,
          16.643590297005893,
          16.875922896398272,
          17.1114986924674,
          17.35036295791592,
          17.592561597420946,
          17.838141156456036,
          18.087148830236202,
          18.33963247278787,
          18.595640606145395,
          18.85522242967595,
          19.118427829534667,
          19.385307388251675,
          19.655912394452955,
          19.930294852717005,
          20.208507493568977,
          20.490603783614397,
          20.776637935814303,
          21.0666649199038,
          21.36074047295621,
          21.658921110094383,
          21.96126413535186,
          22.267827652685437,
          22.578670577141505,
          22.89385264617833,
          23.21343443114631,
          23.53747734892847,
          23.866043673743604,
          24.199196549113914,
          24.537
         ],
         "y": [
          903.2142330267694,
          895.7683493810441,
          888.3838478318793,
          881.0602223598461,
          873.7969711170226,
          866.5935963925992,
          859.4496045787789,
          852.364506136948,
          845.3378155641327,
          838.3690513597321,
          831.4577359925219,
          824.6033958679301,
          817.8055612955861,
          811.0637664571374,
          804.377549374325,
          797.7464518773292,
          791.1700195733746,
          784.6478018155924,
          778.1793516721376,
          771.7642258955657,
          765.4019848924607,
          759.0921926933075,
          752.8344169226232,
          746.6282287693225,
          740.47320295734,
          734.3689177164831,
          728.3149547535322,
          722.3108992235794,
          716.3563397015995,
          710.4508681542561,
          704.5940799119429,
          698.7855736410556,
          693.0249513164865,
          687.3118181943544,
          681.6457827849507,
          676.0264568259175,
          670.4534552556379,
          664.9263961868511,
          659.4449008804856,
          654.008593719705,
          648.6171021841676,
          643.2700568245008,
          637.9670912369862,
          632.7078420384507,
          627.4919488413647,
          622.3190542291478,
          617.1888037316774,
          612.1008458009986,
          607.0548317872351,
          602.0504159146952,
          597.0872552581825,
          592.1650097194924,
          587.2833420041095,
          582.4419175980958,
          577.640404745165,
          572.878474423951,
          568.155800325463,
          563.4720588307234,
          558.8269289885922,
          554.2200924937739,
          549.651233665008,
          545.1200394234336,
          540.6261992711391,
          536.1694052698822,
          531.7493520199922,
          527.3657366394391,
          523.0182587430819,
          518.706620422082,
          514.4305262234919,
          510.1896831300064,
          505.98380053988734,
          501.8125902470462,
          497.67576642129904,
          493.5730455887766,
          489.5041466125009,
          485.46879067312176,
          481.46670124980784,
          477.4976041013016,
          473.56122724712384,
          469.65730094893803,
          465.7855576920676,
          461.9457321671618,
          458.1375612520185,
          454.3607839935523,
          450.6151415899124,
          446.90037737274906,
          443.2162367896265,
          439.5624673865773,
          435.9388187908061,
          432.34504269352993,
          428.7808928329659,
          425.24612497745375,
          421.7404969087209,
          418.2637684052859,
          414.81570122599464,
          411.39605909369794,
          408.0046076790584,
          404.6411145844937,
          401.3053493282531,
          397.9970833286224
         ]
        },
        {
         "marker": {
          "color": "rgb(139,0,139)",
          "size": 6,
          "symbol": "circle-open"
         },
         "mode": "markers",
         "name": "SOEC Electrolysis - Prospective",
         "type": "scatter",
         "x": [
          0.89,
          3.48,
          7.77,
          13.78,
          21.49,
          30.91,
          42.03,
          54.86,
          69.4,
          85.64,
          107.87,
          132.15,
          158.47,
          186.84,
          217.24,
          249.69,
          284.18,
          320.71,
          359.28,
          399.9,
          436.5,
          474.67,
          514.43,
          555.77,
          598.69,
          643.19,
          689.27,
          736.93,
          786.18,
          837
         ],
         "y": [
          924,
          881,
          860,
          846,
          836,
          828,
          821,
          815,
          810,
          805,
          800,
          795,
          791,
          787,
          783,
          780,
          777,
          774,
          771,
          769,
          766,
          764,
          762,
          760,
          759,
          757,
          755,
          753,
          752,
          750
         ]
        },
        {
         "marker": {
          "color": "rgb(139,0,139)",
          "size": 6,
          "symbol": "circle"
         },
         "mode": "markers+text",
         "name": "SOEC Electrolysis - Historical",
         "textfont": {
          "size": 10
         },
         "type": "scatter",
         "x": [
          6.05e-05,
          6.05e-05,
          0.0001271,
          0.0003232,
          0.0004715,
          0.0011737,
          0.0011737,
          0.0011737,
          837
         ],
         "y": [
          14443,
          2614,
          9027,
          5416,
          2428,
          2407,
          714,
          1133,
          750
         ]
        },
        {
         "line": {
          "color": "rgb(139,0,139)",
          "width": 1.5
         },
         "mode": "lines",
         "name": "SOEC Electrolysis - Learning Curve",
         "type": "scatter",
         "x": [
          6.049999999999996e-05,
          7.143094334005821e-05,
          8.433685399091898e-05,
          9.957456262651404e-05,
          0.0001175653709270347,
          0.00013880669999077585,
          0.0001638858433431665,
          0.00019349620479476655,
          0.00022845647010266552,
          0.00026973324250534233,
          0.0003184677679723848,
          0.0003760074890854581,
          0.00044394329997191615,
          0.0005241535323387172,
          0.0006188558887599713,
          0.0007306687591020645,
          0.0008626836154011601,
          0.001018550486811848,
          0.0012025788778916673,
          0.0014198569204732301,
          0.0016763920535093025,
          0.0019792771204949896,
          0.0023368864768322497,
          0.0027591075292355805,
          0.0032576141089248737,
          0.0038461892369981284,
          0.00454110620600256,
          0.005361578514085219,
          0.006330291091783383,
          0.007474027509144691,
          0.008824410504590919,
          0.010418776310129732,
          0.012301206946803592,
          0.014523749031924917,
          0.01714785279644057,
          0.02024607109927611,
          0.02390406541406911,
          0.02822297425106474,
          0.0333222094977806,
          0.03934275799341346,
          0.046451079620977484,
          0.05484370969405913,
          0.0647526928878502,
          0.07645199895517713,
          0.0902650976132471,
          0.10657390203630866,
          0.12582932822949547,
          0.14856376223601128,
          0.17540577987878342,
          0.20709752601719164,
          0.2445152338314092,
          0.2886934514643383,
          0.34085364585446254,
          0.4024379746162379,
          0.47514915971405397,
          0.5609975653819974,
          0.6623567819291253,
          0.7820292522459928,
          0.9233237554950684,
          1.0901468903024467,
          1.2871110868352829,
          1.5196621341502792,
          1.7942297487689354,
          2.118405347493562,
          2.5011519396378357,
          2.9530519419032566,
          3.4865997676419846,
          4.11654728019661,
          4.860311661626362,
          5.73845697382903,
          6.775262726561051,
          7.999395172479191,
          9.444699889588353,
          11.151137564909755,
          13.165888852500228,
          15.544658853627213,
          18.353217286181494,
          21.66921692689269,
          25.58434060377355,
          30.20683610018017,
          35.66450905709738,
          42.10825662328128,
          49.716239553822106,
          58.698808109914424,
          69.30431795418593,
          81.82599684308822,
          96.61005197094889,
          114.06524212259393,
          134.67417929138898,
          159.0066722368931,
          187.73548091313594,
          221.65491735578183,
          261.70280731712586,
          308.98641985791403,
          364.81308181352244,
          430.72632358237524,
          508.54855561792135,
          600.4314555704497,
          708.9154592139075,
          837
         ],
         "y": [
          14431.961560382118,
          12424.791020979566,
          10776.131346709712,
          9412.414262295417,
          8276.828876971631,
          7325.174380713887,
          6522.812386245185,
          5842.409668939412,
          5262.253603415629,
          4764.98578311357,
          4336.643286960679,
          3965.927912505046,
          3643.6455122254724,
          3362.2731129035183,
          3115.6226520851606,
          2898.57822665333,
          2706.8896139402336,
          2537.0091218695325,
          2385.961991371993,
          2251.242923098229,
          2130.7330530028967,
          2022.6330166551757,
          1925.4087348073194,
          1837.7473060475213,
          1758.520967031249,
          1686.7575214369028,
          1621.615978365098,
          1562.3664038477787,
          1508.3731937006694,
          1459.0811358273118,
          1414.0037555820938,
          1372.7135367380724,
          1334.8336889301058,
          1300.0311947012053,
          1268.0109189614031,
          1238.5106034660942,
          1211.296600919965,
          1186.1602291348077,
          1162.9146465805309,
          1141.3921676609398,
          1121.4419498997881,
          1102.9279965547114,
          1085.7274274754147,
          1069.7289786763226,
          1054.83169741282,
          1040.9438047824322,
          1027.981702217089,
          1015.8691018506651,
          1004.5362637670969,
          993.9193256637716,
          983.9597125882113,
          974.6036161929464,
          965.8015344611924,
          957.507864131007,
          949.6805391266806,
          942.2807092248296,
          935.2724539651128,
          928.6225274835615,
          922.3001305180417,
          916.2767063254242,
          910.5257576711666,
          905.0226824145561,
          899.7446255257488,
          894.6703456411393,
          889.780094497906,
          885.0555077918165,
          880.4795061791535,
          876.0362052975336,
          871.710833814661,
          867.4896586314259,
          863.3599164684218,
          859.3097511550072,
          855.3281560190106,
          851.4049208446402,
          847.5305829272718,
          843.6963818076147,
          839.8942173152543,
          836.1166105934819,
          832.3566678143745,
          828.6080463258289,
          824.864923001244,
          821.1219645882106,
          817.3742998752822,
          813.6174935160449,
          809.8475213675508,
          806.0607472159918,
          802.2539007765087,
          798.4240568664526,
          794.568615662432,
          790.6852839611937,
          786.7720573730644,
          782.827203384263,
          778.8492452311774,
          774.8369465356463,
          770.7892966555603,
          766.7054967097175,
          762.584946239992,
          758.4272304774275,
          754.2321081820749,
          749.9995000291233
         ]
        },
        {
         "marker": {
          "color": "rgb(178,34,34)",
          "size": 6,
          "symbol": "circle-open"
         },
         "mode": "markers",
         "name": "PEM Electrolysis - Prospective",
         "type": "scatter",
         "x": [
          14.821,
          28.827,
          42.07,
          54.549,
          66.264,
          77.217,
          87.405,
          96.83,
          105.492,
          113.39,
          136.69,
          160.799,
          185.717,
          211.445,
          237.981,
          265.327,
          293.481,
          322.445,
          352.218,
          382.8,
          408.517,
          434.861,
          461.831,
          489.427,
          517.65,
          546.499,
          575.975,
          606.077,
          636.805,
          668.16
         ],
         "y": [
          687,
          658,
          642,
          632,
          625,
          619,
          615,
          611,
          608,
          606,
          599,
          594,
          589,
          585,
          581,
          578,
          574,
          571,
          569,
          566,
          564,
          562,
          561,
          559,
          557,
          556,
          554,
          553,
          551,
          550
         ]
        },
        {
         "marker": {
          "color": "rgb(178,34,34)",
          "size": 6,
          "symbol": "circle"
         },
         "mode": "markers+text",
         "name": "PEM Electrolysis - Historical",
         "textfont": {
          "size": 10
         },
         "type": "scatter",
         "x": [
          0.0051821,
          0.0051836,
          0.0052047,
          0.0053733,
          0.0053733,
          0.0053733,
          0.00538,
          0.0053871,
          0.0053871,
          0.0066407,
          0.0066407,
          0.0103063,
          0.0103063,
          0.0103063,
          0.0103063,
          0.0103063,
          0.0103063,
          0.0103063,
          0.0103063,
          0.0103063,
          0.0103063,
          0.0118263,
          0.0118263,
          0.0118263,
          0.0118263,
          0.0118263,
          0.0118263,
          0.0118263,
          0.0118263,
          0.012978,
          0.012978,
          0.012978,
          0.012978,
          0.012978,
          0.012978,
          0.0133188,
          0.0133188,
          0.0133188,
          0.0133188,
          0.0133188,
          0.023511,
          0.0517146,
          0.0517146,
          0.0517146,
          0.0517146,
          0.0517146,
          0.0517146,
          0.0517146,
          113.39,
          668.16
         ],
         "y": [
          3986,
          7363,
          2887,
          5106,
          3050,
          1878,
          2549,
          2524,
          2326,
          1343,
          4012,
          2745,
          2914,
          2387,
          1976,
          1641,
          3818,
          2494,
          1432,
          1790,
          3580,
          4047,
          2381,
          1197,
          1874,
          2381,
          3047,
          2381,
          3332,
          2366,
          1316,
          2366,
          1183,
          1518,
          2248,
          1420,
          1543,
          1834,
          1597,
          1479,
          1183,
          1479,
          1361,
          1194,
          1071,
          876,
          1274,
          2142,
          1075,
          550
         ]
        },
        {
         "line": {
          "color": "rgb(178,34,34)",
          "width": 1.5
         },
         "mode": "lines",
         "name": "PEM Electrolysis - Learning Curve",
         "type": "scatter",
         "x": [
          0.005182100000000001,
          0.005836140460804067,
          0.006572728329872883,
          0.00740228203698197,
          0.008336534937248136,
          0.009388701269790342,
          0.01057366306227705,
          0.011908180624971437,
          0.013411129611539493,
          0.015103767999651322,
          0.017010036767596673,
          0.019156898519738272,
          0.021574718850381515,
          0.024297695840138866,
          0.02736434375966212,
          0.030818037822333662,
          0.0347076276909962,
          0.039088128416268776,
          0.04402149857920365,
          0.04957751664447215,
          0.05583476791937451,
          0.06288175607839804,
          0.0708181549749234,
          0.07975621844592791,
          0.0898223680502127,
          0.10115898119740654,
          0.11392640495936045,
          0.1283052240476394,
          0.1444988150357884,
          0.162736222953746,
          0.1832754009414693,
          0.2064068587840057,
          0.23245777193354164,
          0.2617966091371655,
          0.2948383441243354,
          0.33205032506908505,
          0.3739588848456859,
          0.4211567855743957,
          0.4743116027542717,
          0.5341751675697167,
          0.6015942009244153,
          0.677522289612333,
          0.7630333740188624,
          0.8593369381245672,
          0.9677951166616366,
          1.0899419613896997,
          1.2275051389966556,
          1.3824303675234546,
          1.5569089369460003,
          1.753408703170143,
          1.9747089938243663,
          2.2239399195638967,
          2.5046266469122913,
          2.8207392588434885,
          3.1767489083412013,
          3.577691059181651,
          4.029236708428433,
          4.537772598023224,
          5.110491549999291,
          5.755494203035085,
          6.481903589327939,
          7.299994172383367,
          8.221337170853603,
          9.258964223911368,
          10.427551713071235,
          11.743628347538987,
          13.225808949213215,
          14.895057744035768,
          16.774984883730532,
          18.8921803919871,
          21.27659025848305,
          23.961940000286095,
          26.98621168156325,
          30.392181138649313,
          34.22802300908077,
          38.54799212223396,
          43.41319088927771,
          48.892433546539785,
          55.06321947630012,
          62.01282937183174,
          69.8395597510441,
          78.65411327990816,
          88.5811645706447,
          99.76112360160603,
          112.35212170097239,
          126.53224818437059,
          142.50206928181746,
          160.4874649821343,
          180.7428239196678,
          203.5546414923597,
          229.24557210359225,
          258.1789928434326,
          290.76414315879634,
          327.4619132089453,
          368.7913627778378,
          415.33706294799634,
          467.75736437782444,
          526.7937091303697,
          593.2811177616801,
          668.1599999999999
         ],
         "y": [
          3139.402246878741,
          2865.7721649624204,
          2641.3990102842727,
          2454.35163828375,
          2296.189549685749,
          2160.7916727036113,
          2043.6219538666853,
          1941.2544185708018,
          1851.0575839915612,
          1770.9796577398793,
          1699.3991678178666,
          1635.0190755740578,
          1576.790399535967,
          1523.8562519208385,
          1475.51024057555,
          1431.1651411843459,
          1390.3290187725088,
          1352.5868245814993,
          1317.5860670259456,
          1285.0255486092851,
          1254.6464345164375,
          1226.2251118864126,
          1199.567436890992,
          1174.504066595074,
          1150.8866455381576,
          1128.5846708351821,
          1107.482899729862,
          1087.4791937096004,
          1068.482716170694,
          1050.4124181080201,
          1033.195759767163,
          1016.7676266376084,
          1001.0694063168587,
          986.048199179742,
          971.6561408498496,
          957.8498184952621,
          944.5897661887054,
          931.8400271584742,
          919.5677728454169,
          907.7429703765857,
          896.3380914484588,
          885.3278567445651,
          874.6890109432507,
          864.40012413995,
          854.4414161454628,
          844.7946006518118,
          835.4427466999127,
          826.3701552541121,
          817.5622490004703,
          809.0054737485731,
          800.6872100391034,
          792.5956937481664,
          784.7199446399335,
          777.0497019562505,
          769.575366249097,
          762.2879467623794,
          755.1790137560517,
          748.2406552401164,
          741.465437650536,
          734.8463700548594,
          728.3768715238493,
          722.0507413475374,
          715.8621318108493,
          709.8055232760755,
          703.8757013475046,
          698.0677359182083,
          692.3769619205666,
          686.7989616211925,
          681.3295483176813,
          675.9647513094704,
          670.700802028162,
          665.534121224343,
          660.4613071181998,
          655.4791244304331,
          650.5844942181104,
          645.7744844473892,
          641.0463012415372,
          636.3972807484699,
          631.8248815772426,
          627.3266777575847,
          622.900352180748,
          618.5436904837034,
          614.254575342103,
          610.0309811404688,
          605.8709689908227,
          601.7726820734554,
          597.7343412757706,
          593.754241107183,
          589.8307458698747,
          585.9622860669016,
          582.1473550306397,
          578.3845057559499,
          574.6723479236947,
          571.009545101371,
          567.3948121086744,
          563.8269125367552,
          560.3046564107916,
          556.8268979863067,
          553.3925336703619,
          550.0005000594547
         ]
        },
        {
         "marker": {
          "color": "rgb(210,105,30)",
          "size": 6,
          "symbol": "circle-open"
         },
         "mode": "markers",
         "name": "ALK Electrolysis - Prospective",
         "type": "scatter",
         "x": [
          33.11,
          63.46,
          91.16,
          116.23,
          138.64,
          158.41,
          175.54,
          190.03,
          201.87,
          197.84,
          234.55,
          271.46,
          308.56,
          345.87,
          383.36,
          421.06,
          458.95,
          497.04,
          535.32,
          573.8,
          604.09,
          634.52,
          665.11,
          695.86,
          726.75,
          757.8,
          788.99,
          820.34,
          851.85,
          885.78
         ],
         "y": [
          637,
          594,
          572,
          558,
          547,
          540,
          534,
          529,
          526,
          527,
          518,
          510,
          503,
          497,
          492,
          487,
          482,
          478,
          475,
          471,
          469,
          466,
          464,
          462,
          460,
          457,
          456,
          454,
          452,
          450
         ]
        },
        {
         "marker": {
          "color": "rgb(210,105,30)",
          "size": 6,
          "symbol": "circle"
         },
         "mode": "markers+text",
         "name": "ALK Electrolysis - Historical",
         "textfont": {
          "size": 10
         },
         "type": "scatter",
         "x": [
          0.088632,
          0.088632,
          0.088632,
          0.088632,
          0.088632,
          0.088632,
          0.088632,
          0.088632,
          0.088632,
          0.088632,
          0.088632,
          0.088632,
          0.088632,
          0.088632,
          0.088632,
          0.088632,
          0.091137,
          0.091137,
          0.091137,
          0.091137,
          0.091137,
          0.091137,
          0.091137,
          0.091137,
          0.091137,
          0.09333,
          0.09333,
          0.09333,
          0.09333,
          0.096775,
          0.099593,
          0.117132,
          0.117132,
          0.117132,
          0.117132,
          0.117132,
          0.117132,
          0.117132,
          197.838,
          885.78
         ],
         "y": [
          1190,
          1197,
          1666,
          1880,
          1155,
          1835,
          1745,
          1458,
          1874,
          1554,
          1454,
          1112,
          983,
          1110,
          1190,
          1369,
          1197,
          947,
          1518,
          1420,
          1183,
          1302,
          983,
          1316,
          1183,
          1154,
          1183,
          1183,
          947,
          947,
          592,
          1122,
          592,
          1019,
          758,
          1313,
          1083,
          1274,
          625,
          450
         ]
        },
        {
         "line": {
          "color": "rgb(210,105,30)",
          "width": 1.5
         },
         "mode": "lines",
         "name": "ALK Electrolysis - Learning Curve",
         "type": "scatter",
         "x": [
          0.08863199999999999,
          0.09727291176689669,
          0.10675624338399757,
          0.11716412405516008,
          0.1285866899253467,
          0.14112286469340146,
          0.1548812163283345,
          0.16998089730859878,
          0.18655267652718277,
          0.20474007179920425,
          0.22470059277994514,
          0.24660710505746225,
          0.2706493272333283,
          0.297035473956782,
          0.32599405914157875,
          0.3577758749820753,
          0.3926561639075693,
          0.4309370022848309,
          0.4729499165125837,
          0.5190587541642943,
          0.5696628350444393,
          0.6252004094475807,
          0.6861524535700675,
          0.7530468349440482,
          0.8264628839680164,
          0.9070364111250552,
          0.995465213339766,
          1.0925151171610035,
          1.1990266111066337,
          1.3159221246089083,
          1.4442140165988535,
          1.5850133429137991,
          1.7395394784570806,
          1.9091306774414334,
          2.0952556631717254,
          2.299526347738897,
          2.5237117917824254,
          2.7697535252180794,
          3.039782361614195,
          3.336136851835302,
          3.6613835367685263,
          4.018339174528986,
          4.410095134640114,
          4.840044170451626,
          5.311909801654298,
          5.82977856135518,
          6.398135386984935,
          7.021902461535845,
          7.706481841510189,
          8.457802240752919,
          9.282370375334194,
          10.187327314147694,
          11.18051032324201,
          12.27052073948008,
          13.466798461338133,
          14.77970370196233,
          16.220606712495023,
          17.801986252708506,
          19.53753766173869,
          21.442291464851632,
          23.53274354342217,
          25.82699799544537,
          28.344923923806043,
          31.1083275101519,
          34.14114086459442,
          37.46962928674617,
          41.12261873305338,
          45.1317454603759,
          49.53173000782097,
          54.3606778896168,
          59.66040960313872,
          65.47682281008025,
          71.86028982739487,
          78.8660938704284,
          86.55490782627018,
          94.99331970368097,
          104.25440931019016,
          114.418381150601,
          125.57325902804361,
          137.81564836308058,
          151.25157283283247,
          165.99739257573398,
          182.18081191391704,
          199.9419853204719,
          219.4347312096806,
          240.82786406209908,
          264.3066564211884,
          290.0744434229367,
          318.35438375429874,
          349.3913922910088,
          383.4542611521401,
          420.8379875405351,
          461.86632852907377,
          506.8946049181909,
          556.3127784470978,
          610.5488290085041,
          670.0724611147924,
          735.3991717150303,
          807.0947145916272,
          885.7799999999999
         ],
         "y": [
          1190.5204775595096,
          1178.8782413821698,
          1167.3498559665463,
          1155.9342079529936,
          1144.6301948695377,
          1133.4367250254043,
          1122.3527174055885,
          1111.377101566455,
          1100.5088175323592,
          1089.7468156932803,
          1079.0900567034537,
          1068.537511380996,
          1058.088160608512,
          1047.740995234672,
          1037.4950159767525,
          1027.3492333241306,
          1017.3026674427215,
          1007.3543480803492,
          997.5033144730459,
          987.7486152522641,
          978.0893083529988,
          968.5244609228065,
          959.0531492317143,
          949.6744585830111,
          940.3874832249093,
          931.1913262630721,
          922.0850995739953,
          913.0679237192359,
          904.1389278604802,
          895.2972496754426,
          886.5420352745856,
          877.8724391186553,
          869.2876239370232,
          860.7867606468263,
          852.3690282728977,
          844.033613868481,
          835.7797124367189,
          827.6065268529111,
          819.5132677875307,
          811.4991536299949,
          803.5634104131803,
          795.7052717386767,
          787.9239787027718,
          780.2187798231597,
          772.5889309663659,
          765.0336952758825,
          757.552343101006,
          750.1441519263707,
          742.8084063021712,
          735.544397775068,
          728.3514248197679,
          721.2287927712746,
          714.1758137577978,
          707.1918066343281,
          700.2760969168494,
          693.4280167172006,
          686.6469046785777,
          679.9321059116596,
          673.2829719313634,
          666.6988605942155,
          660.1791360363377,
          653.723168612037,
          647.3303348329978,
          641.0000173080684,
          634.731604683636,
          628.5244915845844,
          622.3780785558305,
          616.2917720044309,
          610.2649841422555,
          604.297132929222,
          598.3876420170848,
          592.5359406937733,
          586.7414638282762,
          581.003651816063,
          575.3219505250397,
          569.695811242034,
          564.1246906198022,
          558.608050624556,
          553.1453584840007,
          547.7360866358832,
          542.3797126770422,
          537.0757193129565,
          531.8235943077874,
          526.6228304349094,
          521.472925427924,
          516.3733819321535,
          511.3237074566086,
          506.32341432642573,
          501.3720196357698,
          496.46904520119716,
          491.6140175154749,
          486.80646770185155,
          482.04593146877517,
          477.331949065054,
          472.664065235456,
          468.0418291767422,
          463.4647944941302,
          458.9325191581831,
          454.4445654621208,
          450.0004999795478
         ]
        }
       ],
       "layout": {
        "annotations": [
         {
          "font": {
           "color": "rgb(10,10,10)",
           "family": "Times New Roman",
           "size": 10
          },
          "showarrow": true,
          "text": "2010",
          "x": 2.250420002308894,
          "y": 3.281941933440825
         },
         {
          "font": {
           "color": "rgb(10,10,10)",
           "family": "Times New Roman",
           "size": 10
          },
          "showarrow": true,
          "text": "2020",
          "x": 2.843855422623161,
          "y": 3.1192558892779365
         },
         {
          "font": {
           "color": "rgb(10,10,10)",
           "family": "Times New Roman",
           "size": 10
          },
          "showarrow": true,
          "text": "2050",
          "x": 3.8386934721408297,
          "y": 2.923280294697208
         },
         {
          "font": {
           "color": "rgb(10,10,10)",
           "family": "Times New Roman",
           "size": 10
          },
          "showarrow": true,
          "text": "2010",
          "x": 0.48515334990365233,
          "y": 3.659821158055705
         },
         {
          "font": {
           "color": "rgb(10,10,10)",
           "family": "Times New Roman",
           "size": 10
          },
          "showarrow": true,
          "text": "2020",
          "x": 1.5361416229050349,
          "y": 3.4902394852462875
         },
         {
          "font": {
           "color": "rgb(10,10,10)",
           "family": "Times New Roman",
           "size": 10
          },
          "showarrow": true,
          "text": "2050",
          "x": 3.135917807416897,
          "y": 3.0633333589517497
         },
         {
          "font": {
           "color": "rgb(10,10,10)",
           "family": "Times New Roman",
           "size": 10
          },
          "showarrow": true,
          "text": "2013",
          "x": 1.4313637641589874,
          "y": 3.5790973265526436
         },
         {
          "font": {
           "color": "rgb(10,10,10)",
           "family": "Times New Roman",
           "size": 10
          },
          "showarrow": true,
          "text": "2020",
          "x": 1.968482948553935,
          "y": 3.3879234669734366
         },
         {
          "font": {
           "color": "rgb(10,10,10)",
           "family": "Times New Roman",
           "size": 10
          },
          "showarrow": true,
          "text": "2050",
          "x": 3.2908845508834896,
          "y": 2.8159096508867747
         },
         {
          "font": {
           "color": "rgb(10,10,10)",
           "family": "Times New Roman",
           "size": 10
          },
          "showarrow": true,
          "text": "2010",
          "x": 0.1024337056813363,
          "y": 3.9459607035775686
         },
         {
          "font": {
           "color": "rgb(10,10,10)",
           "family": "Times New Roman",
           "size": 10
          },
          "showarrow": true,
          "text": "2020",
          "x": 0.8115079799453266,
          "y": 3.6481647785740012
         },
         {
          "font": {
           "color": "rgb(10,10,10)",
           "family": "Times New Roman",
           "size": 10
          },
          "showarrow": true,
          "text": "2050",
          "x": 2.629409599102719,
          "y": 2.760422483423212
         },
         {
          "font": {
           "color": "rgb(10,10,10)",
           "family": "Times New Roman",
           "size": 10
          },
          "showarrow": true,
          "text": "1985",
          "x": -1.6989700043360187,
          "y": 4.539665636066127
         },
         {
          "font": {
           "color": "rgb(10,10,10)",
           "family": "Times New Roman",
           "size": 10
          },
          "showarrow": true,
          "text": "2008",
          "x": 0.05804623039528174,
          "y": 3.6251065754034677
         },
         {
          "font": {
           "color": "rgb(10,10,10)",
           "family": "Times New Roman",
           "size": 10
          },
          "showarrow": true,
          "text": "2050",
          "x": 1.3821251522253217,
          "y": 2.8208317472884548
         },
         {
          "font": {
           "color": "rgb(10,10,10)",
           "family": "Times New Roman",
           "size": 10
          },
          "showarrow": true,
          "text": "2018",
          "x": 0.3372595397502757,
          "y": 3.4448142835328017
         },
         {
          "font": {
           "color": "rgb(10,10,10)",
           "family": "Times New Roman",
           "size": 10
          },
          "showarrow": true,
          "text": "2018",
          "x": 0.7937903846908186,
          "y": 2.9556877503135057
         },
         {
          "font": {
           "color": "rgb(10,10,10)",
           "family": "Times New Roman",
           "size": 10
          },
          "showarrow": true,
          "text": "2018",
          "x": 0.7937903846908186,
          "y": 2.9556877503135057
         },
         {
          "font": {
           "color": "rgb(10,10,10)",
           "family": "Times New Roman",
           "size": 10
          },
          "showarrow": true,
          "text": "2050",
          "x": 1.3898214629105228,
          "y": 2.5998830720736876
         },
         {
          "font": {
           "color": "rgb(10,10,10)",
           "family": "Times New Roman",
           "size": 10
          },
          "showarrow": true,
          "text": "2012",
          "x": -4.218244625347531,
          "y": 4.1596574112477045
         },
         {
          "font": {
           "color": "rgb(10,10,10)",
           "family": "Times New Roman",
           "size": 10
          },
          "showarrow": true,
          "text": "2015",
          "x": -3.895854449445992,
          "y": 3.955543442459743
         },
         {
          "font": {
           "color": "rgb(10,10,10)",
           "family": "Times New Roman",
           "size": 10
          },
          "showarrow": true,
          "text": "2017",
          "x": -3.4905286478974515,
          "y": 3.733678655677088
         },
         {
          "font": {
           "color": "rgb(10,10,10)",
           "family": "Times New Roman",
           "size": 10
          },
          "showarrow": true,
          "text": "2018",
          "x": -3.3265183029266527,
          "y": 3.38524868240322
         },
         {
          "font": {
           "color": "rgb(10,10,10)",
           "family": "Times New Roman",
           "size": 10
          },
          "showarrow": true,
          "text": "2020",
          "x": -2.930442895417305,
          "y": 3.38147609027503
         },
         {
          "font": {
           "color": "rgb(10,10,10)",
           "family": "Times New Roman",
           "size": 10
          },
          "showarrow": true,
          "text": "2050",
          "x": 2.92272545799326,
          "y": 2.8750612633917
         },
         {
          "font": {
           "color": "rgb(10,10,10)",
           "family": "Times New Roman",
           "size": 10
          },
          "showarrow": true,
          "text": "2003",
          "x": -2.285494210603541,
          "y": 3.600537294364469
         },
         {
          "font": {
           "color": "rgb(10,10,10)",
           "family": "Times New Roman",
           "size": 10
          },
          "showarrow": true,
          "text": "2004",
          "x": -2.2853685188070583,
          "y": 3.867054800476702
         },
         {
          "font": {
           "color": "rgb(10,10,10)",
           "family": "Times New Roman",
           "size": 10
          },
          "showarrow": true,
          "text": "2005",
          "x": -2.2836042982570803,
          "y": 3.4604467838807205
         },
         {
          "font": {
           "color": "rgb(10,10,10)",
           "family": "Times New Roman",
           "size": 10
          },
          "showarrow": true,
          "text": "2008",
          "x": -2.2697589113934504,
          "y": 3.484299839346786
         },
         {
          "font": {
           "color": "rgb(10,10,10)",
           "family": "Times New Roman",
           "size": 10
          },
          "showarrow": true,
          "text": "2009",
          "x": -2.2692177243336107,
          "y": 3.4063698354692673
         },
         {
          "font": {
           "color": "rgb(10,10,10)",
           "family": "Times New Roman",
           "size": 10
          },
          "showarrow": true,
          "text": "2010",
          "x": -2.268644962630191,
          "y": 3.402089350572097
         },
         {
          "font": {
           "color": "rgb(10,10,10)",
           "family": "Times New Roman",
           "size": 10
          },
          "showarrow": true,
          "text": "2013",
          "x": -2.177786138988302,
          "y": 3.1280760126687155
         },
         {
          "font": {
           "color": "rgb(10,10,10)",
           "family": "Times New Roman",
           "size": 10
          },
          "showarrow": true,
          "text": "2014",
          "x": -1.986897220069364,
          "y": 3.5538830266438746
         },
         {
          "font": {
           "color": "rgb(10,10,10)",
           "family": "Times New Roman",
           "size": 10
          },
          "showarrow": true,
          "text": "2015",
          "x": -1.9271511083665063,
          "y": 3.37675939540488
         },
         {
          "font": {
           "color": "rgb(10,10,10)",
           "family": "Times New Roman",
           "size": 10
          },
          "showarrow": true,
          "text": "2016",
          "x": -1.8867922301772648,
          "y": 3.3740147402919116
         },
         {
          "font": {
           "color": "rgb(10,10,10)",
           "family": "Times New Roman",
           "size": 10
          },
          "showarrow": true,
          "text": "2017",
          "x": -1.8755349025572396,
          "y": 3.263399331334002
         },
         {
          "font": {
           "color": "rgb(10,10,10)",
           "family": "Times New Roman",
           "size": 10
          },
          "showarrow": true,
          "text": "2018",
          "x": -1.6287288985124155,
          "y": 3.0729847446279304
         },
         {
          "font": {
           "color": "rgb(10,10,10)",
           "family": "Times New Roman",
           "size": 10
          },
          "showarrow": true,
          "text": "2020",
          "x": -1.2863868301303814,
          "y": 3.1699681739968923
         },
         {
          "font": {
           "color": "rgb(10,10,10)",
           "family": "Times New Roman",
           "size": 10
          },
          "showarrow": true,
          "text": "2030",
          "x": 2.054574755294823,
          "y": 3.031408464251624
         },
         {
          "font": {
           "color": "rgb(10,10,10)",
           "family": "Times New Roman",
           "size": 10
          },
          "showarrow": true,
          "text": "2050",
          "x": 2.8248804726501304,
          "y": 2.7403626894942437
         },
         {
          "font": {
           "color": "rgb(10,10,10)",
           "family": "Times New Roman",
           "size": 10
          },
          "showarrow": true,
          "text": "2015",
          "x": -1.0524094506374153,
          "y": 3.162564406523019
         },
         {
          "font": {
           "color": "rgb(10,10,10)",
           "family": "Times New Roman",
           "size": 10
          },
          "showarrow": true,
          "text": "2016",
          "x": -1.0403052713964194,
          "y": 3.0729847446279304
         },
         {
          "font": {
           "color": "rgb(10,10,10)",
           "family": "Times New Roman",
           "size": 10
          },
          "showarrow": true,
          "text": "2017",
          "x": -1.0299787341716342,
          "y": 3.0729847446279304
         },
         {
          "font": {
           "color": "rgb(10,10,10)",
           "family": "Times New Roman",
           "size": 10
          },
          "showarrow": true,
          "text": "2018",
          "x": -1.0142368200090073,
          "y": 2.9763499790032735
         },
         {
          "font": {
           "color": "rgb(10,10,10)",
           "family": "Times New Roman",
           "size": 10
          },
          "showarrow": true,
          "text": "2019",
          "x": -1.0017711853534879,
          "y": 2.77232170672292
         },
         {
          "font": {
           "color": "rgb(10,10,10)",
           "family": "Times New Roman",
           "size": 10
          },
          "showarrow": true,
          "text": "2020",
          "x": -0.931324441179666,
          "y": 2.77232170672292
         },
         {
          "font": {
           "color": "rgb(10,10,10)",
           "family": "Times New Roman",
           "size": 10
          },
          "showarrow": true,
          "text": "2030",
          "x": 2.2963097129703347,
          "y": 2.7958800173440754
         },
         {
          "font": {
           "color": "rgb(10,10,10)",
           "family": "Times New Roman",
           "size": 10
          },
          "showarrow": true,
          "text": "2050",
          "x": 2.947325870137387,
          "y": 2.6532125137753435
         }
        ],
        "font": {
         "color": "rgb(10,10,10)",
         "family": "Times New Roman",
         "size": 16
        },
        "legend": {
         "x": 1.2
        },
        "template": {
         "data": {
          "bar": [
           {
            "error_x": {
             "color": "#2a3f5f"
            },
            "error_y": {
             "color": "#2a3f5f"
            },
            "marker": {
             "line": {
              "color": "#E5ECF6",
              "width": 0.5
             },
             "pattern": {
              "fillmode": "overlay",
              "size": 10,
              "solidity": 0.2
             }
            },
            "type": "bar"
           }
          ],
          "barpolar": [
           {
            "marker": {
             "line": {
              "color": "#E5ECF6",
              "width": 0.5
             },
             "pattern": {
              "fillmode": "overlay",
              "size": 10,
              "solidity": 0.2
             }
            },
            "type": "barpolar"
           }
          ],
          "carpet": [
           {
            "aaxis": {
             "endlinecolor": "#2a3f5f",
             "gridcolor": "white",
             "linecolor": "white",
             "minorgridcolor": "white",
             "startlinecolor": "#2a3f5f"
            },
            "baxis": {
             "endlinecolor": "#2a3f5f",
             "gridcolor": "white",
             "linecolor": "white",
             "minorgridcolor": "white",
             "startlinecolor": "#2a3f5f"
            },
            "type": "carpet"
           }
          ],
          "choropleth": [
           {
            "colorbar": {
             "outlinewidth": 0,
             "ticks": ""
            },
            "type": "choropleth"
           }
          ],
          "contour": [
           {
            "colorbar": {
             "outlinewidth": 0,
             "ticks": ""
            },
            "colorscale": [
             [
              0,
              "#0d0887"
             ],
             [
              0.1111111111111111,
              "#46039f"
             ],
             [
              0.2222222222222222,
              "#7201a8"
             ],
             [
              0.3333333333333333,
              "#9c179e"
             ],
             [
              0.4444444444444444,
              "#bd3786"
             ],
             [
              0.5555555555555556,
              "#d8576b"
             ],
             [
              0.6666666666666666,
              "#ed7953"
             ],
             [
              0.7777777777777778,
              "#fb9f3a"
             ],
             [
              0.8888888888888888,
              "#fdca26"
             ],
             [
              1,
              "#f0f921"
             ]
            ],
            "type": "contour"
           }
          ],
          "contourcarpet": [
           {
            "colorbar": {
             "outlinewidth": 0,
             "ticks": ""
            },
            "type": "contourcarpet"
           }
          ],
          "heatmap": [
           {
            "colorbar": {
             "outlinewidth": 0,
             "ticks": ""
            },
            "colorscale": [
             [
              0,
              "#0d0887"
             ],
             [
              0.1111111111111111,
              "#46039f"
             ],
             [
              0.2222222222222222,
              "#7201a8"
             ],
             [
              0.3333333333333333,
              "#9c179e"
             ],
             [
              0.4444444444444444,
              "#bd3786"
             ],
             [
              0.5555555555555556,
              "#d8576b"
             ],
             [
              0.6666666666666666,
              "#ed7953"
             ],
             [
              0.7777777777777778,
              "#fb9f3a"
             ],
             [
              0.8888888888888888,
              "#fdca26"
             ],
             [
              1,
              "#f0f921"
             ]
            ],
            "type": "heatmap"
           }
          ],
          "heatmapgl": [
           {
            "colorbar": {
             "outlinewidth": 0,
             "ticks": ""
            },
            "colorscale": [
             [
              0,
              "#0d0887"
             ],
             [
              0.1111111111111111,
              "#46039f"
             ],
             [
              0.2222222222222222,
              "#7201a8"
             ],
             [
              0.3333333333333333,
              "#9c179e"
             ],
             [
              0.4444444444444444,
              "#bd3786"
             ],
             [
              0.5555555555555556,
              "#d8576b"
             ],
             [
              0.6666666666666666,
              "#ed7953"
             ],
             [
              0.7777777777777778,
              "#fb9f3a"
             ],
             [
              0.8888888888888888,
              "#fdca26"
             ],
             [
              1,
              "#f0f921"
             ]
            ],
            "type": "heatmapgl"
           }
          ],
          "histogram": [
           {
            "marker": {
             "pattern": {
              "fillmode": "overlay",
              "size": 10,
              "solidity": 0.2
             }
            },
            "type": "histogram"
           }
          ],
          "histogram2d": [
           {
            "colorbar": {
             "outlinewidth": 0,
             "ticks": ""
            },
            "colorscale": [
             [
              0,
              "#0d0887"
             ],
             [
              0.1111111111111111,
              "#46039f"
             ],
             [
              0.2222222222222222,
              "#7201a8"
             ],
             [
              0.3333333333333333,
              "#9c179e"
             ],
             [
              0.4444444444444444,
              "#bd3786"
             ],
             [
              0.5555555555555556,
              "#d8576b"
             ],
             [
              0.6666666666666666,
              "#ed7953"
             ],
             [
              0.7777777777777778,
              "#fb9f3a"
             ],
             [
              0.8888888888888888,
              "#fdca26"
             ],
             [
              1,
              "#f0f921"
             ]
            ],
            "type": "histogram2d"
           }
          ],
          "histogram2dcontour": [
           {
            "colorbar": {
             "outlinewidth": 0,
             "ticks": ""
            },
            "colorscale": [
             [
              0,
              "#0d0887"
             ],
             [
              0.1111111111111111,
              "#46039f"
             ],
             [
              0.2222222222222222,
              "#7201a8"
             ],
             [
              0.3333333333333333,
              "#9c179e"
             ],
             [
              0.4444444444444444,
              "#bd3786"
             ],
             [
              0.5555555555555556,
              "#d8576b"
             ],
             [
              0.6666666666666666,
              "#ed7953"
             ],
             [
              0.7777777777777778,
              "#fb9f3a"
             ],
             [
              0.8888888888888888,
              "#fdca26"
             ],
             [
              1,
              "#f0f921"
             ]
            ],
            "type": "histogram2dcontour"
           }
          ],
          "mesh3d": [
           {
            "colorbar": {
             "outlinewidth": 0,
             "ticks": ""
            },
            "type": "mesh3d"
           }
          ],
          "parcoords": [
           {
            "line": {
             "colorbar": {
              "outlinewidth": 0,
              "ticks": ""
             }
            },
            "type": "parcoords"
           }
          ],
          "pie": [
           {
            "automargin": true,
            "type": "pie"
           }
          ],
          "scatter": [
           {
            "marker": {
             "colorbar": {
              "outlinewidth": 0,
              "ticks": ""
             }
            },
            "type": "scatter"
           }
          ],
          "scatter3d": [
           {
            "line": {
             "colorbar": {
              "outlinewidth": 0,
              "ticks": ""
             }
            },
            "marker": {
             "colorbar": {
              "outlinewidth": 0,
              "ticks": ""
             }
            },
            "type": "scatter3d"
           }
          ],
          "scattercarpet": [
           {
            "marker": {
             "colorbar": {
              "outlinewidth": 0,
              "ticks": ""
             }
            },
            "type": "scattercarpet"
           }
          ],
          "scattergeo": [
           {
            "marker": {
             "colorbar": {
              "outlinewidth": 0,
              "ticks": ""
             }
            },
            "type": "scattergeo"
           }
          ],
          "scattergl": [
           {
            "marker": {
             "colorbar": {
              "outlinewidth": 0,
              "ticks": ""
             }
            },
            "type": "scattergl"
           }
          ],
          "scattermapbox": [
           {
            "marker": {
             "colorbar": {
              "outlinewidth": 0,
              "ticks": ""
             }
            },
            "type": "scattermapbox"
           }
          ],
          "scatterpolar": [
           {
            "marker": {
             "colorbar": {
              "outlinewidth": 0,
              "ticks": ""
             }
            },
            "type": "scatterpolar"
           }
          ],
          "scatterpolargl": [
           {
            "marker": {
             "colorbar": {
              "outlinewidth": 0,
              "ticks": ""
             }
            },
            "type": "scatterpolargl"
           }
          ],
          "scatterternary": [
           {
            "marker": {
             "colorbar": {
              "outlinewidth": 0,
              "ticks": ""
             }
            },
            "type": "scatterternary"
           }
          ],
          "surface": [
           {
            "colorbar": {
             "outlinewidth": 0,
             "ticks": ""
            },
            "colorscale": [
             [
              0,
              "#0d0887"
             ],
             [
              0.1111111111111111,
              "#46039f"
             ],
             [
              0.2222222222222222,
              "#7201a8"
             ],
             [
              0.3333333333333333,
              "#9c179e"
             ],
             [
              0.4444444444444444,
              "#bd3786"
             ],
             [
              0.5555555555555556,
              "#d8576b"
             ],
             [
              0.6666666666666666,
              "#ed7953"
             ],
             [
              0.7777777777777778,
              "#fb9f3a"
             ],
             [
              0.8888888888888888,
              "#fdca26"
             ],
             [
              1,
              "#f0f921"
             ]
            ],
            "type": "surface"
           }
          ],
          "table": [
           {
            "cells": {
             "fill": {
              "color": "#EBF0F8"
             },
             "line": {
              "color": "white"
             }
            },
            "header": {
             "fill": {
              "color": "#C8D4E3"
             },
             "line": {
              "color": "white"
             }
            },
            "type": "table"
           }
          ]
         },
         "layout": {
          "annotationdefaults": {
           "arrowcolor": "#2a3f5f",
           "arrowhead": 0,
           "arrowwidth": 1
          },
          "autotypenumbers": "strict",
          "coloraxis": {
           "colorbar": {
            "outlinewidth": 0,
            "ticks": ""
           }
          },
          "colorscale": {
           "diverging": [
            [
             0,
             "#8e0152"
            ],
            [
             0.1,
             "#c51b7d"
            ],
            [
             0.2,
             "#de77ae"
            ],
            [
             0.3,
             "#f1b6da"
            ],
            [
             0.4,
             "#fde0ef"
            ],
            [
             0.5,
             "#f7f7f7"
            ],
            [
             0.6,
             "#e6f5d0"
            ],
            [
             0.7,
             "#b8e186"
            ],
            [
             0.8,
             "#7fbc41"
            ],
            [
             0.9,
             "#4d9221"
            ],
            [
             1,
             "#276419"
            ]
           ],
           "sequential": [
            [
             0,
             "#0d0887"
            ],
            [
             0.1111111111111111,
             "#46039f"
            ],
            [
             0.2222222222222222,
             "#7201a8"
            ],
            [
             0.3333333333333333,
             "#9c179e"
            ],
            [
             0.4444444444444444,
             "#bd3786"
            ],
            [
             0.5555555555555556,
             "#d8576b"
            ],
            [
             0.6666666666666666,
             "#ed7953"
            ],
            [
             0.7777777777777778,
             "#fb9f3a"
            ],
            [
             0.8888888888888888,
             "#fdca26"
            ],
            [
             1,
             "#f0f921"
            ]
           ],
           "sequentialminus": [
            [
             0,
             "#0d0887"
            ],
            [
             0.1111111111111111,
             "#46039f"
            ],
            [
             0.2222222222222222,
             "#7201a8"
            ],
            [
             0.3333333333333333,
             "#9c179e"
            ],
            [
             0.4444444444444444,
             "#bd3786"
            ],
            [
             0.5555555555555556,
             "#d8576b"
            ],
            [
             0.6666666666666666,
             "#ed7953"
            ],
            [
             0.7777777777777778,
             "#fb9f3a"
            ],
            [
             0.8888888888888888,
             "#fdca26"
            ],
            [
             1,
             "#f0f921"
            ]
           ]
          },
          "colorway": [
           "#636efa",
           "#EF553B",
           "#00cc96",
           "#ab63fa",
           "#FFA15A",
           "#19d3f3",
           "#FF6692",
           "#B6E880",
           "#FF97FF",
           "#FECB52"
          ],
          "font": {
           "color": "#2a3f5f"
          },
          "geo": {
           "bgcolor": "white",
           "lakecolor": "white",
           "landcolor": "#E5ECF6",
           "showlakes": true,
           "showland": true,
           "subunitcolor": "white"
          },
          "hoverlabel": {
           "align": "left"
          },
          "hovermode": "closest",
          "mapbox": {
           "style": "light"
          },
          "paper_bgcolor": "white",
          "plot_bgcolor": "#E5ECF6",
          "polar": {
           "angularaxis": {
            "gridcolor": "white",
            "linecolor": "white",
            "ticks": ""
           },
           "bgcolor": "#E5ECF6",
           "radialaxis": {
            "gridcolor": "white",
            "linecolor": "white",
            "ticks": ""
           }
          },
          "scene": {
           "xaxis": {
            "backgroundcolor": "#E5ECF6",
            "gridcolor": "white",
            "gridwidth": 2,
            "linecolor": "white",
            "showbackground": true,
            "ticks": "",
            "zerolinecolor": "white"
           },
           "yaxis": {
            "backgroundcolor": "#E5ECF6",
            "gridcolor": "white",
            "gridwidth": 2,
            "linecolor": "white",
            "showbackground": true,
            "ticks": "",
            "zerolinecolor": "white"
           },
           "zaxis": {
            "backgroundcolor": "#E5ECF6",
            "gridcolor": "white",
            "gridwidth": 2,
            "linecolor": "white",
            "showbackground": true,
            "ticks": "",
            "zerolinecolor": "white"
           }
          },
          "shapedefaults": {
           "line": {
            "color": "#2a3f5f"
           }
          },
          "ternary": {
           "aaxis": {
            "gridcolor": "white",
            "linecolor": "white",
            "ticks": ""
           },
           "baxis": {
            "gridcolor": "white",
            "linecolor": "white",
            "ticks": ""
           },
           "bgcolor": "#E5ECF6",
           "caxis": {
            "gridcolor": "white",
            "linecolor": "white",
            "ticks": ""
           }
          },
          "title": {
           "x": 0.05
          },
          "xaxis": {
           "automargin": true,
           "gridcolor": "white",
           "linecolor": "white",
           "ticks": "",
           "title": {
            "standoff": 15
           },
           "zerolinecolor": "white",
           "zerolinewidth": 2
          },
          "yaxis": {
           "automargin": true,
           "gridcolor": "white",
           "linecolor": "white",
           "ticks": "",
           "title": {
            "standoff": 15
           },
           "zerolinecolor": "white",
           "zerolinewidth": 2
          }
         }
        },
        "title": {
         "text": "",
         "y": 1
        },
        "xaxis": {
         "showgrid": true,
         "title": {
          "font": {
           "family": "Times New Roman"
          },
          "text": "Cumulative Capacity [GW]"
         },
         "type": "log"
        },
        "xaxis2": {
         "anchor": "y",
         "automargin": true,
         "color": "rgb(105,105,105)",
         "overlaying": "x",
         "showgrid": true,
         "side": "top",
         "title": {
          "font": {
           "color": "rgb(10,10,10)",
           "family": "Times New Roman"
          },
          "text": "CO<sub>2</sub> capture capacity [Mtpa]"
         },
         "type": "log"
        },
        "yaxis": {
         "showgrid": true,
         "title": {
          "font": {
           "family": "Times New Roman"
          },
          "text": "Investment Cost [USD<sub>2018</sub>/kW]"
         },
         "type": "log"
        },
        "yaxis2": {
         "anchor": "x",
         "automargin": true,
         "color": "rgb(105,105,105)",
         "overlaying": "y",
         "showgrid": true,
         "side": "right",
         "title": {
          "font": {
           "color": "rgb(10,10,10)",
           "family": "Times New Roman"
          },
          "text": "Cost of CO<sub>2</sub> capture [USD<sub>2018</sub>/tCO<sub>2</sub>]"
         },
         "type": "log"
        }
       }
      },
      "text/html": [
       "<div>                            <div id=\"130e4e17-9236-4112-80d9-07ad87879900\" class=\"plotly-graph-div\" style=\"height:525px; width:100%;\"></div>            <script type=\"text/javascript\">                require([\"plotly\"], function(Plotly) {                    window.PLOTLYENV=window.PLOTLYENV || {};                                    if (document.getElementById(\"130e4e17-9236-4112-80d9-07ad87879900\")) {                    Plotly.newPlot(                        \"130e4e17-9236-4112-80d9-07ad87879900\",                        [{\"legendgroup\":\"group\",\"legendgrouptitle\":{\"font\":{\"color\":\"rgb(10,10,10)\"},\"text\":\"Power capacity\"},\"marker\":{\"color\":\"rgb(0,0,205)\",\"size\":6,\"symbol\":\"circle-open\"},\"mode\":\"markers\",\"name\":\"Onshore Wind - Prospective\",\"type\":\"scatter\",\"x\":[541.0,595.0,698.0,903.212,1108.424,1313.635,1518.847,1724.059,1929.271,2134.482,2339.694,2544.906,2750.118,2957.488,3164.859,3372.229,3579.6,3786.97,3994.341,4201.711,4409.082,4616.452,4823.823,5031.193,5238.564,5445.934,5653.305,5860.675,6068.046,6275.417,6482.787,6690.158,6897.528],\"y\":[1520.39,1447.57,1315.53,1347.82,1284.84,1234.83,1193.64,1158.81,1128.75,1102.39,1078.99,1058.0,1038.99,1021.49,1005.44,990.64,976.91,964.14,952.2,941.0,930.47,920.53,911.12,902.2,893.73,885.65,877.95,870.59,863.54,856.79,850.3,844.07,838.07]},{\"legendgroup\":\"group\",\"marker\":{\"color\":\"rgb(0,0,205)\",\"size\":6,\"symbol\":\"circle\"},\"mode\":\"markers+text\",\"name\":\"Onshore Wind - Historical\",\"textfont\":{\"size\":10},\"type\":\"scatter\",\"x\":[178.0,216.0,261.0,292.0,340.0,405.0,453.0,495.0,541.0,595.0,698.0],\"y\":[1914.0,1883.0,1937.0,1797.0,1745.0,1611.0,1604.0,1599.0,1520.0,1448.0,1316.0]},{\"legendgroup\":\"group\",\"line\":{\"color\":\"rgb(0,0,205)\",\"width\":1.5},\"mode\":\"lines\",\"name\":\"Onshore Wind - Learning Curve\",\"type\":\"scatter\",\"x\":[178.00000000000003,184.69841505847967,191.6489018264855,198.86094615196652,206.3443908499881,214.10944913595645,222.16671856435596,230.52719549202163,239.20229008568927,248.20384189430047,257.5441360073189,267.23591982110855,277.2924204362567,287.7273627095853,298.55498798548706,309.7900735321514,321.4479527092035,333.5445358942865,346.0963321971399,359.1204719908134,372.63473029076613,386.65755101375584,401.2080721496289,416.3061518803629,431.9723956820102,448.22818444652603,465.09570366187256,482.5979736902033,500.7588811854742,519.6032116933404,539.1566834778407,559.4459826210312,580.4987994434731,602.3438662952794,625.0109967692971,648.5311263899429,672.936354833219,698.2599897355406,724.5365921511494,751.802023720165,780.0934956116404,809.4496193084215,839.910459303119,871.5175877771109,904.3141413372019,938.344879887365,973.6562477159322,1010.2964368815681,1048.3154529845783,1087.7651834132794,1128.6994681585907,1171.1741732934863,1215.2472672175961,1260.9788997710052,1308.431484325224,1357.669782963388,1408.7609948658865,1461.7748480221135,1516.7836943934512,1573.8626086573922,1633.0894906675535,1694.545171769421,1758.3135251169167,1824.4815801403524,1893.1396413219884,1964.3814114412894,2038.304119458122,2115.0086532083433,2194.599697092981,2277.1858749488374,2362.8798982955477,2451.7987201614,2544.063694697862,2639.8007428006485,2739.1405239633514,2842.21861459823,2949.175693067418,3060.1577316772236,3175.31619589739,3294.808251077353,3418.7969769415076,3547.451590156281,3680.9476752727473,3819.467424359949,3963.199885656049,4112.341221576513,4267.094976431656,4427.672354218693,4594.2925068676395,4767.182833334282,4946.579289948507,5132.72671244151,5325.879150091391,5526.300212443166,5734.263429076354,5950.052622911271,6173.9622975632665,6406.298039273847,6647.376933966996,6897.528],\"y\":[1970.111645221424,1953.1752957557574,1936.3845420658017,1919.7381325164308,1903.2348262323799,1886.873393005749,1870.6526132042968,1854.5712776805262,1838.6281876815572,1822.8221547597514,1807.1520006841426,1791.6165573525923,1776.2146667047211,1760.945180635584,1745.8069609100853,1730.7988790781326,1715.9198163905169,1701.1686637155192,1686.5443214562313,1672.0456994685887,1657.671716980108,1643.4213025093222,1629.293393785909,1615.2869376715119,1601.4008900812194,1587.6342159057583,1573.9858889343154,1560.4548917780485,1547.0402157942458,1533.7408610111383,1520.5558360533587,1507.484158068041,1494.524852651557,1481.676953776879,1468.9395037215706,1456.3115529963934,1443.792160274536,1431.380392321429,1419.0753239251994,1406.876037827685,1394.7816246560678,1382.7911828550855,1370.9038186198245,1359.1186458290956,1347.4347859793772,1335.8513681193313,1324.3675287848782,1312.9824119348325,1301.6951688870902,1290.5049582553654,1279.4109458864714,1268.4123047981402,1257.5082151173758,1246.6978640193379,1235.980445666756,1225.3551611498526,1214.8212184267945,1204.3778322646513,1194.0242241808598,1183.7596223851958,1173.5832617222406,1163.494383614345,1153.492236005082,1143.5760733031864,1133.7451563269758,1123.9987522492504,1114.336134542665,1104.7565829255711,1095.259383308328,1085.8438277400671,1076.5092143559227,1067.2548473247116,1058.0800367970644,1048.984098854001,1039.9663554559504,1031.0261343922054,1022.1627692308168,1013.3755992689131,1004.6639694834505,996.0272304823859,987.4647384562676,978.9758551302483,970.5599477164967,962.2163888670405,953.944556626988,945.7438343881793,937.613610843209,929.5532799398702,921.5622408359676,913.639897854534,905.7856604394249,897.9989431112973,890.2791654239659,882.6257519211341,875.0381320935018,867.5157403362288,860.0580159067852,852.6644028831387,845.3343501223277,838.0673112193643]},{\"marker\":{\"color\":\"rgb(30,144,255)\",\"size\":6,\"symbol\":\"circle-open\"},\"mode\":\"markers\",\"name\":\"Offshore Wind - Prospective\",\"type\":\"scatter\",\"x\":[23.626,28.355,34.367,66.02,97.67,129.32,160.97,192.62,224.28,255.93,287.58,319.23,350.88,401.71,452.54,503.37,554.2,605.03,655.86,706.69,757.52,808.35,859.18,910.01,960.84,1011.67,1062.5,1113.32,1164.15,1214.98,1265.81,1316.64,1367.47],\"y\":[4496.0,3615.0,3092.0,2820.0,2513.0,2314.0,2170.0,2058.0,1968.0,1893.0,1829.0,1774.0,1725.0,1658.0,1601.0,1552.0,1508.0,1470.0,1436.0,1404.0,1376.0,1350.0,1326.0,1304.0,1283.0,1264.0,1246.0,1229.0,1213.0,1198.0,1183.0,1170.0,1157.0]},{\"marker\":{\"color\":\"rgb(30,144,255)\",\"size\":6,\"symbol\":\"circle\"},\"mode\":\"markers+text\",\"name\":\"Offshore Wind - Historical\",\"textfont\":{\"size\":10},\"type\":\"scatter\",\"x\":[3.056,3.776,5.334,7.171,8.492,11.717,14.342,18.837,23.626,28.355,34.367],\"y\":[4569.0,5233.0,4631.0,5554.0,5153.0,5168.0,4069.0,4597.0,4496.0,3615.0,3092.0]},{\"line\":{\"color\":\"rgb(30,144,255)\",\"width\":1.5},\"mode\":\"lines\",\"name\":\"Offshore Wind - Learning Curve\",\"type\":\"scatter\",\"x\":[3.056,3.2503396705285033,3.4570379495455956,3.676880755867331,3.910703987106811,4.1593966979670345,4.423904480650365,4.705233060237787,5.004452118708478,5.3226993621395895,5.66118484655074,6.021195578841196,6.404100410313601,6.811355241390762,7.244508557315,7.705207315878327,8.19520320956995,8.716359325951483,9.270657231584156,9.860204506443042,10.487242757465882,11.154156141706178,11.863480431497628,12.617912656097957,13.420321356472138,14.273757492206242,15.181466042022711,16.14689834200516,17.17372520844577,18.265850895211603,19.42742793869924,20.662872946821967,21.976883392063357,23.374455472448474,24.860903108344687,26.441878147322686,28.123391853901712,29.91183776588837,31.814016004214537,33.837159128706574,35.98895963809576,38.27759921883237,40.711779853914166,43.30075691001323,46.05437432870654,48.9831020556166,52.09807584977646,55.41113962458492,58.93489048134234,62.682726606596745,66.66889821541683,70.90856173429204,75.41783742967564,80.2138707012906,85.31489727324895,90.74031253085906,96.51074526675582,102.64813611675633,109.17582098367234,116.11861976627901,123.50293073080883,131.35683088379633,139.71018272791454,148.59474780671698,158.04430747000995,168.0947913190371,178.78441381985488,190.15381960433854,202.24623801129013,215.1076474552506,228.786950247991,243.33615853739397,258.8105920707151,275.26908853416717,292.77422726859487,311.39256721185916,331.19489997265015,352.25651899797947,374.65750585779114,398.4830347352236,423.8236962802632,450.77584205816896,479.441950902342,509.93101856461413,542.3589721444934,576.8491108731386,613.532574928029,652.548844060888,694.0462679347585,738.1826301867152,785.1257483609135,835.0541119930809,888.1575612725987,944.6380088626242,1004.7102076227889,1068.60256715356,1136.5580222669548,1208.8349566857657,1285.7081854834269,1367.47],\"y\":[6959.219144504205,6834.207404939681,6711.4413102822255,6590.880520951991,6472.48542200805,6356.217110131399,6242.037380841691,6129.908715943699,6019.794271199283,5911.657864220721,5805.463962581605,5701.1776721413125,5598.7647255791135,5498.1914711343425,5399.42486154883,5302.432443207881,5207.182345476404,5113.643270226606,5021.784481553709,4931.575795676511,4842.987571019349,4755.990698472153,4670.5565918255425,4586.657178377742,4504.264889710145,4423.352652628669,4343.893880267821,4265.8624633545005,4189.232761628835,4113.979595419025,4040.0782373676066,3967.504404306335,3896.2342492769617,3826.244353695409,3757.5117196567044,3690.01376237808,3623.728302777888,3558.633560187813,3494.708145195953,3431.9310526185095,3370.2816545977385,3309.7396938238276,3250.285276878584,3191.8988676986987,3134.561281156374,3078.253676755324,3022.9575524400066,2968.6547385160247,2915.3273916797907,2862.957989155403,2811.529322936853,2761.0244941336746,2711.426907418151,2662.720265572267,2614.888564132637,2567.916086131607,2521.787396932829,2476.4873391596216,2432.0010277144183,2388.3138448876825,2345.411435554702,2303.2797024586494,2261.90480157837,2221.273137579407,2181.371359346711,2142.186355597621,2103.70525057363,2065.9153998095694,2028.8043859787613,1992.3600148128353,1956.5703110948207,1921.4235147242246,1886.908076852788,1853.0126560896715,1819.7261147747938,1787.0375153191167,1754.9361166106842,1723.4113704851989,1692.4529182600297,1662.0505873304432,1632.1943878270145,1602.8745093330551,1574.0813176610284,1545.8053516868567,1518.0373202410983,1490.7680990559795,1463.9887277672549,1437.690406969935,1411.8644953268931,1386.5025067294252,1361.5961075088055,1337.1371136979303,1313.1174883421654,1289.5293388584878,1266.364914442066,1243.6166035194396,1221.2769312474363,1199.3385570570179,1177.7942722412565,1156.6369975866319]},{\"marker\":{\"color\":\"rgb(255,215,0)\",\"size\":6,\"symbol\":\"circle-open\"},\"mode\":\"markers\",\"name\":\"Residential PV - Prospective\",\"type\":\"scatter\",\"x\":[58.0,74.0,93.0,150.67,208.35,266.02,323.7,381.37,439.05,496.72,554.39,612.07,669.74,751.15,832.56,913.96,995.37,1076.78,1158.18,1239.59,1321.0,1402.41,1483.81,1530.81,1577.81,1624.82,1671.82,1718.82,1765.82,1812.82,1859.82,1906.82,1953.82],\"y\":[2704.85,2506.8,2442.72,1872.68,1639.53,1483.13,1368.42,1279.39,1207.57,1147.95,1097.36,1053.7,1015.48,968.8,928.75,893.88,863.13,835.74,811.12,788.83,768.51,749.88,732.72,723.41,714.49,705.94,697.73,689.83,682.24,674.93,667.88,661.07,654.5]},{\"marker\":{\"color\":\"rgb(255,215,0)\",\"size\":6,\"symbol\":\"circle\"},\"mode\":\"markers+text\",\"name\":\"Residential PV - Historical\",\"textfont\":{\"size\":10},\"type\":\"scatter\",\"x\":[27.0,32.0,38.0,44.0,50.0,58.0,74.0,93.0],\"y\":[3794.0,3379.0,3158.0,3103.0,3027.0,2705.0,2507.0,2443.0]},{\"line\":{\"color\":\"rgb(255,215,0)\",\"width\":1.5},\"mode\":\"lines\",\"name\":\"Residential PV - Learning Curve\",\"type\":\"scatter\",\"x\":[27.000000000000004,28.193357762954378,29.439460072219994,30.740638154233665,32.099326271993874,33.5180662791157,34.999512375167626,36.54643607118703,38.16173137466358,39.84842020369078,41.60965804041457,43.4487398343555,45.36910616664858,47.3743496867327,49.46822183353187,51.65463985370204,53.93769413007343,56.32165583399868,58.810984915922646,61.41033844912294,64.12457934223096,66.95878543683226,69.91825900716708,73.00853667970254,76.23539979113444,79.60488520419668,83.12329660151224,86.79721627861497,90.63351745820441,94.63937714867141,98.82228957095045,103.19008017881782,107.7509202988651,112.51334241753653,117.48625614382942,122.67896487752158,128.10118321410656,133.7630551190028,139.67517290503062,145.84859704866815,152.29487688215085,159.02607220013215,166.05477582132366,173.39413714732459,181.0578867627148,189.0603621224333,197.4165343744989,206.1420363682529,215.25319190052244,224.76704625441835,234.7013980879014,245.07483273176936,255.90675695936943,267.217435293071,279.0280279154319,291.3606302559775,304.2383143276534,317.68517189028523,331.72635952179513,346.38814568149616,361.6979598535104,377.68444386224917,394.37750545595696,411.8083742585665,430.00966019453205,449.01541449595913,468.8611934061412,489.5841246987073,511.2229771367966,533.8182330022353,557.4121638303761,582.0489094923086,607.7745607723743,634.6372455954817,662.6872190655317,691.9769574834013,722.5612565203786,754.4973337306986,787.8449355949923,822.6664492948645,859.0270194277595,896.9946698804132,936.6404310889498,978.0384729236509,1021.2662434470391,1066.4046138048457,1113.5380295209336,1162.7546684792196,1214.14660588815,1267.8099865363474,1323.845204661688,1382.357091770317,1443.4551127569505,1507.253570693422,1573.8718206685203,1643.4344930792595,1716.0717267912253,1791.919412604293,1871.119447479107,1953.8199999999993],\"y\":[3791.3382077272263,3724.660274126696,3659.1549995150685,3594.8017604412125,3531.5802961568556,3469.470702237708,3408.4534243168737,3348.5092519283758,3289.6193124590445,3231.7650652066854,3174.9282955428307,3119.0911091780895,3064.235926528364,3010.3454771801644,2957.402794453267,2905.391210058959,2854.2943488522674,2804.0961236764606,2754.7807302982274,2706.3326424319253,2658.7366068513406,2611.9776385874156,2566.0410162104326,2520.912277195172,2476.5772133675805,2433.02186643152,2390.2325235741837,2348.1957131488134,2306.8982004333106,2266.326983463491,2226.4692889395706,2187.312568204672,2148.8444932940515,2111.052953053802,2073.926049327822,2037.4520932118414,2001.6196013733268,1966.4172924361092,1931.8340834286025,1897.8590862944611,1864.4816044646477,1831.6911294897366,1799.4773377314964,1767.8300871126055,1736.7394139235812,1706.1955296858218,1676.1888180698445,1646.7098318677124,1617.7492900187074,1589.2980746873206,1561.3472283926087,1533.8879511880746,1506.9115978911002,1480.4096753611448,1454.3738398257847,1428.7958942537975,1403.6677857744237,1378.981603142047,1354.7295742454276,1330.9040636607751,1307.497570247821,1284.5027247882024,1261.9122876653516,1239.7191465852052,1217.9163143369942,1196.4969265934126,1175.4542397494838,1154.7816287994146,1134.4725852508175,1114.5207150755841,1094.9197366968267,1075.6634790111939,1056.7458794459965,1038.160982050474,1019.9029356206589,1001.9659918571884,984.3445035555449,967.0329228280988,950.0257993574368,933.3177786804008,916.9036005023087,900.7780970408207,884.9361913989334,869.3728959665871,854.083310850384,839.0626223309235,824.3061013472663,809.8091020080574,795.5670601288215,781.5754917950027,767.8299919502534,754.3262330095698,741.0599634968054,728.0270067061556,715.223259387173,702.6446904529183,690.2873397108257,678.14731661589,666.2207990457789,654.5040320974949]},{\"marker\":{\"color\":\"rgb(255,140,0)\",\"size\":6,\"symbol\":\"circle-open\"},\"mode\":\"markers\",\"name\":\"CSP - Prospective\",\"type\":\"scatter\",\"x\":[5.83,6.38,6.48,13.13,19.78,26.44,33.09,39.74,46.39,53.04,59.7,66.35,73.0,93.8,114.6,135.4,156.2,177.0,197.8,218.6,239.4,260.2,281.0,295.5,310.0,324.5,339.0,353.5,368.0,382.5,397.0,411.5,426.0],\"y\":[5161.0,6466.0,4448.0,5036.0,4238.0,3701.0,3307.0,3002.0,2757.0,2555.0,2384.0,2237.0,2110.0,1799.0,1574.0,1403.0,1267.0,1157.0,1065.0,987.0,921.0,863.0,812.0,780.0,750.0,723.0,697.0,673.0,651.0,631.0,611.0,593.0,576.0]},{\"marker\":{\"color\":\"rgb(255,140,0)\",\"size\":6,\"symbol\":\"circle\"},\"mode\":\"markers+text\",\"name\":\"CSP - Historical\",\"textfont\":{\"size\":10},\"type\":\"scatter\",\"x\":[1.266,1.705,2.567,3.842,4.499,4.75,4.86,4.959,5.833,6.384,6.479],\"y\":[8830.0,10403.0,8040.0,6307.0,5414.0,7232.0,7602.0,7196.0,5161.0,6466.0,4448.0]},{\"line\":{\"color\":\"rgb(255,140,0)\",\"width\":1.5},\"mode\":\"lines\",\"name\":\"CSP - Learning Curve\",\"type\":\"scatter\",\"x\":[1.266,1.3426373200696768,1.4239138809193395,1.5101105190265045,1.6015250713070892,1.698473404237084,1.8012905052721162,1.9103316403361044,2.025973581378497,2.1486159082416982,2.2786823893370527,2.4166224459000536,2.562912704884262,2.718058645859662,2.8825963476060275,3.0570943404363313,3.2421555706505623,3.438419483907777,3.6465642347150853,3.8673090296680837,4.101416612539351,4.349695899801805,4.61300477569349,4.892253056481617,5.188405634168377,5.502485810500979,5.835578832806051,6.1888356438657555,6.56347685879274,6.960796982645204,7.3821688833553285,7.829048535426509,8.302980050790262,8.805601014206186,9.338648141640299,9.90396328117346,10.503499777174737,11.13932921973012,11.813648602647945,12.528787914774181,13.287218190848156,14.091560049716765,14.944592749409663,15.849263790363443,16.808699099977044,17.826213833689394,18.905323829900254,20.049757758314914,21.263470003688894,22.550654329490374,23.91575836869243,25.363498991765518,26.898878604971575,28.52720243527535,30.254096861598153,32.08552885575399,34.02782660024314,36.08770135414386,38.27227064265604,40.58908285042424,43.04614330361743,45.651941930887986,48.415482598786674,51.346314222997655,54.45456376289186,57.75097121340635,61.246926715157166,64.95450991101303,68.88653168511992,73.05657842859736,77.47905898485952,82.16925443677107,87.14337090766962,92.41859555869776,98.01315597593465,103.94638315252783,110.23877828344838,116.91208360366862,123.9893575145274,131.49505425787214,139.4551084132751,147.8970245102889,156.84997206538205,166.34488637193388,176.41457539155454,187.09383311607172,198.41955979188464,210.43088942210193,223.16932498702153,236.67888185018438,251.00623984551288,266.20090457104715,282.3153784465992,299.40534212638124,317.5298468934513,336.75151870075666,357.1367745638055,378.75605205266686,401.6840526762743,425.99999999999994],\"y\":[8830.000500101507,8783.462570577089,8733.195649968666,8679.266677793423,8621.747177579036,8560.713098842496,8496.244650048156,8428.426123059307,8357.345709620193,8283.095310427958,8205.770337372027,8125.469509536107,8042.294643572226,7956.3504390687385,7867.744259543848,7776.5859097040775,7682.9874096119975,7587.062766410445,7488.927744250638,7388.699633069892,7286.497016860243,7182.439542062544,7076.647686712386,6969.242530952617,6860.345529514916,6750.078286757328,6638.562334828462,6525.918915509698,6412.268766267041,6297.731911021723,6182.427456125848,6066.473392003965,5949.986400896013,5833.081671109456,5715.872718160888,5598.4712131578835,5480.986818742734,5363.52703288906,5246.197040812107,5129.099575222044,5012.334785118874,4896.0001132961825,4780.190182689804,4664.99669167671,4550.508318398773,4436.810634155942,4323.986025883684,4212.113627700865,4101.269261485803,3991.5253864109986,3882.9510573408893,3775.6118919712626,3669.570046565033,3564.884200115897,3461.6095467494897,3359.7977961512433,3259.497181790823,3160.752476695253,3063.605016506263,2968.0927295426336,2874.2501735744518,2782.1085790043176,2691.6958981398216,2603.0368602324193,2516.153031950153,2431.062882945371,2347.7818561736976,2266.3224426171064,2186.6942600617076,2108.9041355802165,2032.9561913694067,1958.8519335946528,1886.59034389653,1816.1679732184812,1747.579037619631,1680.8155157429783,1615.8672476162355,1552.7220344705202,1491.365739270948,1431.7823876626314,1373.9542690458254,1317.862037504867,1263.4848123268562,1210.8002778579853,1159.7847824576752,1110.413436323369,1062.6602079717195,1016.4980191751514,971.898838166021,928.8337709340586,887.2731504562788,847.1866237119442,808.543236348578,771.3115148783369,735.4595462970867,700.9550550315031,667.7654771320965,635.858031642494,605.1997890872526,575.7577370322424]},{\"marker\":{\"color\":\"rgb(50,205,50)\",\"size\":6,\"symbol\":\"circle-open\"},\"mode\":\"markers\",\"name\":\"Ground Source Heat Pumps - Prospective\",\"type\":\"scatter\",\"x\":[2.174,2.859,3.544,4.23,4.915,5.6,6.286,6.971,7.657,8.342,9.027,9.713,10.398,11.084,11.769,12.454,13.14,13.825,14.511,15.196,15.881,16.567,17.252,17.937,18.623,19.308,19.994,20.679,21.364,22.05,22.735,23.421,24.106],\"y\":[2784.93,2364.46,2079.7,1871.35,1710.83,1582.54,1477.11,1388.59,1312.97,1247.44,1189.99,1139.11,1093.66,1052.76,1015.71,981.95,951.03,922.59,896.32,871.95,849.28,828.12,808.32,789.73,772.24,755.76,740.18,725.43,711.44,698.15,685.51,673.46,661.96]},{\"marker\":{\"color\":\"rgb(50,205,50)\",\"size\":6,\"symbol\":\"circle\"},\"mode\":\"markers+text\",\"name\":\"Ground Source Heat Pumps - Historical\",\"textfont\":{\"size\":10},\"type\":\"scatter\",\"x\":[0.02,0.039,0.061,0.084,0.106,0.126,0.142,0.157,0.172,0.198,0.224,0.252,0.285,0.325,0.367,0.417,0.467,0.522,0.587,0.661,0.75,0.867,0.992,1.143],\"y\":[34647,30597,27279,25591,23285,20361,17605,15805,14286,13611,12655,8662,8549,8212,7762,7256,6806,6524,5231,4893,4781,4612,4443,4218]},{\"line\":{\"color\":\"rgb(50,205,50)\",\"width\":1.5},\"mode\":\"lines\",\"name\":\"Ground Source Heat Pumps - Learning Curve\",\"type\":\"scatter\",\"x\":[0.020000000000000004,0.02148583167092517,0.023082048129566553,0.024796850036603015,0.02663904729278135,0.028618104300325745,0.030744188586888946,0.03302822304185373,0.03548194203335206,0.03811795169430634,0.040949794687216136,0.0439920197804236,0.047260256593309596,0.05077129589442907,0.054543175865121876,0.05859527477178384,0.06294841052290778,0.06762494762237456,0.07264891206847356,0.07804611478895337,0.08384428424625777,0.09007320889421487,0.09676489021805908,0.10395370714403852,0.11167659266327315,0.11997322357727817,0.1288862243399835,0.13846138604349922,0.14874790167268057,0.15979861883712715,0.17167031127904234,0.18442397055184154,0.19812511936802638,0.2128441482261685,0.22865667704644513,0.24564394367265105,0.2638932212366402,0.28349826652943333,0.3045598016825243,0.3271860316340534,0.35149320003836343,0.37760618647495525,0.4056591480250434,0.43579620851185014,0.4681721989456509,0.5029534529776573,0.5403186614494263,0.5804597904280988,0.6235830674439315,0.6699100409969745,0.7196787187761786,0.7731447904386036,0.8305829412308277,0.8922882632013747,0.958577771254346,1.0297920318330742,1.1062969126012723,1.1884854621107575,1.2767799291126722,1.371633931886533,1.4735347887321644,1.583006021597578,1.7006100457053255,1.826951058995449,1.9626781462297347,2.1084886137047767,2.2651315717061595,2.433411783108835,2.6141937978961147,2.8084063948386273,3.017047353152628,3.241188578652384,3.481981610732516,3.740663538472786,4.01856335625968,4.317108791577178,4.637833640044925,4.9823856453879705,5.35253496482199,5.750183263345332,6.177373483660448,6.63630034191825,7.1293216032079325,7.6589701947207995,8.227967218820202,8.839235932873068,9.495916767665197,10.201383461558512,10.959260393280305,11.773441202392888,12.648108793107422,13.587756824212727,14.597212795524984,15.68166284946624,16.84667841519162,18.098244832150773,19.442792100139144,20.887227913819164,22.4389731514284,24.106000000000005],\"y\":[45778.1035548452,43860.508794594294,42023.23998450286,40262.932358248654,38576.36209589574,36960.440419804334,35412.20793785651,33928.82922363797,32507.58762365016,31145.880282042493,29841.21337375321,28591.197537328684,27393.543499056992,26246.057880401713,25146.639181057766,24093.27393027265,23084.032999384624,22117.068068824672,21190.608243111732,20302.956807642393,19452.48812133498,18637.644639437032,17856.934061044765,17108.926596109497,16392.252346925914,15705.598799307541,15047.708418853643,14417.376347906089,13813.44819897813,13234.81794061405,12680.425871807825,12149.256681271205,11640.337587996903,11152.736559711579,10685.560605955887,10237.95414266552,9809.097425258173,9398.2050473568,9004.524502399678,8627.334805503093,8265.945173052667,7919.693757605175,7587.946435783931,7270.095646947927,6965.559280507848,6673.7796098511935,6394.222270924132,6126.375283599425,5869.748114038192,5623.870776328318,5388.2929717542465,5162.583264121775,4946.328289627736,4739.131999827149,4540.614936311868,4350.4135357720525,4168.179464167788,3993.5789787916824,3826.292317053845,3666.013110870037,3512.447825580462,3365.315222371632,3224.345843216793,3089.281517391638,2959.874888661532,2835.888962274356,2717.0966709293134,2603.280458926845,2494.2318837380344,2389.751234263848,2289.6471650850694,2193.7363460331135,2101.843126439926,2013.7992134520978,1929.443363820045,1848.6210885977987,1771.1843702126102,1696.9913913861967,1625.9062754111676,1557.7988373070073,1492.5443453998453,1430.0232928894047,1370.121178984749,1312.7282992080186,1257.7395444821163,1205.0542086343835,1154.575803963751,1106.2118845335624,1059.8738768664816,1015.4769177314013,972.9396987252773,932.1843173652685,893.1361344184556,855.7236372078701,819.8783086444726,785.5345017452545,752.6293194076263,721.1024992199317,690.8963030971214,661.9554115394689]},{\"marker\":{\"color\":\"rgb(0,128,128)\",\"size\":6,\"symbol\":\"circle-open\"},\"mode\":\"markers\",\"name\":\"Decentralized Heat Pumps - Prospective\",\"type\":\"scatter\",\"x\":[6.22,6.487,7.069,7.651,8.233,8.816,9.398,9.98,10.563,11.145,11.727,12.309,12.892,13.474,14.056,14.638,15.221,15.803,16.385,16.967,17.55,18.132,18.714,19.296,19.879,20.461,21.043,21.625,22.208,22.79,23.372,23.954,24.537],\"y\":[903.0,881.0,837.0,798.0,764.0,733.0,706.0,681.0,658.0,638.0,619.0,601.0,585.0,569.0,555.0,542.0,529.0,518.0,507.0,496.0,486.0,477.0,468.0,459.0,451.0,444.0,436.0,429.0,422.0,416.0,410.0,404.0,398.0]},{\"marker\":{\"color\":\"rgb(0,128,128)\",\"size\":6,\"symbol\":\"circle\"},\"mode\":\"markers+text\",\"name\":\"Decentralized Heat Pumps - Historical\",\"textfont\":{\"size\":10},\"type\":\"scatter\",\"x\":[null,null,null,null,null,null,null,null,null,null,null,null,null,null,null,null,null,null,6.22,null,null],\"y\":[null,null,null,null,null,null,null,null,null,null,null,null,null,null,null,null,null,null,903.0,null,null]},{\"line\":{\"color\":\"rgb(0,128,128)\",\"width\":1.5},\"mode\":\"lines\",\"name\":\"Decentralized Heat Pumps - Learning Curve\",\"type\":\"scatter\",\"x\":[6.219999999999999,6.306826744856881,6.394865528881359,6.484133271272075,6.574647127407569,6.666424492143172,6.759483003153942,6.853840544324244,6.949515249184661,7.046525504396876,7.144889953287194,7.244627499429409,7.345757310277658,7.448298820850016,7.552271737463482,7.657696041521133,7.7645919933521155,7.872980136105262,7.98288129969705,8.094316604814667,8.207307466974967,8.321875600640084,8.438043023390483,8.555832060156291,8.675265347507665,8.796365838005059,8.919156804610244,9.043661845158868,9.169904886895447,9.297910191071711,9.427702357609071,9.559306329826233,9.692747399232763,9.82805121038958,9.965243765837307,10.104351431093415,10.24540093971911,10.388419398456968,10.533434292440266,10.680473490475062,10.82956525039599,10.980738224496813,11.134021465036781,11.289444429823886,11.447036987876018,11.606829425161163,11.76885245041773,11.933137201056109,12.099715249142646,12.268618607467122,12.439879735694925,12.613531546605138,12.789607412415638,12.968141171196587,13.149167133373357,13.332720088320286,13.518835311046468,13.707548568974834,13.898896128815943,14.092914763537655,14.289641759432095,14.489114923281372,14.691372589623139,14.89645362811777,15.104397451018253,15.315244020744377,15.529033857562714,15.745808047373725,15.965608249607607,16.188476705230382,16.41445624486167,16.643590297005893,16.875922896398272,17.1114986924674,17.35036295791592,17.592561597420946,17.838141156456036,18.087148830236202,18.33963247278787,18.595640606145395,18.85522242967595,19.118427829534667,19.385307388251675,19.655912394452955,19.930294852717005,20.208507493568977,20.490603783614397,20.776637935814303,21.0666649199038,21.36074047295621,21.658921110094383,21.96126413535186,22.267827652685437,22.578670577141505,22.89385264617833,23.21343443114631,23.53747734892847,23.866043673743604,24.199196549113914,24.537],\"y\":[903.2142330267694,895.7683493810441,888.3838478318793,881.0602223598461,873.7969711170226,866.5935963925992,859.4496045787789,852.364506136948,845.3378155641327,838.3690513597321,831.4577359925219,824.6033958679301,817.8055612955861,811.0637664571374,804.377549374325,797.7464518773292,791.1700195733746,784.6478018155924,778.1793516721376,771.7642258955657,765.4019848924607,759.0921926933075,752.8344169226232,746.6282287693225,740.47320295734,734.3689177164831,728.3149547535322,722.3108992235794,716.3563397015995,710.4508681542561,704.5940799119429,698.7855736410556,693.0249513164865,687.3118181943544,681.6457827849507,676.0264568259175,670.4534552556379,664.9263961868511,659.4449008804856,654.008593719705,648.6171021841676,643.2700568245008,637.9670912369862,632.7078420384507,627.4919488413647,622.3190542291478,617.1888037316774,612.1008458009986,607.0548317872351,602.0504159146952,597.0872552581825,592.1650097194924,587.2833420041095,582.4419175980958,577.640404745165,572.878474423951,568.155800325463,563.4720588307234,558.8269289885922,554.2200924937739,549.651233665008,545.1200394234336,540.6261992711391,536.1694052698822,531.7493520199922,527.3657366394391,523.0182587430819,518.706620422082,514.4305262234919,510.1896831300064,505.98380053988734,501.8125902470462,497.67576642129904,493.5730455887766,489.5041466125009,485.46879067312176,481.46670124980784,477.4976041013016,473.56122724712384,469.65730094893803,465.7855576920676,461.9457321671618,458.1375612520185,454.3607839935523,450.6151415899124,446.90037737274906,443.2162367896265,439.5624673865773,435.9388187908061,432.34504269352993,428.7808928329659,425.24612497745375,421.7404969087209,418.2637684052859,414.81570122599464,411.39605909369794,408.0046076790584,404.6411145844937,401.3053493282531,397.9970833286224]},{\"marker\":{\"color\":\"rgb(139,0,139)\",\"size\":6,\"symbol\":\"circle-open\"},\"mode\":\"markers\",\"name\":\"SOEC Electrolysis - Prospective\",\"type\":\"scatter\",\"x\":[0.89,3.48,7.77,13.78,21.49,30.91,42.03,54.86,69.4,85.64,107.87,132.15,158.47,186.84,217.24,249.69,284.18,320.71,359.28,399.9,436.5,474.67,514.43,555.77,598.69,643.19,689.27,736.93,786.18,837.0],\"y\":[924.0,881.0,860.0,846.0,836.0,828.0,821.0,815.0,810.0,805.0,800.0,795.0,791.0,787.0,783.0,780.0,777.0,774.0,771.0,769.0,766.0,764.0,762.0,760.0,759.0,757.0,755.0,753.0,752.0,750.0]},{\"marker\":{\"color\":\"rgb(139,0,139)\",\"size\":6,\"symbol\":\"circle\"},\"mode\":\"markers+text\",\"name\":\"SOEC Electrolysis - Historical\",\"textfont\":{\"size\":10},\"type\":\"scatter\",\"x\":[6.05e-05,6.05e-05,0.0001271,0.0003232,0.0004715,0.0011737,0.0011737,0.0011737,837.0],\"y\":[14443,2614,9027,5416,2428,2407,714,1133,750]},{\"line\":{\"color\":\"rgb(139,0,139)\",\"width\":1.5},\"mode\":\"lines\",\"name\":\"SOEC Electrolysis - Learning Curve\",\"type\":\"scatter\",\"x\":[6.049999999999996e-05,7.143094334005821e-05,8.433685399091898e-05,9.957456262651404e-05,0.0001175653709270347,0.00013880669999077585,0.0001638858433431665,0.00019349620479476655,0.00022845647010266552,0.00026973324250534233,0.0003184677679723848,0.0003760074890854581,0.00044394329997191615,0.0005241535323387172,0.0006188558887599713,0.0007306687591020645,0.0008626836154011601,0.001018550486811848,0.0012025788778916673,0.0014198569204732301,0.0016763920535093025,0.0019792771204949896,0.0023368864768322497,0.0027591075292355805,0.0032576141089248737,0.0038461892369981284,0.00454110620600256,0.005361578514085219,0.006330291091783383,0.007474027509144691,0.008824410504590919,0.010418776310129732,0.012301206946803592,0.014523749031924917,0.01714785279644057,0.02024607109927611,0.02390406541406911,0.02822297425106474,0.0333222094977806,0.03934275799341346,0.046451079620977484,0.05484370969405913,0.0647526928878502,0.07645199895517713,0.0902650976132471,0.10657390203630866,0.12582932822949547,0.14856376223601128,0.17540577987878342,0.20709752601719164,0.2445152338314092,0.2886934514643383,0.34085364585446254,0.4024379746162379,0.47514915971405397,0.5609975653819974,0.6623567819291253,0.7820292522459928,0.9233237554950684,1.0901468903024467,1.2871110868352829,1.5196621341502792,1.7942297487689354,2.118405347493562,2.5011519396378357,2.9530519419032566,3.4865997676419846,4.11654728019661,4.860311661626362,5.73845697382903,6.775262726561051,7.999395172479191,9.444699889588353,11.151137564909755,13.165888852500228,15.544658853627213,18.353217286181494,21.66921692689269,25.58434060377355,30.20683610018017,35.66450905709738,42.10825662328128,49.716239553822106,58.698808109914424,69.30431795418593,81.82599684308822,96.61005197094889,114.06524212259393,134.67417929138898,159.0066722368931,187.73548091313594,221.65491735578183,261.70280731712586,308.98641985791403,364.81308181352244,430.72632358237524,508.54855561792135,600.4314555704497,708.9154592139075,837.0],\"y\":[14431.961560382118,12424.791020979566,10776.131346709712,9412.414262295417,8276.828876971631,7325.174380713887,6522.812386245185,5842.409668939412,5262.253603415629,4764.98578311357,4336.643286960679,3965.927912505046,3643.6455122254724,3362.2731129035183,3115.6226520851606,2898.57822665333,2706.8896139402336,2537.0091218695325,2385.961991371993,2251.242923098229,2130.7330530028967,2022.6330166551757,1925.4087348073194,1837.7473060475213,1758.520967031249,1686.7575214369028,1621.615978365098,1562.3664038477787,1508.3731937006694,1459.0811358273118,1414.0037555820938,1372.7135367380724,1334.8336889301058,1300.0311947012053,1268.0109189614031,1238.5106034660942,1211.296600919965,1186.1602291348077,1162.9146465805309,1141.3921676609398,1121.4419498997881,1102.9279965547114,1085.7274274754147,1069.7289786763226,1054.83169741282,1040.9438047824322,1027.981702217089,1015.8691018506651,1004.5362637670969,993.9193256637716,983.9597125882113,974.6036161929464,965.8015344611924,957.507864131007,949.6805391266806,942.2807092248296,935.2724539651128,928.6225274835615,922.3001305180417,916.2767063254242,910.5257576711666,905.0226824145561,899.7446255257488,894.6703456411393,889.780094497906,885.0555077918165,880.4795061791535,876.0362052975336,871.710833814661,867.4896586314259,863.3599164684218,859.3097511550072,855.3281560190106,851.4049208446402,847.5305829272718,843.6963818076147,839.8942173152543,836.1166105934819,832.3566678143745,828.6080463258289,824.864923001244,821.1219645882106,817.3742998752822,813.6174935160449,809.8475213675508,806.0607472159918,802.2539007765087,798.4240568664526,794.568615662432,790.6852839611937,786.7720573730644,782.827203384263,778.8492452311774,774.8369465356463,770.7892966555603,766.7054967097175,762.584946239992,758.4272304774275,754.2321081820749,749.9995000291233]},{\"marker\":{\"color\":\"rgb(178,34,34)\",\"size\":6,\"symbol\":\"circle-open\"},\"mode\":\"markers\",\"name\":\"PEM Electrolysis - Prospective\",\"type\":\"scatter\",\"x\":[14.821,28.827,42.07,54.549,66.264,77.217,87.405,96.83,105.492,113.39,136.69,160.799,185.717,211.445,237.981,265.327,293.481,322.445,352.218,382.8,408.517,434.861,461.831,489.427,517.65,546.499,575.975,606.077,636.805,668.16],\"y\":[687.0,658.0,642.0,632.0,625.0,619.0,615.0,611.0,608.0,606.0,599.0,594.0,589.0,585.0,581.0,578.0,574.0,571.0,569.0,566.0,564.0,562.0,561.0,559.0,557.0,556.0,554.0,553.0,551.0,550.0]},{\"marker\":{\"color\":\"rgb(178,34,34)\",\"size\":6,\"symbol\":\"circle\"},\"mode\":\"markers+text\",\"name\":\"PEM Electrolysis - Historical\",\"textfont\":{\"size\":10},\"type\":\"scatter\",\"x\":[0.0051821,0.0051836,0.0052047,0.0053733,0.0053733,0.0053733,0.00538,0.0053871,0.0053871,0.0066407,0.0066407,0.0103063,0.0103063,0.0103063,0.0103063,0.0103063,0.0103063,0.0103063,0.0103063,0.0103063,0.0103063,0.0118263,0.0118263,0.0118263,0.0118263,0.0118263,0.0118263,0.0118263,0.0118263,0.012978,0.012978,0.012978,0.012978,0.012978,0.012978,0.0133188,0.0133188,0.0133188,0.0133188,0.0133188,0.023511,0.0517146,0.0517146,0.0517146,0.0517146,0.0517146,0.0517146,0.0517146,113.39,668.16],\"y\":[3986,7363,2887,5106,3050,1878,2549,2524,2326,1343,4012,2745,2914,2387,1976,1641,3818,2494,1432,1790,3580,4047,2381,1197,1874,2381,3047,2381,3332,2366,1316,2366,1183,1518,2248,1420,1543,1834,1597,1479,1183,1479,1361,1194,1071,876,1274,2142,1075,550]},{\"line\":{\"color\":\"rgb(178,34,34)\",\"width\":1.5},\"mode\":\"lines\",\"name\":\"PEM Electrolysis - Learning Curve\",\"type\":\"scatter\",\"x\":[0.005182100000000001,0.005836140460804067,0.006572728329872883,0.00740228203698197,0.008336534937248136,0.009388701269790342,0.01057366306227705,0.011908180624971437,0.013411129611539493,0.015103767999651322,0.017010036767596673,0.019156898519738272,0.021574718850381515,0.024297695840138866,0.02736434375966212,0.030818037822333662,0.0347076276909962,0.039088128416268776,0.04402149857920365,0.04957751664447215,0.05583476791937451,0.06288175607839804,0.0708181549749234,0.07975621844592791,0.0898223680502127,0.10115898119740654,0.11392640495936045,0.1283052240476394,0.1444988150357884,0.162736222953746,0.1832754009414693,0.2064068587840057,0.23245777193354164,0.2617966091371655,0.2948383441243354,0.33205032506908505,0.3739588848456859,0.4211567855743957,0.4743116027542717,0.5341751675697167,0.6015942009244153,0.677522289612333,0.7630333740188624,0.8593369381245672,0.9677951166616366,1.0899419613896997,1.2275051389966556,1.3824303675234546,1.5569089369460003,1.753408703170143,1.9747089938243663,2.2239399195638967,2.5046266469122913,2.8207392588434885,3.1767489083412013,3.577691059181651,4.029236708428433,4.537772598023224,5.110491549999291,5.755494203035085,6.481903589327939,7.299994172383367,8.221337170853603,9.258964223911368,10.427551713071235,11.743628347538987,13.225808949213215,14.895057744035768,16.774984883730532,18.8921803919871,21.27659025848305,23.961940000286095,26.98621168156325,30.392181138649313,34.22802300908077,38.54799212223396,43.41319088927771,48.892433546539785,55.06321947630012,62.01282937183174,69.8395597510441,78.65411327990816,88.5811645706447,99.76112360160603,112.35212170097239,126.53224818437059,142.50206928181746,160.4874649821343,180.7428239196678,203.5546414923597,229.24557210359225,258.1789928434326,290.76414315879634,327.4619132089453,368.7913627778378,415.33706294799634,467.75736437782444,526.7937091303697,593.2811177616801,668.1599999999999],\"y\":[3139.402246878741,2865.7721649624204,2641.3990102842727,2454.35163828375,2296.189549685749,2160.7916727036113,2043.6219538666853,1941.2544185708018,1851.0575839915612,1770.9796577398793,1699.3991678178666,1635.0190755740578,1576.790399535967,1523.8562519208385,1475.51024057555,1431.1651411843459,1390.3290187725088,1352.5868245814993,1317.5860670259456,1285.0255486092851,1254.6464345164375,1226.2251118864126,1199.567436890992,1174.504066595074,1150.8866455381576,1128.5846708351821,1107.482899729862,1087.4791937096004,1068.482716170694,1050.4124181080201,1033.195759767163,1016.7676266376084,1001.0694063168587,986.048199179742,971.6561408498496,957.8498184952621,944.5897661887054,931.8400271584742,919.5677728454169,907.7429703765857,896.3380914484588,885.3278567445651,874.6890109432507,864.40012413995,854.4414161454628,844.7946006518118,835.4427466999127,826.3701552541121,817.5622490004703,809.0054737485731,800.6872100391034,792.5956937481664,784.7199446399335,777.0497019562505,769.575366249097,762.2879467623794,755.1790137560517,748.2406552401164,741.465437650536,734.8463700548594,728.3768715238493,722.0507413475374,715.8621318108493,709.8055232760755,703.8757013475046,698.0677359182083,692.3769619205666,686.7989616211925,681.3295483176813,675.9647513094704,670.700802028162,665.534121224343,660.4613071181998,655.4791244304331,650.5844942181104,645.7744844473892,641.0463012415372,636.3972807484699,631.8248815772426,627.3266777575847,622.900352180748,618.5436904837034,614.254575342103,610.0309811404688,605.8709689908227,601.7726820734554,597.7343412757706,593.754241107183,589.8307458698747,585.9622860669016,582.1473550306397,578.3845057559499,574.6723479236947,571.009545101371,567.3948121086744,563.8269125367552,560.3046564107916,556.8268979863067,553.3925336703619,550.0005000594547]},{\"marker\":{\"color\":\"rgb(210,105,30)\",\"size\":6,\"symbol\":\"circle-open\"},\"mode\":\"markers\",\"name\":\"ALK Electrolysis - Prospective\",\"type\":\"scatter\",\"x\":[33.11,63.46,91.16,116.23,138.64,158.41,175.54,190.03,201.87,197.84,234.55,271.46,308.56,345.87,383.36,421.06,458.95,497.04,535.32,573.8,604.09,634.52,665.11,695.86,726.75,757.8,788.99,820.34,851.85,885.78],\"y\":[637.0,594.0,572.0,558.0,547.0,540.0,534.0,529.0,526.0,527.0,518.0,510.0,503.0,497.0,492.0,487.0,482.0,478.0,475.0,471.0,469.0,466.0,464.0,462.0,460.0,457.0,456.0,454.0,452.0,450.0]},{\"marker\":{\"color\":\"rgb(210,105,30)\",\"size\":6,\"symbol\":\"circle\"},\"mode\":\"markers+text\",\"name\":\"ALK Electrolysis - Historical\",\"textfont\":{\"size\":10},\"type\":\"scatter\",\"x\":[0.088632,0.088632,0.088632,0.088632,0.088632,0.088632,0.088632,0.088632,0.088632,0.088632,0.088632,0.088632,0.088632,0.088632,0.088632,0.088632,0.091137,0.091137,0.091137,0.091137,0.091137,0.091137,0.091137,0.091137,0.091137,0.09333,0.09333,0.09333,0.09333,0.096775,0.099593,0.117132,0.117132,0.117132,0.117132,0.117132,0.117132,0.117132,197.838,885.78],\"y\":[1190,1197,1666,1880,1155,1835,1745,1458,1874,1554,1454,1112,983,1110,1190,1369,1197,947,1518,1420,1183,1302,983,1316,1183,1154,1183,1183,947,947,592,1122,592,1019,758,1313,1083,1274,625,450]},{\"line\":{\"color\":\"rgb(210,105,30)\",\"width\":1.5},\"mode\":\"lines\",\"name\":\"ALK Electrolysis - Learning Curve\",\"type\":\"scatter\",\"x\":[0.08863199999999999,0.09727291176689669,0.10675624338399757,0.11716412405516008,0.1285866899253467,0.14112286469340146,0.1548812163283345,0.16998089730859878,0.18655267652718277,0.20474007179920425,0.22470059277994514,0.24660710505746225,0.2706493272333283,0.297035473956782,0.32599405914157875,0.3577758749820753,0.3926561639075693,0.4309370022848309,0.4729499165125837,0.5190587541642943,0.5696628350444393,0.6252004094475807,0.6861524535700675,0.7530468349440482,0.8264628839680164,0.9070364111250552,0.995465213339766,1.0925151171610035,1.1990266111066337,1.3159221246089083,1.4442140165988535,1.5850133429137991,1.7395394784570806,1.9091306774414334,2.0952556631717254,2.299526347738897,2.5237117917824254,2.7697535252180794,3.039782361614195,3.336136851835302,3.6613835367685263,4.018339174528986,4.410095134640114,4.840044170451626,5.311909801654298,5.82977856135518,6.398135386984935,7.021902461535845,7.706481841510189,8.457802240752919,9.282370375334194,10.187327314147694,11.18051032324201,12.27052073948008,13.466798461338133,14.77970370196233,16.220606712495023,17.801986252708506,19.53753766173869,21.442291464851632,23.53274354342217,25.82699799544537,28.344923923806043,31.1083275101519,34.14114086459442,37.46962928674617,41.12261873305338,45.1317454603759,49.53173000782097,54.3606778896168,59.66040960313872,65.47682281008025,71.86028982739487,78.8660938704284,86.55490782627018,94.99331970368097,104.25440931019016,114.418381150601,125.57325902804361,137.81564836308058,151.25157283283247,165.99739257573398,182.18081191391704,199.9419853204719,219.4347312096806,240.82786406209908,264.3066564211884,290.0744434229367,318.35438375429874,349.3913922910088,383.4542611521401,420.8379875405351,461.86632852907377,506.8946049181909,556.3127784470978,610.5488290085041,670.0724611147924,735.3991717150303,807.0947145916272,885.7799999999999],\"y\":[1190.5204775595096,1178.8782413821698,1167.3498559665463,1155.9342079529936,1144.6301948695377,1133.4367250254043,1122.3527174055885,1111.377101566455,1100.5088175323592,1089.7468156932803,1079.0900567034537,1068.537511380996,1058.088160608512,1047.740995234672,1037.4950159767525,1027.3492333241306,1017.3026674427215,1007.3543480803492,997.5033144730459,987.7486152522641,978.0893083529988,968.5244609228065,959.0531492317143,949.6744585830111,940.3874832249093,931.1913262630721,922.0850995739953,913.0679237192359,904.1389278604802,895.2972496754426,886.5420352745856,877.8724391186553,869.2876239370232,860.7867606468263,852.3690282728977,844.033613868481,835.7797124367189,827.6065268529111,819.5132677875307,811.4991536299949,803.5634104131803,795.7052717386767,787.9239787027718,780.2187798231597,772.5889309663659,765.0336952758825,757.552343101006,750.1441519263707,742.8084063021712,735.544397775068,728.3514248197679,721.2287927712746,714.1758137577978,707.1918066343281,700.2760969168494,693.4280167172006,686.6469046785777,679.9321059116596,673.2829719313634,666.6988605942155,660.1791360363377,653.723168612037,647.3303348329978,641.0000173080684,634.731604683636,628.5244915845844,622.3780785558305,616.2917720044309,610.2649841422555,604.297132929222,598.3876420170848,592.5359406937733,586.7414638282762,581.003651816063,575.3219505250397,569.695811242034,564.1246906198022,558.608050624556,553.1453584840007,547.7360866358832,542.3797126770422,537.0757193129565,531.8235943077874,526.6228304349094,521.472925427924,516.3733819321535,511.3237074566086,506.32341432642573,501.3720196357698,496.46904520119716,491.6140175154749,486.80646770185155,482.04593146877517,477.331949065054,472.664065235456,468.0418291767422,463.4647944941302,458.9325191581831,454.4445654621208,450.0004999795478]}],                        {\"annotations\":[{\"font\":{\"color\":\"rgb(10,10,10)\",\"family\":\"Times New Roman\",\"size\":10},\"showarrow\":true,\"text\":\"2010\",\"x\":2.250420002308894,\"y\":3.281941933440825},{\"font\":{\"color\":\"rgb(10,10,10)\",\"family\":\"Times New Roman\",\"size\":10},\"showarrow\":true,\"text\":\"2020\",\"x\":2.843855422623161,\"y\":3.1192558892779365},{\"font\":{\"color\":\"rgb(10,10,10)\",\"family\":\"Times New Roman\",\"size\":10},\"showarrow\":true,\"text\":\"2050\",\"x\":3.8386934721408297,\"y\":2.923280294697208},{\"font\":{\"color\":\"rgb(10,10,10)\",\"family\":\"Times New Roman\",\"size\":10},\"showarrow\":true,\"text\":\"2010\",\"x\":0.48515334990365233,\"y\":3.659821158055705},{\"font\":{\"color\":\"rgb(10,10,10)\",\"family\":\"Times New Roman\",\"size\":10},\"showarrow\":true,\"text\":\"2020\",\"x\":1.5361416229050349,\"y\":3.4902394852462875},{\"font\":{\"color\":\"rgb(10,10,10)\",\"family\":\"Times New Roman\",\"size\":10},\"showarrow\":true,\"text\":\"2050\",\"x\":3.135917807416897,\"y\":3.0633333589517497},{\"font\":{\"color\":\"rgb(10,10,10)\",\"family\":\"Times New Roman\",\"size\":10},\"showarrow\":true,\"text\":\"2013\",\"x\":1.4313637641589874,\"y\":3.5790973265526436},{\"font\":{\"color\":\"rgb(10,10,10)\",\"family\":\"Times New Roman\",\"size\":10},\"showarrow\":true,\"text\":\"2020\",\"x\":1.968482948553935,\"y\":3.3879234669734366},{\"font\":{\"color\":\"rgb(10,10,10)\",\"family\":\"Times New Roman\",\"size\":10},\"showarrow\":true,\"text\":\"2050\",\"x\":3.2908845508834896,\"y\":2.8159096508867747},{\"font\":{\"color\":\"rgb(10,10,10)\",\"family\":\"Times New Roman\",\"size\":10},\"showarrow\":true,\"text\":\"2010\",\"x\":0.1024337056813363,\"y\":3.9459607035775686},{\"font\":{\"color\":\"rgb(10,10,10)\",\"family\":\"Times New Roman\",\"size\":10},\"showarrow\":true,\"text\":\"2020\",\"x\":0.8115079799453266,\"y\":3.6481647785740012},{\"font\":{\"color\":\"rgb(10,10,10)\",\"family\":\"Times New Roman\",\"size\":10},\"showarrow\":true,\"text\":\"2050\",\"x\":2.629409599102719,\"y\":2.760422483423212},{\"font\":{\"color\":\"rgb(10,10,10)\",\"family\":\"Times New Roman\",\"size\":10},\"showarrow\":true,\"text\":\"1985\",\"x\":-1.6989700043360187,\"y\":4.539665636066127},{\"font\":{\"color\":\"rgb(10,10,10)\",\"family\":\"Times New Roman\",\"size\":10},\"showarrow\":true,\"text\":\"2008\",\"x\":0.05804623039528174,\"y\":3.6251065754034677},{\"font\":{\"color\":\"rgb(10,10,10)\",\"family\":\"Times New Roman\",\"size\":10},\"showarrow\":true,\"text\":\"2050\",\"x\":1.3821251522253217,\"y\":2.8208317472884548},{\"font\":{\"color\":\"rgb(10,10,10)\",\"family\":\"Times New Roman\",\"size\":10},\"showarrow\":true,\"text\":\"2018\",\"x\":0.3372595397502757,\"y\":3.4448142835328017},{\"font\":{\"color\":\"rgb(10,10,10)\",\"family\":\"Times New Roman\",\"size\":10},\"showarrow\":true,\"text\":\"2018\",\"x\":0.7937903846908186,\"y\":2.9556877503135057},{\"font\":{\"color\":\"rgb(10,10,10)\",\"family\":\"Times New Roman\",\"size\":10},\"showarrow\":true,\"text\":\"2018\",\"x\":0.7937903846908186,\"y\":2.9556877503135057},{\"font\":{\"color\":\"rgb(10,10,10)\",\"family\":\"Times New Roman\",\"size\":10},\"showarrow\":true,\"text\":\"2050\",\"x\":1.3898214629105228,\"y\":2.5998830720736876},{\"font\":{\"color\":\"rgb(10,10,10)\",\"family\":\"Times New Roman\",\"size\":10},\"showarrow\":true,\"text\":\"2012\",\"x\":-4.218244625347531,\"y\":4.1596574112477045},{\"font\":{\"color\":\"rgb(10,10,10)\",\"family\":\"Times New Roman\",\"size\":10},\"showarrow\":true,\"text\":\"2015\",\"x\":-3.895854449445992,\"y\":3.955543442459743},{\"font\":{\"color\":\"rgb(10,10,10)\",\"family\":\"Times New Roman\",\"size\":10},\"showarrow\":true,\"text\":\"2017\",\"x\":-3.4905286478974515,\"y\":3.733678655677088},{\"font\":{\"color\":\"rgb(10,10,10)\",\"family\":\"Times New Roman\",\"size\":10},\"showarrow\":true,\"text\":\"2018\",\"x\":-3.3265183029266527,\"y\":3.38524868240322},{\"font\":{\"color\":\"rgb(10,10,10)\",\"family\":\"Times New Roman\",\"size\":10},\"showarrow\":true,\"text\":\"2020\",\"x\":-2.930442895417305,\"y\":3.38147609027503},{\"font\":{\"color\":\"rgb(10,10,10)\",\"family\":\"Times New Roman\",\"size\":10},\"showarrow\":true,\"text\":\"2050\",\"x\":2.92272545799326,\"y\":2.8750612633917},{\"font\":{\"color\":\"rgb(10,10,10)\",\"family\":\"Times New Roman\",\"size\":10},\"showarrow\":true,\"text\":\"2003\",\"x\":-2.285494210603541,\"y\":3.600537294364469},{\"font\":{\"color\":\"rgb(10,10,10)\",\"family\":\"Times New Roman\",\"size\":10},\"showarrow\":true,\"text\":\"2004\",\"x\":-2.2853685188070583,\"y\":3.867054800476702},{\"font\":{\"color\":\"rgb(10,10,10)\",\"family\":\"Times New Roman\",\"size\":10},\"showarrow\":true,\"text\":\"2005\",\"x\":-2.2836042982570803,\"y\":3.4604467838807205},{\"font\":{\"color\":\"rgb(10,10,10)\",\"family\":\"Times New Roman\",\"size\":10},\"showarrow\":true,\"text\":\"2008\",\"x\":-2.2697589113934504,\"y\":3.484299839346786},{\"font\":{\"color\":\"rgb(10,10,10)\",\"family\":\"Times New Roman\",\"size\":10},\"showarrow\":true,\"text\":\"2009\",\"x\":-2.2692177243336107,\"y\":3.4063698354692673},{\"font\":{\"color\":\"rgb(10,10,10)\",\"family\":\"Times New Roman\",\"size\":10},\"showarrow\":true,\"text\":\"2010\",\"x\":-2.268644962630191,\"y\":3.402089350572097},{\"font\":{\"color\":\"rgb(10,10,10)\",\"family\":\"Times New Roman\",\"size\":10},\"showarrow\":true,\"text\":\"2013\",\"x\":-2.177786138988302,\"y\":3.1280760126687155},{\"font\":{\"color\":\"rgb(10,10,10)\",\"family\":\"Times New Roman\",\"size\":10},\"showarrow\":true,\"text\":\"2014\",\"x\":-1.986897220069364,\"y\":3.5538830266438746},{\"font\":{\"color\":\"rgb(10,10,10)\",\"family\":\"Times New Roman\",\"size\":10},\"showarrow\":true,\"text\":\"2015\",\"x\":-1.9271511083665063,\"y\":3.37675939540488},{\"font\":{\"color\":\"rgb(10,10,10)\",\"family\":\"Times New Roman\",\"size\":10},\"showarrow\":true,\"text\":\"2016\",\"x\":-1.8867922301772648,\"y\":3.3740147402919116},{\"font\":{\"color\":\"rgb(10,10,10)\",\"family\":\"Times New Roman\",\"size\":10},\"showarrow\":true,\"text\":\"2017\",\"x\":-1.8755349025572396,\"y\":3.263399331334002},{\"font\":{\"color\":\"rgb(10,10,10)\",\"family\":\"Times New Roman\",\"size\":10},\"showarrow\":true,\"text\":\"2018\",\"x\":-1.6287288985124155,\"y\":3.0729847446279304},{\"font\":{\"color\":\"rgb(10,10,10)\",\"family\":\"Times New Roman\",\"size\":10},\"showarrow\":true,\"text\":\"2020\",\"x\":-1.2863868301303814,\"y\":3.1699681739968923},{\"font\":{\"color\":\"rgb(10,10,10)\",\"family\":\"Times New Roman\",\"size\":10},\"showarrow\":true,\"text\":\"2030\",\"x\":2.054574755294823,\"y\":3.031408464251624},{\"font\":{\"color\":\"rgb(10,10,10)\",\"family\":\"Times New Roman\",\"size\":10},\"showarrow\":true,\"text\":\"2050\",\"x\":2.8248804726501304,\"y\":2.7403626894942437},{\"font\":{\"color\":\"rgb(10,10,10)\",\"family\":\"Times New Roman\",\"size\":10},\"showarrow\":true,\"text\":\"2015\",\"x\":-1.0524094506374153,\"y\":3.162564406523019},{\"font\":{\"color\":\"rgb(10,10,10)\",\"family\":\"Times New Roman\",\"size\":10},\"showarrow\":true,\"text\":\"2016\",\"x\":-1.0403052713964194,\"y\":3.0729847446279304},{\"font\":{\"color\":\"rgb(10,10,10)\",\"family\":\"Times New Roman\",\"size\":10},\"showarrow\":true,\"text\":\"2017\",\"x\":-1.0299787341716342,\"y\":3.0729847446279304},{\"font\":{\"color\":\"rgb(10,10,10)\",\"family\":\"Times New Roman\",\"size\":10},\"showarrow\":true,\"text\":\"2018\",\"x\":-1.0142368200090073,\"y\":2.9763499790032735},{\"font\":{\"color\":\"rgb(10,10,10)\",\"family\":\"Times New Roman\",\"size\":10},\"showarrow\":true,\"text\":\"2019\",\"x\":-1.0017711853534879,\"y\":2.77232170672292},{\"font\":{\"color\":\"rgb(10,10,10)\",\"family\":\"Times New Roman\",\"size\":10},\"showarrow\":true,\"text\":\"2020\",\"x\":-0.931324441179666,\"y\":2.77232170672292},{\"font\":{\"color\":\"rgb(10,10,10)\",\"family\":\"Times New Roman\",\"size\":10},\"showarrow\":true,\"text\":\"2030\",\"x\":2.2963097129703347,\"y\":2.7958800173440754},{\"font\":{\"color\":\"rgb(10,10,10)\",\"family\":\"Times New Roman\",\"size\":10},\"showarrow\":true,\"text\":\"2050\",\"x\":2.947325870137387,\"y\":2.6532125137753435}],\"font\":{\"color\":\"rgb(10,10,10)\",\"family\":\"Times New Roman\",\"size\":16},\"legend\":{\"x\":1.2},\"template\":{\"data\":{\"bar\":[{\"error_x\":{\"color\":\"#2a3f5f\"},\"error_y\":{\"color\":\"#2a3f5f\"},\"marker\":{\"line\":{\"color\":\"#E5ECF6\",\"width\":0.5},\"pattern\":{\"fillmode\":\"overlay\",\"size\":10,\"solidity\":0.2}},\"type\":\"bar\"}],\"barpolar\":[{\"marker\":{\"line\":{\"color\":\"#E5ECF6\",\"width\":0.5},\"pattern\":{\"fillmode\":\"overlay\",\"size\":10,\"solidity\":0.2}},\"type\":\"barpolar\"}],\"carpet\":[{\"aaxis\":{\"endlinecolor\":\"#2a3f5f\",\"gridcolor\":\"white\",\"linecolor\":\"white\",\"minorgridcolor\":\"white\",\"startlinecolor\":\"#2a3f5f\"},\"baxis\":{\"endlinecolor\":\"#2a3f5f\",\"gridcolor\":\"white\",\"linecolor\":\"white\",\"minorgridcolor\":\"white\",\"startlinecolor\":\"#2a3f5f\"},\"type\":\"carpet\"}],\"choropleth\":[{\"colorbar\":{\"outlinewidth\":0,\"ticks\":\"\"},\"type\":\"choropleth\"}],\"contour\":[{\"colorbar\":{\"outlinewidth\":0,\"ticks\":\"\"},\"colorscale\":[[0.0,\"#0d0887\"],[0.1111111111111111,\"#46039f\"],[0.2222222222222222,\"#7201a8\"],[0.3333333333333333,\"#9c179e\"],[0.4444444444444444,\"#bd3786\"],[0.5555555555555556,\"#d8576b\"],[0.6666666666666666,\"#ed7953\"],[0.7777777777777778,\"#fb9f3a\"],[0.8888888888888888,\"#fdca26\"],[1.0,\"#f0f921\"]],\"type\":\"contour\"}],\"contourcarpet\":[{\"colorbar\":{\"outlinewidth\":0,\"ticks\":\"\"},\"type\":\"contourcarpet\"}],\"heatmap\":[{\"colorbar\":{\"outlinewidth\":0,\"ticks\":\"\"},\"colorscale\":[[0.0,\"#0d0887\"],[0.1111111111111111,\"#46039f\"],[0.2222222222222222,\"#7201a8\"],[0.3333333333333333,\"#9c179e\"],[0.4444444444444444,\"#bd3786\"],[0.5555555555555556,\"#d8576b\"],[0.6666666666666666,\"#ed7953\"],[0.7777777777777778,\"#fb9f3a\"],[0.8888888888888888,\"#fdca26\"],[1.0,\"#f0f921\"]],\"type\":\"heatmap\"}],\"heatmapgl\":[{\"colorbar\":{\"outlinewidth\":0,\"ticks\":\"\"},\"colorscale\":[[0.0,\"#0d0887\"],[0.1111111111111111,\"#46039f\"],[0.2222222222222222,\"#7201a8\"],[0.3333333333333333,\"#9c179e\"],[0.4444444444444444,\"#bd3786\"],[0.5555555555555556,\"#d8576b\"],[0.6666666666666666,\"#ed7953\"],[0.7777777777777778,\"#fb9f3a\"],[0.8888888888888888,\"#fdca26\"],[1.0,\"#f0f921\"]],\"type\":\"heatmapgl\"}],\"histogram\":[{\"marker\":{\"pattern\":{\"fillmode\":\"overlay\",\"size\":10,\"solidity\":0.2}},\"type\":\"histogram\"}],\"histogram2d\":[{\"colorbar\":{\"outlinewidth\":0,\"ticks\":\"\"},\"colorscale\":[[0.0,\"#0d0887\"],[0.1111111111111111,\"#46039f\"],[0.2222222222222222,\"#7201a8\"],[0.3333333333333333,\"#9c179e\"],[0.4444444444444444,\"#bd3786\"],[0.5555555555555556,\"#d8576b\"],[0.6666666666666666,\"#ed7953\"],[0.7777777777777778,\"#fb9f3a\"],[0.8888888888888888,\"#fdca26\"],[1.0,\"#f0f921\"]],\"type\":\"histogram2d\"}],\"histogram2dcontour\":[{\"colorbar\":{\"outlinewidth\":0,\"ticks\":\"\"},\"colorscale\":[[0.0,\"#0d0887\"],[0.1111111111111111,\"#46039f\"],[0.2222222222222222,\"#7201a8\"],[0.3333333333333333,\"#9c179e\"],[0.4444444444444444,\"#bd3786\"],[0.5555555555555556,\"#d8576b\"],[0.6666666666666666,\"#ed7953\"],[0.7777777777777778,\"#fb9f3a\"],[0.8888888888888888,\"#fdca26\"],[1.0,\"#f0f921\"]],\"type\":\"histogram2dcontour\"}],\"mesh3d\":[{\"colorbar\":{\"outlinewidth\":0,\"ticks\":\"\"},\"type\":\"mesh3d\"}],\"parcoords\":[{\"line\":{\"colorbar\":{\"outlinewidth\":0,\"ticks\":\"\"}},\"type\":\"parcoords\"}],\"pie\":[{\"automargin\":true,\"type\":\"pie\"}],\"scatter\":[{\"marker\":{\"colorbar\":{\"outlinewidth\":0,\"ticks\":\"\"}},\"type\":\"scatter\"}],\"scatter3d\":[{\"line\":{\"colorbar\":{\"outlinewidth\":0,\"ticks\":\"\"}},\"marker\":{\"colorbar\":{\"outlinewidth\":0,\"ticks\":\"\"}},\"type\":\"scatter3d\"}],\"scattercarpet\":[{\"marker\":{\"colorbar\":{\"outlinewidth\":0,\"ticks\":\"\"}},\"type\":\"scattercarpet\"}],\"scattergeo\":[{\"marker\":{\"colorbar\":{\"outlinewidth\":0,\"ticks\":\"\"}},\"type\":\"scattergeo\"}],\"scattergl\":[{\"marker\":{\"colorbar\":{\"outlinewidth\":0,\"ticks\":\"\"}},\"type\":\"scattergl\"}],\"scattermapbox\":[{\"marker\":{\"colorbar\":{\"outlinewidth\":0,\"ticks\":\"\"}},\"type\":\"scattermapbox\"}],\"scatterpolar\":[{\"marker\":{\"colorbar\":{\"outlinewidth\":0,\"ticks\":\"\"}},\"type\":\"scatterpolar\"}],\"scatterpolargl\":[{\"marker\":{\"colorbar\":{\"outlinewidth\":0,\"ticks\":\"\"}},\"type\":\"scatterpolargl\"}],\"scatterternary\":[{\"marker\":{\"colorbar\":{\"outlinewidth\":0,\"ticks\":\"\"}},\"type\":\"scatterternary\"}],\"surface\":[{\"colorbar\":{\"outlinewidth\":0,\"ticks\":\"\"},\"colorscale\":[[0.0,\"#0d0887\"],[0.1111111111111111,\"#46039f\"],[0.2222222222222222,\"#7201a8\"],[0.3333333333333333,\"#9c179e\"],[0.4444444444444444,\"#bd3786\"],[0.5555555555555556,\"#d8576b\"],[0.6666666666666666,\"#ed7953\"],[0.7777777777777778,\"#fb9f3a\"],[0.8888888888888888,\"#fdca26\"],[1.0,\"#f0f921\"]],\"type\":\"surface\"}],\"table\":[{\"cells\":{\"fill\":{\"color\":\"#EBF0F8\"},\"line\":{\"color\":\"white\"}},\"header\":{\"fill\":{\"color\":\"#C8D4E3\"},\"line\":{\"color\":\"white\"}},\"type\":\"table\"}]},\"layout\":{\"annotationdefaults\":{\"arrowcolor\":\"#2a3f5f\",\"arrowhead\":0,\"arrowwidth\":1},\"autotypenumbers\":\"strict\",\"coloraxis\":{\"colorbar\":{\"outlinewidth\":0,\"ticks\":\"\"}},\"colorscale\":{\"diverging\":[[0,\"#8e0152\"],[0.1,\"#c51b7d\"],[0.2,\"#de77ae\"],[0.3,\"#f1b6da\"],[0.4,\"#fde0ef\"],[0.5,\"#f7f7f7\"],[0.6,\"#e6f5d0\"],[0.7,\"#b8e186\"],[0.8,\"#7fbc41\"],[0.9,\"#4d9221\"],[1,\"#276419\"]],\"sequential\":[[0.0,\"#0d0887\"],[0.1111111111111111,\"#46039f\"],[0.2222222222222222,\"#7201a8\"],[0.3333333333333333,\"#9c179e\"],[0.4444444444444444,\"#bd3786\"],[0.5555555555555556,\"#d8576b\"],[0.6666666666666666,\"#ed7953\"],[0.7777777777777778,\"#fb9f3a\"],[0.8888888888888888,\"#fdca26\"],[1.0,\"#f0f921\"]],\"sequentialminus\":[[0.0,\"#0d0887\"],[0.1111111111111111,\"#46039f\"],[0.2222222222222222,\"#7201a8\"],[0.3333333333333333,\"#9c179e\"],[0.4444444444444444,\"#bd3786\"],[0.5555555555555556,\"#d8576b\"],[0.6666666666666666,\"#ed7953\"],[0.7777777777777778,\"#fb9f3a\"],[0.8888888888888888,\"#fdca26\"],[1.0,\"#f0f921\"]]},\"colorway\":[\"#636efa\",\"#EF553B\",\"#00cc96\",\"#ab63fa\",\"#FFA15A\",\"#19d3f3\",\"#FF6692\",\"#B6E880\",\"#FF97FF\",\"#FECB52\"],\"font\":{\"color\":\"#2a3f5f\"},\"geo\":{\"bgcolor\":\"white\",\"lakecolor\":\"white\",\"landcolor\":\"#E5ECF6\",\"showlakes\":true,\"showland\":true,\"subunitcolor\":\"white\"},\"hoverlabel\":{\"align\":\"left\"},\"hovermode\":\"closest\",\"mapbox\":{\"style\":\"light\"},\"paper_bgcolor\":\"white\",\"plot_bgcolor\":\"#E5ECF6\",\"polar\":{\"angularaxis\":{\"gridcolor\":\"white\",\"linecolor\":\"white\",\"ticks\":\"\"},\"bgcolor\":\"#E5ECF6\",\"radialaxis\":{\"gridcolor\":\"white\",\"linecolor\":\"white\",\"ticks\":\"\"}},\"scene\":{\"xaxis\":{\"backgroundcolor\":\"#E5ECF6\",\"gridcolor\":\"white\",\"gridwidth\":2,\"linecolor\":\"white\",\"showbackground\":true,\"ticks\":\"\",\"zerolinecolor\":\"white\"},\"yaxis\":{\"backgroundcolor\":\"#E5ECF6\",\"gridcolor\":\"white\",\"gridwidth\":2,\"linecolor\":\"white\",\"showbackground\":true,\"ticks\":\"\",\"zerolinecolor\":\"white\"},\"zaxis\":{\"backgroundcolor\":\"#E5ECF6\",\"gridcolor\":\"white\",\"gridwidth\":2,\"linecolor\":\"white\",\"showbackground\":true,\"ticks\":\"\",\"zerolinecolor\":\"white\"}},\"shapedefaults\":{\"line\":{\"color\":\"#2a3f5f\"}},\"ternary\":{\"aaxis\":{\"gridcolor\":\"white\",\"linecolor\":\"white\",\"ticks\":\"\"},\"baxis\":{\"gridcolor\":\"white\",\"linecolor\":\"white\",\"ticks\":\"\"},\"bgcolor\":\"#E5ECF6\",\"caxis\":{\"gridcolor\":\"white\",\"linecolor\":\"white\",\"ticks\":\"\"}},\"title\":{\"x\":0.05},\"xaxis\":{\"automargin\":true,\"gridcolor\":\"white\",\"linecolor\":\"white\",\"ticks\":\"\",\"title\":{\"standoff\":15},\"zerolinecolor\":\"white\",\"zerolinewidth\":2},\"yaxis\":{\"automargin\":true,\"gridcolor\":\"white\",\"linecolor\":\"white\",\"ticks\":\"\",\"title\":{\"standoff\":15},\"zerolinecolor\":\"white\",\"zerolinewidth\":2}}},\"title\":{\"text\":\"\",\"y\":1},\"xaxis\":{\"showgrid\":true,\"title\":{\"font\":{\"family\":\"Times New Roman\"},\"text\":\"Cumulative Capacity [GW]\"},\"type\":\"log\"},\"xaxis2\":{\"anchor\":\"y\",\"automargin\":true,\"color\":\"rgb(105,105,105)\",\"overlaying\":\"x\",\"showgrid\":true,\"side\":\"top\",\"title\":{\"font\":{\"color\":\"rgb(10,10,10)\",\"family\":\"Times New Roman\"},\"text\":\"CO<sub>2</sub> capture capacity [Mtpa]\"},\"type\":\"log\"},\"yaxis\":{\"showgrid\":true,\"title\":{\"font\":{\"family\":\"Times New Roman\"},\"text\":\"Investment Cost [USD<sub>2018</sub>/kW]\"},\"type\":\"log\"},\"yaxis2\":{\"anchor\":\"x\",\"automargin\":true,\"color\":\"rgb(105,105,105)\",\"overlaying\":\"y\",\"showgrid\":true,\"side\":\"right\",\"title\":{\"font\":{\"color\":\"rgb(10,10,10)\",\"family\":\"Times New Roman\"},\"text\":\"Cost of CO<sub>2</sub> capture [USD<sub>2018</sub>/tCO<sub>2</sub>]\"},\"type\":\"log\"}},                        {\"responsive\": true}                    ).then(function(){\n",
       "                            \n",
       "var gd = document.getElementById('130e4e17-9236-4112-80d9-07ad87879900');\n",
       "var x = new MutationObserver(function (mutations, observer) {{\n",
       "        var display = window.getComputedStyle(gd).display;\n",
       "        if (!display || display === 'none') {{\n",
       "            console.log([gd, 'removed!']);\n",
       "            Plotly.purge(gd);\n",
       "            observer.disconnect();\n",
       "        }}\n",
       "}});\n",
       "\n",
       "// Listen for the removal of the full notebook cells\n",
       "var notebookContainer = gd.closest('#notebook-container');\n",
       "if (notebookContainer) {{\n",
       "    x.observe(notebookContainer, {childList: true});\n",
       "}}\n",
       "\n",
       "// Listen for the clearing of the current output cell\n",
       "var outputEl = gd.closest('.output');\n",
       "if (outputEl) {{\n",
       "    x.observe(outputEl, {childList: true});\n",
       "}}\n",
       "\n",
       "                        })                };                });            </script>        </div>"
      ]
     },
     "metadata": {},
     "output_type": "display_data"
    }
   ],
   "source": [
    "hist_installed_cap = hist_cost['installed_cap']\n",
    "hist_c_inv = hist_cost['c_inv']\n",
    "hist_year = hist_cost['year']\n",
    "\n",
    "future_installed_cap = future_cost['installed_cap']\n",
    "future_c_inv = future_cost['c_inv']\n",
    "\n",
    "first_point_year = hist_cost[(hist_cost.c_inv >= 0)].year.min()\n",
    "last_hist_point_year = hist_cost[(hist_cost.c_inv >= 0)].year.max()\n",
    "log_first_point = np.log10(hist_cost[(hist_cost.year == first_point_year)].installed_cap.head(1))\n",
    "log_last_point = np.log10(future_cost[(future_cost.year == 2050)].installed_cap)\n",
    "\n",
    "x_reg = np.logspace(float(log_first_point), float(log_last_point), 100)\n",
    "y_reg = np.exp(a+b*np.log(x_reg))\n",
    "\n",
    "\n",
    "# Add traces\n",
    "\n",
    "fig.add_trace(go.Scatter(x=future_installed_cap, y=future_c_inv,\n",
    "                         mode='markers',\n",
    "                         marker_symbol='circle-open',\n",
    "                         name='ALK Electrolysis - Prospective',\n",
    "                         marker = dict(color=colour_alk, size=marker_size)))\n",
    "\n",
    "fig.add_trace(go.Scatter(x=hist_installed_cap, y=hist_c_inv,\n",
    "                         #text = hist_year,\n",
    "                         #textposition='top right',\n",
    "                         mode='markers+text',\n",
    "                         marker_symbol='circle',\n",
    "                         textfont_size=years_font_size,\n",
    "                         name='ALK Electrolysis - Historical',\n",
    "                         marker = dict(color=colour_alk, size=marker_size)))\n",
    "\n",
    "fig.add_trace(go.Scatter(x=x_reg, y=y_reg,\n",
    "                         mode='lines',\n",
    "                         name='ALK Electrolysis - Learning Curve',\n",
    "                         line=dict(color=colour_alk, width=line_width)))\n",
    "\n",
    "years = hist_cost.year.unique()\n",
    "for i in range(len(years)):\n",
    "    x = float(hist_cost[(hist_cost.c_inv >= 0) & (hist_cost.year == years[i])].installed_cap.sample(1))\n",
    "    y = float(hist_cost[(hist_cost.c_inv >= 0) & (hist_cost.year == years[i])].c_inv.sample(1))\n",
    "    year = years[i]\n",
    "    fig.add_annotation(x=np.log10(x), y=np.log10(y),\n",
    "            text=str(year),\n",
    "            showarrow=True,\n",
    "            font=dict(\n",
    "                family=\"Times New Roman\",\n",
    "                size=years_font_size,\n",
    "                color=colour_main_axis))\n",
    "\n",
    "fig.show()"
   ]
  },
  {
   "cell_type": "markdown",
   "id": "9ead4e22",
   "metadata": {},
   "source": [
    "# Carbon Capture"
   ]
  },
  {
   "cell_type": "code",
   "execution_count": 55,
   "id": "e6eb2089",
   "metadata": {},
   "outputs": [],
   "source": [
    "# Historical data\n",
    "hist_cost = hist_cost_carbon_capture[hist_cost_carbon_capture.tech == 'CARBON_CAPTURE'][['year','c_inv','installed_cap']]\n",
    "\n",
    "# Prospective data \n",
    "future_cost = future_cost_data[future_cost_data.tech == 'CARBON_CAPTURE'][['year', 'cost_ratio', 'c_inv', 'installed_cap']]\n",
    "\n",
    "# Learning curve : log(capex) = a + b.log(Q) with prospective points in 2030 and 2050\n",
    "a = 4.7242033781 \n",
    "b = -0.13316823733"
   ]
  },
  {
   "cell_type": "code",
   "execution_count": 56,
   "id": "802b03f7",
   "metadata": {},
   "outputs": [],
   "source": [
    "hist_installed_cap = hist_cost['installed_cap']\n",
    "hist_c_inv = hist_cost['c_inv']\n",
    "hist_year = hist_cost['year']\n",
    "\n",
    "future_installed_cap = future_cost['installed_cap']/1000\n",
    "future_c_inv = future_cost['c_inv']\n",
    "\n",
    "first_point_year = hist_cost[(hist_cost.c_inv >= 0)].year.min()\n",
    "last_hist_point_year = hist_cost[(hist_cost.c_inv >= 0)].year.max()\n",
    "log_first_point = np.log10(hist_cost[(hist_cost.year == first_point_year)].installed_cap.head(1))\n",
    "log_last_point = np.log10(future_cost[(future_cost.year == 2050)].installed_cap/1000)\n",
    "\n",
    "x_reg = np.logspace(float(log_first_point), float(log_last_point), 100)\n",
    "y_reg = np.exp(a+b*np.log(x_reg))\n",
    "\n",
    "first_x = float(hist_cost[(hist_cost.c_inv >= 0) & (hist_cost.year == first_point_year)].installed_cap)\n",
    "first_y = float(hist_cost[(hist_cost.c_inv >= 0) & (hist_cost.year == first_point_year)].c_inv)\n",
    "first_year = int(hist_cost[(hist_cost.c_inv >= 0) & (hist_cost.year == first_point_year)].year)\n",
    "\n",
    "last_x = float(hist_cost[(hist_cost.c_inv >= 0) & (hist_cost.year == last_hist_point_year)].installed_cap)\n",
    "last_y = float(hist_cost[(hist_cost.c_inv >= 0) & (hist_cost.year == last_hist_point_year)].c_inv)\n",
    "last_year = int(hist_cost[(hist_cost.c_inv >= 0) & (hist_cost.year == last_hist_point_year)].year)\n",
    "\n",
    "prosp_x = float(future_cost[(future_cost.c_inv >= 0) & (future_cost.year == 2050)].installed_cap)/1000\n",
    "prosp_y = float(future_cost[(future_cost.c_inv >= 0) & (future_cost.year == 2050)].c_inv)\n",
    "prosp_year = 2050\n",
    "\n",
    "# Add traces\n",
    "\n",
    "fig.add_trace(go.Scatter(x=future_installed_cap, y=future_c_inv,\n",
    "                         xaxis=\"x2\",yaxis=\"y2\",\n",
    "                         mode='markers',\n",
    "                         marker_symbol='circle-open',\n",
    "                         legendgroup=\"group2\",\n",
    "                         legendgrouptitle_text=\"CO<sub>2</sub> capacity\",\n",
    "                         legendgrouptitle_font_color=colour_second_axis,\n",
    "                         name='Carbon Capture - Prospective',\n",
    "                         marker = dict(color=colour_carbon_capture, size=marker_size)))\n",
    "\n",
    "fig.add_trace(go.Scatter(x=hist_installed_cap, y=hist_c_inv,\n",
    "                         xaxis=\"x2\",yaxis=\"y2\",\n",
    "                         #text = hist_year,\n",
    "                         #textposition='top right',\n",
    "                         mode='markers+text',\n",
    "                         marker_symbol='circle',\n",
    "                         #textfont_color = colour_carbon_capture,\n",
    "                         textfont_size=years_font_size,\n",
    "                         legendgroup=\"group2\",\n",
    "                         name='Carbon Capture - Historical',\n",
    "                         marker = dict(color=colour_carbon_capture, size=marker_size)))\n",
    "\n",
    "fig.add_trace(go.Scatter(x=x_reg, y=y_reg,\n",
    "                         xaxis=\"x2\",yaxis=\"y2\",\n",
    "                         mode='lines',\n",
    "                         legendgroup=\"group2\",\n",
    "                         name='Carbon Capture - Learning Curve',\n",
    "                         line=dict(color=colour_carbon_capture, width=line_width)))\n",
    "\n",
    "fig.add_annotation(x=np.log10(prosp_x), y=np.log10(prosp_y),\n",
    "                   xref=\"x2\",yref=\"y2\",\n",
    "                   text=str(prosp_year),\n",
    "                   showarrow=True,\n",
    "                   font=dict(\n",
    "                       family=\"Times New Roman\",\n",
    "                       size=years_font_size,color=colour_main_axis))\n",
    "\n",
    "\n",
    "years = hist_cost.year.unique()\n",
    "for i in range(len(years)):\n",
    "    x = float(hist_cost[(hist_cost.c_inv >= 0) & (hist_cost.year == years[i])].installed_cap.sample(1))\n",
    "    y = float(hist_cost[(hist_cost.c_inv >= 0) & (hist_cost.year == years[i])].c_inv.sample(1))\n",
    "    year = years[i]\n",
    "    fig.add_annotation(x=np.log10(x), y=np.log10(y),\n",
    "            xref=\"x2\",yref=\"y2\",\n",
    "            text=str(year),\n",
    "            showarrow=True,\n",
    "            font=dict(\n",
    "                family=\"Times New Roman\",\n",
    "                size=years_font_size,\n",
    "                color=colour_main_axis))\n",
    "    \n",
    "fig['layout']['yaxis1']['showgrid'] = False\n",
    "fig['layout']['xaxis1']['showgrid'] = False"
   ]
  },
  {
   "cell_type": "markdown",
   "id": "4d950f30",
   "metadata": {},
   "source": [
    "# Final Graph"
   ]
  },
  {
   "cell_type": "code",
   "execution_count": 57,
   "id": "9f291f5e",
   "metadata": {},
   "outputs": [
    {
     "data": {
      "application/vnd.plotly.v1+json": {
       "config": {
        "plotlyServerURL": "https://plot.ly",
        "toImageButtonOptions": {
         "filename": "custom_image",
         "format": "png",
         "height": 1200,
         "scale": 3,
         "width": 1800
        }
       },
       "data": [
        {
         "legendgroup": "group",
         "legendgrouptitle": {
          "font": {
           "color": "rgb(10,10,10)"
          },
          "text": "Power capacity"
         },
         "marker": {
          "color": "rgb(0,0,205)",
          "size": 6,
          "symbol": "circle-open"
         },
         "mode": "markers",
         "name": "Onshore Wind - Prospective",
         "type": "scatter",
         "x": [
          541,
          595,
          698,
          903.212,
          1108.424,
          1313.635,
          1518.847,
          1724.059,
          1929.271,
          2134.482,
          2339.694,
          2544.906,
          2750.118,
          2957.488,
          3164.859,
          3372.229,
          3579.6,
          3786.97,
          3994.341,
          4201.711,
          4409.082,
          4616.452,
          4823.823,
          5031.193,
          5238.564,
          5445.934,
          5653.305,
          5860.675,
          6068.046,
          6275.417,
          6482.787,
          6690.158,
          6897.528
         ],
         "y": [
          1520.39,
          1447.57,
          1315.53,
          1347.82,
          1284.84,
          1234.83,
          1193.64,
          1158.81,
          1128.75,
          1102.39,
          1078.99,
          1058,
          1038.99,
          1021.49,
          1005.44,
          990.64,
          976.91,
          964.14,
          952.2,
          941,
          930.47,
          920.53,
          911.12,
          902.2,
          893.73,
          885.65,
          877.95,
          870.59,
          863.54,
          856.79,
          850.3,
          844.07,
          838.07
         ]
        },
        {
         "legendgroup": "group",
         "marker": {
          "color": "rgb(0,0,205)",
          "size": 6,
          "symbol": "circle"
         },
         "mode": "markers+text",
         "name": "Onshore Wind - Historical",
         "textfont": {
          "size": 10
         },
         "type": "scatter",
         "x": [
          178,
          216,
          261,
          292,
          340,
          405,
          453,
          495,
          541,
          595,
          698
         ],
         "y": [
          1914,
          1883,
          1937,
          1797,
          1745,
          1611,
          1604,
          1599,
          1520,
          1448,
          1316
         ]
        },
        {
         "legendgroup": "group",
         "line": {
          "color": "rgb(0,0,205)",
          "width": 1.5
         },
         "mode": "lines",
         "name": "Onshore Wind - Learning Curve",
         "type": "scatter",
         "x": [
          178.00000000000003,
          184.69841505847967,
          191.6489018264855,
          198.86094615196652,
          206.3443908499881,
          214.10944913595645,
          222.16671856435596,
          230.52719549202163,
          239.20229008568927,
          248.20384189430047,
          257.5441360073189,
          267.23591982110855,
          277.2924204362567,
          287.7273627095853,
          298.55498798548706,
          309.7900735321514,
          321.4479527092035,
          333.5445358942865,
          346.0963321971399,
          359.1204719908134,
          372.63473029076613,
          386.65755101375584,
          401.2080721496289,
          416.3061518803629,
          431.9723956820102,
          448.22818444652603,
          465.09570366187256,
          482.5979736902033,
          500.7588811854742,
          519.6032116933404,
          539.1566834778407,
          559.4459826210312,
          580.4987994434731,
          602.3438662952794,
          625.0109967692971,
          648.5311263899429,
          672.936354833219,
          698.2599897355406,
          724.5365921511494,
          751.802023720165,
          780.0934956116404,
          809.4496193084215,
          839.910459303119,
          871.5175877771109,
          904.3141413372019,
          938.344879887365,
          973.6562477159322,
          1010.2964368815681,
          1048.3154529845783,
          1087.7651834132794,
          1128.6994681585907,
          1171.1741732934863,
          1215.2472672175961,
          1260.9788997710052,
          1308.431484325224,
          1357.669782963388,
          1408.7609948658865,
          1461.7748480221135,
          1516.7836943934512,
          1573.8626086573922,
          1633.0894906675535,
          1694.545171769421,
          1758.3135251169167,
          1824.4815801403524,
          1893.1396413219884,
          1964.3814114412894,
          2038.304119458122,
          2115.0086532083433,
          2194.599697092981,
          2277.1858749488374,
          2362.8798982955477,
          2451.7987201614,
          2544.063694697862,
          2639.8007428006485,
          2739.1405239633514,
          2842.21861459823,
          2949.175693067418,
          3060.1577316772236,
          3175.31619589739,
          3294.808251077353,
          3418.7969769415076,
          3547.451590156281,
          3680.9476752727473,
          3819.467424359949,
          3963.199885656049,
          4112.341221576513,
          4267.094976431656,
          4427.672354218693,
          4594.2925068676395,
          4767.182833334282,
          4946.579289948507,
          5132.72671244151,
          5325.879150091391,
          5526.300212443166,
          5734.263429076354,
          5950.052622911271,
          6173.9622975632665,
          6406.298039273847,
          6647.376933966996,
          6897.528
         ],
         "y": [
          1970.111645221424,
          1953.1752957557574,
          1936.3845420658017,
          1919.7381325164308,
          1903.2348262323799,
          1886.873393005749,
          1870.6526132042968,
          1854.5712776805262,
          1838.6281876815572,
          1822.8221547597514,
          1807.1520006841426,
          1791.6165573525923,
          1776.2146667047211,
          1760.945180635584,
          1745.8069609100853,
          1730.7988790781326,
          1715.9198163905169,
          1701.1686637155192,
          1686.5443214562313,
          1672.0456994685887,
          1657.671716980108,
          1643.4213025093222,
          1629.293393785909,
          1615.2869376715119,
          1601.4008900812194,
          1587.6342159057583,
          1573.9858889343154,
          1560.4548917780485,
          1547.0402157942458,
          1533.7408610111383,
          1520.5558360533587,
          1507.484158068041,
          1494.524852651557,
          1481.676953776879,
          1468.9395037215706,
          1456.3115529963934,
          1443.792160274536,
          1431.380392321429,
          1419.0753239251994,
          1406.876037827685,
          1394.7816246560678,
          1382.7911828550855,
          1370.9038186198245,
          1359.1186458290956,
          1347.4347859793772,
          1335.8513681193313,
          1324.3675287848782,
          1312.9824119348325,
          1301.6951688870902,
          1290.5049582553654,
          1279.4109458864714,
          1268.4123047981402,
          1257.5082151173758,
          1246.6978640193379,
          1235.980445666756,
          1225.3551611498526,
          1214.8212184267945,
          1204.3778322646513,
          1194.0242241808598,
          1183.7596223851958,
          1173.5832617222406,
          1163.494383614345,
          1153.492236005082,
          1143.5760733031864,
          1133.7451563269758,
          1123.9987522492504,
          1114.336134542665,
          1104.7565829255711,
          1095.259383308328,
          1085.8438277400671,
          1076.5092143559227,
          1067.2548473247116,
          1058.0800367970644,
          1048.984098854001,
          1039.9663554559504,
          1031.0261343922054,
          1022.1627692308168,
          1013.3755992689131,
          1004.6639694834505,
          996.0272304823859,
          987.4647384562676,
          978.9758551302483,
          970.5599477164967,
          962.2163888670405,
          953.944556626988,
          945.7438343881793,
          937.613610843209,
          929.5532799398702,
          921.5622408359676,
          913.639897854534,
          905.7856604394249,
          897.9989431112973,
          890.2791654239659,
          882.6257519211341,
          875.0381320935018,
          867.5157403362288,
          860.0580159067852,
          852.6644028831387,
          845.3343501223277,
          838.0673112193643
         ]
        },
        {
         "marker": {
          "color": "rgb(30,144,255)",
          "size": 6,
          "symbol": "circle-open"
         },
         "mode": "markers",
         "name": "Offshore Wind - Prospective",
         "type": "scatter",
         "x": [
          23.626,
          28.355,
          34.367,
          66.02,
          97.67,
          129.32,
          160.97,
          192.62,
          224.28,
          255.93,
          287.58,
          319.23,
          350.88,
          401.71,
          452.54,
          503.37,
          554.2,
          605.03,
          655.86,
          706.69,
          757.52,
          808.35,
          859.18,
          910.01,
          960.84,
          1011.67,
          1062.5,
          1113.32,
          1164.15,
          1214.98,
          1265.81,
          1316.64,
          1367.47
         ],
         "y": [
          4496,
          3615,
          3092,
          2820,
          2513,
          2314,
          2170,
          2058,
          1968,
          1893,
          1829,
          1774,
          1725,
          1658,
          1601,
          1552,
          1508,
          1470,
          1436,
          1404,
          1376,
          1350,
          1326,
          1304,
          1283,
          1264,
          1246,
          1229,
          1213,
          1198,
          1183,
          1170,
          1157
         ]
        },
        {
         "marker": {
          "color": "rgb(30,144,255)",
          "size": 6,
          "symbol": "circle"
         },
         "mode": "markers+text",
         "name": "Offshore Wind - Historical",
         "textfont": {
          "size": 10
         },
         "type": "scatter",
         "x": [
          3.056,
          3.776,
          5.334,
          7.171,
          8.492,
          11.717,
          14.342,
          18.837,
          23.626,
          28.355,
          34.367
         ],
         "y": [
          4569,
          5233,
          4631,
          5554,
          5153,
          5168,
          4069,
          4597,
          4496,
          3615,
          3092
         ]
        },
        {
         "line": {
          "color": "rgb(30,144,255)",
          "width": 1.5
         },
         "mode": "lines",
         "name": "Offshore Wind - Learning Curve",
         "type": "scatter",
         "x": [
          3.056,
          3.2503396705285033,
          3.4570379495455956,
          3.676880755867331,
          3.910703987106811,
          4.1593966979670345,
          4.423904480650365,
          4.705233060237787,
          5.004452118708478,
          5.3226993621395895,
          5.66118484655074,
          6.021195578841196,
          6.404100410313601,
          6.811355241390762,
          7.244508557315,
          7.705207315878327,
          8.19520320956995,
          8.716359325951483,
          9.270657231584156,
          9.860204506443042,
          10.487242757465882,
          11.154156141706178,
          11.863480431497628,
          12.617912656097957,
          13.420321356472138,
          14.273757492206242,
          15.181466042022711,
          16.14689834200516,
          17.17372520844577,
          18.265850895211603,
          19.42742793869924,
          20.662872946821967,
          21.976883392063357,
          23.374455472448474,
          24.860903108344687,
          26.441878147322686,
          28.123391853901712,
          29.91183776588837,
          31.814016004214537,
          33.837159128706574,
          35.98895963809576,
          38.27759921883237,
          40.711779853914166,
          43.30075691001323,
          46.05437432870654,
          48.9831020556166,
          52.09807584977646,
          55.41113962458492,
          58.93489048134234,
          62.682726606596745,
          66.66889821541683,
          70.90856173429204,
          75.41783742967564,
          80.2138707012906,
          85.31489727324895,
          90.74031253085906,
          96.51074526675582,
          102.64813611675633,
          109.17582098367234,
          116.11861976627901,
          123.50293073080883,
          131.35683088379633,
          139.71018272791454,
          148.59474780671698,
          158.04430747000995,
          168.0947913190371,
          178.78441381985488,
          190.15381960433854,
          202.24623801129013,
          215.1076474552506,
          228.786950247991,
          243.33615853739397,
          258.8105920707151,
          275.26908853416717,
          292.77422726859487,
          311.39256721185916,
          331.19489997265015,
          352.25651899797947,
          374.65750585779114,
          398.4830347352236,
          423.8236962802632,
          450.77584205816896,
          479.441950902342,
          509.93101856461413,
          542.3589721444934,
          576.8491108731386,
          613.532574928029,
          652.548844060888,
          694.0462679347585,
          738.1826301867152,
          785.1257483609135,
          835.0541119930809,
          888.1575612725987,
          944.6380088626242,
          1004.7102076227889,
          1068.60256715356,
          1136.5580222669548,
          1208.8349566857657,
          1285.7081854834269,
          1367.47
         ],
         "y": [
          6959.219144504205,
          6834.207404939681,
          6711.4413102822255,
          6590.880520951991,
          6472.48542200805,
          6356.217110131399,
          6242.037380841691,
          6129.908715943699,
          6019.794271199283,
          5911.657864220721,
          5805.463962581605,
          5701.1776721413125,
          5598.7647255791135,
          5498.1914711343425,
          5399.42486154883,
          5302.432443207881,
          5207.182345476404,
          5113.643270226606,
          5021.784481553709,
          4931.575795676511,
          4842.987571019349,
          4755.990698472153,
          4670.5565918255425,
          4586.657178377742,
          4504.264889710145,
          4423.352652628669,
          4343.893880267821,
          4265.8624633545005,
          4189.232761628835,
          4113.979595419025,
          4040.0782373676066,
          3967.504404306335,
          3896.2342492769617,
          3826.244353695409,
          3757.5117196567044,
          3690.01376237808,
          3623.728302777888,
          3558.633560187813,
          3494.708145195953,
          3431.9310526185095,
          3370.2816545977385,
          3309.7396938238276,
          3250.285276878584,
          3191.8988676986987,
          3134.561281156374,
          3078.253676755324,
          3022.9575524400066,
          2968.6547385160247,
          2915.3273916797907,
          2862.957989155403,
          2811.529322936853,
          2761.0244941336746,
          2711.426907418151,
          2662.720265572267,
          2614.888564132637,
          2567.916086131607,
          2521.787396932829,
          2476.4873391596216,
          2432.0010277144183,
          2388.3138448876825,
          2345.411435554702,
          2303.2797024586494,
          2261.90480157837,
          2221.273137579407,
          2181.371359346711,
          2142.186355597621,
          2103.70525057363,
          2065.9153998095694,
          2028.8043859787613,
          1992.3600148128353,
          1956.5703110948207,
          1921.4235147242246,
          1886.908076852788,
          1853.0126560896715,
          1819.7261147747938,
          1787.0375153191167,
          1754.9361166106842,
          1723.4113704851989,
          1692.4529182600297,
          1662.0505873304432,
          1632.1943878270145,
          1602.8745093330551,
          1574.0813176610284,
          1545.8053516868567,
          1518.0373202410983,
          1490.7680990559795,
          1463.9887277672549,
          1437.690406969935,
          1411.8644953268931,
          1386.5025067294252,
          1361.5961075088055,
          1337.1371136979303,
          1313.1174883421654,
          1289.5293388584878,
          1266.364914442066,
          1243.6166035194396,
          1221.2769312474363,
          1199.3385570570179,
          1177.7942722412565,
          1156.6369975866319
         ]
        },
        {
         "marker": {
          "color": "rgb(255,215,0)",
          "size": 6,
          "symbol": "circle-open"
         },
         "mode": "markers",
         "name": "Residential PV - Prospective",
         "type": "scatter",
         "x": [
          58,
          74,
          93,
          150.67,
          208.35,
          266.02,
          323.7,
          381.37,
          439.05,
          496.72,
          554.39,
          612.07,
          669.74,
          751.15,
          832.56,
          913.96,
          995.37,
          1076.78,
          1158.18,
          1239.59,
          1321,
          1402.41,
          1483.81,
          1530.81,
          1577.81,
          1624.82,
          1671.82,
          1718.82,
          1765.82,
          1812.82,
          1859.82,
          1906.82,
          1953.82
         ],
         "y": [
          2704.85,
          2506.8,
          2442.72,
          1872.68,
          1639.53,
          1483.13,
          1368.42,
          1279.39,
          1207.57,
          1147.95,
          1097.36,
          1053.7,
          1015.48,
          968.8,
          928.75,
          893.88,
          863.13,
          835.74,
          811.12,
          788.83,
          768.51,
          749.88,
          732.72,
          723.41,
          714.49,
          705.94,
          697.73,
          689.83,
          682.24,
          674.93,
          667.88,
          661.07,
          654.5
         ]
        },
        {
         "marker": {
          "color": "rgb(255,215,0)",
          "size": 6,
          "symbol": "circle"
         },
         "mode": "markers+text",
         "name": "Residential PV - Historical",
         "textfont": {
          "size": 10
         },
         "type": "scatter",
         "x": [
          27,
          32,
          38,
          44,
          50,
          58,
          74,
          93
         ],
         "y": [
          3794,
          3379,
          3158,
          3103,
          3027,
          2705,
          2507,
          2443
         ]
        },
        {
         "line": {
          "color": "rgb(255,215,0)",
          "width": 1.5
         },
         "mode": "lines",
         "name": "Residential PV - Learning Curve",
         "type": "scatter",
         "x": [
          27.000000000000004,
          28.193357762954378,
          29.439460072219994,
          30.740638154233665,
          32.099326271993874,
          33.5180662791157,
          34.999512375167626,
          36.54643607118703,
          38.16173137466358,
          39.84842020369078,
          41.60965804041457,
          43.4487398343555,
          45.36910616664858,
          47.3743496867327,
          49.46822183353187,
          51.65463985370204,
          53.93769413007343,
          56.32165583399868,
          58.810984915922646,
          61.41033844912294,
          64.12457934223096,
          66.95878543683226,
          69.91825900716708,
          73.00853667970254,
          76.23539979113444,
          79.60488520419668,
          83.12329660151224,
          86.79721627861497,
          90.63351745820441,
          94.63937714867141,
          98.82228957095045,
          103.19008017881782,
          107.7509202988651,
          112.51334241753653,
          117.48625614382942,
          122.67896487752158,
          128.10118321410656,
          133.7630551190028,
          139.67517290503062,
          145.84859704866815,
          152.29487688215085,
          159.02607220013215,
          166.05477582132366,
          173.39413714732459,
          181.0578867627148,
          189.0603621224333,
          197.4165343744989,
          206.1420363682529,
          215.25319190052244,
          224.76704625441835,
          234.7013980879014,
          245.07483273176936,
          255.90675695936943,
          267.217435293071,
          279.0280279154319,
          291.3606302559775,
          304.2383143276534,
          317.68517189028523,
          331.72635952179513,
          346.38814568149616,
          361.6979598535104,
          377.68444386224917,
          394.37750545595696,
          411.8083742585665,
          430.00966019453205,
          449.01541449595913,
          468.8611934061412,
          489.5841246987073,
          511.2229771367966,
          533.8182330022353,
          557.4121638303761,
          582.0489094923086,
          607.7745607723743,
          634.6372455954817,
          662.6872190655317,
          691.9769574834013,
          722.5612565203786,
          754.4973337306986,
          787.8449355949923,
          822.6664492948645,
          859.0270194277595,
          896.9946698804132,
          936.6404310889498,
          978.0384729236509,
          1021.2662434470391,
          1066.4046138048457,
          1113.5380295209336,
          1162.7546684792196,
          1214.14660588815,
          1267.8099865363474,
          1323.845204661688,
          1382.357091770317,
          1443.4551127569505,
          1507.253570693422,
          1573.8718206685203,
          1643.4344930792595,
          1716.0717267912253,
          1791.919412604293,
          1871.119447479107,
          1953.8199999999993
         ],
         "y": [
          3791.3382077272263,
          3724.660274126696,
          3659.1549995150685,
          3594.8017604412125,
          3531.5802961568556,
          3469.470702237708,
          3408.4534243168737,
          3348.5092519283758,
          3289.6193124590445,
          3231.7650652066854,
          3174.9282955428307,
          3119.0911091780895,
          3064.235926528364,
          3010.3454771801644,
          2957.402794453267,
          2905.391210058959,
          2854.2943488522674,
          2804.0961236764606,
          2754.7807302982274,
          2706.3326424319253,
          2658.7366068513406,
          2611.9776385874156,
          2566.0410162104326,
          2520.912277195172,
          2476.5772133675805,
          2433.02186643152,
          2390.2325235741837,
          2348.1957131488134,
          2306.8982004333106,
          2266.326983463491,
          2226.4692889395706,
          2187.312568204672,
          2148.8444932940515,
          2111.052953053802,
          2073.926049327822,
          2037.4520932118414,
          2001.6196013733268,
          1966.4172924361092,
          1931.8340834286025,
          1897.8590862944611,
          1864.4816044646477,
          1831.6911294897366,
          1799.4773377314964,
          1767.8300871126055,
          1736.7394139235812,
          1706.1955296858218,
          1676.1888180698445,
          1646.7098318677124,
          1617.7492900187074,
          1589.2980746873206,
          1561.3472283926087,
          1533.8879511880746,
          1506.9115978911002,
          1480.4096753611448,
          1454.3738398257847,
          1428.7958942537975,
          1403.6677857744237,
          1378.981603142047,
          1354.7295742454276,
          1330.9040636607751,
          1307.497570247821,
          1284.5027247882024,
          1261.9122876653516,
          1239.7191465852052,
          1217.9163143369942,
          1196.4969265934126,
          1175.4542397494838,
          1154.7816287994146,
          1134.4725852508175,
          1114.5207150755841,
          1094.9197366968267,
          1075.6634790111939,
          1056.7458794459965,
          1038.160982050474,
          1019.9029356206589,
          1001.9659918571884,
          984.3445035555449,
          967.0329228280988,
          950.0257993574368,
          933.3177786804008,
          916.9036005023087,
          900.7780970408207,
          884.9361913989334,
          869.3728959665871,
          854.083310850384,
          839.0626223309235,
          824.3061013472663,
          809.8091020080574,
          795.5670601288215,
          781.5754917950027,
          767.8299919502534,
          754.3262330095698,
          741.0599634968054,
          728.0270067061556,
          715.223259387173,
          702.6446904529183,
          690.2873397108257,
          678.14731661589,
          666.2207990457789,
          654.5040320974949
         ]
        },
        {
         "marker": {
          "color": "rgb(255,140,0)",
          "size": 6,
          "symbol": "circle-open"
         },
         "mode": "markers",
         "name": "CSP - Prospective",
         "type": "scatter",
         "x": [
          5.83,
          6.38,
          6.48,
          13.13,
          19.78,
          26.44,
          33.09,
          39.74,
          46.39,
          53.04,
          59.7,
          66.35,
          73,
          93.8,
          114.6,
          135.4,
          156.2,
          177,
          197.8,
          218.6,
          239.4,
          260.2,
          281,
          295.5,
          310,
          324.5,
          339,
          353.5,
          368,
          382.5,
          397,
          411.5,
          426
         ],
         "y": [
          5161,
          6466,
          4448,
          5036,
          4238,
          3701,
          3307,
          3002,
          2757,
          2555,
          2384,
          2237,
          2110,
          1799,
          1574,
          1403,
          1267,
          1157,
          1065,
          987,
          921,
          863,
          812,
          780,
          750,
          723,
          697,
          673,
          651,
          631,
          611,
          593,
          576
         ]
        },
        {
         "marker": {
          "color": "rgb(255,140,0)",
          "size": 6,
          "symbol": "circle"
         },
         "mode": "markers+text",
         "name": "CSP - Historical",
         "textfont": {
          "size": 10
         },
         "type": "scatter",
         "x": [
          1.266,
          1.705,
          2.567,
          3.842,
          4.499,
          4.75,
          4.86,
          4.959,
          5.833,
          6.384,
          6.479
         ],
         "y": [
          8830,
          10403,
          8040,
          6307,
          5414,
          7232,
          7602,
          7196,
          5161,
          6466,
          4448
         ]
        },
        {
         "line": {
          "color": "rgb(255,140,0)",
          "width": 1.5
         },
         "mode": "lines",
         "name": "CSP - Learning Curve",
         "type": "scatter",
         "x": [
          1.266,
          1.3426373200696768,
          1.4239138809193395,
          1.5101105190265045,
          1.6015250713070892,
          1.698473404237084,
          1.8012905052721162,
          1.9103316403361044,
          2.025973581378497,
          2.1486159082416982,
          2.2786823893370527,
          2.4166224459000536,
          2.562912704884262,
          2.718058645859662,
          2.8825963476060275,
          3.0570943404363313,
          3.2421555706505623,
          3.438419483907777,
          3.6465642347150853,
          3.8673090296680837,
          4.101416612539351,
          4.349695899801805,
          4.61300477569349,
          4.892253056481617,
          5.188405634168377,
          5.502485810500979,
          5.835578832806051,
          6.1888356438657555,
          6.56347685879274,
          6.960796982645204,
          7.3821688833553285,
          7.829048535426509,
          8.302980050790262,
          8.805601014206186,
          9.338648141640299,
          9.90396328117346,
          10.503499777174737,
          11.13932921973012,
          11.813648602647945,
          12.528787914774181,
          13.287218190848156,
          14.091560049716765,
          14.944592749409663,
          15.849263790363443,
          16.808699099977044,
          17.826213833689394,
          18.905323829900254,
          20.049757758314914,
          21.263470003688894,
          22.550654329490374,
          23.91575836869243,
          25.363498991765518,
          26.898878604971575,
          28.52720243527535,
          30.254096861598153,
          32.08552885575399,
          34.02782660024314,
          36.08770135414386,
          38.27227064265604,
          40.58908285042424,
          43.04614330361743,
          45.651941930887986,
          48.415482598786674,
          51.346314222997655,
          54.45456376289186,
          57.75097121340635,
          61.246926715157166,
          64.95450991101303,
          68.88653168511992,
          73.05657842859736,
          77.47905898485952,
          82.16925443677107,
          87.14337090766962,
          92.41859555869776,
          98.01315597593465,
          103.94638315252783,
          110.23877828344838,
          116.91208360366862,
          123.9893575145274,
          131.49505425787214,
          139.4551084132751,
          147.8970245102889,
          156.84997206538205,
          166.34488637193388,
          176.41457539155454,
          187.09383311607172,
          198.41955979188464,
          210.43088942210193,
          223.16932498702153,
          236.67888185018438,
          251.00623984551288,
          266.20090457104715,
          282.3153784465992,
          299.40534212638124,
          317.5298468934513,
          336.75151870075666,
          357.1367745638055,
          378.75605205266686,
          401.6840526762743,
          425.99999999999994
         ],
         "y": [
          8830.000500101507,
          8783.462570577089,
          8733.195649968666,
          8679.266677793423,
          8621.747177579036,
          8560.713098842496,
          8496.244650048156,
          8428.426123059307,
          8357.345709620193,
          8283.095310427958,
          8205.770337372027,
          8125.469509536107,
          8042.294643572226,
          7956.3504390687385,
          7867.744259543848,
          7776.5859097040775,
          7682.9874096119975,
          7587.062766410445,
          7488.927744250638,
          7388.699633069892,
          7286.497016860243,
          7182.439542062544,
          7076.647686712386,
          6969.242530952617,
          6860.345529514916,
          6750.078286757328,
          6638.562334828462,
          6525.918915509698,
          6412.268766267041,
          6297.731911021723,
          6182.427456125848,
          6066.473392003965,
          5949.986400896013,
          5833.081671109456,
          5715.872718160888,
          5598.4712131578835,
          5480.986818742734,
          5363.52703288906,
          5246.197040812107,
          5129.099575222044,
          5012.334785118874,
          4896.0001132961825,
          4780.190182689804,
          4664.99669167671,
          4550.508318398773,
          4436.810634155942,
          4323.986025883684,
          4212.113627700865,
          4101.269261485803,
          3991.5253864109986,
          3882.9510573408893,
          3775.6118919712626,
          3669.570046565033,
          3564.884200115897,
          3461.6095467494897,
          3359.7977961512433,
          3259.497181790823,
          3160.752476695253,
          3063.605016506263,
          2968.0927295426336,
          2874.2501735744518,
          2782.1085790043176,
          2691.6958981398216,
          2603.0368602324193,
          2516.153031950153,
          2431.062882945371,
          2347.7818561736976,
          2266.3224426171064,
          2186.6942600617076,
          2108.9041355802165,
          2032.9561913694067,
          1958.8519335946528,
          1886.59034389653,
          1816.1679732184812,
          1747.579037619631,
          1680.8155157429783,
          1615.8672476162355,
          1552.7220344705202,
          1491.365739270948,
          1431.7823876626314,
          1373.9542690458254,
          1317.862037504867,
          1263.4848123268562,
          1210.8002778579853,
          1159.7847824576752,
          1110.413436323369,
          1062.6602079717195,
          1016.4980191751514,
          971.898838166021,
          928.8337709340586,
          887.2731504562788,
          847.1866237119442,
          808.543236348578,
          771.3115148783369,
          735.4595462970867,
          700.9550550315031,
          667.7654771320965,
          635.858031642494,
          605.1997890872526,
          575.7577370322424
         ]
        },
        {
         "marker": {
          "color": "rgb(50,205,50)",
          "size": 6,
          "symbol": "circle-open"
         },
         "mode": "markers",
         "name": "Ground Source Heat Pumps - Prospective",
         "type": "scatter",
         "x": [
          2.174,
          2.859,
          3.544,
          4.23,
          4.915,
          5.6,
          6.286,
          6.971,
          7.657,
          8.342,
          9.027,
          9.713,
          10.398,
          11.084,
          11.769,
          12.454,
          13.14,
          13.825,
          14.511,
          15.196,
          15.881,
          16.567,
          17.252,
          17.937,
          18.623,
          19.308,
          19.994,
          20.679,
          21.364,
          22.05,
          22.735,
          23.421,
          24.106
         ],
         "y": [
          2784.93,
          2364.46,
          2079.7,
          1871.35,
          1710.83,
          1582.54,
          1477.11,
          1388.59,
          1312.97,
          1247.44,
          1189.99,
          1139.11,
          1093.66,
          1052.76,
          1015.71,
          981.95,
          951.03,
          922.59,
          896.32,
          871.95,
          849.28,
          828.12,
          808.32,
          789.73,
          772.24,
          755.76,
          740.18,
          725.43,
          711.44,
          698.15,
          685.51,
          673.46,
          661.96
         ]
        },
        {
         "marker": {
          "color": "rgb(50,205,50)",
          "size": 6,
          "symbol": "circle"
         },
         "mode": "markers+text",
         "name": "Ground Source Heat Pumps - Historical",
         "textfont": {
          "size": 10
         },
         "type": "scatter",
         "x": [
          0.02,
          0.039,
          0.061,
          0.084,
          0.106,
          0.126,
          0.142,
          0.157,
          0.172,
          0.198,
          0.224,
          0.252,
          0.285,
          0.325,
          0.367,
          0.417,
          0.467,
          0.522,
          0.587,
          0.661,
          0.75,
          0.867,
          0.992,
          1.143
         ],
         "y": [
          34647,
          30597,
          27279,
          25591,
          23285,
          20361,
          17605,
          15805,
          14286,
          13611,
          12655,
          8662,
          8549,
          8212,
          7762,
          7256,
          6806,
          6524,
          5231,
          4893,
          4781,
          4612,
          4443,
          4218
         ]
        },
        {
         "line": {
          "color": "rgb(50,205,50)",
          "width": 1.5
         },
         "mode": "lines",
         "name": "Ground Source Heat Pumps - Learning Curve",
         "type": "scatter",
         "x": [
          0.020000000000000004,
          0.02148583167092517,
          0.023082048129566553,
          0.024796850036603015,
          0.02663904729278135,
          0.028618104300325745,
          0.030744188586888946,
          0.03302822304185373,
          0.03548194203335206,
          0.03811795169430634,
          0.040949794687216136,
          0.0439920197804236,
          0.047260256593309596,
          0.05077129589442907,
          0.054543175865121876,
          0.05859527477178384,
          0.06294841052290778,
          0.06762494762237456,
          0.07264891206847356,
          0.07804611478895337,
          0.08384428424625777,
          0.09007320889421487,
          0.09676489021805908,
          0.10395370714403852,
          0.11167659266327315,
          0.11997322357727817,
          0.1288862243399835,
          0.13846138604349922,
          0.14874790167268057,
          0.15979861883712715,
          0.17167031127904234,
          0.18442397055184154,
          0.19812511936802638,
          0.2128441482261685,
          0.22865667704644513,
          0.24564394367265105,
          0.2638932212366402,
          0.28349826652943333,
          0.3045598016825243,
          0.3271860316340534,
          0.35149320003836343,
          0.37760618647495525,
          0.4056591480250434,
          0.43579620851185014,
          0.4681721989456509,
          0.5029534529776573,
          0.5403186614494263,
          0.5804597904280988,
          0.6235830674439315,
          0.6699100409969745,
          0.7196787187761786,
          0.7731447904386036,
          0.8305829412308277,
          0.8922882632013747,
          0.958577771254346,
          1.0297920318330742,
          1.1062969126012723,
          1.1884854621107575,
          1.2767799291126722,
          1.371633931886533,
          1.4735347887321644,
          1.583006021597578,
          1.7006100457053255,
          1.826951058995449,
          1.9626781462297347,
          2.1084886137047767,
          2.2651315717061595,
          2.433411783108835,
          2.6141937978961147,
          2.8084063948386273,
          3.017047353152628,
          3.241188578652384,
          3.481981610732516,
          3.740663538472786,
          4.01856335625968,
          4.317108791577178,
          4.637833640044925,
          4.9823856453879705,
          5.35253496482199,
          5.750183263345332,
          6.177373483660448,
          6.63630034191825,
          7.1293216032079325,
          7.6589701947207995,
          8.227967218820202,
          8.839235932873068,
          9.495916767665197,
          10.201383461558512,
          10.959260393280305,
          11.773441202392888,
          12.648108793107422,
          13.587756824212727,
          14.597212795524984,
          15.68166284946624,
          16.84667841519162,
          18.098244832150773,
          19.442792100139144,
          20.887227913819164,
          22.4389731514284,
          24.106000000000005
         ],
         "y": [
          45778.1035548452,
          43860.508794594294,
          42023.23998450286,
          40262.932358248654,
          38576.36209589574,
          36960.440419804334,
          35412.20793785651,
          33928.82922363797,
          32507.58762365016,
          31145.880282042493,
          29841.21337375321,
          28591.197537328684,
          27393.543499056992,
          26246.057880401713,
          25146.639181057766,
          24093.27393027265,
          23084.032999384624,
          22117.068068824672,
          21190.608243111732,
          20302.956807642393,
          19452.48812133498,
          18637.644639437032,
          17856.934061044765,
          17108.926596109497,
          16392.252346925914,
          15705.598799307541,
          15047.708418853643,
          14417.376347906089,
          13813.44819897813,
          13234.81794061405,
          12680.425871807825,
          12149.256681271205,
          11640.337587996903,
          11152.736559711579,
          10685.560605955887,
          10237.95414266552,
          9809.097425258173,
          9398.2050473568,
          9004.524502399678,
          8627.334805503093,
          8265.945173052667,
          7919.693757605175,
          7587.946435783931,
          7270.095646947927,
          6965.559280507848,
          6673.7796098511935,
          6394.222270924132,
          6126.375283599425,
          5869.748114038192,
          5623.870776328318,
          5388.2929717542465,
          5162.583264121775,
          4946.328289627736,
          4739.131999827149,
          4540.614936311868,
          4350.4135357720525,
          4168.179464167788,
          3993.5789787916824,
          3826.292317053845,
          3666.013110870037,
          3512.447825580462,
          3365.315222371632,
          3224.345843216793,
          3089.281517391638,
          2959.874888661532,
          2835.888962274356,
          2717.0966709293134,
          2603.280458926845,
          2494.2318837380344,
          2389.751234263848,
          2289.6471650850694,
          2193.7363460331135,
          2101.843126439926,
          2013.7992134520978,
          1929.443363820045,
          1848.6210885977987,
          1771.1843702126102,
          1696.9913913861967,
          1625.9062754111676,
          1557.7988373070073,
          1492.5443453998453,
          1430.0232928894047,
          1370.121178984749,
          1312.7282992080186,
          1257.7395444821163,
          1205.0542086343835,
          1154.575803963751,
          1106.2118845335624,
          1059.8738768664816,
          1015.4769177314013,
          972.9396987252773,
          932.1843173652685,
          893.1361344184556,
          855.7236372078701,
          819.8783086444726,
          785.5345017452545,
          752.6293194076263,
          721.1024992199317,
          690.8963030971214,
          661.9554115394689
         ]
        },
        {
         "marker": {
          "color": "rgb(0,128,128)",
          "size": 6,
          "symbol": "circle-open"
         },
         "mode": "markers",
         "name": "Decentralized Heat Pumps - Prospective",
         "type": "scatter",
         "x": [
          6.22,
          6.487,
          7.069,
          7.651,
          8.233,
          8.816,
          9.398,
          9.98,
          10.563,
          11.145,
          11.727,
          12.309,
          12.892,
          13.474,
          14.056,
          14.638,
          15.221,
          15.803,
          16.385,
          16.967,
          17.55,
          18.132,
          18.714,
          19.296,
          19.879,
          20.461,
          21.043,
          21.625,
          22.208,
          22.79,
          23.372,
          23.954,
          24.537
         ],
         "y": [
          903,
          881,
          837,
          798,
          764,
          733,
          706,
          681,
          658,
          638,
          619,
          601,
          585,
          569,
          555,
          542,
          529,
          518,
          507,
          496,
          486,
          477,
          468,
          459,
          451,
          444,
          436,
          429,
          422,
          416,
          410,
          404,
          398
         ]
        },
        {
         "marker": {
          "color": "rgb(0,128,128)",
          "size": 6,
          "symbol": "circle"
         },
         "mode": "markers+text",
         "name": "Decentralized Heat Pumps - Historical",
         "textfont": {
          "size": 10
         },
         "type": "scatter",
         "x": [
          null,
          null,
          null,
          null,
          null,
          null,
          null,
          null,
          null,
          null,
          null,
          null,
          null,
          null,
          null,
          null,
          null,
          null,
          6.22,
          null,
          null
         ],
         "y": [
          null,
          null,
          null,
          null,
          null,
          null,
          null,
          null,
          null,
          null,
          null,
          null,
          null,
          null,
          null,
          null,
          null,
          null,
          903,
          null,
          null
         ]
        },
        {
         "line": {
          "color": "rgb(0,128,128)",
          "width": 1.5
         },
         "mode": "lines",
         "name": "Decentralized Heat Pumps - Learning Curve",
         "type": "scatter",
         "x": [
          6.219999999999999,
          6.306826744856881,
          6.394865528881359,
          6.484133271272075,
          6.574647127407569,
          6.666424492143172,
          6.759483003153942,
          6.853840544324244,
          6.949515249184661,
          7.046525504396876,
          7.144889953287194,
          7.244627499429409,
          7.345757310277658,
          7.448298820850016,
          7.552271737463482,
          7.657696041521133,
          7.7645919933521155,
          7.872980136105262,
          7.98288129969705,
          8.094316604814667,
          8.207307466974967,
          8.321875600640084,
          8.438043023390483,
          8.555832060156291,
          8.675265347507665,
          8.796365838005059,
          8.919156804610244,
          9.043661845158868,
          9.169904886895447,
          9.297910191071711,
          9.427702357609071,
          9.559306329826233,
          9.692747399232763,
          9.82805121038958,
          9.965243765837307,
          10.104351431093415,
          10.24540093971911,
          10.388419398456968,
          10.533434292440266,
          10.680473490475062,
          10.82956525039599,
          10.980738224496813,
          11.134021465036781,
          11.289444429823886,
          11.447036987876018,
          11.606829425161163,
          11.76885245041773,
          11.933137201056109,
          12.099715249142646,
          12.268618607467122,
          12.439879735694925,
          12.613531546605138,
          12.789607412415638,
          12.968141171196587,
          13.149167133373357,
          13.332720088320286,
          13.518835311046468,
          13.707548568974834,
          13.898896128815943,
          14.092914763537655,
          14.289641759432095,
          14.489114923281372,
          14.691372589623139,
          14.89645362811777,
          15.104397451018253,
          15.315244020744377,
          15.529033857562714,
          15.745808047373725,
          15.965608249607607,
          16.188476705230382,
          16.41445624486167,
          16.643590297005893,
          16.875922896398272,
          17.1114986924674,
          17.35036295791592,
          17.592561597420946,
          17.838141156456036,
          18.087148830236202,
          18.33963247278787,
          18.595640606145395,
          18.85522242967595,
          19.118427829534667,
          19.385307388251675,
          19.655912394452955,
          19.930294852717005,
          20.208507493568977,
          20.490603783614397,
          20.776637935814303,
          21.0666649199038,
          21.36074047295621,
          21.658921110094383,
          21.96126413535186,
          22.267827652685437,
          22.578670577141505,
          22.89385264617833,
          23.21343443114631,
          23.53747734892847,
          23.866043673743604,
          24.199196549113914,
          24.537
         ],
         "y": [
          903.2142330267694,
          895.7683493810441,
          888.3838478318793,
          881.0602223598461,
          873.7969711170226,
          866.5935963925992,
          859.4496045787789,
          852.364506136948,
          845.3378155641327,
          838.3690513597321,
          831.4577359925219,
          824.6033958679301,
          817.8055612955861,
          811.0637664571374,
          804.377549374325,
          797.7464518773292,
          791.1700195733746,
          784.6478018155924,
          778.1793516721376,
          771.7642258955657,
          765.4019848924607,
          759.0921926933075,
          752.8344169226232,
          746.6282287693225,
          740.47320295734,
          734.3689177164831,
          728.3149547535322,
          722.3108992235794,
          716.3563397015995,
          710.4508681542561,
          704.5940799119429,
          698.7855736410556,
          693.0249513164865,
          687.3118181943544,
          681.6457827849507,
          676.0264568259175,
          670.4534552556379,
          664.9263961868511,
          659.4449008804856,
          654.008593719705,
          648.6171021841676,
          643.2700568245008,
          637.9670912369862,
          632.7078420384507,
          627.4919488413647,
          622.3190542291478,
          617.1888037316774,
          612.1008458009986,
          607.0548317872351,
          602.0504159146952,
          597.0872552581825,
          592.1650097194924,
          587.2833420041095,
          582.4419175980958,
          577.640404745165,
          572.878474423951,
          568.155800325463,
          563.4720588307234,
          558.8269289885922,
          554.2200924937739,
          549.651233665008,
          545.1200394234336,
          540.6261992711391,
          536.1694052698822,
          531.7493520199922,
          527.3657366394391,
          523.0182587430819,
          518.706620422082,
          514.4305262234919,
          510.1896831300064,
          505.98380053988734,
          501.8125902470462,
          497.67576642129904,
          493.5730455887766,
          489.5041466125009,
          485.46879067312176,
          481.46670124980784,
          477.4976041013016,
          473.56122724712384,
          469.65730094893803,
          465.7855576920676,
          461.9457321671618,
          458.1375612520185,
          454.3607839935523,
          450.6151415899124,
          446.90037737274906,
          443.2162367896265,
          439.5624673865773,
          435.9388187908061,
          432.34504269352993,
          428.7808928329659,
          425.24612497745375,
          421.7404969087209,
          418.2637684052859,
          414.81570122599464,
          411.39605909369794,
          408.0046076790584,
          404.6411145844937,
          401.3053493282531,
          397.9970833286224
         ]
        },
        {
         "marker": {
          "color": "rgb(139,0,139)",
          "size": 6,
          "symbol": "circle-open"
         },
         "mode": "markers",
         "name": "SOEC Electrolysis - Prospective",
         "type": "scatter",
         "x": [
          0.89,
          3.48,
          7.77,
          13.78,
          21.49,
          30.91,
          42.03,
          54.86,
          69.4,
          85.64,
          107.87,
          132.15,
          158.47,
          186.84,
          217.24,
          249.69,
          284.18,
          320.71,
          359.28,
          399.9,
          436.5,
          474.67,
          514.43,
          555.77,
          598.69,
          643.19,
          689.27,
          736.93,
          786.18,
          837
         ],
         "y": [
          924,
          881,
          860,
          846,
          836,
          828,
          821,
          815,
          810,
          805,
          800,
          795,
          791,
          787,
          783,
          780,
          777,
          774,
          771,
          769,
          766,
          764,
          762,
          760,
          759,
          757,
          755,
          753,
          752,
          750
         ]
        },
        {
         "marker": {
          "color": "rgb(139,0,139)",
          "size": 6,
          "symbol": "circle"
         },
         "mode": "markers+text",
         "name": "SOEC Electrolysis - Historical",
         "textfont": {
          "size": 10
         },
         "type": "scatter",
         "x": [
          6.05e-05,
          6.05e-05,
          0.0001271,
          0.0003232,
          0.0004715,
          0.0011737,
          0.0011737,
          0.0011737,
          837
         ],
         "y": [
          14443,
          2614,
          9027,
          5416,
          2428,
          2407,
          714,
          1133,
          750
         ]
        },
        {
         "line": {
          "color": "rgb(139,0,139)",
          "width": 1.5
         },
         "mode": "lines",
         "name": "SOEC Electrolysis - Learning Curve",
         "type": "scatter",
         "x": [
          6.049999999999996e-05,
          7.143094334005821e-05,
          8.433685399091898e-05,
          9.957456262651404e-05,
          0.0001175653709270347,
          0.00013880669999077585,
          0.0001638858433431665,
          0.00019349620479476655,
          0.00022845647010266552,
          0.00026973324250534233,
          0.0003184677679723848,
          0.0003760074890854581,
          0.00044394329997191615,
          0.0005241535323387172,
          0.0006188558887599713,
          0.0007306687591020645,
          0.0008626836154011601,
          0.001018550486811848,
          0.0012025788778916673,
          0.0014198569204732301,
          0.0016763920535093025,
          0.0019792771204949896,
          0.0023368864768322497,
          0.0027591075292355805,
          0.0032576141089248737,
          0.0038461892369981284,
          0.00454110620600256,
          0.005361578514085219,
          0.006330291091783383,
          0.007474027509144691,
          0.008824410504590919,
          0.010418776310129732,
          0.012301206946803592,
          0.014523749031924917,
          0.01714785279644057,
          0.02024607109927611,
          0.02390406541406911,
          0.02822297425106474,
          0.0333222094977806,
          0.03934275799341346,
          0.046451079620977484,
          0.05484370969405913,
          0.0647526928878502,
          0.07645199895517713,
          0.0902650976132471,
          0.10657390203630866,
          0.12582932822949547,
          0.14856376223601128,
          0.17540577987878342,
          0.20709752601719164,
          0.2445152338314092,
          0.2886934514643383,
          0.34085364585446254,
          0.4024379746162379,
          0.47514915971405397,
          0.5609975653819974,
          0.6623567819291253,
          0.7820292522459928,
          0.9233237554950684,
          1.0901468903024467,
          1.2871110868352829,
          1.5196621341502792,
          1.7942297487689354,
          2.118405347493562,
          2.5011519396378357,
          2.9530519419032566,
          3.4865997676419846,
          4.11654728019661,
          4.860311661626362,
          5.73845697382903,
          6.775262726561051,
          7.999395172479191,
          9.444699889588353,
          11.151137564909755,
          13.165888852500228,
          15.544658853627213,
          18.353217286181494,
          21.66921692689269,
          25.58434060377355,
          30.20683610018017,
          35.66450905709738,
          42.10825662328128,
          49.716239553822106,
          58.698808109914424,
          69.30431795418593,
          81.82599684308822,
          96.61005197094889,
          114.06524212259393,
          134.67417929138898,
          159.0066722368931,
          187.73548091313594,
          221.65491735578183,
          261.70280731712586,
          308.98641985791403,
          364.81308181352244,
          430.72632358237524,
          508.54855561792135,
          600.4314555704497,
          708.9154592139075,
          837
         ],
         "y": [
          14431.961560382118,
          12424.791020979566,
          10776.131346709712,
          9412.414262295417,
          8276.828876971631,
          7325.174380713887,
          6522.812386245185,
          5842.409668939412,
          5262.253603415629,
          4764.98578311357,
          4336.643286960679,
          3965.927912505046,
          3643.6455122254724,
          3362.2731129035183,
          3115.6226520851606,
          2898.57822665333,
          2706.8896139402336,
          2537.0091218695325,
          2385.961991371993,
          2251.242923098229,
          2130.7330530028967,
          2022.6330166551757,
          1925.4087348073194,
          1837.7473060475213,
          1758.520967031249,
          1686.7575214369028,
          1621.615978365098,
          1562.3664038477787,
          1508.3731937006694,
          1459.0811358273118,
          1414.0037555820938,
          1372.7135367380724,
          1334.8336889301058,
          1300.0311947012053,
          1268.0109189614031,
          1238.5106034660942,
          1211.296600919965,
          1186.1602291348077,
          1162.9146465805309,
          1141.3921676609398,
          1121.4419498997881,
          1102.9279965547114,
          1085.7274274754147,
          1069.7289786763226,
          1054.83169741282,
          1040.9438047824322,
          1027.981702217089,
          1015.8691018506651,
          1004.5362637670969,
          993.9193256637716,
          983.9597125882113,
          974.6036161929464,
          965.8015344611924,
          957.507864131007,
          949.6805391266806,
          942.2807092248296,
          935.2724539651128,
          928.6225274835615,
          922.3001305180417,
          916.2767063254242,
          910.5257576711666,
          905.0226824145561,
          899.7446255257488,
          894.6703456411393,
          889.780094497906,
          885.0555077918165,
          880.4795061791535,
          876.0362052975336,
          871.710833814661,
          867.4896586314259,
          863.3599164684218,
          859.3097511550072,
          855.3281560190106,
          851.4049208446402,
          847.5305829272718,
          843.6963818076147,
          839.8942173152543,
          836.1166105934819,
          832.3566678143745,
          828.6080463258289,
          824.864923001244,
          821.1219645882106,
          817.3742998752822,
          813.6174935160449,
          809.8475213675508,
          806.0607472159918,
          802.2539007765087,
          798.4240568664526,
          794.568615662432,
          790.6852839611937,
          786.7720573730644,
          782.827203384263,
          778.8492452311774,
          774.8369465356463,
          770.7892966555603,
          766.7054967097175,
          762.584946239992,
          758.4272304774275,
          754.2321081820749,
          749.9995000291233
         ]
        },
        {
         "marker": {
          "color": "rgb(178,34,34)",
          "size": 6,
          "symbol": "circle-open"
         },
         "mode": "markers",
         "name": "PEM Electrolysis - Prospective",
         "type": "scatter",
         "x": [
          14.821,
          28.827,
          42.07,
          54.549,
          66.264,
          77.217,
          87.405,
          96.83,
          105.492,
          113.39,
          136.69,
          160.799,
          185.717,
          211.445,
          237.981,
          265.327,
          293.481,
          322.445,
          352.218,
          382.8,
          408.517,
          434.861,
          461.831,
          489.427,
          517.65,
          546.499,
          575.975,
          606.077,
          636.805,
          668.16
         ],
         "y": [
          687,
          658,
          642,
          632,
          625,
          619,
          615,
          611,
          608,
          606,
          599,
          594,
          589,
          585,
          581,
          578,
          574,
          571,
          569,
          566,
          564,
          562,
          561,
          559,
          557,
          556,
          554,
          553,
          551,
          550
         ]
        },
        {
         "marker": {
          "color": "rgb(178,34,34)",
          "size": 6,
          "symbol": "circle"
         },
         "mode": "markers+text",
         "name": "PEM Electrolysis - Historical",
         "textfont": {
          "size": 10
         },
         "type": "scatter",
         "x": [
          0.0051821,
          0.0051836,
          0.0052047,
          0.0053733,
          0.0053733,
          0.0053733,
          0.00538,
          0.0053871,
          0.0053871,
          0.0066407,
          0.0066407,
          0.0103063,
          0.0103063,
          0.0103063,
          0.0103063,
          0.0103063,
          0.0103063,
          0.0103063,
          0.0103063,
          0.0103063,
          0.0103063,
          0.0118263,
          0.0118263,
          0.0118263,
          0.0118263,
          0.0118263,
          0.0118263,
          0.0118263,
          0.0118263,
          0.012978,
          0.012978,
          0.012978,
          0.012978,
          0.012978,
          0.012978,
          0.0133188,
          0.0133188,
          0.0133188,
          0.0133188,
          0.0133188,
          0.023511,
          0.0517146,
          0.0517146,
          0.0517146,
          0.0517146,
          0.0517146,
          0.0517146,
          0.0517146,
          113.39,
          668.16
         ],
         "y": [
          3986,
          7363,
          2887,
          5106,
          3050,
          1878,
          2549,
          2524,
          2326,
          1343,
          4012,
          2745,
          2914,
          2387,
          1976,
          1641,
          3818,
          2494,
          1432,
          1790,
          3580,
          4047,
          2381,
          1197,
          1874,
          2381,
          3047,
          2381,
          3332,
          2366,
          1316,
          2366,
          1183,
          1518,
          2248,
          1420,
          1543,
          1834,
          1597,
          1479,
          1183,
          1479,
          1361,
          1194,
          1071,
          876,
          1274,
          2142,
          1075,
          550
         ]
        },
        {
         "line": {
          "color": "rgb(178,34,34)",
          "width": 1.5
         },
         "mode": "lines",
         "name": "PEM Electrolysis - Learning Curve",
         "type": "scatter",
         "x": [
          0.005182100000000001,
          0.005836140460804067,
          0.006572728329872883,
          0.00740228203698197,
          0.008336534937248136,
          0.009388701269790342,
          0.01057366306227705,
          0.011908180624971437,
          0.013411129611539493,
          0.015103767999651322,
          0.017010036767596673,
          0.019156898519738272,
          0.021574718850381515,
          0.024297695840138866,
          0.02736434375966212,
          0.030818037822333662,
          0.0347076276909962,
          0.039088128416268776,
          0.04402149857920365,
          0.04957751664447215,
          0.05583476791937451,
          0.06288175607839804,
          0.0708181549749234,
          0.07975621844592791,
          0.0898223680502127,
          0.10115898119740654,
          0.11392640495936045,
          0.1283052240476394,
          0.1444988150357884,
          0.162736222953746,
          0.1832754009414693,
          0.2064068587840057,
          0.23245777193354164,
          0.2617966091371655,
          0.2948383441243354,
          0.33205032506908505,
          0.3739588848456859,
          0.4211567855743957,
          0.4743116027542717,
          0.5341751675697167,
          0.6015942009244153,
          0.677522289612333,
          0.7630333740188624,
          0.8593369381245672,
          0.9677951166616366,
          1.0899419613896997,
          1.2275051389966556,
          1.3824303675234546,
          1.5569089369460003,
          1.753408703170143,
          1.9747089938243663,
          2.2239399195638967,
          2.5046266469122913,
          2.8207392588434885,
          3.1767489083412013,
          3.577691059181651,
          4.029236708428433,
          4.537772598023224,
          5.110491549999291,
          5.755494203035085,
          6.481903589327939,
          7.299994172383367,
          8.221337170853603,
          9.258964223911368,
          10.427551713071235,
          11.743628347538987,
          13.225808949213215,
          14.895057744035768,
          16.774984883730532,
          18.8921803919871,
          21.27659025848305,
          23.961940000286095,
          26.98621168156325,
          30.392181138649313,
          34.22802300908077,
          38.54799212223396,
          43.41319088927771,
          48.892433546539785,
          55.06321947630012,
          62.01282937183174,
          69.8395597510441,
          78.65411327990816,
          88.5811645706447,
          99.76112360160603,
          112.35212170097239,
          126.53224818437059,
          142.50206928181746,
          160.4874649821343,
          180.7428239196678,
          203.5546414923597,
          229.24557210359225,
          258.1789928434326,
          290.76414315879634,
          327.4619132089453,
          368.7913627778378,
          415.33706294799634,
          467.75736437782444,
          526.7937091303697,
          593.2811177616801,
          668.1599999999999
         ],
         "y": [
          3139.402246878741,
          2865.7721649624204,
          2641.3990102842727,
          2454.35163828375,
          2296.189549685749,
          2160.7916727036113,
          2043.6219538666853,
          1941.2544185708018,
          1851.0575839915612,
          1770.9796577398793,
          1699.3991678178666,
          1635.0190755740578,
          1576.790399535967,
          1523.8562519208385,
          1475.51024057555,
          1431.1651411843459,
          1390.3290187725088,
          1352.5868245814993,
          1317.5860670259456,
          1285.0255486092851,
          1254.6464345164375,
          1226.2251118864126,
          1199.567436890992,
          1174.504066595074,
          1150.8866455381576,
          1128.5846708351821,
          1107.482899729862,
          1087.4791937096004,
          1068.482716170694,
          1050.4124181080201,
          1033.195759767163,
          1016.7676266376084,
          1001.0694063168587,
          986.048199179742,
          971.6561408498496,
          957.8498184952621,
          944.5897661887054,
          931.8400271584742,
          919.5677728454169,
          907.7429703765857,
          896.3380914484588,
          885.3278567445651,
          874.6890109432507,
          864.40012413995,
          854.4414161454628,
          844.7946006518118,
          835.4427466999127,
          826.3701552541121,
          817.5622490004703,
          809.0054737485731,
          800.6872100391034,
          792.5956937481664,
          784.7199446399335,
          777.0497019562505,
          769.575366249097,
          762.2879467623794,
          755.1790137560517,
          748.2406552401164,
          741.465437650536,
          734.8463700548594,
          728.3768715238493,
          722.0507413475374,
          715.8621318108493,
          709.8055232760755,
          703.8757013475046,
          698.0677359182083,
          692.3769619205666,
          686.7989616211925,
          681.3295483176813,
          675.9647513094704,
          670.700802028162,
          665.534121224343,
          660.4613071181998,
          655.4791244304331,
          650.5844942181104,
          645.7744844473892,
          641.0463012415372,
          636.3972807484699,
          631.8248815772426,
          627.3266777575847,
          622.900352180748,
          618.5436904837034,
          614.254575342103,
          610.0309811404688,
          605.8709689908227,
          601.7726820734554,
          597.7343412757706,
          593.754241107183,
          589.8307458698747,
          585.9622860669016,
          582.1473550306397,
          578.3845057559499,
          574.6723479236947,
          571.009545101371,
          567.3948121086744,
          563.8269125367552,
          560.3046564107916,
          556.8268979863067,
          553.3925336703619,
          550.0005000594547
         ]
        },
        {
         "marker": {
          "color": "rgb(210,105,30)",
          "size": 6,
          "symbol": "circle-open"
         },
         "mode": "markers",
         "name": "ALK Electrolysis - Prospective",
         "type": "scatter",
         "x": [
          33.11,
          63.46,
          91.16,
          116.23,
          138.64,
          158.41,
          175.54,
          190.03,
          201.87,
          197.84,
          234.55,
          271.46,
          308.56,
          345.87,
          383.36,
          421.06,
          458.95,
          497.04,
          535.32,
          573.8,
          604.09,
          634.52,
          665.11,
          695.86,
          726.75,
          757.8,
          788.99,
          820.34,
          851.85,
          885.78
         ],
         "y": [
          637,
          594,
          572,
          558,
          547,
          540,
          534,
          529,
          526,
          527,
          518,
          510,
          503,
          497,
          492,
          487,
          482,
          478,
          475,
          471,
          469,
          466,
          464,
          462,
          460,
          457,
          456,
          454,
          452,
          450
         ]
        },
        {
         "marker": {
          "color": "rgb(210,105,30)",
          "size": 6,
          "symbol": "circle"
         },
         "mode": "markers+text",
         "name": "ALK Electrolysis - Historical",
         "textfont": {
          "size": 10
         },
         "type": "scatter",
         "x": [
          0.088632,
          0.088632,
          0.088632,
          0.088632,
          0.088632,
          0.088632,
          0.088632,
          0.088632,
          0.088632,
          0.088632,
          0.088632,
          0.088632,
          0.088632,
          0.088632,
          0.088632,
          0.088632,
          0.091137,
          0.091137,
          0.091137,
          0.091137,
          0.091137,
          0.091137,
          0.091137,
          0.091137,
          0.091137,
          0.09333,
          0.09333,
          0.09333,
          0.09333,
          0.096775,
          0.099593,
          0.117132,
          0.117132,
          0.117132,
          0.117132,
          0.117132,
          0.117132,
          0.117132,
          197.838,
          885.78
         ],
         "y": [
          1190,
          1197,
          1666,
          1880,
          1155,
          1835,
          1745,
          1458,
          1874,
          1554,
          1454,
          1112,
          983,
          1110,
          1190,
          1369,
          1197,
          947,
          1518,
          1420,
          1183,
          1302,
          983,
          1316,
          1183,
          1154,
          1183,
          1183,
          947,
          947,
          592,
          1122,
          592,
          1019,
          758,
          1313,
          1083,
          1274,
          625,
          450
         ]
        },
        {
         "line": {
          "color": "rgb(210,105,30)",
          "width": 1.5
         },
         "mode": "lines",
         "name": "ALK Electrolysis - Learning Curve",
         "type": "scatter",
         "x": [
          0.08863199999999999,
          0.09727291176689669,
          0.10675624338399757,
          0.11716412405516008,
          0.1285866899253467,
          0.14112286469340146,
          0.1548812163283345,
          0.16998089730859878,
          0.18655267652718277,
          0.20474007179920425,
          0.22470059277994514,
          0.24660710505746225,
          0.2706493272333283,
          0.297035473956782,
          0.32599405914157875,
          0.3577758749820753,
          0.3926561639075693,
          0.4309370022848309,
          0.4729499165125837,
          0.5190587541642943,
          0.5696628350444393,
          0.6252004094475807,
          0.6861524535700675,
          0.7530468349440482,
          0.8264628839680164,
          0.9070364111250552,
          0.995465213339766,
          1.0925151171610035,
          1.1990266111066337,
          1.3159221246089083,
          1.4442140165988535,
          1.5850133429137991,
          1.7395394784570806,
          1.9091306774414334,
          2.0952556631717254,
          2.299526347738897,
          2.5237117917824254,
          2.7697535252180794,
          3.039782361614195,
          3.336136851835302,
          3.6613835367685263,
          4.018339174528986,
          4.410095134640114,
          4.840044170451626,
          5.311909801654298,
          5.82977856135518,
          6.398135386984935,
          7.021902461535845,
          7.706481841510189,
          8.457802240752919,
          9.282370375334194,
          10.187327314147694,
          11.18051032324201,
          12.27052073948008,
          13.466798461338133,
          14.77970370196233,
          16.220606712495023,
          17.801986252708506,
          19.53753766173869,
          21.442291464851632,
          23.53274354342217,
          25.82699799544537,
          28.344923923806043,
          31.1083275101519,
          34.14114086459442,
          37.46962928674617,
          41.12261873305338,
          45.1317454603759,
          49.53173000782097,
          54.3606778896168,
          59.66040960313872,
          65.47682281008025,
          71.86028982739487,
          78.8660938704284,
          86.55490782627018,
          94.99331970368097,
          104.25440931019016,
          114.418381150601,
          125.57325902804361,
          137.81564836308058,
          151.25157283283247,
          165.99739257573398,
          182.18081191391704,
          199.9419853204719,
          219.4347312096806,
          240.82786406209908,
          264.3066564211884,
          290.0744434229367,
          318.35438375429874,
          349.3913922910088,
          383.4542611521401,
          420.8379875405351,
          461.86632852907377,
          506.8946049181909,
          556.3127784470978,
          610.5488290085041,
          670.0724611147924,
          735.3991717150303,
          807.0947145916272,
          885.7799999999999
         ],
         "y": [
          1190.5204775595096,
          1178.8782413821698,
          1167.3498559665463,
          1155.9342079529936,
          1144.6301948695377,
          1133.4367250254043,
          1122.3527174055885,
          1111.377101566455,
          1100.5088175323592,
          1089.7468156932803,
          1079.0900567034537,
          1068.537511380996,
          1058.088160608512,
          1047.740995234672,
          1037.4950159767525,
          1027.3492333241306,
          1017.3026674427215,
          1007.3543480803492,
          997.5033144730459,
          987.7486152522641,
          978.0893083529988,
          968.5244609228065,
          959.0531492317143,
          949.6744585830111,
          940.3874832249093,
          931.1913262630721,
          922.0850995739953,
          913.0679237192359,
          904.1389278604802,
          895.2972496754426,
          886.5420352745856,
          877.8724391186553,
          869.2876239370232,
          860.7867606468263,
          852.3690282728977,
          844.033613868481,
          835.7797124367189,
          827.6065268529111,
          819.5132677875307,
          811.4991536299949,
          803.5634104131803,
          795.7052717386767,
          787.9239787027718,
          780.2187798231597,
          772.5889309663659,
          765.0336952758825,
          757.552343101006,
          750.1441519263707,
          742.8084063021712,
          735.544397775068,
          728.3514248197679,
          721.2287927712746,
          714.1758137577978,
          707.1918066343281,
          700.2760969168494,
          693.4280167172006,
          686.6469046785777,
          679.9321059116596,
          673.2829719313634,
          666.6988605942155,
          660.1791360363377,
          653.723168612037,
          647.3303348329978,
          641.0000173080684,
          634.731604683636,
          628.5244915845844,
          622.3780785558305,
          616.2917720044309,
          610.2649841422555,
          604.297132929222,
          598.3876420170848,
          592.5359406937733,
          586.7414638282762,
          581.003651816063,
          575.3219505250397,
          569.695811242034,
          564.1246906198022,
          558.608050624556,
          553.1453584840007,
          547.7360866358832,
          542.3797126770422,
          537.0757193129565,
          531.8235943077874,
          526.6228304349094,
          521.472925427924,
          516.3733819321535,
          511.3237074566086,
          506.32341432642573,
          501.3720196357698,
          496.46904520119716,
          491.6140175154749,
          486.80646770185155,
          482.04593146877517,
          477.331949065054,
          472.664065235456,
          468.0418291767422,
          463.4647944941302,
          458.9325191581831,
          454.4445654621208,
          450.0004999795478
         ]
        },
        {
         "legendgroup": "group2",
         "legendgrouptitle": {
          "font": {
           "color": "rgb(10,10,10)"
          },
          "text": "CO<sub>2</sub> capacity"
         },
         "marker": {
          "color": "rgb(105,105,105)",
          "size": 6,
          "symbol": "circle-open"
         },
         "mode": "markers",
         "name": "Carbon Capture - Prospective",
         "type": "scatter",
         "x": [
          32.86,
          38.96,
          40.66,
          203.594,
          366.528,
          529.462,
          692.396,
          855.33,
          1018.264,
          1181.198,
          1344.132,
          1507.066,
          1670,
          1966.5,
          2263,
          2559.5,
          2856,
          3152.5,
          3449,
          3745.5,
          4042,
          4338.5,
          4635,
          4931.5,
          5228,
          5524.5,
          5821,
          6117.5,
          6414,
          6710.5,
          7007,
          7303.5,
          7600
         ],
         "xaxis": "x2",
         "y": [
          70.75,
          69.16,
          68.77,
          55.49,
          51.31,
          48.86,
          47.15,
          45.84,
          44.79,
          43.91,
          43.16,
          42.51,
          41.93,
          41.03,
          40.27,
          39.61,
          39.04,
          38.53,
          38.07,
          37.65,
          37.27,
          36.92,
          36.6,
          36.3,
          36.02,
          35.76,
          35.51,
          35.27,
          35.05,
          34.84,
          34.64,
          34.45,
          34.27
         ],
         "yaxis": "y2"
        },
        {
         "legendgroup": "group2",
         "marker": {
          "color": "rgb(105,105,105)",
          "size": 6,
          "symbol": "circle"
         },
         "mode": "markers+text",
         "name": "Carbon Capture - Historical",
         "textfont": {
          "size": 10
         },
         "type": "scatter",
         "x": [
          13.06,
          18.06,
          18.06,
          18.06,
          25.96,
          25.96,
          25.96,
          26.96,
          32.26,
          1018
         ],
         "xaxis": "x2",
         "y": [
          79.78,
          71.5,
          65.64,
          62.21,
          91.9,
          106.24,
          110.08,
          112.2,
          66.3,
          43.86
         ],
         "yaxis": "y2"
        },
        {
         "legendgroup": "group2",
         "line": {
          "color": "rgb(105,105,105)",
          "width": 1.5
         },
         "mode": "lines",
         "name": "Carbon Capture - Learning Curve",
         "type": "scatter",
         "x": [
          13.059999999999999,
          13.927435662841141,
          14.852485768957063,
          15.83897702759672,
          16.890990315242895,
          18.01287755721426,
          19.209279730531144,
          20.485146062518446,
          21.84575450456579,
          23.296733565739835,
          24.844085596569162,
          26.49421161932123,
          28.253937807488104,
          30.130543724020328,
          32.131792435123664,
          34.26596262419223,
          36.54188283872561,
          38.968968011901225,
          41.557258409882756,
          44.31746116598055,
          47.26099457348047,
          50.40003532037013,
          53.74756886136111,
          57.317443135584284,
          61.12442585217502,
          65.18426558072522,
          69.5137568993186,
          74.13080986965078,
          79.05452412663632,
          84.30526788899311,
          89.90476221765229,
          95.87617087055007,
          102.24419612550913,
          109.03518096760644,
          116.27721806375047,
          124.00026597527064,
          132.23627308926274,
          141.01930978136278,
          150.38570935667647,
          160.37421835190187,
          171.02615682040968,
          182.38558926334116,
          194.49950691382517,
          207.4180221283787,
          221.1945756896443,
          235.88615787802192,
          251.5535442267181,
          268.2615469354732,
          286.07928298300476,
          305.08046004728357,
          325.3436814164257,
          346.9527711515431,
          369.9971208466741,
          394.5720594202536,
          420.77924746786476,
          448.72709780761085,
          478.5312239578043,
          510.3149184022163,
          544.2096626213548,
          580.355670999648,
          618.902470858545,
          660.0095210149931,
          703.8468714241129,
          750.5958666348663,
          800.4498959687281,
          853.6151935246819,
          910.3116913199616,
          970.7739290957786,
          1035.252024551683,
          1104.0127080221748,
          1177.3404258757932,
          1255.5385172011563,
          1338.9304686476316,
          1427.86125261161,
          1522.6987543041319,
          1623.8352936033039,
          1731.689247987042,
          1846.706783259823,
          1969.36369923304,
          2100.167397994104,
          2239.6589829065365,
          2388.4154970241207,
          2547.0523101788813,
          2716.2256646177084,
          2896.635389718307,
          3089.027797014586,
          3294.1987675075466,
          3512.997044033073,
          3746.3277423064114,
          3995.1560951676456,
          4260.511445517231,
          4543.491504459383,
          4845.266892268251,
          5167.085980961739,
          5510.280058515545,
          5876.268836080534,
          6266.566320985461,
          6682.787079820223,
          7126.65291750859,
          7600
         ],
         "xaxis": "x2",
         "y": [
          79.99950000389927,
          79.31734202007797,
          78.64100081654742,
          77.97042679345866,
          77.30557077390206,
          76.64638400030087,
          75.9928181308355,
          75.34482523589864,
          74.70235779457985,
          74.06536869118091,
          73.4338112117605,
          72.80763904070835,
          72.18680625734868,
          71.57126733257277,
          70.9609771254997,
          70.35589088016616,
          69.75596422224423,
          69.1611531557871,
          68.57141406000267,
          67.98670368605444,
          67.4069791538902,
          66.83219794909692,
          66.26231791978324,
          65.69729727348819,
          65.13709457411625,
          64.58166873889866,
          64.03097903538053,
          63.48498507843393,
          62.94364682729588,
          62.40692458263217,
          61.87477898362592,
          61.34717100509105,
          60.82406195461032,
          60.30541346969779,
          59.79118751498566,
          59.28134637943462,
          58.77585267356852,
          58.2746693267323,
          57.77775958437338,
          57.28508700534643,
          56.796615459240655,
          56.31230912373031,
          55.83213248194764,
          55.35605031987822,
          54.88402772377853,
          54.41603007761545,
          53.95202306052791,
          53.49197264430961,
          53.03584509091381,
          52.58360694997903,
          52.135225056375916,
          51.6906665277752,
          51.24989876223605,
          50.812889435815414,
          50.37960650019731,
          49.950018180342695,
          49.52409297215917,
          49.10179964019058,
          48.683107215326466,
          48.26798499253077,
          47.85640252859015,
          47.44832963988145,
          47.04373640015805,
          46.6425931383553,
          46.24487043641459,
          45.850539127125856,
          45.45957029198868,
          45.07193525909156,
          44.68760560100911,
          44.30655313271742,
          43.92874990952713,
          43.554168225033926,
          43.182780609086905,
          42.814559825773806,
          42.449478871423814,
          42.08751097262716,
          41.72862958427166,
          41.37280838759612,
          41.02002128826009,
          40.670242414430355,
          40.3234461148835,
          39.97960695712483,
          39.63869972552325,
          39.30069941946204,
          38.965581251505476,
          38.633320645580994,
          38.30389323517685,
          37.97727486155526,
          37.653441571980665,
          37.332369617963145,
          37.014035453516875,
          36.69841573343324,
          36.38548731156892,
          36.075227239148404,
          35.76761276308102,
          35.46262132429234,
          35.160230556069806,
          34.86041828242244,
          34.56316251645459,
          34.26844145875344
         ],
         "yaxis": "y2"
        }
       ],
       "layout": {
        "annotations": [
         {
          "font": {
           "color": "rgb(10,10,10)",
           "family": "Times New Roman",
           "size": 10
          },
          "showarrow": true,
          "text": "2010",
          "x": 2.250420002308894,
          "y": 3.281941933440825
         },
         {
          "font": {
           "color": "rgb(10,10,10)",
           "family": "Times New Roman",
           "size": 10
          },
          "showarrow": true,
          "text": "2020",
          "x": 2.843855422623161,
          "y": 3.1192558892779365
         },
         {
          "font": {
           "color": "rgb(10,10,10)",
           "family": "Times New Roman",
           "size": 10
          },
          "showarrow": true,
          "text": "2050",
          "x": 3.8386934721408297,
          "y": 2.923280294697208
         },
         {
          "font": {
           "color": "rgb(10,10,10)",
           "family": "Times New Roman",
           "size": 10
          },
          "showarrow": true,
          "text": "2010",
          "x": 0.48515334990365233,
          "y": 3.659821158055705
         },
         {
          "font": {
           "color": "rgb(10,10,10)",
           "family": "Times New Roman",
           "size": 10
          },
          "showarrow": true,
          "text": "2020",
          "x": 1.5361416229050349,
          "y": 3.4902394852462875
         },
         {
          "font": {
           "color": "rgb(10,10,10)",
           "family": "Times New Roman",
           "size": 10
          },
          "showarrow": true,
          "text": "2050",
          "x": 3.135917807416897,
          "y": 3.0633333589517497
         },
         {
          "font": {
           "color": "rgb(10,10,10)",
           "family": "Times New Roman",
           "size": 10
          },
          "showarrow": true,
          "text": "2013",
          "x": 1.4313637641589874,
          "y": 3.5790973265526436
         },
         {
          "font": {
           "color": "rgb(10,10,10)",
           "family": "Times New Roman",
           "size": 10
          },
          "showarrow": true,
          "text": "2020",
          "x": 1.968482948553935,
          "y": 3.3879234669734366
         },
         {
          "font": {
           "color": "rgb(10,10,10)",
           "family": "Times New Roman",
           "size": 10
          },
          "showarrow": true,
          "text": "2050",
          "x": 3.2908845508834896,
          "y": 2.8159096508867747
         },
         {
          "font": {
           "color": "rgb(10,10,10)",
           "family": "Times New Roman",
           "size": 10
          },
          "showarrow": true,
          "text": "2010",
          "x": 0.1024337056813363,
          "y": 3.9459607035775686
         },
         {
          "font": {
           "color": "rgb(10,10,10)",
           "family": "Times New Roman",
           "size": 10
          },
          "showarrow": true,
          "text": "2020",
          "x": 0.8115079799453266,
          "y": 3.6481647785740012
         },
         {
          "font": {
           "color": "rgb(10,10,10)",
           "family": "Times New Roman",
           "size": 10
          },
          "showarrow": true,
          "text": "2050",
          "x": 2.629409599102719,
          "y": 2.760422483423212
         },
         {
          "font": {
           "color": "rgb(10,10,10)",
           "family": "Times New Roman",
           "size": 10
          },
          "showarrow": true,
          "text": "1985",
          "x": -1.6989700043360187,
          "y": 4.539665636066127
         },
         {
          "font": {
           "color": "rgb(10,10,10)",
           "family": "Times New Roman",
           "size": 10
          },
          "showarrow": true,
          "text": "2008",
          "x": 0.05804623039528174,
          "y": 3.6251065754034677
         },
         {
          "font": {
           "color": "rgb(10,10,10)",
           "family": "Times New Roman",
           "size": 10
          },
          "showarrow": true,
          "text": "2050",
          "x": 1.3821251522253217,
          "y": 2.8208317472884548
         },
         {
          "font": {
           "color": "rgb(10,10,10)",
           "family": "Times New Roman",
           "size": 10
          },
          "showarrow": true,
          "text": "2018",
          "x": 0.3372595397502757,
          "y": 3.4448142835328017
         },
         {
          "font": {
           "color": "rgb(10,10,10)",
           "family": "Times New Roman",
           "size": 10
          },
          "showarrow": true,
          "text": "2018",
          "x": 0.7937903846908186,
          "y": 2.9556877503135057
         },
         {
          "font": {
           "color": "rgb(10,10,10)",
           "family": "Times New Roman",
           "size": 10
          },
          "showarrow": true,
          "text": "2018",
          "x": 0.7937903846908186,
          "y": 2.9556877503135057
         },
         {
          "font": {
           "color": "rgb(10,10,10)",
           "family": "Times New Roman",
           "size": 10
          },
          "showarrow": true,
          "text": "2050",
          "x": 1.3898214629105228,
          "y": 2.5998830720736876
         },
         {
          "font": {
           "color": "rgb(10,10,10)",
           "family": "Times New Roman",
           "size": 10
          },
          "showarrow": true,
          "text": "2012",
          "x": -4.218244625347531,
          "y": 4.1596574112477045
         },
         {
          "font": {
           "color": "rgb(10,10,10)",
           "family": "Times New Roman",
           "size": 10
          },
          "showarrow": true,
          "text": "2015",
          "x": -3.895854449445992,
          "y": 3.955543442459743
         },
         {
          "font": {
           "color": "rgb(10,10,10)",
           "family": "Times New Roman",
           "size": 10
          },
          "showarrow": true,
          "text": "2017",
          "x": -3.4905286478974515,
          "y": 3.733678655677088
         },
         {
          "font": {
           "color": "rgb(10,10,10)",
           "family": "Times New Roman",
           "size": 10
          },
          "showarrow": true,
          "text": "2018",
          "x": -3.3265183029266527,
          "y": 3.38524868240322
         },
         {
          "font": {
           "color": "rgb(10,10,10)",
           "family": "Times New Roman",
           "size": 10
          },
          "showarrow": true,
          "text": "2020",
          "x": -2.930442895417305,
          "y": 3.38147609027503
         },
         {
          "font": {
           "color": "rgb(10,10,10)",
           "family": "Times New Roman",
           "size": 10
          },
          "showarrow": true,
          "text": "2050",
          "x": 2.92272545799326,
          "y": 2.8750612633917
         },
         {
          "font": {
           "color": "rgb(10,10,10)",
           "family": "Times New Roman",
           "size": 10
          },
          "showarrow": true,
          "text": "2003",
          "x": -2.285494210603541,
          "y": 3.600537294364469
         },
         {
          "font": {
           "color": "rgb(10,10,10)",
           "family": "Times New Roman",
           "size": 10
          },
          "showarrow": true,
          "text": "2004",
          "x": -2.2853685188070583,
          "y": 3.867054800476702
         },
         {
          "font": {
           "color": "rgb(10,10,10)",
           "family": "Times New Roman",
           "size": 10
          },
          "showarrow": true,
          "text": "2005",
          "x": -2.2836042982570803,
          "y": 3.4604467838807205
         },
         {
          "font": {
           "color": "rgb(10,10,10)",
           "family": "Times New Roman",
           "size": 10
          },
          "showarrow": true,
          "text": "2008",
          "x": -2.2697589113934504,
          "y": 3.484299839346786
         },
         {
          "font": {
           "color": "rgb(10,10,10)",
           "family": "Times New Roman",
           "size": 10
          },
          "showarrow": true,
          "text": "2009",
          "x": -2.2692177243336107,
          "y": 3.4063698354692673
         },
         {
          "font": {
           "color": "rgb(10,10,10)",
           "family": "Times New Roman",
           "size": 10
          },
          "showarrow": true,
          "text": "2010",
          "x": -2.268644962630191,
          "y": 3.402089350572097
         },
         {
          "font": {
           "color": "rgb(10,10,10)",
           "family": "Times New Roman",
           "size": 10
          },
          "showarrow": true,
          "text": "2013",
          "x": -2.177786138988302,
          "y": 3.1280760126687155
         },
         {
          "font": {
           "color": "rgb(10,10,10)",
           "family": "Times New Roman",
           "size": 10
          },
          "showarrow": true,
          "text": "2014",
          "x": -1.986897220069364,
          "y": 3.5538830266438746
         },
         {
          "font": {
           "color": "rgb(10,10,10)",
           "family": "Times New Roman",
           "size": 10
          },
          "showarrow": true,
          "text": "2015",
          "x": -1.9271511083665063,
          "y": 3.37675939540488
         },
         {
          "font": {
           "color": "rgb(10,10,10)",
           "family": "Times New Roman",
           "size": 10
          },
          "showarrow": true,
          "text": "2016",
          "x": -1.8867922301772648,
          "y": 3.3740147402919116
         },
         {
          "font": {
           "color": "rgb(10,10,10)",
           "family": "Times New Roman",
           "size": 10
          },
          "showarrow": true,
          "text": "2017",
          "x": -1.8755349025572396,
          "y": 3.263399331334002
         },
         {
          "font": {
           "color": "rgb(10,10,10)",
           "family": "Times New Roman",
           "size": 10
          },
          "showarrow": true,
          "text": "2018",
          "x": -1.6287288985124155,
          "y": 3.0729847446279304
         },
         {
          "font": {
           "color": "rgb(10,10,10)",
           "family": "Times New Roman",
           "size": 10
          },
          "showarrow": true,
          "text": "2020",
          "x": -1.2863868301303814,
          "y": 3.1699681739968923
         },
         {
          "font": {
           "color": "rgb(10,10,10)",
           "family": "Times New Roman",
           "size": 10
          },
          "showarrow": true,
          "text": "2030",
          "x": 2.054574755294823,
          "y": 3.031408464251624
         },
         {
          "font": {
           "color": "rgb(10,10,10)",
           "family": "Times New Roman",
           "size": 10
          },
          "showarrow": true,
          "text": "2050",
          "x": 2.8248804726501304,
          "y": 2.7403626894942437
         },
         {
          "font": {
           "color": "rgb(10,10,10)",
           "family": "Times New Roman",
           "size": 10
          },
          "showarrow": true,
          "text": "2015",
          "x": -1.0524094506374153,
          "y": 3.162564406523019
         },
         {
          "font": {
           "color": "rgb(10,10,10)",
           "family": "Times New Roman",
           "size": 10
          },
          "showarrow": true,
          "text": "2016",
          "x": -1.0403052713964194,
          "y": 3.0729847446279304
         },
         {
          "font": {
           "color": "rgb(10,10,10)",
           "family": "Times New Roman",
           "size": 10
          },
          "showarrow": true,
          "text": "2017",
          "x": -1.0299787341716342,
          "y": 3.0729847446279304
         },
         {
          "font": {
           "color": "rgb(10,10,10)",
           "family": "Times New Roman",
           "size": 10
          },
          "showarrow": true,
          "text": "2018",
          "x": -1.0142368200090073,
          "y": 2.9763499790032735
         },
         {
          "font": {
           "color": "rgb(10,10,10)",
           "family": "Times New Roman",
           "size": 10
          },
          "showarrow": true,
          "text": "2019",
          "x": -1.0017711853534879,
          "y": 2.77232170672292
         },
         {
          "font": {
           "color": "rgb(10,10,10)",
           "family": "Times New Roman",
           "size": 10
          },
          "showarrow": true,
          "text": "2020",
          "x": -0.931324441179666,
          "y": 2.77232170672292
         },
         {
          "font": {
           "color": "rgb(10,10,10)",
           "family": "Times New Roman",
           "size": 10
          },
          "showarrow": true,
          "text": "2030",
          "x": 2.2963097129703347,
          "y": 2.7958800173440754
         },
         {
          "font": {
           "color": "rgb(10,10,10)",
           "family": "Times New Roman",
           "size": 10
          },
          "showarrow": true,
          "text": "2050",
          "x": 2.947325870137387,
          "y": 2.6532125137753435
         },
         {
          "font": {
           "color": "rgb(10,10,10)",
           "family": "Times New Roman",
           "size": 10
          },
          "showarrow": true,
          "text": "2050",
          "x": 3.8808135922807914,
          "xref": "x2",
          "y": 1.5349141044298669,
          "yref": "y2"
         },
         {
          "font": {
           "color": "rgb(10,10,10)",
           "family": "Times New Roman",
           "size": 10
          },
          "showarrow": true,
          "text": "2009",
          "x": 1.115943176939055,
          "xref": "x2",
          "y": 1.9018940319738207,
          "yref": "y2"
         },
         {
          "font": {
           "color": "rgb(10,10,10)",
           "family": "Times New Roman",
           "size": 10
          },
          "showarrow": true,
          "text": "2011",
          "x": 1.256717745977487,
          "xref": "x2",
          "y": 1.8171685723810556,
          "yref": "y2"
         },
         {
          "font": {
           "color": "rgb(10,10,10)",
           "family": "Times New Roman",
           "size": 10
          },
          "showarrow": true,
          "text": "2013",
          "x": 1.4143046881283317,
          "xref": "x2",
          "y": 2.0417084208914362,
          "yref": "y2"
         },
         {
          "font": {
           "color": "rgb(10,10,10)",
           "family": "Times New Roman",
           "size": 10
          },
          "showarrow": true,
          "text": "2014",
          "x": 1.4307198878632823,
          "xref": "x2",
          "y": 2.0499928569201424,
          "yref": "y2"
         },
         {
          "font": {
           "color": "rgb(10,10,10)",
           "family": "Times New Roman",
           "size": 10
          },
          "showarrow": true,
          "text": "2017",
          "x": 1.5086643630529426,
          "xref": "x2",
          "y": 1.8215135284047732,
          "yref": "y2"
         },
         {
          "font": {
           "color": "rgb(10,10,10)",
           "family": "Times New Roman",
           "size": 10
          },
          "showarrow": true,
          "text": "2026",
          "x": 3.00774777800074,
          "xref": "x2",
          "y": 1.6420686273415042,
          "yref": "y2"
         }
        ],
        "font": {
         "color": "rgb(10,10,10)",
         "family": "Times New Roman",
         "size": 16
        },
        "legend": {
         "x": 1.2
        },
        "template": {
         "data": {
          "bar": [
           {
            "error_x": {
             "color": "#2a3f5f"
            },
            "error_y": {
             "color": "#2a3f5f"
            },
            "marker": {
             "line": {
              "color": "#E5ECF6",
              "width": 0.5
             },
             "pattern": {
              "fillmode": "overlay",
              "size": 10,
              "solidity": 0.2
             }
            },
            "type": "bar"
           }
          ],
          "barpolar": [
           {
            "marker": {
             "line": {
              "color": "#E5ECF6",
              "width": 0.5
             },
             "pattern": {
              "fillmode": "overlay",
              "size": 10,
              "solidity": 0.2
             }
            },
            "type": "barpolar"
           }
          ],
          "carpet": [
           {
            "aaxis": {
             "endlinecolor": "#2a3f5f",
             "gridcolor": "white",
             "linecolor": "white",
             "minorgridcolor": "white",
             "startlinecolor": "#2a3f5f"
            },
            "baxis": {
             "endlinecolor": "#2a3f5f",
             "gridcolor": "white",
             "linecolor": "white",
             "minorgridcolor": "white",
             "startlinecolor": "#2a3f5f"
            },
            "type": "carpet"
           }
          ],
          "choropleth": [
           {
            "colorbar": {
             "outlinewidth": 0,
             "ticks": ""
            },
            "type": "choropleth"
           }
          ],
          "contour": [
           {
            "colorbar": {
             "outlinewidth": 0,
             "ticks": ""
            },
            "colorscale": [
             [
              0,
              "#0d0887"
             ],
             [
              0.1111111111111111,
              "#46039f"
             ],
             [
              0.2222222222222222,
              "#7201a8"
             ],
             [
              0.3333333333333333,
              "#9c179e"
             ],
             [
              0.4444444444444444,
              "#bd3786"
             ],
             [
              0.5555555555555556,
              "#d8576b"
             ],
             [
              0.6666666666666666,
              "#ed7953"
             ],
             [
              0.7777777777777778,
              "#fb9f3a"
             ],
             [
              0.8888888888888888,
              "#fdca26"
             ],
             [
              1,
              "#f0f921"
             ]
            ],
            "type": "contour"
           }
          ],
          "contourcarpet": [
           {
            "colorbar": {
             "outlinewidth": 0,
             "ticks": ""
            },
            "type": "contourcarpet"
           }
          ],
          "heatmap": [
           {
            "colorbar": {
             "outlinewidth": 0,
             "ticks": ""
            },
            "colorscale": [
             [
              0,
              "#0d0887"
             ],
             [
              0.1111111111111111,
              "#46039f"
             ],
             [
              0.2222222222222222,
              "#7201a8"
             ],
             [
              0.3333333333333333,
              "#9c179e"
             ],
             [
              0.4444444444444444,
              "#bd3786"
             ],
             [
              0.5555555555555556,
              "#d8576b"
             ],
             [
              0.6666666666666666,
              "#ed7953"
             ],
             [
              0.7777777777777778,
              "#fb9f3a"
             ],
             [
              0.8888888888888888,
              "#fdca26"
             ],
             [
              1,
              "#f0f921"
             ]
            ],
            "type": "heatmap"
           }
          ],
          "heatmapgl": [
           {
            "colorbar": {
             "outlinewidth": 0,
             "ticks": ""
            },
            "colorscale": [
             [
              0,
              "#0d0887"
             ],
             [
              0.1111111111111111,
              "#46039f"
             ],
             [
              0.2222222222222222,
              "#7201a8"
             ],
             [
              0.3333333333333333,
              "#9c179e"
             ],
             [
              0.4444444444444444,
              "#bd3786"
             ],
             [
              0.5555555555555556,
              "#d8576b"
             ],
             [
              0.6666666666666666,
              "#ed7953"
             ],
             [
              0.7777777777777778,
              "#fb9f3a"
             ],
             [
              0.8888888888888888,
              "#fdca26"
             ],
             [
              1,
              "#f0f921"
             ]
            ],
            "type": "heatmapgl"
           }
          ],
          "histogram": [
           {
            "marker": {
             "pattern": {
              "fillmode": "overlay",
              "size": 10,
              "solidity": 0.2
             }
            },
            "type": "histogram"
           }
          ],
          "histogram2d": [
           {
            "colorbar": {
             "outlinewidth": 0,
             "ticks": ""
            },
            "colorscale": [
             [
              0,
              "#0d0887"
             ],
             [
              0.1111111111111111,
              "#46039f"
             ],
             [
              0.2222222222222222,
              "#7201a8"
             ],
             [
              0.3333333333333333,
              "#9c179e"
             ],
             [
              0.4444444444444444,
              "#bd3786"
             ],
             [
              0.5555555555555556,
              "#d8576b"
             ],
             [
              0.6666666666666666,
              "#ed7953"
             ],
             [
              0.7777777777777778,
              "#fb9f3a"
             ],
             [
              0.8888888888888888,
              "#fdca26"
             ],
             [
              1,
              "#f0f921"
             ]
            ],
            "type": "histogram2d"
           }
          ],
          "histogram2dcontour": [
           {
            "colorbar": {
             "outlinewidth": 0,
             "ticks": ""
            },
            "colorscale": [
             [
              0,
              "#0d0887"
             ],
             [
              0.1111111111111111,
              "#46039f"
             ],
             [
              0.2222222222222222,
              "#7201a8"
             ],
             [
              0.3333333333333333,
              "#9c179e"
             ],
             [
              0.4444444444444444,
              "#bd3786"
             ],
             [
              0.5555555555555556,
              "#d8576b"
             ],
             [
              0.6666666666666666,
              "#ed7953"
             ],
             [
              0.7777777777777778,
              "#fb9f3a"
             ],
             [
              0.8888888888888888,
              "#fdca26"
             ],
             [
              1,
              "#f0f921"
             ]
            ],
            "type": "histogram2dcontour"
           }
          ],
          "mesh3d": [
           {
            "colorbar": {
             "outlinewidth": 0,
             "ticks": ""
            },
            "type": "mesh3d"
           }
          ],
          "parcoords": [
           {
            "line": {
             "colorbar": {
              "outlinewidth": 0,
              "ticks": ""
             }
            },
            "type": "parcoords"
           }
          ],
          "pie": [
           {
            "automargin": true,
            "type": "pie"
           }
          ],
          "scatter": [
           {
            "marker": {
             "colorbar": {
              "outlinewidth": 0,
              "ticks": ""
             }
            },
            "type": "scatter"
           }
          ],
          "scatter3d": [
           {
            "line": {
             "colorbar": {
              "outlinewidth": 0,
              "ticks": ""
             }
            },
            "marker": {
             "colorbar": {
              "outlinewidth": 0,
              "ticks": ""
             }
            },
            "type": "scatter3d"
           }
          ],
          "scattercarpet": [
           {
            "marker": {
             "colorbar": {
              "outlinewidth": 0,
              "ticks": ""
             }
            },
            "type": "scattercarpet"
           }
          ],
          "scattergeo": [
           {
            "marker": {
             "colorbar": {
              "outlinewidth": 0,
              "ticks": ""
             }
            },
            "type": "scattergeo"
           }
          ],
          "scattergl": [
           {
            "marker": {
             "colorbar": {
              "outlinewidth": 0,
              "ticks": ""
             }
            },
            "type": "scattergl"
           }
          ],
          "scattermapbox": [
           {
            "marker": {
             "colorbar": {
              "outlinewidth": 0,
              "ticks": ""
             }
            },
            "type": "scattermapbox"
           }
          ],
          "scatterpolar": [
           {
            "marker": {
             "colorbar": {
              "outlinewidth": 0,
              "ticks": ""
             }
            },
            "type": "scatterpolar"
           }
          ],
          "scatterpolargl": [
           {
            "marker": {
             "colorbar": {
              "outlinewidth": 0,
              "ticks": ""
             }
            },
            "type": "scatterpolargl"
           }
          ],
          "scatterternary": [
           {
            "marker": {
             "colorbar": {
              "outlinewidth": 0,
              "ticks": ""
             }
            },
            "type": "scatterternary"
           }
          ],
          "surface": [
           {
            "colorbar": {
             "outlinewidth": 0,
             "ticks": ""
            },
            "colorscale": [
             [
              0,
              "#0d0887"
             ],
             [
              0.1111111111111111,
              "#46039f"
             ],
             [
              0.2222222222222222,
              "#7201a8"
             ],
             [
              0.3333333333333333,
              "#9c179e"
             ],
             [
              0.4444444444444444,
              "#bd3786"
             ],
             [
              0.5555555555555556,
              "#d8576b"
             ],
             [
              0.6666666666666666,
              "#ed7953"
             ],
             [
              0.7777777777777778,
              "#fb9f3a"
             ],
             [
              0.8888888888888888,
              "#fdca26"
             ],
             [
              1,
              "#f0f921"
             ]
            ],
            "type": "surface"
           }
          ],
          "table": [
           {
            "cells": {
             "fill": {
              "color": "#EBF0F8"
             },
             "line": {
              "color": "white"
             }
            },
            "header": {
             "fill": {
              "color": "#C8D4E3"
             },
             "line": {
              "color": "white"
             }
            },
            "type": "table"
           }
          ]
         },
         "layout": {
          "annotationdefaults": {
           "arrowcolor": "#2a3f5f",
           "arrowhead": 0,
           "arrowwidth": 1
          },
          "autotypenumbers": "strict",
          "coloraxis": {
           "colorbar": {
            "outlinewidth": 0,
            "ticks": ""
           }
          },
          "colorscale": {
           "diverging": [
            [
             0,
             "#8e0152"
            ],
            [
             0.1,
             "#c51b7d"
            ],
            [
             0.2,
             "#de77ae"
            ],
            [
             0.3,
             "#f1b6da"
            ],
            [
             0.4,
             "#fde0ef"
            ],
            [
             0.5,
             "#f7f7f7"
            ],
            [
             0.6,
             "#e6f5d0"
            ],
            [
             0.7,
             "#b8e186"
            ],
            [
             0.8,
             "#7fbc41"
            ],
            [
             0.9,
             "#4d9221"
            ],
            [
             1,
             "#276419"
            ]
           ],
           "sequential": [
            [
             0,
             "#0d0887"
            ],
            [
             0.1111111111111111,
             "#46039f"
            ],
            [
             0.2222222222222222,
             "#7201a8"
            ],
            [
             0.3333333333333333,
             "#9c179e"
            ],
            [
             0.4444444444444444,
             "#bd3786"
            ],
            [
             0.5555555555555556,
             "#d8576b"
            ],
            [
             0.6666666666666666,
             "#ed7953"
            ],
            [
             0.7777777777777778,
             "#fb9f3a"
            ],
            [
             0.8888888888888888,
             "#fdca26"
            ],
            [
             1,
             "#f0f921"
            ]
           ],
           "sequentialminus": [
            [
             0,
             "#0d0887"
            ],
            [
             0.1111111111111111,
             "#46039f"
            ],
            [
             0.2222222222222222,
             "#7201a8"
            ],
            [
             0.3333333333333333,
             "#9c179e"
            ],
            [
             0.4444444444444444,
             "#bd3786"
            ],
            [
             0.5555555555555556,
             "#d8576b"
            ],
            [
             0.6666666666666666,
             "#ed7953"
            ],
            [
             0.7777777777777778,
             "#fb9f3a"
            ],
            [
             0.8888888888888888,
             "#fdca26"
            ],
            [
             1,
             "#f0f921"
            ]
           ]
          },
          "colorway": [
           "#636efa",
           "#EF553B",
           "#00cc96",
           "#ab63fa",
           "#FFA15A",
           "#19d3f3",
           "#FF6692",
           "#B6E880",
           "#FF97FF",
           "#FECB52"
          ],
          "font": {
           "color": "#2a3f5f"
          },
          "geo": {
           "bgcolor": "white",
           "lakecolor": "white",
           "landcolor": "#E5ECF6",
           "showlakes": true,
           "showland": true,
           "subunitcolor": "white"
          },
          "hoverlabel": {
           "align": "left"
          },
          "hovermode": "closest",
          "mapbox": {
           "style": "light"
          },
          "paper_bgcolor": "white",
          "plot_bgcolor": "#E5ECF6",
          "polar": {
           "angularaxis": {
            "gridcolor": "white",
            "linecolor": "white",
            "ticks": ""
           },
           "bgcolor": "#E5ECF6",
           "radialaxis": {
            "gridcolor": "white",
            "linecolor": "white",
            "ticks": ""
           }
          },
          "scene": {
           "xaxis": {
            "backgroundcolor": "#E5ECF6",
            "gridcolor": "white",
            "gridwidth": 2,
            "linecolor": "white",
            "showbackground": true,
            "ticks": "",
            "zerolinecolor": "white"
           },
           "yaxis": {
            "backgroundcolor": "#E5ECF6",
            "gridcolor": "white",
            "gridwidth": 2,
            "linecolor": "white",
            "showbackground": true,
            "ticks": "",
            "zerolinecolor": "white"
           },
           "zaxis": {
            "backgroundcolor": "#E5ECF6",
            "gridcolor": "white",
            "gridwidth": 2,
            "linecolor": "white",
            "showbackground": true,
            "ticks": "",
            "zerolinecolor": "white"
           }
          },
          "shapedefaults": {
           "line": {
            "color": "#2a3f5f"
           }
          },
          "ternary": {
           "aaxis": {
            "gridcolor": "white",
            "linecolor": "white",
            "ticks": ""
           },
           "baxis": {
            "gridcolor": "white",
            "linecolor": "white",
            "ticks": ""
           },
           "bgcolor": "#E5ECF6",
           "caxis": {
            "gridcolor": "white",
            "linecolor": "white",
            "ticks": ""
           }
          },
          "title": {
           "x": 0.05
          },
          "xaxis": {
           "automargin": true,
           "gridcolor": "white",
           "linecolor": "white",
           "ticks": "",
           "title": {
            "standoff": 15
           },
           "zerolinecolor": "white",
           "zerolinewidth": 2
          },
          "yaxis": {
           "automargin": true,
           "gridcolor": "white",
           "linecolor": "white",
           "ticks": "",
           "title": {
            "standoff": 15
           },
           "zerolinecolor": "white",
           "zerolinewidth": 2
          }
         }
        },
        "title": {
         "text": "",
         "y": 1
        },
        "xaxis": {
         "showgrid": false,
         "title": {
          "font": {
           "family": "Times New Roman"
          },
          "text": "Cumulative Capacity [GW]"
         },
         "type": "log"
        },
        "xaxis2": {
         "anchor": "y",
         "automargin": true,
         "color": "rgb(105,105,105)",
         "overlaying": "x",
         "showgrid": true,
         "side": "top",
         "title": {
          "font": {
           "color": "rgb(10,10,10)",
           "family": "Times New Roman"
          },
          "text": "CO<sub>2</sub> capture capacity [Mtpa]"
         },
         "type": "log"
        },
        "yaxis": {
         "showgrid": false,
         "title": {
          "font": {
           "family": "Times New Roman"
          },
          "text": "Investment Cost [USD<sub>2018</sub>/kW]"
         },
         "type": "log"
        },
        "yaxis2": {
         "anchor": "x",
         "automargin": true,
         "color": "rgb(105,105,105)",
         "overlaying": "y",
         "showgrid": true,
         "side": "right",
         "title": {
          "font": {
           "color": "rgb(10,10,10)",
           "family": "Times New Roman"
          },
          "text": "Cost of CO<sub>2</sub> capture [USD<sub>2018</sub>/tCO<sub>2</sub>]"
         },
         "type": "log"
        }
       }
      },
      "text/html": [
       "<div>                            <div id=\"2c8e0f96-0900-446a-9a26-3323bd0a4001\" class=\"plotly-graph-div\" style=\"height:525px; width:100%;\"></div>            <script type=\"text/javascript\">                require([\"plotly\"], function(Plotly) {                    window.PLOTLYENV=window.PLOTLYENV || {};                                    if (document.getElementById(\"2c8e0f96-0900-446a-9a26-3323bd0a4001\")) {                    Plotly.newPlot(                        \"2c8e0f96-0900-446a-9a26-3323bd0a4001\",                        [{\"legendgroup\":\"group\",\"legendgrouptitle\":{\"font\":{\"color\":\"rgb(10,10,10)\"},\"text\":\"Power capacity\"},\"marker\":{\"color\":\"rgb(0,0,205)\",\"size\":6,\"symbol\":\"circle-open\"},\"mode\":\"markers\",\"name\":\"Onshore Wind - Prospective\",\"type\":\"scatter\",\"x\":[541.0,595.0,698.0,903.212,1108.424,1313.635,1518.847,1724.059,1929.271,2134.482,2339.694,2544.906,2750.118,2957.488,3164.859,3372.229,3579.6,3786.97,3994.341,4201.711,4409.082,4616.452,4823.823,5031.193,5238.564,5445.934,5653.305,5860.675,6068.046,6275.417,6482.787,6690.158,6897.528],\"y\":[1520.39,1447.57,1315.53,1347.82,1284.84,1234.83,1193.64,1158.81,1128.75,1102.39,1078.99,1058.0,1038.99,1021.49,1005.44,990.64,976.91,964.14,952.2,941.0,930.47,920.53,911.12,902.2,893.73,885.65,877.95,870.59,863.54,856.79,850.3,844.07,838.07]},{\"legendgroup\":\"group\",\"marker\":{\"color\":\"rgb(0,0,205)\",\"size\":6,\"symbol\":\"circle\"},\"mode\":\"markers+text\",\"name\":\"Onshore Wind - Historical\",\"textfont\":{\"size\":10},\"type\":\"scatter\",\"x\":[178.0,216.0,261.0,292.0,340.0,405.0,453.0,495.0,541.0,595.0,698.0],\"y\":[1914.0,1883.0,1937.0,1797.0,1745.0,1611.0,1604.0,1599.0,1520.0,1448.0,1316.0]},{\"legendgroup\":\"group\",\"line\":{\"color\":\"rgb(0,0,205)\",\"width\":1.5},\"mode\":\"lines\",\"name\":\"Onshore Wind - Learning Curve\",\"type\":\"scatter\",\"x\":[178.00000000000003,184.69841505847967,191.6489018264855,198.86094615196652,206.3443908499881,214.10944913595645,222.16671856435596,230.52719549202163,239.20229008568927,248.20384189430047,257.5441360073189,267.23591982110855,277.2924204362567,287.7273627095853,298.55498798548706,309.7900735321514,321.4479527092035,333.5445358942865,346.0963321971399,359.1204719908134,372.63473029076613,386.65755101375584,401.2080721496289,416.3061518803629,431.9723956820102,448.22818444652603,465.09570366187256,482.5979736902033,500.7588811854742,519.6032116933404,539.1566834778407,559.4459826210312,580.4987994434731,602.3438662952794,625.0109967692971,648.5311263899429,672.936354833219,698.2599897355406,724.5365921511494,751.802023720165,780.0934956116404,809.4496193084215,839.910459303119,871.5175877771109,904.3141413372019,938.344879887365,973.6562477159322,1010.2964368815681,1048.3154529845783,1087.7651834132794,1128.6994681585907,1171.1741732934863,1215.2472672175961,1260.9788997710052,1308.431484325224,1357.669782963388,1408.7609948658865,1461.7748480221135,1516.7836943934512,1573.8626086573922,1633.0894906675535,1694.545171769421,1758.3135251169167,1824.4815801403524,1893.1396413219884,1964.3814114412894,2038.304119458122,2115.0086532083433,2194.599697092981,2277.1858749488374,2362.8798982955477,2451.7987201614,2544.063694697862,2639.8007428006485,2739.1405239633514,2842.21861459823,2949.175693067418,3060.1577316772236,3175.31619589739,3294.808251077353,3418.7969769415076,3547.451590156281,3680.9476752727473,3819.467424359949,3963.199885656049,4112.341221576513,4267.094976431656,4427.672354218693,4594.2925068676395,4767.182833334282,4946.579289948507,5132.72671244151,5325.879150091391,5526.300212443166,5734.263429076354,5950.052622911271,6173.9622975632665,6406.298039273847,6647.376933966996,6897.528],\"y\":[1970.111645221424,1953.1752957557574,1936.3845420658017,1919.7381325164308,1903.2348262323799,1886.873393005749,1870.6526132042968,1854.5712776805262,1838.6281876815572,1822.8221547597514,1807.1520006841426,1791.6165573525923,1776.2146667047211,1760.945180635584,1745.8069609100853,1730.7988790781326,1715.9198163905169,1701.1686637155192,1686.5443214562313,1672.0456994685887,1657.671716980108,1643.4213025093222,1629.293393785909,1615.2869376715119,1601.4008900812194,1587.6342159057583,1573.9858889343154,1560.4548917780485,1547.0402157942458,1533.7408610111383,1520.5558360533587,1507.484158068041,1494.524852651557,1481.676953776879,1468.9395037215706,1456.3115529963934,1443.792160274536,1431.380392321429,1419.0753239251994,1406.876037827685,1394.7816246560678,1382.7911828550855,1370.9038186198245,1359.1186458290956,1347.4347859793772,1335.8513681193313,1324.3675287848782,1312.9824119348325,1301.6951688870902,1290.5049582553654,1279.4109458864714,1268.4123047981402,1257.5082151173758,1246.6978640193379,1235.980445666756,1225.3551611498526,1214.8212184267945,1204.3778322646513,1194.0242241808598,1183.7596223851958,1173.5832617222406,1163.494383614345,1153.492236005082,1143.5760733031864,1133.7451563269758,1123.9987522492504,1114.336134542665,1104.7565829255711,1095.259383308328,1085.8438277400671,1076.5092143559227,1067.2548473247116,1058.0800367970644,1048.984098854001,1039.9663554559504,1031.0261343922054,1022.1627692308168,1013.3755992689131,1004.6639694834505,996.0272304823859,987.4647384562676,978.9758551302483,970.5599477164967,962.2163888670405,953.944556626988,945.7438343881793,937.613610843209,929.5532799398702,921.5622408359676,913.639897854534,905.7856604394249,897.9989431112973,890.2791654239659,882.6257519211341,875.0381320935018,867.5157403362288,860.0580159067852,852.6644028831387,845.3343501223277,838.0673112193643]},{\"marker\":{\"color\":\"rgb(30,144,255)\",\"size\":6,\"symbol\":\"circle-open\"},\"mode\":\"markers\",\"name\":\"Offshore Wind - Prospective\",\"type\":\"scatter\",\"x\":[23.626,28.355,34.367,66.02,97.67,129.32,160.97,192.62,224.28,255.93,287.58,319.23,350.88,401.71,452.54,503.37,554.2,605.03,655.86,706.69,757.52,808.35,859.18,910.01,960.84,1011.67,1062.5,1113.32,1164.15,1214.98,1265.81,1316.64,1367.47],\"y\":[4496.0,3615.0,3092.0,2820.0,2513.0,2314.0,2170.0,2058.0,1968.0,1893.0,1829.0,1774.0,1725.0,1658.0,1601.0,1552.0,1508.0,1470.0,1436.0,1404.0,1376.0,1350.0,1326.0,1304.0,1283.0,1264.0,1246.0,1229.0,1213.0,1198.0,1183.0,1170.0,1157.0]},{\"marker\":{\"color\":\"rgb(30,144,255)\",\"size\":6,\"symbol\":\"circle\"},\"mode\":\"markers+text\",\"name\":\"Offshore Wind - Historical\",\"textfont\":{\"size\":10},\"type\":\"scatter\",\"x\":[3.056,3.776,5.334,7.171,8.492,11.717,14.342,18.837,23.626,28.355,34.367],\"y\":[4569.0,5233.0,4631.0,5554.0,5153.0,5168.0,4069.0,4597.0,4496.0,3615.0,3092.0]},{\"line\":{\"color\":\"rgb(30,144,255)\",\"width\":1.5},\"mode\":\"lines\",\"name\":\"Offshore Wind - Learning Curve\",\"type\":\"scatter\",\"x\":[3.056,3.2503396705285033,3.4570379495455956,3.676880755867331,3.910703987106811,4.1593966979670345,4.423904480650365,4.705233060237787,5.004452118708478,5.3226993621395895,5.66118484655074,6.021195578841196,6.404100410313601,6.811355241390762,7.244508557315,7.705207315878327,8.19520320956995,8.716359325951483,9.270657231584156,9.860204506443042,10.487242757465882,11.154156141706178,11.863480431497628,12.617912656097957,13.420321356472138,14.273757492206242,15.181466042022711,16.14689834200516,17.17372520844577,18.265850895211603,19.42742793869924,20.662872946821967,21.976883392063357,23.374455472448474,24.860903108344687,26.441878147322686,28.123391853901712,29.91183776588837,31.814016004214537,33.837159128706574,35.98895963809576,38.27759921883237,40.711779853914166,43.30075691001323,46.05437432870654,48.9831020556166,52.09807584977646,55.41113962458492,58.93489048134234,62.682726606596745,66.66889821541683,70.90856173429204,75.41783742967564,80.2138707012906,85.31489727324895,90.74031253085906,96.51074526675582,102.64813611675633,109.17582098367234,116.11861976627901,123.50293073080883,131.35683088379633,139.71018272791454,148.59474780671698,158.04430747000995,168.0947913190371,178.78441381985488,190.15381960433854,202.24623801129013,215.1076474552506,228.786950247991,243.33615853739397,258.8105920707151,275.26908853416717,292.77422726859487,311.39256721185916,331.19489997265015,352.25651899797947,374.65750585779114,398.4830347352236,423.8236962802632,450.77584205816896,479.441950902342,509.93101856461413,542.3589721444934,576.8491108731386,613.532574928029,652.548844060888,694.0462679347585,738.1826301867152,785.1257483609135,835.0541119930809,888.1575612725987,944.6380088626242,1004.7102076227889,1068.60256715356,1136.5580222669548,1208.8349566857657,1285.7081854834269,1367.47],\"y\":[6959.219144504205,6834.207404939681,6711.4413102822255,6590.880520951991,6472.48542200805,6356.217110131399,6242.037380841691,6129.908715943699,6019.794271199283,5911.657864220721,5805.463962581605,5701.1776721413125,5598.7647255791135,5498.1914711343425,5399.42486154883,5302.432443207881,5207.182345476404,5113.643270226606,5021.784481553709,4931.575795676511,4842.987571019349,4755.990698472153,4670.5565918255425,4586.657178377742,4504.264889710145,4423.352652628669,4343.893880267821,4265.8624633545005,4189.232761628835,4113.979595419025,4040.0782373676066,3967.504404306335,3896.2342492769617,3826.244353695409,3757.5117196567044,3690.01376237808,3623.728302777888,3558.633560187813,3494.708145195953,3431.9310526185095,3370.2816545977385,3309.7396938238276,3250.285276878584,3191.8988676986987,3134.561281156374,3078.253676755324,3022.9575524400066,2968.6547385160247,2915.3273916797907,2862.957989155403,2811.529322936853,2761.0244941336746,2711.426907418151,2662.720265572267,2614.888564132637,2567.916086131607,2521.787396932829,2476.4873391596216,2432.0010277144183,2388.3138448876825,2345.411435554702,2303.2797024586494,2261.90480157837,2221.273137579407,2181.371359346711,2142.186355597621,2103.70525057363,2065.9153998095694,2028.8043859787613,1992.3600148128353,1956.5703110948207,1921.4235147242246,1886.908076852788,1853.0126560896715,1819.7261147747938,1787.0375153191167,1754.9361166106842,1723.4113704851989,1692.4529182600297,1662.0505873304432,1632.1943878270145,1602.8745093330551,1574.0813176610284,1545.8053516868567,1518.0373202410983,1490.7680990559795,1463.9887277672549,1437.690406969935,1411.8644953268931,1386.5025067294252,1361.5961075088055,1337.1371136979303,1313.1174883421654,1289.5293388584878,1266.364914442066,1243.6166035194396,1221.2769312474363,1199.3385570570179,1177.7942722412565,1156.6369975866319]},{\"marker\":{\"color\":\"rgb(255,215,0)\",\"size\":6,\"symbol\":\"circle-open\"},\"mode\":\"markers\",\"name\":\"Residential PV - Prospective\",\"type\":\"scatter\",\"x\":[58.0,74.0,93.0,150.67,208.35,266.02,323.7,381.37,439.05,496.72,554.39,612.07,669.74,751.15,832.56,913.96,995.37,1076.78,1158.18,1239.59,1321.0,1402.41,1483.81,1530.81,1577.81,1624.82,1671.82,1718.82,1765.82,1812.82,1859.82,1906.82,1953.82],\"y\":[2704.85,2506.8,2442.72,1872.68,1639.53,1483.13,1368.42,1279.39,1207.57,1147.95,1097.36,1053.7,1015.48,968.8,928.75,893.88,863.13,835.74,811.12,788.83,768.51,749.88,732.72,723.41,714.49,705.94,697.73,689.83,682.24,674.93,667.88,661.07,654.5]},{\"marker\":{\"color\":\"rgb(255,215,0)\",\"size\":6,\"symbol\":\"circle\"},\"mode\":\"markers+text\",\"name\":\"Residential PV - Historical\",\"textfont\":{\"size\":10},\"type\":\"scatter\",\"x\":[27.0,32.0,38.0,44.0,50.0,58.0,74.0,93.0],\"y\":[3794.0,3379.0,3158.0,3103.0,3027.0,2705.0,2507.0,2443.0]},{\"line\":{\"color\":\"rgb(255,215,0)\",\"width\":1.5},\"mode\":\"lines\",\"name\":\"Residential PV - Learning Curve\",\"type\":\"scatter\",\"x\":[27.000000000000004,28.193357762954378,29.439460072219994,30.740638154233665,32.099326271993874,33.5180662791157,34.999512375167626,36.54643607118703,38.16173137466358,39.84842020369078,41.60965804041457,43.4487398343555,45.36910616664858,47.3743496867327,49.46822183353187,51.65463985370204,53.93769413007343,56.32165583399868,58.810984915922646,61.41033844912294,64.12457934223096,66.95878543683226,69.91825900716708,73.00853667970254,76.23539979113444,79.60488520419668,83.12329660151224,86.79721627861497,90.63351745820441,94.63937714867141,98.82228957095045,103.19008017881782,107.7509202988651,112.51334241753653,117.48625614382942,122.67896487752158,128.10118321410656,133.7630551190028,139.67517290503062,145.84859704866815,152.29487688215085,159.02607220013215,166.05477582132366,173.39413714732459,181.0578867627148,189.0603621224333,197.4165343744989,206.1420363682529,215.25319190052244,224.76704625441835,234.7013980879014,245.07483273176936,255.90675695936943,267.217435293071,279.0280279154319,291.3606302559775,304.2383143276534,317.68517189028523,331.72635952179513,346.38814568149616,361.6979598535104,377.68444386224917,394.37750545595696,411.8083742585665,430.00966019453205,449.01541449595913,468.8611934061412,489.5841246987073,511.2229771367966,533.8182330022353,557.4121638303761,582.0489094923086,607.7745607723743,634.6372455954817,662.6872190655317,691.9769574834013,722.5612565203786,754.4973337306986,787.8449355949923,822.6664492948645,859.0270194277595,896.9946698804132,936.6404310889498,978.0384729236509,1021.2662434470391,1066.4046138048457,1113.5380295209336,1162.7546684792196,1214.14660588815,1267.8099865363474,1323.845204661688,1382.357091770317,1443.4551127569505,1507.253570693422,1573.8718206685203,1643.4344930792595,1716.0717267912253,1791.919412604293,1871.119447479107,1953.8199999999993],\"y\":[3791.3382077272263,3724.660274126696,3659.1549995150685,3594.8017604412125,3531.5802961568556,3469.470702237708,3408.4534243168737,3348.5092519283758,3289.6193124590445,3231.7650652066854,3174.9282955428307,3119.0911091780895,3064.235926528364,3010.3454771801644,2957.402794453267,2905.391210058959,2854.2943488522674,2804.0961236764606,2754.7807302982274,2706.3326424319253,2658.7366068513406,2611.9776385874156,2566.0410162104326,2520.912277195172,2476.5772133675805,2433.02186643152,2390.2325235741837,2348.1957131488134,2306.8982004333106,2266.326983463491,2226.4692889395706,2187.312568204672,2148.8444932940515,2111.052953053802,2073.926049327822,2037.4520932118414,2001.6196013733268,1966.4172924361092,1931.8340834286025,1897.8590862944611,1864.4816044646477,1831.6911294897366,1799.4773377314964,1767.8300871126055,1736.7394139235812,1706.1955296858218,1676.1888180698445,1646.7098318677124,1617.7492900187074,1589.2980746873206,1561.3472283926087,1533.8879511880746,1506.9115978911002,1480.4096753611448,1454.3738398257847,1428.7958942537975,1403.6677857744237,1378.981603142047,1354.7295742454276,1330.9040636607751,1307.497570247821,1284.5027247882024,1261.9122876653516,1239.7191465852052,1217.9163143369942,1196.4969265934126,1175.4542397494838,1154.7816287994146,1134.4725852508175,1114.5207150755841,1094.9197366968267,1075.6634790111939,1056.7458794459965,1038.160982050474,1019.9029356206589,1001.9659918571884,984.3445035555449,967.0329228280988,950.0257993574368,933.3177786804008,916.9036005023087,900.7780970408207,884.9361913989334,869.3728959665871,854.083310850384,839.0626223309235,824.3061013472663,809.8091020080574,795.5670601288215,781.5754917950027,767.8299919502534,754.3262330095698,741.0599634968054,728.0270067061556,715.223259387173,702.6446904529183,690.2873397108257,678.14731661589,666.2207990457789,654.5040320974949]},{\"marker\":{\"color\":\"rgb(255,140,0)\",\"size\":6,\"symbol\":\"circle-open\"},\"mode\":\"markers\",\"name\":\"CSP - Prospective\",\"type\":\"scatter\",\"x\":[5.83,6.38,6.48,13.13,19.78,26.44,33.09,39.74,46.39,53.04,59.7,66.35,73.0,93.8,114.6,135.4,156.2,177.0,197.8,218.6,239.4,260.2,281.0,295.5,310.0,324.5,339.0,353.5,368.0,382.5,397.0,411.5,426.0],\"y\":[5161.0,6466.0,4448.0,5036.0,4238.0,3701.0,3307.0,3002.0,2757.0,2555.0,2384.0,2237.0,2110.0,1799.0,1574.0,1403.0,1267.0,1157.0,1065.0,987.0,921.0,863.0,812.0,780.0,750.0,723.0,697.0,673.0,651.0,631.0,611.0,593.0,576.0]},{\"marker\":{\"color\":\"rgb(255,140,0)\",\"size\":6,\"symbol\":\"circle\"},\"mode\":\"markers+text\",\"name\":\"CSP - Historical\",\"textfont\":{\"size\":10},\"type\":\"scatter\",\"x\":[1.266,1.705,2.567,3.842,4.499,4.75,4.86,4.959,5.833,6.384,6.479],\"y\":[8830.0,10403.0,8040.0,6307.0,5414.0,7232.0,7602.0,7196.0,5161.0,6466.0,4448.0]},{\"line\":{\"color\":\"rgb(255,140,0)\",\"width\":1.5},\"mode\":\"lines\",\"name\":\"CSP - Learning Curve\",\"type\":\"scatter\",\"x\":[1.266,1.3426373200696768,1.4239138809193395,1.5101105190265045,1.6015250713070892,1.698473404237084,1.8012905052721162,1.9103316403361044,2.025973581378497,2.1486159082416982,2.2786823893370527,2.4166224459000536,2.562912704884262,2.718058645859662,2.8825963476060275,3.0570943404363313,3.2421555706505623,3.438419483907777,3.6465642347150853,3.8673090296680837,4.101416612539351,4.349695899801805,4.61300477569349,4.892253056481617,5.188405634168377,5.502485810500979,5.835578832806051,6.1888356438657555,6.56347685879274,6.960796982645204,7.3821688833553285,7.829048535426509,8.302980050790262,8.805601014206186,9.338648141640299,9.90396328117346,10.503499777174737,11.13932921973012,11.813648602647945,12.528787914774181,13.287218190848156,14.091560049716765,14.944592749409663,15.849263790363443,16.808699099977044,17.826213833689394,18.905323829900254,20.049757758314914,21.263470003688894,22.550654329490374,23.91575836869243,25.363498991765518,26.898878604971575,28.52720243527535,30.254096861598153,32.08552885575399,34.02782660024314,36.08770135414386,38.27227064265604,40.58908285042424,43.04614330361743,45.651941930887986,48.415482598786674,51.346314222997655,54.45456376289186,57.75097121340635,61.246926715157166,64.95450991101303,68.88653168511992,73.05657842859736,77.47905898485952,82.16925443677107,87.14337090766962,92.41859555869776,98.01315597593465,103.94638315252783,110.23877828344838,116.91208360366862,123.9893575145274,131.49505425787214,139.4551084132751,147.8970245102889,156.84997206538205,166.34488637193388,176.41457539155454,187.09383311607172,198.41955979188464,210.43088942210193,223.16932498702153,236.67888185018438,251.00623984551288,266.20090457104715,282.3153784465992,299.40534212638124,317.5298468934513,336.75151870075666,357.1367745638055,378.75605205266686,401.6840526762743,425.99999999999994],\"y\":[8830.000500101507,8783.462570577089,8733.195649968666,8679.266677793423,8621.747177579036,8560.713098842496,8496.244650048156,8428.426123059307,8357.345709620193,8283.095310427958,8205.770337372027,8125.469509536107,8042.294643572226,7956.3504390687385,7867.744259543848,7776.5859097040775,7682.9874096119975,7587.062766410445,7488.927744250638,7388.699633069892,7286.497016860243,7182.439542062544,7076.647686712386,6969.242530952617,6860.345529514916,6750.078286757328,6638.562334828462,6525.918915509698,6412.268766267041,6297.731911021723,6182.427456125848,6066.473392003965,5949.986400896013,5833.081671109456,5715.872718160888,5598.4712131578835,5480.986818742734,5363.52703288906,5246.197040812107,5129.099575222044,5012.334785118874,4896.0001132961825,4780.190182689804,4664.99669167671,4550.508318398773,4436.810634155942,4323.986025883684,4212.113627700865,4101.269261485803,3991.5253864109986,3882.9510573408893,3775.6118919712626,3669.570046565033,3564.884200115897,3461.6095467494897,3359.7977961512433,3259.497181790823,3160.752476695253,3063.605016506263,2968.0927295426336,2874.2501735744518,2782.1085790043176,2691.6958981398216,2603.0368602324193,2516.153031950153,2431.062882945371,2347.7818561736976,2266.3224426171064,2186.6942600617076,2108.9041355802165,2032.9561913694067,1958.8519335946528,1886.59034389653,1816.1679732184812,1747.579037619631,1680.8155157429783,1615.8672476162355,1552.7220344705202,1491.365739270948,1431.7823876626314,1373.9542690458254,1317.862037504867,1263.4848123268562,1210.8002778579853,1159.7847824576752,1110.413436323369,1062.6602079717195,1016.4980191751514,971.898838166021,928.8337709340586,887.2731504562788,847.1866237119442,808.543236348578,771.3115148783369,735.4595462970867,700.9550550315031,667.7654771320965,635.858031642494,605.1997890872526,575.7577370322424]},{\"marker\":{\"color\":\"rgb(50,205,50)\",\"size\":6,\"symbol\":\"circle-open\"},\"mode\":\"markers\",\"name\":\"Ground Source Heat Pumps - Prospective\",\"type\":\"scatter\",\"x\":[2.174,2.859,3.544,4.23,4.915,5.6,6.286,6.971,7.657,8.342,9.027,9.713,10.398,11.084,11.769,12.454,13.14,13.825,14.511,15.196,15.881,16.567,17.252,17.937,18.623,19.308,19.994,20.679,21.364,22.05,22.735,23.421,24.106],\"y\":[2784.93,2364.46,2079.7,1871.35,1710.83,1582.54,1477.11,1388.59,1312.97,1247.44,1189.99,1139.11,1093.66,1052.76,1015.71,981.95,951.03,922.59,896.32,871.95,849.28,828.12,808.32,789.73,772.24,755.76,740.18,725.43,711.44,698.15,685.51,673.46,661.96]},{\"marker\":{\"color\":\"rgb(50,205,50)\",\"size\":6,\"symbol\":\"circle\"},\"mode\":\"markers+text\",\"name\":\"Ground Source Heat Pumps - Historical\",\"textfont\":{\"size\":10},\"type\":\"scatter\",\"x\":[0.02,0.039,0.061,0.084,0.106,0.126,0.142,0.157,0.172,0.198,0.224,0.252,0.285,0.325,0.367,0.417,0.467,0.522,0.587,0.661,0.75,0.867,0.992,1.143],\"y\":[34647,30597,27279,25591,23285,20361,17605,15805,14286,13611,12655,8662,8549,8212,7762,7256,6806,6524,5231,4893,4781,4612,4443,4218]},{\"line\":{\"color\":\"rgb(50,205,50)\",\"width\":1.5},\"mode\":\"lines\",\"name\":\"Ground Source Heat Pumps - Learning Curve\",\"type\":\"scatter\",\"x\":[0.020000000000000004,0.02148583167092517,0.023082048129566553,0.024796850036603015,0.02663904729278135,0.028618104300325745,0.030744188586888946,0.03302822304185373,0.03548194203335206,0.03811795169430634,0.040949794687216136,0.0439920197804236,0.047260256593309596,0.05077129589442907,0.054543175865121876,0.05859527477178384,0.06294841052290778,0.06762494762237456,0.07264891206847356,0.07804611478895337,0.08384428424625777,0.09007320889421487,0.09676489021805908,0.10395370714403852,0.11167659266327315,0.11997322357727817,0.1288862243399835,0.13846138604349922,0.14874790167268057,0.15979861883712715,0.17167031127904234,0.18442397055184154,0.19812511936802638,0.2128441482261685,0.22865667704644513,0.24564394367265105,0.2638932212366402,0.28349826652943333,0.3045598016825243,0.3271860316340534,0.35149320003836343,0.37760618647495525,0.4056591480250434,0.43579620851185014,0.4681721989456509,0.5029534529776573,0.5403186614494263,0.5804597904280988,0.6235830674439315,0.6699100409969745,0.7196787187761786,0.7731447904386036,0.8305829412308277,0.8922882632013747,0.958577771254346,1.0297920318330742,1.1062969126012723,1.1884854621107575,1.2767799291126722,1.371633931886533,1.4735347887321644,1.583006021597578,1.7006100457053255,1.826951058995449,1.9626781462297347,2.1084886137047767,2.2651315717061595,2.433411783108835,2.6141937978961147,2.8084063948386273,3.017047353152628,3.241188578652384,3.481981610732516,3.740663538472786,4.01856335625968,4.317108791577178,4.637833640044925,4.9823856453879705,5.35253496482199,5.750183263345332,6.177373483660448,6.63630034191825,7.1293216032079325,7.6589701947207995,8.227967218820202,8.839235932873068,9.495916767665197,10.201383461558512,10.959260393280305,11.773441202392888,12.648108793107422,13.587756824212727,14.597212795524984,15.68166284946624,16.84667841519162,18.098244832150773,19.442792100139144,20.887227913819164,22.4389731514284,24.106000000000005],\"y\":[45778.1035548452,43860.508794594294,42023.23998450286,40262.932358248654,38576.36209589574,36960.440419804334,35412.20793785651,33928.82922363797,32507.58762365016,31145.880282042493,29841.21337375321,28591.197537328684,27393.543499056992,26246.057880401713,25146.639181057766,24093.27393027265,23084.032999384624,22117.068068824672,21190.608243111732,20302.956807642393,19452.48812133498,18637.644639437032,17856.934061044765,17108.926596109497,16392.252346925914,15705.598799307541,15047.708418853643,14417.376347906089,13813.44819897813,13234.81794061405,12680.425871807825,12149.256681271205,11640.337587996903,11152.736559711579,10685.560605955887,10237.95414266552,9809.097425258173,9398.2050473568,9004.524502399678,8627.334805503093,8265.945173052667,7919.693757605175,7587.946435783931,7270.095646947927,6965.559280507848,6673.7796098511935,6394.222270924132,6126.375283599425,5869.748114038192,5623.870776328318,5388.2929717542465,5162.583264121775,4946.328289627736,4739.131999827149,4540.614936311868,4350.4135357720525,4168.179464167788,3993.5789787916824,3826.292317053845,3666.013110870037,3512.447825580462,3365.315222371632,3224.345843216793,3089.281517391638,2959.874888661532,2835.888962274356,2717.0966709293134,2603.280458926845,2494.2318837380344,2389.751234263848,2289.6471650850694,2193.7363460331135,2101.843126439926,2013.7992134520978,1929.443363820045,1848.6210885977987,1771.1843702126102,1696.9913913861967,1625.9062754111676,1557.7988373070073,1492.5443453998453,1430.0232928894047,1370.121178984749,1312.7282992080186,1257.7395444821163,1205.0542086343835,1154.575803963751,1106.2118845335624,1059.8738768664816,1015.4769177314013,972.9396987252773,932.1843173652685,893.1361344184556,855.7236372078701,819.8783086444726,785.5345017452545,752.6293194076263,721.1024992199317,690.8963030971214,661.9554115394689]},{\"marker\":{\"color\":\"rgb(0,128,128)\",\"size\":6,\"symbol\":\"circle-open\"},\"mode\":\"markers\",\"name\":\"Decentralized Heat Pumps - Prospective\",\"type\":\"scatter\",\"x\":[6.22,6.487,7.069,7.651,8.233,8.816,9.398,9.98,10.563,11.145,11.727,12.309,12.892,13.474,14.056,14.638,15.221,15.803,16.385,16.967,17.55,18.132,18.714,19.296,19.879,20.461,21.043,21.625,22.208,22.79,23.372,23.954,24.537],\"y\":[903.0,881.0,837.0,798.0,764.0,733.0,706.0,681.0,658.0,638.0,619.0,601.0,585.0,569.0,555.0,542.0,529.0,518.0,507.0,496.0,486.0,477.0,468.0,459.0,451.0,444.0,436.0,429.0,422.0,416.0,410.0,404.0,398.0]},{\"marker\":{\"color\":\"rgb(0,128,128)\",\"size\":6,\"symbol\":\"circle\"},\"mode\":\"markers+text\",\"name\":\"Decentralized Heat Pumps - Historical\",\"textfont\":{\"size\":10},\"type\":\"scatter\",\"x\":[null,null,null,null,null,null,null,null,null,null,null,null,null,null,null,null,null,null,6.22,null,null],\"y\":[null,null,null,null,null,null,null,null,null,null,null,null,null,null,null,null,null,null,903.0,null,null]},{\"line\":{\"color\":\"rgb(0,128,128)\",\"width\":1.5},\"mode\":\"lines\",\"name\":\"Decentralized Heat Pumps - Learning Curve\",\"type\":\"scatter\",\"x\":[6.219999999999999,6.306826744856881,6.394865528881359,6.484133271272075,6.574647127407569,6.666424492143172,6.759483003153942,6.853840544324244,6.949515249184661,7.046525504396876,7.144889953287194,7.244627499429409,7.345757310277658,7.448298820850016,7.552271737463482,7.657696041521133,7.7645919933521155,7.872980136105262,7.98288129969705,8.094316604814667,8.207307466974967,8.321875600640084,8.438043023390483,8.555832060156291,8.675265347507665,8.796365838005059,8.919156804610244,9.043661845158868,9.169904886895447,9.297910191071711,9.427702357609071,9.559306329826233,9.692747399232763,9.82805121038958,9.965243765837307,10.104351431093415,10.24540093971911,10.388419398456968,10.533434292440266,10.680473490475062,10.82956525039599,10.980738224496813,11.134021465036781,11.289444429823886,11.447036987876018,11.606829425161163,11.76885245041773,11.933137201056109,12.099715249142646,12.268618607467122,12.439879735694925,12.613531546605138,12.789607412415638,12.968141171196587,13.149167133373357,13.332720088320286,13.518835311046468,13.707548568974834,13.898896128815943,14.092914763537655,14.289641759432095,14.489114923281372,14.691372589623139,14.89645362811777,15.104397451018253,15.315244020744377,15.529033857562714,15.745808047373725,15.965608249607607,16.188476705230382,16.41445624486167,16.643590297005893,16.875922896398272,17.1114986924674,17.35036295791592,17.592561597420946,17.838141156456036,18.087148830236202,18.33963247278787,18.595640606145395,18.85522242967595,19.118427829534667,19.385307388251675,19.655912394452955,19.930294852717005,20.208507493568977,20.490603783614397,20.776637935814303,21.0666649199038,21.36074047295621,21.658921110094383,21.96126413535186,22.267827652685437,22.578670577141505,22.89385264617833,23.21343443114631,23.53747734892847,23.866043673743604,24.199196549113914,24.537],\"y\":[903.2142330267694,895.7683493810441,888.3838478318793,881.0602223598461,873.7969711170226,866.5935963925992,859.4496045787789,852.364506136948,845.3378155641327,838.3690513597321,831.4577359925219,824.6033958679301,817.8055612955861,811.0637664571374,804.377549374325,797.7464518773292,791.1700195733746,784.6478018155924,778.1793516721376,771.7642258955657,765.4019848924607,759.0921926933075,752.8344169226232,746.6282287693225,740.47320295734,734.3689177164831,728.3149547535322,722.3108992235794,716.3563397015995,710.4508681542561,704.5940799119429,698.7855736410556,693.0249513164865,687.3118181943544,681.6457827849507,676.0264568259175,670.4534552556379,664.9263961868511,659.4449008804856,654.008593719705,648.6171021841676,643.2700568245008,637.9670912369862,632.7078420384507,627.4919488413647,622.3190542291478,617.1888037316774,612.1008458009986,607.0548317872351,602.0504159146952,597.0872552581825,592.1650097194924,587.2833420041095,582.4419175980958,577.640404745165,572.878474423951,568.155800325463,563.4720588307234,558.8269289885922,554.2200924937739,549.651233665008,545.1200394234336,540.6261992711391,536.1694052698822,531.7493520199922,527.3657366394391,523.0182587430819,518.706620422082,514.4305262234919,510.1896831300064,505.98380053988734,501.8125902470462,497.67576642129904,493.5730455887766,489.5041466125009,485.46879067312176,481.46670124980784,477.4976041013016,473.56122724712384,469.65730094893803,465.7855576920676,461.9457321671618,458.1375612520185,454.3607839935523,450.6151415899124,446.90037737274906,443.2162367896265,439.5624673865773,435.9388187908061,432.34504269352993,428.7808928329659,425.24612497745375,421.7404969087209,418.2637684052859,414.81570122599464,411.39605909369794,408.0046076790584,404.6411145844937,401.3053493282531,397.9970833286224]},{\"marker\":{\"color\":\"rgb(139,0,139)\",\"size\":6,\"symbol\":\"circle-open\"},\"mode\":\"markers\",\"name\":\"SOEC Electrolysis - Prospective\",\"type\":\"scatter\",\"x\":[0.89,3.48,7.77,13.78,21.49,30.91,42.03,54.86,69.4,85.64,107.87,132.15,158.47,186.84,217.24,249.69,284.18,320.71,359.28,399.9,436.5,474.67,514.43,555.77,598.69,643.19,689.27,736.93,786.18,837.0],\"y\":[924.0,881.0,860.0,846.0,836.0,828.0,821.0,815.0,810.0,805.0,800.0,795.0,791.0,787.0,783.0,780.0,777.0,774.0,771.0,769.0,766.0,764.0,762.0,760.0,759.0,757.0,755.0,753.0,752.0,750.0]},{\"marker\":{\"color\":\"rgb(139,0,139)\",\"size\":6,\"symbol\":\"circle\"},\"mode\":\"markers+text\",\"name\":\"SOEC Electrolysis - Historical\",\"textfont\":{\"size\":10},\"type\":\"scatter\",\"x\":[6.05e-05,6.05e-05,0.0001271,0.0003232,0.0004715,0.0011737,0.0011737,0.0011737,837.0],\"y\":[14443,2614,9027,5416,2428,2407,714,1133,750]},{\"line\":{\"color\":\"rgb(139,0,139)\",\"width\":1.5},\"mode\":\"lines\",\"name\":\"SOEC Electrolysis - Learning Curve\",\"type\":\"scatter\",\"x\":[6.049999999999996e-05,7.143094334005821e-05,8.433685399091898e-05,9.957456262651404e-05,0.0001175653709270347,0.00013880669999077585,0.0001638858433431665,0.00019349620479476655,0.00022845647010266552,0.00026973324250534233,0.0003184677679723848,0.0003760074890854581,0.00044394329997191615,0.0005241535323387172,0.0006188558887599713,0.0007306687591020645,0.0008626836154011601,0.001018550486811848,0.0012025788778916673,0.0014198569204732301,0.0016763920535093025,0.0019792771204949896,0.0023368864768322497,0.0027591075292355805,0.0032576141089248737,0.0038461892369981284,0.00454110620600256,0.005361578514085219,0.006330291091783383,0.007474027509144691,0.008824410504590919,0.010418776310129732,0.012301206946803592,0.014523749031924917,0.01714785279644057,0.02024607109927611,0.02390406541406911,0.02822297425106474,0.0333222094977806,0.03934275799341346,0.046451079620977484,0.05484370969405913,0.0647526928878502,0.07645199895517713,0.0902650976132471,0.10657390203630866,0.12582932822949547,0.14856376223601128,0.17540577987878342,0.20709752601719164,0.2445152338314092,0.2886934514643383,0.34085364585446254,0.4024379746162379,0.47514915971405397,0.5609975653819974,0.6623567819291253,0.7820292522459928,0.9233237554950684,1.0901468903024467,1.2871110868352829,1.5196621341502792,1.7942297487689354,2.118405347493562,2.5011519396378357,2.9530519419032566,3.4865997676419846,4.11654728019661,4.860311661626362,5.73845697382903,6.775262726561051,7.999395172479191,9.444699889588353,11.151137564909755,13.165888852500228,15.544658853627213,18.353217286181494,21.66921692689269,25.58434060377355,30.20683610018017,35.66450905709738,42.10825662328128,49.716239553822106,58.698808109914424,69.30431795418593,81.82599684308822,96.61005197094889,114.06524212259393,134.67417929138898,159.0066722368931,187.73548091313594,221.65491735578183,261.70280731712586,308.98641985791403,364.81308181352244,430.72632358237524,508.54855561792135,600.4314555704497,708.9154592139075,837.0],\"y\":[14431.961560382118,12424.791020979566,10776.131346709712,9412.414262295417,8276.828876971631,7325.174380713887,6522.812386245185,5842.409668939412,5262.253603415629,4764.98578311357,4336.643286960679,3965.927912505046,3643.6455122254724,3362.2731129035183,3115.6226520851606,2898.57822665333,2706.8896139402336,2537.0091218695325,2385.961991371993,2251.242923098229,2130.7330530028967,2022.6330166551757,1925.4087348073194,1837.7473060475213,1758.520967031249,1686.7575214369028,1621.615978365098,1562.3664038477787,1508.3731937006694,1459.0811358273118,1414.0037555820938,1372.7135367380724,1334.8336889301058,1300.0311947012053,1268.0109189614031,1238.5106034660942,1211.296600919965,1186.1602291348077,1162.9146465805309,1141.3921676609398,1121.4419498997881,1102.9279965547114,1085.7274274754147,1069.7289786763226,1054.83169741282,1040.9438047824322,1027.981702217089,1015.8691018506651,1004.5362637670969,993.9193256637716,983.9597125882113,974.6036161929464,965.8015344611924,957.507864131007,949.6805391266806,942.2807092248296,935.2724539651128,928.6225274835615,922.3001305180417,916.2767063254242,910.5257576711666,905.0226824145561,899.7446255257488,894.6703456411393,889.780094497906,885.0555077918165,880.4795061791535,876.0362052975336,871.710833814661,867.4896586314259,863.3599164684218,859.3097511550072,855.3281560190106,851.4049208446402,847.5305829272718,843.6963818076147,839.8942173152543,836.1166105934819,832.3566678143745,828.6080463258289,824.864923001244,821.1219645882106,817.3742998752822,813.6174935160449,809.8475213675508,806.0607472159918,802.2539007765087,798.4240568664526,794.568615662432,790.6852839611937,786.7720573730644,782.827203384263,778.8492452311774,774.8369465356463,770.7892966555603,766.7054967097175,762.584946239992,758.4272304774275,754.2321081820749,749.9995000291233]},{\"marker\":{\"color\":\"rgb(178,34,34)\",\"size\":6,\"symbol\":\"circle-open\"},\"mode\":\"markers\",\"name\":\"PEM Electrolysis - Prospective\",\"type\":\"scatter\",\"x\":[14.821,28.827,42.07,54.549,66.264,77.217,87.405,96.83,105.492,113.39,136.69,160.799,185.717,211.445,237.981,265.327,293.481,322.445,352.218,382.8,408.517,434.861,461.831,489.427,517.65,546.499,575.975,606.077,636.805,668.16],\"y\":[687.0,658.0,642.0,632.0,625.0,619.0,615.0,611.0,608.0,606.0,599.0,594.0,589.0,585.0,581.0,578.0,574.0,571.0,569.0,566.0,564.0,562.0,561.0,559.0,557.0,556.0,554.0,553.0,551.0,550.0]},{\"marker\":{\"color\":\"rgb(178,34,34)\",\"size\":6,\"symbol\":\"circle\"},\"mode\":\"markers+text\",\"name\":\"PEM Electrolysis - Historical\",\"textfont\":{\"size\":10},\"type\":\"scatter\",\"x\":[0.0051821,0.0051836,0.0052047,0.0053733,0.0053733,0.0053733,0.00538,0.0053871,0.0053871,0.0066407,0.0066407,0.0103063,0.0103063,0.0103063,0.0103063,0.0103063,0.0103063,0.0103063,0.0103063,0.0103063,0.0103063,0.0118263,0.0118263,0.0118263,0.0118263,0.0118263,0.0118263,0.0118263,0.0118263,0.012978,0.012978,0.012978,0.012978,0.012978,0.012978,0.0133188,0.0133188,0.0133188,0.0133188,0.0133188,0.023511,0.0517146,0.0517146,0.0517146,0.0517146,0.0517146,0.0517146,0.0517146,113.39,668.16],\"y\":[3986,7363,2887,5106,3050,1878,2549,2524,2326,1343,4012,2745,2914,2387,1976,1641,3818,2494,1432,1790,3580,4047,2381,1197,1874,2381,3047,2381,3332,2366,1316,2366,1183,1518,2248,1420,1543,1834,1597,1479,1183,1479,1361,1194,1071,876,1274,2142,1075,550]},{\"line\":{\"color\":\"rgb(178,34,34)\",\"width\":1.5},\"mode\":\"lines\",\"name\":\"PEM Electrolysis - Learning Curve\",\"type\":\"scatter\",\"x\":[0.005182100000000001,0.005836140460804067,0.006572728329872883,0.00740228203698197,0.008336534937248136,0.009388701269790342,0.01057366306227705,0.011908180624971437,0.013411129611539493,0.015103767999651322,0.017010036767596673,0.019156898519738272,0.021574718850381515,0.024297695840138866,0.02736434375966212,0.030818037822333662,0.0347076276909962,0.039088128416268776,0.04402149857920365,0.04957751664447215,0.05583476791937451,0.06288175607839804,0.0708181549749234,0.07975621844592791,0.0898223680502127,0.10115898119740654,0.11392640495936045,0.1283052240476394,0.1444988150357884,0.162736222953746,0.1832754009414693,0.2064068587840057,0.23245777193354164,0.2617966091371655,0.2948383441243354,0.33205032506908505,0.3739588848456859,0.4211567855743957,0.4743116027542717,0.5341751675697167,0.6015942009244153,0.677522289612333,0.7630333740188624,0.8593369381245672,0.9677951166616366,1.0899419613896997,1.2275051389966556,1.3824303675234546,1.5569089369460003,1.753408703170143,1.9747089938243663,2.2239399195638967,2.5046266469122913,2.8207392588434885,3.1767489083412013,3.577691059181651,4.029236708428433,4.537772598023224,5.110491549999291,5.755494203035085,6.481903589327939,7.299994172383367,8.221337170853603,9.258964223911368,10.427551713071235,11.743628347538987,13.225808949213215,14.895057744035768,16.774984883730532,18.8921803919871,21.27659025848305,23.961940000286095,26.98621168156325,30.392181138649313,34.22802300908077,38.54799212223396,43.41319088927771,48.892433546539785,55.06321947630012,62.01282937183174,69.8395597510441,78.65411327990816,88.5811645706447,99.76112360160603,112.35212170097239,126.53224818437059,142.50206928181746,160.4874649821343,180.7428239196678,203.5546414923597,229.24557210359225,258.1789928434326,290.76414315879634,327.4619132089453,368.7913627778378,415.33706294799634,467.75736437782444,526.7937091303697,593.2811177616801,668.1599999999999],\"y\":[3139.402246878741,2865.7721649624204,2641.3990102842727,2454.35163828375,2296.189549685749,2160.7916727036113,2043.6219538666853,1941.2544185708018,1851.0575839915612,1770.9796577398793,1699.3991678178666,1635.0190755740578,1576.790399535967,1523.8562519208385,1475.51024057555,1431.1651411843459,1390.3290187725088,1352.5868245814993,1317.5860670259456,1285.0255486092851,1254.6464345164375,1226.2251118864126,1199.567436890992,1174.504066595074,1150.8866455381576,1128.5846708351821,1107.482899729862,1087.4791937096004,1068.482716170694,1050.4124181080201,1033.195759767163,1016.7676266376084,1001.0694063168587,986.048199179742,971.6561408498496,957.8498184952621,944.5897661887054,931.8400271584742,919.5677728454169,907.7429703765857,896.3380914484588,885.3278567445651,874.6890109432507,864.40012413995,854.4414161454628,844.7946006518118,835.4427466999127,826.3701552541121,817.5622490004703,809.0054737485731,800.6872100391034,792.5956937481664,784.7199446399335,777.0497019562505,769.575366249097,762.2879467623794,755.1790137560517,748.2406552401164,741.465437650536,734.8463700548594,728.3768715238493,722.0507413475374,715.8621318108493,709.8055232760755,703.8757013475046,698.0677359182083,692.3769619205666,686.7989616211925,681.3295483176813,675.9647513094704,670.700802028162,665.534121224343,660.4613071181998,655.4791244304331,650.5844942181104,645.7744844473892,641.0463012415372,636.3972807484699,631.8248815772426,627.3266777575847,622.900352180748,618.5436904837034,614.254575342103,610.0309811404688,605.8709689908227,601.7726820734554,597.7343412757706,593.754241107183,589.8307458698747,585.9622860669016,582.1473550306397,578.3845057559499,574.6723479236947,571.009545101371,567.3948121086744,563.8269125367552,560.3046564107916,556.8268979863067,553.3925336703619,550.0005000594547]},{\"marker\":{\"color\":\"rgb(210,105,30)\",\"size\":6,\"symbol\":\"circle-open\"},\"mode\":\"markers\",\"name\":\"ALK Electrolysis - Prospective\",\"type\":\"scatter\",\"x\":[33.11,63.46,91.16,116.23,138.64,158.41,175.54,190.03,201.87,197.84,234.55,271.46,308.56,345.87,383.36,421.06,458.95,497.04,535.32,573.8,604.09,634.52,665.11,695.86,726.75,757.8,788.99,820.34,851.85,885.78],\"y\":[637.0,594.0,572.0,558.0,547.0,540.0,534.0,529.0,526.0,527.0,518.0,510.0,503.0,497.0,492.0,487.0,482.0,478.0,475.0,471.0,469.0,466.0,464.0,462.0,460.0,457.0,456.0,454.0,452.0,450.0]},{\"marker\":{\"color\":\"rgb(210,105,30)\",\"size\":6,\"symbol\":\"circle\"},\"mode\":\"markers+text\",\"name\":\"ALK Electrolysis - Historical\",\"textfont\":{\"size\":10},\"type\":\"scatter\",\"x\":[0.088632,0.088632,0.088632,0.088632,0.088632,0.088632,0.088632,0.088632,0.088632,0.088632,0.088632,0.088632,0.088632,0.088632,0.088632,0.088632,0.091137,0.091137,0.091137,0.091137,0.091137,0.091137,0.091137,0.091137,0.091137,0.09333,0.09333,0.09333,0.09333,0.096775,0.099593,0.117132,0.117132,0.117132,0.117132,0.117132,0.117132,0.117132,197.838,885.78],\"y\":[1190,1197,1666,1880,1155,1835,1745,1458,1874,1554,1454,1112,983,1110,1190,1369,1197,947,1518,1420,1183,1302,983,1316,1183,1154,1183,1183,947,947,592,1122,592,1019,758,1313,1083,1274,625,450]},{\"line\":{\"color\":\"rgb(210,105,30)\",\"width\":1.5},\"mode\":\"lines\",\"name\":\"ALK Electrolysis - Learning Curve\",\"type\":\"scatter\",\"x\":[0.08863199999999999,0.09727291176689669,0.10675624338399757,0.11716412405516008,0.1285866899253467,0.14112286469340146,0.1548812163283345,0.16998089730859878,0.18655267652718277,0.20474007179920425,0.22470059277994514,0.24660710505746225,0.2706493272333283,0.297035473956782,0.32599405914157875,0.3577758749820753,0.3926561639075693,0.4309370022848309,0.4729499165125837,0.5190587541642943,0.5696628350444393,0.6252004094475807,0.6861524535700675,0.7530468349440482,0.8264628839680164,0.9070364111250552,0.995465213339766,1.0925151171610035,1.1990266111066337,1.3159221246089083,1.4442140165988535,1.5850133429137991,1.7395394784570806,1.9091306774414334,2.0952556631717254,2.299526347738897,2.5237117917824254,2.7697535252180794,3.039782361614195,3.336136851835302,3.6613835367685263,4.018339174528986,4.410095134640114,4.840044170451626,5.311909801654298,5.82977856135518,6.398135386984935,7.021902461535845,7.706481841510189,8.457802240752919,9.282370375334194,10.187327314147694,11.18051032324201,12.27052073948008,13.466798461338133,14.77970370196233,16.220606712495023,17.801986252708506,19.53753766173869,21.442291464851632,23.53274354342217,25.82699799544537,28.344923923806043,31.1083275101519,34.14114086459442,37.46962928674617,41.12261873305338,45.1317454603759,49.53173000782097,54.3606778896168,59.66040960313872,65.47682281008025,71.86028982739487,78.8660938704284,86.55490782627018,94.99331970368097,104.25440931019016,114.418381150601,125.57325902804361,137.81564836308058,151.25157283283247,165.99739257573398,182.18081191391704,199.9419853204719,219.4347312096806,240.82786406209908,264.3066564211884,290.0744434229367,318.35438375429874,349.3913922910088,383.4542611521401,420.8379875405351,461.86632852907377,506.8946049181909,556.3127784470978,610.5488290085041,670.0724611147924,735.3991717150303,807.0947145916272,885.7799999999999],\"y\":[1190.5204775595096,1178.8782413821698,1167.3498559665463,1155.9342079529936,1144.6301948695377,1133.4367250254043,1122.3527174055885,1111.377101566455,1100.5088175323592,1089.7468156932803,1079.0900567034537,1068.537511380996,1058.088160608512,1047.740995234672,1037.4950159767525,1027.3492333241306,1017.3026674427215,1007.3543480803492,997.5033144730459,987.7486152522641,978.0893083529988,968.5244609228065,959.0531492317143,949.6744585830111,940.3874832249093,931.1913262630721,922.0850995739953,913.0679237192359,904.1389278604802,895.2972496754426,886.5420352745856,877.8724391186553,869.2876239370232,860.7867606468263,852.3690282728977,844.033613868481,835.7797124367189,827.6065268529111,819.5132677875307,811.4991536299949,803.5634104131803,795.7052717386767,787.9239787027718,780.2187798231597,772.5889309663659,765.0336952758825,757.552343101006,750.1441519263707,742.8084063021712,735.544397775068,728.3514248197679,721.2287927712746,714.1758137577978,707.1918066343281,700.2760969168494,693.4280167172006,686.6469046785777,679.9321059116596,673.2829719313634,666.6988605942155,660.1791360363377,653.723168612037,647.3303348329978,641.0000173080684,634.731604683636,628.5244915845844,622.3780785558305,616.2917720044309,610.2649841422555,604.297132929222,598.3876420170848,592.5359406937733,586.7414638282762,581.003651816063,575.3219505250397,569.695811242034,564.1246906198022,558.608050624556,553.1453584840007,547.7360866358832,542.3797126770422,537.0757193129565,531.8235943077874,526.6228304349094,521.472925427924,516.3733819321535,511.3237074566086,506.32341432642573,501.3720196357698,496.46904520119716,491.6140175154749,486.80646770185155,482.04593146877517,477.331949065054,472.664065235456,468.0418291767422,463.4647944941302,458.9325191581831,454.4445654621208,450.0004999795478]},{\"legendgroup\":\"group2\",\"legendgrouptitle\":{\"font\":{\"color\":\"rgb(10,10,10)\"},\"text\":\"CO<sub>2</sub> capacity\"},\"marker\":{\"color\":\"rgb(105,105,105)\",\"size\":6,\"symbol\":\"circle-open\"},\"mode\":\"markers\",\"name\":\"Carbon Capture - Prospective\",\"type\":\"scatter\",\"x\":[32.86,38.96,40.66,203.594,366.528,529.462,692.396,855.33,1018.264,1181.198,1344.132,1507.066,1670.0,1966.5,2263.0,2559.5,2856.0,3152.5,3449.0,3745.5,4042.0,4338.5,4635.0,4931.5,5228.0,5524.5,5821.0,6117.5,6414.0,6710.5,7007.0,7303.5,7600.0],\"xaxis\":\"x2\",\"y\":[70.75,69.16,68.77,55.49,51.31,48.86,47.15,45.84,44.79,43.91,43.16,42.51,41.93,41.03,40.27,39.61,39.04,38.53,38.07,37.65,37.27,36.92,36.6,36.3,36.02,35.76,35.51,35.27,35.05,34.84,34.64,34.45,34.27],\"yaxis\":\"y2\"},{\"legendgroup\":\"group2\",\"marker\":{\"color\":\"rgb(105,105,105)\",\"size\":6,\"symbol\":\"circle\"},\"mode\":\"markers+text\",\"name\":\"Carbon Capture - Historical\",\"textfont\":{\"size\":10},\"type\":\"scatter\",\"x\":[13.06,18.06,18.06,18.06,25.96,25.96,25.96,26.96,32.26,1018.0],\"xaxis\":\"x2\",\"y\":[79.78,71.5,65.64,62.21,91.9,106.24,110.08,112.2,66.3,43.86],\"yaxis\":\"y2\"},{\"legendgroup\":\"group2\",\"line\":{\"color\":\"rgb(105,105,105)\",\"width\":1.5},\"mode\":\"lines\",\"name\":\"Carbon Capture - Learning Curve\",\"type\":\"scatter\",\"x\":[13.059999999999999,13.927435662841141,14.852485768957063,15.83897702759672,16.890990315242895,18.01287755721426,19.209279730531144,20.485146062518446,21.84575450456579,23.296733565739835,24.844085596569162,26.49421161932123,28.253937807488104,30.130543724020328,32.131792435123664,34.26596262419223,36.54188283872561,38.968968011901225,41.557258409882756,44.31746116598055,47.26099457348047,50.40003532037013,53.74756886136111,57.317443135584284,61.12442585217502,65.18426558072522,69.5137568993186,74.13080986965078,79.05452412663632,84.30526788899311,89.90476221765229,95.87617087055007,102.24419612550913,109.03518096760644,116.27721806375047,124.00026597527064,132.23627308926274,141.01930978136278,150.38570935667647,160.37421835190187,171.02615682040968,182.38558926334116,194.49950691382517,207.4180221283787,221.1945756896443,235.88615787802192,251.5535442267181,268.2615469354732,286.07928298300476,305.08046004728357,325.3436814164257,346.9527711515431,369.9971208466741,394.5720594202536,420.77924746786476,448.72709780761085,478.5312239578043,510.3149184022163,544.2096626213548,580.355670999648,618.902470858545,660.0095210149931,703.8468714241129,750.5958666348663,800.4498959687281,853.6151935246819,910.3116913199616,970.7739290957786,1035.252024551683,1104.0127080221748,1177.3404258757932,1255.5385172011563,1338.9304686476316,1427.86125261161,1522.6987543041319,1623.8352936033039,1731.689247987042,1846.706783259823,1969.36369923304,2100.167397994104,2239.6589829065365,2388.4154970241207,2547.0523101788813,2716.2256646177084,2896.635389718307,3089.027797014586,3294.1987675075466,3512.997044033073,3746.3277423064114,3995.1560951676456,4260.511445517231,4543.491504459383,4845.266892268251,5167.085980961739,5510.280058515545,5876.268836080534,6266.566320985461,6682.787079820223,7126.65291750859,7600.0],\"xaxis\":\"x2\",\"y\":[79.99950000389927,79.31734202007797,78.64100081654742,77.97042679345866,77.30557077390206,76.64638400030087,75.9928181308355,75.34482523589864,74.70235779457985,74.06536869118091,73.4338112117605,72.80763904070835,72.18680625734868,71.57126733257277,70.9609771254997,70.35589088016616,69.75596422224423,69.1611531557871,68.57141406000267,67.98670368605444,67.4069791538902,66.83219794909692,66.26231791978324,65.69729727348819,65.13709457411625,64.58166873889866,64.03097903538053,63.48498507843393,62.94364682729588,62.40692458263217,61.87477898362592,61.34717100509105,60.82406195461032,60.30541346969779,59.79118751498566,59.28134637943462,58.77585267356852,58.2746693267323,57.77775958437338,57.28508700534643,56.796615459240655,56.31230912373031,55.83213248194764,55.35605031987822,54.88402772377853,54.41603007761545,53.95202306052791,53.49197264430961,53.03584509091381,52.58360694997903,52.135225056375916,51.6906665277752,51.24989876223605,50.812889435815414,50.37960650019731,49.950018180342695,49.52409297215917,49.10179964019058,48.683107215326466,48.26798499253077,47.85640252859015,47.44832963988145,47.04373640015805,46.6425931383553,46.24487043641459,45.850539127125856,45.45957029198868,45.07193525909156,44.68760560100911,44.30655313271742,43.92874990952713,43.554168225033926,43.182780609086905,42.814559825773806,42.449478871423814,42.08751097262716,41.72862958427166,41.37280838759612,41.02002128826009,40.670242414430355,40.3234461148835,39.97960695712483,39.63869972552325,39.30069941946204,38.965581251505476,38.633320645580994,38.30389323517685,37.97727486155526,37.653441571980665,37.332369617963145,37.014035453516875,36.69841573343324,36.38548731156892,36.075227239148404,35.76761276308102,35.46262132429234,35.160230556069806,34.86041828242244,34.56316251645459,34.26844145875344],\"yaxis\":\"y2\"}],                        {\"annotations\":[{\"font\":{\"color\":\"rgb(10,10,10)\",\"family\":\"Times New Roman\",\"size\":10},\"showarrow\":true,\"text\":\"2010\",\"x\":2.250420002308894,\"y\":3.281941933440825},{\"font\":{\"color\":\"rgb(10,10,10)\",\"family\":\"Times New Roman\",\"size\":10},\"showarrow\":true,\"text\":\"2020\",\"x\":2.843855422623161,\"y\":3.1192558892779365},{\"font\":{\"color\":\"rgb(10,10,10)\",\"family\":\"Times New Roman\",\"size\":10},\"showarrow\":true,\"text\":\"2050\",\"x\":3.8386934721408297,\"y\":2.923280294697208},{\"font\":{\"color\":\"rgb(10,10,10)\",\"family\":\"Times New Roman\",\"size\":10},\"showarrow\":true,\"text\":\"2010\",\"x\":0.48515334990365233,\"y\":3.659821158055705},{\"font\":{\"color\":\"rgb(10,10,10)\",\"family\":\"Times New Roman\",\"size\":10},\"showarrow\":true,\"text\":\"2020\",\"x\":1.5361416229050349,\"y\":3.4902394852462875},{\"font\":{\"color\":\"rgb(10,10,10)\",\"family\":\"Times New Roman\",\"size\":10},\"showarrow\":true,\"text\":\"2050\",\"x\":3.135917807416897,\"y\":3.0633333589517497},{\"font\":{\"color\":\"rgb(10,10,10)\",\"family\":\"Times New Roman\",\"size\":10},\"showarrow\":true,\"text\":\"2013\",\"x\":1.4313637641589874,\"y\":3.5790973265526436},{\"font\":{\"color\":\"rgb(10,10,10)\",\"family\":\"Times New Roman\",\"size\":10},\"showarrow\":true,\"text\":\"2020\",\"x\":1.968482948553935,\"y\":3.3879234669734366},{\"font\":{\"color\":\"rgb(10,10,10)\",\"family\":\"Times New Roman\",\"size\":10},\"showarrow\":true,\"text\":\"2050\",\"x\":3.2908845508834896,\"y\":2.8159096508867747},{\"font\":{\"color\":\"rgb(10,10,10)\",\"family\":\"Times New Roman\",\"size\":10},\"showarrow\":true,\"text\":\"2010\",\"x\":0.1024337056813363,\"y\":3.9459607035775686},{\"font\":{\"color\":\"rgb(10,10,10)\",\"family\":\"Times New Roman\",\"size\":10},\"showarrow\":true,\"text\":\"2020\",\"x\":0.8115079799453266,\"y\":3.6481647785740012},{\"font\":{\"color\":\"rgb(10,10,10)\",\"family\":\"Times New Roman\",\"size\":10},\"showarrow\":true,\"text\":\"2050\",\"x\":2.629409599102719,\"y\":2.760422483423212},{\"font\":{\"color\":\"rgb(10,10,10)\",\"family\":\"Times New Roman\",\"size\":10},\"showarrow\":true,\"text\":\"1985\",\"x\":-1.6989700043360187,\"y\":4.539665636066127},{\"font\":{\"color\":\"rgb(10,10,10)\",\"family\":\"Times New Roman\",\"size\":10},\"showarrow\":true,\"text\":\"2008\",\"x\":0.05804623039528174,\"y\":3.6251065754034677},{\"font\":{\"color\":\"rgb(10,10,10)\",\"family\":\"Times New Roman\",\"size\":10},\"showarrow\":true,\"text\":\"2050\",\"x\":1.3821251522253217,\"y\":2.8208317472884548},{\"font\":{\"color\":\"rgb(10,10,10)\",\"family\":\"Times New Roman\",\"size\":10},\"showarrow\":true,\"text\":\"2018\",\"x\":0.3372595397502757,\"y\":3.4448142835328017},{\"font\":{\"color\":\"rgb(10,10,10)\",\"family\":\"Times New Roman\",\"size\":10},\"showarrow\":true,\"text\":\"2018\",\"x\":0.7937903846908186,\"y\":2.9556877503135057},{\"font\":{\"color\":\"rgb(10,10,10)\",\"family\":\"Times New Roman\",\"size\":10},\"showarrow\":true,\"text\":\"2018\",\"x\":0.7937903846908186,\"y\":2.9556877503135057},{\"font\":{\"color\":\"rgb(10,10,10)\",\"family\":\"Times New Roman\",\"size\":10},\"showarrow\":true,\"text\":\"2050\",\"x\":1.3898214629105228,\"y\":2.5998830720736876},{\"font\":{\"color\":\"rgb(10,10,10)\",\"family\":\"Times New Roman\",\"size\":10},\"showarrow\":true,\"text\":\"2012\",\"x\":-4.218244625347531,\"y\":4.1596574112477045},{\"font\":{\"color\":\"rgb(10,10,10)\",\"family\":\"Times New Roman\",\"size\":10},\"showarrow\":true,\"text\":\"2015\",\"x\":-3.895854449445992,\"y\":3.955543442459743},{\"font\":{\"color\":\"rgb(10,10,10)\",\"family\":\"Times New Roman\",\"size\":10},\"showarrow\":true,\"text\":\"2017\",\"x\":-3.4905286478974515,\"y\":3.733678655677088},{\"font\":{\"color\":\"rgb(10,10,10)\",\"family\":\"Times New Roman\",\"size\":10},\"showarrow\":true,\"text\":\"2018\",\"x\":-3.3265183029266527,\"y\":3.38524868240322},{\"font\":{\"color\":\"rgb(10,10,10)\",\"family\":\"Times New Roman\",\"size\":10},\"showarrow\":true,\"text\":\"2020\",\"x\":-2.930442895417305,\"y\":3.38147609027503},{\"font\":{\"color\":\"rgb(10,10,10)\",\"family\":\"Times New Roman\",\"size\":10},\"showarrow\":true,\"text\":\"2050\",\"x\":2.92272545799326,\"y\":2.8750612633917},{\"font\":{\"color\":\"rgb(10,10,10)\",\"family\":\"Times New Roman\",\"size\":10},\"showarrow\":true,\"text\":\"2003\",\"x\":-2.285494210603541,\"y\":3.600537294364469},{\"font\":{\"color\":\"rgb(10,10,10)\",\"family\":\"Times New Roman\",\"size\":10},\"showarrow\":true,\"text\":\"2004\",\"x\":-2.2853685188070583,\"y\":3.867054800476702},{\"font\":{\"color\":\"rgb(10,10,10)\",\"family\":\"Times New Roman\",\"size\":10},\"showarrow\":true,\"text\":\"2005\",\"x\":-2.2836042982570803,\"y\":3.4604467838807205},{\"font\":{\"color\":\"rgb(10,10,10)\",\"family\":\"Times New Roman\",\"size\":10},\"showarrow\":true,\"text\":\"2008\",\"x\":-2.2697589113934504,\"y\":3.484299839346786},{\"font\":{\"color\":\"rgb(10,10,10)\",\"family\":\"Times New Roman\",\"size\":10},\"showarrow\":true,\"text\":\"2009\",\"x\":-2.2692177243336107,\"y\":3.4063698354692673},{\"font\":{\"color\":\"rgb(10,10,10)\",\"family\":\"Times New Roman\",\"size\":10},\"showarrow\":true,\"text\":\"2010\",\"x\":-2.268644962630191,\"y\":3.402089350572097},{\"font\":{\"color\":\"rgb(10,10,10)\",\"family\":\"Times New Roman\",\"size\":10},\"showarrow\":true,\"text\":\"2013\",\"x\":-2.177786138988302,\"y\":3.1280760126687155},{\"font\":{\"color\":\"rgb(10,10,10)\",\"family\":\"Times New Roman\",\"size\":10},\"showarrow\":true,\"text\":\"2014\",\"x\":-1.986897220069364,\"y\":3.5538830266438746},{\"font\":{\"color\":\"rgb(10,10,10)\",\"family\":\"Times New Roman\",\"size\":10},\"showarrow\":true,\"text\":\"2015\",\"x\":-1.9271511083665063,\"y\":3.37675939540488},{\"font\":{\"color\":\"rgb(10,10,10)\",\"family\":\"Times New Roman\",\"size\":10},\"showarrow\":true,\"text\":\"2016\",\"x\":-1.8867922301772648,\"y\":3.3740147402919116},{\"font\":{\"color\":\"rgb(10,10,10)\",\"family\":\"Times New Roman\",\"size\":10},\"showarrow\":true,\"text\":\"2017\",\"x\":-1.8755349025572396,\"y\":3.263399331334002},{\"font\":{\"color\":\"rgb(10,10,10)\",\"family\":\"Times New Roman\",\"size\":10},\"showarrow\":true,\"text\":\"2018\",\"x\":-1.6287288985124155,\"y\":3.0729847446279304},{\"font\":{\"color\":\"rgb(10,10,10)\",\"family\":\"Times New Roman\",\"size\":10},\"showarrow\":true,\"text\":\"2020\",\"x\":-1.2863868301303814,\"y\":3.1699681739968923},{\"font\":{\"color\":\"rgb(10,10,10)\",\"family\":\"Times New Roman\",\"size\":10},\"showarrow\":true,\"text\":\"2030\",\"x\":2.054574755294823,\"y\":3.031408464251624},{\"font\":{\"color\":\"rgb(10,10,10)\",\"family\":\"Times New Roman\",\"size\":10},\"showarrow\":true,\"text\":\"2050\",\"x\":2.8248804726501304,\"y\":2.7403626894942437},{\"font\":{\"color\":\"rgb(10,10,10)\",\"family\":\"Times New Roman\",\"size\":10},\"showarrow\":true,\"text\":\"2015\",\"x\":-1.0524094506374153,\"y\":3.162564406523019},{\"font\":{\"color\":\"rgb(10,10,10)\",\"family\":\"Times New Roman\",\"size\":10},\"showarrow\":true,\"text\":\"2016\",\"x\":-1.0403052713964194,\"y\":3.0729847446279304},{\"font\":{\"color\":\"rgb(10,10,10)\",\"family\":\"Times New Roman\",\"size\":10},\"showarrow\":true,\"text\":\"2017\",\"x\":-1.0299787341716342,\"y\":3.0729847446279304},{\"font\":{\"color\":\"rgb(10,10,10)\",\"family\":\"Times New Roman\",\"size\":10},\"showarrow\":true,\"text\":\"2018\",\"x\":-1.0142368200090073,\"y\":2.9763499790032735},{\"font\":{\"color\":\"rgb(10,10,10)\",\"family\":\"Times New Roman\",\"size\":10},\"showarrow\":true,\"text\":\"2019\",\"x\":-1.0017711853534879,\"y\":2.77232170672292},{\"font\":{\"color\":\"rgb(10,10,10)\",\"family\":\"Times New Roman\",\"size\":10},\"showarrow\":true,\"text\":\"2020\",\"x\":-0.931324441179666,\"y\":2.77232170672292},{\"font\":{\"color\":\"rgb(10,10,10)\",\"family\":\"Times New Roman\",\"size\":10},\"showarrow\":true,\"text\":\"2030\",\"x\":2.2963097129703347,\"y\":2.7958800173440754},{\"font\":{\"color\":\"rgb(10,10,10)\",\"family\":\"Times New Roman\",\"size\":10},\"showarrow\":true,\"text\":\"2050\",\"x\":2.947325870137387,\"y\":2.6532125137753435},{\"font\":{\"color\":\"rgb(10,10,10)\",\"family\":\"Times New Roman\",\"size\":10},\"showarrow\":true,\"text\":\"2050\",\"x\":3.8808135922807914,\"xref\":\"x2\",\"y\":1.5349141044298669,\"yref\":\"y2\"},{\"font\":{\"color\":\"rgb(10,10,10)\",\"family\":\"Times New Roman\",\"size\":10},\"showarrow\":true,\"text\":\"2009\",\"x\":1.115943176939055,\"xref\":\"x2\",\"y\":1.9018940319738207,\"yref\":\"y2\"},{\"font\":{\"color\":\"rgb(10,10,10)\",\"family\":\"Times New Roman\",\"size\":10},\"showarrow\":true,\"text\":\"2011\",\"x\":1.256717745977487,\"xref\":\"x2\",\"y\":1.8171685723810556,\"yref\":\"y2\"},{\"font\":{\"color\":\"rgb(10,10,10)\",\"family\":\"Times New Roman\",\"size\":10},\"showarrow\":true,\"text\":\"2013\",\"x\":1.4143046881283317,\"xref\":\"x2\",\"y\":2.0417084208914362,\"yref\":\"y2\"},{\"font\":{\"color\":\"rgb(10,10,10)\",\"family\":\"Times New Roman\",\"size\":10},\"showarrow\":true,\"text\":\"2014\",\"x\":1.4307198878632823,\"xref\":\"x2\",\"y\":2.0499928569201424,\"yref\":\"y2\"},{\"font\":{\"color\":\"rgb(10,10,10)\",\"family\":\"Times New Roman\",\"size\":10},\"showarrow\":true,\"text\":\"2017\",\"x\":1.5086643630529426,\"xref\":\"x2\",\"y\":1.8215135284047732,\"yref\":\"y2\"},{\"font\":{\"color\":\"rgb(10,10,10)\",\"family\":\"Times New Roman\",\"size\":10},\"showarrow\":true,\"text\":\"2026\",\"x\":3.00774777800074,\"xref\":\"x2\",\"y\":1.6420686273415042,\"yref\":\"y2\"}],\"font\":{\"color\":\"rgb(10,10,10)\",\"family\":\"Times New Roman\",\"size\":16},\"legend\":{\"x\":1.2},\"template\":{\"data\":{\"bar\":[{\"error_x\":{\"color\":\"#2a3f5f\"},\"error_y\":{\"color\":\"#2a3f5f\"},\"marker\":{\"line\":{\"color\":\"#E5ECF6\",\"width\":0.5},\"pattern\":{\"fillmode\":\"overlay\",\"size\":10,\"solidity\":0.2}},\"type\":\"bar\"}],\"barpolar\":[{\"marker\":{\"line\":{\"color\":\"#E5ECF6\",\"width\":0.5},\"pattern\":{\"fillmode\":\"overlay\",\"size\":10,\"solidity\":0.2}},\"type\":\"barpolar\"}],\"carpet\":[{\"aaxis\":{\"endlinecolor\":\"#2a3f5f\",\"gridcolor\":\"white\",\"linecolor\":\"white\",\"minorgridcolor\":\"white\",\"startlinecolor\":\"#2a3f5f\"},\"baxis\":{\"endlinecolor\":\"#2a3f5f\",\"gridcolor\":\"white\",\"linecolor\":\"white\",\"minorgridcolor\":\"white\",\"startlinecolor\":\"#2a3f5f\"},\"type\":\"carpet\"}],\"choropleth\":[{\"colorbar\":{\"outlinewidth\":0,\"ticks\":\"\"},\"type\":\"choropleth\"}],\"contour\":[{\"colorbar\":{\"outlinewidth\":0,\"ticks\":\"\"},\"colorscale\":[[0.0,\"#0d0887\"],[0.1111111111111111,\"#46039f\"],[0.2222222222222222,\"#7201a8\"],[0.3333333333333333,\"#9c179e\"],[0.4444444444444444,\"#bd3786\"],[0.5555555555555556,\"#d8576b\"],[0.6666666666666666,\"#ed7953\"],[0.7777777777777778,\"#fb9f3a\"],[0.8888888888888888,\"#fdca26\"],[1.0,\"#f0f921\"]],\"type\":\"contour\"}],\"contourcarpet\":[{\"colorbar\":{\"outlinewidth\":0,\"ticks\":\"\"},\"type\":\"contourcarpet\"}],\"heatmap\":[{\"colorbar\":{\"outlinewidth\":0,\"ticks\":\"\"},\"colorscale\":[[0.0,\"#0d0887\"],[0.1111111111111111,\"#46039f\"],[0.2222222222222222,\"#7201a8\"],[0.3333333333333333,\"#9c179e\"],[0.4444444444444444,\"#bd3786\"],[0.5555555555555556,\"#d8576b\"],[0.6666666666666666,\"#ed7953\"],[0.7777777777777778,\"#fb9f3a\"],[0.8888888888888888,\"#fdca26\"],[1.0,\"#f0f921\"]],\"type\":\"heatmap\"}],\"heatmapgl\":[{\"colorbar\":{\"outlinewidth\":0,\"ticks\":\"\"},\"colorscale\":[[0.0,\"#0d0887\"],[0.1111111111111111,\"#46039f\"],[0.2222222222222222,\"#7201a8\"],[0.3333333333333333,\"#9c179e\"],[0.4444444444444444,\"#bd3786\"],[0.5555555555555556,\"#d8576b\"],[0.6666666666666666,\"#ed7953\"],[0.7777777777777778,\"#fb9f3a\"],[0.8888888888888888,\"#fdca26\"],[1.0,\"#f0f921\"]],\"type\":\"heatmapgl\"}],\"histogram\":[{\"marker\":{\"pattern\":{\"fillmode\":\"overlay\",\"size\":10,\"solidity\":0.2}},\"type\":\"histogram\"}],\"histogram2d\":[{\"colorbar\":{\"outlinewidth\":0,\"ticks\":\"\"},\"colorscale\":[[0.0,\"#0d0887\"],[0.1111111111111111,\"#46039f\"],[0.2222222222222222,\"#7201a8\"],[0.3333333333333333,\"#9c179e\"],[0.4444444444444444,\"#bd3786\"],[0.5555555555555556,\"#d8576b\"],[0.6666666666666666,\"#ed7953\"],[0.7777777777777778,\"#fb9f3a\"],[0.8888888888888888,\"#fdca26\"],[1.0,\"#f0f921\"]],\"type\":\"histogram2d\"}],\"histogram2dcontour\":[{\"colorbar\":{\"outlinewidth\":0,\"ticks\":\"\"},\"colorscale\":[[0.0,\"#0d0887\"],[0.1111111111111111,\"#46039f\"],[0.2222222222222222,\"#7201a8\"],[0.3333333333333333,\"#9c179e\"],[0.4444444444444444,\"#bd3786\"],[0.5555555555555556,\"#d8576b\"],[0.6666666666666666,\"#ed7953\"],[0.7777777777777778,\"#fb9f3a\"],[0.8888888888888888,\"#fdca26\"],[1.0,\"#f0f921\"]],\"type\":\"histogram2dcontour\"}],\"mesh3d\":[{\"colorbar\":{\"outlinewidth\":0,\"ticks\":\"\"},\"type\":\"mesh3d\"}],\"parcoords\":[{\"line\":{\"colorbar\":{\"outlinewidth\":0,\"ticks\":\"\"}},\"type\":\"parcoords\"}],\"pie\":[{\"automargin\":true,\"type\":\"pie\"}],\"scatter\":[{\"marker\":{\"colorbar\":{\"outlinewidth\":0,\"ticks\":\"\"}},\"type\":\"scatter\"}],\"scatter3d\":[{\"line\":{\"colorbar\":{\"outlinewidth\":0,\"ticks\":\"\"}},\"marker\":{\"colorbar\":{\"outlinewidth\":0,\"ticks\":\"\"}},\"type\":\"scatter3d\"}],\"scattercarpet\":[{\"marker\":{\"colorbar\":{\"outlinewidth\":0,\"ticks\":\"\"}},\"type\":\"scattercarpet\"}],\"scattergeo\":[{\"marker\":{\"colorbar\":{\"outlinewidth\":0,\"ticks\":\"\"}},\"type\":\"scattergeo\"}],\"scattergl\":[{\"marker\":{\"colorbar\":{\"outlinewidth\":0,\"ticks\":\"\"}},\"type\":\"scattergl\"}],\"scattermapbox\":[{\"marker\":{\"colorbar\":{\"outlinewidth\":0,\"ticks\":\"\"}},\"type\":\"scattermapbox\"}],\"scatterpolar\":[{\"marker\":{\"colorbar\":{\"outlinewidth\":0,\"ticks\":\"\"}},\"type\":\"scatterpolar\"}],\"scatterpolargl\":[{\"marker\":{\"colorbar\":{\"outlinewidth\":0,\"ticks\":\"\"}},\"type\":\"scatterpolargl\"}],\"scatterternary\":[{\"marker\":{\"colorbar\":{\"outlinewidth\":0,\"ticks\":\"\"}},\"type\":\"scatterternary\"}],\"surface\":[{\"colorbar\":{\"outlinewidth\":0,\"ticks\":\"\"},\"colorscale\":[[0.0,\"#0d0887\"],[0.1111111111111111,\"#46039f\"],[0.2222222222222222,\"#7201a8\"],[0.3333333333333333,\"#9c179e\"],[0.4444444444444444,\"#bd3786\"],[0.5555555555555556,\"#d8576b\"],[0.6666666666666666,\"#ed7953\"],[0.7777777777777778,\"#fb9f3a\"],[0.8888888888888888,\"#fdca26\"],[1.0,\"#f0f921\"]],\"type\":\"surface\"}],\"table\":[{\"cells\":{\"fill\":{\"color\":\"#EBF0F8\"},\"line\":{\"color\":\"white\"}},\"header\":{\"fill\":{\"color\":\"#C8D4E3\"},\"line\":{\"color\":\"white\"}},\"type\":\"table\"}]},\"layout\":{\"annotationdefaults\":{\"arrowcolor\":\"#2a3f5f\",\"arrowhead\":0,\"arrowwidth\":1},\"autotypenumbers\":\"strict\",\"coloraxis\":{\"colorbar\":{\"outlinewidth\":0,\"ticks\":\"\"}},\"colorscale\":{\"diverging\":[[0,\"#8e0152\"],[0.1,\"#c51b7d\"],[0.2,\"#de77ae\"],[0.3,\"#f1b6da\"],[0.4,\"#fde0ef\"],[0.5,\"#f7f7f7\"],[0.6,\"#e6f5d0\"],[0.7,\"#b8e186\"],[0.8,\"#7fbc41\"],[0.9,\"#4d9221\"],[1,\"#276419\"]],\"sequential\":[[0.0,\"#0d0887\"],[0.1111111111111111,\"#46039f\"],[0.2222222222222222,\"#7201a8\"],[0.3333333333333333,\"#9c179e\"],[0.4444444444444444,\"#bd3786\"],[0.5555555555555556,\"#d8576b\"],[0.6666666666666666,\"#ed7953\"],[0.7777777777777778,\"#fb9f3a\"],[0.8888888888888888,\"#fdca26\"],[1.0,\"#f0f921\"]],\"sequentialminus\":[[0.0,\"#0d0887\"],[0.1111111111111111,\"#46039f\"],[0.2222222222222222,\"#7201a8\"],[0.3333333333333333,\"#9c179e\"],[0.4444444444444444,\"#bd3786\"],[0.5555555555555556,\"#d8576b\"],[0.6666666666666666,\"#ed7953\"],[0.7777777777777778,\"#fb9f3a\"],[0.8888888888888888,\"#fdca26\"],[1.0,\"#f0f921\"]]},\"colorway\":[\"#636efa\",\"#EF553B\",\"#00cc96\",\"#ab63fa\",\"#FFA15A\",\"#19d3f3\",\"#FF6692\",\"#B6E880\",\"#FF97FF\",\"#FECB52\"],\"font\":{\"color\":\"#2a3f5f\"},\"geo\":{\"bgcolor\":\"white\",\"lakecolor\":\"white\",\"landcolor\":\"#E5ECF6\",\"showlakes\":true,\"showland\":true,\"subunitcolor\":\"white\"},\"hoverlabel\":{\"align\":\"left\"},\"hovermode\":\"closest\",\"mapbox\":{\"style\":\"light\"},\"paper_bgcolor\":\"white\",\"plot_bgcolor\":\"#E5ECF6\",\"polar\":{\"angularaxis\":{\"gridcolor\":\"white\",\"linecolor\":\"white\",\"ticks\":\"\"},\"bgcolor\":\"#E5ECF6\",\"radialaxis\":{\"gridcolor\":\"white\",\"linecolor\":\"white\",\"ticks\":\"\"}},\"scene\":{\"xaxis\":{\"backgroundcolor\":\"#E5ECF6\",\"gridcolor\":\"white\",\"gridwidth\":2,\"linecolor\":\"white\",\"showbackground\":true,\"ticks\":\"\",\"zerolinecolor\":\"white\"},\"yaxis\":{\"backgroundcolor\":\"#E5ECF6\",\"gridcolor\":\"white\",\"gridwidth\":2,\"linecolor\":\"white\",\"showbackground\":true,\"ticks\":\"\",\"zerolinecolor\":\"white\"},\"zaxis\":{\"backgroundcolor\":\"#E5ECF6\",\"gridcolor\":\"white\",\"gridwidth\":2,\"linecolor\":\"white\",\"showbackground\":true,\"ticks\":\"\",\"zerolinecolor\":\"white\"}},\"shapedefaults\":{\"line\":{\"color\":\"#2a3f5f\"}},\"ternary\":{\"aaxis\":{\"gridcolor\":\"white\",\"linecolor\":\"white\",\"ticks\":\"\"},\"baxis\":{\"gridcolor\":\"white\",\"linecolor\":\"white\",\"ticks\":\"\"},\"bgcolor\":\"#E5ECF6\",\"caxis\":{\"gridcolor\":\"white\",\"linecolor\":\"white\",\"ticks\":\"\"}},\"title\":{\"x\":0.05},\"xaxis\":{\"automargin\":true,\"gridcolor\":\"white\",\"linecolor\":\"white\",\"ticks\":\"\",\"title\":{\"standoff\":15},\"zerolinecolor\":\"white\",\"zerolinewidth\":2},\"yaxis\":{\"automargin\":true,\"gridcolor\":\"white\",\"linecolor\":\"white\",\"ticks\":\"\",\"title\":{\"standoff\":15},\"zerolinecolor\":\"white\",\"zerolinewidth\":2}}},\"title\":{\"text\":\"\",\"y\":1},\"xaxis\":{\"showgrid\":false,\"title\":{\"font\":{\"family\":\"Times New Roman\"},\"text\":\"Cumulative Capacity [GW]\"},\"type\":\"log\"},\"xaxis2\":{\"anchor\":\"y\",\"automargin\":true,\"color\":\"rgb(105,105,105)\",\"overlaying\":\"x\",\"showgrid\":true,\"side\":\"top\",\"title\":{\"font\":{\"color\":\"rgb(10,10,10)\",\"family\":\"Times New Roman\"},\"text\":\"CO<sub>2</sub> capture capacity [Mtpa]\"},\"type\":\"log\"},\"yaxis\":{\"showgrid\":false,\"title\":{\"font\":{\"family\":\"Times New Roman\"},\"text\":\"Investment Cost [USD<sub>2018</sub>/kW]\"},\"type\":\"log\"},\"yaxis2\":{\"anchor\":\"x\",\"automargin\":true,\"color\":\"rgb(105,105,105)\",\"overlaying\":\"y\",\"showgrid\":true,\"side\":\"right\",\"title\":{\"font\":{\"color\":\"rgb(10,10,10)\",\"family\":\"Times New Roman\"},\"text\":\"Cost of CO<sub>2</sub> capture [USD<sub>2018</sub>/tCO<sub>2</sub>]\"},\"type\":\"log\"}},                        {\"toImageButtonOptions\": {\"format\": \"png\", \"filename\": \"custom_image\", \"height\": 1200, \"width\": 1800, \"scale\": 3}, \"responsive\": true}                    ).then(function(){\n",
       "                            \n",
       "var gd = document.getElementById('2c8e0f96-0900-446a-9a26-3323bd0a4001');\n",
       "var x = new MutationObserver(function (mutations, observer) {{\n",
       "        var display = window.getComputedStyle(gd).display;\n",
       "        if (!display || display === 'none') {{\n",
       "            console.log([gd, 'removed!']);\n",
       "            Plotly.purge(gd);\n",
       "            observer.disconnect();\n",
       "        }}\n",
       "}});\n",
       "\n",
       "// Listen for the removal of the full notebook cells\n",
       "var notebookContainer = gd.closest('#notebook-container');\n",
       "if (notebookContainer) {{\n",
       "    x.observe(notebookContainer, {childList: true});\n",
       "}}\n",
       "\n",
       "// Listen for the clearing of the current output cell\n",
       "var outputEl = gd.closest('.output');\n",
       "if (outputEl) {{\n",
       "    x.observe(outputEl, {childList: true});\n",
       "}}\n",
       "\n",
       "                        })                };                });            </script>        </div>"
      ]
     },
     "metadata": {},
     "output_type": "display_data"
    }
   ],
   "source": [
    "config = {\n",
    "  'toImageButtonOptions': {\n",
    "    'format': 'png', # one of png, svg, jpeg, webp\n",
    "    'filename': 'custom_image',\n",
    "    'height': 1200,\n",
    "    'width': 1800,\n",
    "    'scale': 3 # Multiply title/legend/axis/canvas sizes by this factor\n",
    "  }\n",
    "}\n",
    "\n",
    "fig.show(config=config)"
   ]
  },
  {
   "cell_type": "code",
   "execution_count": 58,
   "id": "c925221a",
   "metadata": {},
   "outputs": [],
   "source": [
    "# Download image\n",
    "fig.write_image(\"pics/LR_graph_V2.pdf\",width=1800, height=1200, scale=3)"
   ]
  },
  {
   "cell_type": "code",
   "execution_count": null,
   "id": "d871f064",
   "metadata": {},
   "outputs": [],
   "source": []
  }
 ],
 "metadata": {
  "kernelspec": {
   "display_name": "Python 3 (ipykernel)",
   "language": "python",
   "name": "python3"
  },
  "language_info": {
   "codemirror_mode": {
    "name": "ipython",
    "version": 3
   },
   "file_extension": ".py",
   "mimetype": "text/x-python",
   "name": "python",
   "nbconvert_exporter": "python",
   "pygments_lexer": "ipython3",
   "version": "3.7.5"
  },
  "toc": {
   "base_numbering": 1,
   "nav_menu": {},
   "number_sections": false,
   "sideBar": true,
   "skip_h1_title": false,
   "title_cell": "Table of Contents",
   "title_sidebar": "Contents",
   "toc_cell": false,
   "toc_position": {
    "height": "525px",
    "left": "554px",
    "top": "180px",
    "width": "165px"
   },
   "toc_section_display": true,
   "toc_window_display": true
  }
 },
 "nbformat": 4,
 "nbformat_minor": 5
}
