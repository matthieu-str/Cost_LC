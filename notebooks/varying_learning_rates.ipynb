{
 "cells": [
  {
   "cell_type": "markdown",
   "id": "3e1a0330",
   "metadata": {
    "toc": true
   },
   "source": [
    "<h1>Table of Contents<span class=\"tocSkip\"></span></h1>\n",
    "<div class=\"toc\"><ul class=\"toc-item\"><li><span><a href=\"#Onshore-Wind\" data-toc-modified-id=\"Onshore-Wind-1\"><span class=\"toc-item-num\">1&nbsp;&nbsp;</span>Onshore Wind</a></span><ul class=\"toc-item\"><li><span><a href=\"#Boone\" data-toc-modified-id=\"Boone-1.1\"><span class=\"toc-item-num\">1.1&nbsp;&nbsp;</span>Boone</a></span></li><li><span><a href=\"#Sigmoid\" data-toc-modified-id=\"Sigmoid-1.2\"><span class=\"toc-item-num\">1.2&nbsp;&nbsp;</span>Sigmoid</a></span></li><li><span><a href=\"#Plateau\" data-toc-modified-id=\"Plateau-1.3\"><span class=\"toc-item-num\">1.3&nbsp;&nbsp;</span>Plateau</a></span></li><li><span><a href=\"#S-curve\" data-toc-modified-id=\"S-curve-1.4\"><span class=\"toc-item-num\">1.4&nbsp;&nbsp;</span>S-curve</a></span></li></ul></li><li><span><a href=\"#Offshore-wind\" data-toc-modified-id=\"Offshore-wind-2\"><span class=\"toc-item-num\">2&nbsp;&nbsp;</span>Offshore wind</a></span><ul class=\"toc-item\"><li><span><a href=\"#Boone\" data-toc-modified-id=\"Boone-2.1\"><span class=\"toc-item-num\">2.1&nbsp;&nbsp;</span>Boone</a></span></li><li><span><a href=\"#Sigmoid\" data-toc-modified-id=\"Sigmoid-2.2\"><span class=\"toc-item-num\">2.2&nbsp;&nbsp;</span>Sigmoid</a></span></li><li><span><a href=\"#Plateau\" data-toc-modified-id=\"Plateau-2.3\"><span class=\"toc-item-num\">2.3&nbsp;&nbsp;</span>Plateau</a></span></li><li><span><a href=\"#S-curve\" data-toc-modified-id=\"S-curve-2.4\"><span class=\"toc-item-num\">2.4&nbsp;&nbsp;</span>S-curve</a></span></li></ul></li><li><span><a href=\"#Residential-PV\" data-toc-modified-id=\"Residential-PV-3\"><span class=\"toc-item-num\">3&nbsp;&nbsp;</span>Residential PV</a></span><ul class=\"toc-item\"><li><span><a href=\"#Boone\" data-toc-modified-id=\"Boone-3.1\"><span class=\"toc-item-num\">3.1&nbsp;&nbsp;</span>Boone</a></span></li><li><span><a href=\"#Sigmoid\" data-toc-modified-id=\"Sigmoid-3.2\"><span class=\"toc-item-num\">3.2&nbsp;&nbsp;</span>Sigmoid</a></span></li><li><span><a href=\"#Plateau\" data-toc-modified-id=\"Plateau-3.3\"><span class=\"toc-item-num\">3.3&nbsp;&nbsp;</span>Plateau</a></span></li><li><span><a href=\"#S-curve\" data-toc-modified-id=\"S-curve-3.4\"><span class=\"toc-item-num\">3.4&nbsp;&nbsp;</span>S-curve</a></span></li></ul></li><li><span><a href=\"#Utility-scale-PV\" data-toc-modified-id=\"Utility-scale-PV-4\"><span class=\"toc-item-num\">4&nbsp;&nbsp;</span>Utility-scale PV</a></span><ul class=\"toc-item\"><li><span><a href=\"#Boone\" data-toc-modified-id=\"Boone-4.1\"><span class=\"toc-item-num\">4.1&nbsp;&nbsp;</span>Boone</a></span></li><li><span><a href=\"#Sigmoid\" data-toc-modified-id=\"Sigmoid-4.2\"><span class=\"toc-item-num\">4.2&nbsp;&nbsp;</span>Sigmoid</a></span></li><li><span><a href=\"#Plateau\" data-toc-modified-id=\"Plateau-4.3\"><span class=\"toc-item-num\">4.3&nbsp;&nbsp;</span>Plateau</a></span></li><li><span><a href=\"#S-curve\" data-toc-modified-id=\"S-curve-4.4\"><span class=\"toc-item-num\">4.4&nbsp;&nbsp;</span>S-curve</a></span></li></ul></li><li><span><a href=\"#Commercial-PV\" data-toc-modified-id=\"Commercial-PV-5\"><span class=\"toc-item-num\">5&nbsp;&nbsp;</span>Commercial PV</a></span><ul class=\"toc-item\"><li><span><a href=\"#Boone\" data-toc-modified-id=\"Boone-5.1\"><span class=\"toc-item-num\">5.1&nbsp;&nbsp;</span>Boone</a></span></li><li><span><a href=\"#Sigmoid\" data-toc-modified-id=\"Sigmoid-5.2\"><span class=\"toc-item-num\">5.2&nbsp;&nbsp;</span>Sigmoid</a></span></li><li><span><a href=\"#Plateau\" data-toc-modified-id=\"Plateau-5.3\"><span class=\"toc-item-num\">5.3&nbsp;&nbsp;</span>Plateau</a></span></li><li><span><a href=\"#S-curve\" data-toc-modified-id=\"S-curve-5.4\"><span class=\"toc-item-num\">5.4&nbsp;&nbsp;</span>S-curve</a></span></li></ul></li><li><span><a href=\"#CSP\" data-toc-modified-id=\"CSP-6\"><span class=\"toc-item-num\">6&nbsp;&nbsp;</span>CSP</a></span><ul class=\"toc-item\"><li><span><a href=\"#Boone\" data-toc-modified-id=\"Boone-6.1\"><span class=\"toc-item-num\">6.1&nbsp;&nbsp;</span>Boone</a></span></li><li><span><a href=\"#Sigmoid\" data-toc-modified-id=\"Sigmoid-6.2\"><span class=\"toc-item-num\">6.2&nbsp;&nbsp;</span>Sigmoid</a></span></li><li><span><a href=\"#Plateau\" data-toc-modified-id=\"Plateau-6.3\"><span class=\"toc-item-num\">6.3&nbsp;&nbsp;</span>Plateau</a></span></li><li><span><a href=\"#S-curve\" data-toc-modified-id=\"S-curve-6.4\"><span class=\"toc-item-num\">6.4&nbsp;&nbsp;</span>S-curve</a></span></li></ul></li><li><span><a href=\"#Geothermal\" data-toc-modified-id=\"Geothermal-7\"><span class=\"toc-item-num\">7&nbsp;&nbsp;</span>Geothermal</a></span><ul class=\"toc-item\"><li><span><a href=\"#Boone\" data-toc-modified-id=\"Boone-7.1\"><span class=\"toc-item-num\">7.1&nbsp;&nbsp;</span>Boone</a></span></li><li><span><a href=\"#Sigmoid\" data-toc-modified-id=\"Sigmoid-7.2\"><span class=\"toc-item-num\">7.2&nbsp;&nbsp;</span>Sigmoid</a></span></li><li><span><a href=\"#Plateau\" data-toc-modified-id=\"Plateau-7.3\"><span class=\"toc-item-num\">7.3&nbsp;&nbsp;</span>Plateau</a></span></li><li><span><a href=\"#S-curve\" data-toc-modified-id=\"S-curve-7.4\"><span class=\"toc-item-num\">7.4&nbsp;&nbsp;</span>S-curve</a></span></li></ul></li><li><span><a href=\"#GSHP\" data-toc-modified-id=\"GSHP-8\"><span class=\"toc-item-num\">8&nbsp;&nbsp;</span>GSHP</a></span><ul class=\"toc-item\"><li><span><a href=\"#Boone\" data-toc-modified-id=\"Boone-8.1\"><span class=\"toc-item-num\">8.1&nbsp;&nbsp;</span>Boone</a></span></li><li><span><a href=\"#Sigmoid\" data-toc-modified-id=\"Sigmoid-8.2\"><span class=\"toc-item-num\">8.2&nbsp;&nbsp;</span>Sigmoid</a></span></li><li><span><a href=\"#Plateau\" data-toc-modified-id=\"Plateau-8.3\"><span class=\"toc-item-num\">8.3&nbsp;&nbsp;</span>Plateau</a></span></li><li><span><a href=\"#S-curve\" data-toc-modified-id=\"S-curve-8.4\"><span class=\"toc-item-num\">8.4&nbsp;&nbsp;</span>S-curve</a></span></li></ul></li><li><span><a href=\"#Hydro\" data-toc-modified-id=\"Hydro-9\"><span class=\"toc-item-num\">9&nbsp;&nbsp;</span>Hydro</a></span><ul class=\"toc-item\"><li><span><a href=\"#Boone\" data-toc-modified-id=\"Boone-9.1\"><span class=\"toc-item-num\">9.1&nbsp;&nbsp;</span>Boone</a></span></li><li><span><a href=\"#Sigmoid\" data-toc-modified-id=\"Sigmoid-9.2\"><span class=\"toc-item-num\">9.2&nbsp;&nbsp;</span>Sigmoid</a></span></li><li><span><a href=\"#Plateau\" data-toc-modified-id=\"Plateau-9.3\"><span class=\"toc-item-num\">9.3&nbsp;&nbsp;</span>Plateau</a></span></li><li><span><a href=\"#S-curve\" data-toc-modified-id=\"S-curve-9.4\"><span class=\"toc-item-num\">9.4&nbsp;&nbsp;</span>S-curve</a></span></li></ul></li><li><span><a href=\"#Carbon-capture\" data-toc-modified-id=\"Carbon-capture-10\"><span class=\"toc-item-num\">10&nbsp;&nbsp;</span>Carbon capture</a></span><ul class=\"toc-item\"><li><span><a href=\"#Boone\" data-toc-modified-id=\"Boone-10.1\"><span class=\"toc-item-num\">10.1&nbsp;&nbsp;</span>Boone</a></span></li><li><span><a href=\"#Sigmoid\" data-toc-modified-id=\"Sigmoid-10.2\"><span class=\"toc-item-num\">10.2&nbsp;&nbsp;</span>Sigmoid</a></span></li><li><span><a href=\"#Plateau\" data-toc-modified-id=\"Plateau-10.3\"><span class=\"toc-item-num\">10.3&nbsp;&nbsp;</span>Plateau</a></span></li><li><span><a href=\"#S-curve\" data-toc-modified-id=\"S-curve-10.4\"><span class=\"toc-item-num\">10.4&nbsp;&nbsp;</span>S-curve</a></span></li></ul></li><li><span><a href=\"#ALK\" data-toc-modified-id=\"ALK-11\"><span class=\"toc-item-num\">11&nbsp;&nbsp;</span>ALK</a></span><ul class=\"toc-item\"><li><span><a href=\"#Boone\" data-toc-modified-id=\"Boone-11.1\"><span class=\"toc-item-num\">11.1&nbsp;&nbsp;</span>Boone</a></span></li><li><span><a href=\"#Sigmoid\" data-toc-modified-id=\"Sigmoid-11.2\"><span class=\"toc-item-num\">11.2&nbsp;&nbsp;</span>Sigmoid</a></span></li><li><span><a href=\"#Plateau\" data-toc-modified-id=\"Plateau-11.3\"><span class=\"toc-item-num\">11.3&nbsp;&nbsp;</span>Plateau</a></span></li><li><span><a href=\"#S-curve\" data-toc-modified-id=\"S-curve-11.4\"><span class=\"toc-item-num\">11.4&nbsp;&nbsp;</span>S-curve</a></span></li></ul></li><li><span><a href=\"#PEM\" data-toc-modified-id=\"PEM-12\"><span class=\"toc-item-num\">12&nbsp;&nbsp;</span>PEM</a></span><ul class=\"toc-item\"><li><span><a href=\"#Boone\" data-toc-modified-id=\"Boone-12.1\"><span class=\"toc-item-num\">12.1&nbsp;&nbsp;</span>Boone</a></span></li><li><span><a href=\"#Sigmoid-(points-in-2030-and-2050)\" data-toc-modified-id=\"Sigmoid-(points-in-2030-and-2050)-12.2\"><span class=\"toc-item-num\">12.2&nbsp;&nbsp;</span>Sigmoid (points in 2030 and 2050)</a></span></li><li><span><a href=\"#Sigmoid-(point-in-2030)\" data-toc-modified-id=\"Sigmoid-(point-in-2030)-12.3\"><span class=\"toc-item-num\">12.3&nbsp;&nbsp;</span>Sigmoid (point in 2030)</a></span></li><li><span><a href=\"#Plateau\" data-toc-modified-id=\"Plateau-12.4\"><span class=\"toc-item-num\">12.4&nbsp;&nbsp;</span>Plateau</a></span></li><li><span><a href=\"#S-curve\" data-toc-modified-id=\"S-curve-12.5\"><span class=\"toc-item-num\">12.5&nbsp;&nbsp;</span>S-curve</a></span></li></ul></li><li><span><a href=\"#SOEC\" data-toc-modified-id=\"SOEC-13\"><span class=\"toc-item-num\">13&nbsp;&nbsp;</span>SOEC</a></span><ul class=\"toc-item\"><li><span><a href=\"#Boone\" data-toc-modified-id=\"Boone-13.1\"><span class=\"toc-item-num\">13.1&nbsp;&nbsp;</span>Boone</a></span></li><li><span><a href=\"#Sigmoid\" data-toc-modified-id=\"Sigmoid-13.2\"><span class=\"toc-item-num\">13.2&nbsp;&nbsp;</span>Sigmoid</a></span></li><li><span><a href=\"#Plateau\" data-toc-modified-id=\"Plateau-13.3\"><span class=\"toc-item-num\">13.3&nbsp;&nbsp;</span>Plateau</a></span></li><li><span><a href=\"#S-curve\" data-toc-modified-id=\"S-curve-13.4\"><span class=\"toc-item-num\">13.4&nbsp;&nbsp;</span>S-curve</a></span></li></ul></li></ul></div>"
   ]
  },
  {
   "cell_type": "code",
   "execution_count": 1,
   "id": "d2d168bd",
   "metadata": {},
   "outputs": [],
   "source": [
    "import numpy as np\n",
    "import matplotlib.pyplot as plt  \n",
    "from scipy import stats"
   ]
  },
  {
   "cell_type": "code",
   "execution_count": 2,
   "id": "0a2df4ab",
   "metadata": {},
   "outputs": [],
   "source": [
    "def boone(x,a,b,c):\n",
    "    return(a*x**(b/(1+x/c)))"
   ]
  },
  {
   "cell_type": "code",
   "execution_count": 3,
   "id": "781a4cc7",
   "metadata": {},
   "outputs": [],
   "source": [
    "def sigmoid(x,a,b,c,d):\n",
    "    return a/(b+np.exp(-c*x))+d"
   ]
  },
  {
   "cell_type": "code",
   "execution_count": 4,
   "id": "93798dcd",
   "metadata": {},
   "outputs": [],
   "source": [
    "def plateau(x,a,b,c):\n",
    "    return a+c*x**b"
   ]
  },
  {
   "cell_type": "code",
   "execution_count": 5,
   "id": "0ee18bb1",
   "metadata": {},
   "outputs": [],
   "source": [
    "def s_curve(x,c,m,a,b):\n",
    "    return c*(m+(1-m)*(x+a)**b)"
   ]
  },
  {
   "cell_type": "markdown",
   "id": "e5c911c7",
   "metadata": {},
   "source": [
    "# Onshore Wind"
   ]
  },
  {
   "cell_type": "markdown",
   "id": "7b602b6c",
   "metadata": {},
   "source": [
    "## Boone"
   ]
  },
  {
   "cell_type": "code",
   "execution_count": 27,
   "id": "3adeef96",
   "metadata": {},
   "outputs": [
    {
     "data": {
      "image/png": "[encoded data removed]",
      "text/plain": [
       "<Figure size 432x288 with 1 Axes>"
      ]
     },
     "metadata": {
      "needs_background": "light"
     },
     "output_type": "display_data"
    },
    {
     "name": "stdout",
     "output_type": "stream",
     "text": [
      "R^2 = 0.9658142057169117\n"
     ]
    }
   ],
   "source": [
    "# data\n",
    "cost = np.array([1914,1883,1937,1797,1745,1611,1604,1599,1520,1448,1316])\n",
    "cap = np.array([178,216,262,293,341,404,453,495,540,593,698])\n",
    "\n",
    "a = 318.855\n",
    "\n",
    "b = 0.433299\n",
    "\n",
    "c = 710.588\n",
    "\n",
    "reg = boone(x=cap,a=a,b=b,c=c) # for R^2 computation\n",
    "x_reg = np.logspace(2.2,3.8,50)\n",
    "y_reg = boone(x=x_reg,a=a,b=b,c=c) # for plotting\n",
    "\n",
    "plt.plot(cap, cost,'bo',label='data')\n",
    "plt.plot(x_reg, y_reg,'r-',label='regression')\n",
    "plt.loglog()\n",
    "plt.xlabel('Cumulative capacity [GW]')\n",
    "plt.ylabel('Cost [USD_2018/kW]')\n",
    "plt.legend()\n",
    "plt.show()\n",
    "\n",
    "slope, intercept, r_value, p_value, std_err = stats.linregress(cost,reg)\n",
    "\n",
    "r2 = r_value**2 \n",
    "print(\"R^2 = \" + str(r_value**2))"
   ]
  },
  {
   "cell_type": "code",
   "execution_count": 28,
   "id": "9d18212a",
   "metadata": {},
   "outputs": [
    {
     "name": "stdout",
     "output_type": "stream",
     "text": [
      "455.9847708770256\n"
     ]
    }
   ],
   "source": [
    "# Testing if the prospective cost stays positive\n",
    "cap_2050 = 8265*0.8345\n",
    "cost_2050 = boone(x=cap_2050,a=a,b=b,c=c)\n",
    "print(cost_2050)"
   ]
  },
  {
   "cell_type": "markdown",
   "id": "34eb0efe",
   "metadata": {},
   "source": [
    "## Sigmoid"
   ]
  },
  {
   "cell_type": "code",
   "execution_count": 30,
   "id": "8c740e44",
   "metadata": {},
   "outputs": [
    {
     "data": {
      "image/png": "[encoded data removed]",
      "text/plain": [
       "<Figure size 432x288 with 1 Axes>"
      ]
     },
     "metadata": {
      "needs_background": "light"
     },
     "output_type": "display_data"
    },
    {
     "name": "stdout",
     "output_type": "stream",
     "text": [
      "R^2 = 0.9627903372291249\n"
     ]
    }
   ],
   "source": [
    "# data\n",
    "cost = np.array([1914,1883,1937,1797,1745,1611,1604,1599,1520,1448,1316])\n",
    "cap = np.array([178,216,262,293,341,404,453,495,540,593,698])\n",
    "\n",
    "a = -402.948\n",
    "\n",
    "b = 0.248604\n",
    "\n",
    "c = 0.00306802\n",
    "\n",
    "d = 2424.74\n",
    "\n",
    "reg = sigmoid(x=cap,a=a,b=b,c=c,d=d) # for R^2\n",
    "x_reg = np.logspace(2.2,3.8,50)\n",
    "y_reg = sigmoid(x=x_reg,a=a,b=b,c=c,d=d) # for plotting\n",
    "\n",
    "plt.plot(cap, cost,'bo',label='data')\n",
    "plt.plot(x_reg, y_reg,'r-',label='regression')\n",
    "plt.loglog()\n",
    "plt.xlabel('Cumulative capacity [GW]')\n",
    "plt.ylabel('Cost [USD_2018/kW]')\n",
    "plt.legend()\n",
    "plt.show()\n",
    "\n",
    "slope, intercept, r_value, p_value, std_err = stats.linregress(cost,reg)\n",
    "\n",
    "r2 = r_value**2 \n",
    "print(\"R^2 = \" + str(r_value**2))"
   ]
  },
  {
   "cell_type": "code",
   "execution_count": 31,
   "id": "82e553f6",
   "metadata": {},
   "outputs": [
    {
     "name": "stdout",
     "output_type": "stream",
     "text": [
      "803.897218092623\n"
     ]
    }
   ],
   "source": [
    "# Testing if the prospective cost stays positive\n",
    "cap_2050 = 8265*0.8345\n",
    "cost_2050 = sigmoid(x=cap_2050,a=a,b=b,c=c,d=d)\n",
    "print(cost_2050)"
   ]
  },
  {
   "cell_type": "markdown",
   "id": "4e2ea8d0",
   "metadata": {},
   "source": [
    "## Plateau"
   ]
  },
  {
   "cell_type": "code",
   "execution_count": 88,
   "id": "59022b93",
   "metadata": {},
   "outputs": [
    {
     "data": {
      "image/png": "[encoded data removed]",
      "text/plain": [
       "<Figure size 432x288 with 1 Axes>"
      ]
     },
     "metadata": {
      "needs_background": "light"
     },
     "output_type": "display_data"
    },
    {
     "name": "stdout",
     "output_type": "stream",
     "text": [
      "R^2 = 0.9214998961179958\n"
     ]
    }
   ],
   "source": [
    "# data\n",
    "cost = np.array([1914,1883,1937,1797,1745,1611,1604,1599,1520,1448,1316])\n",
    "cap = np.array([178,216,262,293,341,404,453,495,540,593,698])\n",
    "\n",
    "a = -93790\n",
    "\n",
    "b = -0.00464832\n",
    "\n",
    "c = 98126.3\n",
    "\n",
    "reg = plateau(x=cap,a=a,b=b,c=c) # for R^2\n",
    "x_reg = np.logspace(2.2,3.8,50)\n",
    "y_reg = plateau(x=x_reg,a=a,b=b,c=c) # for plotting\n",
    "\n",
    "plt.plot(cap, cost,'bo',label='data')\n",
    "plt.plot(x_reg, y_reg,'r-',label='regression')\n",
    "plt.loglog()\n",
    "plt.xlabel('Cumulative capacity [GW]')\n",
    "plt.ylabel('Cost [USD_2018/kW]')\n",
    "plt.legend()\n",
    "plt.show()\n",
    "\n",
    "slope, intercept, r_value, p_value, std_err = stats.linregress(cost,reg)\n",
    "\n",
    "r2 = r_value**2 \n",
    "print(\"R^2 = \" + str(r_value**2))"
   ]
  },
  {
   "cell_type": "code",
   "execution_count": 89,
   "id": "d6fba504",
   "metadata": {},
   "outputs": [
    {
     "name": "stdout",
     "output_type": "stream",
     "text": [
      "386.39470699407684\n"
     ]
    }
   ],
   "source": [
    "# Testing if the prospective cost stays positive\n",
    "cap_2050 = 8265*0.8345\n",
    "cost_2050 = plateau(x=cap_2050,a=a,b=b,c=c)\n",
    "print(cost_2050)"
   ]
  },
  {
   "cell_type": "markdown",
   "id": "1152e132",
   "metadata": {},
   "source": [
    "## S-curve "
   ]
  },
  {
   "cell_type": "code",
   "execution_count": 36,
   "id": "d89efad4",
   "metadata": {},
   "outputs": [
    {
     "data": {
      "image/png": "[encoded data removed]",
      "text/plain": [
       "<Figure size 432x288 with 1 Axes>"
      ]
     },
     "metadata": {
      "needs_background": "light"
     },
     "output_type": "display_data"
    },
    {
     "name": "stdout",
     "output_type": "stream",
     "text": [
      "R^2 = 0.9493319130487692\n"
     ]
    }
   ],
   "source": [
    "# data\n",
    "cost = np.array([1914,1883,1937,1797,1745,1611,1604,1599,1520,1448,1316])\n",
    "cap = np.array([178,216,262,293,341,404,453,495,540,593,698])\n",
    "\n",
    "a = 925.046\n",
    "\n",
    "b = -0.952119\n",
    "\n",
    "c = 1541860\n",
    "\n",
    "m = 1e-05\n",
    "\n",
    "reg = s_curve(x=cap,a=a,b=b,c=c,m=m) # for R^2\n",
    "x_reg = np.logspace(2.2,3.8,50)\n",
    "y_reg = s_curve(x=x_reg,a=a,b=b,c=c,m=m) # for plotting\n",
    "\n",
    "plt.plot(cap, cost,'bo',label='data')\n",
    "plt.plot(x_reg, y_reg,'r-',label='regression')\n",
    "plt.loglog()\n",
    "plt.xlabel('Cumulative capacity [GW]')\n",
    "plt.ylabel('Cost [USD_2018/kW]')\n",
    "plt.legend()\n",
    "plt.show()\n",
    "\n",
    "slope, intercept, r_value, p_value, std_err = stats.linregress(cost,reg)\n",
    "\n",
    "r2 = r_value**2 \n",
    "print(\"R^2 = \" + str(r_value**2))"
   ]
  },
  {
   "cell_type": "code",
   "execution_count": 37,
   "id": "f0e0cf8b",
   "metadata": {},
   "outputs": [
    {
     "name": "stdout",
     "output_type": "stream",
     "text": [
      "302.7841349851998\n"
     ]
    }
   ],
   "source": [
    "# Testing if the prospective cost stays positive\n",
    "cap_2050 = 8265*0.8345\n",
    "cost_2050 = s_curve(x=cap_2050,a=a,b=b,c=c,m=m)\n",
    "print(cost_2050)"
   ]
  },
  {
   "cell_type": "markdown",
   "id": "bfd1d562",
   "metadata": {},
   "source": [
    "# Offshore wind "
   ]
  },
  {
   "cell_type": "markdown",
   "id": "81a14901",
   "metadata": {},
   "source": [
    "## Boone"
   ]
  },
  {
   "cell_type": "code",
   "execution_count": 46,
   "id": "5136010b",
   "metadata": {},
   "outputs": [
    {
     "data": {
      "image/png": "[encoded data removed]",
      "text/plain": [
       "<Figure size 432x288 with 1 Axes>"
      ]
     },
     "metadata": {
      "needs_background": "light"
     },
     "output_type": "display_data"
    },
    {
     "name": "stdout",
     "output_type": "stream",
     "text": [
      "R^2 = 0.715909051819085\n"
     ]
    }
   ],
   "source": [
    "# data\n",
    "cost = np.array([4569,5233,4631,5554,5153,5168,4069,4597,4496,3615,3092])\n",
    "cap = np.array([3.056,3.776,5.334,7.171,8.492,11.717,14.342,18.837,23.626,28.355,34.367])\n",
    "\n",
    "a = 2056.2\n",
    "\n",
    "b = 1.1038\n",
    "\n",
    "c = 5.48602\n",
    "\n",
    "reg = boone(x=cap,a=a,b=b,c=c) # for R^2 computation\n",
    "x_reg = np.logspace(0.5,3.2,50)\n",
    "y_reg = boone(x=x_reg,a=a,b=b,c=c) # for plotting\n",
    "\n",
    "plt.plot(cap, cost,'bo',label='data')\n",
    "plt.plot(x_reg, y_reg,'r-',label='regression')\n",
    "plt.loglog()\n",
    "plt.xlabel('Cumulative capacity [GW]')\n",
    "plt.ylabel('Cost [USD_2018/kW]')\n",
    "plt.legend()\n",
    "plt.show()\n",
    "\n",
    "slope, intercept, r_value, p_value, std_err = stats.linregress(cost,reg)\n",
    "\n",
    "r2 = r_value**2 \n",
    "print(\"R^2 = \" + str(r_value**2))"
   ]
  },
  {
   "cell_type": "code",
   "execution_count": 47,
   "id": "4506dae0",
   "metadata": {},
   "outputs": [
    {
     "name": "stdout",
     "output_type": "stream",
     "text": [
      "2122.721732131361\n"
     ]
    }
   ],
   "source": [
    "# Testing if the prospective cost stays positive\n",
    "cap_2050 = 8265*0.1655\n",
    "cost_2050 = boone(x=cap_2050,a=a,b=b,c=c)\n",
    "print(cost_2050)"
   ]
  },
  {
   "cell_type": "markdown",
   "id": "8b59bae2",
   "metadata": {},
   "source": [
    "## Sigmoid"
   ]
  },
  {
   "cell_type": "code",
   "execution_count": 51,
   "id": "47875382",
   "metadata": {},
   "outputs": [
    {
     "data": {
      "image/png": "[encoded data removed]",
      "text/plain": [
       "<Figure size 432x288 with 1 Axes>"
      ]
     },
     "metadata": {
      "needs_background": "light"
     },
     "output_type": "display_data"
    },
    {
     "name": "stdout",
     "output_type": "stream",
     "text": [
      "R^2 = 0.7314381687399177\n"
     ]
    }
   ],
   "source": [
    "# data\n",
    "cost = np.array([4569,5233,4631,5554,5153,5168,4069,4597,4496,3615,3092])\n",
    "cap = np.array([3.056,3.776,5.334,7.171,8.492,11.717,14.342,18.837,23.626,28.355,34.367])\n",
    "\n",
    "a = -41.4735\n",
    "\n",
    "b = 0.0124478\n",
    "\n",
    "c = 0.139421\n",
    "\n",
    "d = 5068.03\n",
    "\n",
    "reg = sigmoid(x=cap,a=a,b=b,c=c,d=d)\n",
    "x_reg = np.logspace(0.5,3.2,50)\n",
    "y_reg = sigmoid(x=x_reg,a=a,b=b,c=c,d=d) # for plotting\n",
    "\n",
    "plt.plot(cap, cost,'bo',label='data')\n",
    "plt.plot(x_reg, y_reg,'r-',label='regression')\n",
    "plt.loglog()\n",
    "plt.xlabel('Cumulative capacity [GW]')\n",
    "plt.ylabel('Cost [USD_2018/kW]')\n",
    "plt.legend()\n",
    "plt.show()\n",
    "\n",
    "slope, intercept, r_value, p_value, std_err = stats.linregress(cost,reg)\n",
    "\n",
    "r2 = r_value**2 \n",
    "print(\"R^2 = \" + str(r_value**2))"
   ]
  },
  {
   "cell_type": "code",
   "execution_count": 52,
   "id": "c2025a0b",
   "metadata": {},
   "outputs": [
    {
     "name": "stdout",
     "output_type": "stream",
     "text": [
      "1736.2364300518966\n"
     ]
    }
   ],
   "source": [
    "# Testing if the prospective cost stays positive\n",
    "cap_2050 = 8265*0.1655\n",
    "cost_2050 = sigmoid(x=cap_2050,a=a,b=b,c=c,d=d)\n",
    "print(cost_2050)"
   ]
  },
  {
   "cell_type": "markdown",
   "id": "e7f61d92",
   "metadata": {},
   "source": [
    "## Plateau"
   ]
  },
  {
   "cell_type": "code",
   "execution_count": 9,
   "id": "365f29d2",
   "metadata": {},
   "outputs": [
    {
     "data": {
      "image/png": "[encoded data removed]",
      "text/plain": [
       "<Figure size 432x288 with 1 Axes>"
      ]
     },
     "metadata": {
      "needs_background": "light"
     },
     "output_type": "display_data"
    },
    {
     "name": "stdout",
     "output_type": "stream",
     "text": [
      "R^2 = 0.4479977587599321\n"
     ]
    }
   ],
   "source": [
    "# data\n",
    "cost = np.array([4569,5233,4631,5554,5153,5168,4069,4597,4496,3615,3092])\n",
    "cap = np.array([3.056,3.776,5.334,7.171,8.492,11.717,14.342,18.837,23.626,28.355,34.367])\n",
    "\n",
    "a = -2849200\n",
    "\n",
    "b = -0.000211753\n",
    "\n",
    "c = 2855210\n",
    "\n",
    "reg = plateau(x=cap,a=a,b=b,c=c) # for R^2\n",
    "x_reg = np.logspace(0.5,3.2,50)\n",
    "y_reg = plateau(x=x_reg,a=a,b=b,c=c) # for plotting\n",
    "\n",
    "plt.plot(cap, cost,'bo',label='data')\n",
    "plt.plot(x_reg, y_reg,'r-',label='regression')\n",
    "plt.loglog()\n",
    "plt.xlabel('Cumulative capacity [GW]')\n",
    "plt.ylabel('Cost [USD_2018/kW]')\n",
    "plt.legend()\n",
    "plt.show()\n",
    "\n",
    "slope, intercept, r_value, p_value, std_err = stats.linregress(cost,reg)\n",
    "\n",
    "r2 = r_value**2 \n",
    "print(\"R^2 = \" + str(r_value**2))"
   ]
  },
  {
   "cell_type": "code",
   "execution_count": 10,
   "id": "34cffaa4",
   "metadata": {},
   "outputs": [
    {
     "name": "stdout",
     "output_type": "stream",
     "text": [
      "1647.5241290349513\n"
     ]
    }
   ],
   "source": [
    "# Testing if the prospective cost stays positive\n",
    "cap_2050 = 8265*0.1655\n",
    "cost_2050 = plateau(x=cap_2050,a=a,b=b,c=c)\n",
    "print(cost_2050)"
   ]
  },
  {
   "cell_type": "markdown",
   "id": "89e3f313",
   "metadata": {},
   "source": [
    "## S-curve"
   ]
  },
  {
   "cell_type": "code",
   "execution_count": 8,
   "id": "71953b72",
   "metadata": {},
   "outputs": [
    {
     "data": {
      "image/png": "[encoded data removed]",
      "text/plain": [
       "<Figure size 432x288 with 1 Axes>"
      ]
     },
     "metadata": {
      "needs_background": "light"
     },
     "output_type": "display_data"
    },
    {
     "name": "stdout",
     "output_type": "stream",
     "text": [
      "R^2 = 0.5807340639621389\n"
     ]
    }
   ],
   "source": [
    "# data\n",
    "cost = np.array([4569,5233,4631,5554,5153,5168,4069,4597,4496,3615,3092])\n",
    "cap = np.array([3.056,3.776,5.334,7.171,8.492,11.717,14.342,18.837,23.626,28.355,34.367])\n",
    "\n",
    "a = 39.044\n",
    "\n",
    "b = -0.753406\n",
    "\n",
    "c = 75512.1\n",
    "\n",
    "m = 0.01\n",
    "\n",
    "reg = s_curve(x=cap,a=a,b=b,c=c,m=m) # for R^2\n",
    "x_reg = np.logspace(0.5,3.2,50)\n",
    "y_reg = s_curve(x=x_reg,a=a,b=b,c=c,m=m) # for plotting\n",
    "\n",
    "plt.plot(cap, cost,'bo',label='data')\n",
    "plt.plot(x_reg, y_reg,'r-',label='regression')\n",
    "plt.loglog()\n",
    "plt.xlabel('Cumulative capacity [GW]')\n",
    "plt.ylabel('Cost [USD_2018/kW]')\n",
    "plt.legend()\n",
    "plt.show()\n",
    "\n",
    "slope, intercept, r_value, p_value, std_err = stats.linregress(cost,reg)\n",
    "\n",
    "r2 = r_value**2 \n",
    "print(\"R^2 = \" + str(r_value**2))"
   ]
  },
  {
   "cell_type": "code",
   "execution_count": 9,
   "id": "2fd4bcc7",
   "metadata": {},
   "outputs": [
    {
     "name": "stdout",
     "output_type": "stream",
     "text": [
      "1072.6116844997061\n"
     ]
    }
   ],
   "source": [
    "# Testing if the prospective cost stays positive\n",
    "cap_2050 = 8265*0.1655\n",
    "cost_2050 = s_curve(x=cap_2050,a=a,b=b,c=c,m=m)\n",
    "print(cost_2050)"
   ]
  },
  {
   "cell_type": "markdown",
   "id": "83c49d7c",
   "metadata": {},
   "source": [
    "# Residential PV"
   ]
  },
  {
   "cell_type": "markdown",
   "id": "334c2ad8",
   "metadata": {},
   "source": [
    "## Boone"
   ]
  },
  {
   "cell_type": "code",
   "execution_count": 95,
   "id": "d291208d",
   "metadata": {},
   "outputs": [
    {
     "data": {
      "image/png": "[encoded data removed]",
      "text/plain": [
       "<Figure size 432x288 with 1 Axes>"
      ]
     },
     "metadata": {
      "needs_background": "light"
     },
     "output_type": "display_data"
    },
    {
     "name": "stdout",
     "output_type": "stream",
     "text": [
      "R^2 = 0.9722645924631825\n"
     ]
    }
   ],
   "source": [
    "# data \n",
    "cost = np.array([3794,3379,3158,3103,3027,2705,2507,2443])\n",
    "cap = np.array([27,32,38,44,50,58,74,93])\n",
    "\n",
    "a = 1785.28\n",
    "\n",
    "b = 5.15951\n",
    "\n",
    "c = 1.23122\n",
    "\n",
    "reg = boone(x=cap,a=a,b=b,c=c) # for R^2 computation\n",
    "x_reg = np.logspace(1.4,3.4,50)\n",
    "y_reg = boone(x=x_reg,a=a,b=b,c=c) # for plotting\n",
    "\n",
    "plt.plot(cap, cost,'bo',label='data')\n",
    "plt.plot(x_reg, y_reg,'r-',label='regression')\n",
    "plt.loglog()\n",
    "plt.xlabel('Cumulative capacity [GW]')\n",
    "plt.ylabel('Cost [USD_2018/kW]')\n",
    "plt.legend()\n",
    "plt.show()\n",
    "\n",
    "slope, intercept, r_value, p_value, std_err = stats.linregress(cost,reg)\n",
    "\n",
    "r2 = r_value**2 \n",
    "print(\"R^2 = \" + str(r_value**2))"
   ]
  },
  {
   "cell_type": "code",
   "execution_count": 96,
   "id": "ac49bede",
   "metadata": {},
   "outputs": [
    {
     "name": "stdout",
     "output_type": "stream",
     "text": [
      "1829.77825509352\n"
     ]
    }
   ],
   "source": [
    "# Testing if the prospective cost stays positive\n",
    "cap_2050 = 1954\n",
    "cost_2050 = boone(x=cap_2050,a=a,b=b,c=c)\n",
    "print(cost_2050)"
   ]
  },
  {
   "cell_type": "markdown",
   "id": "eaf4f925",
   "metadata": {},
   "source": [
    "## Sigmoid"
   ]
  },
  {
   "cell_type": "code",
   "execution_count": 97,
   "id": "eb02acbf",
   "metadata": {},
   "outputs": [
    {
     "data": {
      "image/png": "[encoded data removed]",
      "text/plain": [
       "<Figure size 432x288 with 1 Axes>"
      ]
     },
     "metadata": {
      "needs_background": "light"
     },
     "output_type": "display_data"
    },
    {
     "name": "stdout",
     "output_type": "stream",
     "text": [
      "R^2 = 0.9692799028734155\n"
     ]
    }
   ],
   "source": [
    "# data \n",
    "cost = np.array([3794,3379,3158,3103,3027,2705,2507,2443])\n",
    "cap = np.array([27,32,38,44,50,58,74,93])\n",
    "\n",
    "a = -246077\n",
    "\n",
    "b = 7.62656\n",
    "\n",
    "c = 0.039439\n",
    "\n",
    "d = 34588.5\n",
    "\n",
    "reg = sigmoid(x=cap,a=a,b=b,c=c,d=d)\n",
    "x_reg = np.logspace(1.4,3.4,50)\n",
    "y_reg = sigmoid(x=x_reg,a=a,b=b,c=c,d=d) # for plotting\n",
    "\n",
    "plt.plot(cap, cost,'bo',label='data')\n",
    "plt.plot(x_reg, y_reg,'r-',label='regression')\n",
    "plt.loglog()\n",
    "plt.xlabel('Cumulative capacity [GW]')\n",
    "plt.ylabel('Cost [USD_2018/kW]')\n",
    "plt.legend()\n",
    "plt.show()\n",
    "\n",
    "slope, intercept, r_value, p_value, std_err = stats.linregress(cost,reg)\n",
    "\n",
    "r2 = r_value**2 \n",
    "print(\"R^2 = \" + str(r_value**2))"
   ]
  },
  {
   "cell_type": "code",
   "execution_count": 98,
   "id": "b9f7b8e0",
   "metadata": {},
   "outputs": [
    {
     "name": "stdout",
     "output_type": "stream",
     "text": [
      "2322.7078210884065\n"
     ]
    }
   ],
   "source": [
    "# Testing if the prospective cost stays positive\n",
    "cap_2050 = 1954\n",
    "cost_2050 = sigmoid(x=cap_2050,a=a,b=b,c=c,d=d)\n",
    "print(cost_2050)"
   ]
  },
  {
   "cell_type": "markdown",
   "id": "4549eef6",
   "metadata": {},
   "source": [
    "## Plateau"
   ]
  },
  {
   "cell_type": "code",
   "execution_count": 103,
   "id": "b6937a79",
   "metadata": {},
   "outputs": [
    {
     "data": {
      "image/png": "[encoded data removed]",
      "text/plain": [
       "<Figure size 432x288 with 1 Axes>"
      ]
     },
     "metadata": {
      "needs_background": "light"
     },
     "output_type": "display_data"
    },
    {
     "name": "stdout",
     "output_type": "stream",
     "text": [
      "R^2 = 0.9723418684962879\n"
     ]
    }
   ],
   "source": [
    "# data \n",
    "cost = np.array([3794,3379,3158,3103,3027,2705,2507,2443])\n",
    "cap = np.array([27,32,38,44,50,58,74,93])\n",
    "\n",
    "a = 1771.71\n",
    "\n",
    "b = -0.901657\n",
    "\n",
    "c = 38494.7\n",
    "\n",
    "reg = plateau(x=cap,a=a,b=b,c=c)\n",
    "x_reg = np.logspace(1.4,3.4,50)\n",
    "y_reg = plateau(x=x_reg,a=a,b=b,c=c) # for plotting\n",
    "\n",
    "plt.plot(cap, cost,'bo',label='data')\n",
    "plt.plot(x_reg, y_reg,'r-',label='regression')\n",
    "plt.loglog()\n",
    "plt.xlabel('Cumulative capacity [GW]')\n",
    "plt.ylabel('Cost [USD_2018/kW]')\n",
    "plt.legend()\n",
    "plt.show()\n",
    "\n",
    "slope, intercept, r_value, p_value, std_err = stats.linregress(cost,reg)\n",
    "\n",
    "r2 = r_value**2 \n",
    "print(\"R^2 = \" + str(r_value**2))"
   ]
  },
  {
   "cell_type": "code",
   "execution_count": 104,
   "id": "e45bbcf9",
   "metadata": {},
   "outputs": [
    {
     "name": "stdout",
     "output_type": "stream",
     "text": [
      "1813.2164675577346\n"
     ]
    }
   ],
   "source": [
    "# Testing if the prospective cost stays positive\n",
    "cap_2050 = 1954\n",
    "cost_2050 = plateau(x=cap_2050,a=a,b=b,c=c)\n",
    "print(cost_2050)"
   ]
  },
  {
   "cell_type": "markdown",
   "id": "23c8845e",
   "metadata": {},
   "source": [
    "## S-curve"
   ]
  },
  {
   "cell_type": "code",
   "execution_count": 12,
   "id": "78c5e4e1",
   "metadata": {},
   "outputs": [
    {
     "data": {
      "image/png": "[encoded data removed]",
      "text/plain": [
       "<Figure size 432x288 with 1 Axes>"
      ]
     },
     "metadata": {
      "needs_background": "light"
     },
     "output_type": "display_data"
    },
    {
     "name": "stdout",
     "output_type": "stream",
     "text": [
      "R^2 = 0.9742482642843127\n"
     ]
    }
   ],
   "source": [
    "# data \n",
    "cost = np.array([3794,3379,3158,3103,3027,2705,2507,2443])\n",
    "cap = np.array([27,32,38,44,50,58,74,93])\n",
    "\n",
    "a = -16.7344\n",
    "\n",
    "b = -0.221337\n",
    "\n",
    "c = 6299.02\n",
    "\n",
    "m = 0.001\n",
    "\n",
    "reg = s_curve(x=cap,c=c,m=m,a=a,b=b)\n",
    "x_reg = np.logspace(1.4,3.4,50)\n",
    "y_reg = s_curve(x=x_reg,c=c,m=m,a=a,b=b) # for plotting\n",
    "\n",
    "plt.plot(cap, cost,'bo',label='data')\n",
    "plt.plot(x_reg, y_reg,'r-',label='regression')\n",
    "plt.loglog()\n",
    "plt.xlabel('Cumulative capacity [GW]')\n",
    "plt.ylabel('Cost [USD_2018/kW]')\n",
    "plt.legend()\n",
    "plt.show()\n",
    "\n",
    "slope, intercept, r_value, p_value, std_err = stats.linregress(cost,reg)\n",
    "\n",
    "r2 = r_value**2 \n",
    "print(\"R^2 = \" + str(r_value**2))"
   ]
  },
  {
   "cell_type": "code",
   "execution_count": 13,
   "id": "563a977b",
   "metadata": {},
   "outputs": [
    {
     "name": "stdout",
     "output_type": "stream",
     "text": [
      "1184.615323938031\n"
     ]
    }
   ],
   "source": [
    "# Testing if the prospective cost stays positive\n",
    "cap_2050 = 1954\n",
    "cost_2050 = s_curve(x=cap_2050,c=c,m=m,a=a,b=b)\n",
    "print(cost_2050)"
   ]
  },
  {
   "cell_type": "markdown",
   "id": "ca9ed4f5",
   "metadata": {},
   "source": [
    "# Utility-scale PV"
   ]
  },
  {
   "cell_type": "markdown",
   "id": "cb6e526b",
   "metadata": {},
   "source": [
    "## Boone"
   ]
  },
  {
   "cell_type": "code",
   "execution_count": 6,
   "id": "68881040",
   "metadata": {},
   "outputs": [
    {
     "data": {
      "image/png": "[encoded data removed]",
      "text/plain": [
       "<Figure size 432x288 with 1 Axes>"
      ]
     },
     "metadata": {
      "needs_background": "light"
     },
     "output_type": "display_data"
    },
    {
     "name": "stdout",
     "output_type": "stream",
     "text": [
      "R^2 = 0.9719066628289471\n"
     ]
    }
   ],
   "source": [
    "# data\n",
    "cost = np.array([4593,3890,2933,2570,2323,1770,1609,1390,1187,980,857])\n",
    "cap = np.array([8,18,30,51,76,109,165,226,281,347,415])\n",
    "\n",
    "a = 954.785\n",
    "\n",
    "b = 1.2612\n",
    "\n",
    "c = 11.6262\n",
    "\n",
    "reg = boone(x=cap,a=a,b=b,c=c) # for R^2 computation\n",
    "x_reg = np.logspace(0.9,3.8,50)\n",
    "y_reg = boone(x=x_reg,a=a,b=b,c=c) # for plotting\n",
    "\n",
    "plt.plot(cap, cost,'bo',label='data')\n",
    "plt.plot(x_reg, y_reg,'r-',label='regression')\n",
    "plt.loglog()\n",
    "plt.xlabel('Cumulative capacity [GW]')\n",
    "plt.ylabel('Cost [USD_2018/kW]')\n",
    "plt.legend()\n",
    "plt.show()\n",
    "\n",
    "slope, intercept, r_value, p_value, std_err = stats.linregress(cost,reg)\n",
    "\n",
    "r2 = r_value**2 \n",
    "print(\"R^2 = \" + str(r_value**2))"
   ]
  },
  {
   "cell_type": "code",
   "execution_count": 7,
   "id": "fe8e00b7",
   "metadata": {},
   "outputs": [
    {
     "name": "stdout",
     "output_type": "stream",
     "text": [
      "970.5941615882767\n"
     ]
    }
   ],
   "source": [
    "# Testing if the prospective cost stays positive\n",
    "cap_2050 = 8014.4\n",
    "cost_2050 = boone(x=cap_2050,a=a,b=b,c=c)\n",
    "print(cost_2050)"
   ]
  },
  {
   "cell_type": "markdown",
   "id": "a6e97c54",
   "metadata": {},
   "source": [
    "## Sigmoid"
   ]
  },
  {
   "cell_type": "code",
   "execution_count": 8,
   "id": "282acc2f",
   "metadata": {},
   "outputs": [
    {
     "data": {
      "image/png": "[encoded data removed]",
      "text/plain": [
       "<Figure size 432x288 with 1 Axes>"
      ]
     },
     "metadata": {
      "needs_background": "light"
     },
     "output_type": "display_data"
    },
    {
     "name": "stdout",
     "output_type": "stream",
     "text": [
      "R^2 = 0.9667340270216271\n"
     ]
    }
   ],
   "source": [
    "# data\n",
    "cost = np.array([4593,3890,2933,2570,2323,1770,1609,1390,1187,980,857])\n",
    "cap = np.array([8,18,30,51,76,109,165,226,281,347,415])\n",
    "\n",
    "a = -1761780\n",
    "\n",
    "b = 21.3636\n",
    "\n",
    "c = 0.0174476\n",
    "\n",
    "d = 83598.3\n",
    "\n",
    "reg = sigmoid(x=cap,a=a,b=b,c=c,d=d) # for R^2 computation\n",
    "x_reg = np.logspace(0.9,3.8,50)\n",
    "y_reg = sigmoid(x=x_reg,a=a,b=b,c=c,d=d) # for plotting\n",
    "\n",
    "plt.plot(cap, cost,'bo',label='data')\n",
    "plt.plot(x_reg, y_reg,'r-',label='regression')\n",
    "plt.loglog()\n",
    "plt.xlabel('Cumulative capacity [GW]')\n",
    "plt.ylabel('Cost [USD_2018/kW]')\n",
    "plt.legend()\n",
    "plt.show()\n",
    "\n",
    "slope, intercept, r_value, p_value, std_err = stats.linregress(cost,reg)\n",
    "\n",
    "r2 = r_value**2 \n",
    "print(\"R^2 = \" + str(r_value**2))"
   ]
  },
  {
   "cell_type": "code",
   "execution_count": 9,
   "id": "77cc8e73",
   "metadata": {},
   "outputs": [
    {
     "name": "stdout",
     "output_type": "stream",
     "text": [
      "1131.8617592540686\n"
     ]
    }
   ],
   "source": [
    "# Testing if the prospective cost stays positive\n",
    "cap_2050 = 8014.4\n",
    "cost_2050 = sigmoid(x=cap_2050,a=a,b=b,c=c,d=d)\n",
    "print(cost_2050)"
   ]
  },
  {
   "cell_type": "markdown",
   "id": "9cb235a3",
   "metadata": {},
   "source": [
    "## Plateau"
   ]
  },
  {
   "cell_type": "code",
   "execution_count": 10,
   "id": "db97a4ed",
   "metadata": {},
   "outputs": [
    {
     "data": {
      "image/png": "[encoded data removed]",
      "text/plain": [
       "<Figure size 432x288 with 1 Axes>"
      ]
     },
     "metadata": {
      "needs_background": "light"
     },
     "output_type": "display_data"
    },
    {
     "name": "stdout",
     "output_type": "stream",
     "text": [
      "R^2 = 0.9766491586210022\n"
     ]
    }
   ],
   "source": [
    "# data\n",
    "cost = np.array([4593,3890,2933,2570,2323,1770,1609,1390,1187,980,857])\n",
    "cap = np.array([8,18,30,51,76,109,165,226,281,347,415])\n",
    "\n",
    "# restricted a >= 0 to get acceptable result\n",
    "\n",
    "a = 0.001 \n",
    "\n",
    "b = -0.372872\n",
    "\n",
    "c = 10509.1\n",
    "\n",
    "reg = plateau(x=cap,a=a,b=b,c=c) # for R^2 computation\n",
    "x_reg = np.logspace(0.9,3.8,50)\n",
    "y_reg = plateau(x=x_reg,a=a,b=b,c=c) # for plotting\n",
    "\n",
    "plt.plot(cap, cost,'bo',label='data')\n",
    "plt.plot(x_reg, y_reg,'r-',label='regression')\n",
    "plt.loglog()\n",
    "plt.xlabel('Cumulative capacity [GW]')\n",
    "plt.ylabel('Cost [USD_2018/kW]')\n",
    "plt.legend()\n",
    "plt.show()\n",
    "\n",
    "slope, intercept, r_value, p_value, std_err = stats.linregress(cost,reg)\n",
    "\n",
    "r2 = r_value**2 \n",
    "print(\"R^2 = \" + str(r_value**2))"
   ]
  },
  {
   "cell_type": "code",
   "execution_count": 11,
   "id": "6e5ef9db",
   "metadata": {},
   "outputs": [
    {
     "name": "stdout",
     "output_type": "stream",
     "text": [
      "368.0632966763192\n"
     ]
    }
   ],
   "source": [
    "# Testing if the prospective cost stays positive\n",
    "cap_2050 = 8014.4\n",
    "cost_2050 = plateau(x=cap_2050,a=a,b=b,c=c)\n",
    "print(cost_2050)"
   ]
  },
  {
   "cell_type": "markdown",
   "id": "f5b17cbc",
   "metadata": {},
   "source": [
    "## S-curve"
   ]
  },
  {
   "cell_type": "code",
   "execution_count": 12,
   "id": "26409205",
   "metadata": {},
   "outputs": [
    {
     "data": {
      "image/png": "[encoded data removed]",
      "text/plain": [
       "<Figure size 432x288 with 1 Axes>"
      ]
     },
     "metadata": {
      "needs_background": "light"
     },
     "output_type": "display_data"
    },
    {
     "name": "stdout",
     "output_type": "stream",
     "text": [
      "R^2 = 0.990878390301981\n"
     ]
    }
   ],
   "source": [
    "# data\n",
    "cost = np.array([4593,3890,2933,2570,2323,1770,1609,1390,1187,980,857])\n",
    "cap = np.array([8,18,30,51,76,109,165,226,281,347,415])\n",
    "\n",
    "a = 12.4947\n",
    "\n",
    "b = -0.515134\n",
    "\n",
    "c = 21819.2\n",
    "\n",
    "m = 0.0001\n",
    "\n",
    "reg = s_curve(x=cap,a=a,b=b,c=c,m=m) # for R^2 computation\n",
    "x_reg = np.logspace(0.9,3.8,50)\n",
    "y_reg = s_curve(x=x_reg,a=a,b=b,c=c,m=m) # for plotting\n",
    "\n",
    "plt.plot(cap, cost,'bo',label='data')\n",
    "plt.plot(x_reg, y_reg,'r-',label='regression')\n",
    "plt.loglog()\n",
    "plt.xlabel('Cumulative capacity [GW]')\n",
    "plt.ylabel('Cost [USD_2018/kW]')\n",
    "plt.legend()\n",
    "plt.show()\n",
    "\n",
    "slope, intercept, r_value, p_value, std_err = stats.linregress(cost,reg)\n",
    "\n",
    "r2 = r_value**2 \n",
    "print(\"R^2 = \" + str(r_value**2))"
   ]
  },
  {
   "cell_type": "code",
   "execution_count": 13,
   "id": "9d3f3c3a",
   "metadata": {},
   "outputs": [
    {
     "name": "stdout",
     "output_type": "stream",
     "text": [
      "214.71678612577912\n"
     ]
    }
   ],
   "source": [
    "# Testing if the prospective cost stays positive\n",
    "cap_2050 = 8014.4\n",
    "cost_2050 = s_curve(x=cap_2050,a=a,b=b,c=c,m=m)\n",
    "print(cost_2050)"
   ]
  },
  {
   "cell_type": "markdown",
   "id": "5a892601",
   "metadata": {},
   "source": [
    "# Commercial PV"
   ]
  },
  {
   "cell_type": "markdown",
   "id": "8af7e264",
   "metadata": {},
   "source": [
    "## Boone"
   ]
  },
  {
   "cell_type": "code",
   "execution_count": 119,
   "id": "8d3ff523",
   "metadata": {},
   "outputs": [
    {
     "data": {
      "image/png": "[encoded data removed]",
      "text/plain": [
       "<Figure size 432x288 with 1 Axes>"
      ]
     },
     "metadata": {
      "needs_background": "light"
     },
     "output_type": "display_data"
    },
    {
     "name": "stdout",
     "output_type": "stream",
     "text": [
      "R^2 = 0.9805480868094518\n"
     ]
    }
   ],
   "source": [
    "# data\n",
    "cost = np.array([8381,4071,2837,2880,2828,2221,1821,2100,1963,1648,1309])\n",
    "cap = np.array([21,35,47,57,67,77,89,118,151,176,196])\n",
    "\n",
    "a = 991.087\n",
    "\n",
    "b = 6763.42\n",
    "\n",
    "c = 0.00215992\n",
    "\n",
    "reg = boone(x=cap,a=a,b=b,c=c) # for R^2 computation\n",
    "x_reg = np.logspace(1.3,3.8,50)\n",
    "y_reg = boone(x=x_reg,a=a,b=b,c=c) # for plotting\n",
    "\n",
    "plt.plot(cap, cost,'bo',label='data')\n",
    "plt.plot(x_reg, y_reg,'r-',label='regression')\n",
    "plt.loglog()\n",
    "plt.xlabel('Cumulative capacity [GW]')\n",
    "plt.ylabel('Cost [USD_2018/kW]')\n",
    "plt.legend()\n",
    "plt.show()\n",
    "\n",
    "slope, intercept, r_value, p_value, std_err = stats.linregress(cost,reg)\n",
    "\n",
    "r2 = r_value**2 \n",
    "print(\"R^2 = \" + str(r_value**2))"
   ]
  },
  {
   "cell_type": "code",
   "execution_count": 120,
   "id": "15cf962a",
   "metadata": {},
   "outputs": [
    {
     "name": "stdout",
     "output_type": "stream",
     "text": [
      "1019.3587842181023\n"
     ]
    }
   ],
   "source": [
    "# Testing if the prospective cost stays correct\n",
    "cap_2050 = 4351.5\n",
    "cost_2050 = boone(x=cap_2050,a=a,b=b,c=c)\n",
    "print(cost_2050)"
   ]
  },
  {
   "cell_type": "markdown",
   "id": "24ef210e",
   "metadata": {},
   "source": [
    "## Sigmoid"
   ]
  },
  {
   "cell_type": "code",
   "execution_count": 30,
   "id": "9d6add1b",
   "metadata": {},
   "outputs": [
    {
     "data": {
      "image/png": "[encoded data removed]",
      "text/plain": [
       "<Figure size 432x288 with 1 Axes>"
      ]
     },
     "metadata": {
      "needs_background": "light"
     },
     "output_type": "display_data"
    },
    {
     "name": "stdout",
     "output_type": "stream",
     "text": [
      "R^2 = 0.9672886678474715\n"
     ]
    }
   ],
   "source": [
    "# data\n",
    "cost = np.array([8381,4071,2837,2880,2828,2221,1821,2100,1963,1648,1309])\n",
    "cap = np.array([21,35,47,57,67,77,89,118,151,176,196])\n",
    "\n",
    "a = -302159\n",
    "\n",
    "b = 3.19582\n",
    "\n",
    "c = 0.0698174\n",
    "\n",
    "d = 96463.9\n",
    "\n",
    "reg = sigmoid(x=cap,a=a,b=b,c=c,d=d) # for R^2 computation\n",
    "x_reg = np.logspace(1.3,3.8,50)\n",
    "y_reg = sigmoid(x=x_reg,a=a,b=b,c=c,d=d) # for plotting\n",
    "\n",
    "plt.plot(cap, cost,'bo',label='data')\n",
    "plt.plot(x_reg, y_reg,'r-',label='regression')\n",
    "plt.loglog()\n",
    "plt.xlabel('Cumulative capacity [GW]')\n",
    "plt.ylabel('Cost [USD_2018/kW]')\n",
    "plt.legend()\n",
    "plt.show()\n",
    "\n",
    "slope, intercept, r_value, p_value, std_err = stats.linregress(cost,reg)\n",
    "\n",
    "r2 = r_value**2 \n",
    "print(\"R^2 = \" + str(r_value**2))"
   ]
  },
  {
   "cell_type": "code",
   "execution_count": 31,
   "id": "1616b597",
   "metadata": {},
   "outputs": [
    {
     "name": "stdout",
     "output_type": "stream",
     "text": [
      "1915.708925408806\n"
     ]
    }
   ],
   "source": [
    "# Testing if the prospective cost stays correct\n",
    "cap_2050 = 4351.5\n",
    "cost_2050 = sigmoid(x=cap_2050,a=a,b=b,c=c,d=d)\n",
    "print(cost_2050)"
   ]
  },
  {
   "cell_type": "markdown",
   "id": "43e0eea3",
   "metadata": {},
   "source": [
    "## Plateau"
   ]
  },
  {
   "cell_type": "code",
   "execution_count": 123,
   "id": "90ba508b",
   "metadata": {},
   "outputs": [
    {
     "data": {
      "image/png": "[encoded data removed]",
      "text/plain": [
       "<Figure size 432x288 with 1 Axes>"
      ]
     },
     "metadata": {
      "needs_background": "light"
     },
     "output_type": "display_data"
    },
    {
     "name": "stdout",
     "output_type": "stream",
     "text": [
      "R^2 = 0.9830501208881045\n"
     ]
    }
   ],
   "source": [
    "# data\n",
    "cost = np.array([8381,4071,2837,2880,2828,2221,1821,2100,1963,1648,1309])\n",
    "cap = np.array([21,35,47,57,67,77,89,118,151,176,196])\n",
    "\n",
    "a = 1591.23\n",
    "\n",
    "b = -1.84342\n",
    "\n",
    "c = 1846710\n",
    "\n",
    "reg = plateau(x=cap,a=a,b=b,c=c) # for R^2 computation\n",
    "x_reg = np.logspace(1.3,3.8,50)\n",
    "y_reg = plateau(x=x_reg,a=a,b=b,c=c) # for plotting\n",
    "\n",
    "plt.plot(cap, cost,'bo',label='data')\n",
    "plt.plot(x_reg, y_reg,'r-',label='regression')\n",
    "plt.loglog()\n",
    "plt.xlabel('Cumulative capacity [GW]')\n",
    "plt.ylabel('Cost [USD_2018/kW]')\n",
    "plt.legend()\n",
    "plt.show()\n",
    "\n",
    "slope, intercept, r_value, p_value, std_err = stats.linregress(cost,reg)\n",
    "\n",
    "r2 = r_value**2 \n",
    "print(\"R^2 = \" + str(r_value**2))"
   ]
  },
  {
   "cell_type": "code",
   "execution_count": 124,
   "id": "60e6bbb1",
   "metadata": {},
   "outputs": [
    {
     "name": "stdout",
     "output_type": "stream",
     "text": [
      "1591.5921252582398\n"
     ]
    }
   ],
   "source": [
    "# Testing if the prospective cost stays correct\n",
    "cap_2050 = 4351.5\n",
    "cost_2050 = plateau(x=cap_2050,a=a,b=b,c=c)\n",
    "print(cost_2050)"
   ]
  },
  {
   "cell_type": "markdown",
   "id": "c57a921f",
   "metadata": {},
   "source": [
    "## S-curve"
   ]
  },
  {
   "cell_type": "code",
   "execution_count": 128,
   "id": "e9fcf53f",
   "metadata": {},
   "outputs": [
    {
     "data": {
      "image/png": "[encoded data removed]",
      "text/plain": [
       "<Figure size 432x288 with 1 Axes>"
      ]
     },
     "metadata": {
      "needs_background": "light"
     },
     "output_type": "display_data"
    },
    {
     "name": "stdout",
     "output_type": "stream",
     "text": [
      "R^2 = 0.9869218545015346\n"
     ]
    }
   ],
   "source": [
    "# data\n",
    "cost = np.array([8381,4071,2837,2880,2828,2221,1821,2100,1963,1648,1309])\n",
    "cap = np.array([21,35,47,57,67,77,89,118,151,176,196])\n",
    "\n",
    "a = -16.8468\n",
    "\n",
    "b = -0.574336\n",
    "\n",
    "c = 18146.3\n",
    "\n",
    "m = 0.0368012\n",
    "\n",
    "reg = s_curve(x=cap,a=a,b=b,c=c,m=m) # for R^2 computation\n",
    "x_reg = np.logspace(1.3,3.8,50)\n",
    "y_reg = s_curve(x=x_reg,a=a,b=b,c=c,m=m) # for plotting\n",
    "\n",
    "plt.plot(cap, cost,'bo',label='data')\n",
    "plt.plot(x_reg, y_reg,'r-',label='regression')\n",
    "plt.loglog()\n",
    "plt.xlabel('Cumulative capacity [GW]')\n",
    "plt.ylabel('Cost [USD_2018/kW]')\n",
    "plt.legend()\n",
    "plt.show()\n",
    "\n",
    "slope, intercept, r_value, p_value, std_err = stats.linregress(cost,reg)\n",
    "\n",
    "r2 = r_value**2 \n",
    "print(\"R^2 = \" + str(r_value**2))"
   ]
  },
  {
   "cell_type": "code",
   "execution_count": 129,
   "id": "64e90525",
   "metadata": {},
   "outputs": [
    {
     "name": "stdout",
     "output_type": "stream",
     "text": [
      "810.2581570354882\n"
     ]
    }
   ],
   "source": [
    "# Testing if the prospective cost stays correct\n",
    "cap_2050 = 4351.5\n",
    "cost_2050 = s_curve(x=cap_2050,a=a,b=b,c=c,m=m)\n",
    "print(cost_2050)"
   ]
  },
  {
   "cell_type": "markdown",
   "id": "3602e32c",
   "metadata": {},
   "source": [
    "# CSP"
   ]
  },
  {
   "cell_type": "markdown",
   "id": "3e1b65df",
   "metadata": {},
   "source": [
    "## Boone"
   ]
  },
  {
   "cell_type": "code",
   "execution_count": 132,
   "id": "e167906a",
   "metadata": {},
   "outputs": [
    {
     "data": {
      "image/png": "[encoded data removed]",
      "text/plain": [
       "<Figure size 432x288 with 1 Axes>"
      ]
     },
     "metadata": {
      "needs_background": "light"
     },
     "output_type": "display_data"
    },
    {
     "name": "stdout",
     "output_type": "stream",
     "text": [
      "R^2 = 0.640871323217232\n"
     ]
    }
   ],
   "source": [
    "# data\n",
    "cost = np.array([8830,10403,8040,6307,5414,7232,7602,7196,5161,6466,4448])\n",
    "cap = np.array([1.266,1.705,2.567,3.842,4.499,4.75,4.86,4.959,5.833,6.384,6.479])\n",
    "\n",
    "a = 10727.2\n",
    "\n",
    "b = -0.32745\n",
    "\n",
    "c = 5249330000\n",
    "\n",
    "reg = boone(x=cap,a=a,b=b,c=c) # for R^2 computation\n",
    "x_reg = np.logspace(0,2.6,50)\n",
    "y_reg = boone(x=x_reg,a=a,b=b,c=c) # for plotting\n",
    "\n",
    "plt.plot(cap, cost,'bo',label='data')\n",
    "plt.plot(x_reg, y_reg,'r-',label='regression')\n",
    "plt.loglog()\n",
    "plt.xlabel('Cumulative capacity [GW]')\n",
    "plt.ylabel('Cost [USD_2018/kW]')\n",
    "plt.legend()\n",
    "plt.show()\n",
    "\n",
    "slope, intercept, r_value, p_value, std_err = stats.linregress(cost,reg)\n",
    "\n",
    "r2 = r_value**2 \n",
    "print(\"R^2 = \" + str(r_value**2))"
   ]
  },
  {
   "cell_type": "code",
   "execution_count": 133,
   "id": "5a4459d8",
   "metadata": {},
   "outputs": [
    {
     "name": "stdout",
     "output_type": "stream",
     "text": [
      "1477.3597898902697\n"
     ]
    }
   ],
   "source": [
    "# Testing if the prospective cost stays positive\n",
    "cap_2050 = 426\n",
    "cost_2050 = boone(x=cap_2050,a=a,b=b,c=c)\n",
    "print(cost_2050)"
   ]
  },
  {
   "cell_type": "markdown",
   "id": "523f6e40",
   "metadata": {},
   "source": [
    "## Sigmoid"
   ]
  },
  {
   "cell_type": "code",
   "execution_count": 134,
   "id": "bfc330ab",
   "metadata": {},
   "outputs": [
    {
     "data": {
      "image/png": "[encoded data removed]",
      "text/plain": [
       "<Figure size 432x288 with 1 Axes>"
      ]
     },
     "metadata": {
      "needs_background": "light"
     },
     "output_type": "display_data"
    },
    {
     "name": "stdout",
     "output_type": "stream",
     "text": [
      "R^2 = 0.676926201363424\n"
     ]
    }
   ],
   "source": [
    "# data \n",
    "cost = np.array([8830,10403,8040,6307,5414,7232,7602,7196,5161,6466,4448])\n",
    "cap = np.array([1.266,1.705,2.567,3.842,4.499,4.75,4.86,4.959,5.833,6.384,6.479])\n",
    "\n",
    "a = -385294\n",
    "\n",
    "b = 5.55687\n",
    "\n",
    "c = 0.127907\n",
    "\n",
    "d = 69698\n",
    "\n",
    "reg = sigmoid(x=cap,a=a,b=b,c=c,d=d) # for R^2 computation\n",
    "x_reg = np.logspace(0,2.6,50)\n",
    "y_reg = sigmoid(x=x_reg,a=a,b=b,c=c,d=d) # for plotting\n",
    "\n",
    "plt.plot(cap, cost,'bo',label='data')\n",
    "plt.plot(x_reg, y_reg,'r-',label='regression')\n",
    "plt.loglog()\n",
    "plt.xlabel('Cumulative capacity [GW]')\n",
    "plt.ylabel('Cost [USD_2018/kW]')\n",
    "plt.legend()\n",
    "plt.show()\n",
    "slope, intercept, r_value, p_value, std_err = stats.linregress(cost,reg)\n",
    "\n",
    "r2 = r_value**2 \n",
    "print(\"R^2 = \" + str(r_value**2))"
   ]
  },
  {
   "cell_type": "code",
   "execution_count": 135,
   "id": "740937b6",
   "metadata": {},
   "outputs": [
    {
     "name": "stdout",
     "output_type": "stream",
     "text": [
      "361.4850194444007\n"
     ]
    }
   ],
   "source": [
    "# Testing if the prospective cost stays positive\n",
    "cap_2050 = 426\n",
    "cost_2050 = sigmoid(x=cap_2050,a=a,b=b,c=c,d=d)\n",
    "print(cost_2050)"
   ]
  },
  {
   "cell_type": "markdown",
   "id": "1d82a006",
   "metadata": {},
   "source": [
    "## Plateau"
   ]
  },
  {
   "cell_type": "code",
   "execution_count": 199,
   "id": "b26c2c90",
   "metadata": {},
   "outputs": [
    {
     "data": {
      "image/png": "[encoded data removed]",
      "text/plain": [
       "<Figure size 432x288 with 1 Axes>"
      ]
     },
     "metadata": {
      "needs_background": "light"
     },
     "output_type": "display_data"
    },
    {
     "name": "stdout",
     "output_type": "stream",
     "text": [
      "R^2 = 0.640871323306914\n"
     ]
    }
   ],
   "source": [
    "# data \n",
    "cost = np.array([8830,10403,8040,6307,5414,7232,7602,7196,5161,6466,4448])\n",
    "cap = np.array([1.266,1.705,2.567,3.842,4.499,4.75,4.86,4.959,5.833,6.384,6.479])\n",
    "\n",
    "a = 0.001 # restricted >= 0 to get acceptable result\n",
    "\n",
    "b = -0.32745\n",
    "\n",
    "c = 10727.2\n",
    "\n",
    "reg = plateau(x=cap,a=a,b=b,c=c) # for R^2 computation\n",
    "x_reg = np.logspace(0,2.6,50)\n",
    "y_reg = plateau(x=x_reg,a=a,b=b,c=c) # for plotting\n",
    "\n",
    "plt.plot(cap, cost,'bo',label='data')\n",
    "plt.plot(x_reg, y_reg,'r-',label='regression')\n",
    "plt.loglog()\n",
    "plt.xlabel('Cumulative capacity [GW]')\n",
    "plt.ylabel('Cost [USD_2018/kW]')\n",
    "plt.legend()\n",
    "plt.show()\n",
    "\n",
    "slope, intercept, r_value, p_value, std_err = stats.linregress(cost,reg)\n",
    "\n",
    "r2 = r_value**2 \n",
    "print(\"R^2 = \" + str(r_value**2))"
   ]
  },
  {
   "cell_type": "code",
   "execution_count": 200,
   "id": "ece358d3",
   "metadata": {},
   "outputs": [
    {
     "name": "stdout",
     "output_type": "stream",
     "text": [
      "1477.3605522002997\n"
     ]
    }
   ],
   "source": [
    "# Testing if the prospective cost stays positive\n",
    "cap_2050 = 426\n",
    "cost_2050 = plateau(x=cap_2050,a=a,b=b,c=c)\n",
    "print(cost_2050)"
   ]
  },
  {
   "cell_type": "markdown",
   "id": "76350118",
   "metadata": {},
   "source": [
    "## S-curve"
   ]
  },
  {
   "cell_type": "code",
   "execution_count": 35,
   "id": "73104c9f",
   "metadata": {},
   "outputs": [
    {
     "data": {
      "image/png": "[encoded data removed]",
      "text/plain": [
       "<Figure size 432x288 with 1 Axes>"
      ]
     },
     "metadata": {
      "needs_background": "light"
     },
     "output_type": "display_data"
    },
    {
     "name": "stdout",
     "output_type": "stream",
     "text": [
      "R^2 = 0.6756257747766116\n"
     ]
    }
   ],
   "source": [
    "# data \n",
    "cost = np.array([8830,10403,8040,6307,5414,7232,7602,7196,5161,6466,4448])\n",
    "cap = np.array([1.266,1.705,2.567,3.842,4.499,4.75,4.86,4.959,5.833,6.384,6.479])\n",
    "\n",
    "a = 14.6125\n",
    "\n",
    "b = -2.05349\n",
    "\n",
    "c = 2740380\n",
    "\n",
    "m = 0.0001\n",
    "\n",
    "reg = s_curve(x=cap,a=a,b=b,c=c,m=m) # for R^2 computation\n",
    "x_reg = np.logspace(0,2.6,50)\n",
    "y_reg = s_curve(x=x_reg,a=a,b=b,c=c,m=m) # for plotting\n",
    "\n",
    "plt.plot(cap, cost,'bo',label='data')\n",
    "plt.plot(x_reg, y_reg,'r-',label='regression')\n",
    "plt.loglog()\n",
    "plt.xlabel('Cumulative capacity [GW]')\n",
    "plt.ylabel('Cost [USD_2018/kW]')\n",
    "plt.legend()\n",
    "plt.show()\n",
    "\n",
    "slope, intercept, r_value, p_value, std_err = stats.linregress(cost,reg)\n",
    "\n",
    "r2 = r_value**2 \n",
    "print(\"R^2 = \" + str(r_value**2))"
   ]
  },
  {
   "cell_type": "code",
   "execution_count": 36,
   "id": "3db48b03",
   "metadata": {},
   "outputs": [
    {
     "name": "stdout",
     "output_type": "stream",
     "text": [
      "284.22914852896974\n"
     ]
    }
   ],
   "source": [
    "# Testing if the prospective cost stays positive\n",
    "cap_2050 = 426\n",
    "cost_2050 = s_curve(x=cap_2050,a=a,b=b,c=c,m=m)\n",
    "print(cost_2050)"
   ]
  },
  {
   "cell_type": "markdown",
   "id": "26889912",
   "metadata": {},
   "source": [
    "# Geothermal"
   ]
  },
  {
   "cell_type": "markdown",
   "id": "aca6b179",
   "metadata": {},
   "source": [
    "## Boone"
   ]
  },
  {
   "cell_type": "code",
   "execution_count": 150,
   "id": "b74c98f3",
   "metadata": {},
   "outputs": [
    {
     "data": {
      "image/png": "[encoded data removed]",
      "text/plain": [
       "<Figure size 432x288 with 1 Axes>"
      ]
     },
     "metadata": {
      "needs_background": "light"
     },
     "output_type": "display_data"
    },
    {
     "name": "stdout",
     "output_type": "stream",
     "text": [
      "R^2 = 0.07516411357082048\n"
     ]
    }
   ],
   "source": [
    "# data\n",
    "cost = np.array([2544,5162,3716,3508,3435,3608,3762,4098,3852,4338])\n",
    "cap = np.array([9.992,10.481,10.718,11.159,11.799,12.122,12.672,13.148,13.862,14.013])\n",
    "# Missing year : 2011\n",
    "\n",
    "a = 7597.11\n",
    "\n",
    "b = -81.6475\n",
    "\n",
    "c = 0.0409338\n",
    "\n",
    "reg = boone(x=cap,a=a,b=b,c=c) # for R^2 computation\n",
    "x_reg = np.logspace(0.9,2.5,50)\n",
    "y_reg = boone(x=x_reg,a=a,b=b,c=c) # for plotting\n",
    "\n",
    "plt.plot(cap, cost,'bo',label='data')\n",
    "plt.plot(x_reg, y_reg,'r-',label='regression')\n",
    "plt.loglog()\n",
    "plt.xlabel('Cumulative capacity [GW]')\n",
    "plt.ylabel('Cost [USD_2018/kW]')\n",
    "plt.legend()\n",
    "plt.show()\n",
    "\n",
    "slope, intercept, r_value, p_value, std_err = stats.linregress(cost,reg)\n",
    "\n",
    "r2 = r_value**2 \n",
    "print(\"R^2 = \" + str(r_value**2))"
   ]
  },
  {
   "cell_type": "code",
   "execution_count": 151,
   "id": "c1862174",
   "metadata": {},
   "outputs": [
    {
     "name": "stdout",
     "output_type": "stream",
     "text": [
      "6682.73601137729\n"
     ]
    }
   ],
   "source": [
    "# Evaluation of the cost in 2050\n",
    "cap_2050 = 126 # [GW]\n",
    "cost_2050 = boone(x=cap_2050,a=a,b=b,c=c)\n",
    "print(cost_2050)"
   ]
  },
  {
   "cell_type": "markdown",
   "id": "9628f99c",
   "metadata": {},
   "source": [
    "## Sigmoid"
   ]
  },
  {
   "cell_type": "code",
   "execution_count": 42,
   "id": "16910b73",
   "metadata": {},
   "outputs": [
    {
     "data": {
      "image/png": "[encoded data removed]",
      "text/plain": [
       "<Figure size 432x288 with 1 Axes>"
      ]
     },
     "metadata": {
      "needs_background": "light"
     },
     "output_type": "display_data"
    },
    {
     "name": "stdout",
     "output_type": "stream",
     "text": [
      "R^2 = 0.1056152267628986\n"
     ]
    }
   ],
   "source": [
    "# data\n",
    "cost = np.array([2544,5162,3716,3508,3435,3608,3762,4098,3852,4338])\n",
    "cap = np.array([9.992,10.481,10.718,11.159,11.799,12.122,12.672,13.148,13.862,14.013])\n",
    "# Missing year : 2011\n",
    "\n",
    "a = 0.0395233\n",
    "\n",
    "b = 1e-05\n",
    "\n",
    "c = 1.32457\n",
    "\n",
    "d = -1.14249\n",
    "\n",
    "reg = sigmoid(x=cap,a=a,b=b,c=c,d=d) # for R^2 computation\n",
    "x_reg = np.logspace(0.9,2.5,50)\n",
    "y_reg = sigmoid(x=x_reg,a=a,b=b,c=c,d=d) # for plotting\n",
    "\n",
    "plt.plot(cap, cost,'bo',label='data')\n",
    "plt.plot(x_reg, y_reg,'r-',label='regression')\n",
    "plt.loglog()\n",
    "plt.xlabel('Cumulative capacity [GW]')\n",
    "plt.ylabel('Cost [USD_2018/kW]')\n",
    "plt.legend()\n",
    "plt.show()\n",
    "\n",
    "slope, intercept, r_value, p_value, std_err = stats.linregress(cost,reg)\n",
    "\n",
    "r2 = r_value**2 \n",
    "print(\"R^2 = \" + str(r_value**2))"
   ]
  },
  {
   "cell_type": "code",
   "execution_count": 43,
   "id": "1e060941",
   "metadata": {},
   "outputs": [
    {
     "name": "stdout",
     "output_type": "stream",
     "text": [
      "3951.1875099999993\n"
     ]
    }
   ],
   "source": [
    "# Evaluation of the cost in 2050\n",
    "cap_2050 = 126 # [GW]\n",
    "cost_2050 = sigmoid(x=cap_2050,a=a,b=b,c=c,d=d)\n",
    "print(cost_2050)"
   ]
  },
  {
   "cell_type": "markdown",
   "id": "bee34902",
   "metadata": {},
   "source": [
    "## Plateau"
   ]
  },
  {
   "cell_type": "code",
   "execution_count": 159,
   "id": "0f96d95f",
   "metadata": {},
   "outputs": [
    {
     "data": {
      "image/png": "[encoded data removed]",
      "text/plain": [
       "<Figure size 432x288 with 1 Axes>"
      ]
     },
     "metadata": {
      "needs_background": "light"
     },
     "output_type": "display_data"
    },
    {
     "name": "stdout",
     "output_type": "stream",
     "text": [
      "R^2 = 0.07538966487063055\n"
     ]
    }
   ],
   "source": [
    "# data\n",
    "cost = np.array([2544,5162,3716,3508,3435,3608,3762,4098,3852,4338])\n",
    "cap = np.array([9.992,10.481,10.718,11.159,11.799,12.122,12.672,13.148,13.862,14.013])\n",
    "# Missing year : 2011\n",
    "\n",
    "a = -34284.7\n",
    "\n",
    "b = 0.0409925\n",
    "\n",
    "c = 34407.3\n",
    "\n",
    "reg = plateau(x=cap,a=a,b=b,c=c) # for R^2 computation\n",
    "x_reg = np.logspace(0.9,2.5,50)\n",
    "y_reg = plateau(x=x_reg,a=a,b=b,c=c) # for plotting\n",
    "\n",
    "plt.plot(cap, cost,'bo',label='data')\n",
    "plt.plot(x_reg, y_reg,'r-',label='regression')\n",
    "plt.loglog()\n",
    "plt.xlabel('Cumulative capacity [GW]')\n",
    "plt.ylabel('Cost [USD_2018/kW]')\n",
    "plt.legend()\n",
    "plt.show()\n",
    "\n",
    "slope, intercept, r_value, p_value, std_err = stats.linregress(cost,reg)\n",
    "\n",
    "r2 = r_value**2 \n",
    "print(\"R^2 = \" + str(r_value**2))"
   ]
  },
  {
   "cell_type": "code",
   "execution_count": 160,
   "id": "347b45d6",
   "metadata": {},
   "outputs": [
    {
     "name": "stdout",
     "output_type": "stream",
     "text": [
      "7667.045337780677\n"
     ]
    }
   ],
   "source": [
    "# Evaluation of the cost in 2050\n",
    "cap_2050 = 126 # [GW]\n",
    "cost_2050 = plateau(x=cap_2050,a=a,b=b,c=c)\n",
    "print(cost_2050)"
   ]
  },
  {
   "cell_type": "markdown",
   "id": "99f14b74",
   "metadata": {},
   "source": [
    "## S-curve"
   ]
  },
  {
   "cell_type": "code",
   "execution_count": 45,
   "id": "be8e690d",
   "metadata": {},
   "outputs": [
    {
     "data": {
      "image/png": "[encoded data removed]",
      "text/plain": [
       "<Figure size 432x288 with 1 Axes>"
      ]
     },
     "metadata": {
      "needs_background": "light"
     },
     "output_type": "display_data"
    },
    {
     "name": "stdout",
     "output_type": "stream",
     "text": [
      "R^2 = 0.07536990531884433\n"
     ]
    }
   ],
   "source": [
    "# data\n",
    "cost = np.array([2544,5162,3716,3508,3435,3608,3762,4098,3852,4338])\n",
    "cap = np.array([9.992,10.481,10.718,11.159,11.799,12.122,12.672,13.148,13.862,14.013])\n",
    "# Missing year : 2011\n",
    "\n",
    "a = 67.1816\n",
    "\n",
    "b = 2.71765\n",
    "\n",
    "c = 0.172752\n",
    "\n",
    "m = 0.84775\n",
    "\n",
    "reg = s_curve(x=cap,a=a,b=b,c=c,m=m) # for R^2 computation\n",
    "x_reg = np.logspace(0.9,2.5,50)\n",
    "y_reg = s_curve(x=x_reg,a=a,b=b,c=c,m=m) # for plotting\n",
    "\n",
    "plt.plot(cap, cost,'bo',label='data')\n",
    "plt.plot(x_reg, y_reg,'r-',label='regression')\n",
    "plt.loglog()\n",
    "plt.xlabel('Cumulative capacity [GW]')\n",
    "plt.ylabel('Cost [USD_2018/kW]')\n",
    "plt.legend()\n",
    "plt.show()\n",
    "\n",
    "slope, intercept, r_value, p_value, std_err = stats.linregress(cost,reg)\n",
    "\n",
    "r2 = r_value**2 \n",
    "print(\"R^2 = \" + str(r_value**2))"
   ]
  },
  {
   "cell_type": "code",
   "execution_count": 46,
   "id": "a99246c7",
   "metadata": {},
   "outputs": [
    {
     "name": "stdout",
     "output_type": "stream",
     "text": [
      "42897.96713868598\n"
     ]
    }
   ],
   "source": [
    "# Evaluation of the cost in 2050\n",
    "cap_2050 = 126 # [GW]\n",
    "cost_2050 = s_curve(x=cap_2050,a=a,b=b,c=c,m=m)\n",
    "print(cost_2050)"
   ]
  },
  {
   "cell_type": "markdown",
   "id": "c77a0ebc",
   "metadata": {},
   "source": [
    "# GSHP"
   ]
  },
  {
   "cell_type": "markdown",
   "id": "3c4a905a",
   "metadata": {},
   "source": [
    "## Boone"
   ]
  },
  {
   "cell_type": "code",
   "execution_count": 181,
   "id": "e89c9c0d",
   "metadata": {},
   "outputs": [
    {
     "data": {
      "image/png": "[encoded data removed]",
      "text/plain": [
       "<Figure size 432x288 with 1 Axes>"
      ]
     },
     "metadata": {
      "needs_background": "light"
     },
     "output_type": "display_data"
    },
    {
     "name": "stdout",
     "output_type": "stream",
     "text": [
      "R^2 = 0.9042889215271452\n"
     ]
    }
   ],
   "source": [
    "# data\n",
    "cost = np.array([34647,30597,27279,25591,23285,20361,17605,15805,14286,13611,12655,8662,8549,8212,7762,7256,6806,6524,5231,4893,4781,4612,4443,4218])\n",
    "cap = 0.001*np.array([19.88,39.27,60.65,84.01,105.88,126.26,142.17,156.58,172.49,197.84,224.19,251.53,285.33,324.60,366.85,416.56,466.77,522.44,587.07,660.64,749.62,866.93,991.70,1143.31])\n",
    "\n",
    "a = 5571.67\n",
    "\n",
    "b = -0.501507\n",
    "\n",
    "c = 10094400\n",
    "\n",
    "reg = boone(x=cap,a=a,b=b,c=c) # for R^2 computation\n",
    "x_reg = np.logspace(-1.6,2.5,50)\n",
    "y_reg = boone(x=x_reg,a=a,b=b,c=c) # for plotting\n",
    "\n",
    "plt.plot(cap, cost,'bo',label='data')\n",
    "plt.plot(x_reg, y_reg,'r-',label='regression')\n",
    "plt.loglog()\n",
    "plt.xlabel('Cumulative capacity [GW]')\n",
    "plt.ylabel('Cost [USD_2018/kW]')\n",
    "plt.legend()\n",
    "plt.show()\n",
    "\n",
    "slope, intercept, r_value, p_value, std_err = stats.linregress(cost,reg)\n",
    "\n",
    "r2 = r_value**2 \n",
    "print(\"R^2 = \" + str(r_value**2))"
   ]
  },
  {
   "cell_type": "code",
   "execution_count": 182,
   "id": "fe053d1c",
   "metadata": {},
   "outputs": [
    {
     "name": "stdout",
     "output_type": "stream",
     "text": [
      "3754.527217527261\n"
     ]
    }
   ],
   "source": [
    "# Testing if the prospective cost stays positive\n",
    "cap_2018 = 2.197\n",
    "cost_2018 = boone(x=cap_2018,a=a,b=b,c=c)\n",
    "print(cost_2018)"
   ]
  },
  {
   "cell_type": "code",
   "execution_count": 183,
   "id": "2558a181",
   "metadata": {},
   "outputs": [
    {
     "name": "stdout",
     "output_type": "stream",
     "text": [
      "1129.289955399114\n"
     ]
    }
   ],
   "source": [
    "# Testing if the prospective cost stays positive\n",
    "cap_2050 = 24.110\n",
    "cost_2050 = boone(x=cap_2050,a=a,b=b,c=c)\n",
    "print(cost_2050)"
   ]
  },
  {
   "cell_type": "markdown",
   "id": "043c452d",
   "metadata": {},
   "source": [
    "## Sigmoid"
   ]
  },
  {
   "cell_type": "code",
   "execution_count": 189,
   "id": "8e99a8ca",
   "metadata": {},
   "outputs": [
    {
     "data": {
      "image/png": "[encoded data removed]",
      "text/plain": [
       "<Figure size 432x288 with 1 Axes>"
      ]
     },
     "metadata": {
      "needs_background": "light"
     },
     "output_type": "display_data"
    },
    {
     "name": "stdout",
     "output_type": "stream",
     "text": [
      "R^2 = 0.9857733667355929\n"
     ]
    }
   ],
   "source": [
    "# data\n",
    "cost = np.array([34647,30597,27279,25591,23285,20361,17605,15805,14286,13611,12655,8662,8549,8212,7762,7256,6806,6524,5231,4893,4781,4612,4443,4218])\n",
    "cap = 0.001*np.array([19.88,39.27,60.65,84.01,105.88,126.26,142.17,156.58,172.49,197.84,224.19,251.53,285.33,324.60,366.85,416.56,466.77,522.44,587.07,660.64,749.62,866.93,991.70,1143.31])\n",
    "\n",
    "a = -8113870\n",
    "\n",
    "b = 14.9276\n",
    "\n",
    "c = 8.35587\n",
    "\n",
    "d = 548885\n",
    "\n",
    "reg = sigmoid(x=cap,a=a,b=b,c=c,d=d)\n",
    "x_reg = np.logspace(-1.6,2.5,50)\n",
    "y_reg = sigmoid(x=x_reg,a=a,b=b,c=c,d=d) # for plotting\n",
    "\n",
    "plt.plot(cap, cost,'bo',label='data')\n",
    "plt.plot(x_reg, y_reg,'r-',label='regression')\n",
    "plt.loglog()\n",
    "plt.xlabel('Cumulative capacity [GW]')\n",
    "plt.ylabel('Cost [USD_2018/kW]')\n",
    "plt.legend()\n",
    "plt.show()\n",
    "\n",
    "slope, intercept, r_value, p_value, std_err = stats.linregress(cost,reg)\n",
    "\n",
    "r2 = r_value**2 \n",
    "print(\"R^2 = \" + str(r_value**2))"
   ]
  },
  {
   "cell_type": "code",
   "execution_count": 190,
   "id": "8c8cebd7",
   "metadata": {},
   "outputs": [
    {
     "name": "stdout",
     "output_type": "stream",
     "text": [
      "5336.807778073824\n"
     ]
    }
   ],
   "source": [
    "# Testing if the prospective cost stays positive\n",
    "cap_2018 = 2.197\n",
    "cost_2018 = sigmoid(x=cap_2018,a=a,b=b,c=c,d=d)\n",
    "print(cost_2018)"
   ]
  },
  {
   "cell_type": "code",
   "execution_count": 191,
   "id": "58b480e5",
   "metadata": {},
   "outputs": [
    {
     "name": "stdout",
     "output_type": "stream",
     "text": [
      "5336.807390337344\n"
     ]
    }
   ],
   "source": [
    "# Testing if the prospective cost stays positive\n",
    "cap_2050 = 24.110\n",
    "cost_2050 = sigmoid(x=cap_2050,a=a,b=b,c=c,d=d)\n",
    "print(cost_2050)"
   ]
  },
  {
   "cell_type": "markdown",
   "id": "dd0fcbcd",
   "metadata": {},
   "source": [
    "## Plateau"
   ]
  },
  {
   "cell_type": "code",
   "execution_count": 194,
   "id": "17a8622d",
   "metadata": {},
   "outputs": [
    {
     "data": {
      "image/png": "[encoded data removed]",
      "text/plain": [
       "<Figure size 432x288 with 1 Axes>"
      ]
     },
     "metadata": {
      "needs_background": "light"
     },
     "output_type": "display_data"
    },
    {
     "name": "stdout",
     "output_type": "stream",
     "text": [
      "R^2 = 0.9042889233313093\n"
     ]
    }
   ],
   "source": [
    "# data\n",
    "cost = np.array([34647,30597,27279,25591,23285,20361,17605,15805,14286,13611,12655,8662,8549,8212,7762,7256,6806,6524,5231,4893,4781,4612,4443,4218])\n",
    "cap = 0.001*np.array([19.88,39.27,60.65,84.01,105.88,126.26,142.17,156.58,172.49,197.84,224.19,251.53,285.33,324.60,366.85,416.56,466.77,522.44,587.07,660.64,749.62,866.93,991.70,1143.31])\n",
    "\n",
    "a = 0.001 # restricted >= 0 to get acceptable result\n",
    "\n",
    "b = -0.501507\n",
    "\n",
    "c = 5571.67\n",
    "\n",
    "reg = plateau(x=cap,a=a,b=b,c=c) # for R^2 computation\n",
    "x_reg = np.logspace(-1.6,2.5,50)\n",
    "y_reg = plateau(x=x_reg,a=a,b=b,c=c) # for plotting\n",
    "\n",
    "plt.plot(cap, cost,'bo',label='data')\n",
    "plt.plot(x_reg, y_reg,'r-',label='regression')\n",
    "plt.loglog()\n",
    "plt.xlabel('Cumulative capacity [GW]')\n",
    "plt.ylabel('Cost [USD_2018/kW]')\n",
    "plt.legend()\n",
    "plt.show()\n",
    "\n",
    "slope, intercept, r_value, p_value, std_err = stats.linregress(cost,reg)\n",
    "\n",
    "r2 = r_value**2 \n",
    "print(\"R^2 = \" + str(r_value**2))"
   ]
  },
  {
   "cell_type": "code",
   "execution_count": 195,
   "id": "e7ad7494",
   "metadata": {},
   "outputs": [
    {
     "name": "stdout",
     "output_type": "stream",
     "text": [
      "3754.5278949694034\n"
     ]
    }
   ],
   "source": [
    "# Testing if the prospective cost stays positive\n",
    "cap_2018 = 2.197\n",
    "cost_2018 = plateau(x=cap_2018,a=a,b=b,c=c)\n",
    "print(cost_2018)"
   ]
  },
  {
   "cell_type": "code",
   "execution_count": 196,
   "id": "b72c1883",
   "metadata": {},
   "outputs": [
    {
     "name": "stdout",
     "output_type": "stream",
     "text": [
      "1129.2866503015255\n"
     ]
    }
   ],
   "source": [
    "# Testing if the prospective cost stays positive\n",
    "cap_2050 = 24.110\n",
    "cost_2050 = plateau(x=cap_2050,a=a,b=b,c=c)\n",
    "print(cost_2050)"
   ]
  },
  {
   "cell_type": "markdown",
   "id": "eb1a58aa",
   "metadata": {},
   "source": [
    "## S-curve"
   ]
  },
  {
   "cell_type": "code",
   "execution_count": 204,
   "id": "2bbefcd0",
   "metadata": {},
   "outputs": [
    {
     "data": {
      "image/png": "[encoded data removed]",
      "text/plain": [
       "<Figure size 432x288 with 1 Axes>"
      ]
     },
     "metadata": {
      "needs_background": "light"
     },
     "output_type": "display_data"
    },
    {
     "name": "stdout",
     "output_type": "stream",
     "text": [
      "R^2 = 0.9826931549878422\n"
     ]
    }
   ],
   "source": [
    "# data\n",
    "cost = np.array([34647,30597,27279,25591,23285,20361,17605,15805,14286,13611,12655,8662,8549,8212,7762,7256,6806,6524,5231,4893,4781,4612,4443,4218])\n",
    "cap = 0.001*np.array([19.88,39.27,60.65,84.01,105.88,126.26,142.17,156.58,172.49,197.84,224.19,251.53,285.33,324.60,366.85,416.56,466.77,522.44,587.07,660.64,749.62,866.93,991.70,1143.31])\n",
    "\n",
    "a = 0.305167\n",
    "\n",
    "b = -3.00134\n",
    "\n",
    "c = 5096.74\n",
    "\n",
    "m = 0.789078\n",
    "\n",
    "reg = s_curve(x=cap,a=a,b=b,c=c,m=m) # for R^2 computation\n",
    "x_reg = np.logspace(-1.6,2.5,50)\n",
    "y_reg = s_curve(x=x_reg,a=a,b=b,c=c,m=m) # for plotting\n",
    "\n",
    "plt.plot(cap, cost,'bo',label='data')\n",
    "plt.plot(x_reg, y_reg,'r-',label='regression')\n",
    "plt.loglog()\n",
    "plt.xlabel('Cumulative capacity [GW]')\n",
    "plt.ylabel('Cost [USD_2018/kW]')\n",
    "plt.legend()\n",
    "plt.show()\n",
    "\n",
    "slope, intercept, r_value, p_value, std_err = stats.linregress(cost,reg)\n",
    "\n",
    "r2 = r_value**2 \n",
    "print(\"R^2 = \" + str(r_value**2))"
   ]
  },
  {
   "cell_type": "code",
   "execution_count": 205,
   "id": "0ce471fe",
   "metadata": {},
   "outputs": [
    {
     "name": "stdout",
     "output_type": "stream",
     "text": [
      "4090.2634551163555\n"
     ]
    }
   ],
   "source": [
    "# Testing if the prospective cost stays positive\n",
    "cap_2018 = 2.197\n",
    "cost_2018 = s_curve(x=cap_2018,a=a,b=b,c=c,m=m)\n",
    "print(cost_2018)"
   ]
  },
  {
   "cell_type": "code",
   "execution_count": 206,
   "id": "f6d31f02",
   "metadata": {},
   "outputs": [
    {
     "name": "stdout",
     "output_type": "stream",
     "text": [
      "4021.7989545551054\n"
     ]
    }
   ],
   "source": [
    "# Testing if the prospective cost stays positive\n",
    "cap_2050 = 24.110\n",
    "cost_2050 = s_curve(x=cap_2050,a=a,b=b,c=c,m=m)\n",
    "print(cost_2050)"
   ]
  },
  {
   "cell_type": "markdown",
   "id": "714bf3c6",
   "metadata": {},
   "source": [
    "# Hydro"
   ]
  },
  {
   "cell_type": "markdown",
   "id": "30b012fc",
   "metadata": {},
   "source": [
    "## Boone"
   ]
  },
  {
   "cell_type": "code",
   "execution_count": 209,
   "id": "d1debf3f",
   "metadata": {},
   "outputs": [
    {
     "data": {
      "image/png": "[encoded data removed]",
      "text/plain": [
       "<Figure size 432x288 with 1 Axes>"
      ]
     },
     "metadata": {
      "needs_background": "light"
     },
     "output_type": "display_data"
    },
    {
     "name": "stdout",
     "output_type": "stream",
     "text": [
      "R^2 = 0.6542166912417837\n"
     ]
    }
   ],
   "source": [
    "# data\n",
    "cost = np.array([1232,1215,1298,1468,1682,1480,1753,1799,1410,1674,1816])\n",
    "cap = np.array([1027,1059,1093,1137,1175,1209,1245,1269,1292,1305,1324])\n",
    "\n",
    "a = 7423.45\n",
    "\n",
    "b = -870.903\n",
    "\n",
    "c = 0.305302\n",
    "\n",
    "reg = boone(x=cap,a=a,b=b,c=c) # for R^2 computation\n",
    "x_reg = np.logspace(3,3.5,50)\n",
    "y_reg = boone(x=x_reg,a=a,b=b,c=c) # for plotting\n",
    "\n",
    "plt.plot(cap, cost,'bo',label='data')\n",
    "plt.plot(x_reg, y_reg,'r-',label='regression')\n",
    "plt.loglog()\n",
    "plt.xlabel('Cumulative capacity [GW]')\n",
    "plt.ylabel('Cost [USD_2018/kW]')\n",
    "plt.legend()\n",
    "plt.show()\n",
    "\n",
    "slope, intercept, r_value, p_value, std_err = stats.linregress(cost,reg)\n",
    "\n",
    "r2 = r_value**2 \n",
    "print(\"R^2 = \" + str(r_value**2))"
   ]
  },
  {
   "cell_type": "code",
   "execution_count": 208,
   "id": "e744ceb7",
   "metadata": {},
   "outputs": [
    {
     "name": "stdout",
     "output_type": "stream",
     "text": [
      "3593.0774131833173\n"
     ]
    }
   ],
   "source": [
    "# Evaluation of the cost in 2050\n",
    "cap_2050 = 2599+325 # [GW]\n",
    "cost_2050 = boone(x=cap_2050,a=a,b=b,c=c)\n",
    "print(cost_2050)"
   ]
  },
  {
   "cell_type": "markdown",
   "id": "875d1aef",
   "metadata": {},
   "source": [
    "## Sigmoid"
   ]
  },
  {
   "cell_type": "code",
   "execution_count": 212,
   "id": "ecc57b6a",
   "metadata": {},
   "outputs": [
    {
     "data": {
      "image/png": "[encoded data removed]",
      "text/plain": [
       "<Figure size 432x288 with 1 Axes>"
      ]
     },
     "metadata": {
      "needs_background": "light"
     },
     "output_type": "display_data"
    },
    {
     "name": "stdout",
     "output_type": "stream",
     "text": [
      "R^2 = 0.6798588705601274\n"
     ]
    }
   ],
   "source": [
    "# data\n",
    "cost = np.array([1232,1215,1298,1468,1682,1480,1753,1799,1410,1674,1816])\n",
    "cap = np.array([1027,1059,1093,1137,1175,1209,1245,1269,1292,1305,1324])\n",
    "\n",
    "a = -631997\n",
    "\n",
    "b = 236.216\n",
    "\n",
    "c = -0.00639458\n",
    "\n",
    "d = 1843.58\n",
    "\n",
    "reg = sigmoid(x=cap,a=a,b=b,c=c,d=d) # for R^2 computation\n",
    "x_reg = np.logspace(3,3.5,50)\n",
    "y_reg = sigmoid(x=x_reg,a=a,b=b,c=c,d=d) # for plotting\n",
    "\n",
    "plt.plot(cap, cost,'bo',label='data')\n",
    "plt.plot(x_reg, y_reg,'r-',label='regression')\n",
    "plt.loglog()\n",
    "plt.xlabel('Cumulative capacity [GW]')\n",
    "plt.ylabel('Cost [USD_2018/kW]')\n",
    "plt.legend()\n",
    "plt.show()\n",
    "\n",
    "slope, intercept, r_value, p_value, std_err = stats.linregress(cost,reg)\n",
    "\n",
    "r2 = r_value**2 \n",
    "print(\"R^2 = \" + str(r_value**2))"
   ]
  },
  {
   "cell_type": "code",
   "execution_count": 213,
   "id": "766c906b",
   "metadata": {},
   "outputs": [
    {
     "name": "stdout",
     "output_type": "stream",
     "text": [
      "1843.5752094678812\n"
     ]
    }
   ],
   "source": [
    "# Evaluation of the cost in 2050\n",
    "cap_2050 = 2599+325 # [GW]\n",
    "cost_2050 = sigmoid(x=cap_2050,a=a,b=b,c=c,d=d)\n",
    "print(cost_2050)"
   ]
  },
  {
   "cell_type": "markdown",
   "id": "8218983d",
   "metadata": {},
   "source": [
    "## Plateau"
   ]
  },
  {
   "cell_type": "code",
   "execution_count": 214,
   "id": "129540a8",
   "metadata": {},
   "outputs": [
    {
     "data": {
      "image/png": "[encoded data removed]",
      "text/plain": [
       "<Figure size 432x288 with 1 Axes>"
      ]
     },
     "metadata": {
      "needs_background": "light"
     },
     "output_type": "display_data"
    },
    {
     "name": "stdout",
     "output_type": "stream",
     "text": [
      "R^2 = 0.6563325085984707\n"
     ]
    }
   ],
   "source": [
    "# data\n",
    "cost = np.array([1232,1215,1298,1468,1682,1480,1753,1799,1410,1674,1816])\n",
    "cap = np.array([1027,1059,1093,1137,1175,1209,1245,1269,1292,1305,1324])\n",
    "\n",
    "a = -5750.07\n",
    "\n",
    "b = 0.286223\n",
    "\n",
    "c = 958.715\n",
    "\n",
    "reg = plateau(x=cap,a=a,b=b,c=c) # for R^2 computation\n",
    "x_reg = np.logspace(3,3.5,50)\n",
    "y_reg = plateau(x=x_reg,a=a,b=b,c=c) # for plotting\n",
    "\n",
    "plt.plot(cap, cost,'bo',label='data')\n",
    "plt.plot(x_reg, y_reg,'r-',label='regression')\n",
    "plt.loglog()\n",
    "plt.xlabel('Cumulative capacity [GW]')\n",
    "plt.ylabel('Cost [USD_2018/kW]')\n",
    "plt.legend()\n",
    "plt.show()\n",
    "\n",
    "slope, intercept, r_value, p_value, std_err = stats.linregress(cost,reg)\n",
    "\n",
    "r2 = r_value**2 \n",
    "print(\"R^2 = \" + str(r_value**2))"
   ]
  },
  {
   "cell_type": "code",
   "execution_count": 215,
   "id": "05f8c7f4",
   "metadata": {},
   "outputs": [
    {
     "name": "stdout",
     "output_type": "stream",
     "text": [
      "3663.014615848453\n"
     ]
    }
   ],
   "source": [
    "# Evaluation of the cost in 2050\n",
    "cap_2050 = 2599+325 # [GW]\n",
    "cost_2050 = plateau(x=cap_2050,a=a,b=b,c=c)\n",
    "print(cost_2050)"
   ]
  },
  {
   "cell_type": "markdown",
   "id": "2856a537",
   "metadata": {},
   "source": [
    "## S-curve"
   ]
  },
  {
   "cell_type": "code",
   "execution_count": 230,
   "id": "1b23d4a6",
   "metadata": {},
   "outputs": [
    {
     "data": {
      "image/png": "[encoded data removed]",
      "text/plain": [
       "<Figure size 432x288 with 1 Axes>"
      ]
     },
     "metadata": {
      "needs_background": "light"
     },
     "output_type": "display_data"
    },
    {
     "name": "stdout",
     "output_type": "stream",
     "text": [
      "R^2 = 0.6474392526971587\n"
     ]
    }
   ],
   "source": [
    "# data\n",
    "cost = np.array([1232,1215,1298,1468,1682,1480,1753,1799,1410,1674,1816])\n",
    "cap = np.array([1027,1059,1093,1137,1175,1209,1245,1269,1292,1305,1324])\n",
    "\n",
    "a = -116.57\n",
    "\n",
    "b = 1.24005\n",
    "\n",
    "c = 0.265431\n",
    "\n",
    "m = 0.001\n",
    "\n",
    "reg = s_curve(x=cap,a=a,b=b,c=c,m=m) # for R^2 computation\n",
    "x_reg = np.logspace(3,3.5,50)\n",
    "y_reg = s_curve(x=x_reg,a=a,b=b,c=c,m=m) # for plotting\n",
    "\n",
    "plt.plot(cap, cost,'bo',label='data')\n",
    "plt.plot(x_reg, y_reg,'r-',label='regression')\n",
    "plt.loglog()\n",
    "plt.xlabel('Cumulative capacity [GW]')\n",
    "plt.ylabel('Cost [USD_2018/kW]')\n",
    "plt.legend()\n",
    "plt.show()\n",
    "\n",
    "slope, intercept, r_value, p_value, std_err = stats.linregress(cost,reg)\n",
    "\n",
    "r2 = r_value**2 \n",
    "print(\"R^2 = \" + str(r_value**2))"
   ]
  },
  {
   "cell_type": "code",
   "execution_count": 231,
   "id": "3cb07259",
   "metadata": {},
   "outputs": [
    {
     "name": "stdout",
     "output_type": "stream",
     "text": [
      "5007.173627395044\n"
     ]
    }
   ],
   "source": [
    "# Evaluation of the cost in 2050\n",
    "cap_2050 = 2599+325 # [GW]\n",
    "cost_2050 = s_curve(x=cap_2050,a=a,b=b,c=c,m=m)\n",
    "print(cost_2050)"
   ]
  },
  {
   "cell_type": "markdown",
   "id": "098d9c91",
   "metadata": {},
   "source": [
    "# Carbon capture"
   ]
  },
  {
   "cell_type": "markdown",
   "id": "dfa4fea2",
   "metadata": {},
   "source": [
    "## Boone"
   ]
  },
  {
   "cell_type": "code",
   "execution_count": 219,
   "id": "8d331331",
   "metadata": {},
   "outputs": [
    {
     "data": {
      "image/png": "[encoded data removed]",
      "text/plain": [
       "<Figure size 432x288 with 1 Axes>"
      ]
     },
     "metadata": {
      "needs_background": "light"
     },
     "output_type": "display_data"
    },
    {
     "name": "stdout",
     "output_type": "stream",
     "text": [
      "R^2 = 0.452055437207087\n"
     ]
    }
   ],
   "source": [
    "# data\n",
    "cost = np.array([80,72,66,62,92,106,110,112,66])\n",
    "cap = np.array([13.06,18.06,18.06,18.06,25.96,25.96,25.96,26.96,32.26]) #[Mtpa CO2]\n",
    "\n",
    "# possibility to add a prediction in the future \n",
    "pred_cost_2026 = 44\n",
    "pred_cap_2026 = 1163\n",
    "cost = np.append(cost, pred_cost_2026)\n",
    "cap = np.append(cap, pred_cap_2026)\n",
    "\n",
    "a = 21.0034\n",
    "\n",
    "b = 0.485299\n",
    "\n",
    "c = 312.388\n",
    "\n",
    "reg = boone(x=cap,a=a,b=b,c=c) # for R^2 computation\n",
    "x_reg = np.logspace(1,3.9,50)\n",
    "y_reg = boone(x=x_reg,a=a,b=b,c=c) # for plotting\n",
    "\n",
    "plt.plot(cap, cost,'bo',label='data')\n",
    "plt.plot(x_reg, y_reg,'r-',label='regression')\n",
    "plt.loglog()\n",
    "plt.xlabel('Cumulative capacity [GW]')\n",
    "plt.ylabel('Cost [USD_2018/kW]')\n",
    "plt.legend()\n",
    "plt.show()\n",
    "\n",
    "slope, intercept, r_value, p_value, std_err = stats.linregress(cost,reg)\n",
    "\n",
    "r2 = r_value**2 \n",
    "print(\"R^2 = \" + str(r_value**2))"
   ]
  },
  {
   "cell_type": "code",
   "execution_count": 220,
   "id": "1c6935a5",
   "metadata": {},
   "outputs": [
    {
     "name": "stdout",
     "output_type": "stream",
     "text": [
      "24.925627738316514\n"
     ]
    }
   ],
   "source": [
    "# Testing if the prospective cost stays positive\n",
    "cap_2050 = 7600\n",
    "cost_2050 = boone(x=cap_2050,a=a,b=b,c=c)\n",
    "print(cost_2050)"
   ]
  },
  {
   "cell_type": "markdown",
   "id": "0ff72fdd",
   "metadata": {},
   "source": [
    "## Sigmoid"
   ]
  },
  {
   "cell_type": "code",
   "execution_count": 60,
   "id": "07464db7",
   "metadata": {},
   "outputs": [
    {
     "data": {
      "image/png": "[encoded data removed]",
      "text/plain": [
       "<Figure size 432x288 with 1 Axes>"
      ]
     },
     "metadata": {
      "needs_background": "light"
     },
     "output_type": "display_data"
    },
    {
     "name": "stdout",
     "output_type": "stream",
     "text": [
      "R^2 = 0.3162242770152219\n"
     ]
    }
   ],
   "source": [
    "# data\n",
    "cost = np.array([80,72,66,62,92,106,110,112,66])\n",
    "cap = np.array([13.06,18.06,18.06,18.06,25.96,25.96,25.96,26.96,32.26]) #[Mtpa CO2]\n",
    "\n",
    "# possibility to add a prediction in the future \n",
    "pred_cost_2026 = 44\n",
    "pred_cap_2026 = 1163\n",
    "cost = np.append(cost, pred_cost_2026)\n",
    "cap = np.append(cap, pred_cap_2026)\n",
    "\n",
    "a = 261173\n",
    "\n",
    "b = 5837.89\n",
    "\n",
    "c = -0.00954655\n",
    "\n",
    "d = 40.383\n",
    "\n",
    "reg = sigmoid(x=cap,a=a,b=b,c=c,d=d) # for R^2 computation\n",
    "x_reg = np.logspace(1,3.9,50)\n",
    "y_reg = sigmoid(x=x_reg,a=a,b=b,c=c,d=d) # for plotting\n",
    "\n",
    "plt.plot(cap, cost,'bo',label='data')\n",
    "plt.plot(x_reg, y_reg,'r-',label='regression')\n",
    "plt.loglog()\n",
    "plt.xlabel('Cumulative capacity [GW]')\n",
    "plt.ylabel('Cost [USD_2018/kW]')\n",
    "plt.legend()\n",
    "plt.show()\n",
    "\n",
    "slope, intercept, r_value, p_value, std_err = stats.linregress(cost,reg)\n",
    "\n",
    "r2 = r_value**2 \n",
    "print(\"R^2 = \" + str(r_value**2))"
   ]
  },
  {
   "cell_type": "code",
   "execution_count": 223,
   "id": "e96aacd0",
   "metadata": {},
   "outputs": [
    {
     "name": "stdout",
     "output_type": "stream",
     "text": [
      "40.383\n"
     ]
    }
   ],
   "source": [
    "# Testing if the prospective cost stays positive\n",
    "cap_2050 = 7600\n",
    "cost_2050 = sigmoid(x=cap_2050,a=a,b=b,c=c,d=d)\n",
    "print(cost_2050)"
   ]
  },
  {
   "cell_type": "markdown",
   "id": "2bf8d9ae",
   "metadata": {},
   "source": [
    "## Plateau"
   ]
  },
  {
   "cell_type": "code",
   "execution_count": 6,
   "id": "7ae70f5f",
   "metadata": {},
   "outputs": [
    {
     "data": {
      "image/png": "[encoded data removed]",
      "text/plain": [
       "<Figure size 432x288 with 1 Axes>"
      ]
     },
     "metadata": {
      "needs_background": "light"
     },
     "output_type": "display_data"
    },
    {
     "name": "stdout",
     "output_type": "stream",
     "text": [
      "R^2 = 0.22389506954197058\n"
     ]
    }
   ],
   "source": [
    "# data\n",
    "cost = np.array([80,72,66,62,92,106,110,112,66])\n",
    "cap = np.array([13.06,18.06,18.06,18.06,25.96,25.96,25.96,26.96,32.26]) #[Mtpa CO2]\n",
    "\n",
    "# possibility to add a prediction in the future \n",
    "pred_cost_2026 = 44\n",
    "pred_cap_2026 = 1163\n",
    "cost = np.append(cost, pred_cost_2026)\n",
    "cap = np.append(cap, pred_cap_2026)\n",
    "\n",
    "a = -44898.2\n",
    "\n",
    "b = -0.000189357\n",
    "\n",
    "c = 45008.9\n",
    "\n",
    "reg = plateau(x=cap,a=a,b=b,c=c) # for R^2 computation\n",
    "x_reg = np.logspace(1,3.9,50)\n",
    "y_reg = plateau(x=x_reg,a=a,b=b,c=c) # for plotting\n",
    "\n",
    "plt.plot(cap, cost,'bo',label='data')\n",
    "plt.plot(x_reg, y_reg,'r-',label='regression')\n",
    "plt.loglog()\n",
    "plt.xlabel('Cumulative capacity [GW]')\n",
    "plt.ylabel('Cost [USD_2018/kW]')\n",
    "plt.legend()\n",
    "plt.show()\n",
    "\n",
    "slope, intercept, r_value, p_value, std_err = stats.linregress(cost,reg)\n",
    "\n",
    "r2 = r_value**2 \n",
    "print(\"R^2 = \" + str(r_value**2))"
   ]
  },
  {
   "cell_type": "code",
   "execution_count": 7,
   "id": "3bddbb50",
   "metadata": {},
   "outputs": [
    {
     "name": "stdout",
     "output_type": "stream",
     "text": [
      "34.60592237590026\n"
     ]
    }
   ],
   "source": [
    "# Testing if the prospective cost stays positive\n",
    "cap_2050 = 7600\n",
    "cost_2050 = plateau(x=cap_2050,a=a,b=b,c=c)\n",
    "print(cost_2050)"
   ]
  },
  {
   "cell_type": "markdown",
   "id": "48f713d7",
   "metadata": {},
   "source": [
    "## S-curve"
   ]
  },
  {
   "cell_type": "code",
   "execution_count": 62,
   "id": "0acf7353",
   "metadata": {},
   "outputs": [
    {
     "data": {
      "image/png": "[encoded data removed]",
      "text/plain": [
       "<Figure size 432x288 with 1 Axes>"
      ]
     },
     "metadata": {
      "needs_background": "light"
     },
     "output_type": "display_data"
    },
    {
     "name": "stdout",
     "output_type": "stream",
     "text": [
      "R^2 = 0.30123176187476475\n"
     ]
    }
   ],
   "source": [
    "# data\n",
    "cost = np.array([80,72,66,62,92,106,110,112,66])\n",
    "cap = np.array([13.06,18.06,18.06,18.06,25.96,25.96,25.96,26.96,32.26]) #[Mtpa CO2]\n",
    "\n",
    "# possibility to add a prediction in the future \n",
    "pred_cost_2026 = 44\n",
    "pred_cap_2026 = 1163\n",
    "cost = np.append(cost, pred_cost_2026)\n",
    "cap = np.append(cap, pred_cap_2026)\n",
    "\n",
    "a = 646.937\n",
    "\n",
    "b = -0.706259\n",
    "\n",
    "c = 7661.12\n",
    "\n",
    "m = 0.001\n",
    "\n",
    "reg = s_curve(x=cap,a=a,b=b,c=c,m=m) # for R^2 computation\n",
    "x_reg = np.logspace(1,3.9,50)\n",
    "y_reg = s_curve(x=x_reg,a=a,b=b,c=c,m=m) # for plotting\n",
    "\n",
    "plt.plot(cap, cost,'bo',label='data')\n",
    "plt.plot(x_reg, y_reg,'r-',label='regression')\n",
    "plt.loglog()\n",
    "plt.xlabel('Cumulative capacity [GW]')\n",
    "plt.ylabel('Cost [USD_2018/kW]')\n",
    "plt.legend()\n",
    "plt.show()\n",
    "\n",
    "slope, intercept, r_value, p_value, std_err = stats.linregress(cost,reg)\n",
    "\n",
    "r2 = r_value**2 \n",
    "print(\"R^2 = \" + str(r_value**2))"
   ]
  },
  {
   "cell_type": "code",
   "execution_count": 63,
   "id": "8325b380",
   "metadata": {},
   "outputs": [
    {
     "name": "stdout",
     "output_type": "stream",
     "text": [
      "20.781330517961273\n"
     ]
    }
   ],
   "source": [
    "# Testing if the prospective cost stays positive\n",
    "cap_2050 = 7600\n",
    "cost_2050 = s_curve(x=cap_2050,a=a,b=b,c=c,m=m)\n",
    "print(cost_2050)"
   ]
  },
  {
   "cell_type": "markdown",
   "id": "4559e480",
   "metadata": {},
   "source": [
    "# ALK"
   ]
  },
  {
   "cell_type": "markdown",
   "id": "0bdadaf9",
   "metadata": {},
   "source": [
    "## Boone"
   ]
  },
  {
   "cell_type": "code",
   "execution_count": 64,
   "id": "2b88eb5d",
   "metadata": {},
   "outputs": [
    {
     "data": {
      "image/png": "[encoded data removed]",
      "text/plain": [
       "<Figure size 432x288 with 1 Axes>"
      ]
     },
     "metadata": {
      "needs_background": "light"
     },
     "output_type": "display_data"
    },
    {
     "name": "stdout",
     "output_type": "stream",
     "text": [
      "R^2 = 0.3839711529600498\n"
     ]
    }
   ],
   "source": [
    "# data\n",
    "cost = np.array([1190,1197,1666,1880,1155,1835,1745,1458,1874,1554,1454,1112,983,1110,1190,1369,1197,947,1518,1420,1183,1302,983,1316,1183,1154,1183,1183,947,947,592,1122,592,1019,758,1313,1083,1274])\n",
    "cap = 0.001*np.array([89,89,89,89,89,89,89,89,89,89,89,89,89,89,89,89,91,91,91,91,91,91,91,91,91,93,93,93,93,97,100,117,117,117,117,117,117,117])\n",
    "\n",
    "# possibility to add a prediction in 2030 and/or 2050\n",
    "pred_cost_2030 = 625\n",
    "pred_cap_2030 = 197.838\n",
    "cost = np.append(cost, pred_cost_2030)\n",
    "cap = np.append(cap, pred_cap_2030)\n",
    "pred_cost_2050 = 450\n",
    "pred_cap_2050 = 885.78\n",
    "cost = np.append(cost, pred_cost_2050)\n",
    "cap = np.append(cap, pred_cap_2050)\n",
    "\n",
    "a = 481.97\n",
    "\n",
    "b = -371.885\n",
    "\n",
    "c = 0.000100893\n",
    "\n",
    "reg = boone(x=cap,a=a,b=b,c=c) # for R^2 computation\n",
    "x_reg = np.logspace(-1.1,3,50)\n",
    "y_reg = boone(x=x_reg,a=a,b=b,c=c) # for plotting\n",
    "\n",
    "plt.plot(cap, cost,'bo',label='data')\n",
    "plt.plot(x_reg, y_reg,'r-',label='regression')\n",
    "plt.loglog()\n",
    "plt.xlabel('Cumulative capacity [GW]')\n",
    "plt.ylabel('Cost [USD_2018/kW]')\n",
    "plt.legend()\n",
    "plt.show()\n",
    "\n",
    "slope, intercept, r_value, p_value, std_err = stats.linregress(cost,reg)\n",
    "\n",
    "r2 = r_value**2 \n",
    "print(\"R^2 = \" + str(r_value**2))"
   ]
  },
  {
   "cell_type": "code",
   "execution_count": 234,
   "id": "5a7691e9",
   "metadata": {
    "scrolled": true
   },
   "outputs": [
    {
     "name": "stdout",
     "output_type": "stream",
     "text": [
      "481.8584689589705\n"
     ]
    }
   ],
   "source": [
    "# Testing if the prospective cost stays positive\n",
    "cap_2050 = 885.78\n",
    "cost_2050 = boone(x=cap_2050,a=a,b=b,c=c)\n",
    "print(cost_2050)"
   ]
  },
  {
   "cell_type": "markdown",
   "id": "5b373af4",
   "metadata": {},
   "source": [
    "## Sigmoid"
   ]
  },
  {
   "cell_type": "code",
   "execution_count": 235,
   "id": "f5f12c18",
   "metadata": {
    "scrolled": true
   },
   "outputs": [
    {
     "data": {
      "image/png": "[encoded data removed]",
      "text/plain": [
       "<Figure size 432x288 with 1 Axes>"
      ]
     },
     "metadata": {
      "needs_background": "light"
     },
     "output_type": "display_data"
    },
    {
     "name": "stdout",
     "output_type": "stream",
     "text": [
      "R^2 = 0.20992120977327738\n"
     ]
    }
   ],
   "source": [
    "# data\n",
    "cost = np.array([1190,1197,1666,1880,1155,1835,1745,1458,1874,1554,1454,1112,983,1110,1190,1369,1197,947,1518,1420,1183,1302,983,1316,1183,1154,1183,1183,947,947,592,1122,592,1019,758,1313,1083,1274])\n",
    "cap = 0.001*np.array([89,89,89,89,89,89,89,89,89,89,89,89,89,89,89,89,91,91,91,91,91,91,91,91,91,93,93,93,93,97,100,117,117,117,117,117,117,117])\n",
    "\n",
    "# possibility to add a prediction in 2030 and/or 2050\n",
    "pred_cost_2030 = 625\n",
    "pred_cap_2030 = 197.838\n",
    "cost = np.append(cost, pred_cost_2030)\n",
    "cap = np.append(cap, pred_cap_2030)\n",
    "pred_cost_2050 = 450\n",
    "pred_cap_2050 = 885.78\n",
    "cost = np.append(cost, pred_cost_2050)\n",
    "cap = np.append(cap, pred_cap_2050)\n",
    "\n",
    "a = -58075.6\n",
    "\n",
    "b = 8.1034\n",
    "\n",
    "c = 0.00809268\n",
    "\n",
    "d = 7616.65\n",
    "\n",
    "reg = sigmoid(x=cap,a=a,b=b,c=c,d=d) # for R^2 computation\n",
    "x_reg = np.logspace(-1.1,3,50)\n",
    "y_reg = sigmoid(x=x_reg,a=a,b=b,c=c,d=d) # for plotting\n",
    "\n",
    "plt.plot(cap, cost,'bo',label='data')\n",
    "plt.plot(x_reg, y_reg,'r-',label='regression')\n",
    "plt.loglog()\n",
    "plt.xlabel('Cumulative capacity [GW]')\n",
    "plt.ylabel('Cost [USD_2018/kW]')\n",
    "plt.legend()\n",
    "plt.show()\n",
    "\n",
    "slope, intercept, r_value, p_value, std_err = stats.linregress(cost,reg)\n",
    "\n",
    "r2 = r_value**2 \n",
    "print(\"R^2 = \" + str(r_value**2))"
   ]
  },
  {
   "cell_type": "code",
   "execution_count": 236,
   "id": "213411a8",
   "metadata": {},
   "outputs": [
    {
     "name": "stdout",
     "output_type": "stream",
     "text": [
      "450.5126088215684\n"
     ]
    }
   ],
   "source": [
    "# Testing if the prospective cost stays positive\n",
    "cap_2050 = 885.78\n",
    "cost_2050 = sigmoid(x=cap_2050,a=a,b=b,c=c,d=d)\n",
    "print(cost_2050)"
   ]
  },
  {
   "cell_type": "markdown",
   "id": "4ccc856a",
   "metadata": {},
   "source": [
    "## Plateau"
   ]
  },
  {
   "cell_type": "code",
   "execution_count": 237,
   "id": "c38b9bc1",
   "metadata": {},
   "outputs": [
    {
     "data": {
      "image/png": "[encoded data removed]",
      "text/plain": [
       "<Figure size 432x288 with 1 Axes>"
      ]
     },
     "metadata": {
      "needs_background": "light"
     },
     "output_type": "display_data"
    },
    {
     "name": "stdout",
     "output_type": "stream",
     "text": [
      "R^2 = 0.38713505386134733\n"
     ]
    }
   ],
   "source": [
    "# data\n",
    "cost = np.array([1190,1197,1666,1880,1155,1835,1745,1458,1874,1554,1454,1112,983,1110,1190,1369,1197,947,1518,1420,1183,1302,983,1316,1183,1154,1183,1183,947,947,592,1122,592,1019,758,1313,1083,1274])\n",
    "cap = 0.001*np.array([89,89,89,89,89,89,89,89,89,89,89,89,89,89,89,89,91,91,91,91,91,91,91,91,91,93,93,93,93,97,100,117,117,117,117,117,117,117])\n",
    "\n",
    "# possibility to add a prediction in 2030 and/or 2050\n",
    "pred_cost_2030 = 625\n",
    "pred_cap_2030 = 197.838\n",
    "cost = np.append(cost, pred_cost_2030)\n",
    "cap = np.append(cap, pred_cap_2030)\n",
    "pred_cost_2050 = 450\n",
    "pred_cap_2050 = 885.78\n",
    "cost = np.append(cost, pred_cost_2050)\n",
    "cap = np.append(cap, pred_cap_2050)\n",
    "\n",
    "a = 602.944\n",
    "\n",
    "b = -3.22207\n",
    "\n",
    "c = 0.306414\n",
    "\n",
    "x_reg = np.logspace(-1.1, 3, 40)\n",
    "reg = plateau(x=cap,a=a,b=b,c=c)\n",
    "reg_plot = plateau(x=x_reg,a=a,b=b,c=c)\n",
    "\n",
    "plt.plot(cap, cost,'bo',label='data')\n",
    "plt.plot(x_reg, reg_plot,'r-',label='regression')\n",
    "plt.loglog()\n",
    "plt.xlabel('Cumulative capacity [GWth]')\n",
    "plt.ylabel('Cost [USD_2018/kW]')\n",
    "plt.legend()\n",
    "plt.show()\n",
    "\n",
    "slope, intercept, r_value, p_value, std_err = stats.linregress(cost,reg)\n",
    "\n",
    "r2 = r_value**2 \n",
    "print(\"R^2 = \" + str(r_value**2))"
   ]
  },
  {
   "cell_type": "code",
   "execution_count": 238,
   "id": "38a2f07c",
   "metadata": {},
   "outputs": [
    {
     "name": "stdout",
     "output_type": "stream",
     "text": [
      "602.9440000000976\n"
     ]
    }
   ],
   "source": [
    "# Testing if the prospective cost stays positive\n",
    "cap_2050 = 885.78\n",
    "cost_2050 = plateau(x=cap_2050,a=a,b=b,c=c)\n",
    "print(cost_2050)"
   ]
  },
  {
   "cell_type": "markdown",
   "id": "6c0be024",
   "metadata": {},
   "source": [
    "## S-curve"
   ]
  },
  {
   "cell_type": "code",
   "execution_count": 239,
   "id": "12d23350",
   "metadata": {},
   "outputs": [
    {
     "name": "stderr",
     "output_type": "stream",
     "text": [
      "/opt/anaconda3/lib/python3.7/site-packages/ipykernel_launcher.py:2: RuntimeWarning: invalid value encountered in power\n",
      "  \n"
     ]
    },
    {
     "data": {
      "image/png": "[encoded data removed]",
      "text/plain": [
       "<Figure size 432x288 with 1 Axes>"
      ]
     },
     "metadata": {
      "needs_background": "light"
     },
     "output_type": "display_data"
    },
    {
     "name": "stdout",
     "output_type": "stream",
     "text": [
      "R^2 = 0.470743889911307\n"
     ]
    }
   ],
   "source": [
    "# data\n",
    "cost = np.array([1190,1197,1666,1880,1155,1835,1745,1458,1874,1554,1454,1112,983,1110,1190,1369,1197,947,1518,1420,1183,1302,983,1316,1183,1154,1183,1183,947,947,592,1122,592,1019,758,1313,1083,1274])\n",
    "cap = 0.001*np.array([89,89,89,89,89,89,89,89,89,89,89,89,89,89,89,89,91,91,91,91,91,91,91,91,91,93,93,93,93,97,100,117,117,117,117,117,117,117])\n",
    "\n",
    "# possibility to add a prediction in 2030 and/or 2050\n",
    "pred_cost_2030 = 625\n",
    "pred_cap_2030 = 197.838\n",
    "cost = np.append(cost, pred_cost_2030)\n",
    "cap = np.append(cap, pred_cap_2030)\n",
    "pred_cost_2050 = 450\n",
    "pred_cap_2050 = 885.78\n",
    "cost = np.append(cost, pred_cost_2050)\n",
    "cap = np.append(cap, pred_cap_2050)\n",
    "\n",
    "a = -0.0886337\n",
    "\n",
    "b = -0.129458\n",
    "\n",
    "c = 744.529\n",
    "\n",
    "m = 0.488405\n",
    "\n",
    "reg = s_curve(x=cap,c=c,m=m,a=a,b=b) # for R^2\n",
    "x_reg = np.logspace(-1.5, 3, 40)\n",
    "y_reg = s_curve(x=x_reg,c=c,m=m,a=a,b=b) # for plotting\n",
    "\n",
    "plt.plot(cap, cost,'bo',label='data')\n",
    "plt.plot(x_reg, y_reg,'r-',label='regression')\n",
    "plt.loglog()\n",
    "plt.xlabel('Cumulative capacity [GW]')\n",
    "plt.ylabel('Cost [USD_2018/kW]')\n",
    "plt.legend()\n",
    "plt.show()\n",
    "\n",
    "slope, intercept, r_value, p_value, std_err = stats.linregress(cost,reg)\n",
    "\n",
    "r2 = r_value**2 \n",
    "print(\"R^2 = \" + str(r_value**2))"
   ]
  },
  {
   "cell_type": "code",
   "execution_count": 240,
   "id": "d0f70f3a",
   "metadata": {},
   "outputs": [
    {
     "name": "stdout",
     "output_type": "stream",
     "text": [
      "521.850681934063\n"
     ]
    }
   ],
   "source": [
    "# Testing if the prospective cost stays positive\n",
    "cap_2050 = 885.78\n",
    "cost_2050 = s_curve(x=cap_2050,c=c,m=m,a=a,b=b)\n",
    "print(cost_2050)"
   ]
  },
  {
   "cell_type": "markdown",
   "id": "006c448c",
   "metadata": {},
   "source": [
    "# PEM"
   ]
  },
  {
   "cell_type": "markdown",
   "id": "fd66cdf9",
   "metadata": {},
   "source": [
    "## Boone"
   ]
  },
  {
   "cell_type": "code",
   "execution_count": 67,
   "id": "bc01ead1",
   "metadata": {},
   "outputs": [
    {
     "data": {
      "image/png": "[encoded data removed]",
      "text/plain": [
       "<Figure size 432x288 with 1 Axes>"
      ]
     },
     "metadata": {
      "needs_background": "light"
     },
     "output_type": "display_data"
    },
    {
     "name": "stdout",
     "output_type": "stream",
     "text": [
      "R^2 = 0.4086638804339763\n"
     ]
    }
   ],
   "source": [
    "# data\n",
    "cost = np.array([3986,3986,7363,3986,2887,5106,3050,1878,2549,2524,2326,1343,4012,2745,2914,2387,1976,1641,3818,2494,1432,1790,3580,4047,2381,1197,1874,2381,3047,2381,3332,2366,1316,2366,1183,1518,2248,1420,1543,1834,1597,1479,1183,1479,1361,1194,1071,876,1274,2142])\n",
    "cap = 0.001*np.array([5.182,5.184,5.184,5.205,5.205,5.373,5.373,5.373,5.380,5.387,5.387,6.641,6.641,10.306,10.306,10.306,10.306,10.306,10.306,10.306,10.306,10.306,10.306,11.826,11.826,11.826,11.826,11.826,11.826,11.826,11.826,12.978,12.978,12.978,12.978,12.978,12.978,13.319,13.319,13.319,13.319,13.319,23.511,51.715,51.715,51.715,51.715,51.715,51.715,51.715]) # [MWth]\n",
    "\n",
    "# possibility to add a prediction in 2030 and 2050\n",
    "pred_cost_2030 = 1075\n",
    "pred_cap_2030 = 113.390\n",
    "cost = np.append(cost, pred_cost_2030)\n",
    "cap = np.append(cap, pred_cap_2030)\n",
    "pred_cost_2050 = 550\n",
    "pred_cap_2050 = 668.160\n",
    "cost = np.append(cost, pred_cost_2050)\n",
    "cap = np.append(cap, pred_cap_2050)\n",
    "\n",
    "a = 193.247\n",
    "\n",
    "b = -0.553199\n",
    "\n",
    "c = 10.9326\n",
    "\n",
    "reg = boone(x=cap,a=a,b=b,c=c) # for R^2 computation\n",
    "x_reg = np.logspace(-2.3,3,50)\n",
    "y_reg = boone(x=x_reg,a=a,b=b,c=c) # for plotting\n",
    "\n",
    "plt.plot(cap, cost,'bo',label='data')\n",
    "plt.plot(x_reg, y_reg,'r-',label='regression')\n",
    "plt.loglog()\n",
    "plt.xlabel('Cumulative capacity [GW]')\n",
    "plt.ylabel('Cost [USD_2018/kW]')\n",
    "plt.legend()\n",
    "plt.show()\n",
    "\n",
    "slope, intercept, r_value, p_value, std_err = stats.linregress(cost,reg)\n",
    "\n",
    "r2 = r_value**2 \n",
    "print(\"R^2 = \" + str(r_value**2))"
   ]
  },
  {
   "cell_type": "code",
   "execution_count": 68,
   "id": "08351c53",
   "metadata": {},
   "outputs": [
    {
     "name": "stdout",
     "output_type": "stream",
     "text": [
      "182.37057674254424\n"
     ]
    }
   ],
   "source": [
    "# Testing if the prospective cost stays positive\n",
    "cap_2050 = 668.160\n",
    "cost_2050 = boone(x=cap_2050,a=a,b=b,c=c)\n",
    "print(cost_2050)"
   ]
  },
  {
   "cell_type": "markdown",
   "id": "88e98f89",
   "metadata": {},
   "source": [
    "## Sigmoid (points in 2030 and 2050)"
   ]
  },
  {
   "cell_type": "code",
   "execution_count": 71,
   "id": "8392a22b",
   "metadata": {},
   "outputs": [
    {
     "data": {
      "image/png": "[encoded data removed]",
      "text/plain": [
       "<Figure size 432x288 with 1 Axes>"
      ]
     },
     "metadata": {
      "needs_background": "light"
     },
     "output_type": "display_data"
    },
    {
     "name": "stdout",
     "output_type": "stream",
     "text": [
      "R^2 = 0.4220528441462431\n"
     ]
    }
   ],
   "source": [
    "# data\n",
    "cost = np.array([3986,3986,7363,3986,2887,5106,3050,1878,2549,2524,2326,1343,4012,2745,2914,2387,1976,1641,3818,2494,1432,1790,3580,4047,2381,1197,1874,2381,3047,2381,3332,2366,1316,2366,1183,1518,2248,1420,1543,1834,1597,1479,1183,1479,1361,1194,1071,876,1274,2142])\n",
    "cap = 0.001*np.array([5.182,5.184,5.184,5.205,5.205,5.373,5.373,5.373,5.380,5.387,5.387,6.641,6.641,10.306,10.306,10.306,10.306,10.306,10.306,10.306,10.306,10.306,10.306,11.826,11.826,11.826,11.826,11.826,11.826,11.826,11.826,12.978,12.978,12.978,12.978,12.978,12.978,13.319,13.319,13.319,13.319,13.319,23.511,51.715,51.715,51.715,51.715,51.715,51.715,51.715]) # [MWth]\n",
    "\n",
    "# possibility to add a prediction in 2030 and 2050\n",
    "pred_cost_2030 = 1075\n",
    "pred_cap_2030 = 113.390\n",
    "cost = np.append(cost, pred_cost_2030)\n",
    "cap = np.append(cap, pred_cap_2030)\n",
    "pred_cost_2050 = 550\n",
    "pred_cap_2050 = 668.160\n",
    "cost = np.append(cost, pred_cost_2050)\n",
    "cap = np.append(cap, pred_cap_2050)\n",
    "\n",
    "a = -346.864\n",
    "\n",
    "b = 0.102545\n",
    "\n",
    "c = 259.232\n",
    "\n",
    "d = 4509.56\n",
    "\n",
    "reg = sigmoid(x=cap,a=a,b=b,c=c,d=d) # for R^2 computation\n",
    "x_reg = np.logspace(-2.3,3,50)\n",
    "y_reg = sigmoid(x=x_reg,a=a,b=b,c=c,d=d) # for plotting\n",
    "\n",
    "plt.plot(cap, cost,'bo',label='data')\n",
    "plt.plot(x_reg, y_reg,'r-',label='regression')\n",
    "plt.loglog()\n",
    "plt.xlabel('Cumulative capacity [GW]')\n",
    "plt.ylabel('Cost [USD_2018/kW]')\n",
    "plt.legend()\n",
    "plt.show()\n",
    "\n",
    "slope, intercept, r_value, p_value, std_err = stats.linregress(cost,reg)\n",
    "\n",
    "r2 = r_value**2 \n",
    "print(\"R^2 = \" + str(r_value**2))"
   ]
  },
  {
   "cell_type": "code",
   "execution_count": 72,
   "id": "69e0d523",
   "metadata": {},
   "outputs": [
    {
     "name": "stdout",
     "output_type": "stream",
     "text": [
      "1127.0059993173736\n"
     ]
    }
   ],
   "source": [
    "# Testing if the prospective cost stays positive\n",
    "cap_2050 = 668.160\n",
    "cost_2050 = sigmoid(x=cap_2050,a=a,b=b,c=c,d=d)\n",
    "print(cost_2050)"
   ]
  },
  {
   "cell_type": "markdown",
   "id": "85491804",
   "metadata": {},
   "source": [
    "## Sigmoid (point in 2030)"
   ]
  },
  {
   "cell_type": "code",
   "execution_count": 246,
   "id": "2e882bdc",
   "metadata": {},
   "outputs": [
    {
     "data": {
      "image/png": "[encoded data removed]",
      "text/plain": [
       "<Figure size 432x288 with 1 Axes>"
      ]
     },
     "metadata": {
      "needs_background": "light"
     },
     "output_type": "display_data"
    },
    {
     "name": "stdout",
     "output_type": "stream",
     "text": [
      "R^2 = 0.4098861480941909\n"
     ]
    }
   ],
   "source": [
    "# data\n",
    "cost = np.array([3986,3986,7363,3986,2887,5106,3050,1878,2549,2524,2326,1343,4012,2745,2914,2387,1976,1641,3818,2494,1432,1790,3580,4047,2381,1197,1874,2381,3047,2381,3332,2366,1316,2366,1183,1518,2248,1420,1543,1834,1597,1479,1183,1479,1361,1194,1071,876,1274,2142])\n",
    "cap = 0.001*np.array([5.182,5.184,5.184,5.205,5.205,5.373,5.373,5.373,5.380,5.387,5.387,6.641,6.641,10.306,10.306,10.306,10.306,10.306,10.306,10.306,10.306,10.306,10.306,11.826,11.826,11.826,11.826,11.826,11.826,11.826,11.826,12.978,12.978,12.978,12.978,12.978,12.978,13.319,13.319,13.319,13.319,13.319,23.511,51.715,51.715,51.715,51.715,51.715,51.715,51.715]) # [MWth]\n",
    "\n",
    "# possibility to add a prediction in 2050\n",
    "pred_cost_2050 = 550\n",
    "pred_cap_2050 = 668.160\n",
    "cost = np.append(cost, pred_cost_2050)\n",
    "cap = np.append(cap, pred_cap_2050)\n",
    "\n",
    "a = -346.864\n",
    "\n",
    "b = 0.102545\n",
    "\n",
    "c = 259.232\n",
    "\n",
    "d = 4509.56\n",
    "\n",
    "reg = sigmoid(x=cap,a=a,b=b,c=c,d=d) # for R^2 computation\n",
    "x_reg = np.logspace(-2.3,3,50)\n",
    "y_reg = sigmoid(x=x_reg,a=a,b=b,c=c,d=d) # for plotting\n",
    "\n",
    "plt.plot(cap, cost,'bo',label='data')\n",
    "plt.plot(x_reg, y_reg,'r-',label='regression')\n",
    "plt.loglog()\n",
    "plt.xlabel('Cumulative capacity [GW]')\n",
    "plt.ylabel('Cost [USD_2018/kW]')\n",
    "plt.legend()\n",
    "plt.show()\n",
    "\n",
    "slope, intercept, r_value, p_value, std_err = stats.linregress(cost,reg)\n",
    "\n",
    "r2 = r_value**2 \n",
    "print(\"R^2 = \" + str(r_value**2))"
   ]
  },
  {
   "cell_type": "code",
   "execution_count": 247,
   "id": "8787ce5a",
   "metadata": {},
   "outputs": [
    {
     "name": "stdout",
     "output_type": "stream",
     "text": [
      "1127.0059993173736\n"
     ]
    }
   ],
   "source": [
    "# Testing if the prospective cost stays positive\n",
    "cap_2050 = 668.160\n",
    "cost_2050 = sigmoid(x=cap_2050,a=a,b=b,c=c,d=d)\n",
    "print(cost_2050)"
   ]
  },
  {
   "cell_type": "markdown",
   "id": "465affff",
   "metadata": {},
   "source": [
    "## Plateau"
   ]
  },
  {
   "cell_type": "code",
   "execution_count": 248,
   "id": "df7a14d8",
   "metadata": {},
   "outputs": [
    {
     "data": {
      "image/png": "[encoded data removed]",
      "text/plain": [
       "<Figure size 432x288 with 1 Axes>"
      ]
     },
     "metadata": {
      "needs_background": "light"
     },
     "output_type": "display_data"
    },
    {
     "name": "stdout",
     "output_type": "stream",
     "text": [
      "R^2 = 0.4242006829915323\n"
     ]
    }
   ],
   "source": [
    "# data\n",
    "cost = np.array([3986,3986,7363,3986,2887,5106,3050,1878,2549,2524,2326,1343,4012,2745,2914,2387,1976,1641,3818,2494,1432,1790,3580,4047,2381,1197,1874,2381,3047,2381,3332,2366,1316,2366,1183,1518,2248,1420,1543,1834,1597,1479,1183,1479,1361,1194,1071,876,1274,2142])\n",
    "cap = 0.001*np.array([5.182,5.184,5.184,5.205,5.205,5.373,5.373,5.373,5.380,5.387,5.387,6.641,6.641,10.306,10.306,10.306,10.306,10.306,10.306,10.306,10.306,10.306,10.306,11.826,11.826,11.826,11.826,11.826,11.826,11.826,11.826,12.978,12.978,12.978,12.978,12.978,12.978,13.319,13.319,13.319,13.319,13.319,23.511,51.715,51.715,51.715,51.715,51.715,51.715,51.715]) # [MWth]\n",
    "\n",
    "# possibility to add a prediction in 2030 and 2050\n",
    "pred_cost_2030 = 1075\n",
    "pred_cap_2030 = 113.390\n",
    "cost = np.append(cost, pred_cost_2030)\n",
    "cap = np.append(cap, pred_cap_2030)\n",
    "pred_cost_2050 = 550\n",
    "pred_cap_2050 = 668.160\n",
    "cost = np.append(cost, pred_cost_2050)\n",
    "cap = np.append(cap, pred_cap_2050)\n",
    "\n",
    "a = 724.992\n",
    "\n",
    "b = -0.842111\n",
    "\n",
    "c = 34.5706\n",
    "\n",
    "reg = plateau(x=cap,a=a,b=b,c=c) # for R^2 computation\n",
    "x_reg = np.logspace(-2.3,3,50)\n",
    "y_reg = plateau(x=x_reg,a=a,b=b,c=c) # for plotting\n",
    "\n",
    "plt.plot(cap, cost,'bo',label='data')\n",
    "plt.plot(x_reg, y_reg,'r-',label='regression')\n",
    "plt.loglog()\n",
    "plt.xlabel('Cumulative capacity [GW]')\n",
    "plt.ylabel('Cost [USD_2018/kW]')\n",
    "plt.legend()\n",
    "plt.show()\n",
    "\n",
    "slope, intercept, r_value, p_value, std_err = stats.linregress(cost,reg)\n",
    "\n",
    "r2 = r_value**2 \n",
    "print(\"R^2 = \" + str(r_value**2))"
   ]
  },
  {
   "cell_type": "code",
   "execution_count": 249,
   "id": "eb5279be",
   "metadata": {},
   "outputs": [
    {
     "name": "stdout",
     "output_type": "stream",
     "text": [
      "725.1364920648725\n"
     ]
    }
   ],
   "source": [
    "# Testing if the prospective cost stays positive\n",
    "cap_2050 = 668.160\n",
    "cost_2050 = plateau(x=cap_2050,a=a,b=b,c=c)\n",
    "print(cost_2050)"
   ]
  },
  {
   "cell_type": "markdown",
   "id": "ad21b11a",
   "metadata": {},
   "source": [
    "## S-curve"
   ]
  },
  {
   "cell_type": "code",
   "execution_count": 250,
   "id": "2bf02b1c",
   "metadata": {},
   "outputs": [
    {
     "data": {
      "image/png": "[encoded data removed]",
      "text/plain": [
       "<Figure size 432x288 with 1 Axes>"
      ]
     },
     "metadata": {
      "needs_background": "light"
     },
     "output_type": "display_data"
    },
    {
     "name": "stdout",
     "output_type": "stream",
     "text": [
      "R^2 = 0.4257571509692672\n"
     ]
    }
   ],
   "source": [
    "# data\n",
    "cost = np.array([3986,3986,7363,3986,2887,5106,3050,1878,2549,2524,2326,1343,4012,2745,2914,2387,1976,1641,3818,2494,1432,1790,3580,4047,2381,1197,1874,2381,3047,2381,3332,2366,1316,2366,1183,1518,2248,1420,1543,1834,1597,1479,1183,1479,1361,1194,1071,876,1274,2142])\n",
    "cap = 0.001*np.array([5.182,5.184,5.184,5.205,5.205,5.373,5.373,5.373,5.380,5.387,5.387,6.641,6.641,10.306,10.306,10.306,10.306,10.306,10.306,10.306,10.306,10.306,10.306,11.826,11.826,11.826,11.826,11.826,11.826,11.826,11.826,12.978,12.978,12.978,12.978,12.978,12.978,13.319,13.319,13.319,13.319,13.319,23.511,51.715,51.715,51.715,51.715,51.715,51.715,51.715]) # [MWth]\n",
    "\n",
    "# possibility to add a prediction in 2030 and 2050\n",
    "pred_cost_2030 = 1075\n",
    "pred_cap_2030 = 113.390\n",
    "cost = np.append(cost, pred_cost_2030)\n",
    "cap = np.append(cap, pred_cap_2030)\n",
    "pred_cost_2050 = 550\n",
    "pred_cap_2050 = 668.160\n",
    "cost = np.append(cost, pred_cost_2050)\n",
    "cap = np.append(cap, pred_cap_2050)\n",
    "\n",
    "a = -0.0031024\n",
    "\n",
    "b = -0.446522\n",
    "\n",
    "c = 648.199\n",
    "\n",
    "m = 0.682924\n",
    "\n",
    "reg = s_curve(x=cap,a=a,b=b,c=c,m=m) # for R^2 computation\n",
    "x_reg = np.logspace(-2.3,3,50)\n",
    "y_reg = s_curve(x=x_reg,a=a,b=b,c=c,m=m) # for plotting\n",
    "\n",
    "plt.plot(cap, cost,'bo',label='data')\n",
    "plt.plot(x_reg, y_reg,'r-',label='regression')\n",
    "plt.loglog()\n",
    "plt.xlabel('Cumulative capacity [GW]')\n",
    "plt.ylabel('Cost [USD_2018/kW]')\n",
    "plt.legend()\n",
    "plt.show()\n",
    "\n",
    "slope, intercept, r_value, p_value, std_err = stats.linregress(cost,reg)\n",
    "\n",
    "r2 = r_value**2 \n",
    "print(\"R^2 = \" + str(r_value**2))"
   ]
  },
  {
   "cell_type": "code",
   "execution_count": 251,
   "id": "d3c15823",
   "metadata": {},
   "outputs": [
    {
     "name": "stdout",
     "output_type": "stream",
     "text": [
      "453.9296935510591\n"
     ]
    }
   ],
   "source": [
    "# Testing if the prospective cost stays positive\n",
    "cap_2050 = 668.160\n",
    "cost_2050 = s_curve(x=cap_2050,a=a,b=b,c=c,m=m)\n",
    "print(cost_2050)"
   ]
  },
  {
   "cell_type": "markdown",
   "id": "4eb7d8bd",
   "metadata": {},
   "source": [
    "# SOEC"
   ]
  },
  {
   "cell_type": "markdown",
   "id": "022ec680",
   "metadata": {},
   "source": [
    "## Boone"
   ]
  },
  {
   "cell_type": "code",
   "execution_count": 252,
   "id": "b5c855cf",
   "metadata": {},
   "outputs": [
    {
     "data": {
      "image/png": "[encoded data removed]",
      "text/plain": [
       "<Figure size 432x288 with 1 Axes>"
      ]
     },
     "metadata": {
      "needs_background": "light"
     },
     "output_type": "display_data"
    },
    {
     "name": "stdout",
     "output_type": "stream",
     "text": [
      "R^2 = 0.5330361144864605\n"
     ]
    }
   ],
   "source": [
    "# data\n",
    "cost = np.array([14443,2614,9027,5416,2428,2407,714,1133])\n",
    "cap = 0.001*np.array([0.06045,0.06045,0.1271,0.323175,0.471541,1.173691,1.173691,1.173691])\n",
    "\n",
    "# possibility to add a prediction in 2050\n",
    "#pred_cost_2030 = 1300\n",
    "#pred_cap_2030 = 85638\n",
    "#cost = np.append(cost, pred_cost_2030)\n",
    "#cap = np.append(cap, pred_cap_2030)\n",
    "pred_cost_2050 = 750\n",
    "pred_cap_2050 = 837\n",
    "cost = np.append(cost, pred_cost_2050)\n",
    "cap = np.append(cap, pred_cap_2050)\n",
    "\n",
    "a = 624.378\n",
    "\n",
    "b = -0.287499\n",
    "\n",
    "c = 0.00165483\n",
    "\n",
    "reg = boone(x=cap,a=a,b=b,c=c) # for R^2 computation\n",
    "x_reg = np.logspace(-4,3,50)\n",
    "y_reg = boone(x=x_reg,a=a,b=b,c=c) # for plotting\n",
    "\n",
    "plt.plot(cap, cost,'bo',label='data')\n",
    "plt.plot(x_reg, y_reg,'r-',label='regression')\n",
    "plt.loglog()\n",
    "plt.xlabel('Cumulative capacity [GW]')\n",
    "plt.ylabel('Cost [USD_2018/kW]')\n",
    "plt.legend()\n",
    "plt.show()\n",
    "slope, intercept, r_value, p_value, std_err = stats.linregress(cost,reg)\n",
    "\n",
    "r2 = r_value**2 \n",
    "print(\"R^2 = \" + str(r_value**2))"
   ]
  },
  {
   "cell_type": "code",
   "execution_count": 253,
   "id": "af2f1408",
   "metadata": {},
   "outputs": [
    {
     "name": "stdout",
     "output_type": "stream",
     "text": [
      "624.3756115625066\n"
     ]
    }
   ],
   "source": [
    "# Testing if the prospective cost stays positive\n",
    "cap_2050 = 837\n",
    "cost_2050 = boone(x=cap_2050,a=a,b=b,c=c)\n",
    "print(cost_2050)"
   ]
  },
  {
   "cell_type": "markdown",
   "id": "257c988c",
   "metadata": {},
   "source": [
    "## Sigmoid"
   ]
  },
  {
   "cell_type": "code",
   "execution_count": 73,
   "id": "7a12e031",
   "metadata": {},
   "outputs": [
    {
     "data": {
      "image/png": "[encoded data removed]",
      "text/plain": [
       "<Figure size 432x288 with 1 Axes>"
      ]
     },
     "metadata": {
      "needs_background": "light"
     },
     "output_type": "display_data"
    },
    {
     "name": "stdout",
     "output_type": "stream",
     "text": [
      "R^2 = 0.579816064783785\n"
     ]
    }
   ],
   "source": [
    "# data\n",
    "cost = np.array([14443,2614,9027,5416,2428,2407,714,1133])\n",
    "cap = 0.001*np.array([0.06045,0.06045,0.1271,0.323175,0.471541,1.173691,1.173691,1.173691])\n",
    "\n",
    "# possibility to add a prediction in 2050\n",
    "#pred_cost_2030 = 1300\n",
    "#pred_cap_2030 = 85638\n",
    "#cost = np.append(cost, pred_cost_2030)\n",
    "#cap = np.append(cap, pred_cap_2030)\n",
    "pred_cost_2050 = 750\n",
    "pred_cap_2050 = 837\n",
    "cost = np.append(cost, pred_cost_2050)\n",
    "cap = np.append(cap, pred_cap_2050)\n",
    "\n",
    "a = -62.0136\n",
    "\n",
    "b = 0.0081406\n",
    "\n",
    "c = 14141.1\n",
    "\n",
    "d = 8887.5\n",
    "\n",
    "reg = sigmoid(x=cap,a=a,b=b,c=c,d=d) # for R^2 computation\n",
    "x_reg = np.logspace(-4,3,50)\n",
    "y_reg = sigmoid(x=x_reg,a=a,b=b,c=c,d=d) # for plotting\n",
    "\n",
    "plt.plot(cap, cost,'bo',label='data')\n",
    "plt.plot(x_reg, y_reg,'r-',label='regression')\n",
    "plt.loglog()\n",
    "plt.xlabel('Cumulative capacity [GW]')\n",
    "plt.ylabel('Cost [USD_2018/kW]')\n",
    "plt.legend()\n",
    "plt.show()\n",
    "\n",
    "slope, intercept, r_value, p_value, std_err = stats.linregress(cost,reg)\n",
    "\n",
    "r2 = r_value**2 \n",
    "print(\"R^2 = \" + str(r_value**2))"
   ]
  },
  {
   "cell_type": "code",
   "execution_count": 74,
   "id": "807a4cee",
   "metadata": {},
   "outputs": [
    {
     "name": "stdout",
     "output_type": "stream",
     "text": [
      "1269.6831314645115\n"
     ]
    }
   ],
   "source": [
    "# Testing if the prospective cost stays positive\n",
    "cap_2050 = 837\n",
    "cost_2050 = sigmoid(x=cap_2050,a=a,b=b,c=c,d=d)\n",
    "print(cost_2050)"
   ]
  },
  {
   "cell_type": "markdown",
   "id": "1b7f8142",
   "metadata": {},
   "source": [
    "## Plateau"
   ]
  },
  {
   "cell_type": "code",
   "execution_count": 87,
   "id": "d109079b",
   "metadata": {
    "scrolled": true
   },
   "outputs": [
    {
     "data": {
      "image/png": "[encoded data removed]",
      "text/plain": [
       "<Figure size 432x288 with 1 Axes>"
      ]
     },
     "metadata": {
      "needs_background": "light"
     },
     "output_type": "display_data"
    },
    {
     "name": "stdout",
     "output_type": "stream",
     "text": [
      "R^2 = 0.5097973483344221\n"
     ]
    }
   ],
   "source": [
    "# data\n",
    "cost = np.array([14443,2614,9027,5416,2428,2407,714,1133])\n",
    "cap = 0.001*np.array([0.06045,0.06045,0.1271,0.323175,0.471541,1.173691,1.173691,1.173691])\n",
    "\n",
    "# possibility to add a prediction in 2050\n",
    "#pred_cost_2030 = 1300\n",
    "#pred_cap_2030 = 85638\n",
    "#cost = np.append(cost, pred_cost_2030)\n",
    "#cap = np.append(cap, pred_cap_2030)\n",
    "pred_cost_2050 = 750\n",
    "pred_cap_2050 = 837\n",
    "cost = np.append(cost, pred_cost_2050)\n",
    "cap = np.append(cap, pred_cap_2050)\n",
    "\n",
    "# restricted a >= 0 to get acceptable result\n",
    "a = 1e-06\n",
    "\n",
    "b = -0.488512\n",
    "\n",
    "c = 80.6031\n",
    "\n",
    "reg = plateau(x=cap,a=a,b=b,c=c) # for R^2 computation\n",
    "x_reg = np.logspace(-4,3,50)\n",
    "y_reg = plateau(x=x_reg,a=a,b=b,c=c) # for plotting\n",
    "\n",
    "plt.plot(cap, cost,'bo',label='data')\n",
    "plt.plot(x_reg, y_reg,'r-',label='regression')\n",
    "plt.loglog()\n",
    "plt.xlabel('Cumulative capacity [GW]')\n",
    "plt.ylabel('Cost [USD_2018/kW]')\n",
    "plt.legend()\n",
    "plt.show()\n",
    "\n",
    "slope, intercept, r_value, p_value, std_err = stats.linregress(cost,reg)\n",
    "\n",
    "r2 = r_value**2 \n",
    "print(\"R^2 = \" + str(r_value**2))"
   ]
  },
  {
   "cell_type": "code",
   "execution_count": 76,
   "id": "4823800a",
   "metadata": {},
   "outputs": [
    {
     "name": "stdout",
     "output_type": "stream",
     "text": [
      "3.0099926178469856\n"
     ]
    }
   ],
   "source": [
    "# Testing if the prospective cost stays positive\n",
    "cap_2050 = 837\n",
    "cost_2050 = plateau(x=cap_2050,a=a,b=b,c=c)\n",
    "print(cost_2050)"
   ]
  },
  {
   "cell_type": "markdown",
   "id": "528027c9",
   "metadata": {},
   "source": [
    "## S-curve"
   ]
  },
  {
   "cell_type": "code",
   "execution_count": 88,
   "id": "76ae7b4b",
   "metadata": {},
   "outputs": [
    {
     "data": {
      "image/png": "[encoded data removed]",
      "text/plain": [
       "<Figure size 432x288 with 1 Axes>"
      ]
     },
     "metadata": {
      "needs_background": "light"
     },
     "output_type": "display_data"
    },
    {
     "name": "stdout",
     "output_type": "stream",
     "text": [
      "R^2 = 0.509264654509726\n"
     ]
    }
   ],
   "source": [
    "# data\n",
    "cost = np.array([14443,2614,9027,5416,2428,2407,714,1133])\n",
    "cap = 0.001*np.array([0.06045,0.06045,0.1271,0.323175,0.471541,1.173691,1.173691,1.173691])\n",
    "\n",
    "# possibility to add a prediction in 2050\n",
    "#pred_cost_2030 = 1300\n",
    "#pred_cap_2030 = 85638\n",
    "#cost = np.append(cost, pred_cost_2030)\n",
    "#cap = np.append(cap, pred_cap_2030)\n",
    "pred_cost_2050 = 750\n",
    "pred_cap_2050 = 837\n",
    "cost = np.append(cost, pred_cost_2050)\n",
    "cap = np.append(cap, pred_cap_2050)\n",
    "\n",
    "a = -1e-06\n",
    "\n",
    "b = -0.486013\n",
    "\n",
    "c = 82.7688\n",
    "\n",
    "m = 0.01\n",
    "\n",
    "reg = s_curve(x=cap,a=a,b=b,c=c,m=m) # for R^2\n",
    "x_reg = np.logspace(-4, 3, 50)\n",
    "y_reg = s_curve(x=x_reg,a=a,b=b,c=c,m=m) # for plotting\n",
    "\n",
    "plt.plot(cap, cost,'bo',label='data')\n",
    "plt.plot(x_reg, y_reg,'r-',label='regression')\n",
    "plt.loglog()\n",
    "plt.xlabel('Cumulative capacity [GW]')\n",
    "plt.ylabel('Cost [USD_2018/kW]')\n",
    "plt.legend()\n",
    "plt.show()\n",
    "\n",
    "slope, intercept, r_value, p_value, std_err = stats.linregress(cost,reg)\n",
    "\n",
    "r2 = r_value**2 \n",
    "print(\"R^2 = \" + str(r_value**2))"
   ]
  },
  {
   "cell_type": "code",
   "execution_count": 89,
   "id": "e5ee770c",
   "metadata": {},
   "outputs": [
    {
     "name": "stdout",
     "output_type": "stream",
     "text": [
      "3.9395425212154924\n"
     ]
    }
   ],
   "source": [
    "# Testing if the prospective cost stays positive\n",
    "cap_2050 = 837\n",
    "cost_2050 = s_curve(x=cap_2050,a=a,b=b,c=c,m=m)\n",
    "print(cost_2050)"
   ]
  },
  {
   "cell_type": "code",
   "execution_count": null,
   "id": "1c5c043f",
   "metadata": {},
   "outputs": [],
   "source": []
  }
 ],
 "metadata": {
  "kernelspec": {
   "display_name": "Python 3 (ipykernel)",
   "language": "python",
   "name": "python3"
  },
  "language_info": {
   "codemirror_mode": {
    "name": "ipython",
    "version": 3
   },
   "file_extension": ".py",
   "mimetype": "text/x-python",
   "name": "python",
   "nbconvert_exporter": "python",
   "pygments_lexer": "ipython3",
   "version": "3.10.7"
  },
  "toc": {
   "base_numbering": 1,
   "nav_menu": {},
   "number_sections": true,
   "sideBar": true,
   "skip_h1_title": false,
   "title_cell": "Table of Contents",
   "title_sidebar": "Contents",
   "toc_cell": true,
   "toc_position": {
    "height": "calc(100% - 180px)",
    "left": "10px",
    "top": "150px",
    "width": "177px"
   },
   "toc_section_display": true,
   "toc_window_display": true
  }
 },
 "nbformat": 4,
 "nbformat_minor": 5
}
